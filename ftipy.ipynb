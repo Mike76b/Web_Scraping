{
 "cells": [
  {
   "cell_type": "code",
   "execution_count": 1,
   "metadata": {},
   "outputs": [],
   "source": [
    "import requests\n",
    "import pandas as pd\n",
    "from requests_html import HTML, HTMLSession\n",
    "from pandas.io.json import json_normalize\n",
    "import datetime\n",
    "import time"
   ]
  },
  {
   "cell_type": "code",
   "execution_count": 2,
   "metadata": {},
   "outputs": [
    {
     "name": "stdout",
     "output_type": "stream",
     "text": [
      "2019/5/12/\n"
     ]
    }
   ],
   "source": [
    "curr = datetime.datetime.today()#.strftime('%Y/%m/%d')\n",
    "diff = datetime.timedelta(days = 2)\n",
    "result = curr - diff\n",
    "year = str(int(result.strftime('%Y/%m/%d')[:4]))\n",
    "month = str(int(result.strftime('%Y/%m/%d')[5:7]))\n",
    "day = str(int(result.strftime('%Y/%m/%d')[8:10]))\n",
    "print(f'{year}/{month}/{day}/')"
   ]
  },
  {
   "cell_type": "code",
   "execution_count": 3,
   "metadata": {},
   "outputs": [],
   "source": [
    "# second https://www.flightstats.com/v2/flight-tracker/IB/6824?year=2019&month=5&date=7"
   ]
  },
  {
   "cell_type": "code",
   "execution_count": 4,
   "metadata": {},
   "outputs": [],
   "source": [
    "base_url = 'https://www.flightstats.com/v2/api-next/flight-tracker/arr/MAD/'#2019/5/7/6'"
   ]
  },
  {
   "cell_type": "code",
   "execution_count": 5,
   "metadata": {},
   "outputs": [
    {
     "name": "stdout",
     "output_type": "stream",
     "text": [
      "['https://www.flightstats.com/v2/api-next/flight-tracker/arr/MAD/2019/5/12/0', 'https://www.flightstats.com/v2/api-next/flight-tracker/arr/MAD/2019/5/12/6', 'https://www.flightstats.com/v2/api-next/flight-tracker/arr/MAD/2019/5/12/12', 'https://www.flightstats.com/v2/api-next/flight-tracker/arr/MAD/2019/5/12/18']\n"
     ]
    }
   ],
   "source": [
    "current_date = datetime.datetime.today()\n",
    "back_in_time = current_date - datetime.timedelta(days = 2) # the queries dates must be two days before the current day.\n",
    "\n",
    "year = str(int(result.strftime('%Y/%m/%d')[:4]))\n",
    "month = str(int(result.strftime('%Y/%m/%d')[5:7]))\n",
    "day = str(int(result.strftime('%Y/%m/%d')[8:10]))\n",
    "\n",
    "date_of_query = f'{year}/{month}/{day}/'\n",
    "session = HTMLSession()\n",
    "headers = {'User-Agent': 'Mozilla/5.0 (Windows NT 10.0; Win64; x64) AppleWebKit/537.36 (KHTML, like Gecko) Chrome/73.0.3683.103 Safari/537.36'}\n",
    "url_list = []\n",
    "hours = (0, 6, 12, 18) # <-- hours groups values to iterate over.\n",
    "for hour in hours:\n",
    "    url_list.append(f'{base_url}{date_of_query}{str(hour)}')\n",
    "print(url_list)"
   ]
  },
  {
   "cell_type": "code",
   "execution_count": 6,
   "metadata": {},
   "outputs": [
    {
     "name": "stdout",
     "output_type": "stream",
     "text": [
      "2019-05-14 21:44:05.556041\n",
      "2019-05-14 21:44:32.491039\n"
     ]
    }
   ],
   "source": [
    "print(datetime.datetime.today())\n",
    "\n",
    "jsonData = requests.get(url_list[0], headers=headers).json()\n",
    "h0_full_json_df = json_normalize(jsonData['data']['flights'])\n",
    "time.sleep(5)\n",
    "\n",
    "jsonData = requests.get(url_list[1], headers=headers).json()\n",
    "h6_full_json_df = json_normalize(jsonData['data']['flights'])\n",
    "time.sleep(8)\n",
    "\n",
    "jsonData = requests.get(url_list[2], headers=headers).json()\n",
    "h12_full_json_df = json_normalize(jsonData['data']['flights'])\n",
    "time.sleep(6)\n",
    "\n",
    "jsonData = requests.get(url_list[3], headers=headers).json()\n",
    "h18_full_json_df = json_normalize(jsonData['data']['flights'])\n",
    "\n",
    "print(datetime.datetime.today())"
   ]
  },
  {
   "cell_type": "code",
   "execution_count": 7,
   "metadata": {
    "scrolled": true
   },
   "outputs": [
    {
     "name": "stdout",
     "output_type": "stream",
     "text": [
      "(29, 13)\n"
     ]
    },
    {
     "data": {
      "text/html": [
       "<div>\n",
       "<style scoped>\n",
       "    .dataframe tbody tr th:only-of-type {\n",
       "        vertical-align: middle;\n",
       "    }\n",
       "\n",
       "    .dataframe tbody tr th {\n",
       "        vertical-align: top;\n",
       "    }\n",
       "\n",
       "    .dataframe thead th {\n",
       "        text-align: right;\n",
       "    }\n",
       "</style>\n",
       "<table border=\"1\" class=\"dataframe\">\n",
       "  <thead>\n",
       "    <tr style=\"text-align: right;\">\n",
       "      <th></th>\n",
       "      <th>airport.city</th>\n",
       "      <th>airport.fs</th>\n",
       "      <th>arrivalTime.time24</th>\n",
       "      <th>arrivalTime.timeAMPM</th>\n",
       "      <th>carrier.flightNumber</th>\n",
       "      <th>carrier.fs</th>\n",
       "      <th>carrier.name</th>\n",
       "      <th>departureTime.time24</th>\n",
       "      <th>departureTime.timeAMPM</th>\n",
       "      <th>isCodeshare</th>\n",
       "      <th>operatedBy</th>\n",
       "      <th>sortTime</th>\n",
       "      <th>url</th>\n",
       "    </tr>\n",
       "  </thead>\n",
       "  <tbody>\n",
       "    <tr>\n",
       "      <th>0</th>\n",
       "      <td>Kiev/Kyiv</td>\n",
       "      <td>KBP</td>\n",
       "      <td>00:10</td>\n",
       "      <td>12:10AM</td>\n",
       "      <td>945</td>\n",
       "      <td>PS</td>\n",
       "      <td>UIA</td>\n",
       "      <td>20:40</td>\n",
       "      <td>8:40PM</td>\n",
       "      <td>NaN</td>\n",
       "      <td>None</td>\n",
       "      <td>2019-05-11T22:10:00.000Z</td>\n",
       "      <td>/flight-tracker/PS/945?year=2019&amp;month=5&amp;date=...</td>\n",
       "    </tr>\n",
       "    <tr>\n",
       "      <th>1</th>\n",
       "      <td>Tenerife</td>\n",
       "      <td>TFN</td>\n",
       "      <td>00:15</td>\n",
       "      <td>12:15AM</td>\n",
       "      <td>3935</td>\n",
       "      <td>I2</td>\n",
       "      <td>Iberia Express</td>\n",
       "      <td>20:30</td>\n",
       "      <td>8:30PM</td>\n",
       "      <td>NaN</td>\n",
       "      <td>None</td>\n",
       "      <td>2019-05-11T22:15:00.000Z</td>\n",
       "      <td>/flight-tracker/I2/3935?year=2019&amp;month=5&amp;date...</td>\n",
       "    </tr>\n",
       "    <tr>\n",
       "      <th>2</th>\n",
       "      <td>Tenerife</td>\n",
       "      <td>TFN</td>\n",
       "      <td>00:15</td>\n",
       "      <td>12:15AM</td>\n",
       "      <td>3935</td>\n",
       "      <td>IB</td>\n",
       "      <td>Iberia</td>\n",
       "      <td>20:30</td>\n",
       "      <td>8:30PM</td>\n",
       "      <td>True</td>\n",
       "      <td>Operated by Iberia Express</td>\n",
       "      <td>2019-05-11T22:15:00.000Z</td>\n",
       "      <td>/flight-tracker/IB/3935?year=2019&amp;month=5&amp;date...</td>\n",
       "    </tr>\n",
       "    <tr>\n",
       "      <th>3</th>\n",
       "      <td>Ibiza</td>\n",
       "      <td>IBZ</td>\n",
       "      <td>00:20</td>\n",
       "      <td>12:20AM</td>\n",
       "      <td>3418</td>\n",
       "      <td>VY</td>\n",
       "      <td>Vueling</td>\n",
       "      <td>23:00</td>\n",
       "      <td>11:00PM</td>\n",
       "      <td>NaN</td>\n",
       "      <td>None</td>\n",
       "      <td>2019-05-11T22:20:00.000Z</td>\n",
       "      <td>/flight-tracker/VY/3418?year=2019&amp;month=5&amp;date...</td>\n",
       "    </tr>\n",
       "    <tr>\n",
       "      <th>4</th>\n",
       "      <td>Ibiza</td>\n",
       "      <td>IBZ</td>\n",
       "      <td>00:20</td>\n",
       "      <td>12:20AM</td>\n",
       "      <td>5313</td>\n",
       "      <td>IB</td>\n",
       "      <td>Iberia</td>\n",
       "      <td>23:00</td>\n",
       "      <td>11:00PM</td>\n",
       "      <td>True</td>\n",
       "      <td>Operated by Vueling 3418</td>\n",
       "      <td>2019-05-11T22:20:00.000Z</td>\n",
       "      <td>/flight-tracker/IB/5313?year=2019&amp;month=5&amp;date...</td>\n",
       "    </tr>\n",
       "  </tbody>\n",
       "</table>\n",
       "</div>"
      ],
      "text/plain": [
       "  airport.city airport.fs arrivalTime.time24 arrivalTime.timeAMPM  \\\n",
       "0    Kiev/Kyiv        KBP              00:10              12:10AM   \n",
       "1     Tenerife        TFN              00:15              12:15AM   \n",
       "2     Tenerife        TFN              00:15              12:15AM   \n",
       "3        Ibiza        IBZ              00:20              12:20AM   \n",
       "4        Ibiza        IBZ              00:20              12:20AM   \n",
       "\n",
       "  carrier.flightNumber carrier.fs    carrier.name departureTime.time24  \\\n",
       "0                  945         PS             UIA                20:40   \n",
       "1                 3935         I2  Iberia Express                20:30   \n",
       "2                 3935         IB          Iberia                20:30   \n",
       "3                 3418         VY         Vueling                23:00   \n",
       "4                 5313         IB          Iberia                23:00   \n",
       "\n",
       "  departureTime.timeAMPM isCodeshare                  operatedBy  \\\n",
       "0                 8:40PM         NaN                        None   \n",
       "1                 8:30PM         NaN                        None   \n",
       "2                 8:30PM        True  Operated by Iberia Express   \n",
       "3                11:00PM         NaN                        None   \n",
       "4                11:00PM        True    Operated by Vueling 3418   \n",
       "\n",
       "                   sortTime                                                url  \n",
       "0  2019-05-11T22:10:00.000Z  /flight-tracker/PS/945?year=2019&month=5&date=...  \n",
       "1  2019-05-11T22:15:00.000Z  /flight-tracker/I2/3935?year=2019&month=5&date...  \n",
       "2  2019-05-11T22:15:00.000Z  /flight-tracker/IB/3935?year=2019&month=5&date...  \n",
       "3  2019-05-11T22:20:00.000Z  /flight-tracker/VY/3418?year=2019&month=5&date...  \n",
       "4  2019-05-11T22:20:00.000Z  /flight-tracker/IB/5313?year=2019&month=5&date...  "
      ]
     },
     "execution_count": 7,
     "metadata": {},
     "output_type": "execute_result"
    }
   ],
   "source": [
    "print(h0_full_json_df.shape)\n",
    "h0_full_json_df.head()"
   ]
  },
  {
   "cell_type": "code",
   "execution_count": 8,
   "metadata": {
    "scrolled": true
   },
   "outputs": [
    {
     "name": "stdout",
     "output_type": "stream",
     "text": [
      "(528, 13)\n"
     ]
    },
    {
     "data": {
      "text/html": [
       "<div>\n",
       "<style scoped>\n",
       "    .dataframe tbody tr th:only-of-type {\n",
       "        vertical-align: middle;\n",
       "    }\n",
       "\n",
       "    .dataframe tbody tr th {\n",
       "        vertical-align: top;\n",
       "    }\n",
       "\n",
       "    .dataframe thead th {\n",
       "        text-align: right;\n",
       "    }\n",
       "</style>\n",
       "<table border=\"1\" class=\"dataframe\">\n",
       "  <thead>\n",
       "    <tr style=\"text-align: right;\">\n",
       "      <th></th>\n",
       "      <th>airport.city</th>\n",
       "      <th>airport.fs</th>\n",
       "      <th>arrivalTime.time24</th>\n",
       "      <th>arrivalTime.timeAMPM</th>\n",
       "      <th>carrier.flightNumber</th>\n",
       "      <th>carrier.fs</th>\n",
       "      <th>carrier.name</th>\n",
       "      <th>departureTime.time24</th>\n",
       "      <th>departureTime.timeAMPM</th>\n",
       "      <th>isCodeshare</th>\n",
       "      <th>operatedBy</th>\n",
       "      <th>sortTime</th>\n",
       "      <th>url</th>\n",
       "    </tr>\n",
       "  </thead>\n",
       "  <tbody>\n",
       "    <tr>\n",
       "      <th>0</th>\n",
       "      <td>Sao Paulo</td>\n",
       "      <td>GRU</td>\n",
       "      <td>06:10</td>\n",
       "      <td>6:10AM</td>\n",
       "      <td>6824</td>\n",
       "      <td>IB</td>\n",
       "      <td>Iberia</td>\n",
       "      <td>15:00</td>\n",
       "      <td>3:00PM</td>\n",
       "      <td>NaN</td>\n",
       "      <td>None</td>\n",
       "      <td>2019-05-12T04:10:00.000Z</td>\n",
       "      <td>/flight-tracker/IB/6824?year=2019&amp;month=5&amp;date...</td>\n",
       "    </tr>\n",
       "    <tr>\n",
       "      <th>1</th>\n",
       "      <td>Sao Paulo</td>\n",
       "      <td>GRU</td>\n",
       "      <td>06:10</td>\n",
       "      <td>6:10AM</td>\n",
       "      <td>4246</td>\n",
       "      <td>BA</td>\n",
       "      <td>British Airways</td>\n",
       "      <td>15:00</td>\n",
       "      <td>3:00PM</td>\n",
       "      <td>True</td>\n",
       "      <td>Operated by Iberia 6824</td>\n",
       "      <td>2019-05-12T04:10:00.000Z</td>\n",
       "      <td>/flight-tracker/BA/4246?year=2019&amp;month=5&amp;date...</td>\n",
       "    </tr>\n",
       "    <tr>\n",
       "      <th>2</th>\n",
       "      <td>Sao Paulo</td>\n",
       "      <td>GRU</td>\n",
       "      <td>06:10</td>\n",
       "      <td>6:10AM</td>\n",
       "      <td>9200</td>\n",
       "      <td>LY</td>\n",
       "      <td>El Al</td>\n",
       "      <td>15:00</td>\n",
       "      <td>3:00PM</td>\n",
       "      <td>True</td>\n",
       "      <td>Operated by Iberia 6824</td>\n",
       "      <td>2019-05-12T04:10:00.000Z</td>\n",
       "      <td>/flight-tracker/LY/9200?year=2019&amp;month=5&amp;date...</td>\n",
       "    </tr>\n",
       "    <tr>\n",
       "      <th>3</th>\n",
       "      <td>New York</td>\n",
       "      <td>JFK</td>\n",
       "      <td>06:15</td>\n",
       "      <td>6:15AM</td>\n",
       "      <td>4270</td>\n",
       "      <td>BA</td>\n",
       "      <td>British Airways</td>\n",
       "      <td>17:05</td>\n",
       "      <td>5:05PM</td>\n",
       "      <td>True</td>\n",
       "      <td>Operated by Iberia 6250</td>\n",
       "      <td>2019-05-12T04:15:00.000Z</td>\n",
       "      <td>/flight-tracker/BA/4270?year=2019&amp;month=5&amp;date...</td>\n",
       "    </tr>\n",
       "    <tr>\n",
       "      <th>4</th>\n",
       "      <td>New York</td>\n",
       "      <td>JFK</td>\n",
       "      <td>06:15</td>\n",
       "      <td>6:15AM</td>\n",
       "      <td>5654</td>\n",
       "      <td>AY</td>\n",
       "      <td>Finnair</td>\n",
       "      <td>17:05</td>\n",
       "      <td>5:05PM</td>\n",
       "      <td>True</td>\n",
       "      <td>Operated by Iberia 6250</td>\n",
       "      <td>2019-05-12T04:15:00.000Z</td>\n",
       "      <td>/flight-tracker/AY/5654?year=2019&amp;month=5&amp;date...</td>\n",
       "    </tr>\n",
       "  </tbody>\n",
       "</table>\n",
       "</div>"
      ],
      "text/plain": [
       "  airport.city airport.fs arrivalTime.time24 arrivalTime.timeAMPM  \\\n",
       "0    Sao Paulo        GRU              06:10               6:10AM   \n",
       "1    Sao Paulo        GRU              06:10               6:10AM   \n",
       "2    Sao Paulo        GRU              06:10               6:10AM   \n",
       "3     New York        JFK              06:15               6:15AM   \n",
       "4     New York        JFK              06:15               6:15AM   \n",
       "\n",
       "  carrier.flightNumber carrier.fs     carrier.name departureTime.time24  \\\n",
       "0                 6824         IB           Iberia                15:00   \n",
       "1                 4246         BA  British Airways                15:00   \n",
       "2                 9200         LY            El Al                15:00   \n",
       "3                 4270         BA  British Airways                17:05   \n",
       "4                 5654         AY          Finnair                17:05   \n",
       "\n",
       "  departureTime.timeAMPM isCodeshare               operatedBy  \\\n",
       "0                 3:00PM         NaN                     None   \n",
       "1                 3:00PM        True  Operated by Iberia 6824   \n",
       "2                 3:00PM        True  Operated by Iberia 6824   \n",
       "3                 5:05PM        True  Operated by Iberia 6250   \n",
       "4                 5:05PM        True  Operated by Iberia 6250   \n",
       "\n",
       "                   sortTime                                                url  \n",
       "0  2019-05-12T04:10:00.000Z  /flight-tracker/IB/6824?year=2019&month=5&date...  \n",
       "1  2019-05-12T04:10:00.000Z  /flight-tracker/BA/4246?year=2019&month=5&date...  \n",
       "2  2019-05-12T04:10:00.000Z  /flight-tracker/LY/9200?year=2019&month=5&date...  \n",
       "3  2019-05-12T04:15:00.000Z  /flight-tracker/BA/4270?year=2019&month=5&date...  \n",
       "4  2019-05-12T04:15:00.000Z  /flight-tracker/AY/5654?year=2019&month=5&date...  "
      ]
     },
     "execution_count": 8,
     "metadata": {},
     "output_type": "execute_result"
    }
   ],
   "source": [
    "print(h6_full_json_df.shape)\n",
    "h6_full_json_df.head()"
   ]
  },
  {
   "cell_type": "code",
   "execution_count": 9,
   "metadata": {
    "scrolled": true
   },
   "outputs": [
    {
     "name": "stdout",
     "output_type": "stream",
     "text": [
      "(584, 13)\n"
     ]
    },
    {
     "data": {
      "text/html": [
       "<div>\n",
       "<style scoped>\n",
       "    .dataframe tbody tr th:only-of-type {\n",
       "        vertical-align: middle;\n",
       "    }\n",
       "\n",
       "    .dataframe tbody tr th {\n",
       "        vertical-align: top;\n",
       "    }\n",
       "\n",
       "    .dataframe thead th {\n",
       "        text-align: right;\n",
       "    }\n",
       "</style>\n",
       "<table border=\"1\" class=\"dataframe\">\n",
       "  <thead>\n",
       "    <tr style=\"text-align: right;\">\n",
       "      <th></th>\n",
       "      <th>airport.city</th>\n",
       "      <th>airport.fs</th>\n",
       "      <th>arrivalTime.time24</th>\n",
       "      <th>arrivalTime.timeAMPM</th>\n",
       "      <th>carrier.flightNumber</th>\n",
       "      <th>carrier.fs</th>\n",
       "      <th>carrier.name</th>\n",
       "      <th>departureTime.time24</th>\n",
       "      <th>departureTime.timeAMPM</th>\n",
       "      <th>isCodeshare</th>\n",
       "      <th>operatedBy</th>\n",
       "      <th>sortTime</th>\n",
       "      <th>url</th>\n",
       "    </tr>\n",
       "  </thead>\n",
       "  <tbody>\n",
       "    <tr>\n",
       "      <th>0</th>\n",
       "      <td>Palma Mallorca</td>\n",
       "      <td>PMI</td>\n",
       "      <td>12:00</td>\n",
       "      <td>12:00PM</td>\n",
       "      <td>6811</td>\n",
       "      <td>AM</td>\n",
       "      <td>Aeromexico</td>\n",
       "      <td>10:35</td>\n",
       "      <td>10:35AM</td>\n",
       "      <td>True</td>\n",
       "      <td>Operated by Air Europa 6030</td>\n",
       "      <td>2019-05-12T10:00:00.000Z</td>\n",
       "      <td>/flight-tracker/AM/6811?year=2019&amp;month=5&amp;date...</td>\n",
       "    </tr>\n",
       "    <tr>\n",
       "      <th>1</th>\n",
       "      <td>London</td>\n",
       "      <td>STN</td>\n",
       "      <td>12:00</td>\n",
       "      <td>12:00PM</td>\n",
       "      <td>5994</td>\n",
       "      <td>FR</td>\n",
       "      <td>Ryanair</td>\n",
       "      <td>08:25</td>\n",
       "      <td>8:25AM</td>\n",
       "      <td>NaN</td>\n",
       "      <td>None</td>\n",
       "      <td>2019-05-12T10:00:00.000Z</td>\n",
       "      <td>/flight-tracker/FR/5994?year=2019&amp;month=5&amp;date...</td>\n",
       "    </tr>\n",
       "    <tr>\n",
       "      <th>2</th>\n",
       "      <td>Palma Mallorca</td>\n",
       "      <td>PMI</td>\n",
       "      <td>12:00</td>\n",
       "      <td>12:00PM</td>\n",
       "      <td>2030</td>\n",
       "      <td>ME</td>\n",
       "      <td>Middle East Airlines</td>\n",
       "      <td>10:35</td>\n",
       "      <td>10:35AM</td>\n",
       "      <td>True</td>\n",
       "      <td>Operated by Air Europa 6030</td>\n",
       "      <td>2019-05-12T10:00:00.000Z</td>\n",
       "      <td>/flight-tracker/ME/2030?year=2019&amp;month=5&amp;date...</td>\n",
       "    </tr>\n",
       "    <tr>\n",
       "      <th>3</th>\n",
       "      <td>Palma Mallorca</td>\n",
       "      <td>PMI</td>\n",
       "      <td>12:00</td>\n",
       "      <td>12:00PM</td>\n",
       "      <td>3346</td>\n",
       "      <td>KL</td>\n",
       "      <td>KLM</td>\n",
       "      <td>10:35</td>\n",
       "      <td>10:35AM</td>\n",
       "      <td>True</td>\n",
       "      <td>Operated by Air Europa 6030</td>\n",
       "      <td>2019-05-12T10:00:00.000Z</td>\n",
       "      <td>/flight-tracker/KL/3346?year=2019&amp;month=5&amp;date...</td>\n",
       "    </tr>\n",
       "    <tr>\n",
       "      <th>4</th>\n",
       "      <td>Palma Mallorca</td>\n",
       "      <td>PMI</td>\n",
       "      <td>12:00</td>\n",
       "      <td>12:00PM</td>\n",
       "      <td>2443</td>\n",
       "      <td>AZ</td>\n",
       "      <td>Alitalia</td>\n",
       "      <td>10:35</td>\n",
       "      <td>10:35AM</td>\n",
       "      <td>True</td>\n",
       "      <td>Operated by Air Europa 6030</td>\n",
       "      <td>2019-05-12T10:00:00.000Z</td>\n",
       "      <td>/flight-tracker/AZ/2443?year=2019&amp;month=5&amp;date...</td>\n",
       "    </tr>\n",
       "  </tbody>\n",
       "</table>\n",
       "</div>"
      ],
      "text/plain": [
       "     airport.city airport.fs arrivalTime.time24 arrivalTime.timeAMPM  \\\n",
       "0  Palma Mallorca        PMI              12:00              12:00PM   \n",
       "1          London        STN              12:00              12:00PM   \n",
       "2  Palma Mallorca        PMI              12:00              12:00PM   \n",
       "3  Palma Mallorca        PMI              12:00              12:00PM   \n",
       "4  Palma Mallorca        PMI              12:00              12:00PM   \n",
       "\n",
       "  carrier.flightNumber carrier.fs          carrier.name departureTime.time24  \\\n",
       "0                 6811         AM            Aeromexico                10:35   \n",
       "1                 5994         FR               Ryanair                08:25   \n",
       "2                 2030         ME  Middle East Airlines                10:35   \n",
       "3                 3346         KL                   KLM                10:35   \n",
       "4                 2443         AZ              Alitalia                10:35   \n",
       "\n",
       "  departureTime.timeAMPM isCodeshare                   operatedBy  \\\n",
       "0                10:35AM        True  Operated by Air Europa 6030   \n",
       "1                 8:25AM         NaN                         None   \n",
       "2                10:35AM        True  Operated by Air Europa 6030   \n",
       "3                10:35AM        True  Operated by Air Europa 6030   \n",
       "4                10:35AM        True  Operated by Air Europa 6030   \n",
       "\n",
       "                   sortTime                                                url  \n",
       "0  2019-05-12T10:00:00.000Z  /flight-tracker/AM/6811?year=2019&month=5&date...  \n",
       "1  2019-05-12T10:00:00.000Z  /flight-tracker/FR/5994?year=2019&month=5&date...  \n",
       "2  2019-05-12T10:00:00.000Z  /flight-tracker/ME/2030?year=2019&month=5&date...  \n",
       "3  2019-05-12T10:00:00.000Z  /flight-tracker/KL/3346?year=2019&month=5&date...  \n",
       "4  2019-05-12T10:00:00.000Z  /flight-tracker/AZ/2443?year=2019&month=5&date...  "
      ]
     },
     "execution_count": 9,
     "metadata": {},
     "output_type": "execute_result"
    }
   ],
   "source": [
    "print(h12_full_json_df.shape)\n",
    "h12_full_json_df.head()"
   ]
  },
  {
   "cell_type": "code",
   "execution_count": 10,
   "metadata": {
    "scrolled": true
   },
   "outputs": [
    {
     "name": "stdout",
     "output_type": "stream",
     "text": [
      "(490, 13)\n"
     ]
    },
    {
     "data": {
      "text/html": [
       "<div>\n",
       "<style scoped>\n",
       "    .dataframe tbody tr th:only-of-type {\n",
       "        vertical-align: middle;\n",
       "    }\n",
       "\n",
       "    .dataframe tbody tr th {\n",
       "        vertical-align: top;\n",
       "    }\n",
       "\n",
       "    .dataframe thead th {\n",
       "        text-align: right;\n",
       "    }\n",
       "</style>\n",
       "<table border=\"1\" class=\"dataframe\">\n",
       "  <thead>\n",
       "    <tr style=\"text-align: right;\">\n",
       "      <th></th>\n",
       "      <th>airport.city</th>\n",
       "      <th>airport.fs</th>\n",
       "      <th>arrivalTime.time24</th>\n",
       "      <th>arrivalTime.timeAMPM</th>\n",
       "      <th>carrier.flightNumber</th>\n",
       "      <th>carrier.fs</th>\n",
       "      <th>carrier.name</th>\n",
       "      <th>departureTime.time24</th>\n",
       "      <th>departureTime.timeAMPM</th>\n",
       "      <th>isCodeshare</th>\n",
       "      <th>operatedBy</th>\n",
       "      <th>sortTime</th>\n",
       "      <th>url</th>\n",
       "    </tr>\n",
       "  </thead>\n",
       "  <tbody>\n",
       "    <tr>\n",
       "      <th>0</th>\n",
       "      <td>Porto</td>\n",
       "      <td>OPO</td>\n",
       "      <td>18:00</td>\n",
       "      <td>6:00PM</td>\n",
       "      <td>7413</td>\n",
       "      <td>JU</td>\n",
       "      <td>Air Serbia</td>\n",
       "      <td>15:50</td>\n",
       "      <td>3:50PM</td>\n",
       "      <td>True</td>\n",
       "      <td>Operated by Air Europa 1140</td>\n",
       "      <td>2019-05-12T16:00:00.000Z</td>\n",
       "      <td>/flight-tracker/JU/7413?year=2019&amp;month=5&amp;date...</td>\n",
       "    </tr>\n",
       "    <tr>\n",
       "      <th>1</th>\n",
       "      <td>Munich</td>\n",
       "      <td>MUC</td>\n",
       "      <td>18:00</td>\n",
       "      <td>6:00PM</td>\n",
       "      <td>1804</td>\n",
       "      <td>LH</td>\n",
       "      <td>Lufthansa</td>\n",
       "      <td>15:20</td>\n",
       "      <td>3:20PM</td>\n",
       "      <td>NaN</td>\n",
       "      <td>None</td>\n",
       "      <td>2019-05-12T16:00:00.000Z</td>\n",
       "      <td>/flight-tracker/LH/1804?year=2019&amp;month=5&amp;date...</td>\n",
       "    </tr>\n",
       "    <tr>\n",
       "      <th>2</th>\n",
       "      <td>Seoul</td>\n",
       "      <td>ICN</td>\n",
       "      <td>18:00</td>\n",
       "      <td>6:00PM</td>\n",
       "      <td>3601</td>\n",
       "      <td>UX</td>\n",
       "      <td>Air Europa</td>\n",
       "      <td>11:40</td>\n",
       "      <td>11:40AM</td>\n",
       "      <td>True</td>\n",
       "      <td>Operated by Korean Air 913</td>\n",
       "      <td>2019-05-12T16:00:00.000Z</td>\n",
       "      <td>/flight-tracker/UX/3601?year=2019&amp;month=5&amp;date...</td>\n",
       "    </tr>\n",
       "    <tr>\n",
       "      <th>3</th>\n",
       "      <td>Munich</td>\n",
       "      <td>MUC</td>\n",
       "      <td>18:00</td>\n",
       "      <td>6:00PM</td>\n",
       "      <td>9493</td>\n",
       "      <td>AC</td>\n",
       "      <td>Air Canada</td>\n",
       "      <td>15:20</td>\n",
       "      <td>3:20PM</td>\n",
       "      <td>True</td>\n",
       "      <td>Operated by Lufthansa 1804</td>\n",
       "      <td>2019-05-12T16:00:00.000Z</td>\n",
       "      <td>/flight-tracker/AC/9493?year=2019&amp;month=5&amp;date...</td>\n",
       "    </tr>\n",
       "    <tr>\n",
       "      <th>4</th>\n",
       "      <td>Munich</td>\n",
       "      <td>MUC</td>\n",
       "      <td>18:00</td>\n",
       "      <td>6:00PM</td>\n",
       "      <td>7451</td>\n",
       "      <td>OS</td>\n",
       "      <td>Austrian</td>\n",
       "      <td>15:20</td>\n",
       "      <td>3:20PM</td>\n",
       "      <td>True</td>\n",
       "      <td>Operated by Lufthansa 1804</td>\n",
       "      <td>2019-05-12T16:00:00.000Z</td>\n",
       "      <td>/flight-tracker/OS/7451?year=2019&amp;month=5&amp;date...</td>\n",
       "    </tr>\n",
       "  </tbody>\n",
       "</table>\n",
       "</div>"
      ],
      "text/plain": [
       "  airport.city airport.fs arrivalTime.time24 arrivalTime.timeAMPM  \\\n",
       "0        Porto        OPO              18:00               6:00PM   \n",
       "1       Munich        MUC              18:00               6:00PM   \n",
       "2        Seoul        ICN              18:00               6:00PM   \n",
       "3       Munich        MUC              18:00               6:00PM   \n",
       "4       Munich        MUC              18:00               6:00PM   \n",
       "\n",
       "  carrier.flightNumber carrier.fs carrier.name departureTime.time24  \\\n",
       "0                 7413         JU   Air Serbia                15:50   \n",
       "1                 1804         LH    Lufthansa                15:20   \n",
       "2                 3601         UX   Air Europa                11:40   \n",
       "3                 9493         AC   Air Canada                15:20   \n",
       "4                 7451         OS     Austrian                15:20   \n",
       "\n",
       "  departureTime.timeAMPM isCodeshare                   operatedBy  \\\n",
       "0                 3:50PM        True  Operated by Air Europa 1140   \n",
       "1                 3:20PM         NaN                         None   \n",
       "2                11:40AM        True   Operated by Korean Air 913   \n",
       "3                 3:20PM        True   Operated by Lufthansa 1804   \n",
       "4                 3:20PM        True   Operated by Lufthansa 1804   \n",
       "\n",
       "                   sortTime                                                url  \n",
       "0  2019-05-12T16:00:00.000Z  /flight-tracker/JU/7413?year=2019&month=5&date...  \n",
       "1  2019-05-12T16:00:00.000Z  /flight-tracker/LH/1804?year=2019&month=5&date...  \n",
       "2  2019-05-12T16:00:00.000Z  /flight-tracker/UX/3601?year=2019&month=5&date...  \n",
       "3  2019-05-12T16:00:00.000Z  /flight-tracker/AC/9493?year=2019&month=5&date...  \n",
       "4  2019-05-12T16:00:00.000Z  /flight-tracker/OS/7451?year=2019&month=5&date...  "
      ]
     },
     "execution_count": 10,
     "metadata": {},
     "output_type": "execute_result"
    }
   ],
   "source": [
    "print(h18_full_json_df.shape)\n",
    "h18_full_json_df.head()"
   ]
  },
  {
   "cell_type": "markdown",
   "metadata": {},
   "source": [
    "### ^^ End of gross data info ^^"
   ]
  },
  {
   "cell_type": "markdown",
   "metadata": {},
   "source": [
    "---"
   ]
  },
  {
   "cell_type": "markdown",
   "metadata": {},
   "source": [
    "### Data cleaning \\\\/ \\\\/"
   ]
  },
  {
   "cell_type": "code",
   "execution_count": 11,
   "metadata": {
    "scrolled": true
   },
   "outputs": [
    {
     "name": "stdout",
     "output_type": "stream",
     "text": [
      "(16, 13)\n"
     ]
    },
    {
     "data": {
      "text/html": [
       "<div>\n",
       "<style scoped>\n",
       "    .dataframe tbody tr th:only-of-type {\n",
       "        vertical-align: middle;\n",
       "    }\n",
       "\n",
       "    .dataframe tbody tr th {\n",
       "        vertical-align: top;\n",
       "    }\n",
       "\n",
       "    .dataframe thead th {\n",
       "        text-align: right;\n",
       "    }\n",
       "</style>\n",
       "<table border=\"1\" class=\"dataframe\">\n",
       "  <thead>\n",
       "    <tr style=\"text-align: right;\">\n",
       "      <th></th>\n",
       "      <th>airport.city</th>\n",
       "      <th>airport.fs</th>\n",
       "      <th>arrivalTime.time24</th>\n",
       "      <th>arrivalTime.timeAMPM</th>\n",
       "      <th>carrier.flightNumber</th>\n",
       "      <th>carrier.fs</th>\n",
       "      <th>carrier.name</th>\n",
       "      <th>departureTime.time24</th>\n",
       "      <th>departureTime.timeAMPM</th>\n",
       "      <th>isCodeshare</th>\n",
       "      <th>operatedBy</th>\n",
       "      <th>sortTime</th>\n",
       "      <th>url</th>\n",
       "    </tr>\n",
       "  </thead>\n",
       "  <tbody>\n",
       "    <tr>\n",
       "      <th>0</th>\n",
       "      <td>Kiev/Kyiv</td>\n",
       "      <td>KBP</td>\n",
       "      <td>00:10</td>\n",
       "      <td>12:10AM</td>\n",
       "      <td>945</td>\n",
       "      <td>PS</td>\n",
       "      <td>UIA</td>\n",
       "      <td>20:40</td>\n",
       "      <td>8:40PM</td>\n",
       "      <td>NaN</td>\n",
       "      <td>None</td>\n",
       "      <td>2019-05-11T22:10:00.000Z</td>\n",
       "      <td>/flight-tracker/PS/945?year=2019&amp;month=5&amp;date=...</td>\n",
       "    </tr>\n",
       "    <tr>\n",
       "      <th>1</th>\n",
       "      <td>Tenerife</td>\n",
       "      <td>TFN</td>\n",
       "      <td>00:15</td>\n",
       "      <td>12:15AM</td>\n",
       "      <td>3935</td>\n",
       "      <td>I2</td>\n",
       "      <td>Iberia Express</td>\n",
       "      <td>20:30</td>\n",
       "      <td>8:30PM</td>\n",
       "      <td>NaN</td>\n",
       "      <td>None</td>\n",
       "      <td>2019-05-11T22:15:00.000Z</td>\n",
       "      <td>/flight-tracker/I2/3935?year=2019&amp;month=5&amp;date...</td>\n",
       "    </tr>\n",
       "    <tr>\n",
       "      <th>2</th>\n",
       "      <td>Ibiza</td>\n",
       "      <td>IBZ</td>\n",
       "      <td>00:20</td>\n",
       "      <td>12:20AM</td>\n",
       "      <td>3418</td>\n",
       "      <td>VY</td>\n",
       "      <td>Vueling</td>\n",
       "      <td>23:00</td>\n",
       "      <td>11:00PM</td>\n",
       "      <td>NaN</td>\n",
       "      <td>None</td>\n",
       "      <td>2019-05-11T22:20:00.000Z</td>\n",
       "      <td>/flight-tracker/VY/3418?year=2019&amp;month=5&amp;date...</td>\n",
       "    </tr>\n",
       "    <tr>\n",
       "      <th>3</th>\n",
       "      <td>Bucharest</td>\n",
       "      <td>OTP</td>\n",
       "      <td>00:30</td>\n",
       "      <td>12:30AM</td>\n",
       "      <td>2514</td>\n",
       "      <td>FR</td>\n",
       "      <td>Ryanair</td>\n",
       "      <td>21:30</td>\n",
       "      <td>9:30PM</td>\n",
       "      <td>NaN</td>\n",
       "      <td>None</td>\n",
       "      <td>2019-05-11T22:30:00.000Z</td>\n",
       "      <td>/flight-tracker/FR/2514?year=2019&amp;month=5&amp;date...</td>\n",
       "    </tr>\n",
       "    <tr>\n",
       "      <th>4</th>\n",
       "      <td>Modlin</td>\n",
       "      <td>EPMO</td>\n",
       "      <td>00:30</td>\n",
       "      <td>12:30AM</td>\n",
       "      <td>1063</td>\n",
       "      <td>FR</td>\n",
       "      <td>Ryanair</td>\n",
       "      <td>20:55</td>\n",
       "      <td>8:55PM</td>\n",
       "      <td>NaN</td>\n",
       "      <td>None</td>\n",
       "      <td>2019-05-11T22:30:00.000Z</td>\n",
       "      <td>/flight-tracker/FR/1063?year=2019&amp;month=5&amp;date...</td>\n",
       "    </tr>\n",
       "  </tbody>\n",
       "</table>\n",
       "</div>"
      ],
      "text/plain": [
       "  airport.city airport.fs arrivalTime.time24 arrivalTime.timeAMPM  \\\n",
       "0    Kiev/Kyiv        KBP              00:10              12:10AM   \n",
       "1     Tenerife        TFN              00:15              12:15AM   \n",
       "2        Ibiza        IBZ              00:20              12:20AM   \n",
       "3    Bucharest        OTP              00:30              12:30AM   \n",
       "4       Modlin       EPMO              00:30              12:30AM   \n",
       "\n",
       "  carrier.flightNumber carrier.fs    carrier.name departureTime.time24  \\\n",
       "0                  945         PS             UIA                20:40   \n",
       "1                 3935         I2  Iberia Express                20:30   \n",
       "2                 3418         VY         Vueling                23:00   \n",
       "3                 2514         FR         Ryanair                21:30   \n",
       "4                 1063         FR         Ryanair                20:55   \n",
       "\n",
       "  departureTime.timeAMPM isCodeshare operatedBy                  sortTime  \\\n",
       "0                 8:40PM         NaN       None  2019-05-11T22:10:00.000Z   \n",
       "1                 8:30PM         NaN       None  2019-05-11T22:15:00.000Z   \n",
       "2                11:00PM         NaN       None  2019-05-11T22:20:00.000Z   \n",
       "3                 9:30PM         NaN       None  2019-05-11T22:30:00.000Z   \n",
       "4                 8:55PM         NaN       None  2019-05-11T22:30:00.000Z   \n",
       "\n",
       "                                                 url  \n",
       "0  /flight-tracker/PS/945?year=2019&month=5&date=...  \n",
       "1  /flight-tracker/I2/3935?year=2019&month=5&date...  \n",
       "2  /flight-tracker/VY/3418?year=2019&month=5&date...  \n",
       "3  /flight-tracker/FR/2514?year=2019&month=5&date...  \n",
       "4  /flight-tracker/FR/1063?year=2019&month=5&date...  "
      ]
     },
     "execution_count": 11,
     "metadata": {},
     "output_type": "execute_result"
    }
   ],
   "source": [
    "code_shared_filter = h0_full_json_df['isCodeshare'] != True\n",
    "h0_main_flights_df = h0_full_json_df[code_shared_filter]\n",
    "h0_main_flights_df.reset_index(drop = True, inplace = True)\n",
    "print(h0_main_flights_df.shape)\n",
    "h0_main_flights_df.head()"
   ]
  },
  {
   "cell_type": "code",
   "execution_count": 12,
   "metadata": {
    "scrolled": true
   },
   "outputs": [
    {
     "name": "stdout",
     "output_type": "stream",
     "text": [
      "(145, 13)\n"
     ]
    },
    {
     "data": {
      "text/html": [
       "<div>\n",
       "<style scoped>\n",
       "    .dataframe tbody tr th:only-of-type {\n",
       "        vertical-align: middle;\n",
       "    }\n",
       "\n",
       "    .dataframe tbody tr th {\n",
       "        vertical-align: top;\n",
       "    }\n",
       "\n",
       "    .dataframe thead th {\n",
       "        text-align: right;\n",
       "    }\n",
       "</style>\n",
       "<table border=\"1\" class=\"dataframe\">\n",
       "  <thead>\n",
       "    <tr style=\"text-align: right;\">\n",
       "      <th></th>\n",
       "      <th>airport.city</th>\n",
       "      <th>airport.fs</th>\n",
       "      <th>arrivalTime.time24</th>\n",
       "      <th>arrivalTime.timeAMPM</th>\n",
       "      <th>carrier.flightNumber</th>\n",
       "      <th>carrier.fs</th>\n",
       "      <th>carrier.name</th>\n",
       "      <th>departureTime.time24</th>\n",
       "      <th>departureTime.timeAMPM</th>\n",
       "      <th>isCodeshare</th>\n",
       "      <th>operatedBy</th>\n",
       "      <th>sortTime</th>\n",
       "      <th>url</th>\n",
       "    </tr>\n",
       "  </thead>\n",
       "  <tbody>\n",
       "    <tr>\n",
       "      <th>0</th>\n",
       "      <td>Sao Paulo</td>\n",
       "      <td>GRU</td>\n",
       "      <td>06:10</td>\n",
       "      <td>6:10AM</td>\n",
       "      <td>6824</td>\n",
       "      <td>IB</td>\n",
       "      <td>Iberia</td>\n",
       "      <td>15:00</td>\n",
       "      <td>3:00PM</td>\n",
       "      <td>NaN</td>\n",
       "      <td>None</td>\n",
       "      <td>2019-05-12T04:10:00.000Z</td>\n",
       "      <td>/flight-tracker/IB/6824?year=2019&amp;month=5&amp;date...</td>\n",
       "    </tr>\n",
       "    <tr>\n",
       "      <th>1</th>\n",
       "      <td>New York</td>\n",
       "      <td>JFK</td>\n",
       "      <td>06:15</td>\n",
       "      <td>6:15AM</td>\n",
       "      <td>6250</td>\n",
       "      <td>IB</td>\n",
       "      <td>Iberia</td>\n",
       "      <td>17:05</td>\n",
       "      <td>5:05PM</td>\n",
       "      <td>NaN</td>\n",
       "      <td>None</td>\n",
       "      <td>2019-05-12T04:15:00.000Z</td>\n",
       "      <td>/flight-tracker/IB/6250?year=2019&amp;month=5&amp;date...</td>\n",
       "    </tr>\n",
       "    <tr>\n",
       "      <th>2</th>\n",
       "      <td>Santiago</td>\n",
       "      <td>SCL</td>\n",
       "      <td>06:20</td>\n",
       "      <td>6:20AM</td>\n",
       "      <td>6830</td>\n",
       "      <td>IB</td>\n",
       "      <td>Iberia</td>\n",
       "      <td>11:35</td>\n",
       "      <td>11:35AM</td>\n",
       "      <td>NaN</td>\n",
       "      <td>None</td>\n",
       "      <td>2019-05-12T04:20:00.000Z</td>\n",
       "      <td>/flight-tracker/IB/6830?year=2019&amp;month=5&amp;date...</td>\n",
       "    </tr>\n",
       "    <tr>\n",
       "      <th>3</th>\n",
       "      <td>Buenos Aires</td>\n",
       "      <td>EZE</td>\n",
       "      <td>06:20</td>\n",
       "      <td>6:20AM</td>\n",
       "      <td>6856</td>\n",
       "      <td>IB</td>\n",
       "      <td>Iberia</td>\n",
       "      <td>13:25</td>\n",
       "      <td>1:25PM</td>\n",
       "      <td>NaN</td>\n",
       "      <td>None</td>\n",
       "      <td>2019-05-12T04:20:00.000Z</td>\n",
       "      <td>/flight-tracker/IB/6856?year=2019&amp;month=5&amp;date...</td>\n",
       "    </tr>\n",
       "    <tr>\n",
       "      <th>4</th>\n",
       "      <td>Boston</td>\n",
       "      <td>BOS</td>\n",
       "      <td>06:20</td>\n",
       "      <td>6:20AM</td>\n",
       "      <td>6166</td>\n",
       "      <td>IB</td>\n",
       "      <td>Iberia</td>\n",
       "      <td>17:30</td>\n",
       "      <td>5:30PM</td>\n",
       "      <td>NaN</td>\n",
       "      <td>None</td>\n",
       "      <td>2019-05-12T04:20:00.000Z</td>\n",
       "      <td>/flight-tracker/IB/6166?year=2019&amp;month=5&amp;date...</td>\n",
       "    </tr>\n",
       "  </tbody>\n",
       "</table>\n",
       "</div>"
      ],
      "text/plain": [
       "   airport.city airport.fs arrivalTime.time24 arrivalTime.timeAMPM  \\\n",
       "0     Sao Paulo        GRU              06:10               6:10AM   \n",
       "1      New York        JFK              06:15               6:15AM   \n",
       "2      Santiago        SCL              06:20               6:20AM   \n",
       "3  Buenos Aires        EZE              06:20               6:20AM   \n",
       "4        Boston        BOS              06:20               6:20AM   \n",
       "\n",
       "  carrier.flightNumber carrier.fs carrier.name departureTime.time24  \\\n",
       "0                 6824         IB       Iberia                15:00   \n",
       "1                 6250         IB       Iberia                17:05   \n",
       "2                 6830         IB       Iberia                11:35   \n",
       "3                 6856         IB       Iberia                13:25   \n",
       "4                 6166         IB       Iberia                17:30   \n",
       "\n",
       "  departureTime.timeAMPM isCodeshare operatedBy                  sortTime  \\\n",
       "0                 3:00PM         NaN       None  2019-05-12T04:10:00.000Z   \n",
       "1                 5:05PM         NaN       None  2019-05-12T04:15:00.000Z   \n",
       "2                11:35AM         NaN       None  2019-05-12T04:20:00.000Z   \n",
       "3                 1:25PM         NaN       None  2019-05-12T04:20:00.000Z   \n",
       "4                 5:30PM         NaN       None  2019-05-12T04:20:00.000Z   \n",
       "\n",
       "                                                 url  \n",
       "0  /flight-tracker/IB/6824?year=2019&month=5&date...  \n",
       "1  /flight-tracker/IB/6250?year=2019&month=5&date...  \n",
       "2  /flight-tracker/IB/6830?year=2019&month=5&date...  \n",
       "3  /flight-tracker/IB/6856?year=2019&month=5&date...  \n",
       "4  /flight-tracker/IB/6166?year=2019&month=5&date...  "
      ]
     },
     "execution_count": 12,
     "metadata": {},
     "output_type": "execute_result"
    }
   ],
   "source": [
    "code_shared_filter = h6_full_json_df['isCodeshare'] != True\n",
    "h6_main_flights_df = h6_full_json_df[code_shared_filter]\n",
    "h6_main_flights_df.reset_index(drop = True, inplace = True)\n",
    "print(h6_main_flights_df.shape)\n",
    "h6_main_flights_df.head()"
   ]
  },
  {
   "cell_type": "code",
   "execution_count": 13,
   "metadata": {
    "scrolled": true
   },
   "outputs": [
    {
     "name": "stdout",
     "output_type": "stream",
     "text": [
      "(193, 13)\n"
     ]
    },
    {
     "data": {
      "text/html": [
       "<div>\n",
       "<style scoped>\n",
       "    .dataframe tbody tr th:only-of-type {\n",
       "        vertical-align: middle;\n",
       "    }\n",
       "\n",
       "    .dataframe tbody tr th {\n",
       "        vertical-align: top;\n",
       "    }\n",
       "\n",
       "    .dataframe thead th {\n",
       "        text-align: right;\n",
       "    }\n",
       "</style>\n",
       "<table border=\"1\" class=\"dataframe\">\n",
       "  <thead>\n",
       "    <tr style=\"text-align: right;\">\n",
       "      <th></th>\n",
       "      <th>airport.city</th>\n",
       "      <th>airport.fs</th>\n",
       "      <th>arrivalTime.time24</th>\n",
       "      <th>arrivalTime.timeAMPM</th>\n",
       "      <th>carrier.flightNumber</th>\n",
       "      <th>carrier.fs</th>\n",
       "      <th>carrier.name</th>\n",
       "      <th>departureTime.time24</th>\n",
       "      <th>departureTime.timeAMPM</th>\n",
       "      <th>isCodeshare</th>\n",
       "      <th>operatedBy</th>\n",
       "      <th>sortTime</th>\n",
       "      <th>url</th>\n",
       "    </tr>\n",
       "  </thead>\n",
       "  <tbody>\n",
       "    <tr>\n",
       "      <th>0</th>\n",
       "      <td>London</td>\n",
       "      <td>STN</td>\n",
       "      <td>12:00</td>\n",
       "      <td>12:00PM</td>\n",
       "      <td>5994</td>\n",
       "      <td>FR</td>\n",
       "      <td>Ryanair</td>\n",
       "      <td>08:25</td>\n",
       "      <td>8:25AM</td>\n",
       "      <td>NaN</td>\n",
       "      <td>None</td>\n",
       "      <td>2019-05-12T10:00:00.000Z</td>\n",
       "      <td>/flight-tracker/FR/5994?year=2019&amp;month=5&amp;date...</td>\n",
       "    </tr>\n",
       "    <tr>\n",
       "      <th>1</th>\n",
       "      <td>Palma Mallorca</td>\n",
       "      <td>PMI</td>\n",
       "      <td>12:00</td>\n",
       "      <td>12:00PM</td>\n",
       "      <td>6030</td>\n",
       "      <td>UX</td>\n",
       "      <td>Air Europa</td>\n",
       "      <td>10:35</td>\n",
       "      <td>10:35AM</td>\n",
       "      <td>NaN</td>\n",
       "      <td>None</td>\n",
       "      <td>2019-05-12T10:00:00.000Z</td>\n",
       "      <td>/flight-tracker/UX/6030?year=2019&amp;month=5&amp;date...</td>\n",
       "    </tr>\n",
       "    <tr>\n",
       "      <th>2</th>\n",
       "      <td>Athens</td>\n",
       "      <td>ATH</td>\n",
       "      <td>12:00</td>\n",
       "      <td>12:00PM</td>\n",
       "      <td>700</td>\n",
       "      <td>A3</td>\n",
       "      <td>Aegean Airlines</td>\n",
       "      <td>09:10</td>\n",
       "      <td>9:10AM</td>\n",
       "      <td>NaN</td>\n",
       "      <td>None</td>\n",
       "      <td>2019-05-12T10:00:00.000Z</td>\n",
       "      <td>/flight-tracker/A3/700?year=2019&amp;month=5&amp;date=...</td>\n",
       "    </tr>\n",
       "    <tr>\n",
       "      <th>3</th>\n",
       "      <td>Miami</td>\n",
       "      <td>MIA</td>\n",
       "      <td>12:05</td>\n",
       "      <td>12:05PM</td>\n",
       "      <td>98</td>\n",
       "      <td>UX</td>\n",
       "      <td>Air Europa</td>\n",
       "      <td>21:30</td>\n",
       "      <td>9:30PM</td>\n",
       "      <td>NaN</td>\n",
       "      <td>None</td>\n",
       "      <td>2019-05-12T10:05:00.000Z</td>\n",
       "      <td>/flight-tracker/UX/98?year=2019&amp;month=5&amp;date=1...</td>\n",
       "    </tr>\n",
       "    <tr>\n",
       "      <th>4</th>\n",
       "      <td>Almeria</td>\n",
       "      <td>LEI</td>\n",
       "      <td>12:05</td>\n",
       "      <td>12:05PM</td>\n",
       "      <td>8577</td>\n",
       "      <td>IB</td>\n",
       "      <td>Iberia</td>\n",
       "      <td>10:50</td>\n",
       "      <td>10:50AM</td>\n",
       "      <td>NaN</td>\n",
       "      <td>Operated by Air Nostrum on behalf of Iberia</td>\n",
       "      <td>2019-05-12T10:05:00.000Z</td>\n",
       "      <td>/flight-tracker/IB/8577?year=2019&amp;month=5&amp;date...</td>\n",
       "    </tr>\n",
       "  </tbody>\n",
       "</table>\n",
       "</div>"
      ],
      "text/plain": [
       "     airport.city airport.fs arrivalTime.time24 arrivalTime.timeAMPM  \\\n",
       "0          London        STN              12:00              12:00PM   \n",
       "1  Palma Mallorca        PMI              12:00              12:00PM   \n",
       "2          Athens        ATH              12:00              12:00PM   \n",
       "3           Miami        MIA              12:05              12:05PM   \n",
       "4         Almeria        LEI              12:05              12:05PM   \n",
       "\n",
       "  carrier.flightNumber carrier.fs     carrier.name departureTime.time24  \\\n",
       "0                 5994         FR          Ryanair                08:25   \n",
       "1                 6030         UX       Air Europa                10:35   \n",
       "2                  700         A3  Aegean Airlines                09:10   \n",
       "3                   98         UX       Air Europa                21:30   \n",
       "4                 8577         IB           Iberia                10:50   \n",
       "\n",
       "  departureTime.timeAMPM isCodeshare  \\\n",
       "0                 8:25AM         NaN   \n",
       "1                10:35AM         NaN   \n",
       "2                 9:10AM         NaN   \n",
       "3                 9:30PM         NaN   \n",
       "4                10:50AM         NaN   \n",
       "\n",
       "                                    operatedBy                  sortTime  \\\n",
       "0                                         None  2019-05-12T10:00:00.000Z   \n",
       "1                                         None  2019-05-12T10:00:00.000Z   \n",
       "2                                         None  2019-05-12T10:00:00.000Z   \n",
       "3                                         None  2019-05-12T10:05:00.000Z   \n",
       "4  Operated by Air Nostrum on behalf of Iberia  2019-05-12T10:05:00.000Z   \n",
       "\n",
       "                                                 url  \n",
       "0  /flight-tracker/FR/5994?year=2019&month=5&date...  \n",
       "1  /flight-tracker/UX/6030?year=2019&month=5&date...  \n",
       "2  /flight-tracker/A3/700?year=2019&month=5&date=...  \n",
       "3  /flight-tracker/UX/98?year=2019&month=5&date=1...  \n",
       "4  /flight-tracker/IB/8577?year=2019&month=5&date...  "
      ]
     },
     "execution_count": 13,
     "metadata": {},
     "output_type": "execute_result"
    }
   ],
   "source": [
    "code_shared_filter = h12_full_json_df['isCodeshare'] != True\n",
    "h12_main_flights_df = h12_full_json_df[code_shared_filter]\n",
    "h12_main_flights_df.reset_index(drop = True, inplace = True)\n",
    "print(h12_main_flights_df.shape)\n",
    "h12_main_flights_df.head()"
   ]
  },
  {
   "cell_type": "code",
   "execution_count": 14,
   "metadata": {},
   "outputs": [
    {
     "name": "stdout",
     "output_type": "stream",
     "text": [
      "(208, 13)\n"
     ]
    },
    {
     "data": {
      "text/html": [
       "<div>\n",
       "<style scoped>\n",
       "    .dataframe tbody tr th:only-of-type {\n",
       "        vertical-align: middle;\n",
       "    }\n",
       "\n",
       "    .dataframe tbody tr th {\n",
       "        vertical-align: top;\n",
       "    }\n",
       "\n",
       "    .dataframe thead th {\n",
       "        text-align: right;\n",
       "    }\n",
       "</style>\n",
       "<table border=\"1\" class=\"dataframe\">\n",
       "  <thead>\n",
       "    <tr style=\"text-align: right;\">\n",
       "      <th></th>\n",
       "      <th>airport.city</th>\n",
       "      <th>airport.fs</th>\n",
       "      <th>arrivalTime.time24</th>\n",
       "      <th>arrivalTime.timeAMPM</th>\n",
       "      <th>carrier.flightNumber</th>\n",
       "      <th>carrier.fs</th>\n",
       "      <th>carrier.name</th>\n",
       "      <th>departureTime.time24</th>\n",
       "      <th>departureTime.timeAMPM</th>\n",
       "      <th>isCodeshare</th>\n",
       "      <th>operatedBy</th>\n",
       "      <th>sortTime</th>\n",
       "      <th>url</th>\n",
       "    </tr>\n",
       "  </thead>\n",
       "  <tbody>\n",
       "    <tr>\n",
       "      <th>0</th>\n",
       "      <td>Munich</td>\n",
       "      <td>MUC</td>\n",
       "      <td>18:00</td>\n",
       "      <td>6:00PM</td>\n",
       "      <td>1804</td>\n",
       "      <td>LH</td>\n",
       "      <td>Lufthansa</td>\n",
       "      <td>15:20</td>\n",
       "      <td>3:20PM</td>\n",
       "      <td>NaN</td>\n",
       "      <td>None</td>\n",
       "      <td>2019-05-12T16:00:00.000Z</td>\n",
       "      <td>/flight-tracker/LH/1804?year=2019&amp;month=5&amp;date...</td>\n",
       "    </tr>\n",
       "    <tr>\n",
       "      <th>1</th>\n",
       "      <td>Porto</td>\n",
       "      <td>OPO</td>\n",
       "      <td>18:00</td>\n",
       "      <td>6:00PM</td>\n",
       "      <td>1140</td>\n",
       "      <td>UX</td>\n",
       "      <td>Air Europa</td>\n",
       "      <td>15:50</td>\n",
       "      <td>3:50PM</td>\n",
       "      <td>NaN</td>\n",
       "      <td>None</td>\n",
       "      <td>2019-05-12T16:00:00.000Z</td>\n",
       "      <td>/flight-tracker/UX/1140?year=2019&amp;month=5&amp;date...</td>\n",
       "    </tr>\n",
       "    <tr>\n",
       "      <th>2</th>\n",
       "      <td>Seoul</td>\n",
       "      <td>ICN</td>\n",
       "      <td>18:00</td>\n",
       "      <td>6:00PM</td>\n",
       "      <td>913</td>\n",
       "      <td>KE</td>\n",
       "      <td>Korean Air</td>\n",
       "      <td>11:40</td>\n",
       "      <td>11:40AM</td>\n",
       "      <td>NaN</td>\n",
       "      <td>None</td>\n",
       "      <td>2019-05-12T16:00:00.000Z</td>\n",
       "      <td>/flight-tracker/KE/913?year=2019&amp;month=5&amp;date=...</td>\n",
       "    </tr>\n",
       "    <tr>\n",
       "      <th>3</th>\n",
       "      <td>Lisbon</td>\n",
       "      <td>LIS</td>\n",
       "      <td>18:05</td>\n",
       "      <td>6:05PM</td>\n",
       "      <td>1156</td>\n",
       "      <td>UX</td>\n",
       "      <td>Air Europa</td>\n",
       "      <td>15:45</td>\n",
       "      <td>3:45PM</td>\n",
       "      <td>NaN</td>\n",
       "      <td>None</td>\n",
       "      <td>2019-05-12T16:05:00.000Z</td>\n",
       "      <td>/flight-tracker/UX/1156?year=2019&amp;month=5&amp;date...</td>\n",
       "    </tr>\n",
       "    <tr>\n",
       "      <th>4</th>\n",
       "      <td>Asturias</td>\n",
       "      <td>OVD</td>\n",
       "      <td>18:05</td>\n",
       "      <td>6:05PM</td>\n",
       "      <td>7406</td>\n",
       "      <td>UX</td>\n",
       "      <td>Air Europa</td>\n",
       "      <td>16:45</td>\n",
       "      <td>4:45PM</td>\n",
       "      <td>NaN</td>\n",
       "      <td>Operated by Wasaya Airways on behalf of Air Eu...</td>\n",
       "      <td>2019-05-12T16:05:00.000Z</td>\n",
       "      <td>/flight-tracker/UX/7406?year=2019&amp;month=5&amp;date...</td>\n",
       "    </tr>\n",
       "  </tbody>\n",
       "</table>\n",
       "</div>"
      ],
      "text/plain": [
       "  airport.city airport.fs arrivalTime.time24 arrivalTime.timeAMPM  \\\n",
       "0       Munich        MUC              18:00               6:00PM   \n",
       "1        Porto        OPO              18:00               6:00PM   \n",
       "2        Seoul        ICN              18:00               6:00PM   \n",
       "3       Lisbon        LIS              18:05               6:05PM   \n",
       "4     Asturias        OVD              18:05               6:05PM   \n",
       "\n",
       "  carrier.flightNumber carrier.fs carrier.name departureTime.time24  \\\n",
       "0                 1804         LH    Lufthansa                15:20   \n",
       "1                 1140         UX   Air Europa                15:50   \n",
       "2                  913         KE   Korean Air                11:40   \n",
       "3                 1156         UX   Air Europa                15:45   \n",
       "4                 7406         UX   Air Europa                16:45   \n",
       "\n",
       "  departureTime.timeAMPM isCodeshare  \\\n",
       "0                 3:20PM         NaN   \n",
       "1                 3:50PM         NaN   \n",
       "2                11:40AM         NaN   \n",
       "3                 3:45PM         NaN   \n",
       "4                 4:45PM         NaN   \n",
       "\n",
       "                                          operatedBy  \\\n",
       "0                                               None   \n",
       "1                                               None   \n",
       "2                                               None   \n",
       "3                                               None   \n",
       "4  Operated by Wasaya Airways on behalf of Air Eu...   \n",
       "\n",
       "                   sortTime                                                url  \n",
       "0  2019-05-12T16:00:00.000Z  /flight-tracker/LH/1804?year=2019&month=5&date...  \n",
       "1  2019-05-12T16:00:00.000Z  /flight-tracker/UX/1140?year=2019&month=5&date...  \n",
       "2  2019-05-12T16:00:00.000Z  /flight-tracker/KE/913?year=2019&month=5&date=...  \n",
       "3  2019-05-12T16:05:00.000Z  /flight-tracker/UX/1156?year=2019&month=5&date...  \n",
       "4  2019-05-12T16:05:00.000Z  /flight-tracker/UX/7406?year=2019&month=5&date...  "
      ]
     },
     "execution_count": 14,
     "metadata": {},
     "output_type": "execute_result"
    }
   ],
   "source": [
    "code_shared_filter = h18_full_json_df['isCodeshare'] != True\n",
    "h18_main_flights_df = h18_full_json_df[code_shared_filter]\n",
    "h18_main_flights_df.reset_index(drop = True, inplace = True)\n",
    "print(h18_main_flights_df.shape)\n",
    "h18_main_flights_df.head()"
   ]
  },
  {
   "cell_type": "code",
   "execution_count": null,
   "metadata": {},
   "outputs": [],
   "source": []
  },
  {
   "cell_type": "markdown",
   "metadata": {},
   "source": [
    "`url_constructor = pd.Series(h6_main_flights_df.loc[:, 'url'])`"
   ]
  },
  {
   "cell_type": "code",
   "execution_count": 15,
   "metadata": {
    "scrolled": true
   },
   "outputs": [],
   "source": [
    "# h24_main_flights_df is the dataframe that holds all the main flights dataframes.\n",
    "h24_main_flights_df = pd.DataFrame().append(h0_main_flights_df, ignore_index = True).append(h6_main_flights_df, ignore_index = True).append(h12_main_flights_df, ignore_index = True).append(h18_main_flights_df, ignore_index = True)"
   ]
  },
  {
   "cell_type": "code",
   "execution_count": 16,
   "metadata": {
    "scrolled": true
   },
   "outputs": [
    {
     "data": {
      "text/html": [
       "<div>\n",
       "<style scoped>\n",
       "    .dataframe tbody tr th:only-of-type {\n",
       "        vertical-align: middle;\n",
       "    }\n",
       "\n",
       "    .dataframe tbody tr th {\n",
       "        vertical-align: top;\n",
       "    }\n",
       "\n",
       "    .dataframe thead th {\n",
       "        text-align: right;\n",
       "    }\n",
       "</style>\n",
       "<table border=\"1\" class=\"dataframe\">\n",
       "  <thead>\n",
       "    <tr style=\"text-align: right;\">\n",
       "      <th></th>\n",
       "      <th>airport.city</th>\n",
       "      <th>airport.fs</th>\n",
       "      <th>arrivalTime.time24</th>\n",
       "      <th>arrivalTime.timeAMPM</th>\n",
       "      <th>carrier.flightNumber</th>\n",
       "      <th>carrier.fs</th>\n",
       "      <th>carrier.name</th>\n",
       "      <th>departureTime.time24</th>\n",
       "      <th>departureTime.timeAMPM</th>\n",
       "      <th>isCodeshare</th>\n",
       "      <th>operatedBy</th>\n",
       "      <th>sortTime</th>\n",
       "      <th>url</th>\n",
       "    </tr>\n",
       "  </thead>\n",
       "  <tbody>\n",
       "    <tr>\n",
       "      <th>0</th>\n",
       "      <td>Kiev/Kyiv</td>\n",
       "      <td>KBP</td>\n",
       "      <td>00:10</td>\n",
       "      <td>12:10AM</td>\n",
       "      <td>945</td>\n",
       "      <td>PS</td>\n",
       "      <td>UIA</td>\n",
       "      <td>20:40</td>\n",
       "      <td>8:40PM</td>\n",
       "      <td>NaN</td>\n",
       "      <td>None</td>\n",
       "      <td>2019-05-11T22:10:00.000Z</td>\n",
       "      <td>/flight-tracker/PS/945?year=2019&amp;month=5&amp;date=...</td>\n",
       "    </tr>\n",
       "    <tr>\n",
       "      <th>1</th>\n",
       "      <td>Tenerife</td>\n",
       "      <td>TFN</td>\n",
       "      <td>00:15</td>\n",
       "      <td>12:15AM</td>\n",
       "      <td>3935</td>\n",
       "      <td>I2</td>\n",
       "      <td>Iberia Express</td>\n",
       "      <td>20:30</td>\n",
       "      <td>8:30PM</td>\n",
       "      <td>NaN</td>\n",
       "      <td>None</td>\n",
       "      <td>2019-05-11T22:15:00.000Z</td>\n",
       "      <td>/flight-tracker/I2/3935?year=2019&amp;month=5&amp;date...</td>\n",
       "    </tr>\n",
       "    <tr>\n",
       "      <th>2</th>\n",
       "      <td>Ibiza</td>\n",
       "      <td>IBZ</td>\n",
       "      <td>00:20</td>\n",
       "      <td>12:20AM</td>\n",
       "      <td>3418</td>\n",
       "      <td>VY</td>\n",
       "      <td>Vueling</td>\n",
       "      <td>23:00</td>\n",
       "      <td>11:00PM</td>\n",
       "      <td>NaN</td>\n",
       "      <td>None</td>\n",
       "      <td>2019-05-11T22:20:00.000Z</td>\n",
       "      <td>/flight-tracker/VY/3418?year=2019&amp;month=5&amp;date...</td>\n",
       "    </tr>\n",
       "    <tr>\n",
       "      <th>3</th>\n",
       "      <td>Bucharest</td>\n",
       "      <td>OTP</td>\n",
       "      <td>00:30</td>\n",
       "      <td>12:30AM</td>\n",
       "      <td>2514</td>\n",
       "      <td>FR</td>\n",
       "      <td>Ryanair</td>\n",
       "      <td>21:30</td>\n",
       "      <td>9:30PM</td>\n",
       "      <td>NaN</td>\n",
       "      <td>None</td>\n",
       "      <td>2019-05-11T22:30:00.000Z</td>\n",
       "      <td>/flight-tracker/FR/2514?year=2019&amp;month=5&amp;date...</td>\n",
       "    </tr>\n",
       "    <tr>\n",
       "      <th>4</th>\n",
       "      <td>Modlin</td>\n",
       "      <td>EPMO</td>\n",
       "      <td>00:30</td>\n",
       "      <td>12:30AM</td>\n",
       "      <td>1063</td>\n",
       "      <td>FR</td>\n",
       "      <td>Ryanair</td>\n",
       "      <td>20:55</td>\n",
       "      <td>8:55PM</td>\n",
       "      <td>NaN</td>\n",
       "      <td>None</td>\n",
       "      <td>2019-05-11T22:30:00.000Z</td>\n",
       "      <td>/flight-tracker/FR/1063?year=2019&amp;month=5&amp;date...</td>\n",
       "    </tr>\n",
       "  </tbody>\n",
       "</table>\n",
       "</div>"
      ],
      "text/plain": [
       "  airport.city airport.fs arrivalTime.time24 arrivalTime.timeAMPM  \\\n",
       "0    Kiev/Kyiv        KBP              00:10              12:10AM   \n",
       "1     Tenerife        TFN              00:15              12:15AM   \n",
       "2        Ibiza        IBZ              00:20              12:20AM   \n",
       "3    Bucharest        OTP              00:30              12:30AM   \n",
       "4       Modlin       EPMO              00:30              12:30AM   \n",
       "\n",
       "  carrier.flightNumber carrier.fs    carrier.name departureTime.time24  \\\n",
       "0                  945         PS             UIA                20:40   \n",
       "1                 3935         I2  Iberia Express                20:30   \n",
       "2                 3418         VY         Vueling                23:00   \n",
       "3                 2514         FR         Ryanair                21:30   \n",
       "4                 1063         FR         Ryanair                20:55   \n",
       "\n",
       "  departureTime.timeAMPM isCodeshare operatedBy                  sortTime  \\\n",
       "0                 8:40PM         NaN       None  2019-05-11T22:10:00.000Z   \n",
       "1                 8:30PM         NaN       None  2019-05-11T22:15:00.000Z   \n",
       "2                11:00PM         NaN       None  2019-05-11T22:20:00.000Z   \n",
       "3                 9:30PM         NaN       None  2019-05-11T22:30:00.000Z   \n",
       "4                 8:55PM         NaN       None  2019-05-11T22:30:00.000Z   \n",
       "\n",
       "                                                 url  \n",
       "0  /flight-tracker/PS/945?year=2019&month=5&date=...  \n",
       "1  /flight-tracker/I2/3935?year=2019&month=5&date...  \n",
       "2  /flight-tracker/VY/3418?year=2019&month=5&date...  \n",
       "3  /flight-tracker/FR/2514?year=2019&month=5&date...  \n",
       "4  /flight-tracker/FR/1063?year=2019&month=5&date...  "
      ]
     },
     "execution_count": 16,
     "metadata": {},
     "output_type": "execute_result"
    }
   ],
   "source": [
    "h24_main_flights_df.head()"
   ]
  },
  {
   "cell_type": "code",
   "execution_count": 17,
   "metadata": {},
   "outputs": [
    {
     "data": {
      "text/plain": [
       "(562, 13)"
      ]
     },
     "execution_count": 17,
     "metadata": {},
     "output_type": "execute_result"
    }
   ],
   "source": [
    "h24_main_flights_df.shape"
   ]
  },
  {
   "cell_type": "code",
   "execution_count": 18,
   "metadata": {},
   "outputs": [
    {
     "data": {
      "text/plain": [
       "Index(['airport.city', 'airport.fs', 'arrivalTime.time24',\n",
       "       'arrivalTime.timeAMPM', 'carrier.flightNumber', 'carrier.fs',\n",
       "       'carrier.name', 'departureTime.time24', 'departureTime.timeAMPM',\n",
       "       'isCodeshare', 'operatedBy', 'sortTime', 'url'],\n",
       "      dtype='object')"
      ]
     },
     "execution_count": 18,
     "metadata": {},
     "output_type": "execute_result"
    }
   ],
   "source": [
    "h24_main_flights_df.columns"
   ]
  },
  {
   "cell_type": "code",
   "execution_count": 19,
   "metadata": {
    "scrolled": true
   },
   "outputs": [],
   "source": [
    "h24_main_flights_df['full_url_path'] = \"https://www.flightstats.com/v2\" + h24_main_flights_df['url']"
   ]
  },
  {
   "cell_type": "code",
   "execution_count": 20,
   "metadata": {},
   "outputs": [
    {
     "data": {
      "text/plain": [
       "(562, 14)"
      ]
     },
     "execution_count": 20,
     "metadata": {},
     "output_type": "execute_result"
    }
   ],
   "source": [
    "h24_main_flights_df.shape"
   ]
  },
  {
   "cell_type": "code",
   "execution_count": 21,
   "metadata": {},
   "outputs": [],
   "source": [
    "individual_flights = tuple(h24_main_flights_df['full_url_path'])"
   ]
  },
  {
   "cell_type": "code",
   "execution_count": 22,
   "metadata": {},
   "outputs": [
    {
     "data": {
      "text/plain": [
       "'https://www.flightstats.com/v2/flight-tracker/PS/945?year=2019&month=5&date=11&flightId=999454385'"
      ]
     },
     "execution_count": 22,
     "metadata": {},
     "output_type": "execute_result"
    }
   ],
   "source": [
    "testing_url = individual_flights[0]\n",
    "testing_url"
   ]
  },
  {
   "cell_type": "markdown",
   "metadata": {},
   "source": [
    "### Scraping process to each flight."
   ]
  },
  {
   "cell_type": "code",
   "execution_count": 23,
   "metadata": {},
   "outputs": [],
   "source": [
    "flight_info = session.get(testing_url)"
   ]
  },
  {
   "cell_type": "code",
   "execution_count": 24,
   "metadata": {},
   "outputs": [
    {
     "data": {
      "text/plain": [
       "<Response [200]>"
      ]
     },
     "execution_count": 24,
     "metadata": {},
     "output_type": "execute_result"
    }
   ],
   "source": [
    "flight_info"
   ]
  },
  {
   "cell_type": "code",
   "execution_count": 62,
   "metadata": {},
   "outputs": [
    {
     "data": {
      "text/plain": [
       "70417"
      ]
     },
     "execution_count": 62,
     "metadata": {},
     "output_type": "execute_result"
    }
   ],
   "source": [
    "flight_info.html.html.index(\"text-helper__TextHelper-s8bko4a-0 cCfBRT\")"
   ]
  },
  {
   "cell_type": "code",
   "execution_count": 64,
   "metadata": {},
   "outputs": [
    {
     "data": {
      "text/plain": [
       "'text-helper__TextHelper-s8bko4a-0 cCfBRT\">20:40<span class=\"ticket__TimeS'"
      ]
     },
     "execution_count": 64,
     "metadata": {},
     "output_type": "execute_result"
    }
   ],
   "source": [
    "flight_info.html.html[70417:70490]"
   ]
  },
  {
   "cell_type": "code",
   "execution_count": 65,
   "metadata": {},
   "outputs": [
    {
     "data": {
      "text/plain": [
       "['text-helper__TextHelper-s8bko4a-0 cCfBRT\"',\n",
       " '20:40<span class=\"ticket__TimeS']"
      ]
     },
     "execution_count": 65,
     "metadata": {},
     "output_type": "execute_result"
    }
   ],
   "source": [
    "flight_info.html.html[70417:70490].split(\">\")"
   ]
  },
  {
   "cell_type": "code",
   "execution_count": 67,
   "metadata": {},
   "outputs": [
    {
     "data": {
      "text/plain": [
       "'20:40'"
      ]
     },
     "execution_count": 67,
     "metadata": {},
     "output_type": "execute_result"
    }
   ],
   "source": [
    "flight_info.html.html[70417:70490].split(\">\")[1][:5]"
   ]
  },
  {
   "cell_type": "code",
   "execution_count": 70,
   "metadata": {},
   "outputs": [
    {
     "ename": "AttributeError",
     "evalue": "'list' object has no attribute 'html'",
     "output_type": "error",
     "traceback": [
      "\u001b[1;31m---------------------------------------------------------------------------\u001b[0m",
      "\u001b[1;31mAttributeError\u001b[0m                            Traceback (most recent call last)",
      "\u001b[1;32m<ipython-input-70-62ab3cace464>\u001b[0m in \u001b[0;36m<module>\u001b[1;34m\u001b[0m\n\u001b[0;32m      1\u001b[0m \u001b[0msearch_1\u001b[0m \u001b[1;33m=\u001b[0m \u001b[0mflight_info\u001b[0m\u001b[1;33m.\u001b[0m\u001b[0mhtml\u001b[0m\u001b[1;33m.\u001b[0m\u001b[0mfind\u001b[0m\u001b[1;33m(\u001b[0m\u001b[1;34m\"#__next\"\u001b[0m\u001b[1;33m)\u001b[0m\u001b[1;33m\u001b[0m\u001b[1;33m\u001b[0m\u001b[0m\n\u001b[1;32m----> 2\u001b[1;33m \u001b[0msearch_2\u001b[0m \u001b[1;33m=\u001b[0m \u001b[0msearch_1\u001b[0m\u001b[1;33m.\u001b[0m\u001b[0mhtml\u001b[0m\u001b[1;33m.\u001b[0m\u001b[0mfind\u001b[0m\u001b[1;33m(\u001b[0m\u001b[1;34m\"div.desktop__LayoutWrapper-s43d6t8-0 eOYkkH\"\u001b[0m\u001b[1;33m)\u001b[0m\u001b[1;33m\u001b[0m\u001b[1;33m\u001b[0m\u001b[0m\n\u001b[0m\u001b[0;32m      3\u001b[0m \u001b[0msearch_2\u001b[0m\u001b[1;33m\u001b[0m\u001b[1;33m\u001b[0m\u001b[0m\n",
      "\u001b[1;31mAttributeError\u001b[0m: 'list' object has no attribute 'html'"
     ]
    }
   ],
   "source": [
    "search_1 = flight_info.html.find(\"#__next\")\n",
    "search_2 = search_1.html.find(\"div.desktop__LayoutWrapper-s43d6t8-0 eOYkkH\")\n",
    "search_2"
   ]
  },
  {
   "cell_type": "code",
   "execution_count": null,
   "metadata": {},
   "outputs": [],
   "source": [
    "<div class=\"desktop__LayoutWrapper-s43d6t8-0 eOYkkH\"><img class=\"page-background-image__PageBackgroundImage-vd397e-0 hymwpx\" src=\"//assets.flightstats.com/v2/backgrounds/Clouds.jpg\"><header class=\"desktop-header__HeaderContainer-s1hnb9a6-0 itQmbZ\"><section class=\"desktop-header__ContentRow-s1hnb9a6-2 kqCOwd desktop-header__Row-s1hnb9a6-1 frsWSl\"><section class=\"desktop-header__LeftColumn-s1hnb9a6-4 gvbdsK\"><a href=\"https://www.flightstats.com/v2\"><img class=\"desktop-header__Image-s1hnb9a6-9 eEOdSW\" src=\"//assets.flightstats.com/v2/FSbyCLogo.png\"></a></section><section class=\"desktop-header__AdContainer-s1hnb9a6-8 jcQzgs\"><div class=\"ad__Wrapper-s2h2yxm-0 edhVfT\" height=\"90\" width=\"728\"><div style=\"\" id=\"div-gpt-ad-1502745996964-1\" data-google-query-id=\"CO7xxfq1m-ICFU5x4AodvZUA7Q\"><div id=\"google_ads_iframe_/1010197/BS_FlightTracker_top_728x90_0__container__\" style=\"border: 0pt none; display: inline-block; width: 728px; height: 90px;\"><iframe frameborder=\"0\" src=\"https://tpc.googlesyndication.com/safeframe/1-0-33/html/container.html\" id=\"google_ads_iframe_/1010197/BS_FlightTracker_top_728x90_0\" title=\"3rd party ad content\" name=\"\" scrolling=\"no\" marginwidth=\"0\" marginheight=\"0\" width=\"728\" height=\"90\" data-is-safeframe=\"true\" sandbox=\"allow-forms allow-pointer-lock allow-popups allow-popups-to-escape-sandbox allow-same-origin allow-scripts allow-top-navigation-by-user-activation\" data-google-container-id=\"1\" style=\"border: 0px; vertical-align: bottom;\" data-load-complete=\"true\"></iframe></div></div></div></section><section class=\"desktop-header__RightColumn-s1hnb9a6-5 kkTCMH\"><section class=\"header-social__SocialLinksContainer-tb15tb-0 hVftIH\"><div class=\"header-social__Text-tb15tb-1 gjEOgT\">Follow us on</div><a class=\"header-social__LinkWrapper-tb15tb-2 ruvSm\" href=\"https://www.facebook.com/FlightGlobalIncorporatingFlightStats\" target=\"_blank\"><svg width=\"23px\" height=\"23px\" xmlns=\"http://www.w3.org/2000/svg\" viewBox=\"0 0 32 32\"><title>facebook-circle</title><path fill=\"#3c5b9b\" d=\"M32.001 16c0 8.836-7.164 16-15.999 16C7.163 32-.001 24.836-.001 16c0-8.837 7.164-16 16.003-16 8.835 0 15.999 7.163 15.999 16z\"></path><path fill=\"#fff\" d=\"M13.333 26h4V16h2.969l.365-4h-3.179v-1.599c0-.779.519-.961.884-.961h2.244V6.013L17.526 6c-3.43 0-4.209 2.556-4.209 4.192V12h-1.983v4h2z\"></path></svg></a><a class=\"header-social__LinkWrapper-tb15tb-2 ruvSm\" href=\"https://twitter.com/flightstats\" target=\"_blank\"><svg width=\"23px\" height=\"23px\" xmlns=\"http://www.w3.org/2000/svg\" viewBox=\"0 0 32 32\"><title>twitter-circle</title><path fill=\"#2daae1\" d=\"M32.001 16c0 8.837-7.164 16.001-16.001 16.001S-.001 24.837-.001 16C-.001 7.163 7.163-.001 16-.001S32.001 7.163 32.001 16z\"></path><path fill=\"#fff\" d=\"M25.449 8.295c-.793.463-1.672.8-2.607.981A4.125 4.125 0 0 0 19.847 8c-2.265 0-4.103 1.809-4.103 4.039 0 .317.037.624.105.92a11.715 11.715 0 0 1-8.457-4.22 3.972 3.972 0 0 0-.556 2.031c0 1.401.726 2.637 1.826 3.361a4.15 4.15 0 0 1-1.859-.505v.051c0 1.957 1.415 3.589 3.292 3.961a4.19 4.19 0 0 1-1.854.068 4.101 4.101 0 0 0 3.833 2.805 8.32 8.32 0 0 1-5.097 1.729 8.33 8.33 0 0 1-.979-.057 11.758 11.758 0 0 0 6.291 1.815c7.548 0 11.675-6.154 11.675-11.492 0-.175-.003-.35-.011-.523A8.268 8.268 0 0 0 26 9.892a8.278 8.278 0 0 1-2.357.636 4.066 4.066 0 0 0 1.805-2.235z\"></path></svg></a><a class=\"header-social__LinkWrapper-tb15tb-2 ruvSm\" href=\"https://www.linkedin.com/company/flightstats\" target=\"_blank\"><svg width=\"23px\" height=\"23px\" xmlns=\"http://www.w3.org/2000/svg\" viewBox=\"0 0 32 32\"><title>linkedin-circle</title><path fill=\"#0173b2\" d=\"M32.001 16c0 8.837-7.164 16.001-16.001 16.001S-.001 24.837-.001 16C-.001 7.163 7.163-.001 16-.001S32.001 7.163 32.001 16z\"></path><path fill=\"#fff\" d=\"M6 12.667h4.667V26H6zM10.667 8.333a2.333 2.333 0 1 1-4.666 0 2.333 2.333 0 0 1 4.666 0zM26 18.673c0-3.598-.776-6.006-4.97-6.006-2.015 0-3.369.749-3.922 1.799h-.057v-1.799h-3.717V26h3.885v-6.609c0-1.743.329-3.43 2.485-3.43 2.124 0 2.295 1.993 2.295 3.543V26h4v-7.327z\"></path></svg></a><a class=\"header-social__LinkWrapper-tb15tb-2 ruvSm\" href=\"https://www.youtube.com/channel/UC0lOB-YgtxGYiBFIo9f3hww\" target=\"_blank\"><svg width=\"23px\" height=\"23px\" xmlns=\"http://www.w3.org/2000/svg\" viewBox=\"0 0 32 32\"><title>youtube-circle</title><path fill=\"#fe3432\" d=\"M32 16c0 8.837-7.163 16-16 16S0 24.837 0 16 7.163 0 16 0s16 7.163 16 16z\"></path><path fill=\"#fff\" d=\"M25.799 11.83s-.195-1.438-.794-2.071c-.761-.829-1.613-.835-2.003-.883-2.801-.21-6.997-.21-6.997-.21h-.009s-4.199 0-6.997.211c-.391.047-1.242.053-2.004.883-.599.633-.794 2.071-.794 2.071S6 13.518 6 15.206v1.581c0 1.689.201 3.377.201 3.377s.195 1.437.794 2.069c.762.831 1.762.804 2.206.891 1.6.16 6.799.21 6.799.21s4.202-.008 7.003-.217c.389-.049 1.242-.053 2.003-.884.599-.633.794-2.069.794-2.069s.201-1.687.201-3.376v-1.581c0-1.688-.201-3.375-.201-3.375zm-11.863 6.875l-.001-5.859 5.403 2.941z\"></path></svg></a></section><div class=\"account-login__AccountLoginContainer-d7lweb-0 gNseZH\"><a class=\"account-login__SignupButton-d7lweb-3 kWzMNe button-link__ButtonLink-wcss74-0 bUQDqC\" href=\"https://www.flightstats.com/v2/register/plan\">Create Account</a><a class=\"account-login__LoginButton-d7lweb-1 dNwHti button-link__ButtonLink-wcss74-0 iUTHxa\" href=\"https://www.flightstats.com/v2/account/login\">Login</a></div></section></section><section class=\"desktop-header__NavRow-s1hnb9a6-3 hBFrnV desktop-header__Row-s1hnb9a6-1 frsWSl\"><section class=\"desktop-header__MainNavigation-s1hnb9a6-6 ccgfO\"><section class=\"hoverable-menu__NavSection-s166bj4y-0 bBJPOb\"><div class=\"menu-heading__HeadingOuter-fepp0s-0 kjRvQR\"><a class=\"menu-heading__HeadingText-fepp0s-1 bYKNWi\">Flights</a><div class=\"menu-heading__SubmenuOuter-fepp0s-2 fIefzt\"><ul class=\"nav-submenu__SubmenuContainer-upp2xz-0 gkQAgR\" hidden=\"\" width=\"267px\"><ul class=\"menu-item__MenuList-s1ht3jhe-0 bHovxc\"><li class=\"menu-item__MenuListItem-s1ht3jhe-1 dUgaVX\"><a class=\"menu-item__Anchor-s1ht3jhe-2 gEWhGM\" href=\"/v2/flight-tracker/search\">Flight Tracker</a></li></ul><ul class=\"menu-item__MenuList-s1ht3jhe-0 bHovxc\"><li class=\"menu-item__MenuListItem-s1ht3jhe-1 dUgaVX\"><a class=\"menu-item__Anchor-s1ht3jhe-2 gbokA\" href=\"https://www.flightstats.com/v2/historical-flight/search\">Historical Flight Status</a></li></ul><ul class=\"menu-item__MenuList-s1ht3jhe-0 bHovxc\"><li class=\"menu-item__MenuListItem-s1ht3jhe-1 dUgaVX\"><a class=\"menu-item__Anchor-s1ht3jhe-2 gbokA\" href=\"https://www.flightstats.com/v2/flight-alerts/home\">Alerts</a></li></ul><ul class=\"menu-item__MenuList-s1ht3jhe-0 bHovxc\"><li class=\"menu-item__MenuListItem-s1ht3jhe-1 dUgaVX\"><a class=\"menu-item__Anchor-s1ht3jhe-2 gEWhGM\" href=\"https://www.flightstats.com/v2/data-exports/home\">Data Exports</a></li></ul></ul></div></div><div class=\"menu-heading__HeadingOuter-fepp0s-0 kjRvQR\"><a class=\"menu-heading__HeadingText-fepp0s-1 bYKNWi\">Airports</a><div class=\"menu-heading__SubmenuOuter-fepp0s-2 fIefzt\"><ul class=\"nav-submenu__SubmenuContainer-upp2xz-0 kHTgKb\" width=\"280px\" hidden=\"\"><ul class=\"menu-item__MenuList-s1ht3jhe-0 bHovxc\"><li class=\"menu-item__MenuListItem-s1ht3jhe-1 dUgaVX\"><a class=\"menu-item__Anchor-s1ht3jhe-2 gEWhGM\" href=\"https://www.flightstats.com/v2/airport-conditions/search\">Current Conditions</a></li></ul><ul class=\"menu-item__MenuList-s1ht3jhe-0 bHovxc\"><li class=\"menu-item__MenuListItem-s1ht3jhe-1 dUgaVX\"><a class=\"menu-item__Anchor-s1ht3jhe-2 gbokA\" href=\"https://www.flightstats.com/v2/airports/departing-arriving/search\">Departures and Arrivals</a></li></ul><ul class=\"menu-item__MenuList-s1ht3jhe-0 bHovxc\"><li class=\"menu-item__MenuListItem-s1ht3jhe-1 dUgaVX\"><a class=\"menu-item__Anchor-s1ht3jhe-2 gEWhGM\" href=\"https://www.flightstats.com/v2/airport-delays\">Airport Delays</a></li></ul></ul></div></div><div class=\"menu-heading__HeadingOuter-fepp0s-0 kjRvQR\"><a class=\"menu-heading__HeadingText-fepp0s-1 bYKNWi\">Stats</a><div class=\"menu-heading__SubmenuOuter-fepp0s-2 fIefzt\"><ul class=\"nav-submenu__SubmenuContainer-upp2xz-0 eARUcx\" hidden=\"\" width=\"365px\"><ul class=\"menu-item__MenuList-s1ht3jhe-0 bHovxc\"><li class=\"menu-item__MenuListItem-s1ht3jhe-1 dUgaVX\"><a class=\"menu-item__Anchor-s1ht3jhe-2 gEWhGM\" href=\"https://www.flightstats.com/v2/monthly-performance-reports/airlines\">Airline On-time Performance Reports</a></li></ul><ul class=\"menu-item__MenuList-s1ht3jhe-0 bHovxc\"><li class=\"menu-item__MenuListItem-s1ht3jhe-1 dUgaVX\"><a class=\"menu-item__Anchor-s1ht3jhe-2 gEWhGM\" href=\"https://www.flightstats.com/v2/monthly-performance-reports/airports\">Airport On-time Performance Reports</a></li></ul><ul class=\"menu-item__MenuList-s1ht3jhe-0 bHovxc\"><li class=\"menu-item__MenuListItem-s1ht3jhe-1 dUgaVX\"><a class=\"menu-item__Anchor-s1ht3jhe-2 gEWhGM\" href=\"https://www.flightstats.com/v2/global-cancellations-and-delays\">Global Cancellations and Delays</a></li></ul></ul></div></div><div class=\"menu-heading__HeadingOuter-fepp0s-0 kjRvQR\"><a class=\"menu-heading__HeadingText-fepp0s-1 bYKNWi\">Company</a><div class=\"menu-heading__SubmenuOuter-fepp0s-2 fIefzt\"><ul class=\"nav-submenu__SubmenuContainer-upp2xz-0 iLSNXF\" hidden=\"\" width=\"135px\"><ul class=\"menu-item__MenuList-s1ht3jhe-0 bHovxc\"><li class=\"menu-item__MenuListItem-s1ht3jhe-1 dUgaVX\"><a class=\"menu-item__Anchor-s1ht3jhe-2 gEWhGM\" href=\"https://www.flightstats.com/company/corporate/about-us/\">About Us</a></li></ul><ul class=\"menu-item__MenuList-s1ht3jhe-0 bHovxc\"><li class=\"menu-item__MenuListItem-s1ht3jhe-1 dUgaVX\"><a class=\"menu-item__Anchor-s1ht3jhe-2 gEWhGM\" href=\"https://www.flightstats.com/company/products/\">Products</a></li></ul><ul class=\"menu-item__MenuList-s1ht3jhe-0 bHovxc\"><li class=\"menu-item__MenuListItem-s1ht3jhe-1 dUgaVX\"><a class=\"menu-item__Anchor-s1ht3jhe-2 gEWhGM\" href=\"https://www.flightstats.com/company/markets/\">Markets</a></li></ul><ul class=\"menu-item__MenuList-s1ht3jhe-0 bHovxc\"><li class=\"menu-item__MenuListItem-s1ht3jhe-1 dUgaVX\"><a class=\"menu-item__Anchor-s1ht3jhe-2 gEWhGM\" href=\"https://www.flightstats.com/company/corporate/data/\">Data</a></li></ul><ul class=\"menu-item__MenuList-s1ht3jhe-0 bHovxc\"><li class=\"menu-item__MenuListItem-s1ht3jhe-1 dUgaVX\"><a class=\"menu-item__Anchor-s1ht3jhe-2 gEWhGM\" href=\"https://www.flightstats.com/company/corporate/platform/\">Platform</a></li></ul><ul class=\"menu-item__MenuList-s1ht3jhe-0 bHovxc\"><li class=\"menu-item__MenuListItem-s1ht3jhe-1 dUgaVX\"><a class=\"menu-item__Anchor-s1ht3jhe-2 gEWhGM\" href=\"https://www.flightstats.com/company/corporate/customers/\">Customers</a></li></ul><ul class=\"menu-item__MenuList-s1ht3jhe-0 bHovxc\"><li class=\"menu-item__MenuListItem-s1ht3jhe-1 dUgaVX\"><a class=\"menu-item__Anchor-s1ht3jhe-2 gEWhGM\" href=\"https://www.flightstats.com/company/corporate/partners/\">Partners</a></li></ul></ul></div></div><div class=\"menu-heading__HeadingOuter-fepp0s-0 kjRvQR\"><a class=\"menu-heading__HeadingText-fepp0s-1 bYKNWi\">Resources</a><div class=\"menu-heading__SubmenuOuter-fepp0s-2 fIefzt\"><ul class=\"nav-submenu__SubmenuContainer-upp2xz-0 gFfJEP\" hidden=\"\" width=\"300px\"><ul class=\"menu-item__MenuList-s1ht3jhe-0 bHovxc\"><li class=\"menu-item__MenuListItem-s1ht3jhe-1 dUgaVX\"><a class=\"menu-item__Anchor-s1ht3jhe-2 gEWhGM\" href=\"https://helpdesk.cirium.com/hc/en-us\">FAQ</a></li></ul><ul class=\"menu-item__MenuList-s1ht3jhe-0 bHovxc\"><li class=\"menu-item__MenuListItem-s1ht3jhe-1 dUgaVX\"><a class=\"menu-item__Anchor-s1ht3jhe-2 gEWhGM\" href=\"https://www.flightstats.com/company/support/\">Support</a></li></ul><ul class=\"menu-item__MenuList-s1ht3jhe-0 bHovxc\"><li class=\"menu-item__MenuListItem-s1ht3jhe-1 dUgaVX\"><a class=\"menu-item__Anchor-s1ht3jhe-2 gEWhGM\" href=\"https://developer.flightstats.com/?utm_source=flightstats&amp;utm_medium=ResourcesMenuLink&amp;utm_campaign=DeveloperCenter\">Developer Center</a></li></ul><ul class=\"menu-item__MenuList-s1ht3jhe-0 bHovxc\"><li class=\"menu-item__MenuListItem-s1ht3jhe-1 dUgaVX\"><a class=\"menu-item__Anchor-s1ht3jhe-2 gEWhGM\" href=\"https://www.flightstats.com/company/corporate/careers/\">Careers</a></li></ul><ul class=\"menu-item__MenuList-s1ht3jhe-0 bHovxc\"><li class=\"menu-item__MenuListItem-s1ht3jhe-1 dUgaVX\"><a class=\"menu-item__Anchor-s1ht3jhe-2 gEWhGM\" href=\"https://www.flightstats.com/company/contact/\">Contact</a></li></ul><ul class=\"menu-item__MenuList-s1ht3jhe-0 bHovxc\"><li class=\"menu-item__MenuListItem-s1ht3jhe-1 dUgaVX\"><a class=\"menu-item__Anchor-s1ht3jhe-2 gEWhGM\" href=\"https://www.flightstats.com/company/media/on-time-performance-awards/\">On-Time Performance Awards</a></li></ul></ul></div></div></section></section><section class=\"desktop-header__SecondaryNavigation-s1hnb9a6-7 eoPeAM\"><section class=\"hoverable-menu__NavSection-s166bj4y-0 bBJPOb\"><div class=\"menu-heading__HeadingOuter-fepp0s-0 kjRvQR\"><a class=\"menu-heading__HeadingText-fepp0s-1 bYKNWi\">My FlightStats</a><div class=\"menu-heading__SubmenuOuter-fepp0s-2 fwYlLi\"><ul class=\"nav-submenu__SubmenuContainer-upp2xz-0 bfigzO\" hidden=\"\" width=\"180px\"><ul class=\"menu-item__MenuList-s1ht3jhe-0 bHovxc\"><li class=\"menu-item__MenuListItem-s1ht3jhe-1 dUgaVX\"><a class=\"menu-item__Anchor-s1ht3jhe-2 gbokA\" href=\"https://www.flightstats.com/v2/flight-alerts/home\">My Alerts</a></li></ul><ul class=\"menu-item__MenuList-s1ht3jhe-0 bHovxc\"><li class=\"menu-item__MenuListItem-s1ht3jhe-1 dUgaVX\"><a class=\"menu-item__Anchor-s1ht3jhe-2 gEWhGM\" href=\"https://www.flightstats.com/v2/my-account/profile\">My Account</a></li></ul></ul></div></div></section></section></section></header><section class=\"desktop__Content-s43d6t8-1 fsjJUA\"><section class=\"unified-search__SearchCardWrapper-iq7jcx-0 gstZUK\"><h2 class=\"unified-search__SearchTitle-iq7jcx-1 bACtxm\">Track a Flight</h2><div class=\"unified-search__SearchInputAndButton-iq7jcx-3 ggFNb\"><div class=\"unified-search__UniversalSearch-iq7jcx-2 dqBfAD\"><div><div class=\"select-filter-async__SelectWrapper-s6em86w-1 irqUcv\"><div><div><div class=\"select-filter-async__InputWrapper-s6em86w-2 cjScFY\" height=\"40px\" width=\"100%\"><input type=\"search\" class=\"select-filter-async__Input-s6em86w-3 cOvXuG\" height=\"40px\" placeholder=\"Try &quot;aa100&quot; or &quot;AA JFK LHR&quot; or &quot;London Chicago&quot;\" value=\"\"><div class=\"select-filter-async__SpinnerWrapper-s6em86w-0 bjCEsN\"><svg class=\"input-spinner__StyledSpinner-qqpqdz-0 efuJVZ\" viewBox=\"0 0 50 50\"><circle class=\"path\" cx=\"25\" cy=\"25\" r=\"20\" fill=\"none\" stroke-width=\"4\"></circle></svg></div><div class=\"remove-button__RemoveBtn-s18st6bj-0 fchGfG\"><svg width=\"18px\" height=\"18px\" xmlns=\"http://www.w3.org/2000/svg\" viewBox=\"0 0 40 40\"><title>close</title><path fill=\"#444\" d=\"M31.6 10.7L22.3 20l9.3 9.3-2.3 2.3-9.3-9.3-9.3 9.3-2.3-2.3 9.3-9.3-9.3-9.3 2.3-2.3 9.3 9.3 9.3-9.3z\"></path></svg></div></div></div></div></div></div></div><div class=\"unified-search__ActionButtonWrapper-iq7jcx-6 igwKn\"><a class=\"unified-search__Anchor-iq7jcx-5 cmnqBs\"><div class=\"unified-search__SearchButton-iq7jcx-4 pLdPK\">SEARCH</div></a></div><div class=\"unified-search__ActionButtonWrapper-iq7jcx-6 igwKn\"><a class=\"button-link__ButtonLink-wcss74-0 cVLspB\" href=\"/v2/flight-tracker/search\">ADVANCED SEARCH</a></div></div></section><h1 class=\"header__HeaderWrapper-a7usbh-0 iMQXFJ\">(PS) UIA 945 Flight Tracker</h1><div class=\"layout-row__RowWrapper-s1uoco8s-0 dcdOHa\"><div class=\"layout-row__SectionContainer-s1uoco8s-2 iSGoko\"><div class=\"layout-row__TitleWrapper-s1uoco8s-3 jFgNNO\"><h2 class=\"layout-row__Title-s1uoco8s-4 bRoHMJ\">Flight Status</h2></div><div><div class=\"layout-row__RowInner-s1uoco8s-1 byoaAa\"><div class=\"desktop-ticket-with-button__TicketWithButtons-s1620ulo-0 hOLni\"><div class=\"ticket__TicketContainer-s1rrbl5o-0 bgrndo\"><div class=\"ticket__Header-s1rrbl5o-1 ipofwS\"><div class=\"ticket__FlightWithOperatedBy-s1rrbl5o-2 hnGDgb\"><div class=\"ticket__NumberAndRoute-s1rrbl5o-3 lllMtP\"><div class=\"ticket__FlightNumberContainer-s1rrbl5o-4 hgbvHg\"><div class=\"text-helper__TextHelper-s8bko4a-0 ekVwAR\">PS 945</div><div class=\"text-helper__TextHelper-s8bko4a-0 dNaxcH\">UIA</div></div><div class=\"ticket__RouteWithPlaneVisibilityWrapper-s1rrbl5o-18 jUFavd\"><div class=\"route-with-plane__RouteGroup-s154xj1h-0 geSBNm\"><div class=\"route-with-plane__Route-s154xj1h-1 epBIjQ\"><div><div class=\"route-with-plane__AirportCodeLabel-s154xj1h-2 gfzIST text-helper__TextHelper-s8bko4a-0 fDkXNq\"><a class=\"route-with-plane__AirportLink-s154xj1h-3 dBXRil\" href=\"https://www.flightstats.com/v2/airport-conditions/KBP\">KBP</a></div><div class=\"text-helper__TextHelper-s8bko4a-0 eFnGmW\">Kiev/Kyiv</div></div></div><div class=\"route-with-plane__Route-s154xj1h-1 dvnPzZ\"><svg width=\"35px\" height=\"32px\" viewBox=\"0 0 230 207.2\" xmlns=\"http://www.w3.org/2000/svg\"><path d=\"M69.9 202.8s-1.2.3-2.4.3-3.9-.4-3.2-.4c.6 0 1.4-1.2 1.4-1.2l-1-.1v-.9h1.7L78 172.8s1.5 0 1.5-.1c-1.5 0-2.4.1-2.5-.1.1-.3 12.6-30.6 12.9-31.3.1-.3 1.4-.1 1.4-.1l1.1-7.8h-1s2.1-16.4 1.9-16.9c-.3-.4-16.7.4-27.8-.4s-17.1-2.1-19.2-2.7c-2-.5-2.4-.1-3.3 1-.8 1-15.2 22-16.4 23.7s-1.8 1.8-2.5 1.8h-7.3l6.5-29.2s-2.7-.1-3.1-.6c-.4-.4-.2-1.3-.2-1.3s-5.6-.6-5.9-.9c-.4-.3-.5-.9-.5-.9s-5.7-1.3-5.9-1.9c.1-.6 5.9-1.9 5.9-1.9s.2-.6.5-.9c.4-.3 5.9-.9 5.9-.9s-.1-.9.2-1.3 3.1-.6 3.1-.6l-6.6-29.2H24c.7 0 1.3 0 2.5 1.8 1.3 1.8 15.6 22.7 16.4 23.7s1.3 1.5 3.3 1c2.1-.6 8.1-1.9 19.2-2.7s27.3-.1 27.6-.6c.3-.4-1.9-16.9-1.9-16.9h1L91 68.8s-1.3.1-1.4-.1c-.3-.7-12.8-31-12.9-31.3.1-.2 1.1-.1 2.5-.1 0-.1-1.5-.1-1.5-.1L66.2 9.4h-1.7v-.9l1-.1s-.7-1.2-1.4-1.2c-.6 0 2.1-.4 3.2-.4 1.3 0 2.4.3 2.4.3s-.3-1 .9-.8c.7.1 4.1 2.5 4.1 2.5s.5.2.9.1c.4 0 .7.5.9.8.1.2.9 0 .9 0s7.3 9.2 18.7 25.1c11.4 15.8 25.3 34.6 25.3 34.6s.8 0 1.9-.2 1.6-.3 1.6-.3.3-1 1-1.2c.5-.2 4.5-.7 8-.6s5.4.3 6 .6.8 1.1 1 2.3c.1 1.2.1 5.7-.1 6.8-.1 1-.3 1.7-1.6 1.9-1.4.2-6.1.2-8 .1-1.4-.1-2.9-.5-3-.3s3.3 4 4.7 6.1 4.2 5.7 5.1 6.1 1 .5.2.7c-.8.3-1.6.2-2.2-.1-.6-.4-1.3-.5-1.6-.2-.1.1.7 1.2 1.2 1.4.5.3 1.4 0 1.8.2s1.6.9 2.5.8c5.7-.2 14.4-.4 33.2-.4 20.1-.1 26.2.1 36.9 2.9 9.8 2.5 11.7 4.4 13.1 5.3 1.3.9 2.3 2.9 2.3 3.7 0 .8-1 2.8-2.3 3.7-1.4 1-3.3 2.8-13.1 5.3-10.8 2.7-16.8 2.9-36.9 2.9-18.8-.1-27.4-.3-33.2-.4-1 0-2.1.7-2.5.8-.4.2-1.3-.1-1.8.2s-1.3 1.3-1.2 1.4c.3.4 1 .2 1.6-.2s1.4-.4 2.2-.1.7.3-.2.7-3.8 4-5.1 6.1c-1.4 2.1-4.8 5.9-4.7 6.1s1.6-.2 3-.3c1.9-.1 6.6-.1 8 .1s1.5.8 1.6 1.9.2 5.7.1 6.8-.4 2-1 2.3-2.4.5-6 .6c-3.5.1-7.5-.4-8-.6-.7-.3-1-1.2-1-1.2s-.5-.1-1.6-.3-1.9-.2-1.9-.2-14 18.8-25.3 34.6c-11.4 15.9-18.7 25.1-18.7 25.1s-.7-.2-.9 0c-.2.3-.5.8-.9.8s-.9.1-.9.1-3.3 2.4-4.1 2.5c-1 .1-.7-.9-.7-.9zm8.5-190L77 10.9l-.2.1 1.3 1.8zm2.6 3.7L78.5 13l-.2.2 2.4 3.5zm2.6 3.7l-2.5-3.5-.2.1 2.4 3.5zm3.3 4.6l-3.2-4.4-.2.1 3.2 4.5zm3 4.3L87.1 25l-.2.1 2.9 4.1zm3.1 4.4l-2.9-4.1-.2.1 2.9 4.1zm3.2 4.4l-3-4.3-.2.2 3 4.3zm3.2 4.6l-3.1-4.3-.2.2 3 4.3zm3.2 4.5l-3-4.3-.2.1 3 4.3zm3.1 4.4l-3-4.3-.2.1 3 4.3zm3.1 4.3l-2.9-4.1-.2.1 2.9 4.1zm3 4.2l-2.9-4.1-.2.1 2.9 4.1zm3.6 5.1l-3.4-4.8-.2.1 3.4 4.8zm.9 1.3l-.8-1.1-.2.1.8 1.1zm3 4.1l-2.8-3.9-.2.1 2.8 4zm0 69.1l-.2-.1-2.8 4 .2.1zm-3 4.1l-.2-.1-.8 1.1.2.1zm-.9 1.4l-.2-.1-3.4 4.8.2.1zm-3.6 5l-.2-.1-2.9 4.1.2.1zm-3 4.3l-.2-.1-2.9 4.1.2.1zm-3.1 4.2l-.2-.1-3 4.3.2.1zm-3.1 4.5l-.2-.1-3 4.2.2.1zm-3.2 4.5l-.2-.1-3 4.3.2.2zm-3.2 4.5l-.2-.2-3 4.3.2.1zm-3.2 4.5l-.2-.1-2.9 4.1.2.1zm-3.1 4.3l-.2-.1-2.9 4.1.2.1zm-3 4.3l-.2-.1-3.2 4.5.2.1zm-3.3 4.7l-.2-.1-2.4 3.5.2.1zm-2.6 3.7l-.2-.1-2.4 3.5.2.2zm-2.6 3.6l-.2-.2-1.3 1.8.1.3z\" fill=\"#faa718\"></path></svg></div><div class=\"route-with-plane__Route-s154xj1h-1 epBIjQ\"><div><div class=\"route-with-plane__AirportCodeLabel-s154xj1h-2 gfzIST text-helper__TextHelper-s8bko4a-0 fDkXNq\"><a class=\"route-with-plane__AirportLink-s154xj1h-3 dBXRil\" href=\"https://www.flightstats.com/v2/airport-conditions/MAD\">MAD</a></div><div class=\"text-helper__TextHelper-s8bko4a-0 eFnGmW\">Madrid</div></div></div></div></div></div></div><div class=\"ticket__StatusContainer-s1rrbl5o-17 fWLIvb\" color=\"#ffffff\"><div class=\"text-helper__TextHelper-s8bko4a-0 kWxgTv\" color=\"#ffffff\">Arrived</div><div class=\"text-helper__TextHelper-s8bko4a-0 yeKfN\" color=\"#ffffff\">On time</div></div></div><div class=\"ticket__TicketContent-s1rrbl5o-6 ccpWcM\"><div class=\"ticket__TicketCard-s1rrbl5o-7 dJloSk\"><div class=\"ticket__InfoSection-s1rrbl5o-8 isGpsI\"><div class=\"ticket__AirportCodeLabel-s1rrbl5o-9 kvCFkA text-helper__TextHelper-s8bko4a-0 iaZAuU\"><a class=\"ticket__AirportLink-s1rrbl5o-10 cuIkvt\" href=\"https://www.flightstats.com/v2/airport-conditions/KBP\">KBP</a></div><div class=\"text-helper__TextHelper-s8bko4a-0 blQyiG\">Kiev/Kyiv, UA</div><div class=\"text-helper__TextHelper-s8bko4a-0 CPamx\">Boryspil International Airport</div></div><div class=\"ticket__InfoSection-s1rrbl5o-8 isGpsI\"><div class=\"text-helper__TextHelper-s8bko4a-0 cOYJbf\">Flight Departure Times</div><div class=\"text-helper__TextHelper-s8bko4a-0 xAWXb\" color=\"#d6d6d6\">11-May-2019</div></div><div class=\"ticket__TimeGroupContainer-s1rrbl5o-11 ckbilY\"><div class=\"ticket__InfoSection-s1rrbl5o-8 igyRqP\"><div class=\"text-helper__TextHelper-s8bko4a-0 bcmzUJ\">Scheduled</div><div class=\"text-helper__TextHelper-s8bko4a-0 cCfBRT\">20:40<span class=\"ticket__TimeSuffix-s1rrbl5o-12 koWibD\" color=\"#d6d6d6\"> EEST</span></div></div><div class=\"ticket__InfoSection-s1rrbl5o-8 igyRqP\"><div class=\"text-helper__TextHelper-s8bko4a-0 bcmzUJ\">Actual</div><div class=\"text-helper__TextHelper-s8bko4a-0 cCfBRT\">20:40<span class=\"ticket__TimeSuffix-s1rrbl5o-12 koWibD\" color=\"#d6d6d6\"> EEST</span></div></div></div><div class=\"ticket__TerminalGateBagContainer-s1rrbl5o-13 ubbwc\"><div class=\"ticket__TGBSection-s1rrbl5o-14 bcEbYB ticket__InfoSection-s1rrbl5o-8 isGpsI\"><div class=\"ticket__TGBLabel-s1rrbl5o-15 gcbyEH text-helper__TextHelper-s8bko4a-0 dfeqpK\">Terminal</div><div class=\"ticket__TGBValue-s1rrbl5o-16 icyRae text-helper__TextHelper-s8bko4a-0 cCfBRT\">D</div></div><div class=\"ticket__TGBSection-s1rrbl5o-14 gOacyS ticket__InfoSection-s1rrbl5o-8 isGpsI\"><div class=\"ticket__TGBLabel-s1rrbl5o-15 gcbyEH text-helper__TextHelper-s8bko4a-0 dfeqpK\">Gate</div><div class=\"ticket__TGBValue-s1rrbl5o-16 icyRae text-helper__TextHelper-s8bko4a-0 cCfBRT\">N/A</div></div></div></div><div class=\"ticket__TicketCard-s1rrbl5o-7 dJloSk\"><div class=\"ticket__InfoSection-s1rrbl5o-8 isGpsI\"><div class=\"ticket__AirportCodeLabel-s1rrbl5o-9 kvCFkA text-helper__TextHelper-s8bko4a-0 iaZAuU\"><a class=\"ticket__AirportLink-s1rrbl5o-10 cuIkvt\" href=\"https://www.flightstats.com/v2/airport-conditions/MAD\">MAD</a></div><div class=\"text-helper__TextHelper-s8bko4a-0 blQyiG\">Madrid, SP, ES</div><div class=\"text-helper__TextHelper-s8bko4a-0 CPamx\">Adolfo Suarez Madrid-Barajas Airport</div></div><div class=\"ticket__InfoSection-s1rrbl5o-8 isGpsI\"><div class=\"text-helper__TextHelper-s8bko4a-0 cOYJbf\">Flight Arrival Times</div><div class=\"text-helper__TextHelper-s8bko4a-0 xAWXb\" color=\"#d6d6d6\">12-May-2019</div></div><div class=\"ticket__TimeGroupContainer-s1rrbl5o-11 ckbilY\"><div class=\"ticket__InfoSection-s1rrbl5o-8 igyRqP\"><div class=\"text-helper__TextHelper-s8bko4a-0 bcmzUJ\">Scheduled</div><div class=\"text-helper__TextHelper-s8bko4a-0 cCfBRT\">00:10<span class=\"ticket__TimeSuffix-s1rrbl5o-12 koWibD\" color=\"#d6d6d6\"> CEST</span></div></div><div class=\"ticket__InfoSection-s1rrbl5o-8 igyRqP\"><div class=\"text-helper__TextHelper-s8bko4a-0 bcmzUJ\">Actual</div><div class=\"text-helper__TextHelper-s8bko4a-0 cCfBRT\">23:48<span class=\"ticket__TimeSuffix-s1rrbl5o-12 koWibD\" color=\"#d6d6d6\"> CEST</span></div></div></div><div class=\"ticket__TerminalGateBagContainer-s1rrbl5o-13 ubbwc\"><div class=\"ticket__TGBSection-s1rrbl5o-14 bcEbYB ticket__InfoSection-s1rrbl5o-8 isGpsI\"><div class=\"ticket__TGBLabel-s1rrbl5o-15 gcbyEH text-helper__TextHelper-s8bko4a-0 dfeqpK\">Terminal</div><div class=\"ticket__TGBValue-s1rrbl5o-16 icyRae text-helper__TextHelper-s8bko4a-0 cCfBRT\">4</div></div><div class=\"ticket__TGBSection-s1rrbl5o-14 bcEbYB ticket__InfoSection-s1rrbl5o-8 isGpsI\"><div class=\"ticket__TGBLabel-s1rrbl5o-15 gcbyEH text-helper__TextHelper-s8bko4a-0 dfeqpK\">Gate</div><div class=\"ticket__TGBValue-s1rrbl5o-16 icyRae text-helper__TextHelper-s8bko4a-0 cCfBRT\">N/A</div></div><div class=\"ticket__TGBSection-s1rrbl5o-14 gOacyS ticket__InfoSection-s1rrbl5o-8 isGpsI\"><div class=\"ticket__TGBLabel-s1rrbl5o-15 gcbyEH text-helper__TextHelper-s8bko4a-0 dfeqpK\">Baggage</div><div class=\"ticket__TGBValue-s1rrbl5o-16 icyRae text-helper__TextHelper-s8bko4a-0 cCfBRT\">01</div></div></div></div></div></div><div class=\"desktop-action-button__ButtonWrapper-s1jep3p5-0 kBcTIl\"><a class=\"button-link__ButtonLink-wcss74-0 cVLspB\" href=\"https://www.flightstats.com/v2/flight-details/PS/945?year=2019&amp;month=5&amp;date=11&amp;flightId=999454385\" id=\"extendedDetailsButton\">VIEW FLIGHT DETAILS</a><a class=\"button-link__ButtonLink-wcss74-0 cVLspB\" href=\"https://www.flightstats.com/v2/flight-ontime-performance-rating/PS/945/KBP\" id=\"onTimePerformanceButton\">ON-TIME PERFORMANCE</a><a class=\"button-link__ButtonLink-wcss74-0 cVLspB\" href=\"https://www.flightstats.com/v2/airport-delays/europe\">AIRPORT DELAYS</a><a class=\"button-link__ButtonLink-wcss74-0 cVLspB\" href=\"https://www.flightstats.com/v2/airport-conditions/KBP\">KBP AIRPORT CONDITIONS</a><a class=\"button-link__ButtonLink-wcss74-0 cVLspB\" href=\"https://www.flightstats.com/v2/airport-conditions/MAD\">MAD AIRPORT CONDITIONS</a><a class=\"button-link__ButtonLink-wcss74-0 cVLspB\" href=\"/v2/flight-tracker/PS/945?year=2019&amp;month=5&amp;date=11&amp;flightId=999454385\">REFRESH DATA</a></div></div><div class=\"ticket-ads__AdWrapper-s1r2hpb8-0 cTVqNb\"><div class=\"ad__Wrapper-s2h2yxm-0 eGOOct\" height=\"250\" width=\"300\"><div style=\"\" id=\"div-gpt-ad-1470845574196-0\" data-google-query-id=\"CJWfyvq1m-ICFZEu4AodGY4FNg\"><div id=\"google_ads_iframe_/1010197/BS_FlightTracker_top_300x250_0__container__\" style=\"border: 0pt none; display: inline-block; width: 300px; height: 250px;\"><iframe frameborder=\"0\" src=\"https://tpc.googlesyndication.com/safeframe/1-0-33/html/container.html\" id=\"google_ads_iframe_/1010197/BS_FlightTracker_top_300x250_0\" title=\"3rd party ad content\" name=\"\" scrolling=\"no\" marginwidth=\"0\" marginheight=\"0\" width=\"300\" height=\"250\" data-is-safeframe=\"true\" sandbox=\"allow-forms allow-pointer-lock allow-popups allow-popups-to-escape-sandbox allow-same-origin allow-scripts allow-top-navigation-by-user-activation\" data-google-container-id=\"2\" style=\"border: 0px; vertical-align: bottom;\" data-load-complete=\"true\"></iframe></div></div></div><div class=\"ad__Wrapper-s2h2yxm-0 eGOOct\" height=\"250\" width=\"300\"><div style=\"\" id=\"div-gpt-ad-1470845574196-1\" data-google-query-id=\"CNq0zvq1m-ICFQon4Aod4wYGog\"><div id=\"google_ads_iframe_/1010197/BS_FlightTracker_Second_300x250_0__container__\" style=\"border: 0pt none; display: inline-block; width: 300px; height: 250px;\"><iframe frameborder=\"0\" src=\"https://tpc.googlesyndication.com/safeframe/1-0-33/html/container.html\" id=\"google_ads_iframe_/1010197/BS_FlightTracker_Second_300x250_0\" title=\"3rd party ad content\" name=\"\" scrolling=\"no\" marginwidth=\"0\" marginheight=\"0\" width=\"300\" height=\"250\" data-is-safeframe=\"true\" sandbox=\"allow-forms allow-pointer-lock allow-popups allow-popups-to-escape-sandbox allow-same-origin allow-scripts allow-top-navigation-by-user-activation\" data-google-container-id=\"3\" style=\"border: 0px; vertical-align: bottom;\" data-load-complete=\"true\"></iframe></div></div></div></div></div></div></div></div><div class=\"layout-row__RowWrapper-s1uoco8s-0 dcdOHa\"><div class=\"layout-row__SectionContainer-s1uoco8s-2 iSGoko\"><div class=\"layout-row__TitleWrapper-s1uoco8s-3 jFgNNO\"><h2 class=\"layout-row__Title-s1uoco8s-4 bRoHMJ\">Flight Tracker</h2></div><div><div class=\"layout-row__RowInner-s1uoco8s-1 byoaAa\"><div class=\"tracker__Wrapper-s1ixqjdu-0 dOavAN\"><div class=\"row__Row-s18xg2xa-0 hbKFUI\"><div class=\"notice__NoticeWrapper-s1s5ew8y-0 kJjIdo\"><h3 class=\"notice__Heading-s1s5ew8y-1 fVrVhY\">Positional Tracking Has Ended</h3><p class=\"notice__Body-s1s5ew8y-2 fKKnnY\">The flight has landed</p></div></div><div class=\"row__Row-s18xg2xa-0 hbKFUI\"><div class=\"client-only-flight-map__MapWrapper-yxmqy7-0 iUmJlv\"><div class=\"flight-map__Wrapper-s172mvfy-0 gBufLu\"><div class=\"leaflet-container leaflet-touch leaflet-fade-anim leaflet-grab leaflet-touch-drag leaflet-touch-zoom\" style=\"z-index: 1; height: 100%; width: 100%; position: relative;\" tabindex=\"0\"><div class=\"leaflet-pane leaflet-map-pane\" style=\"transform: translate3d(0px, 0px, 0px);\"><div class=\"leaflet-pane leaflet-tile-pane\"><div class=\"leaflet-layer \" style=\"z-index: 2; opacity: 1;\"><div class=\"leaflet-tile-container leaflet-zoom-animated\" style=\"z-index: 6; transform: translate3d(0px, 0px, 0px) scale(1);\"><img alt=\"\" role=\"presentation\" src=\"//tiles2.flightstats.com/satellite/v2/4/8/5.png\" class=\"leaflet-tile leaflet-tile-loaded\" style=\"width: 256px; height: 256px; transform: translate3d(270px, 118px, 0px); opacity: 1;\"><img alt=\"\" role=\"presentation\" src=\"//tiles1.flightstats.com/satellite/v2/4/8/4.png\" class=\"leaflet-tile leaflet-tile-loaded\" style=\"width: 256px; height: 256px; transform: translate3d(270px, -138px, 0px); opacity: 1;\"><img alt=\"\" role=\"presentation\" src=\"//tiles1.flightstats.com/satellite/v2/4/7/5.png\" class=\"leaflet-tile leaflet-tile-loaded\" style=\"width: 256px; height: 256px; transform: translate3d(14px, 118px, 0px); opacity: 1;\"><img alt=\"\" role=\"presentation\" src=\"//tiles3.flightstats.com/satellite/v2/4/9/5.png\" class=\"leaflet-tile leaflet-tile-loaded\" style=\"width: 256px; height: 256px; transform: translate3d(526px, 118px, 0px); opacity: 1;\"><img alt=\"\" role=\"presentation\" src=\"//tiles3.flightstats.com/satellite/v2/4/8/6.png\" class=\"leaflet-tile leaflet-tile-loaded\" style=\"width: 256px; height: 256px; transform: translate3d(270px, 374px, 0px); opacity: 1;\"><img alt=\"\" role=\"presentation\" src=\"//tiles4.flightstats.com/satellite/v2/4/7/4.png\" class=\"leaflet-tile leaflet-tile-loaded\" style=\"width: 256px; height: 256px; transform: translate3d(14px, -138px, 0px); opacity: 1;\"><img alt=\"\" role=\"presentation\" src=\"//tiles2.flightstats.com/satellite/v2/4/9/4.png\" class=\"leaflet-tile leaflet-tile-loaded\" style=\"width: 256px; height: 256px; transform: translate3d(526px, -138px, 0px); opacity: 1;\"><img alt=\"\" role=\"presentation\" src=\"//tiles2.flightstats.com/satellite/v2/4/7/6.png\" class=\"leaflet-tile leaflet-tile-loaded\" style=\"width: 256px; height: 256px; transform: translate3d(14px, 374px, 0px); opacity: 1;\"><img alt=\"\" role=\"presentation\" src=\"//tiles4.flightstats.com/satellite/v2/4/9/6.png\" class=\"leaflet-tile leaflet-tile-loaded\" style=\"width: 256px; height: 256px; transform: translate3d(526px, 374px, 0px); opacity: 1;\"><img alt=\"\" role=\"presentation\" src=\"//tiles4.flightstats.com/satellite/v2/4/6/5.png\" class=\"leaflet-tile leaflet-tile-loaded\" style=\"width: 256px; height: 256px; transform: translate3d(-242px, 118px, 0px); opacity: 1;\"><img alt=\"\" role=\"presentation\" src=\"//tiles4.flightstats.com/satellite/v2/4/10/5.png\" class=\"leaflet-tile leaflet-tile-loaded\" style=\"width: 256px; height: 256px; transform: translate3d(782px, 118px, 0px); opacity: 1;\"><img alt=\"\" role=\"presentation\" src=\"//tiles3.flightstats.com/satellite/v2/4/6/4.png\" class=\"leaflet-tile leaflet-tile-loaded\" style=\"width: 256px; height: 256px; transform: translate3d(-242px, -138px, 0px); opacity: 1;\"><img alt=\"\" role=\"presentation\" src=\"//tiles3.flightstats.com/satellite/v2/4/10/4.png\" class=\"leaflet-tile leaflet-tile-loaded\" style=\"width: 256px; height: 256px; transform: translate3d(782px, -138px, 0px); opacity: 1;\"><img alt=\"\" role=\"presentation\" src=\"//tiles1.flightstats.com/satellite/v2/4/6/6.png\" class=\"leaflet-tile leaflet-tile-loaded\" style=\"width: 256px; height: 256px; transform: translate3d(-242px, 374px, 0px); opacity: 1;\"><img alt=\"\" role=\"presentation\" src=\"//tiles1.flightstats.com/satellite/v2/4/10/6.png\" class=\"leaflet-tile leaflet-tile-loaded\" style=\"width: 256px; height: 256px; transform: translate3d(782px, 374px, 0px); opacity: 1;\"></div></div><div class=\"leaflet-layer \" style=\"z-index: 1;\"></div><div class=\"leaflet-layer \" style=\"z-index: 7; opacity: 1;\"><div class=\"leaflet-tile-container leaflet-zoom-animated\" style=\"z-index: 6; transform: translate3d(0px, 0px, 0px) scale(1);\"><img alt=\"\" role=\"presentation\" src=\"//tiles2.flightstats.com/hybrid/v2/4/8/5.png\" class=\"leaflet-tile leaflet-tile-loaded\" style=\"width: 256px; height: 256px; transform: translate3d(270px, 118px, 0px); opacity: 1;\"><img alt=\"\" role=\"presentation\" src=\"//tiles1.flightstats.com/hybrid/v2/4/8/4.png\" class=\"leaflet-tile leaflet-tile-loaded\" style=\"width: 256px; height: 256px; transform: translate3d(270px, -138px, 0px); opacity: 1;\"><img alt=\"\" role=\"presentation\" src=\"//tiles1.flightstats.com/hybrid/v2/4/7/5.png\" class=\"leaflet-tile leaflet-tile-loaded\" style=\"width: 256px; height: 256px; transform: translate3d(14px, 118px, 0px); opacity: 1;\"><img alt=\"\" role=\"presentation\" src=\"//tiles3.flightstats.com/hybrid/v2/4/9/5.png\" class=\"leaflet-tile leaflet-tile-loaded\" style=\"width: 256px; height: 256px; transform: translate3d(526px, 118px, 0px); opacity: 1;\"><img alt=\"\" role=\"presentation\" src=\"//tiles3.flightstats.com/hybrid/v2/4/8/6.png\" class=\"leaflet-tile leaflet-tile-loaded\" style=\"width: 256px; height: 256px; transform: translate3d(270px, 374px, 0px); opacity: 1;\"><img alt=\"\" role=\"presentation\" src=\"//tiles4.flightstats.com/hybrid/v2/4/7/4.png\" class=\"leaflet-tile leaflet-tile-loaded\" style=\"width: 256px; height: 256px; transform: translate3d(14px, -138px, 0px); opacity: 1;\"><img alt=\"\" role=\"presentation\" src=\"//tiles2.flightstats.com/hybrid/v2/4/9/4.png\" class=\"leaflet-tile leaflet-tile-loaded\" style=\"width: 256px; height: 256px; transform: translate3d(526px, -138px, 0px); opacity: 1;\"><img alt=\"\" role=\"presentation\" src=\"//tiles2.flightstats.com/hybrid/v2/4/7/6.png\" class=\"leaflet-tile leaflet-tile-loaded\" style=\"width: 256px; height: 256px; transform: translate3d(14px, 374px, 0px); opacity: 1;\"><img alt=\"\" role=\"presentation\" src=\"//tiles4.flightstats.com/hybrid/v2/4/9/6.png\" class=\"leaflet-tile leaflet-tile-loaded\" style=\"width: 256px; height: 256px; transform: translate3d(526px, 374px, 0px); opacity: 1;\"><img alt=\"\" role=\"presentation\" src=\"//tiles4.flightstats.com/hybrid/v2/4/6/5.png\" class=\"leaflet-tile leaflet-tile-loaded\" style=\"width: 256px; height: 256px; transform: translate3d(-242px, 118px, 0px); opacity: 1;\"><img alt=\"\" role=\"presentation\" src=\"//tiles4.flightstats.com/hybrid/v2/4/10/5.png\" class=\"leaflet-tile leaflet-tile-loaded\" style=\"width: 256px; height: 256px; transform: translate3d(782px, 118px, 0px); opacity: 1;\"><img alt=\"\" role=\"presentation\" src=\"//tiles3.flightstats.com/hybrid/v2/4/6/4.png\" class=\"leaflet-tile leaflet-tile-loaded\" style=\"width: 256px; height: 256px; transform: translate3d(-242px, -138px, 0px); opacity: 1;\"><img alt=\"\" role=\"presentation\" src=\"//tiles3.flightstats.com/hybrid/v2/4/10/4.png\" class=\"leaflet-tile leaflet-tile-loaded\" style=\"width: 256px; height: 256px; transform: translate3d(782px, -138px, 0px); opacity: 1;\"><img alt=\"\" role=\"presentation\" src=\"//tiles1.flightstats.com/hybrid/v2/4/6/6.png\" class=\"leaflet-tile leaflet-tile-loaded\" style=\"width: 256px; height: 256px; transform: translate3d(-242px, 374px, 0px); opacity: 1;\"><img alt=\"\" role=\"presentation\" src=\"//tiles1.flightstats.com/hybrid/v2/4/10/6.png\" class=\"leaflet-tile leaflet-tile-loaded\" style=\"width: 256px; height: 256px; transform: translate3d(782px, 374px, 0px); opacity: 1;\"></div></div><div class=\"leaflet-layer \" style=\"z-index: 1000; opacity: 0.6;\"><div class=\"leaflet-tile-container leaflet-zoom-animated\" style=\"z-index: 8; transform: translate3d(0px, 0px, 0px) scale(1);\"></div></div></div><div class=\"leaflet-pane leaflet-shadow-pane\"></div><div class=\"leaflet-pane leaflet-overlay-pane\"><svg pointer-events=\"none\" class=\"leaflet-zoom-animated\" width=\"1021\" height=\"720\" viewBox=\"-85 -60 1021 720\" style=\"transform: translate3d(-85px, -60px, 0px);\"><g><path class=\"leaflet-interactive\" stroke=\"#828483\" stroke-opacity=\"0.4\" stroke-width=\"7\" stroke-linecap=\"round\" stroke-linejoin=\"round\" fill=\"none\" d=\"M622 221L583 228L520 243L425 276L358 306L327 322L286 345L229 381\"></path><path class=\"leaflet-interactive\" stroke=\"#D1D1D2\" stroke-opacity=\"0.6\" stroke-width=\"4\" stroke-linecap=\"round\" stroke-linejoin=\"round\" fill=\"none\" d=\"M622 221L583 228L520 243L425 276L358 306L327 322L286 345L229 381\"></path><path class=\"leaflet-interactive\" stroke=\"#828483\" stroke-opacity=\"0.5\" stroke-width=\"6\" stroke-linecap=\"round\" stroke-linejoin=\"round\" fill=\"none\" d=\"M230 382L230 382M230 382L232 384L238 384L266 373L284 371L295 368L354 325L445 290L480 273L526 255L588 227L600 223L618 223L622 221L621 223L624 221L618 224\"></path><path class=\"leaflet-interactive\" stroke=\"#55f241\" stroke-opacity=\"0.8\" stroke-width=\"4\" stroke-linecap=\"round\" stroke-linejoin=\"round\" fill=\"none\" d=\"M230 382L230 382M230 382L232 384L238 384L266 373L284 371L295 368L354 325L445 290L480 273L526 255L588 227L600 223L618 223L622 221L621 223L624 221L618 224\"></path></g></svg></div><div class=\"leaflet-pane leaflet-marker-pane\"><div class=\"leaflet-marker-icon flight-tracker-map-airport-icon leaflet-zoom-animated leaflet-interactive\" tabindex=\"0\" style=\"margin-left: -19px; margin-top: -48px; width: 38px; height: 48px; transform: translate3d(622px, 221px, 0px); z-index: 221;\"><object data=\"//assets.flightstats.com/v2/sprites/spritesheet-520196e2.svg#map-airport-departure\" width=\"38\" height=\"48\" alt=\"map-airport-departure\" style=\"pointer-events: none;\"></object></div><div class=\"leaflet-marker-icon flight-tracker-map-airport-icon leaflet-zoom-animated leaflet-interactive\" tabindex=\"0\" style=\"margin-left: -19px; margin-top: -48px; width: 38px; height: 48px; transform: translate3d(229px, 381px, 0px); z-index: 381;\"><object data=\"//assets.flightstats.com/v2/sprites/spritesheet-520196e2.svg#map-airport-arrival\" width=\"38\" height=\"48\" alt=\"map-airport-arrival\" style=\"pointer-events: none;\"></object></div><div class=\"leaflet-marker-icon leaflet-zoom-animated leaflet-interactive\" tabindex=\"0\" style=\"margin-left: -24px; margin-top: -24px; width: 48px; height: 48px; transform: translate3d(229px, 381px, 0px); z-index: 1381;\"><object data=\"//assets.flightstats.com/v2/sprites/spritesheet-520196e2.svg#map-plane\" width=\"48\" height=\"48\" alt=\"map-plane\" style=\"pointer-events: none; transform: rotate(-87.2028deg);\"></object></div></div><div class=\"leaflet-pane leaflet-tooltip-pane\"></div><div class=\"leaflet-pane leaflet-popup-pane\"></div><div class=\"leaflet-proxy leaflet-zoom-animated\" style=\"transform: translate3d(2203.5px, 1462px, 0px) scale(8);\"></div></div><div class=\"leaflet-control-container\"><div class=\"leaflet-top leaflet-left\"></div><div class=\"leaflet-top leaflet-right\"></div><div class=\"leaflet-bottom leaflet-left\"></div><div class=\"leaflet-bottom leaflet-right\"><div class=\"leaflet-control-attribution leaflet-control\"><a href=\"http://leafletjs.com\" title=\"A JS library for interactive maps\">Leaflet</a> | <a id=\"attr-link\" classname=\"\" alt=\"link to attributions list\" href=\"/map-attributions\">Map licensing</a></div></div></div><div></div><div></div><div class=\"flight-map__MapLayerControls-s172mvfy-1 dCjOje\"><div class=\"map-control-button__Wrapper-fpups6-0 hIbFiM\" width=\"60px\" height=\"75px\"><div class=\"map-control-button__Label-fpups6-1 likpgc\">Labels</div><div class=\"map-control-button__Opacinator-fpups6-2 eliAYB\"><svg width=\"60px\" height=\"75px\" data-name=\"Layer 1\" xmlns=\"http://www.w3.org/2000/svg\" viewBox=\"0 0 60 75\"><path fill=\"#454545\" d=\"M0 0h60v75H0z\"></path><path d=\"M58 73.5H2v-72h56zm-54.78-1h53.56v-70H3.22z\" fill=\"#faa718\"></path><path d=\"M34.22 19.44a49.52 49.52 0 0 0-11.86-1.87C16.25 17.45 14 19 14 19v38.4h2V39.66s11.47-.3 16.9 1.26 13.1-.07 13.1-.07V19c-5.18 1.7-11.78.44-11.78.44z\" opacity=\".2\" fill=\"#faa718\"></path></svg></div></div><div class=\"map-control-button__Wrapper-fpups6-0 hIbFiM\" width=\"60px\" height=\"75px\"><div class=\"map-control-button__Label-fpups6-1 likpgc\">US Weather</div><div class=\"map-control-button__Opacinator-fpups6-2 eliAYB\"><svg width=\"60px\" height=\"75px\" xmlns=\"http://www.w3.org/2000/svg\"><g fill=\"none\"><path fill=\"#454545\" d=\"M0 0h60v75H0z\"></path><path d=\"M58 73.5H2v-72h56v72zm-54.78-1h53.56v-70H3.22v70z\" fill=\"#FAA718\"></path><path d=\"M26.34 22.88a1.22 1.22 0 0 0 1.22-1.22v-2.44a1.22 1.22 0 1 0-2.44 0v2.44c0 .674.546 1.22 1.22 1.22zm9.48 3.21l1.72-1.72a1.23 1.23 0 0 0 0-1.72 1.21 1.21 0 0 0-1.72 0l-1.72 1.72a1.22 1.22 0 0 0 1.72 1.72zm-24.1 9h2.44a1.22 1.22 0 1 0 0-2.44h-2.44a1.22 1.22 0 1 0 0 2.44zm25.59-1.22c0 .674.546 1.22 1.22 1.22H41a1.22 1.22 0 1 0 0-2.44h-2.47a1.22 1.22 0 0 0-1.22 1.19v.03zm-20.45-7.78a1.23 1.23 0 0 0 1.72 0 1.21 1.21 0 0 0 0-1.72l-1.72-1.73a1.22 1.22 0 0 0-1.72 1.72l1.72 1.73zM41 37.5a9.55 9.55 0 0 0-1.2.08 12.12 12.12 0 0 0-4.92-3.92 8.52 8.52 0 0 0-17 .18 8.29 8.29 0 0 0 .88 3.69 8.52 8.52 0 0 0 .34 17 8.65 8.65 0 0 0 3-.55 12 12 0 0 0 15.88 0 8.65 8.65 0 0 0 3 .55A8.53 8.53 0 0 0 41 37.5zm-11-4.88a12.07 12.07 0 0 0-9 4.06 6.07 6.07 0 1 1 11.36-3.81 12.06 12.06 0 0 0-2.36-.25z\" fill=\"#FAA718\" opacity=\".2\"></path></g></svg></div></div></div><div class=\"flight-map__MapZoomControls-s172mvfy-2 kmvWil flight-map__MapLayerControls-s172mvfy-1 dCjOje\"><div class=\"map-control-button__Wrapper-fpups6-0 klOhyf\" width=\"50px\" height=\"30px\"><div class=\"map-control-button__Label-fpups6-1 likpgc\"></div><div class=\"map-control-button__Opacinator-fpups6-2 eliAYB\"><svg width=\"50px\" height=\"30px\" xmlns=\"http://www.w3.org/2000/svg\"><g fill=\"none\"><path fill=\"#454545\" d=\"M0 0h50v30H0z\"></path><path d=\"M48 28.5H2v-27h46v27zm-45-1h44v-25H3v25z\" fill=\"#FAA718\"></path><path d=\"M14.7 9.9H35V20H14.7V9.9zM10 5h1.6v6.5H10V5z\" fill=\"#FFF\"></path><path fill=\"#FFF\" d=\"M10 5h6.5v1.6H10z\"></path><path fill=\"#FFF\" d=\"M10.434 6.33l1.131-1.13 5.586 5.585-1.131 1.132zM33.5 4.9H40v1.6h-6.5z\"></path><path fill=\"#FFF\" d=\"M38.5 4.9h1.6v6.5h-1.6z\"></path><path fill=\"#FFF\" d=\"M33.11 10.941l5.586-5.586 1.132 1.131-5.586 5.586zM38.5 18.5h1.6V25h-1.6z\"></path><path fill=\"#FFF\" d=\"M33.5 23.3H40v1.6h-6.5z\"></path><path fill=\"#FFF\" d=\"M32.95 19.112l1.132-1.131 5.586 5.586-1.13 1.131zM10 23.5h6.5v1.6H10z\"></path><path fill=\"#FFF\" d=\"M10 18.5h1.6V25H10z\"></path><path fill=\"#FFF\" d=\"M10.312 23.523l5.586-5.586 1.131 1.131-5.586 5.586z\"></path></g></svg></div></div><div class=\"zoom-control__Wrapper-leegfm-0 gteAc\"><div class=\"map-control-button__Wrapper-fpups6-0 klOhyf\" width=\"50px\" height=\"30px\"><div class=\"map-control-button__Label-fpups6-1 likpgc\"></div><div class=\"map-control-button__Opacinator-fpups6-2 eliAYB\"><svg width=\"50px\" height=\"30px\" xmlns=\"http://www.w3.org/2000/svg\" viewBox=\"0 0 50 30\"><path class=\"st0\" fill=\"#454545\" d=\"M0 0h50v30H0z\"></path><path class=\"st1\" d=\"M48 28.5H2v-27h46v27zm-45-1h44v-25H3v25z\" fill=\"#FAA718\"></path><path class=\"st2\" fill=\"#FFF\" d=\"M17.2 13.4h15.5v3.1H17.2z\"></path><path class=\"st2\" fill=\"#FFF\" d=\"M23.5 7.2h3.1v15.5h-3.1z\"></path></svg></div></div><div class=\"map-control-button__Wrapper-fpups6-0 klOhyf\" width=\"50px\" height=\"30px\"><div class=\"map-control-button__Label-fpups6-1 likpgc\"></div><div class=\"map-control-button__Opacinator-fpups6-2 eliAYB\"><svg width=\"50px\" height=\"30px\" xmlns=\"http://www.w3.org/2000/svg\"><g fill=\"none\"><path fill=\"#454545\" d=\"M0 0h50v30H0z\"></path><path d=\"M48 28.5H2v-27h46v27zm-45-1h44v-25H3v25z\" fill=\"#FAA718\"></path><path fill=\"#FFF\" d=\"M17.2 13.4h15.5v3.1H17.2z\"></path></g></svg></div></div><div class=\"map-control-button__Wrapper-fpups6-0 klOhyf\" width=\"50px\" height=\"30px\"><div class=\"map-control-button__Label-fpups6-1 likpgc\"></div><div class=\"map-control-button__Opacinator-fpups6-2 eliAYB\"><svg width=\"50px\" height=\"30px\" xmlns=\"http://www.w3.org/2000/svg\" viewBox=\"0 0 50 30\"><path class=\"st0\" fill=\"#454545\" d=\"M0 0h50v30H0z\"></path><path class=\"st1\" d=\"M48 28.5H2v-27h46v27zm-45-1h44v-25H3v25z\" fill=\"#FAA718\"></path><circle class=\"st2\" cx=\"25\" cy=\"15.2\" r=\"4.2\" fill=\"#FFF\"></circle><path class=\"st2\" d=\"M36 14.5h-2.5c-.3-4.2-3.8-7.6-8-7.8V4h-.9v2.7c-4.3.2-7.7 3.6-8 7.8H14v.9h2.5c.1 4.4 3.6 8 8 8.2V26h.9v-2.3c4.4-.2 7.9-3.8 8-8.2H36v-1zm-10.5 8.2V21h-.9v1.7c-3.8-.2-6.9-3.4-7-7.2H19v-.9h-1.5c.3-3.7 3.3-6.6 7-6.8V9h.9V7.7c3.7.2 6.7 3.1 7 6.8H31v.9h1.5c-.1 3.9-3.2 7-7 7.3z\" fill=\"#FFF\"></path></svg></div></div></div></div></div></div></div><div class=\"tracker-ad__AdWrapper-s1g546b7-0 jPkVeb\"><div class=\"ad__Wrapper-s2h2yxm-0 ccIrsF\" height=\"600\" width=\"300\"><div style=\"\" id=\"div-gpt-ad-1522279396356-0\" data-google-query-id=\"CJLW2fq1m-ICFcoK4AodcoALCg\"><div id=\"google_ads_iframe_/1010197/BS_FlightTracker_top_300x600_0__container__\" style=\"border: 0pt none; display: inline-block; width: 300px; height: 600px;\"><iframe frameborder=\"0\" src=\"https://tpc.googlesyndication.com/safeframe/1-0-33/html/container.html\" id=\"google_ads_iframe_/1010197/BS_FlightTracker_top_300x600_0\" title=\"3rd party ad content\" name=\"\" scrolling=\"no\" marginwidth=\"0\" marginheight=\"0\" width=\"300\" height=\"600\" data-is-safeframe=\"true\" sandbox=\"allow-forms allow-pointer-lock allow-popups allow-popups-to-escape-sandbox allow-same-origin allow-scripts allow-top-navigation-by-user-activation\" data-google-container-id=\"4\" style=\"border: 0px; vertical-align: bottom;\" data-load-complete=\"true\"></iframe></div></div></div></div></div><div class=\"tracker__MiniTrackerRow-s1ixqjdu-1 eoLzOB row__Row-s18xg2xa-0 hbKFUI\"><div class=\"flight-mini-tracker__MiniTrackerWrapper-s25va3-0 hPcTyb\"><div class=\"row__Row-s18xg2xa-0 hbKFUI\"><div class=\"flight-mini-tracker__GraphWrapper-s25va3-1 fkgZPZ\"><div class=\"flight-mini-tracker__GraphAndPhase-s25va3-6 fblRex\"><div class=\"flight-mini-tracker__GraphOuter-s25va3-7 cQaOrk\" id=\"trackerGraph\"><svg class=\"flight-mini-tracker__SVGWrapper-s25va3-4 ThPwX\"><path id=\"vert-backfill\" stroke=\"rgba(250, 168, 23, 0.2)\" d=\"M582.5,0 L582.5,100\" stroke-width=\"1165\"></path><path id=\"alt-current\" stroke-width=\"2\" stroke=\"rgba(255, 255, 255, 0.6)\" d=\"M1166,0 L1166,100\"></path><path fill=\"none\" id=\"plane-path\" stroke-width=\"2\" stroke=\"#FF9600\" d=\"M1166,95.7328222818449L1165.2837201535608,95.425766992189C1164.5674403071216,95.1187117025331,1163.1348806142432,94.50460112322128,1161.9529784833273,94.33246086033553C1160.7710763524117,94.16032059744977,1159.8398317834585,94.43015065099006,1158.4414526672115,94.29947327298994C1157.0430735509644,94.16879589498984,1155.1775598874235,93.63761108544934,1153.3120462238824,93.1779347295522C1151.4465325603414,92.71825837365508,1149.5810188968005,92.33009047140132,1147.7155052332594,91.8821318873197C1145.8499915697184,91.43417330323808,1143.9844779061775,90.9264240373286,1142.1189642426364,90.33634991302297C1140.2534505790954,89.74627578871734,1138.3879369155545,89.07387680601556,1136.5224232520134,88.37774182399518C1134.6569095884727,87.68160684197481,1132.7913959249315,86.96173586063583,1130.9258822613908,86.21542477879007C1129.0603685978497,85.46911369694429,1127.1948549343085,84.69636251459173,1125.3293412707676,83.97408788775213C1123.4638276072267,83.25181326091253,1121.5983139436858,82.58001518958592,1119.7328002801448,81.91662987751145C1117.867286616604,81.25324456543699,1116.001772953063,80.59827201261469,1114.136259289522,79.91986391616136C1112.2707456259811,79.24145581970804,1110.40523196244,78.53961217962369,1108.5397182988988,77.81974119828472C1106.674204635358,77.09987021694573,1104.808690971817,76.36197189435212,1102.943177308276,75.60995215444238C1101.0776636447351,74.85793241453264,1099.212149981194,74.09179125730678,1097.346636317653,73.35239065627529C1095.4811226541121,72.6129900552438,1093.6156089905712,71.90033001040666,1091.7500953270303,71.18977315538258C1089.8845816634891,70.4792163003585,1088.019067999948,69.77076263514746,1086.153554336407,69.0559994004973C1084.2880406728661,68.34123616584714,1082.4225270093252,67.62016336175785,1080.5570133457843,66.89488417804249C1078.6914996822431,66.16960499432712,1076.825986018702,65.44011943098566,1074.960472355161,64.7148402472703C1073.0949586916201,63.98956106355494,1071.2294450280792,63.26848825946565,1069.3639313645383,62.59338517557567C1067.4984177009974,61.918282091685704,1065.6329040374565,61.289148727995034,1063.778783899459,60.65580898467828C1061.9246637614617,60.022469241361534,1060.0819371490086,59.384923118418705,1058.2278170110112,58.75518884335289C1056.3736968730138,58.12545456828707,1054.508183209473,57.503532141098255,1052.642669545932,56.888820650411304C1050.7771558823908,56.27410915972434,1048.91164221885,55.66660860553923,1047.046128555309,55.051897114852274C1045.180614891768,54.437185624165316,1043.3151012282271,53.815263196976495,1041.4495875646862,53.18643028897341C1039.5840739011453,52.55759738097032,1037.7185602376044,51.921853992152954,1035.8530465740635,51.265679616580336C1033.9875329105223,50.60950524100773,1032.1220192469812,49.93289987867987,1030.2565055834402,49.25268904810108C1028.3909919198993,48.5724782175223,1026.5254782563584,47.888661918692584,1024.6599645928175,47.20244197436225C1022.7944509292765,46.51622203003192,1020.9289372657355,45.82759844020097,1019.0634236021946,45.12815844561724C1017.1979099386535,44.42871845103351,1015.3323962751125,43.71846205169701,1013.4668826115716,42.969446868663034C1011.6013689480305,42.22043168562908,1009.7358552844895,41.43265771889765,1007.8703416209486,40.573976209898014C1006.0048279574075,39.715294700898376,1004.1393142938665,38.78570564963052,1002.2738006303256,37.94565239326067C1000.4082869667847,37.10559913689082,998.5427733032437,36.355081675418965,996.6772596397028,35.62709839051541C994.8117459761617,34.89911510561185,992.9462323126209,34.193665997276575,991.0807186490798,33.586165443091474C989.2152049855389,32.978664888906366,987.3496913219979,32.469112888871415,985.4727841329131,32.0737340501158C983.5958769438284,31.678355211360195,981.7075762291998,31.397149533883915,979.14705750749,31.29832045876699C976.5865387857801,31.199491383650066,973.3538020569887,31.283038910892497,970.8046768608225,31.317612161059845C968.2555516646563,31.352185411227197,966.3900380011154,31.337784384319463,964.5245243375745,31.28372320665154C962.6590106740335,31.229662028983615,960.7934970104925,31.135940700555505,958.9279833469517,31.021788385372144C957.0624696834105,30.907636070188783,955.1969560198695,30.773052768250167,953.3314423563285,30.615033922680535C951.4659286927875,30.457015077110906,949.6004150292466,30.275560687910247,947.7349013657057,30.07277394489162C945.8693877021647,29.869987201872984,944.0038740386236,29.64586810503637,942.1383603750827,29.510683891722607C940.2728467115417,29.37549967840884,938.4073330480006,29.329250348617922,933.1237617213337,29.304633828332566C927.8401903946669,29.280017308047206,919.138561404874,29.277033597267405,911.8041554803316,29.277354899050952C904.469749555789,29.277676200834502,898.502566696497,29.281302515181398,893.2189953698299,29.28252518402768C887.935424043163,29.283747852873958,883.3354642491213,29.28256687621962,879.4191159877047,29.282888178003166C875.5027677262882,29.283209479786716,872.2700309974967,29.28503306000815,868.3536827360804,29.291363475543246C864.4373344746638,29.297693891078335,859.837374680622,29.30853114192708,856.6046379518307,29.31155654489882C853.3719012230393,29.31458194787057,851.5063875594983,29.3097955029653,849.6408738959573,29.308013614935806C847.7753602324163,29.306231726906315,845.9098465688753,29.30745439575259,840.6262752422084,29.309277975974023C835.3427039155416,29.311101556195457,826.6410749257487,29.31352604779205,820.6738920664565,29.317452817826524C814.7067092071644,29.321379587861,811.4739724783731,29.326808636333357,805.0168680206997,29.328031305179646C798.5597635630261,29.32925397402592,788.8782913764704,29.32627026324612,783.2073401813159,29.327492932092397C777.5363889861613,29.32871560093868,775.8759587824079,29.33414464941104,772.7457637835105,29.338071419445516C769.6155687846127,29.341998189479984,765.015608990571,29.344422681076576,761.7828722617797,29.34534489423527C758.5501355329884,29.346267107393974,756.6846218694474,29.345687042114793,753.451885140656,29.347811078023806C750.2191484118648,29.349935113932816,745.619188617823,29.354763251030022,740.3356172911562,29.35628637556388C735.0520459644891,29.357809500097733,729.0848631051971,29.356027612068242,722.4340687132795,29.356949825226945C715.7832743213625,29.357872038385647,708.4488683968199,29.361498352732543,701.7980740049026,29.362721021578825C695.1472796129852,29.363943690425103,689.1800967536932,29.362762713770763,685.7992441928328,29.361882192804C682.4183916319727,29.361001671837244,681.6238693695445,29.360421606558052,678.9266283413097,29.36434837659253C676.2293873130748,29.368275146627003,671.629427519033,29.376708751975134,668.3852972646979,29.380034610634457C665.1411670103629,29.383360469293773,663.2528662957343,29.38157858126428,660.6923475740244,29.384603984236026C658.1318288523145,29.387629387207767,654.8990921235232,29.39546208118075,652.3499669273571,29.39998976259038C649.8008417311909,29.40451744400001,647.93532806765,29.405740112846285,646.1153885062839,29.403958224816794C644.2954489449179,29.402176336787303,642.5210834857269,29.39738989188204,639.3339208591105,29.39861256072832C636.1467582324941,29.399835229574602,631.5467984384524,29.407067012172423,624.8846105209914,29.409491503769004C618.2224226035304,29.411915995365593,609.49800656265,29.409533195960943,603.5194301778141,29.410455409119646C597.5408537929783,29.411377622278348,594.3081170641868,29.4156048480004,591.8615335979144,29.416527061159105C589.4149501316421,29.417449274317807,587.7545199278887,29.415066474913164,585.3079364616164,29.416890055134598C582.861352995344,29.41871363535603,579.6286162665525,29.42474359520354,573.6614334072605,29.429271276613175C567.6942505479683,29.433798958022802,558.9926215581754,29.43682436099454,550.40492782382,29.43774657415324C541.8172340894647,29.438668787311943,533.3434756105469,29.437487810657604,528.1738395393176,29.433302277127495C523.0042034680881,29.429116743597387,521.1386898045471,29.421926653191502,519.273176141006,29.39851195565645C517.4076624774651,29.375097258121404,515.5421488139242,29.33545795345719,513.6766351503832,29.302128218232088C511.81112148684224,29.268798483006993,509.94560782330126,29.24177831722102,508.08009415976034,29.242400074692142C506.2145804962193,29.243021832163265,504.3490668326783,29.271285512891495,502.48355316913734,29.322083370188007C500.6180395055964,29.372881227484527,498.7525258420554,29.446213261349328,496.8870121785144,29.54658630709609C495.0214985149735,29.64695935284284,493.1559848514325,29.77437341047154,491.29047118789146,29.920716176417603C489.42495752435053,30.067058942363662,487.55944386080955,30.23233041662709,485.69393019726857,30.434557940462508C483.82841653372753,30.636785464297926,481.9629028701866,30.875969037705335,480.09738920664563,31.02501590483959C478.2318755431047,31.174062771973848,476.3663618795637,31.23297293283495,465.6138982918953,31.264541626126526C454.86143470422684,31.2961103194181,435.22202119243093,31.300337545140156,423.1023345395121,31.30186066967401C410.9826478865932,31.30338379420787,406.3826880925515,31.302202817553535,373.39006264347694,31.30282457502466C340.3974371944023,31.30344633249578,279.01214609029483,31.305870824092366,247.38674370647058,31.298079822311326C215.76134132264633,31.290288820530293,213.89582765910538,31.27228232537163,212.0303139955644,31.221826615954637C210.16480033202342,31.171370906537636,208.2992866684824,31.088465982862306,206.43377300494146,30.96980683236529C204.56825934140045,30.85114768186827,202.7027456778595,30.696734304549565,200.8372320143185,30.591896115681095C198.97171835077754,30.487057926812625,197.10620468723653,30.43179492639439,195.24069102369558,30.45915724005988C193.37517736015457,30.486519553725373,191.50966369661361,30.596507181474596,189.64415003307263,30.86002766557576C187.77863636953165,31.123548149676935,185.91312270599067,31.540601490130047,184.04760904244972,31.996413614280616C182.1820953789087,32.45222573843119,180.31658171536773,32.94679664627921,178.45106805182675,33.49785322339174C176.5855543882858,34.04890980050428,174.7200407247448,34.656452046881334,172.85452706120384,35.243863762190706C170.9890133976629,35.83127547750009,169.1234997341219,36.39855666174179,167.25798607058093,36.86157972239422C165.39247240703995,37.324602783046636,163.52695874349897,37.68336772010978,161.66144507995796,37.950193216774295C159.79593141641698,38.21701871343881,157.930417752876,38.3919047697047,156.06490408933504,38.48266323344898C154.19939042579406,38.57342169719326,152.33387676225308,38.58005256841593,150.4683630987121,38.57045883250942C148.60284943517115,38.560865096602924,146.73733577163017,38.535046753567265,144.8718221080892,38.467765525645945C143.00630844454818,38.400484297724624,141.1407947810072,38.29174018491764,139.27528111746622,38.09015526464932C137.40976745392524,37.888570344380994,135.54425379038426,37.59414461665132,133.6787401268433,37.50222602234867C131.81322646330233,37.410307428046025,129.94771279976135,37.520895967170404,128.08219913622037,37.6272781266687C126.21668547267939,37.733660286167,124.35117180913842,37.835836066039214,122.48565814559744,37.91397539090525C120.62014448205646,37.992114715771294,118.75463081851551,38.04621758563116,116.8891171549745,38.40798707957007C115.02360349143355,38.76975657350898,113.15808982789257,39.43919269152693,111.29257616435159,40.17532997218701C109.4270625008106,40.911467252847096,107.56154883726963,41.714305696149324,105.69603517372866,42.648743730610356C103.83052151018768,43.58318176507138,101.9650078466467,44.64921939069122,100.09949418310573,45.77204314126315C98.23398051956475,46.89486689183508,96.36846685602377,48.0744767673591,94.49155966693904,49.24026568125456C92.6146524778543,50.40605459515004,90.72635176322581,51.558022547416954,88.84944457414106,52.79441854789306C86.97253738505634,54.030814548369165,85.10702372151536,55.35163859705447,83.24151005797438,56.72774649225397C81.3759963944334,58.103854387453474,79.51048273089243,59.53524612916718,77.64496906735145,61.00299300907773C75.77945540381047,62.47073988898827,73.9139417402695,63.974841907095644,72.04842807672851,65.56066787222403C70.18291441318753,67.1464938373524,68.31740074964658,68.81404374950178,66.4518870861056,70.50953604059582C64.58637342256462,72.20502833168989,62.72085975902365,73.92846300172862,60.855346095482666,75.60232248331711C58.989832431941686,77.27618196490562,57.124318768400705,78.90046625804386,55.258805104859725,80.57102072706901C53.39329144131875,82.24157519609416,51.52777777777777,83.9583998410062,49.901528150655615,87.07324480021491C48.27527852353345,90.18808975942359,46.88829293283012,94.70095503292897,45.70639080191433,95.68707144565327C44.52448867099855,96.6731878583776,43.54766999987032,94.13255541032083,42.12650383253571,93.68700047173984C40.70533766520111,93.24144553315882,38.839824001660126,94.89096810405358,31.744682113536445,96.29231427700957C24.649540225412764,97.69366044996555,12.324770112706382,98.84683022498278,6.162385056353191,99.4234151124914L0,100\"></path></svg><div class=\"flight-mini-tracker__PlaneWrapper-s25va3-5 hlidDn\" height=\"10\" width=\"38\"><svg width=\"38\" height=\"10\" xmlns=\"http://www.w3.org/2000/svg\"><path d=\"M386.2 66.7c-6.6-2.9-8.3-6.1-14-8.4-4.5-1.8-13.7-2.9-13.7-2.9l-27.7-.4-241.9.5-3.7-1.7S38 4.2 33.9 1.5c-4.1-2.7-18.9 0-18.9 0l15.4 51.8L.2 52.1l2 1.9 12.9 2.1 2.8.5s.2 3.5 1.5 4c5.1 2.2 25.6 11 50.7 17.7 26.5 7.1 57 10.5 57 10.5h72.1c2.2.2 4.6.5 7 .7v1.2h3.2V94c-1.5.3-2.6 1.7-2.6 3.3 0 1.9 1.5 3.4 3.4 3.4s3.4-1.5 3.4-3.4c0-1.6-1.1-2.9-2.6-3.3v-3.3h6.8V94c-1.5.3-2.6 1.7-2.6 3.3 0 1.9 1.5 3.4 3.4 3.4s3.4-1.5 3.4-3.4c0-1.6-1.1-2.9-2.6-3.3v-3c2.4.2 4.6.5 6.8.7v2.5c-1.5.3-2.6 1.7-2.6 3.3 0 1.9 1.5 3.4 3.4 3.4s3.4-1.5 3.4-3.4c0-1.6-1.1-2.9-2.6-3.3v-2.3c6.7.7 11.8 1.2 13.1 1.3 4.6.4 9.7 2.9 9.7 2.9s18.7 1.3 23 0c2.6-.8 3.4-4.9 3.7-7.9l56.6-1.1h18.3v3.2h3.2v3.3c-1.5.3-2.6 1.7-2.6 3.3 0 1.9 1.5 3.4 3.4 3.4s3.4-1.5 3.4-3.4c0-1.6-1.1-2.9-2.6-3.3v-3.3h3.6V87c27.9-.6 32.6-10.9 32.6-10.9s3.1-5-7-9.4z\" fill=\"#FAA718\"></path></svg></div></div><div class=\"alt-and-phase__Wrapper-jihjun-0 kmsVZS\"><div class=\"alt-and-phase__Altitude-jihjun-1 bkmjVx\"><span class=\"alt-and-phase__ContentLabel-jihjun-4 ekQiCH\">ALTITUDE</span><span class=\"alt-and-phase__ContentBox-jihjun-3 fDjOMe\">0 ft</span></div><div class=\"alt-and-phase__Phase-jihjun-2 jJjsmI\"><span class=\"alt-and-phase__ContentBox-jihjun-3 fDjOMe\">LANDED</span></div></div></div></div></div><div class=\"row__Row-s18xg2xa-0 hbKFUI\"><div class=\"flight-time-and-distance__TextBoxWrapper-r1etkb-0 jRUOqj\"><div class=\"text-box__TextBoxContainer-r0lz9f-0 iahmts\"><h3 class=\"text-box__Heading-r0lz9f-2 kLpQef\">Flight Time</h3><div class=\"text-box__ItemWrapper-r0lz9f-1 fzOBRA\"><div class=\"labeled-columns__ContentWrapper-j3eq63-3 cDamQW\"><div class=\"labeled-columns__Item-j3eq63-2 evoxyJ\"><h4 class=\"labeled-columns__Label-j3eq63-0 eJOxfR\">Total</h4><h5 class=\"labeled-columns__Value-j3eq63-1 bJFJTJ\">4h 8m</h5></div><div class=\"labeled-columns__Item-j3eq63-2 evoxyJ\"><h4 class=\"labeled-columns__Label-j3eq63-0 eJOxfR\">Elapsed</h4><h5 class=\"labeled-columns__Value-j3eq63-1 bJFJTJ\">4h 8m</h5></div><div class=\"labeled-columns__Item-j3eq63-2 evoxyJ\"><h4 class=\"labeled-columns__Label-j3eq63-0 eJOxfR\">Remaining</h4><h5 class=\"labeled-columns__Value-j3eq63-1 bJFJTJ\">0m</h5></div></div></div></div></div><div class=\"flight-time-and-distance__TextBoxWrapper-r1etkb-0 jRUOqj\"><div class=\"text-box__TextBoxContainer-r0lz9f-0 iahmts\"><h3 class=\"text-box__Heading-r0lz9f-2 kLpQef\">Flight Distance</h3><div class=\"text-box__ItemWrapper-r0lz9f-1 fzOBRA\"><div class=\"labeled-columns__ContentWrapper-j3eq63-3 cDamQW\"><div class=\"labeled-columns__Item-j3eq63-2 evoxyJ\"><h4 class=\"labeled-columns__Label-j3eq63-0 eJOxfR\">Total</h4><h5 class=\"labeled-columns__Value-j3eq63-1 bJFJTJ\">1785 mi</h5></div><div class=\"labeled-columns__Item-j3eq63-2 evoxyJ\"><h4 class=\"labeled-columns__Label-j3eq63-0 eJOxfR\">Flown</h4><h5 class=\"labeled-columns__Value-j3eq63-1 bJFJTJ\">1785 mi</h5></div><div class=\"labeled-columns__Item-j3eq63-2 evoxyJ\"><h4 class=\"labeled-columns__Label-j3eq63-0 eJOxfR\">Remaining</h4><h5 class=\"labeled-columns__Value-j3eq63-1 bJFJTJ\">0 mi</h5></div></div></div></div></div></div></div></div></div></div></div></div></div><div class=\"layout-row__RowWrapper-s1uoco8s-0 dcdOHa\"><div class=\"layout-row__SectionContainer-s1uoco8s-2 iSGoko\"><div class=\"layout-row__TitleWrapper-s1uoco8s-3 jFgNNO\"><h2 class=\"layout-row__Title-s1uoco8s-4 bRoHMJ\">Additional Details</h2></div><div><div class=\"layout-row__RowInner-s1uoco8s-1 ceJxq\"><div class=\"additional-details__FloatWrapper-hoxwfb-1 cpMYKi\"><div class=\"additional-details__SubItemWrapper-hoxwfb-2 lhkoRP\"><div class=\"text-box__TextBoxContainer-r0lz9f-0 fMywIH\"><h3 class=\"text-box__Heading-r0lz9f-2 kLpQef\">Aircraft Equipment</h3><div class=\"text-box__ItemWrapper-r0lz9f-1 fzOBRA\"><div class=\"labeled-columns__ContentWrapper-j3eq63-3 cDamQW\"><div class=\"labeled-columns__Item-j3eq63-2 evoxyJ\"><h4 class=\"labeled-columns__Label-j3eq63-0 eJOxfR\">Code</h4><h5 class=\"labeled-columns__Value-j3eq63-1 bJFJTJ\">73H</h5></div><div class=\"labeled-columns__Item-j3eq63-2 evoxyJ\"><h4 class=\"labeled-columns__Label-j3eq63-0 eJOxfR\">Description</h4><h5 class=\"labeled-columns__Value-j3eq63-1 bJFJTJ\">Boeing 737-800 (winglets) Passenger/BBJ2</h5></div></div></div></div></div></div></div></div></div></div><div class=\"layout-row__RowWrapper-s1uoco8s-0 dcdOHa\"><div class=\"layout-row__SectionContainer-s1uoco8s-2 iSGoko\"><div class=\"layout-row__TitleWrapper-s1uoco8s-3 jFgNNO\"><h2 class=\"layout-row__Title-s1uoco8s-4 bRoHMJ\">Past and Upcoming Flights</h2></div><div><div class=\"layout-row__RowInner-s1uoco8s-1 ceJxq\"><div class=\"tabs-content__DescriptionDropdownWrapper-rymvp0-0 fRTrlz\"><div class=\"past-upcoming-flights__TextHelper-s1haoxfm-2 kbFwjf\">For flights prior to the results below, please use our&nbsp;<a class=\"past-upcoming-flights__Hyperlink-s1haoxfm-1 gjMMna\" href=\"/v2/historical-flight/search\">Historical Flight Status</a>&nbsp;feature.</div><div class=\"tabs-content__MobileSelector-rymvp0-1 fsJzIl\"><div class=\"select-field__SelectContainer-s6imzgj-0 jPlelN\"><div class=\"select-field__SelectElement-s6imzgj-1 fQmGYv\" value=\"\"><div class=\"select-field__Label-s6imzgj-5 jZTKLu\">11-May<svg width=\"20px\" height=\"20px\" xmlns=\"http://www.w3.org/2000/svg\" viewBox=\"0 0 18 18\"><path d=\"M5 8l4 4 4-4z\" fill=\"#fff\"></path></svg></div></div></div></div></div><div class=\"tabs-content__TabBar-rymvp0-3 ckGNPc\"><div class=\"tabs-content__Tab-rymvp0-4 cTqTlq\" selected=\"\">11-May</div><div class=\"tabs-content__Tab-rymvp0-4 hGlvDv\">12-May</div><div class=\"tabs-content__Tab-rymvp0-4 hGlvDv\">13-May</div><div class=\"tabs-content__Tab-rymvp0-4 hGlvDv\">14-May</div><div class=\"tabs-content__Tab-rymvp0-4 hGlvDv\">15-May</div><div class=\"tabs-content__Tab-rymvp0-4 hGlvDv\">16-May</div><div class=\"tabs-content__Tab-rymvp0-4 hGlvDv\">17-May</div></div><div class=\"tabs-content__OneFlightPanel-rymvp0-6 ehqaCS\" selected=\"\"><div class=\"tabs-content__DateWrapper-rymvp0-10 cDAHvJ tabs-content__FadeInDiv-rymvp0-7 clShQb\"><div class=\"past-upcoming-flights__TextHelper-s1haoxfm-2 htEwxh\">Flights for Saturday, 11-May-2019</div></div><div class=\"tabs-content__BoldCenteredText-rymvp0-9 boqkYs tabs-content__CenteredText-rymvp0-8 eOUQmz tabs-content__FadeInDiv-rymvp0-7 clShQb\">One Flight This Day</div><div class=\"tabs-content__CenteredText-rymvp0-8 eOUQmz tabs-content__FadeInDiv-rymvp0-7 clShQb\">You are currently viewing the only flight for this day</div></div><div class=\"tabs-content__Panel-rymvp0-5 golHFI\"><div class=\"tabs-content__FadeInDiv-rymvp0-7 clShQb\"><div class=\"past-upcoming-flights__TextHelper-s1haoxfm-2 htEwxh\">Flights for Sunday, 12-May-2019</div><div class=\"past-upcoming-flights__HeaderContainer-s1haoxfm-8 dHFBYw\"><div class=\"past-upcoming-flights__HeaderText-s1haoxfm-9 iyoRaK past-upcoming-flights__TextHelper-s1haoxfm-2 cEzxMC\">Departure Time</div><div class=\"past-upcoming-flights__HeaderText-s1haoxfm-9 iJCHoL past-upcoming-flights__TextHelper-s1haoxfm-2 cEzxMC\">Origin</div><span class=\"past-upcoming-flights__HeaderSeparator-s1haoxfm-10 hPxFPu\">&nbsp;</span><div class=\"past-upcoming-flights__HeaderText-s1haoxfm-9 iJCHoL past-upcoming-flights__TextHelper-s1haoxfm-2 cEzxMC\">Destination</div><div class=\"past-upcoming-flights__HeaderText-s1haoxfm-9 iyoRaK past-upcoming-flights__TextHelper-s1haoxfm-2 cEzxMC\">Arrival Time</div></div><a class=\"past-upcoming-flights__LinkTableRow-s1haoxfm-0 hiZfCr\" href=\"/v2/flight-tracker/PS/945?year=2019&amp;month=05&amp;date=12&amp;flightId=999564363\"><div class=\"past-upcoming-flights__TimeGroupContainer-s1haoxfm-5 dnaKQQ past-upcoming-flights__StyledInfo-s1haoxfm-3 hclaTo\"><div class=\"past-upcoming-flights__TextHelper-s1haoxfm-2 hxawCE\">20:40<span class=\"past-upcoming-flights__TimeSuffix-s1haoxfm-6 dQHMCy\"> EEST</span></div></div><div class=\"past-upcoming-flights__Airport-s1haoxfm-4 fjoBOD past-upcoming-flights__StyledInfo-s1haoxfm-3 hclaTo\"><div class=\"past-upcoming-flights__TextHelper-s1haoxfm-2 ceqiFt\">KBP</div><div class=\"past-upcoming-flights__TextHelper-s1haoxfm-2 ieHvs\">Kiev/Kyiv</div></div><div class=\"past-upcoming-flights__PlaneWrapper-s1haoxfm-7 haAodY\"><svg width=\"35px\" height=\"32px\" viewBox=\"0 0 230 207.2\" xmlns=\"http://www.w3.org/2000/svg\"><path d=\"M69.9 202.8s-1.2.3-2.4.3-3.9-.4-3.2-.4c.6 0 1.4-1.2 1.4-1.2l-1-.1v-.9h1.7L78 172.8s1.5 0 1.5-.1c-1.5 0-2.4.1-2.5-.1.1-.3 12.6-30.6 12.9-31.3.1-.3 1.4-.1 1.4-.1l1.1-7.8h-1s2.1-16.4 1.9-16.9c-.3-.4-16.7.4-27.8-.4s-17.1-2.1-19.2-2.7c-2-.5-2.4-.1-3.3 1-.8 1-15.2 22-16.4 23.7s-1.8 1.8-2.5 1.8h-7.3l6.5-29.2s-2.7-.1-3.1-.6c-.4-.4-.2-1.3-.2-1.3s-5.6-.6-5.9-.9c-.4-.3-.5-.9-.5-.9s-5.7-1.3-5.9-1.9c.1-.6 5.9-1.9 5.9-1.9s.2-.6.5-.9c.4-.3 5.9-.9 5.9-.9s-.1-.9.2-1.3 3.1-.6 3.1-.6l-6.6-29.2H24c.7 0 1.3 0 2.5 1.8 1.3 1.8 15.6 22.7 16.4 23.7s1.3 1.5 3.3 1c2.1-.6 8.1-1.9 19.2-2.7s27.3-.1 27.6-.6c.3-.4-1.9-16.9-1.9-16.9h1L91 68.8s-1.3.1-1.4-.1c-.3-.7-12.8-31-12.9-31.3.1-.2 1.1-.1 2.5-.1 0-.1-1.5-.1-1.5-.1L66.2 9.4h-1.7v-.9l1-.1s-.7-1.2-1.4-1.2c-.6 0 2.1-.4 3.2-.4 1.3 0 2.4.3 2.4.3s-.3-1 .9-.8c.7.1 4.1 2.5 4.1 2.5s.5.2.9.1c.4 0 .7.5.9.8.1.2.9 0 .9 0s7.3 9.2 18.7 25.1c11.4 15.8 25.3 34.6 25.3 34.6s.8 0 1.9-.2 1.6-.3 1.6-.3.3-1 1-1.2c.5-.2 4.5-.7 8-.6s5.4.3 6 .6.8 1.1 1 2.3c.1 1.2.1 5.7-.1 6.8-.1 1-.3 1.7-1.6 1.9-1.4.2-6.1.2-8 .1-1.4-.1-2.9-.5-3-.3s3.3 4 4.7 6.1 4.2 5.7 5.1 6.1 1 .5.2.7c-.8.3-1.6.2-2.2-.1-.6-.4-1.3-.5-1.6-.2-.1.1.7 1.2 1.2 1.4.5.3 1.4 0 1.8.2s1.6.9 2.5.8c5.7-.2 14.4-.4 33.2-.4 20.1-.1 26.2.1 36.9 2.9 9.8 2.5 11.7 4.4 13.1 5.3 1.3.9 2.3 2.9 2.3 3.7 0 .8-1 2.8-2.3 3.7-1.4 1-3.3 2.8-13.1 5.3-10.8 2.7-16.8 2.9-36.9 2.9-18.8-.1-27.4-.3-33.2-.4-1 0-2.1.7-2.5.8-.4.2-1.3-.1-1.8.2s-1.3 1.3-1.2 1.4c.3.4 1 .2 1.6-.2s1.4-.4 2.2-.1.7.3-.2.7-3.8 4-5.1 6.1c-1.4 2.1-4.8 5.9-4.7 6.1s1.6-.2 3-.3c1.9-.1 6.6-.1 8 .1s1.5.8 1.6 1.9.2 5.7.1 6.8-.4 2-1 2.3-2.4.5-6 .6c-3.5.1-7.5-.4-8-.6-.7-.3-1-1.2-1-1.2s-.5-.1-1.6-.3-1.9-.2-1.9-.2-14 18.8-25.3 34.6c-11.4 15.9-18.7 25.1-18.7 25.1s-.7-.2-.9 0c-.2.3-.5.8-.9.8s-.9.1-.9.1-3.3 2.4-4.1 2.5c-1 .1-.7-.9-.7-.9zm8.5-190L77 10.9l-.2.1 1.3 1.8zm2.6 3.7L78.5 13l-.2.2 2.4 3.5zm2.6 3.7l-2.5-3.5-.2.1 2.4 3.5zm3.3 4.6l-3.2-4.4-.2.1 3.2 4.5zm3 4.3L87.1 25l-.2.1 2.9 4.1zm3.1 4.4l-2.9-4.1-.2.1 2.9 4.1zm3.2 4.4l-3-4.3-.2.2 3 4.3zm3.2 4.6l-3.1-4.3-.2.2 3 4.3zm3.2 4.5l-3-4.3-.2.1 3 4.3zm3.1 4.4l-3-4.3-.2.1 3 4.3zm3.1 4.3l-2.9-4.1-.2.1 2.9 4.1zm3 4.2l-2.9-4.1-.2.1 2.9 4.1zm3.6 5.1l-3.4-4.8-.2.1 3.4 4.8zm.9 1.3l-.8-1.1-.2.1.8 1.1zm3 4.1l-2.8-3.9-.2.1 2.8 4zm0 69.1l-.2-.1-2.8 4 .2.1zm-3 4.1l-.2-.1-.8 1.1.2.1zm-.9 1.4l-.2-.1-3.4 4.8.2.1zm-3.6 5l-.2-.1-2.9 4.1.2.1zm-3 4.3l-.2-.1-2.9 4.1.2.1zm-3.1 4.2l-.2-.1-3 4.3.2.1zm-3.1 4.5l-.2-.1-3 4.2.2.1zm-3.2 4.5l-.2-.1-3 4.3.2.2zm-3.2 4.5l-.2-.2-3 4.3.2.1zm-3.2 4.5l-.2-.1-2.9 4.1.2.1zm-3.1 4.3l-.2-.1-2.9 4.1.2.1zm-3 4.3l-.2-.1-3.2 4.5.2.1zm-3.3 4.7l-.2-.1-2.4 3.5.2.1zm-2.6 3.7l-.2-.1-2.4 3.5.2.2zm-2.6 3.6l-.2-.2-1.3 1.8.1.3z\" fill=\"#faa718\"></path></svg></div><div class=\"past-upcoming-flights__Airport-s1haoxfm-4 fjoBOD past-upcoming-flights__StyledInfo-s1haoxfm-3 hclaTo\"><div class=\"past-upcoming-flights__TextHelper-s1haoxfm-2 ceqiFt\">MAD</div><div class=\"past-upcoming-flights__TextHelper-s1haoxfm-2 ieHvs\">Madrid</div></div><div class=\"past-upcoming-flights__TimeGroupContainer-s1haoxfm-5 dnaKQQ past-upcoming-flights__StyledInfo-s1haoxfm-3 hclaTo\"><div class=\"past-upcoming-flights__TextHelper-s1haoxfm-2 hxawCE\">00:10<span class=\"past-upcoming-flights__TimeSuffix-s1haoxfm-6 dQHMCy\"> CEST</span></div></div></a></div></div><div class=\"tabs-content__Panel-rymvp0-5 golHFI\"><div class=\"tabs-content__FadeInDiv-rymvp0-7 clShQb\"><div class=\"past-upcoming-flights__TextHelper-s1haoxfm-2 htEwxh\">Flights for Monday, 13-May-2019</div><div class=\"past-upcoming-flights__HeaderContainer-s1haoxfm-8 dHFBYw\"><div class=\"past-upcoming-flights__HeaderText-s1haoxfm-9 iyoRaK past-upcoming-flights__TextHelper-s1haoxfm-2 cEzxMC\">Departure Time</div><div class=\"past-upcoming-flights__HeaderText-s1haoxfm-9 iJCHoL past-upcoming-flights__TextHelper-s1haoxfm-2 cEzxMC\">Origin</div><span class=\"past-upcoming-flights__HeaderSeparator-s1haoxfm-10 hPxFPu\">&nbsp;</span><div class=\"past-upcoming-flights__HeaderText-s1haoxfm-9 iJCHoL past-upcoming-flights__TextHelper-s1haoxfm-2 cEzxMC\">Destination</div><div class=\"past-upcoming-flights__HeaderText-s1haoxfm-9 iyoRaK past-upcoming-flights__TextHelper-s1haoxfm-2 cEzxMC\">Arrival Time</div></div><a class=\"past-upcoming-flights__LinkTableRow-s1haoxfm-0 hiZfCr\" href=\"/v2/flight-tracker/PS/945?year=2019&amp;month=05&amp;date=13&amp;flightId=999679606\"><div class=\"past-upcoming-flights__TimeGroupContainer-s1haoxfm-5 dnaKQQ past-upcoming-flights__StyledInfo-s1haoxfm-3 hclaTo\"><div class=\"past-upcoming-flights__TextHelper-s1haoxfm-2 hxawCE\">20:40<span class=\"past-upcoming-flights__TimeSuffix-s1haoxfm-6 dQHMCy\"> EEST</span></div></div><div class=\"past-upcoming-flights__Airport-s1haoxfm-4 fjoBOD past-upcoming-flights__StyledInfo-s1haoxfm-3 hclaTo\"><div class=\"past-upcoming-flights__TextHelper-s1haoxfm-2 ceqiFt\">KBP</div><div class=\"past-upcoming-flights__TextHelper-s1haoxfm-2 ieHvs\">Kiev/Kyiv</div></div><div class=\"past-upcoming-flights__PlaneWrapper-s1haoxfm-7 haAodY\"><svg width=\"35px\" height=\"32px\" viewBox=\"0 0 230 207.2\" xmlns=\"http://www.w3.org/2000/svg\"><path d=\"M69.9 202.8s-1.2.3-2.4.3-3.9-.4-3.2-.4c.6 0 1.4-1.2 1.4-1.2l-1-.1v-.9h1.7L78 172.8s1.5 0 1.5-.1c-1.5 0-2.4.1-2.5-.1.1-.3 12.6-30.6 12.9-31.3.1-.3 1.4-.1 1.4-.1l1.1-7.8h-1s2.1-16.4 1.9-16.9c-.3-.4-16.7.4-27.8-.4s-17.1-2.1-19.2-2.7c-2-.5-2.4-.1-3.3 1-.8 1-15.2 22-16.4 23.7s-1.8 1.8-2.5 1.8h-7.3l6.5-29.2s-2.7-.1-3.1-.6c-.4-.4-.2-1.3-.2-1.3s-5.6-.6-5.9-.9c-.4-.3-.5-.9-.5-.9s-5.7-1.3-5.9-1.9c.1-.6 5.9-1.9 5.9-1.9s.2-.6.5-.9c.4-.3 5.9-.9 5.9-.9s-.1-.9.2-1.3 3.1-.6 3.1-.6l-6.6-29.2H24c.7 0 1.3 0 2.5 1.8 1.3 1.8 15.6 22.7 16.4 23.7s1.3 1.5 3.3 1c2.1-.6 8.1-1.9 19.2-2.7s27.3-.1 27.6-.6c.3-.4-1.9-16.9-1.9-16.9h1L91 68.8s-1.3.1-1.4-.1c-.3-.7-12.8-31-12.9-31.3.1-.2 1.1-.1 2.5-.1 0-.1-1.5-.1-1.5-.1L66.2 9.4h-1.7v-.9l1-.1s-.7-1.2-1.4-1.2c-.6 0 2.1-.4 3.2-.4 1.3 0 2.4.3 2.4.3s-.3-1 .9-.8c.7.1 4.1 2.5 4.1 2.5s.5.2.9.1c.4 0 .7.5.9.8.1.2.9 0 .9 0s7.3 9.2 18.7 25.1c11.4 15.8 25.3 34.6 25.3 34.6s.8 0 1.9-.2 1.6-.3 1.6-.3.3-1 1-1.2c.5-.2 4.5-.7 8-.6s5.4.3 6 .6.8 1.1 1 2.3c.1 1.2.1 5.7-.1 6.8-.1 1-.3 1.7-1.6 1.9-1.4.2-6.1.2-8 .1-1.4-.1-2.9-.5-3-.3s3.3 4 4.7 6.1 4.2 5.7 5.1 6.1 1 .5.2.7c-.8.3-1.6.2-2.2-.1-.6-.4-1.3-.5-1.6-.2-.1.1.7 1.2 1.2 1.4.5.3 1.4 0 1.8.2s1.6.9 2.5.8c5.7-.2 14.4-.4 33.2-.4 20.1-.1 26.2.1 36.9 2.9 9.8 2.5 11.7 4.4 13.1 5.3 1.3.9 2.3 2.9 2.3 3.7 0 .8-1 2.8-2.3 3.7-1.4 1-3.3 2.8-13.1 5.3-10.8 2.7-16.8 2.9-36.9 2.9-18.8-.1-27.4-.3-33.2-.4-1 0-2.1.7-2.5.8-.4.2-1.3-.1-1.8.2s-1.3 1.3-1.2 1.4c.3.4 1 .2 1.6-.2s1.4-.4 2.2-.1.7.3-.2.7-3.8 4-5.1 6.1c-1.4 2.1-4.8 5.9-4.7 6.1s1.6-.2 3-.3c1.9-.1 6.6-.1 8 .1s1.5.8 1.6 1.9.2 5.7.1 6.8-.4 2-1 2.3-2.4.5-6 .6c-3.5.1-7.5-.4-8-.6-.7-.3-1-1.2-1-1.2s-.5-.1-1.6-.3-1.9-.2-1.9-.2-14 18.8-25.3 34.6c-11.4 15.9-18.7 25.1-18.7 25.1s-.7-.2-.9 0c-.2.3-.5.8-.9.8s-.9.1-.9.1-3.3 2.4-4.1 2.5c-1 .1-.7-.9-.7-.9zm8.5-190L77 10.9l-.2.1 1.3 1.8zm2.6 3.7L78.5 13l-.2.2 2.4 3.5zm2.6 3.7l-2.5-3.5-.2.1 2.4 3.5zm3.3 4.6l-3.2-4.4-.2.1 3.2 4.5zm3 4.3L87.1 25l-.2.1 2.9 4.1zm3.1 4.4l-2.9-4.1-.2.1 2.9 4.1zm3.2 4.4l-3-4.3-.2.2 3 4.3zm3.2 4.6l-3.1-4.3-.2.2 3 4.3zm3.2 4.5l-3-4.3-.2.1 3 4.3zm3.1 4.4l-3-4.3-.2.1 3 4.3zm3.1 4.3l-2.9-4.1-.2.1 2.9 4.1zm3 4.2l-2.9-4.1-.2.1 2.9 4.1zm3.6 5.1l-3.4-4.8-.2.1 3.4 4.8zm.9 1.3l-.8-1.1-.2.1.8 1.1zm3 4.1l-2.8-3.9-.2.1 2.8 4zm0 69.1l-.2-.1-2.8 4 .2.1zm-3 4.1l-.2-.1-.8 1.1.2.1zm-.9 1.4l-.2-.1-3.4 4.8.2.1zm-3.6 5l-.2-.1-2.9 4.1.2.1zm-3 4.3l-.2-.1-2.9 4.1.2.1zm-3.1 4.2l-.2-.1-3 4.3.2.1zm-3.1 4.5l-.2-.1-3 4.2.2.1zm-3.2 4.5l-.2-.1-3 4.3.2.2zm-3.2 4.5l-.2-.2-3 4.3.2.1zm-3.2 4.5l-.2-.1-2.9 4.1.2.1zm-3.1 4.3l-.2-.1-2.9 4.1.2.1zm-3 4.3l-.2-.1-3.2 4.5.2.1zm-3.3 4.7l-.2-.1-2.4 3.5.2.1zm-2.6 3.7l-.2-.1-2.4 3.5.2.2zm-2.6 3.6l-.2-.2-1.3 1.8.1.3z\" fill=\"#faa718\"></path></svg></div><div class=\"past-upcoming-flights__Airport-s1haoxfm-4 fjoBOD past-upcoming-flights__StyledInfo-s1haoxfm-3 hclaTo\"><div class=\"past-upcoming-flights__TextHelper-s1haoxfm-2 ceqiFt\">MAD</div><div class=\"past-upcoming-flights__TextHelper-s1haoxfm-2 ieHvs\">Madrid</div></div><div class=\"past-upcoming-flights__TimeGroupContainer-s1haoxfm-5 dnaKQQ past-upcoming-flights__StyledInfo-s1haoxfm-3 hclaTo\"><div class=\"past-upcoming-flights__TextHelper-s1haoxfm-2 hxawCE\">00:10<span class=\"past-upcoming-flights__TimeSuffix-s1haoxfm-6 dQHMCy\"> CEST</span></div></div></a></div></div><div class=\"tabs-content__Panel-rymvp0-5 golHFI\"><div class=\"tabs-content__FadeInDiv-rymvp0-7 clShQb\"><div class=\"past-upcoming-flights__TextHelper-s1haoxfm-2 htEwxh\">Flights for Tuesday, 14-May-2019</div><div class=\"past-upcoming-flights__HeaderContainer-s1haoxfm-8 dHFBYw\"><div class=\"past-upcoming-flights__HeaderText-s1haoxfm-9 iyoRaK past-upcoming-flights__TextHelper-s1haoxfm-2 cEzxMC\">Departure Time</div><div class=\"past-upcoming-flights__HeaderText-s1haoxfm-9 iJCHoL past-upcoming-flights__TextHelper-s1haoxfm-2 cEzxMC\">Origin</div><span class=\"past-upcoming-flights__HeaderSeparator-s1haoxfm-10 hPxFPu\">&nbsp;</span><div class=\"past-upcoming-flights__HeaderText-s1haoxfm-9 iJCHoL past-upcoming-flights__TextHelper-s1haoxfm-2 cEzxMC\">Destination</div><div class=\"past-upcoming-flights__HeaderText-s1haoxfm-9 iyoRaK past-upcoming-flights__TextHelper-s1haoxfm-2 cEzxMC\">Arrival Time</div></div><a class=\"past-upcoming-flights__LinkTableRow-s1haoxfm-0 hiZfCr\" href=\"/v2/flight-tracker/PS/945?year=2019&amp;month=05&amp;date=14&amp;flightId=999791591\"><div class=\"past-upcoming-flights__TimeGroupContainer-s1haoxfm-5 dnaKQQ past-upcoming-flights__StyledInfo-s1haoxfm-3 hclaTo\"><div class=\"past-upcoming-flights__TextHelper-s1haoxfm-2 hxawCE\">20:40<span class=\"past-upcoming-flights__TimeSuffix-s1haoxfm-6 dQHMCy\"> EEST</span></div></div><div class=\"past-upcoming-flights__Airport-s1haoxfm-4 fjoBOD past-upcoming-flights__StyledInfo-s1haoxfm-3 hclaTo\"><div class=\"past-upcoming-flights__TextHelper-s1haoxfm-2 ceqiFt\">KBP</div><div class=\"past-upcoming-flights__TextHelper-s1haoxfm-2 ieHvs\">Kiev/Kyiv</div></div><div class=\"past-upcoming-flights__PlaneWrapper-s1haoxfm-7 haAodY\"><svg width=\"35px\" height=\"32px\" viewBox=\"0 0 230 207.2\" xmlns=\"http://www.w3.org/2000/svg\"><path d=\"M69.9 202.8s-1.2.3-2.4.3-3.9-.4-3.2-.4c.6 0 1.4-1.2 1.4-1.2l-1-.1v-.9h1.7L78 172.8s1.5 0 1.5-.1c-1.5 0-2.4.1-2.5-.1.1-.3 12.6-30.6 12.9-31.3.1-.3 1.4-.1 1.4-.1l1.1-7.8h-1s2.1-16.4 1.9-16.9c-.3-.4-16.7.4-27.8-.4s-17.1-2.1-19.2-2.7c-2-.5-2.4-.1-3.3 1-.8 1-15.2 22-16.4 23.7s-1.8 1.8-2.5 1.8h-7.3l6.5-29.2s-2.7-.1-3.1-.6c-.4-.4-.2-1.3-.2-1.3s-5.6-.6-5.9-.9c-.4-.3-.5-.9-.5-.9s-5.7-1.3-5.9-1.9c.1-.6 5.9-1.9 5.9-1.9s.2-.6.5-.9c.4-.3 5.9-.9 5.9-.9s-.1-.9.2-1.3 3.1-.6 3.1-.6l-6.6-29.2H24c.7 0 1.3 0 2.5 1.8 1.3 1.8 15.6 22.7 16.4 23.7s1.3 1.5 3.3 1c2.1-.6 8.1-1.9 19.2-2.7s27.3-.1 27.6-.6c.3-.4-1.9-16.9-1.9-16.9h1L91 68.8s-1.3.1-1.4-.1c-.3-.7-12.8-31-12.9-31.3.1-.2 1.1-.1 2.5-.1 0-.1-1.5-.1-1.5-.1L66.2 9.4h-1.7v-.9l1-.1s-.7-1.2-1.4-1.2c-.6 0 2.1-.4 3.2-.4 1.3 0 2.4.3 2.4.3s-.3-1 .9-.8c.7.1 4.1 2.5 4.1 2.5s.5.2.9.1c.4 0 .7.5.9.8.1.2.9 0 .9 0s7.3 9.2 18.7 25.1c11.4 15.8 25.3 34.6 25.3 34.6s.8 0 1.9-.2 1.6-.3 1.6-.3.3-1 1-1.2c.5-.2 4.5-.7 8-.6s5.4.3 6 .6.8 1.1 1 2.3c.1 1.2.1 5.7-.1 6.8-.1 1-.3 1.7-1.6 1.9-1.4.2-6.1.2-8 .1-1.4-.1-2.9-.5-3-.3s3.3 4 4.7 6.1 4.2 5.7 5.1 6.1 1 .5.2.7c-.8.3-1.6.2-2.2-.1-.6-.4-1.3-.5-1.6-.2-.1.1.7 1.2 1.2 1.4.5.3 1.4 0 1.8.2s1.6.9 2.5.8c5.7-.2 14.4-.4 33.2-.4 20.1-.1 26.2.1 36.9 2.9 9.8 2.5 11.7 4.4 13.1 5.3 1.3.9 2.3 2.9 2.3 3.7 0 .8-1 2.8-2.3 3.7-1.4 1-3.3 2.8-13.1 5.3-10.8 2.7-16.8 2.9-36.9 2.9-18.8-.1-27.4-.3-33.2-.4-1 0-2.1.7-2.5.8-.4.2-1.3-.1-1.8.2s-1.3 1.3-1.2 1.4c.3.4 1 .2 1.6-.2s1.4-.4 2.2-.1.7.3-.2.7-3.8 4-5.1 6.1c-1.4 2.1-4.8 5.9-4.7 6.1s1.6-.2 3-.3c1.9-.1 6.6-.1 8 .1s1.5.8 1.6 1.9.2 5.7.1 6.8-.4 2-1 2.3-2.4.5-6 .6c-3.5.1-7.5-.4-8-.6-.7-.3-1-1.2-1-1.2s-.5-.1-1.6-.3-1.9-.2-1.9-.2-14 18.8-25.3 34.6c-11.4 15.9-18.7 25.1-18.7 25.1s-.7-.2-.9 0c-.2.3-.5.8-.9.8s-.9.1-.9.1-3.3 2.4-4.1 2.5c-1 .1-.7-.9-.7-.9zm8.5-190L77 10.9l-.2.1 1.3 1.8zm2.6 3.7L78.5 13l-.2.2 2.4 3.5zm2.6 3.7l-2.5-3.5-.2.1 2.4 3.5zm3.3 4.6l-3.2-4.4-.2.1 3.2 4.5zm3 4.3L87.1 25l-.2.1 2.9 4.1zm3.1 4.4l-2.9-4.1-.2.1 2.9 4.1zm3.2 4.4l-3-4.3-.2.2 3 4.3zm3.2 4.6l-3.1-4.3-.2.2 3 4.3zm3.2 4.5l-3-4.3-.2.1 3 4.3zm3.1 4.4l-3-4.3-.2.1 3 4.3zm3.1 4.3l-2.9-4.1-.2.1 2.9 4.1zm3 4.2l-2.9-4.1-.2.1 2.9 4.1zm3.6 5.1l-3.4-4.8-.2.1 3.4 4.8zm.9 1.3l-.8-1.1-.2.1.8 1.1zm3 4.1l-2.8-3.9-.2.1 2.8 4zm0 69.1l-.2-.1-2.8 4 .2.1zm-3 4.1l-.2-.1-.8 1.1.2.1zm-.9 1.4l-.2-.1-3.4 4.8.2.1zm-3.6 5l-.2-.1-2.9 4.1.2.1zm-3 4.3l-.2-.1-2.9 4.1.2.1zm-3.1 4.2l-.2-.1-3 4.3.2.1zm-3.1 4.5l-.2-.1-3 4.2.2.1zm-3.2 4.5l-.2-.1-3 4.3.2.2zm-3.2 4.5l-.2-.2-3 4.3.2.1zm-3.2 4.5l-.2-.1-2.9 4.1.2.1zm-3.1 4.3l-.2-.1-2.9 4.1.2.1zm-3 4.3l-.2-.1-3.2 4.5.2.1zm-3.3 4.7l-.2-.1-2.4 3.5.2.1zm-2.6 3.7l-.2-.1-2.4 3.5.2.2zm-2.6 3.6l-.2-.2-1.3 1.8.1.3z\" fill=\"#faa718\"></path></svg></div><div class=\"past-upcoming-flights__Airport-s1haoxfm-4 fjoBOD past-upcoming-flights__StyledInfo-s1haoxfm-3 hclaTo\"><div class=\"past-upcoming-flights__TextHelper-s1haoxfm-2 ceqiFt\">MAD</div><div class=\"past-upcoming-flights__TextHelper-s1haoxfm-2 ieHvs\">Madrid</div></div><div class=\"past-upcoming-flights__TimeGroupContainer-s1haoxfm-5 dnaKQQ past-upcoming-flights__StyledInfo-s1haoxfm-3 hclaTo\"><div class=\"past-upcoming-flights__TextHelper-s1haoxfm-2 hxawCE\">00:10<span class=\"past-upcoming-flights__TimeSuffix-s1haoxfm-6 dQHMCy\"> CEST</span></div></div></a></div></div><div class=\"tabs-content__Panel-rymvp0-5 golHFI\"><div class=\"tabs-content__FadeInDiv-rymvp0-7 clShQb\"><div class=\"past-upcoming-flights__TextHelper-s1haoxfm-2 htEwxh\">Flights for Wednesday, 15-May-2019</div><div class=\"past-upcoming-flights__HeaderContainer-s1haoxfm-8 dHFBYw\"><div class=\"past-upcoming-flights__HeaderText-s1haoxfm-9 iyoRaK past-upcoming-flights__TextHelper-s1haoxfm-2 cEzxMC\">Departure Time</div><div class=\"past-upcoming-flights__HeaderText-s1haoxfm-9 iJCHoL past-upcoming-flights__TextHelper-s1haoxfm-2 cEzxMC\">Origin</div><span class=\"past-upcoming-flights__HeaderSeparator-s1haoxfm-10 hPxFPu\">&nbsp;</span><div class=\"past-upcoming-flights__HeaderText-s1haoxfm-9 iJCHoL past-upcoming-flights__TextHelper-s1haoxfm-2 cEzxMC\">Destination</div><div class=\"past-upcoming-flights__HeaderText-s1haoxfm-9 iyoRaK past-upcoming-flights__TextHelper-s1haoxfm-2 cEzxMC\">Arrival Time</div></div><a class=\"past-upcoming-flights__LinkTableRow-s1haoxfm-0 hiZfCr\" href=\"/v2/flight-tracker/PS/945?year=2019&amp;month=05&amp;date=15&amp;flightId=999902948\"><div class=\"past-upcoming-flights__TimeGroupContainer-s1haoxfm-5 dnaKQQ past-upcoming-flights__StyledInfo-s1haoxfm-3 hclaTo\"><div class=\"past-upcoming-flights__TextHelper-s1haoxfm-2 hxawCE\">20:40<span class=\"past-upcoming-flights__TimeSuffix-s1haoxfm-6 dQHMCy\"> EEST</span></div></div><div class=\"past-upcoming-flights__Airport-s1haoxfm-4 fjoBOD past-upcoming-flights__StyledInfo-s1haoxfm-3 hclaTo\"><div class=\"past-upcoming-flights__TextHelper-s1haoxfm-2 ceqiFt\">KBP</div><div class=\"past-upcoming-flights__TextHelper-s1haoxfm-2 ieHvs\">Kiev/Kyiv</div></div><div class=\"past-upcoming-flights__PlaneWrapper-s1haoxfm-7 haAodY\"><svg width=\"35px\" height=\"32px\" viewBox=\"0 0 230 207.2\" xmlns=\"http://www.w3.org/2000/svg\"><path d=\"M69.9 202.8s-1.2.3-2.4.3-3.9-.4-3.2-.4c.6 0 1.4-1.2 1.4-1.2l-1-.1v-.9h1.7L78 172.8s1.5 0 1.5-.1c-1.5 0-2.4.1-2.5-.1.1-.3 12.6-30.6 12.9-31.3.1-.3 1.4-.1 1.4-.1l1.1-7.8h-1s2.1-16.4 1.9-16.9c-.3-.4-16.7.4-27.8-.4s-17.1-2.1-19.2-2.7c-2-.5-2.4-.1-3.3 1-.8 1-15.2 22-16.4 23.7s-1.8 1.8-2.5 1.8h-7.3l6.5-29.2s-2.7-.1-3.1-.6c-.4-.4-.2-1.3-.2-1.3s-5.6-.6-5.9-.9c-.4-.3-.5-.9-.5-.9s-5.7-1.3-5.9-1.9c.1-.6 5.9-1.9 5.9-1.9s.2-.6.5-.9c.4-.3 5.9-.9 5.9-.9s-.1-.9.2-1.3 3.1-.6 3.1-.6l-6.6-29.2H24c.7 0 1.3 0 2.5 1.8 1.3 1.8 15.6 22.7 16.4 23.7s1.3 1.5 3.3 1c2.1-.6 8.1-1.9 19.2-2.7s27.3-.1 27.6-.6c.3-.4-1.9-16.9-1.9-16.9h1L91 68.8s-1.3.1-1.4-.1c-.3-.7-12.8-31-12.9-31.3.1-.2 1.1-.1 2.5-.1 0-.1-1.5-.1-1.5-.1L66.2 9.4h-1.7v-.9l1-.1s-.7-1.2-1.4-1.2c-.6 0 2.1-.4 3.2-.4 1.3 0 2.4.3 2.4.3s-.3-1 .9-.8c.7.1 4.1 2.5 4.1 2.5s.5.2.9.1c.4 0 .7.5.9.8.1.2.9 0 .9 0s7.3 9.2 18.7 25.1c11.4 15.8 25.3 34.6 25.3 34.6s.8 0 1.9-.2 1.6-.3 1.6-.3.3-1 1-1.2c.5-.2 4.5-.7 8-.6s5.4.3 6 .6.8 1.1 1 2.3c.1 1.2.1 5.7-.1 6.8-.1 1-.3 1.7-1.6 1.9-1.4.2-6.1.2-8 .1-1.4-.1-2.9-.5-3-.3s3.3 4 4.7 6.1 4.2 5.7 5.1 6.1 1 .5.2.7c-.8.3-1.6.2-2.2-.1-.6-.4-1.3-.5-1.6-.2-.1.1.7 1.2 1.2 1.4.5.3 1.4 0 1.8.2s1.6.9 2.5.8c5.7-.2 14.4-.4 33.2-.4 20.1-.1 26.2.1 36.9 2.9 9.8 2.5 11.7 4.4 13.1 5.3 1.3.9 2.3 2.9 2.3 3.7 0 .8-1 2.8-2.3 3.7-1.4 1-3.3 2.8-13.1 5.3-10.8 2.7-16.8 2.9-36.9 2.9-18.8-.1-27.4-.3-33.2-.4-1 0-2.1.7-2.5.8-.4.2-1.3-.1-1.8.2s-1.3 1.3-1.2 1.4c.3.4 1 .2 1.6-.2s1.4-.4 2.2-.1.7.3-.2.7-3.8 4-5.1 6.1c-1.4 2.1-4.8 5.9-4.7 6.1s1.6-.2 3-.3c1.9-.1 6.6-.1 8 .1s1.5.8 1.6 1.9.2 5.7.1 6.8-.4 2-1 2.3-2.4.5-6 .6c-3.5.1-7.5-.4-8-.6-.7-.3-1-1.2-1-1.2s-.5-.1-1.6-.3-1.9-.2-1.9-.2-14 18.8-25.3 34.6c-11.4 15.9-18.7 25.1-18.7 25.1s-.7-.2-.9 0c-.2.3-.5.8-.9.8s-.9.1-.9.1-3.3 2.4-4.1 2.5c-1 .1-.7-.9-.7-.9zm8.5-190L77 10.9l-.2.1 1.3 1.8zm2.6 3.7L78.5 13l-.2.2 2.4 3.5zm2.6 3.7l-2.5-3.5-.2.1 2.4 3.5zm3.3 4.6l-3.2-4.4-.2.1 3.2 4.5zm3 4.3L87.1 25l-.2.1 2.9 4.1zm3.1 4.4l-2.9-4.1-.2.1 2.9 4.1zm3.2 4.4l-3-4.3-.2.2 3 4.3zm3.2 4.6l-3.1-4.3-.2.2 3 4.3zm3.2 4.5l-3-4.3-.2.1 3 4.3zm3.1 4.4l-3-4.3-.2.1 3 4.3zm3.1 4.3l-2.9-4.1-.2.1 2.9 4.1zm3 4.2l-2.9-4.1-.2.1 2.9 4.1zm3.6 5.1l-3.4-4.8-.2.1 3.4 4.8zm.9 1.3l-.8-1.1-.2.1.8 1.1zm3 4.1l-2.8-3.9-.2.1 2.8 4zm0 69.1l-.2-.1-2.8 4 .2.1zm-3 4.1l-.2-.1-.8 1.1.2.1zm-.9 1.4l-.2-.1-3.4 4.8.2.1zm-3.6 5l-.2-.1-2.9 4.1.2.1zm-3 4.3l-.2-.1-2.9 4.1.2.1zm-3.1 4.2l-.2-.1-3 4.3.2.1zm-3.1 4.5l-.2-.1-3 4.2.2.1zm-3.2 4.5l-.2-.1-3 4.3.2.2zm-3.2 4.5l-.2-.2-3 4.3.2.1zm-3.2 4.5l-.2-.1-2.9 4.1.2.1zm-3.1 4.3l-.2-.1-2.9 4.1.2.1zm-3 4.3l-.2-.1-3.2 4.5.2.1zm-3.3 4.7l-.2-.1-2.4 3.5.2.1zm-2.6 3.7l-.2-.1-2.4 3.5.2.2zm-2.6 3.6l-.2-.2-1.3 1.8.1.3z\" fill=\"#faa718\"></path></svg></div><div class=\"past-upcoming-flights__Airport-s1haoxfm-4 fjoBOD past-upcoming-flights__StyledInfo-s1haoxfm-3 hclaTo\"><div class=\"past-upcoming-flights__TextHelper-s1haoxfm-2 ceqiFt\">MAD</div><div class=\"past-upcoming-flights__TextHelper-s1haoxfm-2 ieHvs\">Madrid</div></div><div class=\"past-upcoming-flights__TimeGroupContainer-s1haoxfm-5 dnaKQQ past-upcoming-flights__StyledInfo-s1haoxfm-3 hclaTo\"><div class=\"past-upcoming-flights__TextHelper-s1haoxfm-2 hxawCE\">00:10<span class=\"past-upcoming-flights__TimeSuffix-s1haoxfm-6 dQHMCy\"> CEST</span></div></div></a></div></div><div class=\"tabs-content__Panel-rymvp0-5 golHFI\"><div class=\"tabs-content__FadeInDiv-rymvp0-7 clShQb\"><div class=\"past-upcoming-flights__TextHelper-s1haoxfm-2 htEwxh\">Flights for Thursday, 16-May-2019</div><div class=\"past-upcoming-flights__HeaderContainer-s1haoxfm-8 dHFBYw\"><div class=\"past-upcoming-flights__HeaderText-s1haoxfm-9 iyoRaK past-upcoming-flights__TextHelper-s1haoxfm-2 cEzxMC\">Departure Time</div><div class=\"past-upcoming-flights__HeaderText-s1haoxfm-9 iJCHoL past-upcoming-flights__TextHelper-s1haoxfm-2 cEzxMC\">Origin</div><span class=\"past-upcoming-flights__HeaderSeparator-s1haoxfm-10 hPxFPu\">&nbsp;</span><div class=\"past-upcoming-flights__HeaderText-s1haoxfm-9 iJCHoL past-upcoming-flights__TextHelper-s1haoxfm-2 cEzxMC\">Destination</div><div class=\"past-upcoming-flights__HeaderText-s1haoxfm-9 iyoRaK past-upcoming-flights__TextHelper-s1haoxfm-2 cEzxMC\">Arrival Time</div></div><a class=\"past-upcoming-flights__LinkTableRow-s1haoxfm-0 hiZfCr\" href=\"/v2/flight-tracker/PS/945?year=2019&amp;month=05&amp;date=16&amp;flightId=1000017819\"><div class=\"past-upcoming-flights__TimeGroupContainer-s1haoxfm-5 dnaKQQ past-upcoming-flights__StyledInfo-s1haoxfm-3 hclaTo\"><div class=\"past-upcoming-flights__TextHelper-s1haoxfm-2 hxawCE\">20:40<span class=\"past-upcoming-flights__TimeSuffix-s1haoxfm-6 dQHMCy\"> EEST</span></div></div><div class=\"past-upcoming-flights__Airport-s1haoxfm-4 fjoBOD past-upcoming-flights__StyledInfo-s1haoxfm-3 hclaTo\"><div class=\"past-upcoming-flights__TextHelper-s1haoxfm-2 ceqiFt\">KBP</div><div class=\"past-upcoming-flights__TextHelper-s1haoxfm-2 ieHvs\">Kiev/Kyiv</div></div><div class=\"past-upcoming-flights__PlaneWrapper-s1haoxfm-7 haAodY\"><svg width=\"35px\" height=\"32px\" viewBox=\"0 0 230 207.2\" xmlns=\"http://www.w3.org/2000/svg\"><path d=\"M69.9 202.8s-1.2.3-2.4.3-3.9-.4-3.2-.4c.6 0 1.4-1.2 1.4-1.2l-1-.1v-.9h1.7L78 172.8s1.5 0 1.5-.1c-1.5 0-2.4.1-2.5-.1.1-.3 12.6-30.6 12.9-31.3.1-.3 1.4-.1 1.4-.1l1.1-7.8h-1s2.1-16.4 1.9-16.9c-.3-.4-16.7.4-27.8-.4s-17.1-2.1-19.2-2.7c-2-.5-2.4-.1-3.3 1-.8 1-15.2 22-16.4 23.7s-1.8 1.8-2.5 1.8h-7.3l6.5-29.2s-2.7-.1-3.1-.6c-.4-.4-.2-1.3-.2-1.3s-5.6-.6-5.9-.9c-.4-.3-.5-.9-.5-.9s-5.7-1.3-5.9-1.9c.1-.6 5.9-1.9 5.9-1.9s.2-.6.5-.9c.4-.3 5.9-.9 5.9-.9s-.1-.9.2-1.3 3.1-.6 3.1-.6l-6.6-29.2H24c.7 0 1.3 0 2.5 1.8 1.3 1.8 15.6 22.7 16.4 23.7s1.3 1.5 3.3 1c2.1-.6 8.1-1.9 19.2-2.7s27.3-.1 27.6-.6c.3-.4-1.9-16.9-1.9-16.9h1L91 68.8s-1.3.1-1.4-.1c-.3-.7-12.8-31-12.9-31.3.1-.2 1.1-.1 2.5-.1 0-.1-1.5-.1-1.5-.1L66.2 9.4h-1.7v-.9l1-.1s-.7-1.2-1.4-1.2c-.6 0 2.1-.4 3.2-.4 1.3 0 2.4.3 2.4.3s-.3-1 .9-.8c.7.1 4.1 2.5 4.1 2.5s.5.2.9.1c.4 0 .7.5.9.8.1.2.9 0 .9 0s7.3 9.2 18.7 25.1c11.4 15.8 25.3 34.6 25.3 34.6s.8 0 1.9-.2 1.6-.3 1.6-.3.3-1 1-1.2c.5-.2 4.5-.7 8-.6s5.4.3 6 .6.8 1.1 1 2.3c.1 1.2.1 5.7-.1 6.8-.1 1-.3 1.7-1.6 1.9-1.4.2-6.1.2-8 .1-1.4-.1-2.9-.5-3-.3s3.3 4 4.7 6.1 4.2 5.7 5.1 6.1 1 .5.2.7c-.8.3-1.6.2-2.2-.1-.6-.4-1.3-.5-1.6-.2-.1.1.7 1.2 1.2 1.4.5.3 1.4 0 1.8.2s1.6.9 2.5.8c5.7-.2 14.4-.4 33.2-.4 20.1-.1 26.2.1 36.9 2.9 9.8 2.5 11.7 4.4 13.1 5.3 1.3.9 2.3 2.9 2.3 3.7 0 .8-1 2.8-2.3 3.7-1.4 1-3.3 2.8-13.1 5.3-10.8 2.7-16.8 2.9-36.9 2.9-18.8-.1-27.4-.3-33.2-.4-1 0-2.1.7-2.5.8-.4.2-1.3-.1-1.8.2s-1.3 1.3-1.2 1.4c.3.4 1 .2 1.6-.2s1.4-.4 2.2-.1.7.3-.2.7-3.8 4-5.1 6.1c-1.4 2.1-4.8 5.9-4.7 6.1s1.6-.2 3-.3c1.9-.1 6.6-.1 8 .1s1.5.8 1.6 1.9.2 5.7.1 6.8-.4 2-1 2.3-2.4.5-6 .6c-3.5.1-7.5-.4-8-.6-.7-.3-1-1.2-1-1.2s-.5-.1-1.6-.3-1.9-.2-1.9-.2-14 18.8-25.3 34.6c-11.4 15.9-18.7 25.1-18.7 25.1s-.7-.2-.9 0c-.2.3-.5.8-.9.8s-.9.1-.9.1-3.3 2.4-4.1 2.5c-1 .1-.7-.9-.7-.9zm8.5-190L77 10.9l-.2.1 1.3 1.8zm2.6 3.7L78.5 13l-.2.2 2.4 3.5zm2.6 3.7l-2.5-3.5-.2.1 2.4 3.5zm3.3 4.6l-3.2-4.4-.2.1 3.2 4.5zm3 4.3L87.1 25l-.2.1 2.9 4.1zm3.1 4.4l-2.9-4.1-.2.1 2.9 4.1zm3.2 4.4l-3-4.3-.2.2 3 4.3zm3.2 4.6l-3.1-4.3-.2.2 3 4.3zm3.2 4.5l-3-4.3-.2.1 3 4.3zm3.1 4.4l-3-4.3-.2.1 3 4.3zm3.1 4.3l-2.9-4.1-.2.1 2.9 4.1zm3 4.2l-2.9-4.1-.2.1 2.9 4.1zm3.6 5.1l-3.4-4.8-.2.1 3.4 4.8zm.9 1.3l-.8-1.1-.2.1.8 1.1zm3 4.1l-2.8-3.9-.2.1 2.8 4zm0 69.1l-.2-.1-2.8 4 .2.1zm-3 4.1l-.2-.1-.8 1.1.2.1zm-.9 1.4l-.2-.1-3.4 4.8.2.1zm-3.6 5l-.2-.1-2.9 4.1.2.1zm-3 4.3l-.2-.1-2.9 4.1.2.1zm-3.1 4.2l-.2-.1-3 4.3.2.1zm-3.1 4.5l-.2-.1-3 4.2.2.1zm-3.2 4.5l-.2-.1-3 4.3.2.2zm-3.2 4.5l-.2-.2-3 4.3.2.1zm-3.2 4.5l-.2-.1-2.9 4.1.2.1zm-3.1 4.3l-.2-.1-2.9 4.1.2.1zm-3 4.3l-.2-.1-3.2 4.5.2.1zm-3.3 4.7l-.2-.1-2.4 3.5.2.1zm-2.6 3.7l-.2-.1-2.4 3.5.2.2zm-2.6 3.6l-.2-.2-1.3 1.8.1.3z\" fill=\"#faa718\"></path></svg></div><div class=\"past-upcoming-flights__Airport-s1haoxfm-4 fjoBOD past-upcoming-flights__StyledInfo-s1haoxfm-3 hclaTo\"><div class=\"past-upcoming-flights__TextHelper-s1haoxfm-2 ceqiFt\">MAD</div><div class=\"past-upcoming-flights__TextHelper-s1haoxfm-2 ieHvs\">Madrid</div></div><div class=\"past-upcoming-flights__TimeGroupContainer-s1haoxfm-5 dnaKQQ past-upcoming-flights__StyledInfo-s1haoxfm-3 hclaTo\"><div class=\"past-upcoming-flights__TextHelper-s1haoxfm-2 hxawCE\">00:10<span class=\"past-upcoming-flights__TimeSuffix-s1haoxfm-6 dQHMCy\"> CEST</span></div></div></a></div></div><div class=\"tabs-content__Panel-rymvp0-5 golHFI\"><div class=\"tabs-content__FadeInDiv-rymvp0-7 clShQb\"><div class=\"past-upcoming-flights__TextHelper-s1haoxfm-2 htEwxh\">Flights for Friday, 17-May-2019</div><div class=\"past-upcoming-flights__NoFlightText-s1haoxfm-11 chdSQy past-upcoming-flights__TextHelper-s1haoxfm-2 dxmetu\">No Flight Information Available</div><div class=\"past-upcoming-flights__NoFlightText-s1haoxfm-11 chdSQy past-upcoming-flights__TextHelper-s1haoxfm-2 FuHQL\">According to our data, this flight  is not scheduled to fly on this date</div></div></div></div></div></div></div><div class=\"layout-row__RowWrapper-s1uoco8s-0 dcdOHa\"><div class=\"layout-row__SectionContainer-s1uoco8s-2 iSGoko\"><div class=\"layout-row__TitleWrapper-s1uoco8s-3 jFgNNO\"><h2 class=\"layout-row__Title-s1uoco8s-4 bRoHMJ\">Mobile Applications for the Active Traveler</h2></div><div><div class=\"layout-row__RowInner-s1uoco8s-1 byoaAa\"><div class=\"mobile-apps-ad__MobileAdContainer-u4xl7b-1 eFskjy\"><div class=\"mobile-apps-ad__LeftColumn-u4xl7b-2 KouPz\"><div class=\"mobile-apps-ad__PhonesImage-u4xl7b-3 kOcurG\"></div></div><div class=\"mobile-apps-ad__RightColumn-u4xl7b-4 RqKHL\"><div class=\"mobile-apps-ad__TextBlock-u4xl7b-5 bXGCrF\"><h3 class=\"mobile-apps-ad__LargerHeading-u4xl7b-6 bkHDHH\">Over 9 million people have downloaded our FlightStats mobile apps!</h3><h4 class=\"mobile-apps-ad__SmallerHeading-u4xl7b-7 hkZTPf\">try it out today!</h4></div><div class=\"mobile-apps-ad__Logos-u4xl7b-8 dgygvu\"><a class=\"mobile-apps-ad__MobileLink-u4xl7b-0 kmrOHE\" href=\"https://itunes.apple.com/app/apple-store/id572700574?pt=604413&amp;ct=flightstats.com&amp;mt=8\"><svg width=\"120px\" height=\"40px\" xmlns=\"http://www.w3.org/2000/svg\"><path d=\"M110.135 0H9.535c-.367 0-.73 0-1.095.002-.306.002-.61.008-.919.013A13.215 13.215 0 0 0 5.517.19a6.665 6.665 0 0 0-1.9.627 6.438 6.438 0 0 0-1.62 1.18A6.258 6.258 0 0 0 .82 3.617 6.601 6.601 0 0 0 .195 5.52a12.993 12.993 0 0 0-.179 2.002c-.01.307-.01.615-.015.921V31.56c.005.31.006.61.015.921a12.992 12.992 0 0 0 .18 2.002 6.588 6.588 0 0 0 .624 1.905A6.208 6.208 0 0 0 1.998 38a6.274 6.274 0 0 0 1.618 1.179 6.7 6.7 0 0 0 1.901.63 13.455 13.455 0 0 0 2.004.177c.31.007.613.011.919.011.366.002.728.002 1.095.002h100.6c.36 0 .724 0 1.084-.002.304 0 .617-.004.922-.01a13.279 13.279 0 0 0 2-.178 6.804 6.804 0 0 0 1.908-.63A6.277 6.277 0 0 0 117.666 38a6.395 6.395 0 0 0 1.182-1.614 6.604 6.604 0 0 0 .619-1.905 13.506 13.506 0 0 0 .185-2.002c.004-.31.004-.61.004-.921.008-.364.008-.725.008-1.094V9.536c0-.366 0-.73-.008-1.092 0-.306 0-.614-.004-.92a13.507 13.507 0 0 0-.185-2.003 6.618 6.618 0 0 0-.62-1.903 6.466 6.466 0 0 0-2.798-2.8 6.768 6.768 0 0 0-1.908-.627 13.044 13.044 0 0 0-2-.176c-.305-.005-.618-.011-.922-.013-.36-.002-.725-.002-1.084-.002z\" fill=\"#a6a6a6\"></path><path d=\"M8.445 39.125c-.305 0-.602-.004-.904-.01a12.687 12.687 0 0 1-1.87-.164 5.884 5.884 0 0 1-1.656-.548 5.406 5.406 0 0 1-1.397-1.016 5.32 5.32 0 0 1-1.02-1.397 5.722 5.722 0 0 1-.544-1.657 12.414 12.414 0 0 1-.166-1.875c-.007-.21-.015-.913-.015-.913v-23.1s.009-.692.015-.895a12.37 12.37 0 0 1 .165-1.872 5.755 5.755 0 0 1 .544-1.662 5.373 5.373 0 0 1 1.015-1.398 5.565 5.565 0 0 1 1.402-1.023 5.823 5.823 0 0 1 1.653-.544A12.586 12.586 0 0 1 7.543.887l.902-.012h102.769l.913.013a12.385 12.385 0 0 1 1.858.162 5.938 5.938 0 0 1 1.671.548 5.594 5.594 0 0 1 2.415 2.42 5.763 5.763 0 0 1 .535 1.649 12.995 12.995 0 0 1 .174 1.887c.003.283.003.588.003.89.008.375.008.732.008 1.092v20.929c0 .363 0 .718-.008 1.075 0 .325 0 .623-.004.93a12.731 12.731 0 0 1-.17 1.853 5.739 5.739 0 0 1-.54 1.67 5.48 5.48 0 0 1-1.016 1.386 5.413 5.413 0 0 1-1.4 1.022 5.862 5.862 0 0 1-1.668.55 12.542 12.542 0 0 1-1.869.163c-.293.007-.6.011-.897.011l-1.084.002z\"></path><path d=\"M24.769 20.3a4.949 4.949 0 0 1 2.356-4.151 5.066 5.066 0 0 0-3.99-2.158c-1.68-.176-3.308 1.005-4.164 1.005-.872 0-2.19-.988-3.608-.958a5.315 5.315 0 0 0-4.473 2.728c-1.934 3.348-.491 8.269 1.361 10.976.927 1.325 2.01 2.805 3.428 2.753 1.387-.058 1.905-.885 3.58-.885 1.658 0 2.144.885 3.59.852 1.489-.025 2.426-1.332 3.32-2.67a10.962 10.962 0 0 0 1.52-3.092 4.782 4.782 0 0 1-2.92-4.4zm-2.732-8.09a4.872 4.872 0 0 0 1.115-3.49 4.957 4.957 0 0 0-3.208 1.66 4.636 4.636 0 0 0-1.144 3.36 4.1 4.1 0 0 0 3.237-1.53zm20.265 14.93H37.57l-1.137 3.356h-2.005l4.484-12.418h2.083l4.483 12.418h-2.039zm-4.243-1.55h3.752l-1.85-5.446h-.051zm17.101.38c0 2.813-1.506 4.62-3.779 4.62a3.07 3.07 0 0 1-2.848-1.583h-.043v4.484h-1.86V21.442h1.8v1.506h.033a3.212 3.212 0 0 1 2.883-1.6c2.298 0 3.813 1.816 3.813 4.622zm-1.91 0c0-1.833-.948-3.038-2.393-3.038-1.42 0-2.375 1.23-2.375 3.038 0 1.824.955 3.046 2.375 3.046 1.445 0 2.393-1.197 2.393-3.046zm11.875 0c0 2.813-1.506 4.62-3.779 4.62a3.07 3.07 0 0 1-2.848-1.583h-.043v4.484h-1.859V21.442h1.799v1.506h.034a3.212 3.212 0 0 1 2.883-1.6c2.298 0 3.813 1.816 3.813 4.622zm-1.91 0c0-1.833-.948-3.038-2.393-3.038-1.42 0-2.375 1.23-2.375 3.038 0 1.824.955 3.046 2.375 3.046 1.445 0 2.392-1.197 2.392-3.046zm8.495 1.066c.138 1.232 1.334 2.04 2.97 2.04 1.566 0 2.693-.808 2.693-1.919 0-.964-.68-1.54-2.29-1.936l-1.609-.388c-2.28-.55-3.339-1.617-3.339-3.348 0-2.142 1.867-3.614 4.519-3.614 2.624 0 4.423 1.472 4.483 3.614h-1.876c-.112-1.239-1.136-1.987-2.634-1.987s-2.521.757-2.521 1.858c0 .878.654 1.395 2.255 1.79l1.368.336c2.548.603 3.606 1.626 3.606 3.443 0 2.323-1.85 3.778-4.793 3.778-2.754 0-4.614-1.42-4.734-3.667zM83.346 19.3v2.142h1.722v1.472h-1.722v4.991c0 .776.345 1.137 1.102 1.137a5.808 5.808 0 0 0 .611-.043v1.463a5.104 5.104 0 0 1-1.032.086c-1.833 0-2.548-.689-2.548-2.445v-5.189h-1.316v-1.472h1.316V19.3zm2.719 6.67c0-2.849 1.678-4.639 4.294-4.639 2.625 0 4.295 1.79 4.295 4.639 0 2.856-1.661 4.638-4.295 4.638-2.633 0-4.294-1.782-4.294-4.638zm6.695 0c0-1.954-.895-3.108-2.401-3.108s-2.4 1.162-2.4 3.108c0 1.962.894 3.106 2.4 3.106s2.401-1.144 2.401-3.106zm3.426-4.528h1.773v1.541h.043a2.16 2.16 0 0 1 2.177-1.635 2.866 2.866 0 0 1 .637.069v1.738a2.598 2.598 0 0 0-.835-.112 1.873 1.873 0 0 0-1.937 2.083v5.37h-1.858zm13.198 6.395c-.25 1.643-1.85 2.771-3.898 2.771-2.634 0-4.269-1.764-4.269-4.595 0-2.84 1.644-4.682 4.19-4.682 2.506 0 4.08 1.72 4.08 4.466v.637h-6.394v.112a2.358 2.358 0 0 0 2.436 2.564 2.048 2.048 0 0 0 2.09-1.273zm-6.282-2.702h4.526a2.177 2.177 0 0 0-2.22-2.298 2.292 2.292 0 0 0-2.306 2.298zM37.826 8.731a2.64 2.64 0 0 1 2.808 2.965c0 1.906-1.03 3.002-2.808 3.002h-2.155V8.73zm-1.228 5.123h1.125a1.876 1.876 0 0 0 1.967-2.146 1.881 1.881 0 0 0-1.967-2.134h-1.125zm5.082-1.41a2.133 2.133 0 1 1 4.248 0 2.134 2.134 0 1 1-4.247 0zm3.334 0c0-.976-.439-1.547-1.208-1.547-.773 0-1.207.571-1.207 1.547 0 .984.434 1.55 1.207 1.55.77 0 1.208-.57 1.208-1.55zm6.559 2.254h-.922l-.93-3.317h-.07l-.927 3.317h-.913l-1.242-4.503h.902l.806 3.436h.067l.926-3.436h.852l.926 3.436h.07l.803-3.436h.889zm2.281-4.503h.855v.715h.066a1.348 1.348 0 0 1 1.344-.802 1.465 1.465 0 0 1 1.559 1.675v2.915h-.889v-2.692c0-.724-.314-1.084-.972-1.084a1.033 1.033 0 0 0-1.075 1.141v2.635h-.888zm5.24-1.758h.888v6.26h-.888zm2.124 4.007a2.133 2.133 0 1 1 4.247 0 2.134 2.134 0 1 1-4.247 0zm3.333 0c0-.976-.439-1.547-1.208-1.547-.773 0-1.207.571-1.207 1.547 0 .984.434 1.55 1.207 1.55.77 0 1.208-.57 1.208-1.55zm1.849.98c0-.81.604-1.278 1.676-1.344l1.22-.07v-.389c0-.475-.315-.744-.922-.744-.497 0-.84.182-.939.5h-.86c.09-.773.818-1.27 1.84-1.27 1.128 0 1.765.563 1.765 1.514v3.077h-.855v-.633h-.07a1.515 1.515 0 0 1-1.353.707 1.36 1.36 0 0 1-1.501-1.348zm2.895-.384v-.377l-1.1.07c-.62.042-.9.253-.9.65 0 .405.351.64.834.64a1.062 1.062 0 0 0 1.166-.983zm2.053-.596c0-1.423.732-2.324 1.87-2.324a1.484 1.484 0 0 1 1.38.79h.067V8.437h.888v6.26h-.851v-.71h-.07a1.563 1.563 0 0 1-1.415.785c-1.145 0-1.869-.901-1.869-2.328zm.918 0c0 .955.45 1.53 1.203 1.53.75 0 1.212-.583 1.212-1.526 0-.938-.468-1.53-1.212-1.53-.748 0-1.203.58-1.203 1.526zm6.964 0a2.133 2.133 0 1 1 4.247 0 2.134 2.134 0 1 1-4.247 0zm3.333 0c0-.976-.438-1.547-1.208-1.547-.772 0-1.207.571-1.207 1.547 0 .984.435 1.55 1.207 1.55.77 0 1.208-.57 1.208-1.55zm2.107-2.249h.855v.715h.066a1.348 1.348 0 0 1 1.344-.802 1.465 1.465 0 0 1 1.559 1.675v2.915h-.889v-2.692c0-.724-.314-1.084-.972-1.084a1.033 1.033 0 0 0-1.075 1.141v2.635h-.889zm8.845-1.121v1.141h.976v.749h-.976v2.315c0 .472.194.679.637.679a2.967 2.967 0 0 0 .339-.021v.74a2.916 2.916 0 0 1-.484.046c-.988 0-1.381-.348-1.381-1.216v-2.543h-.715v-.749h.715V9.074zm2.19-.637h.88v2.481h.07a1.386 1.386 0 0 1 1.374-.806 1.483 1.483 0 0 1 1.55 1.679v2.907h-.889V12.01c0-.72-.335-1.084-.963-1.084a1.052 1.052 0 0 0-1.134 1.142v2.63h-.888zm9.056 5.045a1.828 1.828 0 0 1-1.95 1.303 2.045 2.045 0 0 1-2.081-2.325 2.077 2.077 0 0 1 2.076-2.352c1.253 0 2.009.856 2.009 2.27v.31h-3.18v.05a1.19 1.19 0 0 0 1.2 1.29 1.08 1.08 0 0 0 1.07-.546zm-3.126-1.451h2.275a1.086 1.086 0 0 0-1.109-1.167 1.152 1.152 0 0 0-1.166 1.167z\" fill=\"#fff\"></path></svg></a><a class=\"mobile-apps-ad__MobileLink-u4xl7b-0 kmrOHE\" href=\"https://play.google.com/store/apps/details?id=com.conducivetech.android.traveler\"><svg width=\"140px\" height=\"40px\" viewBox=\"10 10 135 40\" xmlns=\"http://www.w3.org/2000/svg\"><linearGradient id=\"a\" gradientTransform=\"matrix(1 0 0 -1 0 202)\" gradientUnits=\"userSpaceOnUse\" x1=\"31.8\" x2=\"15.02\" y1=\"183.29\" y2=\"166.51\"><stop offset=\"0\" stop-color=\"#00a0ff\"></stop><stop offset=\".01\" stop-color=\"#00a1ff\"></stop><stop offset=\".26\" stop-color=\"#00beff\"></stop><stop offset=\".51\" stop-color=\"#00d2ff\"></stop><stop offset=\".76\" stop-color=\"#00dfff\"></stop><stop offset=\"1\" stop-color=\"#00e3ff\"></stop></linearGradient><linearGradient id=\"b\" gradientTransform=\"matrix(1 0 0 -1 0 202)\" gradientUnits=\"userSpaceOnUse\" x1=\"43.83\" x2=\"19.64\" y1=\"172\" y2=\"172\"><stop offset=\"0\" stop-color=\"#ffe000\"></stop><stop offset=\".41\" stop-color=\"#ffbd00\"></stop><stop offset=\".78\" stop-color=\"orange\"></stop><stop offset=\"1\" stop-color=\"#ff9c00\"></stop></linearGradient><linearGradient id=\"c\" gradientTransform=\"matrix(1 0 0 -1 0 202)\" gradientUnits=\"userSpaceOnUse\" x1=\"34.83\" x2=\"12.07\" y1=\"169.7\" y2=\"146.95\"><stop offset=\"0\" stop-color=\"#ff3a44\"></stop><stop offset=\"1\" stop-color=\"#c31162\"></stop></linearGradient><linearGradient id=\"d\" gradientTransform=\"matrix(1 0 0 -1 0 202)\" gradientUnits=\"userSpaceOnUse\" x1=\"17.3\" x2=\"27.46\" y1=\"191.82\" y2=\"181.66\"><stop offset=\"0\" stop-color=\"#32a071\"></stop><stop offset=\".07\" stop-color=\"#2da771\"></stop><stop offset=\".48\" stop-color=\"#15cf74\"></stop><stop offset=\".8\" stop-color=\"#06e775\"></stop><stop offset=\"1\" stop-color=\"#00f076\"></stop></linearGradient><path d=\"M0 0h155v60H0z\" fill=\"none\"></path><rect height=\"40\" rx=\"5\" width=\"135\" x=\"10\" y=\"10\"></rect><path d=\"M140 10.8a4.2 4.2 0 0 1 4.2 4.2v30a4.2 4.2 0 0 1-4.2 4.2H15a4.2 4.2 0 0 1-4.2-4.2V15a4.2 4.2 0 0 1 4.2-4.2zm0-.8H15a5 5 0 0 0-5 5v30a5 5 0 0 0 5 5h125a5 5 0 0 0 5-5V15a5 5 0 0 0-5-5z\" fill=\"#a6a6a6\"></path><path d=\"M57.42 20.24a2.71 2.71 0 0 1-.75 2 2.91 2.91 0 0 1-2.2.89 3.15 3.15 0 0 1-2.21-5.37 3 3 0 0 1 2.21-.9 3.1 3.1 0 0 1 1.23.25 2.47 2.47 0 0 1 .94.67l-.53.53a2 2 0 0 0-1.64-.71 2.32 2.32 0 0 0-2.33 2.4 2.36 2.36 0 0 0 4 1.73 1.89 1.89 0 0 0 .5-1.22h-2.17v-.72h2.91a2.54 2.54 0 0 1 .04.45zm4.58-2.5h-2.7v1.9h2.46v.72H59.3v1.9H62V23h-3.5v-6H62zM65.28 23h-.77v-5.26h-1.68V17H67v.74h-1.72zm4.66 0v-6h.77v6zm4.19 0h-.77v-5.26h-1.68V17h4.12v.74h-1.67zm9.48-.78a3.12 3.12 0 0 1-4.4 0 3.24 3.24 0 0 1 0-4.45 3.1 3.1 0 0 1 4.4 0 3.23 3.23 0 0 1 0 4.45zm-3.83-.5a2.31 2.31 0 0 0 3.26 0 2.56 2.56 0 0 0 0-3.44 2.31 2.31 0 0 0-3.26 0 2.56 2.56 0 0 0 0 3.44zm5.8 1.28v-6h.94l2.92 4.67V17h.77v6h-.8l-3.05-4.89V23z\" fill=\"#fff\" stroke=\"#fff\" stroke-miterlimit=\"10\" stroke-width=\".2\"></path><path d=\"M78.14 31.75A4.25 4.25 0 1 0 82.41 36a4.19 4.19 0 0 0-4.27-4.25zm0 6.83a2.58 2.58 0 1 1 2.4-2.58 2.46 2.46 0 0 1-2.4 2.58zm-9.31-6.83A4.25 4.25 0 1 0 73.09 36a4.19 4.19 0 0 0-4.27-4.25zm0 6.83A2.58 2.58 0 1 1 71.22 36a2.46 2.46 0 0 1-2.4 2.58zm-11.09-5.52v1.8h4.32a3.77 3.77 0 0 1-1 2.27 4.42 4.42 0 0 1-3.33 1.32 4.8 4.8 0 0 1 0-9.6A4.6 4.6 0 0 1 61 30.14l1.27-1.27A6.29 6.29 0 0 0 57.74 27a6.61 6.61 0 1 0 0 13.21 6 6 0 0 0 4.61-1.85 6 6 0 0 0 1.56-4.22 5.87 5.87 0 0 0-.1-1.13zm45.31 1.4a4 4 0 0 0-3.64-2.71 4 4 0 0 0-4 4.25 4.16 4.16 0 0 0 4.22 4.25 4.23 4.23 0 0 0 3.54-1.88l-1.45-1a2.43 2.43 0 0 1-2.09 1.18 2.16 2.16 0 0 1-2.06-1.29l5.69-2.35zm-5.8 1.42a2.33 2.33 0 0 1 2.22-2.48 1.65 1.65 0 0 1 1.58.9zM92.63 40h1.87V27.5h-1.87zm-3.06-7.3h-.07a3 3 0 0 0-2.24-1 4.26 4.26 0 0 0 0 8.51 2.9 2.9 0 0 0 2.24-1h.06v.61c0 1.63-.87 2.5-2.27 2.5a2.35 2.35 0 0 1-2.14-1.51l-1.63.68A4.05 4.05 0 0 0 87.29 44c2.19 0 4-1.29 4-4.43V32h-1.72zm-2.14 5.88a2.59 2.59 0 0 1 0-5.16A2.4 2.4 0 0 1 89.7 36a2.38 2.38 0 0 1-2.28 2.58zm24.38-11.08h-4.47V40h1.87v-4.74h2.61a3.89 3.89 0 1 0 0-7.76zm0 6h-2.61v-4.26h2.65a2.14 2.14 0 1 1 0 4.29zm11.53-1.8a3.5 3.5 0 0 0-3.33 1.91l1.66.69a1.77 1.77 0 0 1 1.7-.92 1.8 1.8 0 0 1 2 1.61v.13a4.13 4.13 0 0 0-1.95-.48c-1.79 0-3.6 1-3.6 2.81a2.89 2.89 0 0 0 3.1 2.75 2.63 2.63 0 0 0 2.4-1.2h.06v1h1.8v-4.81c0-2.19-1.66-3.46-3.79-3.46zm-.23 6.85c-.61 0-1.46-.31-1.46-1.06 0-1 1.06-1.33 2-1.33a3.32 3.32 0 0 1 1.7.42 2.26 2.26 0 0 1-2.19 2zM133.74 32l-2.14 5.42h-.06L129.32 32h-2l3.33 7.58-1.9 4.21h1.95L135.82 32zm-16.81 8h1.87V27.5h-1.87z\" fill=\"#fff\"></path><path d=\"M20.44 17.54a2 2 0 0 0-.46 1.4v22.12a2 2 0 0 0 .46 1.4l.07.07L32.9 30.15v-.29L20.51 17.47z\" fill=\"url(#a)\"></path><path d=\"M37 34.28l-4.1-4.13v-.29l4.1-4.14.09.05L42 28.56c1.4.79 1.4 2.09 0 2.89l-4.89 2.78z\" fill=\"url(#b)\"></path><path d=\"M37.12 34.22L32.9 30 20.44 42.46a1.63 1.63 0 0 0 2.08.06l14.61-8.3\" fill=\"url(#c)\"></path><path d=\"M37.12 25.78l-14.61-8.3a1.63 1.63 0 0 0-2.08.06L32.9 30z\" fill=\"url(#d)\"></path><path d=\"M37 34.13l-14.49 8.25a1.67 1.67 0 0 1-2 0l-.07.07.07.07a1.66 1.66 0 0 0 2 0l14.61-8.3z\" opacity=\".2\"></path><path d=\"M20.44 42.32a2 2 0 0 1-.46-1.4v.15a2 2 0 0 0 .46 1.4l.07-.07zM42 31.3l-5 2.83.09.09L42 31.44A1.75 1.75 0 0 0 43 30a1.86 1.86 0 0 1-1 1.3z\" opacity=\".12\"></path><path d=\"M22.51 17.62L42 28.7a1.86 1.86 0 0 1 1 1.3 1.75 1.75 0 0 0-1-1.44L22.51 17.48c-1.4-.79-2.54-.13-2.54 1.47v.15c.03-1.61 1.15-2.27 2.54-1.48z\" fill=\"#fff\" opacity=\".25\"></path></svg></a></div></div></div></div></div></div></div></section><footer class=\"layout-footer__LayoutFooterWrapper-s1i4j3cg-0 SOAmc\"><div class=\"layout-footer__FooterTop-s1i4j3cg-1 kxgLkX\"><div class=\"layout-footer__AdWrapper-s1i4j3cg-8 jgHdgc\"><div class=\"ad__Wrapper-s2h2yxm-0 edhVfT\" height=\"90\" width=\"728\"><div style=\"\" id=\"div-gpt-ad-1470845574196-2\" data-google-query-id=\"CM7P4Pq1m-ICFY5x4AodZ2cNtw\"><div id=\"google_ads_iframe_/1010197/BS_FlightTracker_bottom_728x90_0__container__\" style=\"border: 0pt none; display: inline-block; width: 728px; height: 90px;\"><iframe frameborder=\"0\" src=\"https://tpc.googlesyndication.com/safeframe/1-0-33/html/container.html\" id=\"google_ads_iframe_/1010197/BS_FlightTracker_bottom_728x90_0\" title=\"3rd party ad content\" name=\"\" scrolling=\"no\" marginwidth=\"0\" marginheight=\"0\" width=\"728\" height=\"90\" data-is-safeframe=\"true\" sandbox=\"allow-forms allow-pointer-lock allow-popups allow-popups-to-escape-sandbox allow-same-origin allow-scripts allow-top-navigation-by-user-activation\" data-google-container-id=\"5\" style=\"border: 0px; vertical-align: bottom;\" data-load-complete=\"true\"></iframe></div></div></div></div></div><div class=\"layout-footer__FooterBottom-s1i4j3cg-2 ggUdJG\"><div class=\"layout-footer__FooterLeft-s1i4j3cg-3 iZjHLs\"><button class=\"enhanced-link__LinkWrapper-s1thych7-0 swqrz\" role=\"link\" type=\"button\"><a class=\"layout-footer__LinkAnchor-s1i4j3cg-10 ulGpt layout-footer__A-s1i4j3cg-9 jADxAA\" target=\"_blank\" href=\"https://www.flightstats.com/company/legal/cookie-policy\">Cookie Policy</a></button><button class=\"enhanced-link__LinkWrapper-s1thych7-0 swqrz\" role=\"link\" type=\"button\"><a class=\"layout-footer__LinkAnchor-s1i4j3cg-10 ulGpt layout-footer__A-s1i4j3cg-9 jADxAA\" target=\"_blank\" href=\"https://www.flightstats.com/company/legal/privacy-policy/\">Privacy Policy</a></button><button class=\"enhanced-link__LinkWrapper-s1thych7-0 swqrz\" role=\"link\" type=\"button\"><a class=\"layout-footer__LinkAnchor-s1i4j3cg-10 ulGpt layout-footer__A-s1i4j3cg-9 jADxAA\" target=\"_blank\" href=\"https://www.flightstats.com/company/legal/terms-of-use/\">Terms of Use</a></button><button class=\"enhanced-link__LinkWrapper-s1thych7-0 swqrz\" role=\"link\" type=\"button\"><a class=\"layout-footer__LinkAnchor-s1i4j3cg-10 ulGpt layout-footer__A-s1i4j3cg-9 jADxAA\" target=\"_blank\" href=\"https://www.flightstats.com/v2/sitemap\">Sitemap</a></button><span class=\"layout-footer__GrayText-s1i4j3cg-12 bJmmdh layout-footer__Text1-s1i4j3cg-11 dUrbMx\">Copyright © 2019 RBI, Inc.</span></div><div class=\"layout-footer__FooterRight-s1i4j3cg-4 kwBFKp\"><address class=\"layout-footer__Address-s1i4j3cg-14 iQTGmd\"><span class=\"layout-footer__WhiteText-s1i4j3cg-13 jsDIex layout-footer__Text1-s1i4j3cg-11 dUrbMx\">522 SW 5th Ave. #200</span><span class=\"layout-footer__WhiteText-s1i4j3cg-13 jsDIex layout-footer__Text1-s1i4j3cg-11 dUrbMx\">Portland, OR 97204</span></address><span class=\"layout-footer__GrayText-s1i4j3cg-12 bJmmdh layout-footer__Text1-s1i4j3cg-11 dUrbMx\">Version <!-- -->c-1c3b41-382-nxt</span><a class=\"layout-footer__LinkAnchor-s1i4j3cg-10 ulGpt layout-footer__A-s1i4j3cg-9 jADxAA\" target=\"_blank\" rel=\"nofollow\" href=\"http://www.relx.com/\"><img class=\"layout-footer__RelxImage-s1i4j3cg-6 cLVken layout-footer__Image-s1i4j3cg-5 kUnrPj\" alt=\"RELX Group\" src=\"https://assets.flightstats.com/common/Relx-OrangeWhite@2x.png\"></a></div></div></footer></div>"
   ]
  },
  {
   "cell_type": "code",
   "execution_count": 49,
   "metadata": {},
   "outputs": [
    {
     "data": {
      "text/plain": [
       "[<Element 'div' id='__next'>,\n",
       " <Element 'div' class=('desktop__LayoutWrapper-s43d6t8-0', 'eOYkkH')>,\n",
       " <Element 'div' class=('header-social__Text-tb15tb-1', 'gjEOgT')>,\n",
       " <Element 'div' style='display:inline-block;width:23px;height:23px'>,\n",
       " <Element 'div' style='display:inline-block;width:23px;height:23px'>,\n",
       " <Element 'div' style='display:inline-block;width:23px;height:23px'>,\n",
       " <Element 'div' style='display:inline-block;width:23px;height:23px'>,\n",
       " <Element 'div' class=('account-login__AccountLoginContainer-d7lweb-0', 'gNseZH')>,\n",
       " <Element 'div' class=('menu-heading__HeadingOuter-fepp0s-0', 'kjRvQR')>,\n",
       " <Element 'div' class=('menu-heading__SubmenuOuter-fepp0s-2', 'fIefzt')>,\n",
       " <Element 'div' class=('menu-heading__HeadingOuter-fepp0s-0', 'kjRvQR')>,\n",
       " <Element 'div' class=('menu-heading__SubmenuOuter-fepp0s-2', 'fIefzt')>,\n",
       " <Element 'div' class=('menu-heading__HeadingOuter-fepp0s-0', 'kjRvQR')>,\n",
       " <Element 'div' class=('menu-heading__SubmenuOuter-fepp0s-2', 'fIefzt')>,\n",
       " <Element 'div' class=('menu-heading__HeadingOuter-fepp0s-0', 'kjRvQR')>,\n",
       " <Element 'div' class=('menu-heading__SubmenuOuter-fepp0s-2', 'fIefzt')>,\n",
       " <Element 'div' class=('menu-heading__HeadingOuter-fepp0s-0', 'kjRvQR')>,\n",
       " <Element 'div' class=('menu-heading__SubmenuOuter-fepp0s-2', 'fIefzt')>,\n",
       " <Element 'div' class=('menu-heading__HeadingOuter-fepp0s-0', 'kjRvQR')>,\n",
       " <Element 'div' class=('menu-heading__SubmenuOuter-fepp0s-2', 'fwYlLi')>,\n",
       " <Element 'div' class=('unified-search__SearchInputAndButton-iq7jcx-3', 'ggFNb')>,\n",
       " <Element 'div' class=('unified-search__UniversalSearch-iq7jcx-2', 'dqBfAD')>,\n",
       " <Element 'div' >,\n",
       " <Element 'div' class=('select-filter-async__SelectWrapper-s6em86w-1', 'irqUcv')>,\n",
       " <Element 'div' >,\n",
       " <Element 'div' >,\n",
       " <Element 'div' class=('select-filter-async__InputWrapper-s6em86w-2', 'cjScFY') height='40px' width='100%'>,\n",
       " <Element 'div' class=('select-filter-async__SpinnerWrapper-s6em86w-0', 'bjCEsN')>,\n",
       " <Element 'div' class=('unified-search__ActionButtonWrapper-iq7jcx-6', 'igwKn')>,\n",
       " <Element 'div' class=('unified-search__SearchButton-iq7jcx-4', 'pLdPK')>,\n",
       " <Element 'div' class=('unified-search__ActionButtonWrapper-iq7jcx-6', 'igwKn')>,\n",
       " <Element 'div' class=('layout-row__RowWrapper-s1uoco8s-0', 'dcdOHa')>,\n",
       " <Element 'div' class=('layout-row__SectionContainer-s1uoco8s-2', 'iSGoko')>,\n",
       " <Element 'div' class=('layout-row__TitleWrapper-s1uoco8s-3', 'jFgNNO')>,\n",
       " <Element 'div' >,\n",
       " <Element 'div' class=('layout-row__RowInner-s1uoco8s-1', 'byoaAa')>,\n",
       " <Element 'div' class=('desktop-ticket-with-button__TicketWithButtons-s1620ulo-0', 'hOLni')>,\n",
       " <Element 'div' class=('ticket__TicketContainer-s1rrbl5o-0', 'bgrndo')>,\n",
       " <Element 'div' class=('ticket__Header-s1rrbl5o-1', 'ipofwS')>,\n",
       " <Element 'div' class=('ticket__FlightWithOperatedBy-s1rrbl5o-2', 'hnGDgb')>,\n",
       " <Element 'div' class=('ticket__NumberAndRoute-s1rrbl5o-3', 'lllMtP')>,\n",
       " <Element 'div' class=('ticket__FlightNumberContainer-s1rrbl5o-4', 'hgbvHg')>,\n",
       " <Element 'div' class=('text-helper__TextHelper-s8bko4a-0', 'ekVwAR')>,\n",
       " <Element 'div' class=('text-helper__TextHelper-s8bko4a-0', 'dNaxcH')>,\n",
       " <Element 'div' class=('ticket__RouteWithPlaneVisibilityWrapper-s1rrbl5o-18', 'jUFavd')>,\n",
       " <Element 'div' class=('route-with-plane__RouteGroup-s154xj1h-0', 'geSBNm')>,\n",
       " <Element 'div' class=('route-with-plane__Route-s154xj1h-1', 'epBIjQ')>,\n",
       " <Element 'div' >,\n",
       " <Element 'div' class=('route-with-plane__AirportCodeLabel-s154xj1h-2', 'gfzIST', 'text-helper__TextHelper-s8bko4a-0', 'fDkXNq')>,\n",
       " <Element 'div' class=('text-helper__TextHelper-s8bko4a-0', 'eFnGmW')>,\n",
       " <Element 'div' class=('route-with-plane__Route-s154xj1h-1', 'dvnPzZ')>,\n",
       " <Element 'div' style='display:inline-block;width:35px;height:32px'>,\n",
       " <Element 'div' class=('route-with-plane__Route-s154xj1h-1', 'epBIjQ')>,\n",
       " <Element 'div' >,\n",
       " <Element 'div' class=('route-with-plane__AirportCodeLabel-s154xj1h-2', 'gfzIST', 'text-helper__TextHelper-s8bko4a-0', 'fDkXNq')>,\n",
       " <Element 'div' class=('text-helper__TextHelper-s8bko4a-0', 'eFnGmW')>,\n",
       " <Element 'div' class=('ticket__StatusContainer-s1rrbl5o-17', 'fWLIvb') color='#ffffff'>,\n",
       " <Element 'div' class=('text-helper__TextHelper-s8bko4a-0', 'kWxgTv') color='#ffffff'>,\n",
       " <Element 'div' class=('text-helper__TextHelper-s8bko4a-0', 'yeKfN') color='#ffffff'>,\n",
       " <Element 'div' class=('ticket__TicketContent-s1rrbl5o-6', 'ccpWcM')>,\n",
       " <Element 'div' class=('ticket__TicketCard-s1rrbl5o-7', 'dJloSk')>,\n",
       " <Element 'div' class=('ticket__InfoSection-s1rrbl5o-8', 'isGpsI')>,\n",
       " <Element 'div' class=('ticket__AirportCodeLabel-s1rrbl5o-9', 'kvCFkA', 'text-helper__TextHelper-s8bko4a-0', 'iaZAuU')>,\n",
       " <Element 'div' class=('text-helper__TextHelper-s8bko4a-0', 'blQyiG')>,\n",
       " <Element 'div' class=('text-helper__TextHelper-s8bko4a-0', 'CPamx')>,\n",
       " <Element 'div' class=('ticket__InfoSection-s1rrbl5o-8', 'isGpsI')>,\n",
       " <Element 'div' class=('text-helper__TextHelper-s8bko4a-0', 'cOYJbf')>,\n",
       " <Element 'div' class=('text-helper__TextHelper-s8bko4a-0', 'xAWXb') color='#d6d6d6'>,\n",
       " <Element 'div' class=('ticket__TimeGroupContainer-s1rrbl5o-11', 'ckbilY')>,\n",
       " <Element 'div' class=('ticket__InfoSection-s1rrbl5o-8', 'igyRqP')>,\n",
       " <Element 'div' class=('text-helper__TextHelper-s8bko4a-0', 'bcmzUJ')>,\n",
       " <Element 'div' class=('text-helper__TextHelper-s8bko4a-0', 'cCfBRT')>,\n",
       " <Element 'div' class=('ticket__InfoSection-s1rrbl5o-8', 'igyRqP')>,\n",
       " <Element 'div' class=('text-helper__TextHelper-s8bko4a-0', 'bcmzUJ')>,\n",
       " <Element 'div' class=('text-helper__TextHelper-s8bko4a-0', 'cCfBRT')>,\n",
       " <Element 'div' class=('ticket__TerminalGateBagContainer-s1rrbl5o-13', 'ubbwc')>,\n",
       " <Element 'div' class=('ticket__TGBSection-s1rrbl5o-14', 'bcEbYB', 'ticket__InfoSection-s1rrbl5o-8', 'isGpsI')>,\n",
       " <Element 'div' class=('ticket__TGBLabel-s1rrbl5o-15', 'gcbyEH', 'text-helper__TextHelper-s8bko4a-0', 'dfeqpK')>,\n",
       " <Element 'div' class=('ticket__TGBValue-s1rrbl5o-16', 'icyRae', 'text-helper__TextHelper-s8bko4a-0', 'cCfBRT')>,\n",
       " <Element 'div' class=('ticket__TGBSection-s1rrbl5o-14', 'gOacyS', 'ticket__InfoSection-s1rrbl5o-8', 'isGpsI')>,\n",
       " <Element 'div' class=('ticket__TGBLabel-s1rrbl5o-15', 'gcbyEH', 'text-helper__TextHelper-s8bko4a-0', 'dfeqpK')>,\n",
       " <Element 'div' class=('ticket__TGBValue-s1rrbl5o-16', 'icyRae', 'text-helper__TextHelper-s8bko4a-0', 'cCfBRT')>,\n",
       " <Element 'div' class=('ticket__TicketCard-s1rrbl5o-7', 'dJloSk')>,\n",
       " <Element 'div' class=('ticket__InfoSection-s1rrbl5o-8', 'isGpsI')>,\n",
       " <Element 'div' class=('ticket__AirportCodeLabel-s1rrbl5o-9', 'kvCFkA', 'text-helper__TextHelper-s8bko4a-0', 'iaZAuU')>,\n",
       " <Element 'div' class=('text-helper__TextHelper-s8bko4a-0', 'blQyiG')>,\n",
       " <Element 'div' class=('text-helper__TextHelper-s8bko4a-0', 'CPamx')>,\n",
       " <Element 'div' class=('ticket__InfoSection-s1rrbl5o-8', 'isGpsI')>,\n",
       " <Element 'div' class=('text-helper__TextHelper-s8bko4a-0', 'cOYJbf')>,\n",
       " <Element 'div' class=('text-helper__TextHelper-s8bko4a-0', 'xAWXb') color='#d6d6d6'>,\n",
       " <Element 'div' class=('ticket__TimeGroupContainer-s1rrbl5o-11', 'ckbilY')>,\n",
       " <Element 'div' class=('ticket__InfoSection-s1rrbl5o-8', 'igyRqP')>,\n",
       " <Element 'div' class=('text-helper__TextHelper-s8bko4a-0', 'bcmzUJ')>,\n",
       " <Element 'div' class=('text-helper__TextHelper-s8bko4a-0', 'cCfBRT')>,\n",
       " <Element 'div' class=('ticket__InfoSection-s1rrbl5o-8', 'igyRqP')>,\n",
       " <Element 'div' class=('text-helper__TextHelper-s8bko4a-0', 'bcmzUJ')>,\n",
       " <Element 'div' class=('text-helper__TextHelper-s8bko4a-0', 'cCfBRT')>,\n",
       " <Element 'div' class=('ticket__TerminalGateBagContainer-s1rrbl5o-13', 'ubbwc')>,\n",
       " <Element 'div' class=('ticket__TGBSection-s1rrbl5o-14', 'bcEbYB', 'ticket__InfoSection-s1rrbl5o-8', 'isGpsI')>,\n",
       " <Element 'div' class=('ticket__TGBLabel-s1rrbl5o-15', 'gcbyEH', 'text-helper__TextHelper-s8bko4a-0', 'dfeqpK')>,\n",
       " <Element 'div' class=('ticket__TGBValue-s1rrbl5o-16', 'icyRae', 'text-helper__TextHelper-s8bko4a-0', 'cCfBRT')>,\n",
       " <Element 'div' class=('ticket__TGBSection-s1rrbl5o-14', 'bcEbYB', 'ticket__InfoSection-s1rrbl5o-8', 'isGpsI')>,\n",
       " <Element 'div' class=('ticket__TGBLabel-s1rrbl5o-15', 'gcbyEH', 'text-helper__TextHelper-s8bko4a-0', 'dfeqpK')>,\n",
       " <Element 'div' class=('ticket__TGBValue-s1rrbl5o-16', 'icyRae', 'text-helper__TextHelper-s8bko4a-0', 'cCfBRT')>,\n",
       " <Element 'div' class=('ticket__TGBSection-s1rrbl5o-14', 'gOacyS', 'ticket__InfoSection-s1rrbl5o-8', 'isGpsI')>,\n",
       " <Element 'div' class=('ticket__TGBLabel-s1rrbl5o-15', 'gcbyEH', 'text-helper__TextHelper-s8bko4a-0', 'dfeqpK')>,\n",
       " <Element 'div' class=('ticket__TGBValue-s1rrbl5o-16', 'icyRae', 'text-helper__TextHelper-s8bko4a-0', 'cCfBRT')>,\n",
       " <Element 'div' class=('desktop-action-button__ButtonWrapper-s1jep3p5-0', 'kBcTIl')>,\n",
       " <Element 'div' class=('ticket-ads__AdWrapper-s1r2hpb8-0', 'cTVqNb')>,\n",
       " <Element 'div' class=('layout-row__RowWrapper-s1uoco8s-0', 'dcdOHa')>,\n",
       " <Element 'div' class=('layout-row__SectionContainer-s1uoco8s-2', 'iSGoko')>,\n",
       " <Element 'div' class=('layout-row__TitleWrapper-s1uoco8s-3', 'jFgNNO')>,\n",
       " <Element 'div' >,\n",
       " <Element 'div' class=('layout-row__RowInner-s1uoco8s-1', 'byoaAa')>,\n",
       " <Element 'div' class=('tracker__Wrapper-s1ixqjdu-0', 'dOavAN')>,\n",
       " <Element 'div' class=('row__Row-s18xg2xa-0', 'hbKFUI')>,\n",
       " <Element 'div' class=('notice__NoticeWrapper-s1s5ew8y-0', 'kJjIdo')>,\n",
       " <Element 'div' class=('row__Row-s18xg2xa-0', 'hbKFUI')>,\n",
       " <Element 'div' class=('client-only-flight-map__MapWrapper-yxmqy7-0', 'iUmJlv')>,\n",
       " <Element 'div' style='width:100%;height:100%'>,\n",
       " <Element 'div' class=('tracker-ad__AdWrapper-s1g546b7-0', 'jPkVeb')>,\n",
       " <Element 'div' class=('tracker__MiniTrackerRow-s1ixqjdu-1', 'eoLzOB', 'row__Row-s18xg2xa-0', 'hbKFUI')>,\n",
       " <Element 'div' class=('flight-mini-tracker__MiniTrackerWrapper-s25va3-0', 'hPcTyb')>,\n",
       " <Element 'div' class=('row__Row-s18xg2xa-0', 'hbKFUI')>,\n",
       " <Element 'div' class=('flight-mini-tracker__GraphWrapper-s25va3-1', 'fkgZPZ')>,\n",
       " <Element 'div' class=('flight-mini-tracker__GraphAndPhase-s25va3-6', 'fblRex')>,\n",
       " <Element 'div' class=('flight-mini-tracker__GraphOuter-s25va3-7', 'cQaOrk') id='trackerGraph'>,\n",
       " <Element 'div' class=('alt-and-phase__Wrapper-jihjun-0', 'kmsVZS')>,\n",
       " <Element 'div' class=('alt-and-phase__Altitude-jihjun-1', 'bkmjVx')>,\n",
       " <Element 'div' class=('alt-and-phase__Phase-jihjun-2', 'jJjsmI')>,\n",
       " <Element 'div' class=('row__Row-s18xg2xa-0', 'hbKFUI')>,\n",
       " <Element 'div' class=('flight-time-and-distance__TextBoxWrapper-r1etkb-0', 'jRUOqj')>,\n",
       " <Element 'div' class=('text-box__TextBoxContainer-r0lz9f-0', 'iahmts')>,\n",
       " <Element 'div' class=('text-box__ItemWrapper-r0lz9f-1', 'fzOBRA')>,\n",
       " <Element 'div' class=('labeled-columns__ContentWrapper-j3eq63-3', 'cDamQW')>,\n",
       " <Element 'div' class=('labeled-columns__Item-j3eq63-2', 'evoxyJ')>,\n",
       " <Element 'div' class=('labeled-columns__Item-j3eq63-2', 'evoxyJ')>,\n",
       " <Element 'div' class=('labeled-columns__Item-j3eq63-2', 'evoxyJ')>,\n",
       " <Element 'div' class=('flight-time-and-distance__TextBoxWrapper-r1etkb-0', 'jRUOqj')>,\n",
       " <Element 'div' class=('text-box__TextBoxContainer-r0lz9f-0', 'iahmts')>,\n",
       " <Element 'div' class=('text-box__ItemWrapper-r0lz9f-1', 'fzOBRA')>,\n",
       " <Element 'div' class=('labeled-columns__ContentWrapper-j3eq63-3', 'cDamQW')>,\n",
       " <Element 'div' class=('labeled-columns__Item-j3eq63-2', 'evoxyJ')>,\n",
       " <Element 'div' class=('labeled-columns__Item-j3eq63-2', 'evoxyJ')>,\n",
       " <Element 'div' class=('labeled-columns__Item-j3eq63-2', 'evoxyJ')>,\n",
       " <Element 'div' class=('layout-row__RowWrapper-s1uoco8s-0', 'dcdOHa')>,\n",
       " <Element 'div' class=('layout-row__SectionContainer-s1uoco8s-2', 'iSGoko')>,\n",
       " <Element 'div' class=('layout-row__TitleWrapper-s1uoco8s-3', 'jFgNNO')>,\n",
       " <Element 'div' >,\n",
       " <Element 'div' class=('layout-row__RowInner-s1uoco8s-1', 'ceJxq')>,\n",
       " <Element 'div' class=('additional-details__FloatWrapper-hoxwfb-1', 'cpMYKi')>,\n",
       " <Element 'div' class=('additional-details__SubItemWrapper-hoxwfb-2', 'lhkoRP')>,\n",
       " <Element 'div' class=('text-box__TextBoxContainer-r0lz9f-0', 'fMywIH')>,\n",
       " <Element 'div' class=('text-box__ItemWrapper-r0lz9f-1', 'fzOBRA')>,\n",
       " <Element 'div' class=('labeled-columns__ContentWrapper-j3eq63-3', 'cDamQW')>,\n",
       " <Element 'div' class=('labeled-columns__Item-j3eq63-2', 'evoxyJ')>,\n",
       " <Element 'div' class=('labeled-columns__Item-j3eq63-2', 'evoxyJ')>,\n",
       " <Element 'div' class=('layout-row__RowWrapper-s1uoco8s-0', 'dcdOHa')>,\n",
       " <Element 'div' class=('layout-row__SectionContainer-s1uoco8s-2', 'iSGoko')>,\n",
       " <Element 'div' class=('layout-row__TitleWrapper-s1uoco8s-3', 'jFgNNO')>,\n",
       " <Element 'div' >,\n",
       " <Element 'div' class=('layout-row__RowInner-s1uoco8s-1', 'ceJxq')>,\n",
       " <Element 'div' class=('tabs-content__DescriptionDropdownWrapper-rymvp0-0', 'fRTrlz')>,\n",
       " <Element 'div' class=('past-upcoming-flights__TextHelper-s1haoxfm-2', 'kbFwjf')>,\n",
       " <Element 'div' class=('tabs-content__MobileSelector-rymvp0-1', 'fsJzIl')>,\n",
       " <Element 'div' class=('select-field__SelectContainer-s6imzgj-0', 'jPlelN')>,\n",
       " <Element 'div' class=('select-field__SelectElement-s6imzgj-1', 'fQmGYv') value=''>,\n",
       " <Element 'div' class=('select-field__Label-s6imzgj-5', 'jZTKLu')>,\n",
       " <Element 'div' style='display:inline-block;width:20px;height:20px'>,\n",
       " <Element 'div' class=('tabs-content__TabBar-rymvp0-3', 'ckGNPc')>,\n",
       " <Element 'div' class=('tabs-content__Tab-rymvp0-4', 'cTqTlq') selected=''>,\n",
       " <Element 'div' class=('tabs-content__Tab-rymvp0-4', 'hGlvDv')>,\n",
       " <Element 'div' class=('tabs-content__Tab-rymvp0-4', 'hGlvDv')>,\n",
       " <Element 'div' class=('tabs-content__Tab-rymvp0-4', 'hGlvDv')>,\n",
       " <Element 'div' class=('tabs-content__Tab-rymvp0-4', 'hGlvDv')>,\n",
       " <Element 'div' class=('tabs-content__Tab-rymvp0-4', 'hGlvDv')>,\n",
       " <Element 'div' class=('tabs-content__Tab-rymvp0-4', 'hGlvDv')>,\n",
       " <Element 'div' class=('tabs-content__OneFlightPanel-rymvp0-6', 'ehqaCS') selected=''>,\n",
       " <Element 'div' class=('tabs-content__DateWrapper-rymvp0-10', 'cDAHvJ', 'tabs-content__FadeInDiv-rymvp0-7', 'clShQb')>,\n",
       " <Element 'div' class=('past-upcoming-flights__TextHelper-s1haoxfm-2', 'htEwxh')>,\n",
       " <Element 'div' class=('tabs-content__BoldCenteredText-rymvp0-9', 'boqkYs', 'tabs-content__CenteredText-rymvp0-8', 'eOUQmz', 'tabs-content__FadeInDiv-rymvp0-7', 'clShQb')>,\n",
       " <Element 'div' class=('tabs-content__CenteredText-rymvp0-8', 'eOUQmz', 'tabs-content__FadeInDiv-rymvp0-7', 'clShQb')>,\n",
       " <Element 'div' class=('tabs-content__Panel-rymvp0-5', 'golHFI')>,\n",
       " <Element 'div' class=('tabs-content__FadeInDiv-rymvp0-7', 'clShQb')>,\n",
       " <Element 'div' class=('past-upcoming-flights__TextHelper-s1haoxfm-2', 'htEwxh')>,\n",
       " <Element 'div' class=('past-upcoming-flights__HeaderContainer-s1haoxfm-8', 'dHFBYw')>,\n",
       " <Element 'div' class=('past-upcoming-flights__HeaderText-s1haoxfm-9', 'iyoRaK', 'past-upcoming-flights__TextHelper-s1haoxfm-2', 'cEzxMC')>,\n",
       " <Element 'div' class=('past-upcoming-flights__HeaderText-s1haoxfm-9', 'iJCHoL', 'past-upcoming-flights__TextHelper-s1haoxfm-2', 'cEzxMC')>,\n",
       " <Element 'div' class=('past-upcoming-flights__HeaderText-s1haoxfm-9', 'iJCHoL', 'past-upcoming-flights__TextHelper-s1haoxfm-2', 'cEzxMC')>,\n",
       " <Element 'div' class=('past-upcoming-flights__HeaderText-s1haoxfm-9', 'iyoRaK', 'past-upcoming-flights__TextHelper-s1haoxfm-2', 'cEzxMC')>,\n",
       " <Element 'div' class=('past-upcoming-flights__TimeGroupContainer-s1haoxfm-5', 'dnaKQQ', 'past-upcoming-flights__StyledInfo-s1haoxfm-3', 'hclaTo')>,\n",
       " <Element 'div' class=('past-upcoming-flights__TextHelper-s1haoxfm-2', 'hxawCE')>,\n",
       " <Element 'div' class=('past-upcoming-flights__Airport-s1haoxfm-4', 'fjoBOD', 'past-upcoming-flights__StyledInfo-s1haoxfm-3', 'hclaTo')>,\n",
       " <Element 'div' class=('past-upcoming-flights__TextHelper-s1haoxfm-2', 'ceqiFt')>,\n",
       " <Element 'div' class=('past-upcoming-flights__TextHelper-s1haoxfm-2', 'ieHvs')>,\n",
       " <Element 'div' class=('past-upcoming-flights__PlaneWrapper-s1haoxfm-7', 'haAodY')>,\n",
       " <Element 'div' style='display:inline-block;width:35px;height:32px'>,\n",
       " <Element 'div' class=('past-upcoming-flights__Airport-s1haoxfm-4', 'fjoBOD', 'past-upcoming-flights__StyledInfo-s1haoxfm-3', 'hclaTo')>,\n",
       " <Element 'div' class=('past-upcoming-flights__TextHelper-s1haoxfm-2', 'ceqiFt')>,\n",
       " <Element 'div' class=('past-upcoming-flights__TextHelper-s1haoxfm-2', 'ieHvs')>,\n",
       " <Element 'div' class=('past-upcoming-flights__TimeGroupContainer-s1haoxfm-5', 'dnaKQQ', 'past-upcoming-flights__StyledInfo-s1haoxfm-3', 'hclaTo')>,\n",
       " <Element 'div' class=('past-upcoming-flights__TextHelper-s1haoxfm-2', 'hxawCE')>,\n",
       " <Element 'div' class=('tabs-content__Panel-rymvp0-5', 'golHFI')>,\n",
       " <Element 'div' class=('tabs-content__FadeInDiv-rymvp0-7', 'clShQb')>,\n",
       " <Element 'div' class=('past-upcoming-flights__TextHelper-s1haoxfm-2', 'htEwxh')>,\n",
       " <Element 'div' class=('past-upcoming-flights__HeaderContainer-s1haoxfm-8', 'dHFBYw')>,\n",
       " <Element 'div' class=('past-upcoming-flights__HeaderText-s1haoxfm-9', 'iyoRaK', 'past-upcoming-flights__TextHelper-s1haoxfm-2', 'cEzxMC')>,\n",
       " <Element 'div' class=('past-upcoming-flights__HeaderText-s1haoxfm-9', 'iJCHoL', 'past-upcoming-flights__TextHelper-s1haoxfm-2', 'cEzxMC')>,\n",
       " <Element 'div' class=('past-upcoming-flights__HeaderText-s1haoxfm-9', 'iJCHoL', 'past-upcoming-flights__TextHelper-s1haoxfm-2', 'cEzxMC')>,\n",
       " <Element 'div' class=('past-upcoming-flights__HeaderText-s1haoxfm-9', 'iyoRaK', 'past-upcoming-flights__TextHelper-s1haoxfm-2', 'cEzxMC')>,\n",
       " <Element 'div' class=('past-upcoming-flights__TimeGroupContainer-s1haoxfm-5', 'dnaKQQ', 'past-upcoming-flights__StyledInfo-s1haoxfm-3', 'hclaTo')>,\n",
       " <Element 'div' class=('past-upcoming-flights__TextHelper-s1haoxfm-2', 'hxawCE')>,\n",
       " <Element 'div' class=('past-upcoming-flights__Airport-s1haoxfm-4', 'fjoBOD', 'past-upcoming-flights__StyledInfo-s1haoxfm-3', 'hclaTo')>,\n",
       " <Element 'div' class=('past-upcoming-flights__TextHelper-s1haoxfm-2', 'ceqiFt')>,\n",
       " <Element 'div' class=('past-upcoming-flights__TextHelper-s1haoxfm-2', 'ieHvs')>,\n",
       " <Element 'div' class=('past-upcoming-flights__PlaneWrapper-s1haoxfm-7', 'haAodY')>,\n",
       " <Element 'div' style='display:inline-block;width:35px;height:32px'>,\n",
       " <Element 'div' class=('past-upcoming-flights__Airport-s1haoxfm-4', 'fjoBOD', 'past-upcoming-flights__StyledInfo-s1haoxfm-3', 'hclaTo')>,\n",
       " <Element 'div' class=('past-upcoming-flights__TextHelper-s1haoxfm-2', 'ceqiFt')>,\n",
       " <Element 'div' class=('past-upcoming-flights__TextHelper-s1haoxfm-2', 'ieHvs')>,\n",
       " <Element 'div' class=('past-upcoming-flights__TimeGroupContainer-s1haoxfm-5', 'dnaKQQ', 'past-upcoming-flights__StyledInfo-s1haoxfm-3', 'hclaTo')>,\n",
       " <Element 'div' class=('past-upcoming-flights__TextHelper-s1haoxfm-2', 'hxawCE')>,\n",
       " <Element 'div' class=('tabs-content__Panel-rymvp0-5', 'golHFI')>,\n",
       " <Element 'div' class=('tabs-content__FadeInDiv-rymvp0-7', 'clShQb')>,\n",
       " <Element 'div' class=('past-upcoming-flights__TextHelper-s1haoxfm-2', 'htEwxh')>,\n",
       " <Element 'div' class=('past-upcoming-flights__HeaderContainer-s1haoxfm-8', 'dHFBYw')>,\n",
       " <Element 'div' class=('past-upcoming-flights__HeaderText-s1haoxfm-9', 'iyoRaK', 'past-upcoming-flights__TextHelper-s1haoxfm-2', 'cEzxMC')>,\n",
       " <Element 'div' class=('past-upcoming-flights__HeaderText-s1haoxfm-9', 'iJCHoL', 'past-upcoming-flights__TextHelper-s1haoxfm-2', 'cEzxMC')>,\n",
       " <Element 'div' class=('past-upcoming-flights__HeaderText-s1haoxfm-9', 'iJCHoL', 'past-upcoming-flights__TextHelper-s1haoxfm-2', 'cEzxMC')>,\n",
       " <Element 'div' class=('past-upcoming-flights__HeaderText-s1haoxfm-9', 'iyoRaK', 'past-upcoming-flights__TextHelper-s1haoxfm-2', 'cEzxMC')>,\n",
       " <Element 'div' class=('past-upcoming-flights__TimeGroupContainer-s1haoxfm-5', 'dnaKQQ', 'past-upcoming-flights__StyledInfo-s1haoxfm-3', 'hclaTo')>,\n",
       " <Element 'div' class=('past-upcoming-flights__TextHelper-s1haoxfm-2', 'hxawCE')>,\n",
       " <Element 'div' class=('past-upcoming-flights__Airport-s1haoxfm-4', 'fjoBOD', 'past-upcoming-flights__StyledInfo-s1haoxfm-3', 'hclaTo')>,\n",
       " <Element 'div' class=('past-upcoming-flights__TextHelper-s1haoxfm-2', 'ceqiFt')>,\n",
       " <Element 'div' class=('past-upcoming-flights__TextHelper-s1haoxfm-2', 'ieHvs')>,\n",
       " <Element 'div' class=('past-upcoming-flights__PlaneWrapper-s1haoxfm-7', 'haAodY')>,\n",
       " <Element 'div' style='display:inline-block;width:35px;height:32px'>,\n",
       " <Element 'div' class=('past-upcoming-flights__Airport-s1haoxfm-4', 'fjoBOD', 'past-upcoming-flights__StyledInfo-s1haoxfm-3', 'hclaTo')>,\n",
       " <Element 'div' class=('past-upcoming-flights__TextHelper-s1haoxfm-2', 'ceqiFt')>,\n",
       " <Element 'div' class=('past-upcoming-flights__TextHelper-s1haoxfm-2', 'ieHvs')>,\n",
       " <Element 'div' class=('past-upcoming-flights__TimeGroupContainer-s1haoxfm-5', 'dnaKQQ', 'past-upcoming-flights__StyledInfo-s1haoxfm-3', 'hclaTo')>,\n",
       " <Element 'div' class=('past-upcoming-flights__TextHelper-s1haoxfm-2', 'hxawCE')>,\n",
       " <Element 'div' class=('tabs-content__Panel-rymvp0-5', 'golHFI')>,\n",
       " <Element 'div' class=('tabs-content__FadeInDiv-rymvp0-7', 'clShQb')>,\n",
       " <Element 'div' class=('past-upcoming-flights__TextHelper-s1haoxfm-2', 'htEwxh')>,\n",
       " <Element 'div' class=('past-upcoming-flights__HeaderContainer-s1haoxfm-8', 'dHFBYw')>,\n",
       " <Element 'div' class=('past-upcoming-flights__HeaderText-s1haoxfm-9', 'iyoRaK', 'past-upcoming-flights__TextHelper-s1haoxfm-2', 'cEzxMC')>,\n",
       " <Element 'div' class=('past-upcoming-flights__HeaderText-s1haoxfm-9', 'iJCHoL', 'past-upcoming-flights__TextHelper-s1haoxfm-2', 'cEzxMC')>,\n",
       " <Element 'div' class=('past-upcoming-flights__HeaderText-s1haoxfm-9', 'iJCHoL', 'past-upcoming-flights__TextHelper-s1haoxfm-2', 'cEzxMC')>,\n",
       " <Element 'div' class=('past-upcoming-flights__HeaderText-s1haoxfm-9', 'iyoRaK', 'past-upcoming-flights__TextHelper-s1haoxfm-2', 'cEzxMC')>,\n",
       " <Element 'div' class=('past-upcoming-flights__TimeGroupContainer-s1haoxfm-5', 'dnaKQQ', 'past-upcoming-flights__StyledInfo-s1haoxfm-3', 'hclaTo')>,\n",
       " <Element 'div' class=('past-upcoming-flights__TextHelper-s1haoxfm-2', 'hxawCE')>,\n",
       " <Element 'div' class=('past-upcoming-flights__Airport-s1haoxfm-4', 'fjoBOD', 'past-upcoming-flights__StyledInfo-s1haoxfm-3', 'hclaTo')>,\n",
       " <Element 'div' class=('past-upcoming-flights__TextHelper-s1haoxfm-2', 'ceqiFt')>,\n",
       " <Element 'div' class=('past-upcoming-flights__TextHelper-s1haoxfm-2', 'ieHvs')>,\n",
       " <Element 'div' class=('past-upcoming-flights__PlaneWrapper-s1haoxfm-7', 'haAodY')>,\n",
       " <Element 'div' style='display:inline-block;width:35px;height:32px'>,\n",
       " <Element 'div' class=('past-upcoming-flights__Airport-s1haoxfm-4', 'fjoBOD', 'past-upcoming-flights__StyledInfo-s1haoxfm-3', 'hclaTo')>,\n",
       " <Element 'div' class=('past-upcoming-flights__TextHelper-s1haoxfm-2', 'ceqiFt')>,\n",
       " <Element 'div' class=('past-upcoming-flights__TextHelper-s1haoxfm-2', 'ieHvs')>,\n",
       " <Element 'div' class=('past-upcoming-flights__TimeGroupContainer-s1haoxfm-5', 'dnaKQQ', 'past-upcoming-flights__StyledInfo-s1haoxfm-3', 'hclaTo')>,\n",
       " <Element 'div' class=('past-upcoming-flights__TextHelper-s1haoxfm-2', 'hxawCE')>,\n",
       " <Element 'div' class=('tabs-content__Panel-rymvp0-5', 'golHFI')>,\n",
       " <Element 'div' class=('tabs-content__FadeInDiv-rymvp0-7', 'clShQb')>,\n",
       " <Element 'div' class=('past-upcoming-flights__TextHelper-s1haoxfm-2', 'htEwxh')>,\n",
       " <Element 'div' class=('past-upcoming-flights__HeaderContainer-s1haoxfm-8', 'dHFBYw')>,\n",
       " <Element 'div' class=('past-upcoming-flights__HeaderText-s1haoxfm-9', 'iyoRaK', 'past-upcoming-flights__TextHelper-s1haoxfm-2', 'cEzxMC')>,\n",
       " <Element 'div' class=('past-upcoming-flights__HeaderText-s1haoxfm-9', 'iJCHoL', 'past-upcoming-flights__TextHelper-s1haoxfm-2', 'cEzxMC')>,\n",
       " <Element 'div' class=('past-upcoming-flights__HeaderText-s1haoxfm-9', 'iJCHoL', 'past-upcoming-flights__TextHelper-s1haoxfm-2', 'cEzxMC')>,\n",
       " <Element 'div' class=('past-upcoming-flights__HeaderText-s1haoxfm-9', 'iyoRaK', 'past-upcoming-flights__TextHelper-s1haoxfm-2', 'cEzxMC')>,\n",
       " <Element 'div' class=('past-upcoming-flights__TimeGroupContainer-s1haoxfm-5', 'dnaKQQ', 'past-upcoming-flights__StyledInfo-s1haoxfm-3', 'hclaTo')>,\n",
       " <Element 'div' class=('past-upcoming-flights__TextHelper-s1haoxfm-2', 'hxawCE')>,\n",
       " <Element 'div' class=('past-upcoming-flights__Airport-s1haoxfm-4', 'fjoBOD', 'past-upcoming-flights__StyledInfo-s1haoxfm-3', 'hclaTo')>,\n",
       " <Element 'div' class=('past-upcoming-flights__TextHelper-s1haoxfm-2', 'ceqiFt')>,\n",
       " <Element 'div' class=('past-upcoming-flights__TextHelper-s1haoxfm-2', 'ieHvs')>,\n",
       " <Element 'div' class=('past-upcoming-flights__PlaneWrapper-s1haoxfm-7', 'haAodY')>,\n",
       " <Element 'div' style='display:inline-block;width:35px;height:32px'>,\n",
       " <Element 'div' class=('past-upcoming-flights__Airport-s1haoxfm-4', 'fjoBOD', 'past-upcoming-flights__StyledInfo-s1haoxfm-3', 'hclaTo')>,\n",
       " <Element 'div' class=('past-upcoming-flights__TextHelper-s1haoxfm-2', 'ceqiFt')>,\n",
       " <Element 'div' class=('past-upcoming-flights__TextHelper-s1haoxfm-2', 'ieHvs')>,\n",
       " <Element 'div' class=('past-upcoming-flights__TimeGroupContainer-s1haoxfm-5', 'dnaKQQ', 'past-upcoming-flights__StyledInfo-s1haoxfm-3', 'hclaTo')>,\n",
       " <Element 'div' class=('past-upcoming-flights__TextHelper-s1haoxfm-2', 'hxawCE')>,\n",
       " <Element 'div' class=('tabs-content__Panel-rymvp0-5', 'golHFI')>,\n",
       " <Element 'div' class=('tabs-content__FadeInDiv-rymvp0-7', 'clShQb')>,\n",
       " <Element 'div' class=('past-upcoming-flights__TextHelper-s1haoxfm-2', 'htEwxh')>,\n",
       " <Element 'div' class=('past-upcoming-flights__NoFlightText-s1haoxfm-11', 'chdSQy', 'past-upcoming-flights__TextHelper-s1haoxfm-2', 'dxmetu')>,\n",
       " <Element 'div' class=('past-upcoming-flights__NoFlightText-s1haoxfm-11', 'chdSQy', 'past-upcoming-flights__TextHelper-s1haoxfm-2', 'FuHQL')>,\n",
       " <Element 'div' class=('layout-row__RowWrapper-s1uoco8s-0', 'dcdOHa')>,\n",
       " <Element 'div' class=('layout-row__SectionContainer-s1uoco8s-2', 'iSGoko')>,\n",
       " <Element 'div' class=('layout-row__TitleWrapper-s1uoco8s-3', 'jFgNNO')>,\n",
       " <Element 'div' >,\n",
       " <Element 'div' class=('layout-row__RowInner-s1uoco8s-1', 'byoaAa')>,\n",
       " <Element 'div' class=('mobile-apps-ad__MobileAdContainer-u4xl7b-1', 'eFskjy')>,\n",
       " <Element 'div' class=('mobile-apps-ad__LeftColumn-u4xl7b-2', 'KouPz')>,\n",
       " <Element 'div' class=('mobile-apps-ad__PhonesImage-u4xl7b-3', 'kOcurG')>,\n",
       " <Element 'div' class=('mobile-apps-ad__RightColumn-u4xl7b-4', 'RqKHL')>,\n",
       " <Element 'div' class=('mobile-apps-ad__TextBlock-u4xl7b-5', 'bXGCrF')>,\n",
       " <Element 'div' class=('mobile-apps-ad__Logos-u4xl7b-8', 'dgygvu')>,\n",
       " <Element 'div' style='display:inline-block;width:120px;height:40px'>,\n",
       " <Element 'div' style='display:inline-block;width:140px;height:40px'>,\n",
       " <Element 'div' class=('layout-footer__FooterTop-s1i4j3cg-1', 'kxgLkX')>,\n",
       " <Element 'div' class=('layout-footer__AdWrapper-s1i4j3cg-8', 'jgHdgc')>,\n",
       " <Element 'div' class=('layout-footer__FooterBottom-s1i4j3cg-2', 'ggUdJG')>,\n",
       " <Element 'div' class=('layout-footer__FooterLeft-s1i4j3cg-3', 'iZjHLs')>,\n",
       " <Element 'div' class=('layout-footer__FooterRight-s1i4j3cg-4', 'kwBFKp')>,\n",
       " <Element 'div' id='__next-error'>,\n",
       " <Element 'div' id='modal'>]"
      ]
     },
     "execution_count": 49,
     "metadata": {},
     "output_type": "execute_result"
    }
   ],
   "source": [
    "var1 = flight_info.html.find('div')\n",
    "var1"
   ]
  },
  {
   "cell_type": "code",
   "execution_count": 47,
   "metadata": {},
   "outputs": [
    {
     "data": {
      "text/plain": [
       "(562, tuple)"
      ]
     },
     "execution_count": 47,
     "metadata": {},
     "output_type": "execute_result"
    }
   ],
   "source": [
    "len(individual_flights), type(individual_flights)"
   ]
  },
  {
   "cell_type": "markdown",
   "metadata": {},
   "source": [
    "<div class=\"ticket__StatusContainer-s1rrbl5o-17 fWLIvb\" color=\"#ffffff\"><div class=\"text-helper__TextHelper-s8bko4a-0 kWxgTv\" color=\"#ffffff\">Arrived</div><div class=\"text-helper__TextHelper-s8bko4a-0 yeKfN\" color=\"#ffffff\">On time</div></div>"
   ]
  },
  {
   "cell_type": "code",
   "execution_count": 37,
   "metadata": {},
   "outputs": [],
   "source": [
    "text_1 = flight_info.html.text"
   ]
  },
  {
   "cell_type": "code",
   "execution_count": 58,
   "metadata": {},
   "outputs": [
    {
     "data": {
      "text/plain": [
       "requests_html.Element"
      ]
     },
     "execution_count": 58,
     "metadata": {},
     "output_type": "execute_result"
    }
   ],
   "source": [
    "type(var1[0])"
   ]
  },
  {
   "cell_type": "code",
   "execution_count": null,
   "metadata": {},
   "outputs": [],
   "source": [
    "<div class=\"layout-row__RowWrapper-s1uoco8s-0 dcdOHa\"><div class=\"layout-row__SectionContainer-s1uoco8s-2 iSGoko\"><div class=\"layout-row__TitleWrapper-s1uoco8s-3 jFgNNO\"><h2 class=\"layout-row__Title-s1uoco8s-4 bRoHMJ\">Flight Status</h2></div><div><div class=\"layout-row__RowInner-s1uoco8s-1 byoaAa\"><div class=\"desktop-ticket-with-button__TicketWithButtons-s1620ulo-0 hOLni\"><div class=\"ticket__TicketContainer-s1rrbl5o-0 bgrndo\"><div class=\"ticket__Header-s1rrbl5o-1 ipofwS\"><div class=\"ticket__FlightWithOperatedBy-s1rrbl5o-2 hnGDgb\"><div class=\"ticket__NumberAndRoute-s1rrbl5o-3 lllMtP\"><div class=\"ticket__FlightNumberContainer-s1rrbl5o-4 hgbvHg\"><div class=\"text-helper__TextHelper-s8bko4a-0 ekVwAR\">PS 945</div><div class=\"text-helper__TextHelper-s8bko4a-0 dNaxcH\">UIA</div></div><div class=\"ticket__RouteWithPlaneVisibilityWrapper-s1rrbl5o-18 jUFavd\"><div class=\"route-with-plane__RouteGroup-s154xj1h-0 geSBNm\"><div class=\"route-with-plane__Route-s154xj1h-1 epBIjQ\"><div><div class=\"route-with-plane__AirportCodeLabel-s154xj1h-2 gfzIST text-helper__TextHelper-s8bko4a-0 fDkXNq\"><a class=\"route-with-plane__AirportLink-s154xj1h-3 dBXRil\" href=\"https://www.flightstats.com/v2/airport-conditions/KBP\">KBP</a></div><div class=\"text-helper__TextHelper-s8bko4a-0 eFnGmW\">Kiev/Kyiv</div></div></div><div class=\"route-with-plane__Route-s154xj1h-1 dvnPzZ\"><svg width=\"35px\" height=\"32px\" viewBox=\"0 0 230 207.2\" xmlns=\"http://www.w3.org/2000/svg\"><path d=\"M69.9 202.8s-1.2.3-2.4.3-3.9-.4-3.2-.4c.6 0 1.4-1.2 1.4-1.2l-1-.1v-.9h1.7L78 172.8s1.5 0 1.5-.1c-1.5 0-2.4.1-2.5-.1.1-.3 12.6-30.6 12.9-31.3.1-.3 1.4-.1 1.4-.1l1.1-7.8h-1s2.1-16.4 1.9-16.9c-.3-.4-16.7.4-27.8-.4s-17.1-2.1-19.2-2.7c-2-.5-2.4-.1-3.3 1-.8 1-15.2 22-16.4 23.7s-1.8 1.8-2.5 1.8h-7.3l6.5-29.2s-2.7-.1-3.1-.6c-.4-.4-.2-1.3-.2-1.3s-5.6-.6-5.9-.9c-.4-.3-.5-.9-.5-.9s-5.7-1.3-5.9-1.9c.1-.6 5.9-1.9 5.9-1.9s.2-.6.5-.9c.4-.3 5.9-.9 5.9-.9s-.1-.9.2-1.3 3.1-.6 3.1-.6l-6.6-29.2H24c.7 0 1.3 0 2.5 1.8 1.3 1.8 15.6 22.7 16.4 23.7s1.3 1.5 3.3 1c2.1-.6 8.1-1.9 19.2-2.7s27.3-.1 27.6-.6c.3-.4-1.9-16.9-1.9-16.9h1L91 68.8s-1.3.1-1.4-.1c-.3-.7-12.8-31-12.9-31.3.1-.2 1.1-.1 2.5-.1 0-.1-1.5-.1-1.5-.1L66.2 9.4h-1.7v-.9l1-.1s-.7-1.2-1.4-1.2c-.6 0 2.1-.4 3.2-.4 1.3 0 2.4.3 2.4.3s-.3-1 .9-.8c.7.1 4.1 2.5 4.1 2.5s.5.2.9.1c.4 0 .7.5.9.8.1.2.9 0 .9 0s7.3 9.2 18.7 25.1c11.4 15.8 25.3 34.6 25.3 34.6s.8 0 1.9-.2 1.6-.3 1.6-.3.3-1 1-1.2c.5-.2 4.5-.7 8-.6s5.4.3 6 .6.8 1.1 1 2.3c.1 1.2.1 5.7-.1 6.8-.1 1-.3 1.7-1.6 1.9-1.4.2-6.1.2-8 .1-1.4-.1-2.9-.5-3-.3s3.3 4 4.7 6.1 4.2 5.7 5.1 6.1 1 .5.2.7c-.8.3-1.6.2-2.2-.1-.6-.4-1.3-.5-1.6-.2-.1.1.7 1.2 1.2 1.4.5.3 1.4 0 1.8.2s1.6.9 2.5.8c5.7-.2 14.4-.4 33.2-.4 20.1-.1 26.2.1 36.9 2.9 9.8 2.5 11.7 4.4 13.1 5.3 1.3.9 2.3 2.9 2.3 3.7 0 .8-1 2.8-2.3 3.7-1.4 1-3.3 2.8-13.1 5.3-10.8 2.7-16.8 2.9-36.9 2.9-18.8-.1-27.4-.3-33.2-.4-1 0-2.1.7-2.5.8-.4.2-1.3-.1-1.8.2s-1.3 1.3-1.2 1.4c.3.4 1 .2 1.6-.2s1.4-.4 2.2-.1.7.3-.2.7-3.8 4-5.1 6.1c-1.4 2.1-4.8 5.9-4.7 6.1s1.6-.2 3-.3c1.9-.1 6.6-.1 8 .1s1.5.8 1.6 1.9.2 5.7.1 6.8-.4 2-1 2.3-2.4.5-6 .6c-3.5.1-7.5-.4-8-.6-.7-.3-1-1.2-1-1.2s-.5-.1-1.6-.3-1.9-.2-1.9-.2-14 18.8-25.3 34.6c-11.4 15.9-18.7 25.1-18.7 25.1s-.7-.2-.9 0c-.2.3-.5.8-.9.8s-.9.1-.9.1-3.3 2.4-4.1 2.5c-1 .1-.7-.9-.7-.9zm8.5-190L77 10.9l-.2.1 1.3 1.8zm2.6 3.7L78.5 13l-.2.2 2.4 3.5zm2.6 3.7l-2.5-3.5-.2.1 2.4 3.5zm3.3 4.6l-3.2-4.4-.2.1 3.2 4.5zm3 4.3L87.1 25l-.2.1 2.9 4.1zm3.1 4.4l-2.9-4.1-.2.1 2.9 4.1zm3.2 4.4l-3-4.3-.2.2 3 4.3zm3.2 4.6l-3.1-4.3-.2.2 3 4.3zm3.2 4.5l-3-4.3-.2.1 3 4.3zm3.1 4.4l-3-4.3-.2.1 3 4.3zm3.1 4.3l-2.9-4.1-.2.1 2.9 4.1zm3 4.2l-2.9-4.1-.2.1 2.9 4.1zm3.6 5.1l-3.4-4.8-.2.1 3.4 4.8zm.9 1.3l-.8-1.1-.2.1.8 1.1zm3 4.1l-2.8-3.9-.2.1 2.8 4zm0 69.1l-.2-.1-2.8 4 .2.1zm-3 4.1l-.2-.1-.8 1.1.2.1zm-.9 1.4l-.2-.1-3.4 4.8.2.1zm-3.6 5l-.2-.1-2.9 4.1.2.1zm-3 4.3l-.2-.1-2.9 4.1.2.1zm-3.1 4.2l-.2-.1-3 4.3.2.1zm-3.1 4.5l-.2-.1-3 4.2.2.1zm-3.2 4.5l-.2-.1-3 4.3.2.2zm-3.2 4.5l-.2-.2-3 4.3.2.1zm-3.2 4.5l-.2-.1-2.9 4.1.2.1zm-3.1 4.3l-.2-.1-2.9 4.1.2.1zm-3 4.3l-.2-.1-3.2 4.5.2.1zm-3.3 4.7l-.2-.1-2.4 3.5.2.1zm-2.6 3.7l-.2-.1-2.4 3.5.2.2zm-2.6 3.6l-.2-.2-1.3 1.8.1.3z\" fill=\"#faa718\"></path></svg></div><div class=\"route-with-plane__Route-s154xj1h-1 epBIjQ\"><div><div class=\"route-with-plane__AirportCodeLabel-s154xj1h-2 gfzIST text-helper__TextHelper-s8bko4a-0 fDkXNq\"><a class=\"route-with-plane__AirportLink-s154xj1h-3 dBXRil\" href=\"https://www.flightstats.com/v2/airport-conditions/MAD\">MAD</a></div><div class=\"text-helper__TextHelper-s8bko4a-0 eFnGmW\">Madrid</div></div></div></div></div></div></div><div class=\"ticket__StatusContainer-s1rrbl5o-17 fWLIvb\" color=\"#ffffff\"><div class=\"text-helper__TextHelper-s8bko4a-0 kWxgTv\" color=\"#ffffff\">Arrived</div><div class=\"text-helper__TextHelper-s8bko4a-0 yeKfN\" color=\"#ffffff\">On time</div></div></div><div class=\"ticket__TicketContent-s1rrbl5o-6 ccpWcM\"><div class=\"ticket__TicketCard-s1rrbl5o-7 dJloSk\"><div class=\"ticket__InfoSection-s1rrbl5o-8 isGpsI\"><div class=\"ticket__AirportCodeLabel-s1rrbl5o-9 kvCFkA text-helper__TextHelper-s8bko4a-0 iaZAuU\"><a class=\"ticket__AirportLink-s1rrbl5o-10 cuIkvt\" href=\"https://www.flightstats.com/v2/airport-conditions/KBP\">KBP</a></div><div class=\"text-helper__TextHelper-s8bko4a-0 blQyiG\">Kiev/Kyiv, UA</div><div class=\"text-helper__TextHelper-s8bko4a-0 CPamx\">Boryspil International Airport</div></div><div class=\"ticket__InfoSection-s1rrbl5o-8 isGpsI\"><div class=\"text-helper__TextHelper-s8bko4a-0 cOYJbf\">Flight Departure Times</div><div class=\"text-helper__TextHelper-s8bko4a-0 xAWXb\" color=\"#d6d6d6\">11-May-2019</div></div><div class=\"ticket__TimeGroupContainer-s1rrbl5o-11 ckbilY\"><div class=\"ticket__InfoSection-s1rrbl5o-8 igyRqP\"><div class=\"text-helper__TextHelper-s8bko4a-0 bcmzUJ\">Scheduled</div><div class=\"text-helper__TextHelper-s8bko4a-0 cCfBRT\">20:40<span class=\"ticket__TimeSuffix-s1rrbl5o-12 koWibD\" color=\"#d6d6d6\"> EEST</span></div></div><div class=\"ticket__InfoSection-s1rrbl5o-8 igyRqP\"><div class=\"text-helper__TextHelper-s8bko4a-0 bcmzUJ\">Actual</div><div class=\"text-helper__TextHelper-s8bko4a-0 cCfBRT\">20:40<span class=\"ticket__TimeSuffix-s1rrbl5o-12 koWibD\" color=\"#d6d6d6\"> EEST</span></div></div></div><div class=\"ticket__TerminalGateBagContainer-s1rrbl5o-13 ubbwc\"><div class=\"ticket__TGBSection-s1rrbl5o-14 bcEbYB ticket__InfoSection-s1rrbl5o-8 isGpsI\"><div class=\"ticket__TGBLabel-s1rrbl5o-15 gcbyEH text-helper__TextHelper-s8bko4a-0 dfeqpK\">Terminal</div><div class=\"ticket__TGBValue-s1rrbl5o-16 icyRae text-helper__TextHelper-s8bko4a-0 cCfBRT\">D</div></div><div class=\"ticket__TGBSection-s1rrbl5o-14 gOacyS ticket__InfoSection-s1rrbl5o-8 isGpsI\"><div class=\"ticket__TGBLabel-s1rrbl5o-15 gcbyEH text-helper__TextHelper-s8bko4a-0 dfeqpK\">Gate</div><div class=\"ticket__TGBValue-s1rrbl5o-16 icyRae text-helper__TextHelper-s8bko4a-0 cCfBRT\">N/A</div></div></div></div><div class=\"ticket__TicketCard-s1rrbl5o-7 dJloSk\"><div class=\"ticket__InfoSection-s1rrbl5o-8 isGpsI\"><div class=\"ticket__AirportCodeLabel-s1rrbl5o-9 kvCFkA text-helper__TextHelper-s8bko4a-0 iaZAuU\"><a class=\"ticket__AirportLink-s1rrbl5o-10 cuIkvt\" href=\"https://www.flightstats.com/v2/airport-conditions/MAD\">MAD</a></div><div class=\"text-helper__TextHelper-s8bko4a-0 blQyiG\">Madrid, SP, ES</div><div class=\"text-helper__TextHelper-s8bko4a-0 CPamx\">Adolfo Suarez Madrid-Barajas Airport</div></div><div class=\"ticket__InfoSection-s1rrbl5o-8 isGpsI\"><div class=\"text-helper__TextHelper-s8bko4a-0 cOYJbf\">Flight Arrival Times</div><div class=\"text-helper__TextHelper-s8bko4a-0 xAWXb\" color=\"#d6d6d6\">12-May-2019</div></div><div class=\"ticket__TimeGroupContainer-s1rrbl5o-11 ckbilY\"><div class=\"ticket__InfoSection-s1rrbl5o-8 igyRqP\"><div class=\"text-helper__TextHelper-s8bko4a-0 bcmzUJ\">Scheduled</div><div class=\"text-helper__TextHelper-s8bko4a-0 cCfBRT\">00:10<span class=\"ticket__TimeSuffix-s1rrbl5o-12 koWibD\" color=\"#d6d6d6\"> CEST</span></div></div><div class=\"ticket__InfoSection-s1rrbl5o-8 igyRqP\"><div class=\"text-helper__TextHelper-s8bko4a-0 bcmzUJ\">Actual</div><div class=\"text-helper__TextHelper-s8bko4a-0 cCfBRT\">23:48<span class=\"ticket__TimeSuffix-s1rrbl5o-12 koWibD\" color=\"#d6d6d6\"> CEST</span></div></div></div><div class=\"ticket__TerminalGateBagContainer-s1rrbl5o-13 ubbwc\"><div class=\"ticket__TGBSection-s1rrbl5o-14 bcEbYB ticket__InfoSection-s1rrbl5o-8 isGpsI\"><div class=\"ticket__TGBLabel-s1rrbl5o-15 gcbyEH text-helper__TextHelper-s8bko4a-0 dfeqpK\">Terminal</div><div class=\"ticket__TGBValue-s1rrbl5o-16 icyRae text-helper__TextHelper-s8bko4a-0 cCfBRT\">4</div></div><div class=\"ticket__TGBSection-s1rrbl5o-14 bcEbYB ticket__InfoSection-s1rrbl5o-8 isGpsI\"><div class=\"ticket__TGBLabel-s1rrbl5o-15 gcbyEH text-helper__TextHelper-s8bko4a-0 dfeqpK\">Gate</div><div class=\"ticket__TGBValue-s1rrbl5o-16 icyRae text-helper__TextHelper-s8bko4a-0 cCfBRT\">N/A</div></div><div class=\"ticket__TGBSection-s1rrbl5o-14 gOacyS ticket__InfoSection-s1rrbl5o-8 isGpsI\"><div class=\"ticket__TGBLabel-s1rrbl5o-15 gcbyEH text-helper__TextHelper-s8bko4a-0 dfeqpK\">Baggage</div><div class=\"ticket__TGBValue-s1rrbl5o-16 icyRae text-helper__TextHelper-s8bko4a-0 cCfBRT\">01</div></div></div></div></div></div><div class=\"desktop-action-button__ButtonWrapper-s1jep3p5-0 kBcTIl\"><a class=\"button-link__ButtonLink-wcss74-0 cVLspB\" href=\"https://www.flightstats.com/v2/flight-details/PS/945?year=2019&amp;month=5&amp;date=11&amp;flightId=999454385\" id=\"extendedDetailsButton\">VIEW FLIGHT DETAILS</a><a class=\"button-link__ButtonLink-wcss74-0 cVLspB\" href=\"https://www.flightstats.com/v2/flight-ontime-performance-rating/PS/945/KBP\" id=\"onTimePerformanceButton\">ON-TIME PERFORMANCE</a><a class=\"button-link__ButtonLink-wcss74-0 cVLspB\" href=\"https://www.flightstats.com/v2/airport-delays/europe\">AIRPORT DELAYS</a><a class=\"button-link__ButtonLink-wcss74-0 cVLspB\" href=\"https://www.flightstats.com/v2/airport-conditions/KBP\">KBP AIRPORT CONDITIONS</a><a class=\"button-link__ButtonLink-wcss74-0 cVLspB\" href=\"https://www.flightstats.com/v2/airport-conditions/MAD\">MAD AIRPORT CONDITIONS</a><a class=\"button-link__ButtonLink-wcss74-0 cVLspB\" href=\"/v2/flight-tracker/PS/945?year=2019&amp;month=5&amp;date=11&amp;flightId=999454385\">REFRESH DATA</a></div></div><div class=\"ticket-ads__AdWrapper-s1r2hpb8-0 cTVqNb\"><div class=\"ad__Wrapper-s2h2yxm-0 eGOOct\" height=\"250\" width=\"300\"><div style=\"\" id=\"div-gpt-ad-1470845574196-0\" data-google-query-id=\"CJWfyvq1m-ICFZEu4AodGY4FNg\"><div id=\"google_ads_iframe_/1010197/BS_FlightTracker_top_300x250_0__container__\" style=\"border: 0pt none; display: inline-block; width: 300px; height: 250px;\"><iframe frameborder=\"0\" src=\"https://tpc.googlesyndication.com/safeframe/1-0-33/html/container.html\" id=\"google_ads_iframe_/1010197/BS_FlightTracker_top_300x250_0\" title=\"3rd party ad content\" name=\"\" scrolling=\"no\" marginwidth=\"0\" marginheight=\"0\" width=\"300\" height=\"250\" data-is-safeframe=\"true\" sandbox=\"allow-forms allow-pointer-lock allow-popups allow-popups-to-escape-sandbox allow-same-origin allow-scripts allow-top-navigation-by-user-activation\" data-google-container-id=\"2\" style=\"border: 0px; vertical-align: bottom;\" data-load-complete=\"true\"></iframe></div></div></div><div class=\"ad__Wrapper-s2h2yxm-0 eGOOct\" height=\"250\" width=\"300\"><div style=\"\" id=\"div-gpt-ad-1470845574196-1\" data-google-query-id=\"CNq0zvq1m-ICFQon4Aod4wYGog\"><div id=\"google_ads_iframe_/1010197/BS_FlightTracker_Second_300x250_0__container__\" style=\"border: 0pt none; display: inline-block; width: 300px; height: 250px;\"><iframe frameborder=\"0\" src=\"https://tpc.googlesyndication.com/safeframe/1-0-33/html/container.html\" id=\"google_ads_iframe_/1010197/BS_FlightTracker_Second_300x250_0\" title=\"3rd party ad content\" name=\"\" scrolling=\"no\" marginwidth=\"0\" marginheight=\"0\" width=\"300\" height=\"250\" data-is-safeframe=\"true\" sandbox=\"allow-forms allow-pointer-lock allow-popups allow-popups-to-escape-sandbox allow-same-origin allow-scripts allow-top-navigation-by-user-activation\" data-google-container-id=\"3\" style=\"border: 0px; vertical-align: bottom;\" data-load-complete=\"true\"></iframe></div></div></div></div></div></div></div></div>"
   ]
  },
  {
   "cell_type": "code",
   "execution_count": 44,
   "metadata": {},
   "outputs": [
    {
     "data": {
      "text/plain": [
       "107891"
      ]
     },
     "execution_count": 44,
     "metadata": {},
     "output_type": "execute_result"
    }
   ],
   "source": [
    "text_1.index('08:40')"
   ]
  },
  {
   "cell_type": "code",
   "execution_count": 48,
   "metadata": {},
   "outputs": [
    {
     "ename": "ValueError",
     "evalue": "substring not found",
     "output_type": "error",
     "traceback": [
      "\u001b[1;31m---------------------------------------------------------------------------\u001b[0m",
      "\u001b[1;31mValueError\u001b[0m                                Traceback (most recent call last)",
      "\u001b[1;32m<ipython-input-48-2b1e4b23d733>\u001b[0m in \u001b[0;36m<module>\u001b[1;34m\u001b[0m\n\u001b[1;32m----> 1\u001b[1;33m \u001b[0mtext_1\u001b[0m\u001b[1;33m.\u001b[0m\u001b[0mindex\u001b[0m\u001b[1;33m(\u001b[0m\u001b[1;34m'08:40'\u001b[0m\u001b[1;33m,\u001b[0m \u001b[1;36m107893\u001b[0m\u001b[1;33m)\u001b[0m\u001b[1;33m\u001b[0m\u001b[1;33m\u001b[0m\u001b[0m\n\u001b[0m",
      "\u001b[1;31mValueError\u001b[0m: substring not found"
     ]
    }
   ],
   "source": [
    "text_1.index('08:40', 107893)"
   ]
  },
  {
   "cell_type": "code",
   "execution_count": 47,
   "metadata": {},
   "outputs": [
    {
     "data": {
      "text/plain": [
       "'Ft\":34000,\"source\":\"derived\",\"date\":\"2019-05-11T18:08:40.000Z\",\"course\":-111,\"vrateMps\":0,\"lastObserved\":\"2019-05-11T18:12:52.000Z\"},{\"lon\":27.7965,\"l'"
      ]
     },
     "execution_count": 47,
     "metadata": {},
     "output_type": "execute_result"
    }
   ],
   "source": [
    "text_1[107840 : 107990]"
   ]
  },
  {
   "cell_type": "code",
   "execution_count": null,
   "metadata": {},
   "outputs": [],
   "source": [
    "<div class=\"text-helper__TextHelper-s8bko4a-0 cCfBRT\">20:40<span class=\"ticket__TimeSuffix-s1rrbl5o-12 koWibD\" color=\"#d6d6d6\"> EEST</span></div>"
   ]
  },
  {
   "cell_type": "code",
   "execution_count": null,
   "metadata": {},
   "outputs": [],
   "source": [
    "<section class=\"desktop__Content-s43d6t8-1 fsjJUA\"><section class=\"unified-search__SearchCardWrapper-iq7jcx-0 gstZUK\"><h2 class=\"unified-search__SearchTitle-iq7jcx-1 bACtxm\">Track a Flight</h2><div class=\"unified-search__SearchInputAndButton-iq7jcx-3 ggFNb\"><div class=\"unified-search__UniversalSearch-iq7jcx-2 dqBfAD\"><div><div class=\"select-filter-async__SelectWrapper-s6em86w-1 irqUcv\"><div><div><div class=\"select-filter-async__InputWrapper-s6em86w-2 cjScFY\" height=\"40px\" width=\"100%\"><input type=\"search\" class=\"select-filter-async__Input-s6em86w-3 cOvXuG\" height=\"40px\" placeholder=\"Try &quot;aa100&quot; or &quot;AA JFK LHR&quot; or &quot;London Chicago&quot;\" value=\"\"><div class=\"select-filter-async__SpinnerWrapper-s6em86w-0 bjCEsN\"><svg class=\"input-spinner__StyledSpinner-qqpqdz-0 efuJVZ\" viewBox=\"0 0 50 50\"><circle class=\"path\" cx=\"25\" cy=\"25\" r=\"20\" fill=\"none\" stroke-width=\"4\"></circle></svg></div><div class=\"remove-button__RemoveBtn-s18st6bj-0 fchGfG\"><svg width=\"18px\" height=\"18px\" xmlns=\"http://www.w3.org/2000/svg\" viewBox=\"0 0 40 40\"><title>close</title><path fill=\"#444\" d=\"M31.6 10.7L22.3 20l9.3 9.3-2.3 2.3-9.3-9.3-9.3 9.3-2.3-2.3 9.3-9.3-9.3-9.3 2.3-2.3 9.3 9.3 9.3-9.3z\"></path></svg></div></div></div></div></div></div></div><div class=\"unified-search__ActionButtonWrapper-iq7jcx-6 igwKn\"><a class=\"unified-search__Anchor-iq7jcx-5 cmnqBs\"><div class=\"unified-search__SearchButton-iq7jcx-4 pLdPK\">SEARCH</div></a></div><div class=\"unified-search__ActionButtonWrapper-iq7jcx-6 igwKn\"><a class=\"button-link__ButtonLink-wcss74-0 cVLspB\" href=\"/v2/flight-tracker/search\">ADVANCED SEARCH</a></div></div></section><h1 class=\"header__HeaderWrapper-a7usbh-0 iMQXFJ\">(PS) UIA 945 Flight Tracker</h1><div class=\"layout-row__RowWrapper-s1uoco8s-0 dcdOHa\"><div class=\"layout-row__SectionContainer-s1uoco8s-2 iSGoko\"><div class=\"layout-row__TitleWrapper-s1uoco8s-3 jFgNNO\"><h2 class=\"layout-row__Title-s1uoco8s-4 bRoHMJ\">Flight Status</h2></div><div><div class=\"layout-row__RowInner-s1uoco8s-1 byoaAa\"><div class=\"desktop-ticket-with-button__TicketWithButtons-s1620ulo-0 hOLni\"><div class=\"ticket__TicketContainer-s1rrbl5o-0 bgrndo\"><div class=\"ticket__Header-s1rrbl5o-1 ipofwS\"><div class=\"ticket__FlightWithOperatedBy-s1rrbl5o-2 hnGDgb\"><div class=\"ticket__NumberAndRoute-s1rrbl5o-3 lllMtP\"><div class=\"ticket__FlightNumberContainer-s1rrbl5o-4 hgbvHg\"><div class=\"text-helper__TextHelper-s8bko4a-0 ekVwAR\">PS 945</div><div class=\"text-helper__TextHelper-s8bko4a-0 dNaxcH\">UIA</div></div><div class=\"ticket__RouteWithPlaneVisibilityWrapper-s1rrbl5o-18 jUFavd\"><div class=\"route-with-plane__RouteGroup-s154xj1h-0 geSBNm\"><div class=\"route-with-plane__Route-s154xj1h-1 epBIjQ\"><div><div class=\"route-with-plane__AirportCodeLabel-s154xj1h-2 gfzIST text-helper__TextHelper-s8bko4a-0 fDkXNq\"><a class=\"route-with-plane__AirportLink-s154xj1h-3 dBXRil\" href=\"https://www.flightstats.com/v2/airport-conditions/KBP\">KBP</a></div><div class=\"text-helper__TextHelper-s8bko4a-0 eFnGmW\">Kiev/Kyiv</div></div></div><div class=\"route-with-plane__Route-s154xj1h-1 dvnPzZ\"><svg width=\"35px\" height=\"32px\" viewBox=\"0 0 230 207.2\" xmlns=\"http://www.w3.org/2000/svg\"><path d=\"M69.9 202.8s-1.2.3-2.4.3-3.9-.4-3.2-.4c.6 0 1.4-1.2 1.4-1.2l-1-.1v-.9h1.7L78 172.8s1.5 0 1.5-.1c-1.5 0-2.4.1-2.5-.1.1-.3 12.6-30.6 12.9-31.3.1-.3 1.4-.1 1.4-.1l1.1-7.8h-1s2.1-16.4 1.9-16.9c-.3-.4-16.7.4-27.8-.4s-17.1-2.1-19.2-2.7c-2-.5-2.4-.1-3.3 1-.8 1-15.2 22-16.4 23.7s-1.8 1.8-2.5 1.8h-7.3l6.5-29.2s-2.7-.1-3.1-.6c-.4-.4-.2-1.3-.2-1.3s-5.6-.6-5.9-.9c-.4-.3-.5-.9-.5-.9s-5.7-1.3-5.9-1.9c.1-.6 5.9-1.9 5.9-1.9s.2-.6.5-.9c.4-.3 5.9-.9 5.9-.9s-.1-.9.2-1.3 3.1-.6 3.1-.6l-6.6-29.2H24c.7 0 1.3 0 2.5 1.8 1.3 1.8 15.6 22.7 16.4 23.7s1.3 1.5 3.3 1c2.1-.6 8.1-1.9 19.2-2.7s27.3-.1 27.6-.6c.3-.4-1.9-16.9-1.9-16.9h1L91 68.8s-1.3.1-1.4-.1c-.3-.7-12.8-31-12.9-31.3.1-.2 1.1-.1 2.5-.1 0-.1-1.5-.1-1.5-.1L66.2 9.4h-1.7v-.9l1-.1s-.7-1.2-1.4-1.2c-.6 0 2.1-.4 3.2-.4 1.3 0 2.4.3 2.4.3s-.3-1 .9-.8c.7.1 4.1 2.5 4.1 2.5s.5.2.9.1c.4 0 .7.5.9.8.1.2.9 0 .9 0s7.3 9.2 18.7 25.1c11.4 15.8 25.3 34.6 25.3 34.6s.8 0 1.9-.2 1.6-.3 1.6-.3.3-1 1-1.2c.5-.2 4.5-.7 8-.6s5.4.3 6 .6.8 1.1 1 2.3c.1 1.2.1 5.7-.1 6.8-.1 1-.3 1.7-1.6 1.9-1.4.2-6.1.2-8 .1-1.4-.1-2.9-.5-3-.3s3.3 4 4.7 6.1 4.2 5.7 5.1 6.1 1 .5.2.7c-.8.3-1.6.2-2.2-.1-.6-.4-1.3-.5-1.6-.2-.1.1.7 1.2 1.2 1.4.5.3 1.4 0 1.8.2s1.6.9 2.5.8c5.7-.2 14.4-.4 33.2-.4 20.1-.1 26.2.1 36.9 2.9 9.8 2.5 11.7 4.4 13.1 5.3 1.3.9 2.3 2.9 2.3 3.7 0 .8-1 2.8-2.3 3.7-1.4 1-3.3 2.8-13.1 5.3-10.8 2.7-16.8 2.9-36.9 2.9-18.8-.1-27.4-.3-33.2-.4-1 0-2.1.7-2.5.8-.4.2-1.3-.1-1.8.2s-1.3 1.3-1.2 1.4c.3.4 1 .2 1.6-.2s1.4-.4 2.2-.1.7.3-.2.7-3.8 4-5.1 6.1c-1.4 2.1-4.8 5.9-4.7 6.1s1.6-.2 3-.3c1.9-.1 6.6-.1 8 .1s1.5.8 1.6 1.9.2 5.7.1 6.8-.4 2-1 2.3-2.4.5-6 .6c-3.5.1-7.5-.4-8-.6-.7-.3-1-1.2-1-1.2s-.5-.1-1.6-.3-1.9-.2-1.9-.2-14 18.8-25.3 34.6c-11.4 15.9-18.7 25.1-18.7 25.1s-.7-.2-.9 0c-.2.3-.5.8-.9.8s-.9.1-.9.1-3.3 2.4-4.1 2.5c-1 .1-.7-.9-.7-.9zm8.5-190L77 10.9l-.2.1 1.3 1.8zm2.6 3.7L78.5 13l-.2.2 2.4 3.5zm2.6 3.7l-2.5-3.5-.2.1 2.4 3.5zm3.3 4.6l-3.2-4.4-.2.1 3.2 4.5zm3 4.3L87.1 25l-.2.1 2.9 4.1zm3.1 4.4l-2.9-4.1-.2.1 2.9 4.1zm3.2 4.4l-3-4.3-.2.2 3 4.3zm3.2 4.6l-3.1-4.3-.2.2 3 4.3zm3.2 4.5l-3-4.3-.2.1 3 4.3zm3.1 4.4l-3-4.3-.2.1 3 4.3zm3.1 4.3l-2.9-4.1-.2.1 2.9 4.1zm3 4.2l-2.9-4.1-.2.1 2.9 4.1zm3.6 5.1l-3.4-4.8-.2.1 3.4 4.8zm.9 1.3l-.8-1.1-.2.1.8 1.1zm3 4.1l-2.8-3.9-.2.1 2.8 4zm0 69.1l-.2-.1-2.8 4 .2.1zm-3 4.1l-.2-.1-.8 1.1.2.1zm-.9 1.4l-.2-.1-3.4 4.8.2.1zm-3.6 5l-.2-.1-2.9 4.1.2.1zm-3 4.3l-.2-.1-2.9 4.1.2.1zm-3.1 4.2l-.2-.1-3 4.3.2.1zm-3.1 4.5l-.2-.1-3 4.2.2.1zm-3.2 4.5l-.2-.1-3 4.3.2.2zm-3.2 4.5l-.2-.2-3 4.3.2.1zm-3.2 4.5l-.2-.1-2.9 4.1.2.1zm-3.1 4.3l-.2-.1-2.9 4.1.2.1zm-3 4.3l-.2-.1-3.2 4.5.2.1zm-3.3 4.7l-.2-.1-2.4 3.5.2.1zm-2.6 3.7l-.2-.1-2.4 3.5.2.2zm-2.6 3.6l-.2-.2-1.3 1.8.1.3z\" fill=\"#faa718\"></path></svg></div><div class=\"route-with-plane__Route-s154xj1h-1 epBIjQ\"><div><div class=\"route-with-plane__AirportCodeLabel-s154xj1h-2 gfzIST text-helper__TextHelper-s8bko4a-0 fDkXNq\"><a class=\"route-with-plane__AirportLink-s154xj1h-3 dBXRil\" href=\"https://www.flightstats.com/v2/airport-conditions/MAD\">MAD</a></div><div class=\"text-helper__TextHelper-s8bko4a-0 eFnGmW\">Madrid</div></div></div></div></div></div></div><div class=\"ticket__StatusContainer-s1rrbl5o-17 fWLIvb\" color=\"#ffffff\"><div class=\"text-helper__TextHelper-s8bko4a-0 kWxgTv\" color=\"#ffffff\">Arrived</div><div class=\"text-helper__TextHelper-s8bko4a-0 yeKfN\" color=\"#ffffff\">On time</div></div></div><div class=\"ticket__TicketContent-s1rrbl5o-6 ccpWcM\"><div class=\"ticket__TicketCard-s1rrbl5o-7 dJloSk\"><div class=\"ticket__InfoSection-s1rrbl5o-8 isGpsI\"><div class=\"ticket__AirportCodeLabel-s1rrbl5o-9 kvCFkA text-helper__TextHelper-s8bko4a-0 iaZAuU\"><a class=\"ticket__AirportLink-s1rrbl5o-10 cuIkvt\" href=\"https://www.flightstats.com/v2/airport-conditions/KBP\">KBP</a></div><div class=\"text-helper__TextHelper-s8bko4a-0 blQyiG\">Kiev/Kyiv, UA</div><div class=\"text-helper__TextHelper-s8bko4a-0 CPamx\">Boryspil International Airport</div></div><div class=\"ticket__InfoSection-s1rrbl5o-8 isGpsI\"><div class=\"text-helper__TextHelper-s8bko4a-0 cOYJbf\">Flight Departure Times</div><div class=\"text-helper__TextHelper-s8bko4a-0 xAWXb\" color=\"#d6d6d6\">11-May-2019</div></div><div class=\"ticket__TimeGroupContainer-s1rrbl5o-11 ckbilY\"><div class=\"ticket__InfoSection-s1rrbl5o-8 igyRqP\"><div class=\"text-helper__TextHelper-s8bko4a-0 bcmzUJ\">Scheduled</div><div class=\"text-helper__TextHelper-s8bko4a-0 cCfBRT\">20:40<span class=\"ticket__TimeSuffix-s1rrbl5o-12 koWibD\" color=\"#d6d6d6\"> EEST</span></div></div><div class=\"ticket__InfoSection-s1rrbl5o-8 igyRqP\"><div class=\"text-helper__TextHelper-s8bko4a-0 bcmzUJ\">Actual</div><div class=\"text-helper__TextHelper-s8bko4a-0 cCfBRT\">20:40<span class=\"ticket__TimeSuffix-s1rrbl5o-12 koWibD\" color=\"#d6d6d6\"> EEST</span></div></div></div><div class=\"ticket__TerminalGateBagContainer-s1rrbl5o-13 ubbwc\"><div class=\"ticket__TGBSection-s1rrbl5o-14 bcEbYB ticket__InfoSection-s1rrbl5o-8 isGpsI\"><div class=\"ticket__TGBLabel-s1rrbl5o-15 gcbyEH text-helper__TextHelper-s8bko4a-0 dfeqpK\">Terminal</div><div class=\"ticket__TGBValue-s1rrbl5o-16 icyRae text-helper__TextHelper-s8bko4a-0 cCfBRT\">D</div></div><div class=\"ticket__TGBSection-s1rrbl5o-14 gOacyS ticket__InfoSection-s1rrbl5o-8 isGpsI\"><div class=\"ticket__TGBLabel-s1rrbl5o-15 gcbyEH text-helper__TextHelper-s8bko4a-0 dfeqpK\">Gate</div><div class=\"ticket__TGBValue-s1rrbl5o-16 icyRae text-helper__TextHelper-s8bko4a-0 cCfBRT\">N/A</div></div></div></div><div class=\"ticket__TicketCard-s1rrbl5o-7 dJloSk\"><div class=\"ticket__InfoSection-s1rrbl5o-8 isGpsI\"><div class=\"ticket__AirportCodeLabel-s1rrbl5o-9 kvCFkA text-helper__TextHelper-s8bko4a-0 iaZAuU\"><a class=\"ticket__AirportLink-s1rrbl5o-10 cuIkvt\" href=\"https://www.flightstats.com/v2/airport-conditions/MAD\">MAD</a></div><div class=\"text-helper__TextHelper-s8bko4a-0 blQyiG\">Madrid, SP, ES</div><div class=\"text-helper__TextHelper-s8bko4a-0 CPamx\">Adolfo Suarez Madrid-Barajas Airport</div></div><div class=\"ticket__InfoSection-s1rrbl5o-8 isGpsI\"><div class=\"text-helper__TextHelper-s8bko4a-0 cOYJbf\">Flight Arrival Times</div><div class=\"text-helper__TextHelper-s8bko4a-0 xAWXb\" color=\"#d6d6d6\">12-May-2019</div></div><div class=\"ticket__TimeGroupContainer-s1rrbl5o-11 ckbilY\"><div class=\"ticket__InfoSection-s1rrbl5o-8 igyRqP\"><div class=\"text-helper__TextHelper-s8bko4a-0 bcmzUJ\">Scheduled</div><div class=\"text-helper__TextHelper-s8bko4a-0 cCfBRT\">00:10<span class=\"ticket__TimeSuffix-s1rrbl5o-12 koWibD\" color=\"#d6d6d6\"> CEST</span></div></div><div class=\"ticket__InfoSection-s1rrbl5o-8 igyRqP\"><div class=\"text-helper__TextHelper-s8bko4a-0 bcmzUJ\">Actual</div><div class=\"text-helper__TextHelper-s8bko4a-0 cCfBRT\">23:48<span class=\"ticket__TimeSuffix-s1rrbl5o-12 koWibD\" color=\"#d6d6d6\"> CEST</span></div></div></div><div class=\"ticket__TerminalGateBagContainer-s1rrbl5o-13 ubbwc\"><div class=\"ticket__TGBSection-s1rrbl5o-14 bcEbYB ticket__InfoSection-s1rrbl5o-8 isGpsI\"><div class=\"ticket__TGBLabel-s1rrbl5o-15 gcbyEH text-helper__TextHelper-s8bko4a-0 dfeqpK\">Terminal</div><div class=\"ticket__TGBValue-s1rrbl5o-16 icyRae text-helper__TextHelper-s8bko4a-0 cCfBRT\">4</div></div><div class=\"ticket__TGBSection-s1rrbl5o-14 bcEbYB ticket__InfoSection-s1rrbl5o-8 isGpsI\"><div class=\"ticket__TGBLabel-s1rrbl5o-15 gcbyEH text-helper__TextHelper-s8bko4a-0 dfeqpK\">Gate</div><div class=\"ticket__TGBValue-s1rrbl5o-16 icyRae text-helper__TextHelper-s8bko4a-0 cCfBRT\">N/A</div></div><div class=\"ticket__TGBSection-s1rrbl5o-14 gOacyS ticket__InfoSection-s1rrbl5o-8 isGpsI\"><div class=\"ticket__TGBLabel-s1rrbl5o-15 gcbyEH text-helper__TextHelper-s8bko4a-0 dfeqpK\">Baggage</div><div class=\"ticket__TGBValue-s1rrbl5o-16 icyRae text-helper__TextHelper-s8bko4a-0 cCfBRT\">01</div></div></div></div></div></div><div class=\"desktop-action-button__ButtonWrapper-s1jep3p5-0 kBcTIl\"><a class=\"button-link__ButtonLink-wcss74-0 cVLspB\" href=\"https://www.flightstats.com/v2/flight-details/PS/945?year=2019&amp;month=5&amp;date=11&amp;flightId=999454385\" id=\"extendedDetailsButton\">VIEW FLIGHT DETAILS</a><a class=\"button-link__ButtonLink-wcss74-0 cVLspB\" href=\"https://www.flightstats.com/v2/flight-ontime-performance-rating/PS/945/KBP\" id=\"onTimePerformanceButton\">ON-TIME PERFORMANCE</a><a class=\"button-link__ButtonLink-wcss74-0 cVLspB\" href=\"https://www.flightstats.com/v2/airport-delays/europe\">AIRPORT DELAYS</a><a class=\"button-link__ButtonLink-wcss74-0 cVLspB\" href=\"https://www.flightstats.com/v2/airport-conditions/KBP\">KBP AIRPORT CONDITIONS</a><a class=\"button-link__ButtonLink-wcss74-0 cVLspB\" href=\"https://www.flightstats.com/v2/airport-conditions/MAD\">MAD AIRPORT CONDITIONS</a><a class=\"button-link__ButtonLink-wcss74-0 cVLspB\" href=\"/v2/flight-tracker/PS/945?year=2019&amp;month=5&amp;date=11&amp;flightId=999454385\">REFRESH DATA</a></div></div><div class=\"ticket-ads__AdWrapper-s1r2hpb8-0 cTVqNb\"><div class=\"ad__Wrapper-s2h2yxm-0 eGOOct\" height=\"250\" width=\"300\"><div style=\"\" id=\"div-gpt-ad-1470845574196-0\" data-google-query-id=\"CJWfyvq1m-ICFZEu4AodGY4FNg\"><div id=\"google_ads_iframe_/1010197/BS_FlightTracker_top_300x250_0__container__\" style=\"border: 0pt none; display: inline-block; width: 300px; height: 250px;\"><iframe frameborder=\"0\" src=\"https://tpc.googlesyndication.com/safeframe/1-0-33/html/container.html\" id=\"google_ads_iframe_/1010197/BS_FlightTracker_top_300x250_0\" title=\"3rd party ad content\" name=\"\" scrolling=\"no\" marginwidth=\"0\" marginheight=\"0\" width=\"300\" height=\"250\" data-is-safeframe=\"true\" sandbox=\"allow-forms allow-pointer-lock allow-popups allow-popups-to-escape-sandbox allow-same-origin allow-scripts allow-top-navigation-by-user-activation\" data-google-container-id=\"2\" style=\"border: 0px; vertical-align: bottom;\" data-load-complete=\"true\"></iframe></div></div></div><div class=\"ad__Wrapper-s2h2yxm-0 eGOOct\" height=\"250\" width=\"300\"><div style=\"\" id=\"div-gpt-ad-1470845574196-1\" data-google-query-id=\"CNq0zvq1m-ICFQon4Aod4wYGog\"><div id=\"google_ads_iframe_/1010197/BS_FlightTracker_Second_300x250_0__container__\" style=\"border: 0pt none; display: inline-block; width: 300px; height: 250px;\"><iframe frameborder=\"0\" src=\"https://tpc.googlesyndication.com/safeframe/1-0-33/html/container.html\" id=\"google_ads_iframe_/1010197/BS_FlightTracker_Second_300x250_0\" title=\"3rd party ad content\" name=\"\" scrolling=\"no\" marginwidth=\"0\" marginheight=\"0\" width=\"300\" height=\"250\" data-is-safeframe=\"true\" sandbox=\"allow-forms allow-pointer-lock allow-popups allow-popups-to-escape-sandbox allow-same-origin allow-scripts allow-top-navigation-by-user-activation\" data-google-container-id=\"3\" style=\"border: 0px; vertical-align: bottom;\" data-load-complete=\"true\"></iframe></div></div></div></div></div></div></div></div><div class=\"layout-row__RowWrapper-s1uoco8s-0 dcdOHa\"><div class=\"layout-row__SectionContainer-s1uoco8s-2 iSGoko\"><div class=\"layout-row__TitleWrapper-s1uoco8s-3 jFgNNO\"><h2 class=\"layout-row__Title-s1uoco8s-4 bRoHMJ\">Flight Tracker</h2></div><div><div class=\"layout-row__RowInner-s1uoco8s-1 byoaAa\"><div class=\"tracker__Wrapper-s1ixqjdu-0 dOavAN\"><div class=\"row__Row-s18xg2xa-0 hbKFUI\"><div class=\"notice__NoticeWrapper-s1s5ew8y-0 kJjIdo\"><h3 class=\"notice__Heading-s1s5ew8y-1 fVrVhY\">Positional Tracking Has Ended</h3><p class=\"notice__Body-s1s5ew8y-2 fKKnnY\">The flight has landed</p></div></div><div class=\"row__Row-s18xg2xa-0 hbKFUI\"><div class=\"client-only-flight-map__MapWrapper-yxmqy7-0 iUmJlv\"><div class=\"flight-map__Wrapper-s172mvfy-0 gBufLu\"><div class=\"leaflet-container leaflet-touch leaflet-fade-anim leaflet-grab leaflet-touch-drag leaflet-touch-zoom\" style=\"z-index: 1; height: 100%; width: 100%; position: relative;\" tabindex=\"0\"><div class=\"leaflet-pane leaflet-map-pane\" style=\"transform: translate3d(0px, 0px, 0px);\"><div class=\"leaflet-pane leaflet-tile-pane\"><div class=\"leaflet-layer \" style=\"z-index: 2; opacity: 1;\"><div class=\"leaflet-tile-container leaflet-zoom-animated\" style=\"z-index: 6; transform: translate3d(0px, 0px, 0px) scale(1);\"><img alt=\"\" role=\"presentation\" src=\"//tiles2.flightstats.com/satellite/v2/4/8/5.png\" class=\"leaflet-tile leaflet-tile-loaded\" style=\"width: 256px; height: 256px; transform: translate3d(270px, 118px, 0px); opacity: 1;\"><img alt=\"\" role=\"presentation\" src=\"//tiles1.flightstats.com/satellite/v2/4/8/4.png\" class=\"leaflet-tile leaflet-tile-loaded\" style=\"width: 256px; height: 256px; transform: translate3d(270px, -138px, 0px); opacity: 1;\"><img alt=\"\" role=\"presentation\" src=\"//tiles1.flightstats.com/satellite/v2/4/7/5.png\" class=\"leaflet-tile leaflet-tile-loaded\" style=\"width: 256px; height: 256px; transform: translate3d(14px, 118px, 0px); opacity: 1;\"><img alt=\"\" role=\"presentation\" src=\"//tiles3.flightstats.com/satellite/v2/4/9/5.png\" class=\"leaflet-tile leaflet-tile-loaded\" style=\"width: 256px; height: 256px; transform: translate3d(526px, 118px, 0px); opacity: 1;\"><img alt=\"\" role=\"presentation\" src=\"//tiles3.flightstats.com/satellite/v2/4/8/6.png\" class=\"leaflet-tile leaflet-tile-loaded\" style=\"width: 256px; height: 256px; transform: translate3d(270px, 374px, 0px); opacity: 1;\"><img alt=\"\" role=\"presentation\" src=\"//tiles4.flightstats.com/satellite/v2/4/7/4.png\" class=\"leaflet-tile leaflet-tile-loaded\" style=\"width: 256px; height: 256px; transform: translate3d(14px, -138px, 0px); opacity: 1;\"><img alt=\"\" role=\"presentation\" src=\"//tiles2.flightstats.com/satellite/v2/4/9/4.png\" class=\"leaflet-tile leaflet-tile-loaded\" style=\"width: 256px; height: 256px; transform: translate3d(526px, -138px, 0px); opacity: 1;\"><img alt=\"\" role=\"presentation\" src=\"//tiles2.flightstats.com/satellite/v2/4/7/6.png\" class=\"leaflet-tile leaflet-tile-loaded\" style=\"width: 256px; height: 256px; transform: translate3d(14px, 374px, 0px); opacity: 1;\"><img alt=\"\" role=\"presentation\" src=\"//tiles4.flightstats.com/satellite/v2/4/9/6.png\" class=\"leaflet-tile leaflet-tile-loaded\" style=\"width: 256px; height: 256px; transform: translate3d(526px, 374px, 0px); opacity: 1;\"><img alt=\"\" role=\"presentation\" src=\"//tiles4.flightstats.com/satellite/v2/4/6/5.png\" class=\"leaflet-tile leaflet-tile-loaded\" style=\"width: 256px; height: 256px; transform: translate3d(-242px, 118px, 0px); opacity: 1;\"><img alt=\"\" role=\"presentation\" src=\"//tiles4.flightstats.com/satellite/v2/4/10/5.png\" class=\"leaflet-tile leaflet-tile-loaded\" style=\"width: 256px; height: 256px; transform: translate3d(782px, 118px, 0px); opacity: 1;\"><img alt=\"\" role=\"presentation\" src=\"//tiles3.flightstats.com/satellite/v2/4/6/4.png\" class=\"leaflet-tile leaflet-tile-loaded\" style=\"width: 256px; height: 256px; transform: translate3d(-242px, -138px, 0px); opacity: 1;\"><img alt=\"\" role=\"presentation\" src=\"//tiles3.flightstats.com/satellite/v2/4/10/4.png\" class=\"leaflet-tile leaflet-tile-loaded\" style=\"width: 256px; height: 256px; transform: translate3d(782px, -138px, 0px); opacity: 1;\"><img alt=\"\" role=\"presentation\" src=\"//tiles1.flightstats.com/satellite/v2/4/6/6.png\" class=\"leaflet-tile leaflet-tile-loaded\" style=\"width: 256px; height: 256px; transform: translate3d(-242px, 374px, 0px); opacity: 1;\"><img alt=\"\" role=\"presentation\" src=\"//tiles1.flightstats.com/satellite/v2/4/10/6.png\" class=\"leaflet-tile leaflet-tile-loaded\" style=\"width: 256px; height: 256px; transform: translate3d(782px, 374px, 0px); opacity: 1;\"></div></div><div class=\"leaflet-layer \" style=\"z-index: 1;\"></div><div class=\"leaflet-layer \" style=\"z-index: 7; opacity: 1;\"><div class=\"leaflet-tile-container leaflet-zoom-animated\" style=\"z-index: 6; transform: translate3d(0px, 0px, 0px) scale(1);\"><img alt=\"\" role=\"presentation\" src=\"//tiles2.flightstats.com/hybrid/v2/4/8/5.png\" class=\"leaflet-tile leaflet-tile-loaded\" style=\"width: 256px; height: 256px; transform: translate3d(270px, 118px, 0px); opacity: 1;\"><img alt=\"\" role=\"presentation\" src=\"//tiles1.flightstats.com/hybrid/v2/4/8/4.png\" class=\"leaflet-tile leaflet-tile-loaded\" style=\"width: 256px; height: 256px; transform: translate3d(270px, -138px, 0px); opacity: 1;\"><img alt=\"\" role=\"presentation\" src=\"//tiles1.flightstats.com/hybrid/v2/4/7/5.png\" class=\"leaflet-tile leaflet-tile-loaded\" style=\"width: 256px; height: 256px; transform: translate3d(14px, 118px, 0px); opacity: 1;\"><img alt=\"\" role=\"presentation\" src=\"//tiles3.flightstats.com/hybrid/v2/4/9/5.png\" class=\"leaflet-tile leaflet-tile-loaded\" style=\"width: 256px; height: 256px; transform: translate3d(526px, 118px, 0px); opacity: 1;\"><img alt=\"\" role=\"presentation\" src=\"//tiles3.flightstats.com/hybrid/v2/4/8/6.png\" class=\"leaflet-tile leaflet-tile-loaded\" style=\"width: 256px; height: 256px; transform: translate3d(270px, 374px, 0px); opacity: 1;\"><img alt=\"\" role=\"presentation\" src=\"//tiles4.flightstats.com/hybrid/v2/4/7/4.png\" class=\"leaflet-tile leaflet-tile-loaded\" style=\"width: 256px; height: 256px; transform: translate3d(14px, -138px, 0px); opacity: 1;\"><img alt=\"\" role=\"presentation\" src=\"//tiles2.flightstats.com/hybrid/v2/4/9/4.png\" class=\"leaflet-tile leaflet-tile-loaded\" style=\"width: 256px; height: 256px; transform: translate3d(526px, -138px, 0px); opacity: 1;\"><img alt=\"\" role=\"presentation\" src=\"//tiles2.flightstats.com/hybrid/v2/4/7/6.png\" class=\"leaflet-tile leaflet-tile-loaded\" style=\"width: 256px; height: 256px; transform: translate3d(14px, 374px, 0px); opacity: 1;\"><img alt=\"\" role=\"presentation\" src=\"//tiles4.flightstats.com/hybrid/v2/4/9/6.png\" class=\"leaflet-tile leaflet-tile-loaded\" style=\"width: 256px; height: 256px; transform: translate3d(526px, 374px, 0px); opacity: 1;\"><img alt=\"\" role=\"presentation\" src=\"//tiles4.flightstats.com/hybrid/v2/4/6/5.png\" class=\"leaflet-tile leaflet-tile-loaded\" style=\"width: 256px; height: 256px; transform: translate3d(-242px, 118px, 0px); opacity: 1;\"><img alt=\"\" role=\"presentation\" src=\"//tiles4.flightstats.com/hybrid/v2/4/10/5.png\" class=\"leaflet-tile leaflet-tile-loaded\" style=\"width: 256px; height: 256px; transform: translate3d(782px, 118px, 0px); opacity: 1;\"><img alt=\"\" role=\"presentation\" src=\"//tiles3.flightstats.com/hybrid/v2/4/6/4.png\" class=\"leaflet-tile leaflet-tile-loaded\" style=\"width: 256px; height: 256px; transform: translate3d(-242px, -138px, 0px); opacity: 1;\"><img alt=\"\" role=\"presentation\" src=\"//tiles3.flightstats.com/hybrid/v2/4/10/4.png\" class=\"leaflet-tile leaflet-tile-loaded\" style=\"width: 256px; height: 256px; transform: translate3d(782px, -138px, 0px); opacity: 1;\"><img alt=\"\" role=\"presentation\" src=\"//tiles1.flightstats.com/hybrid/v2/4/6/6.png\" class=\"leaflet-tile leaflet-tile-loaded\" style=\"width: 256px; height: 256px; transform: translate3d(-242px, 374px, 0px); opacity: 1;\"><img alt=\"\" role=\"presentation\" src=\"//tiles1.flightstats.com/hybrid/v2/4/10/6.png\" class=\"leaflet-tile leaflet-tile-loaded\" style=\"width: 256px; height: 256px; transform: translate3d(782px, 374px, 0px); opacity: 1;\"></div></div><div class=\"leaflet-layer \" style=\"z-index: 1000; opacity: 0.6;\"><div class=\"leaflet-tile-container leaflet-zoom-animated\" style=\"z-index: 8; transform: translate3d(0px, 0px, 0px) scale(1);\"></div></div></div><div class=\"leaflet-pane leaflet-shadow-pane\"></div><div class=\"leaflet-pane leaflet-overlay-pane\"><svg pointer-events=\"none\" class=\"leaflet-zoom-animated\" width=\"1021\" height=\"720\" viewBox=\"-85 -60 1021 720\" style=\"transform: translate3d(-85px, -60px, 0px);\"><g><path class=\"leaflet-interactive\" stroke=\"#828483\" stroke-opacity=\"0.4\" stroke-width=\"7\" stroke-linecap=\"round\" stroke-linejoin=\"round\" fill=\"none\" d=\"M622 221L583 228L520 243L425 276L358 306L327 322L286 345L229 381\"></path><path class=\"leaflet-interactive\" stroke=\"#D1D1D2\" stroke-opacity=\"0.6\" stroke-width=\"4\" stroke-linecap=\"round\" stroke-linejoin=\"round\" fill=\"none\" d=\"M622 221L583 228L520 243L425 276L358 306L327 322L286 345L229 381\"></path><path class=\"leaflet-interactive\" stroke=\"#828483\" stroke-opacity=\"0.5\" stroke-width=\"6\" stroke-linecap=\"round\" stroke-linejoin=\"round\" fill=\"none\" d=\"M230 382L230 382M230 382L232 384L238 384L266 373L284 371L295 368L354 325L445 290L480 273L526 255L588 227L600 223L618 223L622 221L621 223L624 221L618 224\"></path><path class=\"leaflet-interactive\" stroke=\"#55f241\" stroke-opacity=\"0.8\" stroke-width=\"4\" stroke-linecap=\"round\" stroke-linejoin=\"round\" fill=\"none\" d=\"M230 382L230 382M230 382L232 384L238 384L266 373L284 371L295 368L354 325L445 290L480 273L526 255L588 227L600 223L618 223L622 221L621 223L624 221L618 224\"></path></g></svg></div><div class=\"leaflet-pane leaflet-marker-pane\"><div class=\"leaflet-marker-icon flight-tracker-map-airport-icon leaflet-zoom-animated leaflet-interactive\" tabindex=\"0\" style=\"margin-left: -19px; margin-top: -48px; width: 38px; height: 48px; transform: translate3d(622px, 221px, 0px); z-index: 221;\"><object data=\"//assets.flightstats.com/v2/sprites/spritesheet-520196e2.svg#map-airport-departure\" width=\"38\" height=\"48\" alt=\"map-airport-departure\" style=\"pointer-events: none;\"></object></div><div class=\"leaflet-marker-icon flight-tracker-map-airport-icon leaflet-zoom-animated leaflet-interactive\" tabindex=\"0\" style=\"margin-left: -19px; margin-top: -48px; width: 38px; height: 48px; transform: translate3d(229px, 381px, 0px); z-index: 381;\"><object data=\"//assets.flightstats.com/v2/sprites/spritesheet-520196e2.svg#map-airport-arrival\" width=\"38\" height=\"48\" alt=\"map-airport-arrival\" style=\"pointer-events: none;\"></object></div><div class=\"leaflet-marker-icon leaflet-zoom-animated leaflet-interactive\" tabindex=\"0\" style=\"margin-left: -24px; margin-top: -24px; width: 48px; height: 48px; transform: translate3d(229px, 381px, 0px); z-index: 1381;\"><object data=\"//assets.flightstats.com/v2/sprites/spritesheet-520196e2.svg#map-plane\" width=\"48\" height=\"48\" alt=\"map-plane\" style=\"pointer-events: none; transform: rotate(-87.2028deg);\"></object></div></div><div class=\"leaflet-pane leaflet-tooltip-pane\"></div><div class=\"leaflet-pane leaflet-popup-pane\"></div><div class=\"leaflet-proxy leaflet-zoom-animated\" style=\"transform: translate3d(2203.5px, 1462px, 0px) scale(8);\"></div></div><div class=\"leaflet-control-container\"><div class=\"leaflet-top leaflet-left\"></div><div class=\"leaflet-top leaflet-right\"></div><div class=\"leaflet-bottom leaflet-left\"></div><div class=\"leaflet-bottom leaflet-right\"><div class=\"leaflet-control-attribution leaflet-control\"><a href=\"http://leafletjs.com\" title=\"A JS library for interactive maps\">Leaflet</a> | <a id=\"attr-link\" classname=\"\" alt=\"link to attributions list\" href=\"/map-attributions\">Map licensing</a></div></div></div><div></div><div></div><div class=\"flight-map__MapLayerControls-s172mvfy-1 dCjOje\"><div class=\"map-control-button__Wrapper-fpups6-0 hIbFiM\" width=\"60px\" height=\"75px\"><div class=\"map-control-button__Label-fpups6-1 likpgc\">Labels</div><div class=\"map-control-button__Opacinator-fpups6-2 eliAYB\"><svg width=\"60px\" height=\"75px\" data-name=\"Layer 1\" xmlns=\"http://www.w3.org/2000/svg\" viewBox=\"0 0 60 75\"><path fill=\"#454545\" d=\"M0 0h60v75H0z\"></path><path d=\"M58 73.5H2v-72h56zm-54.78-1h53.56v-70H3.22z\" fill=\"#faa718\"></path><path d=\"M34.22 19.44a49.52 49.52 0 0 0-11.86-1.87C16.25 17.45 14 19 14 19v38.4h2V39.66s11.47-.3 16.9 1.26 13.1-.07 13.1-.07V19c-5.18 1.7-11.78.44-11.78.44z\" opacity=\".2\" fill=\"#faa718\"></path></svg></div></div><div class=\"map-control-button__Wrapper-fpups6-0 hIbFiM\" width=\"60px\" height=\"75px\"><div class=\"map-control-button__Label-fpups6-1 likpgc\">US Weather</div><div class=\"map-control-button__Opacinator-fpups6-2 eliAYB\"><svg width=\"60px\" height=\"75px\" xmlns=\"http://www.w3.org/2000/svg\"><g fill=\"none\"><path fill=\"#454545\" d=\"M0 0h60v75H0z\"></path><path d=\"M58 73.5H2v-72h56v72zm-54.78-1h53.56v-70H3.22v70z\" fill=\"#FAA718\"></path><path d=\"M26.34 22.88a1.22 1.22 0 0 0 1.22-1.22v-2.44a1.22 1.22 0 1 0-2.44 0v2.44c0 .674.546 1.22 1.22 1.22zm9.48 3.21l1.72-1.72a1.23 1.23 0 0 0 0-1.72 1.21 1.21 0 0 0-1.72 0l-1.72 1.72a1.22 1.22 0 0 0 1.72 1.72zm-24.1 9h2.44a1.22 1.22 0 1 0 0-2.44h-2.44a1.22 1.22 0 1 0 0 2.44zm25.59-1.22c0 .674.546 1.22 1.22 1.22H41a1.22 1.22 0 1 0 0-2.44h-2.47a1.22 1.22 0 0 0-1.22 1.19v.03zm-20.45-7.78a1.23 1.23 0 0 0 1.72 0 1.21 1.21 0 0 0 0-1.72l-1.72-1.73a1.22 1.22 0 0 0-1.72 1.72l1.72 1.73zM41 37.5a9.55 9.55 0 0 0-1.2.08 12.12 12.12 0 0 0-4.92-3.92 8.52 8.52 0 0 0-17 .18 8.29 8.29 0 0 0 .88 3.69 8.52 8.52 0 0 0 .34 17 8.65 8.65 0 0 0 3-.55 12 12 0 0 0 15.88 0 8.65 8.65 0 0 0 3 .55A8.53 8.53 0 0 0 41 37.5zm-11-4.88a12.07 12.07 0 0 0-9 4.06 6.07 6.07 0 1 1 11.36-3.81 12.06 12.06 0 0 0-2.36-.25z\" fill=\"#FAA718\" opacity=\".2\"></path></g></svg></div></div></div><div class=\"flight-map__MapZoomControls-s172mvfy-2 kmvWil flight-map__MapLayerControls-s172mvfy-1 dCjOje\"><div class=\"map-control-button__Wrapper-fpups6-0 klOhyf\" width=\"50px\" height=\"30px\"><div class=\"map-control-button__Label-fpups6-1 likpgc\"></div><div class=\"map-control-button__Opacinator-fpups6-2 eliAYB\"><svg width=\"50px\" height=\"30px\" xmlns=\"http://www.w3.org/2000/svg\"><g fill=\"none\"><path fill=\"#454545\" d=\"M0 0h50v30H0z\"></path><path d=\"M48 28.5H2v-27h46v27zm-45-1h44v-25H3v25z\" fill=\"#FAA718\"></path><path d=\"M14.7 9.9H35V20H14.7V9.9zM10 5h1.6v6.5H10V5z\" fill=\"#FFF\"></path><path fill=\"#FFF\" d=\"M10 5h6.5v1.6H10z\"></path><path fill=\"#FFF\" d=\"M10.434 6.33l1.131-1.13 5.586 5.585-1.131 1.132zM33.5 4.9H40v1.6h-6.5z\"></path><path fill=\"#FFF\" d=\"M38.5 4.9h1.6v6.5h-1.6z\"></path><path fill=\"#FFF\" d=\"M33.11 10.941l5.586-5.586 1.132 1.131-5.586 5.586zM38.5 18.5h1.6V25h-1.6z\"></path><path fill=\"#FFF\" d=\"M33.5 23.3H40v1.6h-6.5z\"></path><path fill=\"#FFF\" d=\"M32.95 19.112l1.132-1.131 5.586 5.586-1.13 1.131zM10 23.5h6.5v1.6H10z\"></path><path fill=\"#FFF\" d=\"M10 18.5h1.6V25H10z\"></path><path fill=\"#FFF\" d=\"M10.312 23.523l5.586-5.586 1.131 1.131-5.586 5.586z\"></path></g></svg></div></div><div class=\"zoom-control__Wrapper-leegfm-0 gteAc\"><div class=\"map-control-button__Wrapper-fpups6-0 klOhyf\" width=\"50px\" height=\"30px\"><div class=\"map-control-button__Label-fpups6-1 likpgc\"></div><div class=\"map-control-button__Opacinator-fpups6-2 eliAYB\"><svg width=\"50px\" height=\"30px\" xmlns=\"http://www.w3.org/2000/svg\" viewBox=\"0 0 50 30\"><path class=\"st0\" fill=\"#454545\" d=\"M0 0h50v30H0z\"></path><path class=\"st1\" d=\"M48 28.5H2v-27h46v27zm-45-1h44v-25H3v25z\" fill=\"#FAA718\"></path><path class=\"st2\" fill=\"#FFF\" d=\"M17.2 13.4h15.5v3.1H17.2z\"></path><path class=\"st2\" fill=\"#FFF\" d=\"M23.5 7.2h3.1v15.5h-3.1z\"></path></svg></div></div><div class=\"map-control-button__Wrapper-fpups6-0 klOhyf\" width=\"50px\" height=\"30px\"><div class=\"map-control-button__Label-fpups6-1 likpgc\"></div><div class=\"map-control-button__Opacinator-fpups6-2 eliAYB\"><svg width=\"50px\" height=\"30px\" xmlns=\"http://www.w3.org/2000/svg\"><g fill=\"none\"><path fill=\"#454545\" d=\"M0 0h50v30H0z\"></path><path d=\"M48 28.5H2v-27h46v27zm-45-1h44v-25H3v25z\" fill=\"#FAA718\"></path><path fill=\"#FFF\" d=\"M17.2 13.4h15.5v3.1H17.2z\"></path></g></svg></div></div><div class=\"map-control-button__Wrapper-fpups6-0 klOhyf\" width=\"50px\" height=\"30px\"><div class=\"map-control-button__Label-fpups6-1 likpgc\"></div><div class=\"map-control-button__Opacinator-fpups6-2 eliAYB\"><svg width=\"50px\" height=\"30px\" xmlns=\"http://www.w3.org/2000/svg\" viewBox=\"0 0 50 30\"><path class=\"st0\" fill=\"#454545\" d=\"M0 0h50v30H0z\"></path><path class=\"st1\" d=\"M48 28.5H2v-27h46v27zm-45-1h44v-25H3v25z\" fill=\"#FAA718\"></path><circle class=\"st2\" cx=\"25\" cy=\"15.2\" r=\"4.2\" fill=\"#FFF\"></circle><path class=\"st2\" d=\"M36 14.5h-2.5c-.3-4.2-3.8-7.6-8-7.8V4h-.9v2.7c-4.3.2-7.7 3.6-8 7.8H14v.9h2.5c.1 4.4 3.6 8 8 8.2V26h.9v-2.3c4.4-.2 7.9-3.8 8-8.2H36v-1zm-10.5 8.2V21h-.9v1.7c-3.8-.2-6.9-3.4-7-7.2H19v-.9h-1.5c.3-3.7 3.3-6.6 7-6.8V9h.9V7.7c3.7.2 6.7 3.1 7 6.8H31v.9h1.5c-.1 3.9-3.2 7-7 7.3z\" fill=\"#FFF\"></path></svg></div></div></div></div></div></div></div><div class=\"tracker-ad__AdWrapper-s1g546b7-0 jPkVeb\"><div class=\"ad__Wrapper-s2h2yxm-0 ccIrsF\" height=\"600\" width=\"300\"><div style=\"\" id=\"div-gpt-ad-1522279396356-0\" data-google-query-id=\"CJLW2fq1m-ICFcoK4AodcoALCg\"><div id=\"google_ads_iframe_/1010197/BS_FlightTracker_top_300x600_0__container__\" style=\"border: 0pt none; display: inline-block; width: 300px; height: 600px;\"><iframe frameborder=\"0\" src=\"https://tpc.googlesyndication.com/safeframe/1-0-33/html/container.html\" id=\"google_ads_iframe_/1010197/BS_FlightTracker_top_300x600_0\" title=\"3rd party ad content\" name=\"\" scrolling=\"no\" marginwidth=\"0\" marginheight=\"0\" width=\"300\" height=\"600\" data-is-safeframe=\"true\" sandbox=\"allow-forms allow-pointer-lock allow-popups allow-popups-to-escape-sandbox allow-same-origin allow-scripts allow-top-navigation-by-user-activation\" data-google-container-id=\"4\" style=\"border: 0px; vertical-align: bottom;\" data-load-complete=\"true\"></iframe></div></div></div></div></div><div class=\"tracker__MiniTrackerRow-s1ixqjdu-1 eoLzOB row__Row-s18xg2xa-0 hbKFUI\"><div class=\"flight-mini-tracker__MiniTrackerWrapper-s25va3-0 hPcTyb\"><div class=\"row__Row-s18xg2xa-0 hbKFUI\"><div class=\"flight-mini-tracker__GraphWrapper-s25va3-1 fkgZPZ\"><div class=\"flight-mini-tracker__GraphAndPhase-s25va3-6 fblRex\"><div class=\"flight-mini-tracker__GraphOuter-s25va3-7 cQaOrk\" id=\"trackerGraph\"><svg class=\"flight-mini-tracker__SVGWrapper-s25va3-4 ThPwX\"><path id=\"vert-backfill\" stroke=\"rgba(250, 168, 23, 0.2)\" d=\"M582.5,0 L582.5,100\" stroke-width=\"1165\"></path><path id=\"alt-current\" stroke-width=\"2\" stroke=\"rgba(255, 255, 255, 0.6)\" d=\"M1166,0 L1166,100\"></path><path fill=\"none\" id=\"plane-path\" stroke-width=\"2\" stroke=\"#FF9600\" d=\"M1166,95.7328222818449L1165.2837201535608,95.425766992189C1164.5674403071216,95.1187117025331,1163.1348806142432,94.50460112322128,1161.9529784833273,94.33246086033553C1160.7710763524117,94.16032059744977,1159.8398317834585,94.43015065099006,1158.4414526672115,94.29947327298994C1157.0430735509644,94.16879589498984,1155.1775598874235,93.63761108544934,1153.3120462238824,93.1779347295522C1151.4465325603414,92.71825837365508,1149.5810188968005,92.33009047140132,1147.7155052332594,91.8821318873197C1145.8499915697184,91.43417330323808,1143.9844779061775,90.9264240373286,1142.1189642426364,90.33634991302297C1140.2534505790954,89.74627578871734,1138.3879369155545,89.07387680601556,1136.5224232520134,88.37774182399518C1134.6569095884727,87.68160684197481,1132.7913959249315,86.96173586063583,1130.9258822613908,86.21542477879007C1129.0603685978497,85.46911369694429,1127.1948549343085,84.69636251459173,1125.3293412707676,83.97408788775213C1123.4638276072267,83.25181326091253,1121.5983139436858,82.58001518958592,1119.7328002801448,81.91662987751145C1117.867286616604,81.25324456543699,1116.001772953063,80.59827201261469,1114.136259289522,79.91986391616136C1112.2707456259811,79.24145581970804,1110.40523196244,78.53961217962369,1108.5397182988988,77.81974119828472C1106.674204635358,77.09987021694573,1104.808690971817,76.36197189435212,1102.943177308276,75.60995215444238C1101.0776636447351,74.85793241453264,1099.212149981194,74.09179125730678,1097.346636317653,73.35239065627529C1095.4811226541121,72.6129900552438,1093.6156089905712,71.90033001040666,1091.7500953270303,71.18977315538258C1089.8845816634891,70.4792163003585,1088.019067999948,69.77076263514746,1086.153554336407,69.0559994004973C1084.2880406728661,68.34123616584714,1082.4225270093252,67.62016336175785,1080.5570133457843,66.89488417804249C1078.6914996822431,66.16960499432712,1076.825986018702,65.44011943098566,1074.960472355161,64.7148402472703C1073.0949586916201,63.98956106355494,1071.2294450280792,63.26848825946565,1069.3639313645383,62.59338517557567C1067.4984177009974,61.918282091685704,1065.6329040374565,61.289148727995034,1063.778783899459,60.65580898467828C1061.9246637614617,60.022469241361534,1060.0819371490086,59.384923118418705,1058.2278170110112,58.75518884335289C1056.3736968730138,58.12545456828707,1054.508183209473,57.503532141098255,1052.642669545932,56.888820650411304C1050.7771558823908,56.27410915972434,1048.91164221885,55.66660860553923,1047.046128555309,55.051897114852274C1045.180614891768,54.437185624165316,1043.3151012282271,53.815263196976495,1041.4495875646862,53.18643028897341C1039.5840739011453,52.55759738097032,1037.7185602376044,51.921853992152954,1035.8530465740635,51.265679616580336C1033.9875329105223,50.60950524100773,1032.1220192469812,49.93289987867987,1030.2565055834402,49.25268904810108C1028.3909919198993,48.5724782175223,1026.5254782563584,47.888661918692584,1024.6599645928175,47.20244197436225C1022.7944509292765,46.51622203003192,1020.9289372657355,45.82759844020097,1019.0634236021946,45.12815844561724C1017.1979099386535,44.42871845103351,1015.3323962751125,43.71846205169701,1013.4668826115716,42.969446868663034C1011.6013689480305,42.22043168562908,1009.7358552844895,41.43265771889765,1007.8703416209486,40.573976209898014C1006.0048279574075,39.715294700898376,1004.1393142938665,38.78570564963052,1002.2738006303256,37.94565239326067C1000.4082869667847,37.10559913689082,998.5427733032437,36.355081675418965,996.6772596397028,35.62709839051541C994.8117459761617,34.89911510561185,992.9462323126209,34.193665997276575,991.0807186490798,33.586165443091474C989.2152049855389,32.978664888906366,987.3496913219979,32.469112888871415,985.4727841329131,32.0737340501158C983.5958769438284,31.678355211360195,981.7075762291998,31.397149533883915,979.14705750749,31.29832045876699C976.5865387857801,31.199491383650066,973.3538020569887,31.283038910892497,970.8046768608225,31.317612161059845C968.2555516646563,31.352185411227197,966.3900380011154,31.337784384319463,964.5245243375745,31.28372320665154C962.6590106740335,31.229662028983615,960.7934970104925,31.135940700555505,958.9279833469517,31.021788385372144C957.0624696834105,30.907636070188783,955.1969560198695,30.773052768250167,953.3314423563285,30.615033922680535C951.4659286927875,30.457015077110906,949.6004150292466,30.275560687910247,947.7349013657057,30.07277394489162C945.8693877021647,29.869987201872984,944.0038740386236,29.64586810503637,942.1383603750827,29.510683891722607C940.2728467115417,29.37549967840884,938.4073330480006,29.329250348617922,933.1237617213337,29.304633828332566C927.8401903946669,29.280017308047206,919.138561404874,29.277033597267405,911.8041554803316,29.277354899050952C904.469749555789,29.277676200834502,898.502566696497,29.281302515181398,893.2189953698299,29.28252518402768C887.935424043163,29.283747852873958,883.3354642491213,29.28256687621962,879.4191159877047,29.282888178003166C875.5027677262882,29.283209479786716,872.2700309974967,29.28503306000815,868.3536827360804,29.291363475543246C864.4373344746638,29.297693891078335,859.837374680622,29.30853114192708,856.6046379518307,29.31155654489882C853.3719012230393,29.31458194787057,851.5063875594983,29.3097955029653,849.6408738959573,29.308013614935806C847.7753602324163,29.306231726906315,845.9098465688753,29.30745439575259,840.6262752422084,29.309277975974023C835.3427039155416,29.311101556195457,826.6410749257487,29.31352604779205,820.6738920664565,29.317452817826524C814.7067092071644,29.321379587861,811.4739724783731,29.326808636333357,805.0168680206997,29.328031305179646C798.5597635630261,29.32925397402592,788.8782913764704,29.32627026324612,783.2073401813159,29.327492932092397C777.5363889861613,29.32871560093868,775.8759587824079,29.33414464941104,772.7457637835105,29.338071419445516C769.6155687846127,29.341998189479984,765.015608990571,29.344422681076576,761.7828722617797,29.34534489423527C758.5501355329884,29.346267107393974,756.6846218694474,29.345687042114793,753.451885140656,29.347811078023806C750.2191484118648,29.349935113932816,745.619188617823,29.354763251030022,740.3356172911562,29.35628637556388C735.0520459644891,29.357809500097733,729.0848631051971,29.356027612068242,722.4340687132795,29.356949825226945C715.7832743213625,29.357872038385647,708.4488683968199,29.361498352732543,701.7980740049026,29.362721021578825C695.1472796129852,29.363943690425103,689.1800967536932,29.362762713770763,685.7992441928328,29.361882192804C682.4183916319727,29.361001671837244,681.6238693695445,29.360421606558052,678.9266283413097,29.36434837659253C676.2293873130748,29.368275146627003,671.629427519033,29.376708751975134,668.3852972646979,29.380034610634457C665.1411670103629,29.383360469293773,663.2528662957343,29.38157858126428,660.6923475740244,29.384603984236026C658.1318288523145,29.387629387207767,654.8990921235232,29.39546208118075,652.3499669273571,29.39998976259038C649.8008417311909,29.40451744400001,647.93532806765,29.405740112846285,646.1153885062839,29.403958224816794C644.2954489449179,29.402176336787303,642.5210834857269,29.39738989188204,639.3339208591105,29.39861256072832C636.1467582324941,29.399835229574602,631.5467984384524,29.407067012172423,624.8846105209914,29.409491503769004C618.2224226035304,29.411915995365593,609.49800656265,29.409533195960943,603.5194301778141,29.410455409119646C597.5408537929783,29.411377622278348,594.3081170641868,29.4156048480004,591.8615335979144,29.416527061159105C589.4149501316421,29.417449274317807,587.7545199278887,29.415066474913164,585.3079364616164,29.416890055134598C582.861352995344,29.41871363535603,579.6286162665525,29.42474359520354,573.6614334072605,29.429271276613175C567.6942505479683,29.433798958022802,558.9926215581754,29.43682436099454,550.40492782382,29.43774657415324C541.8172340894647,29.438668787311943,533.3434756105469,29.437487810657604,528.1738395393176,29.433302277127495C523.0042034680881,29.429116743597387,521.1386898045471,29.421926653191502,519.273176141006,29.39851195565645C517.4076624774651,29.375097258121404,515.5421488139242,29.33545795345719,513.6766351503832,29.302128218232088C511.81112148684224,29.268798483006993,509.94560782330126,29.24177831722102,508.08009415976034,29.242400074692142C506.2145804962193,29.243021832163265,504.3490668326783,29.271285512891495,502.48355316913734,29.322083370188007C500.6180395055964,29.372881227484527,498.7525258420554,29.446213261349328,496.8870121785144,29.54658630709609C495.0214985149735,29.64695935284284,493.1559848514325,29.77437341047154,491.29047118789146,29.920716176417603C489.42495752435053,30.067058942363662,487.55944386080955,30.23233041662709,485.69393019726857,30.434557940462508C483.82841653372753,30.636785464297926,481.9629028701866,30.875969037705335,480.09738920664563,31.02501590483959C478.2318755431047,31.174062771973848,476.3663618795637,31.23297293283495,465.6138982918953,31.264541626126526C454.86143470422684,31.2961103194181,435.22202119243093,31.300337545140156,423.1023345395121,31.30186066967401C410.9826478865932,31.30338379420787,406.3826880925515,31.302202817553535,373.39006264347694,31.30282457502466C340.3974371944023,31.30344633249578,279.01214609029483,31.305870824092366,247.38674370647058,31.298079822311326C215.76134132264633,31.290288820530293,213.89582765910538,31.27228232537163,212.0303139955644,31.221826615954637C210.16480033202342,31.171370906537636,208.2992866684824,31.088465982862306,206.43377300494146,30.96980683236529C204.56825934140045,30.85114768186827,202.7027456778595,30.696734304549565,200.8372320143185,30.591896115681095C198.97171835077754,30.487057926812625,197.10620468723653,30.43179492639439,195.24069102369558,30.45915724005988C193.37517736015457,30.486519553725373,191.50966369661361,30.596507181474596,189.64415003307263,30.86002766557576C187.77863636953165,31.123548149676935,185.91312270599067,31.540601490130047,184.04760904244972,31.996413614280616C182.1820953789087,32.45222573843119,180.31658171536773,32.94679664627921,178.45106805182675,33.49785322339174C176.5855543882858,34.04890980050428,174.7200407247448,34.656452046881334,172.85452706120384,35.243863762190706C170.9890133976629,35.83127547750009,169.1234997341219,36.39855666174179,167.25798607058093,36.86157972239422C165.39247240703995,37.324602783046636,163.52695874349897,37.68336772010978,161.66144507995796,37.950193216774295C159.79593141641698,38.21701871343881,157.930417752876,38.3919047697047,156.06490408933504,38.48266323344898C154.19939042579406,38.57342169719326,152.33387676225308,38.58005256841593,150.4683630987121,38.57045883250942C148.60284943517115,38.560865096602924,146.73733577163017,38.535046753567265,144.8718221080892,38.467765525645945C143.00630844454818,38.400484297724624,141.1407947810072,38.29174018491764,139.27528111746622,38.09015526464932C137.40976745392524,37.888570344380994,135.54425379038426,37.59414461665132,133.6787401268433,37.50222602234867C131.81322646330233,37.410307428046025,129.94771279976135,37.520895967170404,128.08219913622037,37.6272781266687C126.21668547267939,37.733660286167,124.35117180913842,37.835836066039214,122.48565814559744,37.91397539090525C120.62014448205646,37.992114715771294,118.75463081851551,38.04621758563116,116.8891171549745,38.40798707957007C115.02360349143355,38.76975657350898,113.15808982789257,39.43919269152693,111.29257616435159,40.17532997218701C109.4270625008106,40.911467252847096,107.56154883726963,41.714305696149324,105.69603517372866,42.648743730610356C103.83052151018768,43.58318176507138,101.9650078466467,44.64921939069122,100.09949418310573,45.77204314126315C98.23398051956475,46.89486689183508,96.36846685602377,48.0744767673591,94.49155966693904,49.24026568125456C92.6146524778543,50.40605459515004,90.72635176322581,51.558022547416954,88.84944457414106,52.79441854789306C86.97253738505634,54.030814548369165,85.10702372151536,55.35163859705447,83.24151005797438,56.72774649225397C81.3759963944334,58.103854387453474,79.51048273089243,59.53524612916718,77.64496906735145,61.00299300907773C75.77945540381047,62.47073988898827,73.9139417402695,63.974841907095644,72.04842807672851,65.56066787222403C70.18291441318753,67.1464938373524,68.31740074964658,68.81404374950178,66.4518870861056,70.50953604059582C64.58637342256462,72.20502833168989,62.72085975902365,73.92846300172862,60.855346095482666,75.60232248331711C58.989832431941686,77.27618196490562,57.124318768400705,78.90046625804386,55.258805104859725,80.57102072706901C53.39329144131875,82.24157519609416,51.52777777777777,83.9583998410062,49.901528150655615,87.07324480021491C48.27527852353345,90.18808975942359,46.88829293283012,94.70095503292897,45.70639080191433,95.68707144565327C44.52448867099855,96.6731878583776,43.54766999987032,94.13255541032083,42.12650383253571,93.68700047173984C40.70533766520111,93.24144553315882,38.839824001660126,94.89096810405358,31.744682113536445,96.29231427700957C24.649540225412764,97.69366044996555,12.324770112706382,98.84683022498278,6.162385056353191,99.4234151124914L0,100\"></path></svg><div class=\"flight-mini-tracker__PlaneWrapper-s25va3-5 hlidDn\" height=\"10\" width=\"38\"><svg width=\"38\" height=\"10\" xmlns=\"http://www.w3.org/2000/svg\"><path d=\"M386.2 66.7c-6.6-2.9-8.3-6.1-14-8.4-4.5-1.8-13.7-2.9-13.7-2.9l-27.7-.4-241.9.5-3.7-1.7S38 4.2 33.9 1.5c-4.1-2.7-18.9 0-18.9 0l15.4 51.8L.2 52.1l2 1.9 12.9 2.1 2.8.5s.2 3.5 1.5 4c5.1 2.2 25.6 11 50.7 17.7 26.5 7.1 57 10.5 57 10.5h72.1c2.2.2 4.6.5 7 .7v1.2h3.2V94c-1.5.3-2.6 1.7-2.6 3.3 0 1.9 1.5 3.4 3.4 3.4s3.4-1.5 3.4-3.4c0-1.6-1.1-2.9-2.6-3.3v-3.3h6.8V94c-1.5.3-2.6 1.7-2.6 3.3 0 1.9 1.5 3.4 3.4 3.4s3.4-1.5 3.4-3.4c0-1.6-1.1-2.9-2.6-3.3v-3c2.4.2 4.6.5 6.8.7v2.5c-1.5.3-2.6 1.7-2.6 3.3 0 1.9 1.5 3.4 3.4 3.4s3.4-1.5 3.4-3.4c0-1.6-1.1-2.9-2.6-3.3v-2.3c6.7.7 11.8 1.2 13.1 1.3 4.6.4 9.7 2.9 9.7 2.9s18.7 1.3 23 0c2.6-.8 3.4-4.9 3.7-7.9l56.6-1.1h18.3v3.2h3.2v3.3c-1.5.3-2.6 1.7-2.6 3.3 0 1.9 1.5 3.4 3.4 3.4s3.4-1.5 3.4-3.4c0-1.6-1.1-2.9-2.6-3.3v-3.3h3.6V87c27.9-.6 32.6-10.9 32.6-10.9s3.1-5-7-9.4z\" fill=\"#FAA718\"></path></svg></div></div><div class=\"alt-and-phase__Wrapper-jihjun-0 kmsVZS\"><div class=\"alt-and-phase__Altitude-jihjun-1 bkmjVx\"><span class=\"alt-and-phase__ContentLabel-jihjun-4 ekQiCH\">ALTITUDE</span><span class=\"alt-and-phase__ContentBox-jihjun-3 fDjOMe\">0 ft</span></div><div class=\"alt-and-phase__Phase-jihjun-2 jJjsmI\"><span class=\"alt-and-phase__ContentBox-jihjun-3 fDjOMe\">LANDED</span></div></div></div></div></div><div class=\"row__Row-s18xg2xa-0 hbKFUI\"><div class=\"flight-time-and-distance__TextBoxWrapper-r1etkb-0 jRUOqj\"><div class=\"text-box__TextBoxContainer-r0lz9f-0 iahmts\"><h3 class=\"text-box__Heading-r0lz9f-2 kLpQef\">Flight Time</h3><div class=\"text-box__ItemWrapper-r0lz9f-1 fzOBRA\"><div class=\"labeled-columns__ContentWrapper-j3eq63-3 cDamQW\"><div class=\"labeled-columns__Item-j3eq63-2 evoxyJ\"><h4 class=\"labeled-columns__Label-j3eq63-0 eJOxfR\">Total</h4><h5 class=\"labeled-columns__Value-j3eq63-1 bJFJTJ\">4h 8m</h5></div><div class=\"labeled-columns__Item-j3eq63-2 evoxyJ\"><h4 class=\"labeled-columns__Label-j3eq63-0 eJOxfR\">Elapsed</h4><h5 class=\"labeled-columns__Value-j3eq63-1 bJFJTJ\">4h 8m</h5></div><div class=\"labeled-columns__Item-j3eq63-2 evoxyJ\"><h4 class=\"labeled-columns__Label-j3eq63-0 eJOxfR\">Remaining</h4><h5 class=\"labeled-columns__Value-j3eq63-1 bJFJTJ\">0m</h5></div></div></div></div></div><div class=\"flight-time-and-distance__TextBoxWrapper-r1etkb-0 jRUOqj\"><div class=\"text-box__TextBoxContainer-r0lz9f-0 iahmts\"><h3 class=\"text-box__Heading-r0lz9f-2 kLpQef\">Flight Distance</h3><div class=\"text-box__ItemWrapper-r0lz9f-1 fzOBRA\"><div class=\"labeled-columns__ContentWrapper-j3eq63-3 cDamQW\"><div class=\"labeled-columns__Item-j3eq63-2 evoxyJ\"><h4 class=\"labeled-columns__Label-j3eq63-0 eJOxfR\">Total</h4><h5 class=\"labeled-columns__Value-j3eq63-1 bJFJTJ\">1785 mi</h5></div><div class=\"labeled-columns__Item-j3eq63-2 evoxyJ\"><h4 class=\"labeled-columns__Label-j3eq63-0 eJOxfR\">Flown</h4><h5 class=\"labeled-columns__Value-j3eq63-1 bJFJTJ\">1785 mi</h5></div><div class=\"labeled-columns__Item-j3eq63-2 evoxyJ\"><h4 class=\"labeled-columns__Label-j3eq63-0 eJOxfR\">Remaining</h4><h5 class=\"labeled-columns__Value-j3eq63-1 bJFJTJ\">0 mi</h5></div></div></div></div></div></div></div></div></div></div></div></div></div><div class=\"layout-row__RowWrapper-s1uoco8s-0 dcdOHa\"><div class=\"layout-row__SectionContainer-s1uoco8s-2 iSGoko\"><div class=\"layout-row__TitleWrapper-s1uoco8s-3 jFgNNO\"><h2 class=\"layout-row__Title-s1uoco8s-4 bRoHMJ\">Additional Details</h2></div><div><div class=\"layout-row__RowInner-s1uoco8s-1 ceJxq\"><div class=\"additional-details__FloatWrapper-hoxwfb-1 cpMYKi\"><div class=\"additional-details__SubItemWrapper-hoxwfb-2 lhkoRP\"><div class=\"text-box__TextBoxContainer-r0lz9f-0 fMywIH\"><h3 class=\"text-box__Heading-r0lz9f-2 kLpQef\">Aircraft Equipment</h3><div class=\"text-box__ItemWrapper-r0lz9f-1 fzOBRA\"><div class=\"labeled-columns__ContentWrapper-j3eq63-3 cDamQW\"><div class=\"labeled-columns__Item-j3eq63-2 evoxyJ\"><h4 class=\"labeled-columns__Label-j3eq63-0 eJOxfR\">Code</h4><h5 class=\"labeled-columns__Value-j3eq63-1 bJFJTJ\">73H</h5></div><div class=\"labeled-columns__Item-j3eq63-2 evoxyJ\"><h4 class=\"labeled-columns__Label-j3eq63-0 eJOxfR\">Description</h4><h5 class=\"labeled-columns__Value-j3eq63-1 bJFJTJ\">Boeing 737-800 (winglets) Passenger/BBJ2</h5></div></div></div></div></div></div></div></div></div></div><div class=\"layout-row__RowWrapper-s1uoco8s-0 dcdOHa\"><div class=\"layout-row__SectionContainer-s1uoco8s-2 iSGoko\"><div class=\"layout-row__TitleWrapper-s1uoco8s-3 jFgNNO\"><h2 class=\"layout-row__Title-s1uoco8s-4 bRoHMJ\">Past and Upcoming Flights</h2></div><div><div class=\"layout-row__RowInner-s1uoco8s-1 ceJxq\"><div class=\"tabs-content__DescriptionDropdownWrapper-rymvp0-0 fRTrlz\"><div class=\"past-upcoming-flights__TextHelper-s1haoxfm-2 kbFwjf\">For flights prior to the results below, please use our&nbsp;<a class=\"past-upcoming-flights__Hyperlink-s1haoxfm-1 gjMMna\" href=\"/v2/historical-flight/search\">Historical Flight Status</a>&nbsp;feature.</div><div class=\"tabs-content__MobileSelector-rymvp0-1 fsJzIl\"><div class=\"select-field__SelectContainer-s6imzgj-0 jPlelN\"><div class=\"select-field__SelectElement-s6imzgj-1 fQmGYv\" value=\"\"><div class=\"select-field__Label-s6imzgj-5 jZTKLu\">11-May<svg width=\"20px\" height=\"20px\" xmlns=\"http://www.w3.org/2000/svg\" viewBox=\"0 0 18 18\"><path d=\"M5 8l4 4 4-4z\" fill=\"#fff\"></path></svg></div></div></div></div></div><div class=\"tabs-content__TabBar-rymvp0-3 ckGNPc\"><div class=\"tabs-content__Tab-rymvp0-4 cTqTlq\" selected=\"\">11-May</div><div class=\"tabs-content__Tab-rymvp0-4 hGlvDv\">12-May</div><div class=\"tabs-content__Tab-rymvp0-4 hGlvDv\">13-May</div><div class=\"tabs-content__Tab-rymvp0-4 hGlvDv\">14-May</div><div class=\"tabs-content__Tab-rymvp0-4 hGlvDv\">15-May</div><div class=\"tabs-content__Tab-rymvp0-4 hGlvDv\">16-May</div><div class=\"tabs-content__Tab-rymvp0-4 hGlvDv\">17-May</div></div><div class=\"tabs-content__OneFlightPanel-rymvp0-6 ehqaCS\" selected=\"\"><div class=\"tabs-content__DateWrapper-rymvp0-10 cDAHvJ tabs-content__FadeInDiv-rymvp0-7 clShQb\"><div class=\"past-upcoming-flights__TextHelper-s1haoxfm-2 htEwxh\">Flights for Saturday, 11-May-2019</div></div><div class=\"tabs-content__BoldCenteredText-rymvp0-9 boqkYs tabs-content__CenteredText-rymvp0-8 eOUQmz tabs-content__FadeInDiv-rymvp0-7 clShQb\">One Flight This Day</div><div class=\"tabs-content__CenteredText-rymvp0-8 eOUQmz tabs-content__FadeInDiv-rymvp0-7 clShQb\">You are currently viewing the only flight for this day</div></div><div class=\"tabs-content__Panel-rymvp0-5 golHFI\"><div class=\"tabs-content__FadeInDiv-rymvp0-7 clShQb\"><div class=\"past-upcoming-flights__TextHelper-s1haoxfm-2 htEwxh\">Flights for Sunday, 12-May-2019</div><div class=\"past-upcoming-flights__HeaderContainer-s1haoxfm-8 dHFBYw\"><div class=\"past-upcoming-flights__HeaderText-s1haoxfm-9 iyoRaK past-upcoming-flights__TextHelper-s1haoxfm-2 cEzxMC\">Departure Time</div><div class=\"past-upcoming-flights__HeaderText-s1haoxfm-9 iJCHoL past-upcoming-flights__TextHelper-s1haoxfm-2 cEzxMC\">Origin</div><span class=\"past-upcoming-flights__HeaderSeparator-s1haoxfm-10 hPxFPu\">&nbsp;</span><div class=\"past-upcoming-flights__HeaderText-s1haoxfm-9 iJCHoL past-upcoming-flights__TextHelper-s1haoxfm-2 cEzxMC\">Destination</div><div class=\"past-upcoming-flights__HeaderText-s1haoxfm-9 iyoRaK past-upcoming-flights__TextHelper-s1haoxfm-2 cEzxMC\">Arrival Time</div></div><a class=\"past-upcoming-flights__LinkTableRow-s1haoxfm-0 hiZfCr\" href=\"/v2/flight-tracker/PS/945?year=2019&amp;month=05&amp;date=12&amp;flightId=999564363\"><div class=\"past-upcoming-flights__TimeGroupContainer-s1haoxfm-5 dnaKQQ past-upcoming-flights__StyledInfo-s1haoxfm-3 hclaTo\"><div class=\"past-upcoming-flights__TextHelper-s1haoxfm-2 hxawCE\">20:40<span class=\"past-upcoming-flights__TimeSuffix-s1haoxfm-6 dQHMCy\"> EEST</span></div></div><div class=\"past-upcoming-flights__Airport-s1haoxfm-4 fjoBOD past-upcoming-flights__StyledInfo-s1haoxfm-3 hclaTo\"><div class=\"past-upcoming-flights__TextHelper-s1haoxfm-2 ceqiFt\">KBP</div><div class=\"past-upcoming-flights__TextHelper-s1haoxfm-2 ieHvs\">Kiev/Kyiv</div></div><div class=\"past-upcoming-flights__PlaneWrapper-s1haoxfm-7 haAodY\"><svg width=\"35px\" height=\"32px\" viewBox=\"0 0 230 207.2\" xmlns=\"http://www.w3.org/2000/svg\"><path d=\"M69.9 202.8s-1.2.3-2.4.3-3.9-.4-3.2-.4c.6 0 1.4-1.2 1.4-1.2l-1-.1v-.9h1.7L78 172.8s1.5 0 1.5-.1c-1.5 0-2.4.1-2.5-.1.1-.3 12.6-30.6 12.9-31.3.1-.3 1.4-.1 1.4-.1l1.1-7.8h-1s2.1-16.4 1.9-16.9c-.3-.4-16.7.4-27.8-.4s-17.1-2.1-19.2-2.7c-2-.5-2.4-.1-3.3 1-.8 1-15.2 22-16.4 23.7s-1.8 1.8-2.5 1.8h-7.3l6.5-29.2s-2.7-.1-3.1-.6c-.4-.4-.2-1.3-.2-1.3s-5.6-.6-5.9-.9c-.4-.3-.5-.9-.5-.9s-5.7-1.3-5.9-1.9c.1-.6 5.9-1.9 5.9-1.9s.2-.6.5-.9c.4-.3 5.9-.9 5.9-.9s-.1-.9.2-1.3 3.1-.6 3.1-.6l-6.6-29.2H24c.7 0 1.3 0 2.5 1.8 1.3 1.8 15.6 22.7 16.4 23.7s1.3 1.5 3.3 1c2.1-.6 8.1-1.9 19.2-2.7s27.3-.1 27.6-.6c.3-.4-1.9-16.9-1.9-16.9h1L91 68.8s-1.3.1-1.4-.1c-.3-.7-12.8-31-12.9-31.3.1-.2 1.1-.1 2.5-.1 0-.1-1.5-.1-1.5-.1L66.2 9.4h-1.7v-.9l1-.1s-.7-1.2-1.4-1.2c-.6 0 2.1-.4 3.2-.4 1.3 0 2.4.3 2.4.3s-.3-1 .9-.8c.7.1 4.1 2.5 4.1 2.5s.5.2.9.1c.4 0 .7.5.9.8.1.2.9 0 .9 0s7.3 9.2 18.7 25.1c11.4 15.8 25.3 34.6 25.3 34.6s.8 0 1.9-.2 1.6-.3 1.6-.3.3-1 1-1.2c.5-.2 4.5-.7 8-.6s5.4.3 6 .6.8 1.1 1 2.3c.1 1.2.1 5.7-.1 6.8-.1 1-.3 1.7-1.6 1.9-1.4.2-6.1.2-8 .1-1.4-.1-2.9-.5-3-.3s3.3 4 4.7 6.1 4.2 5.7 5.1 6.1 1 .5.2.7c-.8.3-1.6.2-2.2-.1-.6-.4-1.3-.5-1.6-.2-.1.1.7 1.2 1.2 1.4.5.3 1.4 0 1.8.2s1.6.9 2.5.8c5.7-.2 14.4-.4 33.2-.4 20.1-.1 26.2.1 36.9 2.9 9.8 2.5 11.7 4.4 13.1 5.3 1.3.9 2.3 2.9 2.3 3.7 0 .8-1 2.8-2.3 3.7-1.4 1-3.3 2.8-13.1 5.3-10.8 2.7-16.8 2.9-36.9 2.9-18.8-.1-27.4-.3-33.2-.4-1 0-2.1.7-2.5.8-.4.2-1.3-.1-1.8.2s-1.3 1.3-1.2 1.4c.3.4 1 .2 1.6-.2s1.4-.4 2.2-.1.7.3-.2.7-3.8 4-5.1 6.1c-1.4 2.1-4.8 5.9-4.7 6.1s1.6-.2 3-.3c1.9-.1 6.6-.1 8 .1s1.5.8 1.6 1.9.2 5.7.1 6.8-.4 2-1 2.3-2.4.5-6 .6c-3.5.1-7.5-.4-8-.6-.7-.3-1-1.2-1-1.2s-.5-.1-1.6-.3-1.9-.2-1.9-.2-14 18.8-25.3 34.6c-11.4 15.9-18.7 25.1-18.7 25.1s-.7-.2-.9 0c-.2.3-.5.8-.9.8s-.9.1-.9.1-3.3 2.4-4.1 2.5c-1 .1-.7-.9-.7-.9zm8.5-190L77 10.9l-.2.1 1.3 1.8zm2.6 3.7L78.5 13l-.2.2 2.4 3.5zm2.6 3.7l-2.5-3.5-.2.1 2.4 3.5zm3.3 4.6l-3.2-4.4-.2.1 3.2 4.5zm3 4.3L87.1 25l-.2.1 2.9 4.1zm3.1 4.4l-2.9-4.1-.2.1 2.9 4.1zm3.2 4.4l-3-4.3-.2.2 3 4.3zm3.2 4.6l-3.1-4.3-.2.2 3 4.3zm3.2 4.5l-3-4.3-.2.1 3 4.3zm3.1 4.4l-3-4.3-.2.1 3 4.3zm3.1 4.3l-2.9-4.1-.2.1 2.9 4.1zm3 4.2l-2.9-4.1-.2.1 2.9 4.1zm3.6 5.1l-3.4-4.8-.2.1 3.4 4.8zm.9 1.3l-.8-1.1-.2.1.8 1.1zm3 4.1l-2.8-3.9-.2.1 2.8 4zm0 69.1l-.2-.1-2.8 4 .2.1zm-3 4.1l-.2-.1-.8 1.1.2.1zm-.9 1.4l-.2-.1-3.4 4.8.2.1zm-3.6 5l-.2-.1-2.9 4.1.2.1zm-3 4.3l-.2-.1-2.9 4.1.2.1zm-3.1 4.2l-.2-.1-3 4.3.2.1zm-3.1 4.5l-.2-.1-3 4.2.2.1zm-3.2 4.5l-.2-.1-3 4.3.2.2zm-3.2 4.5l-.2-.2-3 4.3.2.1zm-3.2 4.5l-.2-.1-2.9 4.1.2.1zm-3.1 4.3l-.2-.1-2.9 4.1.2.1zm-3 4.3l-.2-.1-3.2 4.5.2.1zm-3.3 4.7l-.2-.1-2.4 3.5.2.1zm-2.6 3.7l-.2-.1-2.4 3.5.2.2zm-2.6 3.6l-.2-.2-1.3 1.8.1.3z\" fill=\"#faa718\"></path></svg></div><div class=\"past-upcoming-flights__Airport-s1haoxfm-4 fjoBOD past-upcoming-flights__StyledInfo-s1haoxfm-3 hclaTo\"><div class=\"past-upcoming-flights__TextHelper-s1haoxfm-2 ceqiFt\">MAD</div><div class=\"past-upcoming-flights__TextHelper-s1haoxfm-2 ieHvs\">Madrid</div></div><div class=\"past-upcoming-flights__TimeGroupContainer-s1haoxfm-5 dnaKQQ past-upcoming-flights__StyledInfo-s1haoxfm-3 hclaTo\"><div class=\"past-upcoming-flights__TextHelper-s1haoxfm-2 hxawCE\">00:10<span class=\"past-upcoming-flights__TimeSuffix-s1haoxfm-6 dQHMCy\"> CEST</span></div></div></a></div></div><div class=\"tabs-content__Panel-rymvp0-5 golHFI\"><div class=\"tabs-content__FadeInDiv-rymvp0-7 clShQb\"><div class=\"past-upcoming-flights__TextHelper-s1haoxfm-2 htEwxh\">Flights for Monday, 13-May-2019</div><div class=\"past-upcoming-flights__HeaderContainer-s1haoxfm-8 dHFBYw\"><div class=\"past-upcoming-flights__HeaderText-s1haoxfm-9 iyoRaK past-upcoming-flights__TextHelper-s1haoxfm-2 cEzxMC\">Departure Time</div><div class=\"past-upcoming-flights__HeaderText-s1haoxfm-9 iJCHoL past-upcoming-flights__TextHelper-s1haoxfm-2 cEzxMC\">Origin</div><span class=\"past-upcoming-flights__HeaderSeparator-s1haoxfm-10 hPxFPu\">&nbsp;</span><div class=\"past-upcoming-flights__HeaderText-s1haoxfm-9 iJCHoL past-upcoming-flights__TextHelper-s1haoxfm-2 cEzxMC\">Destination</div><div class=\"past-upcoming-flights__HeaderText-s1haoxfm-9 iyoRaK past-upcoming-flights__TextHelper-s1haoxfm-2 cEzxMC\">Arrival Time</div></div><a class=\"past-upcoming-flights__LinkTableRow-s1haoxfm-0 hiZfCr\" href=\"/v2/flight-tracker/PS/945?year=2019&amp;month=05&amp;date=13&amp;flightId=999679606\"><div class=\"past-upcoming-flights__TimeGroupContainer-s1haoxfm-5 dnaKQQ past-upcoming-flights__StyledInfo-s1haoxfm-3 hclaTo\"><div class=\"past-upcoming-flights__TextHelper-s1haoxfm-2 hxawCE\">20:40<span class=\"past-upcoming-flights__TimeSuffix-s1haoxfm-6 dQHMCy\"> EEST</span></div></div><div class=\"past-upcoming-flights__Airport-s1haoxfm-4 fjoBOD past-upcoming-flights__StyledInfo-s1haoxfm-3 hclaTo\"><div class=\"past-upcoming-flights__TextHelper-s1haoxfm-2 ceqiFt\">KBP</div><div class=\"past-upcoming-flights__TextHelper-s1haoxfm-2 ieHvs\">Kiev/Kyiv</div></div><div class=\"past-upcoming-flights__PlaneWrapper-s1haoxfm-7 haAodY\"><svg width=\"35px\" height=\"32px\" viewBox=\"0 0 230 207.2\" xmlns=\"http://www.w3.org/2000/svg\"><path d=\"M69.9 202.8s-1.2.3-2.4.3-3.9-.4-3.2-.4c.6 0 1.4-1.2 1.4-1.2l-1-.1v-.9h1.7L78 172.8s1.5 0 1.5-.1c-1.5 0-2.4.1-2.5-.1.1-.3 12.6-30.6 12.9-31.3.1-.3 1.4-.1 1.4-.1l1.1-7.8h-1s2.1-16.4 1.9-16.9c-.3-.4-16.7.4-27.8-.4s-17.1-2.1-19.2-2.7c-2-.5-2.4-.1-3.3 1-.8 1-15.2 22-16.4 23.7s-1.8 1.8-2.5 1.8h-7.3l6.5-29.2s-2.7-.1-3.1-.6c-.4-.4-.2-1.3-.2-1.3s-5.6-.6-5.9-.9c-.4-.3-.5-.9-.5-.9s-5.7-1.3-5.9-1.9c.1-.6 5.9-1.9 5.9-1.9s.2-.6.5-.9c.4-.3 5.9-.9 5.9-.9s-.1-.9.2-1.3 3.1-.6 3.1-.6l-6.6-29.2H24c.7 0 1.3 0 2.5 1.8 1.3 1.8 15.6 22.7 16.4 23.7s1.3 1.5 3.3 1c2.1-.6 8.1-1.9 19.2-2.7s27.3-.1 27.6-.6c.3-.4-1.9-16.9-1.9-16.9h1L91 68.8s-1.3.1-1.4-.1c-.3-.7-12.8-31-12.9-31.3.1-.2 1.1-.1 2.5-.1 0-.1-1.5-.1-1.5-.1L66.2 9.4h-1.7v-.9l1-.1s-.7-1.2-1.4-1.2c-.6 0 2.1-.4 3.2-.4 1.3 0 2.4.3 2.4.3s-.3-1 .9-.8c.7.1 4.1 2.5 4.1 2.5s.5.2.9.1c.4 0 .7.5.9.8.1.2.9 0 .9 0s7.3 9.2 18.7 25.1c11.4 15.8 25.3 34.6 25.3 34.6s.8 0 1.9-.2 1.6-.3 1.6-.3.3-1 1-1.2c.5-.2 4.5-.7 8-.6s5.4.3 6 .6.8 1.1 1 2.3c.1 1.2.1 5.7-.1 6.8-.1 1-.3 1.7-1.6 1.9-1.4.2-6.1.2-8 .1-1.4-.1-2.9-.5-3-.3s3.3 4 4.7 6.1 4.2 5.7 5.1 6.1 1 .5.2.7c-.8.3-1.6.2-2.2-.1-.6-.4-1.3-.5-1.6-.2-.1.1.7 1.2 1.2 1.4.5.3 1.4 0 1.8.2s1.6.9 2.5.8c5.7-.2 14.4-.4 33.2-.4 20.1-.1 26.2.1 36.9 2.9 9.8 2.5 11.7 4.4 13.1 5.3 1.3.9 2.3 2.9 2.3 3.7 0 .8-1 2.8-2.3 3.7-1.4 1-3.3 2.8-13.1 5.3-10.8 2.7-16.8 2.9-36.9 2.9-18.8-.1-27.4-.3-33.2-.4-1 0-2.1.7-2.5.8-.4.2-1.3-.1-1.8.2s-1.3 1.3-1.2 1.4c.3.4 1 .2 1.6-.2s1.4-.4 2.2-.1.7.3-.2.7-3.8 4-5.1 6.1c-1.4 2.1-4.8 5.9-4.7 6.1s1.6-.2 3-.3c1.9-.1 6.6-.1 8 .1s1.5.8 1.6 1.9.2 5.7.1 6.8-.4 2-1 2.3-2.4.5-6 .6c-3.5.1-7.5-.4-8-.6-.7-.3-1-1.2-1-1.2s-.5-.1-1.6-.3-1.9-.2-1.9-.2-14 18.8-25.3 34.6c-11.4 15.9-18.7 25.1-18.7 25.1s-.7-.2-.9 0c-.2.3-.5.8-.9.8s-.9.1-.9.1-3.3 2.4-4.1 2.5c-1 .1-.7-.9-.7-.9zm8.5-190L77 10.9l-.2.1 1.3 1.8zm2.6 3.7L78.5 13l-.2.2 2.4 3.5zm2.6 3.7l-2.5-3.5-.2.1 2.4 3.5zm3.3 4.6l-3.2-4.4-.2.1 3.2 4.5zm3 4.3L87.1 25l-.2.1 2.9 4.1zm3.1 4.4l-2.9-4.1-.2.1 2.9 4.1zm3.2 4.4l-3-4.3-.2.2 3 4.3zm3.2 4.6l-3.1-4.3-.2.2 3 4.3zm3.2 4.5l-3-4.3-.2.1 3 4.3zm3.1 4.4l-3-4.3-.2.1 3 4.3zm3.1 4.3l-2.9-4.1-.2.1 2.9 4.1zm3 4.2l-2.9-4.1-.2.1 2.9 4.1zm3.6 5.1l-3.4-4.8-.2.1 3.4 4.8zm.9 1.3l-.8-1.1-.2.1.8 1.1zm3 4.1l-2.8-3.9-.2.1 2.8 4zm0 69.1l-.2-.1-2.8 4 .2.1zm-3 4.1l-.2-.1-.8 1.1.2.1zm-.9 1.4l-.2-.1-3.4 4.8.2.1zm-3.6 5l-.2-.1-2.9 4.1.2.1zm-3 4.3l-.2-.1-2.9 4.1.2.1zm-3.1 4.2l-.2-.1-3 4.3.2.1zm-3.1 4.5l-.2-.1-3 4.2.2.1zm-3.2 4.5l-.2-.1-3 4.3.2.2zm-3.2 4.5l-.2-.2-3 4.3.2.1zm-3.2 4.5l-.2-.1-2.9 4.1.2.1zm-3.1 4.3l-.2-.1-2.9 4.1.2.1zm-3 4.3l-.2-.1-3.2 4.5.2.1zm-3.3 4.7l-.2-.1-2.4 3.5.2.1zm-2.6 3.7l-.2-.1-2.4 3.5.2.2zm-2.6 3.6l-.2-.2-1.3 1.8.1.3z\" fill=\"#faa718\"></path></svg></div><div class=\"past-upcoming-flights__Airport-s1haoxfm-4 fjoBOD past-upcoming-flights__StyledInfo-s1haoxfm-3 hclaTo\"><div class=\"past-upcoming-flights__TextHelper-s1haoxfm-2 ceqiFt\">MAD</div><div class=\"past-upcoming-flights__TextHelper-s1haoxfm-2 ieHvs\">Madrid</div></div><div class=\"past-upcoming-flights__TimeGroupContainer-s1haoxfm-5 dnaKQQ past-upcoming-flights__StyledInfo-s1haoxfm-3 hclaTo\"><div class=\"past-upcoming-flights__TextHelper-s1haoxfm-2 hxawCE\">00:10<span class=\"past-upcoming-flights__TimeSuffix-s1haoxfm-6 dQHMCy\"> CEST</span></div></div></a></div></div><div class=\"tabs-content__Panel-rymvp0-5 golHFI\"><div class=\"tabs-content__FadeInDiv-rymvp0-7 clShQb\"><div class=\"past-upcoming-flights__TextHelper-s1haoxfm-2 htEwxh\">Flights for Tuesday, 14-May-2019</div><div class=\"past-upcoming-flights__HeaderContainer-s1haoxfm-8 dHFBYw\"><div class=\"past-upcoming-flights__HeaderText-s1haoxfm-9 iyoRaK past-upcoming-flights__TextHelper-s1haoxfm-2 cEzxMC\">Departure Time</div><div class=\"past-upcoming-flights__HeaderText-s1haoxfm-9 iJCHoL past-upcoming-flights__TextHelper-s1haoxfm-2 cEzxMC\">Origin</div><span class=\"past-upcoming-flights__HeaderSeparator-s1haoxfm-10 hPxFPu\">&nbsp;</span><div class=\"past-upcoming-flights__HeaderText-s1haoxfm-9 iJCHoL past-upcoming-flights__TextHelper-s1haoxfm-2 cEzxMC\">Destination</div><div class=\"past-upcoming-flights__HeaderText-s1haoxfm-9 iyoRaK past-upcoming-flights__TextHelper-s1haoxfm-2 cEzxMC\">Arrival Time</div></div><a class=\"past-upcoming-flights__LinkTableRow-s1haoxfm-0 hiZfCr\" href=\"/v2/flight-tracker/PS/945?year=2019&amp;month=05&amp;date=14&amp;flightId=999791591\"><div class=\"past-upcoming-flights__TimeGroupContainer-s1haoxfm-5 dnaKQQ past-upcoming-flights__StyledInfo-s1haoxfm-3 hclaTo\"><div class=\"past-upcoming-flights__TextHelper-s1haoxfm-2 hxawCE\">20:40<span class=\"past-upcoming-flights__TimeSuffix-s1haoxfm-6 dQHMCy\"> EEST</span></div></div><div class=\"past-upcoming-flights__Airport-s1haoxfm-4 fjoBOD past-upcoming-flights__StyledInfo-s1haoxfm-3 hclaTo\"><div class=\"past-upcoming-flights__TextHelper-s1haoxfm-2 ceqiFt\">KBP</div><div class=\"past-upcoming-flights__TextHelper-s1haoxfm-2 ieHvs\">Kiev/Kyiv</div></div><div class=\"past-upcoming-flights__PlaneWrapper-s1haoxfm-7 haAodY\"><svg width=\"35px\" height=\"32px\" viewBox=\"0 0 230 207.2\" xmlns=\"http://www.w3.org/2000/svg\"><path d=\"M69.9 202.8s-1.2.3-2.4.3-3.9-.4-3.2-.4c.6 0 1.4-1.2 1.4-1.2l-1-.1v-.9h1.7L78 172.8s1.5 0 1.5-.1c-1.5 0-2.4.1-2.5-.1.1-.3 12.6-30.6 12.9-31.3.1-.3 1.4-.1 1.4-.1l1.1-7.8h-1s2.1-16.4 1.9-16.9c-.3-.4-16.7.4-27.8-.4s-17.1-2.1-19.2-2.7c-2-.5-2.4-.1-3.3 1-.8 1-15.2 22-16.4 23.7s-1.8 1.8-2.5 1.8h-7.3l6.5-29.2s-2.7-.1-3.1-.6c-.4-.4-.2-1.3-.2-1.3s-5.6-.6-5.9-.9c-.4-.3-.5-.9-.5-.9s-5.7-1.3-5.9-1.9c.1-.6 5.9-1.9 5.9-1.9s.2-.6.5-.9c.4-.3 5.9-.9 5.9-.9s-.1-.9.2-1.3 3.1-.6 3.1-.6l-6.6-29.2H24c.7 0 1.3 0 2.5 1.8 1.3 1.8 15.6 22.7 16.4 23.7s1.3 1.5 3.3 1c2.1-.6 8.1-1.9 19.2-2.7s27.3-.1 27.6-.6c.3-.4-1.9-16.9-1.9-16.9h1L91 68.8s-1.3.1-1.4-.1c-.3-.7-12.8-31-12.9-31.3.1-.2 1.1-.1 2.5-.1 0-.1-1.5-.1-1.5-.1L66.2 9.4h-1.7v-.9l1-.1s-.7-1.2-1.4-1.2c-.6 0 2.1-.4 3.2-.4 1.3 0 2.4.3 2.4.3s-.3-1 .9-.8c.7.1 4.1 2.5 4.1 2.5s.5.2.9.1c.4 0 .7.5.9.8.1.2.9 0 .9 0s7.3 9.2 18.7 25.1c11.4 15.8 25.3 34.6 25.3 34.6s.8 0 1.9-.2 1.6-.3 1.6-.3.3-1 1-1.2c.5-.2 4.5-.7 8-.6s5.4.3 6 .6.8 1.1 1 2.3c.1 1.2.1 5.7-.1 6.8-.1 1-.3 1.7-1.6 1.9-1.4.2-6.1.2-8 .1-1.4-.1-2.9-.5-3-.3s3.3 4 4.7 6.1 4.2 5.7 5.1 6.1 1 .5.2.7c-.8.3-1.6.2-2.2-.1-.6-.4-1.3-.5-1.6-.2-.1.1.7 1.2 1.2 1.4.5.3 1.4 0 1.8.2s1.6.9 2.5.8c5.7-.2 14.4-.4 33.2-.4 20.1-.1 26.2.1 36.9 2.9 9.8 2.5 11.7 4.4 13.1 5.3 1.3.9 2.3 2.9 2.3 3.7 0 .8-1 2.8-2.3 3.7-1.4 1-3.3 2.8-13.1 5.3-10.8 2.7-16.8 2.9-36.9 2.9-18.8-.1-27.4-.3-33.2-.4-1 0-2.1.7-2.5.8-.4.2-1.3-.1-1.8.2s-1.3 1.3-1.2 1.4c.3.4 1 .2 1.6-.2s1.4-.4 2.2-.1.7.3-.2.7-3.8 4-5.1 6.1c-1.4 2.1-4.8 5.9-4.7 6.1s1.6-.2 3-.3c1.9-.1 6.6-.1 8 .1s1.5.8 1.6 1.9.2 5.7.1 6.8-.4 2-1 2.3-2.4.5-6 .6c-3.5.1-7.5-.4-8-.6-.7-.3-1-1.2-1-1.2s-.5-.1-1.6-.3-1.9-.2-1.9-.2-14 18.8-25.3 34.6c-11.4 15.9-18.7 25.1-18.7 25.1s-.7-.2-.9 0c-.2.3-.5.8-.9.8s-.9.1-.9.1-3.3 2.4-4.1 2.5c-1 .1-.7-.9-.7-.9zm8.5-190L77 10.9l-.2.1 1.3 1.8zm2.6 3.7L78.5 13l-.2.2 2.4 3.5zm2.6 3.7l-2.5-3.5-.2.1 2.4 3.5zm3.3 4.6l-3.2-4.4-.2.1 3.2 4.5zm3 4.3L87.1 25l-.2.1 2.9 4.1zm3.1 4.4l-2.9-4.1-.2.1 2.9 4.1zm3.2 4.4l-3-4.3-.2.2 3 4.3zm3.2 4.6l-3.1-4.3-.2.2 3 4.3zm3.2 4.5l-3-4.3-.2.1 3 4.3zm3.1 4.4l-3-4.3-.2.1 3 4.3zm3.1 4.3l-2.9-4.1-.2.1 2.9 4.1zm3 4.2l-2.9-4.1-.2.1 2.9 4.1zm3.6 5.1l-3.4-4.8-.2.1 3.4 4.8zm.9 1.3l-.8-1.1-.2.1.8 1.1zm3 4.1l-2.8-3.9-.2.1 2.8 4zm0 69.1l-.2-.1-2.8 4 .2.1zm-3 4.1l-.2-.1-.8 1.1.2.1zm-.9 1.4l-.2-.1-3.4 4.8.2.1zm-3.6 5l-.2-.1-2.9 4.1.2.1zm-3 4.3l-.2-.1-2.9 4.1.2.1zm-3.1 4.2l-.2-.1-3 4.3.2.1zm-3.1 4.5l-.2-.1-3 4.2.2.1zm-3.2 4.5l-.2-.1-3 4.3.2.2zm-3.2 4.5l-.2-.2-3 4.3.2.1zm-3.2 4.5l-.2-.1-2.9 4.1.2.1zm-3.1 4.3l-.2-.1-2.9 4.1.2.1zm-3 4.3l-.2-.1-3.2 4.5.2.1zm-3.3 4.7l-.2-.1-2.4 3.5.2.1zm-2.6 3.7l-.2-.1-2.4 3.5.2.2zm-2.6 3.6l-.2-.2-1.3 1.8.1.3z\" fill=\"#faa718\"></path></svg></div><div class=\"past-upcoming-flights__Airport-s1haoxfm-4 fjoBOD past-upcoming-flights__StyledInfo-s1haoxfm-3 hclaTo\"><div class=\"past-upcoming-flights__TextHelper-s1haoxfm-2 ceqiFt\">MAD</div><div class=\"past-upcoming-flights__TextHelper-s1haoxfm-2 ieHvs\">Madrid</div></div><div class=\"past-upcoming-flights__TimeGroupContainer-s1haoxfm-5 dnaKQQ past-upcoming-flights__StyledInfo-s1haoxfm-3 hclaTo\"><div class=\"past-upcoming-flights__TextHelper-s1haoxfm-2 hxawCE\">00:10<span class=\"past-upcoming-flights__TimeSuffix-s1haoxfm-6 dQHMCy\"> CEST</span></div></div></a></div></div><div class=\"tabs-content__Panel-rymvp0-5 golHFI\"><div class=\"tabs-content__FadeInDiv-rymvp0-7 clShQb\"><div class=\"past-upcoming-flights__TextHelper-s1haoxfm-2 htEwxh\">Flights for Wednesday, 15-May-2019</div><div class=\"past-upcoming-flights__HeaderContainer-s1haoxfm-8 dHFBYw\"><div class=\"past-upcoming-flights__HeaderText-s1haoxfm-9 iyoRaK past-upcoming-flights__TextHelper-s1haoxfm-2 cEzxMC\">Departure Time</div><div class=\"past-upcoming-flights__HeaderText-s1haoxfm-9 iJCHoL past-upcoming-flights__TextHelper-s1haoxfm-2 cEzxMC\">Origin</div><span class=\"past-upcoming-flights__HeaderSeparator-s1haoxfm-10 hPxFPu\">&nbsp;</span><div class=\"past-upcoming-flights__HeaderText-s1haoxfm-9 iJCHoL past-upcoming-flights__TextHelper-s1haoxfm-2 cEzxMC\">Destination</div><div class=\"past-upcoming-flights__HeaderText-s1haoxfm-9 iyoRaK past-upcoming-flights__TextHelper-s1haoxfm-2 cEzxMC\">Arrival Time</div></div><a class=\"past-upcoming-flights__LinkTableRow-s1haoxfm-0 hiZfCr\" href=\"/v2/flight-tracker/PS/945?year=2019&amp;month=05&amp;date=15&amp;flightId=999902948\"><div class=\"past-upcoming-flights__TimeGroupContainer-s1haoxfm-5 dnaKQQ past-upcoming-flights__StyledInfo-s1haoxfm-3 hclaTo\"><div class=\"past-upcoming-flights__TextHelper-s1haoxfm-2 hxawCE\">20:40<span class=\"past-upcoming-flights__TimeSuffix-s1haoxfm-6 dQHMCy\"> EEST</span></div></div><div class=\"past-upcoming-flights__Airport-s1haoxfm-4 fjoBOD past-upcoming-flights__StyledInfo-s1haoxfm-3 hclaTo\"><div class=\"past-upcoming-flights__TextHelper-s1haoxfm-2 ceqiFt\">KBP</div><div class=\"past-upcoming-flights__TextHelper-s1haoxfm-2 ieHvs\">Kiev/Kyiv</div></div><div class=\"past-upcoming-flights__PlaneWrapper-s1haoxfm-7 haAodY\"><svg width=\"35px\" height=\"32px\" viewBox=\"0 0 230 207.2\" xmlns=\"http://www.w3.org/2000/svg\"><path d=\"M69.9 202.8s-1.2.3-2.4.3-3.9-.4-3.2-.4c.6 0 1.4-1.2 1.4-1.2l-1-.1v-.9h1.7L78 172.8s1.5 0 1.5-.1c-1.5 0-2.4.1-2.5-.1.1-.3 12.6-30.6 12.9-31.3.1-.3 1.4-.1 1.4-.1l1.1-7.8h-1s2.1-16.4 1.9-16.9c-.3-.4-16.7.4-27.8-.4s-17.1-2.1-19.2-2.7c-2-.5-2.4-.1-3.3 1-.8 1-15.2 22-16.4 23.7s-1.8 1.8-2.5 1.8h-7.3l6.5-29.2s-2.7-.1-3.1-.6c-.4-.4-.2-1.3-.2-1.3s-5.6-.6-5.9-.9c-.4-.3-.5-.9-.5-.9s-5.7-1.3-5.9-1.9c.1-.6 5.9-1.9 5.9-1.9s.2-.6.5-.9c.4-.3 5.9-.9 5.9-.9s-.1-.9.2-1.3 3.1-.6 3.1-.6l-6.6-29.2H24c.7 0 1.3 0 2.5 1.8 1.3 1.8 15.6 22.7 16.4 23.7s1.3 1.5 3.3 1c2.1-.6 8.1-1.9 19.2-2.7s27.3-.1 27.6-.6c.3-.4-1.9-16.9-1.9-16.9h1L91 68.8s-1.3.1-1.4-.1c-.3-.7-12.8-31-12.9-31.3.1-.2 1.1-.1 2.5-.1 0-.1-1.5-.1-1.5-.1L66.2 9.4h-1.7v-.9l1-.1s-.7-1.2-1.4-1.2c-.6 0 2.1-.4 3.2-.4 1.3 0 2.4.3 2.4.3s-.3-1 .9-.8c.7.1 4.1 2.5 4.1 2.5s.5.2.9.1c.4 0 .7.5.9.8.1.2.9 0 .9 0s7.3 9.2 18.7 25.1c11.4 15.8 25.3 34.6 25.3 34.6s.8 0 1.9-.2 1.6-.3 1.6-.3.3-1 1-1.2c.5-.2 4.5-.7 8-.6s5.4.3 6 .6.8 1.1 1 2.3c.1 1.2.1 5.7-.1 6.8-.1 1-.3 1.7-1.6 1.9-1.4.2-6.1.2-8 .1-1.4-.1-2.9-.5-3-.3s3.3 4 4.7 6.1 4.2 5.7 5.1 6.1 1 .5.2.7c-.8.3-1.6.2-2.2-.1-.6-.4-1.3-.5-1.6-.2-.1.1.7 1.2 1.2 1.4.5.3 1.4 0 1.8.2s1.6.9 2.5.8c5.7-.2 14.4-.4 33.2-.4 20.1-.1 26.2.1 36.9 2.9 9.8 2.5 11.7 4.4 13.1 5.3 1.3.9 2.3 2.9 2.3 3.7 0 .8-1 2.8-2.3 3.7-1.4 1-3.3 2.8-13.1 5.3-10.8 2.7-16.8 2.9-36.9 2.9-18.8-.1-27.4-.3-33.2-.4-1 0-2.1.7-2.5.8-.4.2-1.3-.1-1.8.2s-1.3 1.3-1.2 1.4c.3.4 1 .2 1.6-.2s1.4-.4 2.2-.1.7.3-.2.7-3.8 4-5.1 6.1c-1.4 2.1-4.8 5.9-4.7 6.1s1.6-.2 3-.3c1.9-.1 6.6-.1 8 .1s1.5.8 1.6 1.9.2 5.7.1 6.8-.4 2-1 2.3-2.4.5-6 .6c-3.5.1-7.5-.4-8-.6-.7-.3-1-1.2-1-1.2s-.5-.1-1.6-.3-1.9-.2-1.9-.2-14 18.8-25.3 34.6c-11.4 15.9-18.7 25.1-18.7 25.1s-.7-.2-.9 0c-.2.3-.5.8-.9.8s-.9.1-.9.1-3.3 2.4-4.1 2.5c-1 .1-.7-.9-.7-.9zm8.5-190L77 10.9l-.2.1 1.3 1.8zm2.6 3.7L78.5 13l-.2.2 2.4 3.5zm2.6 3.7l-2.5-3.5-.2.1 2.4 3.5zm3.3 4.6l-3.2-4.4-.2.1 3.2 4.5zm3 4.3L87.1 25l-.2.1 2.9 4.1zm3.1 4.4l-2.9-4.1-.2.1 2.9 4.1zm3.2 4.4l-3-4.3-.2.2 3 4.3zm3.2 4.6l-3.1-4.3-.2.2 3 4.3zm3.2 4.5l-3-4.3-.2.1 3 4.3zm3.1 4.4l-3-4.3-.2.1 3 4.3zm3.1 4.3l-2.9-4.1-.2.1 2.9 4.1zm3 4.2l-2.9-4.1-.2.1 2.9 4.1zm3.6 5.1l-3.4-4.8-.2.1 3.4 4.8zm.9 1.3l-.8-1.1-.2.1.8 1.1zm3 4.1l-2.8-3.9-.2.1 2.8 4zm0 69.1l-.2-.1-2.8 4 .2.1zm-3 4.1l-.2-.1-.8 1.1.2.1zm-.9 1.4l-.2-.1-3.4 4.8.2.1zm-3.6 5l-.2-.1-2.9 4.1.2.1zm-3 4.3l-.2-.1-2.9 4.1.2.1zm-3.1 4.2l-.2-.1-3 4.3.2.1zm-3.1 4.5l-.2-.1-3 4.2.2.1zm-3.2 4.5l-.2-.1-3 4.3.2.2zm-3.2 4.5l-.2-.2-3 4.3.2.1zm-3.2 4.5l-.2-.1-2.9 4.1.2.1zm-3.1 4.3l-.2-.1-2.9 4.1.2.1zm-3 4.3l-.2-.1-3.2 4.5.2.1zm-3.3 4.7l-.2-.1-2.4 3.5.2.1zm-2.6 3.7l-.2-.1-2.4 3.5.2.2zm-2.6 3.6l-.2-.2-1.3 1.8.1.3z\" fill=\"#faa718\"></path></svg></div><div class=\"past-upcoming-flights__Airport-s1haoxfm-4 fjoBOD past-upcoming-flights__StyledInfo-s1haoxfm-3 hclaTo\"><div class=\"past-upcoming-flights__TextHelper-s1haoxfm-2 ceqiFt\">MAD</div><div class=\"past-upcoming-flights__TextHelper-s1haoxfm-2 ieHvs\">Madrid</div></div><div class=\"past-upcoming-flights__TimeGroupContainer-s1haoxfm-5 dnaKQQ past-upcoming-flights__StyledInfo-s1haoxfm-3 hclaTo\"><div class=\"past-upcoming-flights__TextHelper-s1haoxfm-2 hxawCE\">00:10<span class=\"past-upcoming-flights__TimeSuffix-s1haoxfm-6 dQHMCy\"> CEST</span></div></div></a></div></div><div class=\"tabs-content__Panel-rymvp0-5 golHFI\"><div class=\"tabs-content__FadeInDiv-rymvp0-7 clShQb\"><div class=\"past-upcoming-flights__TextHelper-s1haoxfm-2 htEwxh\">Flights for Thursday, 16-May-2019</div><div class=\"past-upcoming-flights__HeaderContainer-s1haoxfm-8 dHFBYw\"><div class=\"past-upcoming-flights__HeaderText-s1haoxfm-9 iyoRaK past-upcoming-flights__TextHelper-s1haoxfm-2 cEzxMC\">Departure Time</div><div class=\"past-upcoming-flights__HeaderText-s1haoxfm-9 iJCHoL past-upcoming-flights__TextHelper-s1haoxfm-2 cEzxMC\">Origin</div><span class=\"past-upcoming-flights__HeaderSeparator-s1haoxfm-10 hPxFPu\">&nbsp;</span><div class=\"past-upcoming-flights__HeaderText-s1haoxfm-9 iJCHoL past-upcoming-flights__TextHelper-s1haoxfm-2 cEzxMC\">Destination</div><div class=\"past-upcoming-flights__HeaderText-s1haoxfm-9 iyoRaK past-upcoming-flights__TextHelper-s1haoxfm-2 cEzxMC\">Arrival Time</div></div><a class=\"past-upcoming-flights__LinkTableRow-s1haoxfm-0 hiZfCr\" href=\"/v2/flight-tracker/PS/945?year=2019&amp;month=05&amp;date=16&amp;flightId=1000017819\"><div class=\"past-upcoming-flights__TimeGroupContainer-s1haoxfm-5 dnaKQQ past-upcoming-flights__StyledInfo-s1haoxfm-3 hclaTo\"><div class=\"past-upcoming-flights__TextHelper-s1haoxfm-2 hxawCE\">20:40<span class=\"past-upcoming-flights__TimeSuffix-s1haoxfm-6 dQHMCy\"> EEST</span></div></div><div class=\"past-upcoming-flights__Airport-s1haoxfm-4 fjoBOD past-upcoming-flights__StyledInfo-s1haoxfm-3 hclaTo\"><div class=\"past-upcoming-flights__TextHelper-s1haoxfm-2 ceqiFt\">KBP</div><div class=\"past-upcoming-flights__TextHelper-s1haoxfm-2 ieHvs\">Kiev/Kyiv</div></div><div class=\"past-upcoming-flights__PlaneWrapper-s1haoxfm-7 haAodY\"><svg width=\"35px\" height=\"32px\" viewBox=\"0 0 230 207.2\" xmlns=\"http://www.w3.org/2000/svg\"><path d=\"M69.9 202.8s-1.2.3-2.4.3-3.9-.4-3.2-.4c.6 0 1.4-1.2 1.4-1.2l-1-.1v-.9h1.7L78 172.8s1.5 0 1.5-.1c-1.5 0-2.4.1-2.5-.1.1-.3 12.6-30.6 12.9-31.3.1-.3 1.4-.1 1.4-.1l1.1-7.8h-1s2.1-16.4 1.9-16.9c-.3-.4-16.7.4-27.8-.4s-17.1-2.1-19.2-2.7c-2-.5-2.4-.1-3.3 1-.8 1-15.2 22-16.4 23.7s-1.8 1.8-2.5 1.8h-7.3l6.5-29.2s-2.7-.1-3.1-.6c-.4-.4-.2-1.3-.2-1.3s-5.6-.6-5.9-.9c-.4-.3-.5-.9-.5-.9s-5.7-1.3-5.9-1.9c.1-.6 5.9-1.9 5.9-1.9s.2-.6.5-.9c.4-.3 5.9-.9 5.9-.9s-.1-.9.2-1.3 3.1-.6 3.1-.6l-6.6-29.2H24c.7 0 1.3 0 2.5 1.8 1.3 1.8 15.6 22.7 16.4 23.7s1.3 1.5 3.3 1c2.1-.6 8.1-1.9 19.2-2.7s27.3-.1 27.6-.6c.3-.4-1.9-16.9-1.9-16.9h1L91 68.8s-1.3.1-1.4-.1c-.3-.7-12.8-31-12.9-31.3.1-.2 1.1-.1 2.5-.1 0-.1-1.5-.1-1.5-.1L66.2 9.4h-1.7v-.9l1-.1s-.7-1.2-1.4-1.2c-.6 0 2.1-.4 3.2-.4 1.3 0 2.4.3 2.4.3s-.3-1 .9-.8c.7.1 4.1 2.5 4.1 2.5s.5.2.9.1c.4 0 .7.5.9.8.1.2.9 0 .9 0s7.3 9.2 18.7 25.1c11.4 15.8 25.3 34.6 25.3 34.6s.8 0 1.9-.2 1.6-.3 1.6-.3.3-1 1-1.2c.5-.2 4.5-.7 8-.6s5.4.3 6 .6.8 1.1 1 2.3c.1 1.2.1 5.7-.1 6.8-.1 1-.3 1.7-1.6 1.9-1.4.2-6.1.2-8 .1-1.4-.1-2.9-.5-3-.3s3.3 4 4.7 6.1 4.2 5.7 5.1 6.1 1 .5.2.7c-.8.3-1.6.2-2.2-.1-.6-.4-1.3-.5-1.6-.2-.1.1.7 1.2 1.2 1.4.5.3 1.4 0 1.8.2s1.6.9 2.5.8c5.7-.2 14.4-.4 33.2-.4 20.1-.1 26.2.1 36.9 2.9 9.8 2.5 11.7 4.4 13.1 5.3 1.3.9 2.3 2.9 2.3 3.7 0 .8-1 2.8-2.3 3.7-1.4 1-3.3 2.8-13.1 5.3-10.8 2.7-16.8 2.9-36.9 2.9-18.8-.1-27.4-.3-33.2-.4-1 0-2.1.7-2.5.8-.4.2-1.3-.1-1.8.2s-1.3 1.3-1.2 1.4c.3.4 1 .2 1.6-.2s1.4-.4 2.2-.1.7.3-.2.7-3.8 4-5.1 6.1c-1.4 2.1-4.8 5.9-4.7 6.1s1.6-.2 3-.3c1.9-.1 6.6-.1 8 .1s1.5.8 1.6 1.9.2 5.7.1 6.8-.4 2-1 2.3-2.4.5-6 .6c-3.5.1-7.5-.4-8-.6-.7-.3-1-1.2-1-1.2s-.5-.1-1.6-.3-1.9-.2-1.9-.2-14 18.8-25.3 34.6c-11.4 15.9-18.7 25.1-18.7 25.1s-.7-.2-.9 0c-.2.3-.5.8-.9.8s-.9.1-.9.1-3.3 2.4-4.1 2.5c-1 .1-.7-.9-.7-.9zm8.5-190L77 10.9l-.2.1 1.3 1.8zm2.6 3.7L78.5 13l-.2.2 2.4 3.5zm2.6 3.7l-2.5-3.5-.2.1 2.4 3.5zm3.3 4.6l-3.2-4.4-.2.1 3.2 4.5zm3 4.3L87.1 25l-.2.1 2.9 4.1zm3.1 4.4l-2.9-4.1-.2.1 2.9 4.1zm3.2 4.4l-3-4.3-.2.2 3 4.3zm3.2 4.6l-3.1-4.3-.2.2 3 4.3zm3.2 4.5l-3-4.3-.2.1 3 4.3zm3.1 4.4l-3-4.3-.2.1 3 4.3zm3.1 4.3l-2.9-4.1-.2.1 2.9 4.1zm3 4.2l-2.9-4.1-.2.1 2.9 4.1zm3.6 5.1l-3.4-4.8-.2.1 3.4 4.8zm.9 1.3l-.8-1.1-.2.1.8 1.1zm3 4.1l-2.8-3.9-.2.1 2.8 4zm0 69.1l-.2-.1-2.8 4 .2.1zm-3 4.1l-.2-.1-.8 1.1.2.1zm-.9 1.4l-.2-.1-3.4 4.8.2.1zm-3.6 5l-.2-.1-2.9 4.1.2.1zm-3 4.3l-.2-.1-2.9 4.1.2.1zm-3.1 4.2l-.2-.1-3 4.3.2.1zm-3.1 4.5l-.2-.1-3 4.2.2.1zm-3.2 4.5l-.2-.1-3 4.3.2.2zm-3.2 4.5l-.2-.2-3 4.3.2.1zm-3.2 4.5l-.2-.1-2.9 4.1.2.1zm-3.1 4.3l-.2-.1-2.9 4.1.2.1zm-3 4.3l-.2-.1-3.2 4.5.2.1zm-3.3 4.7l-.2-.1-2.4 3.5.2.1zm-2.6 3.7l-.2-.1-2.4 3.5.2.2zm-2.6 3.6l-.2-.2-1.3 1.8.1.3z\" fill=\"#faa718\"></path></svg></div><div class=\"past-upcoming-flights__Airport-s1haoxfm-4 fjoBOD past-upcoming-flights__StyledInfo-s1haoxfm-3 hclaTo\"><div class=\"past-upcoming-flights__TextHelper-s1haoxfm-2 ceqiFt\">MAD</div><div class=\"past-upcoming-flights__TextHelper-s1haoxfm-2 ieHvs\">Madrid</div></div><div class=\"past-upcoming-flights__TimeGroupContainer-s1haoxfm-5 dnaKQQ past-upcoming-flights__StyledInfo-s1haoxfm-3 hclaTo\"><div class=\"past-upcoming-flights__TextHelper-s1haoxfm-2 hxawCE\">00:10<span class=\"past-upcoming-flights__TimeSuffix-s1haoxfm-6 dQHMCy\"> CEST</span></div></div></a></div></div><div class=\"tabs-content__Panel-rymvp0-5 golHFI\"><div class=\"tabs-content__FadeInDiv-rymvp0-7 clShQb\"><div class=\"past-upcoming-flights__TextHelper-s1haoxfm-2 htEwxh\">Flights for Friday, 17-May-2019</div><div class=\"past-upcoming-flights__NoFlightText-s1haoxfm-11 chdSQy past-upcoming-flights__TextHelper-s1haoxfm-2 dxmetu\">No Flight Information Available</div><div class=\"past-upcoming-flights__NoFlightText-s1haoxfm-11 chdSQy past-upcoming-flights__TextHelper-s1haoxfm-2 FuHQL\">According to our data, this flight  is not scheduled to fly on this date</div></div></div></div></div></div></div><div class=\"layout-row__RowWrapper-s1uoco8s-0 dcdOHa\"><div class=\"layout-row__SectionContainer-s1uoco8s-2 iSGoko\"><div class=\"layout-row__TitleWrapper-s1uoco8s-3 jFgNNO\"><h2 class=\"layout-row__Title-s1uoco8s-4 bRoHMJ\">Mobile Applications for the Active Traveler</h2></div><div><div class=\"layout-row__RowInner-s1uoco8s-1 byoaAa\"><div class=\"mobile-apps-ad__MobileAdContainer-u4xl7b-1 eFskjy\"><div class=\"mobile-apps-ad__LeftColumn-u4xl7b-2 KouPz\"><div class=\"mobile-apps-ad__PhonesImage-u4xl7b-3 kOcurG\"></div></div><div class=\"mobile-apps-ad__RightColumn-u4xl7b-4 RqKHL\"><div class=\"mobile-apps-ad__TextBlock-u4xl7b-5 bXGCrF\"><h3 class=\"mobile-apps-ad__LargerHeading-u4xl7b-6 bkHDHH\">Over 9 million people have downloaded our FlightStats mobile apps!</h3><h4 class=\"mobile-apps-ad__SmallerHeading-u4xl7b-7 hkZTPf\">try it out today!</h4></div><div class=\"mobile-apps-ad__Logos-u4xl7b-8 dgygvu\"><a class=\"mobile-apps-ad__MobileLink-u4xl7b-0 kmrOHE\" href=\"https://itunes.apple.com/app/apple-store/id572700574?pt=604413&amp;ct=flightstats.com&amp;mt=8\"><svg width=\"120px\" height=\"40px\" xmlns=\"http://www.w3.org/2000/svg\"><path d=\"M110.135 0H9.535c-.367 0-.73 0-1.095.002-.306.002-.61.008-.919.013A13.215 13.215 0 0 0 5.517.19a6.665 6.665 0 0 0-1.9.627 6.438 6.438 0 0 0-1.62 1.18A6.258 6.258 0 0 0 .82 3.617 6.601 6.601 0 0 0 .195 5.52a12.993 12.993 0 0 0-.179 2.002c-.01.307-.01.615-.015.921V31.56c.005.31.006.61.015.921a12.992 12.992 0 0 0 .18 2.002 6.588 6.588 0 0 0 .624 1.905A6.208 6.208 0 0 0 1.998 38a6.274 6.274 0 0 0 1.618 1.179 6.7 6.7 0 0 0 1.901.63 13.455 13.455 0 0 0 2.004.177c.31.007.613.011.919.011.366.002.728.002 1.095.002h100.6c.36 0 .724 0 1.084-.002.304 0 .617-.004.922-.01a13.279 13.279 0 0 0 2-.178 6.804 6.804 0 0 0 1.908-.63A6.277 6.277 0 0 0 117.666 38a6.395 6.395 0 0 0 1.182-1.614 6.604 6.604 0 0 0 .619-1.905 13.506 13.506 0 0 0 .185-2.002c.004-.31.004-.61.004-.921.008-.364.008-.725.008-1.094V9.536c0-.366 0-.73-.008-1.092 0-.306 0-.614-.004-.92a13.507 13.507 0 0 0-.185-2.003 6.618 6.618 0 0 0-.62-1.903 6.466 6.466 0 0 0-2.798-2.8 6.768 6.768 0 0 0-1.908-.627 13.044 13.044 0 0 0-2-.176c-.305-.005-.618-.011-.922-.013-.36-.002-.725-.002-1.084-.002z\" fill=\"#a6a6a6\"></path><path d=\"M8.445 39.125c-.305 0-.602-.004-.904-.01a12.687 12.687 0 0 1-1.87-.164 5.884 5.884 0 0 1-1.656-.548 5.406 5.406 0 0 1-1.397-1.016 5.32 5.32 0 0 1-1.02-1.397 5.722 5.722 0 0 1-.544-1.657 12.414 12.414 0 0 1-.166-1.875c-.007-.21-.015-.913-.015-.913v-23.1s.009-.692.015-.895a12.37 12.37 0 0 1 .165-1.872 5.755 5.755 0 0 1 .544-1.662 5.373 5.373 0 0 1 1.015-1.398 5.565 5.565 0 0 1 1.402-1.023 5.823 5.823 0 0 1 1.653-.544A12.586 12.586 0 0 1 7.543.887l.902-.012h102.769l.913.013a12.385 12.385 0 0 1 1.858.162 5.938 5.938 0 0 1 1.671.548 5.594 5.594 0 0 1 2.415 2.42 5.763 5.763 0 0 1 .535 1.649 12.995 12.995 0 0 1 .174 1.887c.003.283.003.588.003.89.008.375.008.732.008 1.092v20.929c0 .363 0 .718-.008 1.075 0 .325 0 .623-.004.93a12.731 12.731 0 0 1-.17 1.853 5.739 5.739 0 0 1-.54 1.67 5.48 5.48 0 0 1-1.016 1.386 5.413 5.413 0 0 1-1.4 1.022 5.862 5.862 0 0 1-1.668.55 12.542 12.542 0 0 1-1.869.163c-.293.007-.6.011-.897.011l-1.084.002z\"></path><path d=\"M24.769 20.3a4.949 4.949 0 0 1 2.356-4.151 5.066 5.066 0 0 0-3.99-2.158c-1.68-.176-3.308 1.005-4.164 1.005-.872 0-2.19-.988-3.608-.958a5.315 5.315 0 0 0-4.473 2.728c-1.934 3.348-.491 8.269 1.361 10.976.927 1.325 2.01 2.805 3.428 2.753 1.387-.058 1.905-.885 3.58-.885 1.658 0 2.144.885 3.59.852 1.489-.025 2.426-1.332 3.32-2.67a10.962 10.962 0 0 0 1.52-3.092 4.782 4.782 0 0 1-2.92-4.4zm-2.732-8.09a4.872 4.872 0 0 0 1.115-3.49 4.957 4.957 0 0 0-3.208 1.66 4.636 4.636 0 0 0-1.144 3.36 4.1 4.1 0 0 0 3.237-1.53zm20.265 14.93H37.57l-1.137 3.356h-2.005l4.484-12.418h2.083l4.483 12.418h-2.039zm-4.243-1.55h3.752l-1.85-5.446h-.051zm17.101.38c0 2.813-1.506 4.62-3.779 4.62a3.07 3.07 0 0 1-2.848-1.583h-.043v4.484h-1.86V21.442h1.8v1.506h.033a3.212 3.212 0 0 1 2.883-1.6c2.298 0 3.813 1.816 3.813 4.622zm-1.91 0c0-1.833-.948-3.038-2.393-3.038-1.42 0-2.375 1.23-2.375 3.038 0 1.824.955 3.046 2.375 3.046 1.445 0 2.393-1.197 2.393-3.046zm11.875 0c0 2.813-1.506 4.62-3.779 4.62a3.07 3.07 0 0 1-2.848-1.583h-.043v4.484h-1.859V21.442h1.799v1.506h.034a3.212 3.212 0 0 1 2.883-1.6c2.298 0 3.813 1.816 3.813 4.622zm-1.91 0c0-1.833-.948-3.038-2.393-3.038-1.42 0-2.375 1.23-2.375 3.038 0 1.824.955 3.046 2.375 3.046 1.445 0 2.392-1.197 2.392-3.046zm8.495 1.066c.138 1.232 1.334 2.04 2.97 2.04 1.566 0 2.693-.808 2.693-1.919 0-.964-.68-1.54-2.29-1.936l-1.609-.388c-2.28-.55-3.339-1.617-3.339-3.348 0-2.142 1.867-3.614 4.519-3.614 2.624 0 4.423 1.472 4.483 3.614h-1.876c-.112-1.239-1.136-1.987-2.634-1.987s-2.521.757-2.521 1.858c0 .878.654 1.395 2.255 1.79l1.368.336c2.548.603 3.606 1.626 3.606 3.443 0 2.323-1.85 3.778-4.793 3.778-2.754 0-4.614-1.42-4.734-3.667zM83.346 19.3v2.142h1.722v1.472h-1.722v4.991c0 .776.345 1.137 1.102 1.137a5.808 5.808 0 0 0 .611-.043v1.463a5.104 5.104 0 0 1-1.032.086c-1.833 0-2.548-.689-2.548-2.445v-5.189h-1.316v-1.472h1.316V19.3zm2.719 6.67c0-2.849 1.678-4.639 4.294-4.639 2.625 0 4.295 1.79 4.295 4.639 0 2.856-1.661 4.638-4.295 4.638-2.633 0-4.294-1.782-4.294-4.638zm6.695 0c0-1.954-.895-3.108-2.401-3.108s-2.4 1.162-2.4 3.108c0 1.962.894 3.106 2.4 3.106s2.401-1.144 2.401-3.106zm3.426-4.528h1.773v1.541h.043a2.16 2.16 0 0 1 2.177-1.635 2.866 2.866 0 0 1 .637.069v1.738a2.598 2.598 0 0 0-.835-.112 1.873 1.873 0 0 0-1.937 2.083v5.37h-1.858zm13.198 6.395c-.25 1.643-1.85 2.771-3.898 2.771-2.634 0-4.269-1.764-4.269-4.595 0-2.84 1.644-4.682 4.19-4.682 2.506 0 4.08 1.72 4.08 4.466v.637h-6.394v.112a2.358 2.358 0 0 0 2.436 2.564 2.048 2.048 0 0 0 2.09-1.273zm-6.282-2.702h4.526a2.177 2.177 0 0 0-2.22-2.298 2.292 2.292 0 0 0-2.306 2.298zM37.826 8.731a2.64 2.64 0 0 1 2.808 2.965c0 1.906-1.03 3.002-2.808 3.002h-2.155V8.73zm-1.228 5.123h1.125a1.876 1.876 0 0 0 1.967-2.146 1.881 1.881 0 0 0-1.967-2.134h-1.125zm5.082-1.41a2.133 2.133 0 1 1 4.248 0 2.134 2.134 0 1 1-4.247 0zm3.334 0c0-.976-.439-1.547-1.208-1.547-.773 0-1.207.571-1.207 1.547 0 .984.434 1.55 1.207 1.55.77 0 1.208-.57 1.208-1.55zm6.559 2.254h-.922l-.93-3.317h-.07l-.927 3.317h-.913l-1.242-4.503h.902l.806 3.436h.067l.926-3.436h.852l.926 3.436h.07l.803-3.436h.889zm2.281-4.503h.855v.715h.066a1.348 1.348 0 0 1 1.344-.802 1.465 1.465 0 0 1 1.559 1.675v2.915h-.889v-2.692c0-.724-.314-1.084-.972-1.084a1.033 1.033 0 0 0-1.075 1.141v2.635h-.888zm5.24-1.758h.888v6.26h-.888zm2.124 4.007a2.133 2.133 0 1 1 4.247 0 2.134 2.134 0 1 1-4.247 0zm3.333 0c0-.976-.439-1.547-1.208-1.547-.773 0-1.207.571-1.207 1.547 0 .984.434 1.55 1.207 1.55.77 0 1.208-.57 1.208-1.55zm1.849.98c0-.81.604-1.278 1.676-1.344l1.22-.07v-.389c0-.475-.315-.744-.922-.744-.497 0-.84.182-.939.5h-.86c.09-.773.818-1.27 1.84-1.27 1.128 0 1.765.563 1.765 1.514v3.077h-.855v-.633h-.07a1.515 1.515 0 0 1-1.353.707 1.36 1.36 0 0 1-1.501-1.348zm2.895-.384v-.377l-1.1.07c-.62.042-.9.253-.9.65 0 .405.351.64.834.64a1.062 1.062 0 0 0 1.166-.983zm2.053-.596c0-1.423.732-2.324 1.87-2.324a1.484 1.484 0 0 1 1.38.79h.067V8.437h.888v6.26h-.851v-.71h-.07a1.563 1.563 0 0 1-1.415.785c-1.145 0-1.869-.901-1.869-2.328zm.918 0c0 .955.45 1.53 1.203 1.53.75 0 1.212-.583 1.212-1.526 0-.938-.468-1.53-1.212-1.53-.748 0-1.203.58-1.203 1.526zm6.964 0a2.133 2.133 0 1 1 4.247 0 2.134 2.134 0 1 1-4.247 0zm3.333 0c0-.976-.438-1.547-1.208-1.547-.772 0-1.207.571-1.207 1.547 0 .984.435 1.55 1.207 1.55.77 0 1.208-.57 1.208-1.55zm2.107-2.249h.855v.715h.066a1.348 1.348 0 0 1 1.344-.802 1.465 1.465 0 0 1 1.559 1.675v2.915h-.889v-2.692c0-.724-.314-1.084-.972-1.084a1.033 1.033 0 0 0-1.075 1.141v2.635h-.889zm8.845-1.121v1.141h.976v.749h-.976v2.315c0 .472.194.679.637.679a2.967 2.967 0 0 0 .339-.021v.74a2.916 2.916 0 0 1-.484.046c-.988 0-1.381-.348-1.381-1.216v-2.543h-.715v-.749h.715V9.074zm2.19-.637h.88v2.481h.07a1.386 1.386 0 0 1 1.374-.806 1.483 1.483 0 0 1 1.55 1.679v2.907h-.889V12.01c0-.72-.335-1.084-.963-1.084a1.052 1.052 0 0 0-1.134 1.142v2.63h-.888zm9.056 5.045a1.828 1.828 0 0 1-1.95 1.303 2.045 2.045 0 0 1-2.081-2.325 2.077 2.077 0 0 1 2.076-2.352c1.253 0 2.009.856 2.009 2.27v.31h-3.18v.05a1.19 1.19 0 0 0 1.2 1.29 1.08 1.08 0 0 0 1.07-.546zm-3.126-1.451h2.275a1.086 1.086 0 0 0-1.109-1.167 1.152 1.152 0 0 0-1.166 1.167z\" fill=\"#fff\"></path></svg></a><a class=\"mobile-apps-ad__MobileLink-u4xl7b-0 kmrOHE\" href=\"https://play.google.com/store/apps/details?id=com.conducivetech.android.traveler\"><svg width=\"140px\" height=\"40px\" viewBox=\"10 10 135 40\" xmlns=\"http://www.w3.org/2000/svg\"><linearGradient id=\"a\" gradientTransform=\"matrix(1 0 0 -1 0 202)\" gradientUnits=\"userSpaceOnUse\" x1=\"31.8\" x2=\"15.02\" y1=\"183.29\" y2=\"166.51\"><stop offset=\"0\" stop-color=\"#00a0ff\"></stop><stop offset=\".01\" stop-color=\"#00a1ff\"></stop><stop offset=\".26\" stop-color=\"#00beff\"></stop><stop offset=\".51\" stop-color=\"#00d2ff\"></stop><stop offset=\".76\" stop-color=\"#00dfff\"></stop><stop offset=\"1\" stop-color=\"#00e3ff\"></stop></linearGradient><linearGradient id=\"b\" gradientTransform=\"matrix(1 0 0 -1 0 202)\" gradientUnits=\"userSpaceOnUse\" x1=\"43.83\" x2=\"19.64\" y1=\"172\" y2=\"172\"><stop offset=\"0\" stop-color=\"#ffe000\"></stop><stop offset=\".41\" stop-color=\"#ffbd00\"></stop><stop offset=\".78\" stop-color=\"orange\"></stop><stop offset=\"1\" stop-color=\"#ff9c00\"></stop></linearGradient><linearGradient id=\"c\" gradientTransform=\"matrix(1 0 0 -1 0 202)\" gradientUnits=\"userSpaceOnUse\" x1=\"34.83\" x2=\"12.07\" y1=\"169.7\" y2=\"146.95\"><stop offset=\"0\" stop-color=\"#ff3a44\"></stop><stop offset=\"1\" stop-color=\"#c31162\"></stop></linearGradient><linearGradient id=\"d\" gradientTransform=\"matrix(1 0 0 -1 0 202)\" gradientUnits=\"userSpaceOnUse\" x1=\"17.3\" x2=\"27.46\" y1=\"191.82\" y2=\"181.66\"><stop offset=\"0\" stop-color=\"#32a071\"></stop><stop offset=\".07\" stop-color=\"#2da771\"></stop><stop offset=\".48\" stop-color=\"#15cf74\"></stop><stop offset=\".8\" stop-color=\"#06e775\"></stop><stop offset=\"1\" stop-color=\"#00f076\"></stop></linearGradient><path d=\"M0 0h155v60H0z\" fill=\"none\"></path><rect height=\"40\" rx=\"5\" width=\"135\" x=\"10\" y=\"10\"></rect><path d=\"M140 10.8a4.2 4.2 0 0 1 4.2 4.2v30a4.2 4.2 0 0 1-4.2 4.2H15a4.2 4.2 0 0 1-4.2-4.2V15a4.2 4.2 0 0 1 4.2-4.2zm0-.8H15a5 5 0 0 0-5 5v30a5 5 0 0 0 5 5h125a5 5 0 0 0 5-5V15a5 5 0 0 0-5-5z\" fill=\"#a6a6a6\"></path><path d=\"M57.42 20.24a2.71 2.71 0 0 1-.75 2 2.91 2.91 0 0 1-2.2.89 3.15 3.15 0 0 1-2.21-5.37 3 3 0 0 1 2.21-.9 3.1 3.1 0 0 1 1.23.25 2.47 2.47 0 0 1 .94.67l-.53.53a2 2 0 0 0-1.64-.71 2.32 2.32 0 0 0-2.33 2.4 2.36 2.36 0 0 0 4 1.73 1.89 1.89 0 0 0 .5-1.22h-2.17v-.72h2.91a2.54 2.54 0 0 1 .04.45zm4.58-2.5h-2.7v1.9h2.46v.72H59.3v1.9H62V23h-3.5v-6H62zM65.28 23h-.77v-5.26h-1.68V17H67v.74h-1.72zm4.66 0v-6h.77v6zm4.19 0h-.77v-5.26h-1.68V17h4.12v.74h-1.67zm9.48-.78a3.12 3.12 0 0 1-4.4 0 3.24 3.24 0 0 1 0-4.45 3.1 3.1 0 0 1 4.4 0 3.23 3.23 0 0 1 0 4.45zm-3.83-.5a2.31 2.31 0 0 0 3.26 0 2.56 2.56 0 0 0 0-3.44 2.31 2.31 0 0 0-3.26 0 2.56 2.56 0 0 0 0 3.44zm5.8 1.28v-6h.94l2.92 4.67V17h.77v6h-.8l-3.05-4.89V23z\" fill=\"#fff\" stroke=\"#fff\" stroke-miterlimit=\"10\" stroke-width=\".2\"></path><path d=\"M78.14 31.75A4.25 4.25 0 1 0 82.41 36a4.19 4.19 0 0 0-4.27-4.25zm0 6.83a2.58 2.58 0 1 1 2.4-2.58 2.46 2.46 0 0 1-2.4 2.58zm-9.31-6.83A4.25 4.25 0 1 0 73.09 36a4.19 4.19 0 0 0-4.27-4.25zm0 6.83A2.58 2.58 0 1 1 71.22 36a2.46 2.46 0 0 1-2.4 2.58zm-11.09-5.52v1.8h4.32a3.77 3.77 0 0 1-1 2.27 4.42 4.42 0 0 1-3.33 1.32 4.8 4.8 0 0 1 0-9.6A4.6 4.6 0 0 1 61 30.14l1.27-1.27A6.29 6.29 0 0 0 57.74 27a6.61 6.61 0 1 0 0 13.21 6 6 0 0 0 4.61-1.85 6 6 0 0 0 1.56-4.22 5.87 5.87 0 0 0-.1-1.13zm45.31 1.4a4 4 0 0 0-3.64-2.71 4 4 0 0 0-4 4.25 4.16 4.16 0 0 0 4.22 4.25 4.23 4.23 0 0 0 3.54-1.88l-1.45-1a2.43 2.43 0 0 1-2.09 1.18 2.16 2.16 0 0 1-2.06-1.29l5.69-2.35zm-5.8 1.42a2.33 2.33 0 0 1 2.22-2.48 1.65 1.65 0 0 1 1.58.9zM92.63 40h1.87V27.5h-1.87zm-3.06-7.3h-.07a3 3 0 0 0-2.24-1 4.26 4.26 0 0 0 0 8.51 2.9 2.9 0 0 0 2.24-1h.06v.61c0 1.63-.87 2.5-2.27 2.5a2.35 2.35 0 0 1-2.14-1.51l-1.63.68A4.05 4.05 0 0 0 87.29 44c2.19 0 4-1.29 4-4.43V32h-1.72zm-2.14 5.88a2.59 2.59 0 0 1 0-5.16A2.4 2.4 0 0 1 89.7 36a2.38 2.38 0 0 1-2.28 2.58zm24.38-11.08h-4.47V40h1.87v-4.74h2.61a3.89 3.89 0 1 0 0-7.76zm0 6h-2.61v-4.26h2.65a2.14 2.14 0 1 1 0 4.29zm11.53-1.8a3.5 3.5 0 0 0-3.33 1.91l1.66.69a1.77 1.77 0 0 1 1.7-.92 1.8 1.8 0 0 1 2 1.61v.13a4.13 4.13 0 0 0-1.95-.48c-1.79 0-3.6 1-3.6 2.81a2.89 2.89 0 0 0 3.1 2.75 2.63 2.63 0 0 0 2.4-1.2h.06v1h1.8v-4.81c0-2.19-1.66-3.46-3.79-3.46zm-.23 6.85c-.61 0-1.46-.31-1.46-1.06 0-1 1.06-1.33 2-1.33a3.32 3.32 0 0 1 1.7.42 2.26 2.26 0 0 1-2.19 2zM133.74 32l-2.14 5.42h-.06L129.32 32h-2l3.33 7.58-1.9 4.21h1.95L135.82 32zm-16.81 8h1.87V27.5h-1.87z\" fill=\"#fff\"></path><path d=\"M20.44 17.54a2 2 0 0 0-.46 1.4v22.12a2 2 0 0 0 .46 1.4l.07.07L32.9 30.15v-.29L20.51 17.47z\" fill=\"url(#a)\"></path><path d=\"M37 34.28l-4.1-4.13v-.29l4.1-4.14.09.05L42 28.56c1.4.79 1.4 2.09 0 2.89l-4.89 2.78z\" fill=\"url(#b)\"></path><path d=\"M37.12 34.22L32.9 30 20.44 42.46a1.63 1.63 0 0 0 2.08.06l14.61-8.3\" fill=\"url(#c)\"></path><path d=\"M37.12 25.78l-14.61-8.3a1.63 1.63 0 0 0-2.08.06L32.9 30z\" fill=\"url(#d)\"></path><path d=\"M37 34.13l-14.49 8.25a1.67 1.67 0 0 1-2 0l-.07.07.07.07a1.66 1.66 0 0 0 2 0l14.61-8.3z\" opacity=\".2\"></path><path d=\"M20.44 42.32a2 2 0 0 1-.46-1.4v.15a2 2 0 0 0 .46 1.4l.07-.07zM42 31.3l-5 2.83.09.09L42 31.44A1.75 1.75 0 0 0 43 30a1.86 1.86 0 0 1-1 1.3z\" opacity=\".12\"></path><path d=\"M22.51 17.62L42 28.7a1.86 1.86 0 0 1 1 1.3 1.75 1.75 0 0 0-1-1.44L22.51 17.48c-1.4-.79-2.54-.13-2.54 1.47v.15c.03-1.61 1.15-2.27 2.54-1.48z\" fill=\"#fff\" opacity=\".25\"></path></svg></a></div></div></div></div></div></div></div></section>"
   ]
  },
  {
   "cell_type": "code",
   "execution_count": null,
   "metadata": {},
   "outputs": [],
   "source": []
  },
  {
   "cell_type": "markdown",
   "metadata": {},
   "source": [
    "#### Testing area"
   ]
  },
  {
   "cell_type": "code",
   "execution_count": 17,
   "metadata": {},
   "outputs": [],
   "source": [
    "testing_series1 = pd.Series(\"https://www.flightstats.com/v2\" + h6_main_flights_df['url'])"
   ]
  },
  {
   "cell_type": "code",
   "execution_count": 20,
   "metadata": {},
   "outputs": [
    {
     "data": {
      "text/plain": [
       "'https://www.flightstats.com/v2/flight-tracker/IB/6824?year=2019&month=5&date=9&flightId=999202946'"
      ]
     },
     "execution_count": 20,
     "metadata": {},
     "output_type": "execute_result"
    }
   ],
   "source": [
    "testing_series1.loc[0]"
   ]
  },
  {
   "cell_type": "code",
   "execution_count": 21,
   "metadata": {},
   "outputs": [
    {
     "data": {
      "text/plain": [
       "Index(['airport.city', 'airport.fs', 'arrivalTime.time24',\n",
       "       'arrivalTime.timeAMPM', 'carrier.flightNumber', 'carrier.fs',\n",
       "       'carrier.name', 'departureTime.time24', 'departureTime.timeAMPM',\n",
       "       'isCodeshare', 'operatedBy', 'sortTime', 'url'],\n",
       "      dtype='object')"
      ]
     },
     "execution_count": 21,
     "metadata": {},
     "output_type": "execute_result"
    }
   ],
   "source": [
    "h0_main_flights_df.columns"
   ]
  },
  {
   "cell_type": "code",
   "execution_count": null,
   "metadata": {},
   "outputs": [],
   "source": []
  },
  {
   "cell_type": "code",
   "execution_count": null,
   "metadata": {},
   "outputs": [],
   "source": []
  },
  {
   "cell_type": "code",
   "execution_count": null,
   "metadata": {},
   "outputs": [],
   "source": []
  },
  {
   "cell_type": "markdown",
   "metadata": {},
   "source": [
    "web_response = session.get(url_address)"
   ]
  },
  {
   "cell_type": "markdown",
   "metadata": {},
   "source": [
    "flight_section = web_response.html.find(\"section\")"
   ]
  },
  {
   "cell_type": "markdown",
   "metadata": {},
   "source": [
    "table_of_flights = flights_section[-1].find(\"a\")"
   ]
  },
  {
   "cell_type": "markdown",
   "metadata": {},
   "source": [
    "print(flights_section[-1])"
   ]
  },
  {
   "cell_type": "markdown",
   "metadata": {},
   "source": [
    "fl_group = []\n",
    "for row in table_of_flights:\n",
    "    splitted_text = row.text.split(\"\\n\")\n",
    "    if len(splitted_text) == 6:\n",
    "        try:\n",
    "            fl_group[splitted_text[0]] = list(row.absolute_links)\n",
    "        except:\n",
    "            print(\"Unable to print this row.\")\n",
    "        "
   ]
  },
  {
   "cell_type": "markdown",
   "metadata": {},
   "source": [
    "print(\"Splitted text:\", splitted_text)"
   ]
  },
  {
   "cell_type": "markdown",
   "metadata": {},
   "source": [
    "print(\"Length of splitted text:\", len(splitted_text))"
   ]
  },
  {
   "cell_type": "markdown",
   "metadata": {},
   "source": [
    "print(\"Link 'row':\", row.absolute_links)"
   ]
  },
  {
   "cell_type": "markdown",
   "metadata": {},
   "source": [
    "print(len(table_of_flights))"
   ]
  },
  {
   "cell_type": "code",
   "execution_count": 161,
   "metadata": {},
   "outputs": [],
   "source": [
    "import datetime"
   ]
  },
  {
   "cell_type": "code",
   "execution_count": 162,
   "metadata": {},
   "outputs": [
    {
     "data": {
      "text/plain": [
       "['MAXYEAR',\n",
       " 'MINYEAR',\n",
       " '__builtins__',\n",
       " '__cached__',\n",
       " '__doc__',\n",
       " '__file__',\n",
       " '__loader__',\n",
       " '__name__',\n",
       " '__package__',\n",
       " '__spec__',\n",
       " 'date',\n",
       " 'datetime',\n",
       " 'datetime_CAPI',\n",
       " 'sys',\n",
       " 'time',\n",
       " 'timedelta',\n",
       " 'timezone',\n",
       " 'tzinfo']"
      ]
     },
     "execution_count": 162,
     "metadata": {},
     "output_type": "execute_result"
    }
   ],
   "source": [
    "dir(datetime)"
   ]
  },
  {
   "cell_type": "code",
   "execution_count": 167,
   "metadata": {},
   "outputs": [
    {
     "name": "stdout",
     "output_type": "stream",
     "text": [
      "Help on class timedelta in module datetime:\n",
      "\n",
      "class timedelta(builtins.object)\n",
      " |  Difference between two datetime values.\n",
      " |  \n",
      " |  Methods defined here:\n",
      " |  \n",
      " |  __abs__(self, /)\n",
      " |      abs(self)\n",
      " |  \n",
      " |  __add__(self, value, /)\n",
      " |      Return self+value.\n",
      " |  \n",
      " |  __bool__(self, /)\n",
      " |      self != 0\n",
      " |  \n",
      " |  __divmod__(self, value, /)\n",
      " |      Return divmod(self, value).\n",
      " |  \n",
      " |  __eq__(self, value, /)\n",
      " |      Return self==value.\n",
      " |  \n",
      " |  __floordiv__(self, value, /)\n",
      " |      Return self//value.\n",
      " |  \n",
      " |  __ge__(self, value, /)\n",
      " |      Return self>=value.\n",
      " |  \n",
      " |  __getattribute__(self, name, /)\n",
      " |      Return getattr(self, name).\n",
      " |  \n",
      " |  __gt__(self, value, /)\n",
      " |      Return self>value.\n",
      " |  \n",
      " |  __hash__(self, /)\n",
      " |      Return hash(self).\n",
      " |  \n",
      " |  __le__(self, value, /)\n",
      " |      Return self<=value.\n",
      " |  \n",
      " |  __lt__(self, value, /)\n",
      " |      Return self<value.\n",
      " |  \n",
      " |  __mod__(self, value, /)\n",
      " |      Return self%value.\n",
      " |  \n",
      " |  __mul__(self, value, /)\n",
      " |      Return self*value.\n",
      " |  \n",
      " |  __ne__(self, value, /)\n",
      " |      Return self!=value.\n",
      " |  \n",
      " |  __neg__(self, /)\n",
      " |      -self\n",
      " |  \n",
      " |  __pos__(self, /)\n",
      " |      +self\n",
      " |  \n",
      " |  __radd__(self, value, /)\n",
      " |      Return value+self.\n",
      " |  \n",
      " |  __rdivmod__(self, value, /)\n",
      " |      Return divmod(value, self).\n",
      " |  \n",
      " |  __reduce__(...)\n",
      " |      __reduce__() -> (cls, state)\n",
      " |  \n",
      " |  __repr__(self, /)\n",
      " |      Return repr(self).\n",
      " |  \n",
      " |  __rfloordiv__(self, value, /)\n",
      " |      Return value//self.\n",
      " |  \n",
      " |  __rmod__(self, value, /)\n",
      " |      Return value%self.\n",
      " |  \n",
      " |  __rmul__(self, value, /)\n",
      " |      Return value*self.\n",
      " |  \n",
      " |  __rsub__(self, value, /)\n",
      " |      Return value-self.\n",
      " |  \n",
      " |  __rtruediv__(self, value, /)\n",
      " |      Return value/self.\n",
      " |  \n",
      " |  __str__(self, /)\n",
      " |      Return str(self).\n",
      " |  \n",
      " |  __sub__(self, value, /)\n",
      " |      Return self-value.\n",
      " |  \n",
      " |  __truediv__(self, value, /)\n",
      " |      Return self/value.\n",
      " |  \n",
      " |  total_seconds(...)\n",
      " |      Total seconds in the duration.\n",
      " |  \n",
      " |  ----------------------------------------------------------------------\n",
      " |  Static methods defined here:\n",
      " |  \n",
      " |  __new__(*args, **kwargs) from builtins.type\n",
      " |      Create and return a new object.  See help(type) for accurate signature.\n",
      " |  \n",
      " |  ----------------------------------------------------------------------\n",
      " |  Data descriptors defined here:\n",
      " |  \n",
      " |  days\n",
      " |      Number of days.\n",
      " |  \n",
      " |  microseconds\n",
      " |      Number of microseconds (>= 0 and less than 1 second).\n",
      " |  \n",
      " |  seconds\n",
      " |      Number of seconds (>= 0 and less than 1 day).\n",
      " |  \n",
      " |  ----------------------------------------------------------------------\n",
      " |  Data and other attributes defined here:\n",
      " |  \n",
      " |  max = datetime.timedelta(days=999999999, seconds=86399, microseconds=9...\n",
      " |  \n",
      " |  min = datetime.timedelta(days=-999999999)\n",
      " |  \n",
      " |  resolution = datetime.timedelta(microseconds=1)\n",
      "\n"
     ]
    }
   ],
   "source": [
    "help(datetime.timedelta)"
   ]
  },
  {
   "cell_type": "code",
   "execution_count": 166,
   "metadata": {
    "scrolled": true
   },
   "outputs": [
    {
     "data": {
      "text/plain": [
       "['__breakpointhook__',\n",
       " '__displayhook__',\n",
       " '__doc__',\n",
       " '__excepthook__',\n",
       " '__interactivehook__',\n",
       " '__loader__',\n",
       " '__name__',\n",
       " '__package__',\n",
       " '__spec__',\n",
       " '__stderr__',\n",
       " '__stdin__',\n",
       " '__stdout__',\n",
       " '_clear_type_cache',\n",
       " '_current_frames',\n",
       " '_debugmallocstats',\n",
       " '_enablelegacywindowsfsencoding',\n",
       " '_framework',\n",
       " '_getframe',\n",
       " '_git',\n",
       " '_home',\n",
       " '_xoptions',\n",
       " 'api_version',\n",
       " 'argv',\n",
       " 'base_exec_prefix',\n",
       " 'base_prefix',\n",
       " 'breakpointhook',\n",
       " 'builtin_module_names',\n",
       " 'byteorder',\n",
       " 'call_tracing',\n",
       " 'callstats',\n",
       " 'copyright',\n",
       " 'displayhook',\n",
       " 'dllhandle',\n",
       " 'dont_write_bytecode',\n",
       " 'exc_info',\n",
       " 'excepthook',\n",
       " 'exec_prefix',\n",
       " 'executable',\n",
       " 'exit',\n",
       " 'flags',\n",
       " 'float_info',\n",
       " 'float_repr_style',\n",
       " 'get_asyncgen_hooks',\n",
       " 'get_coroutine_origin_tracking_depth',\n",
       " 'get_coroutine_wrapper',\n",
       " 'getallocatedblocks',\n",
       " 'getcheckinterval',\n",
       " 'getdefaultencoding',\n",
       " 'getfilesystemencodeerrors',\n",
       " 'getfilesystemencoding',\n",
       " 'getprofile',\n",
       " 'getrecursionlimit',\n",
       " 'getrefcount',\n",
       " 'getsizeof',\n",
       " 'getswitchinterval',\n",
       " 'gettrace',\n",
       " 'getwindowsversion',\n",
       " 'hash_info',\n",
       " 'hexversion',\n",
       " 'implementation',\n",
       " 'int_info',\n",
       " 'intern',\n",
       " 'is_finalizing',\n",
       " 'last_traceback',\n",
       " 'last_type',\n",
       " 'last_value',\n",
       " 'maxsize',\n",
       " 'maxunicode',\n",
       " 'meta_path',\n",
       " 'modules',\n",
       " 'path',\n",
       " 'path_hooks',\n",
       " 'path_importer_cache',\n",
       " 'platform',\n",
       " 'prefix',\n",
       " 'ps1',\n",
       " 'ps2',\n",
       " 'ps3',\n",
       " 'set_asyncgen_hooks',\n",
       " 'set_coroutine_origin_tracking_depth',\n",
       " 'set_coroutine_wrapper',\n",
       " 'setcheckinterval',\n",
       " 'setprofile',\n",
       " 'setrecursionlimit',\n",
       " 'setswitchinterval',\n",
       " 'settrace',\n",
       " 'stderr',\n",
       " 'stdin',\n",
       " 'stdout',\n",
       " 'thread_info',\n",
       " 'version',\n",
       " 'version_info',\n",
       " 'warnoptions',\n",
       " 'winver']"
      ]
     },
     "execution_count": 166,
     "metadata": {},
     "output_type": "execute_result"
    }
   ],
   "source": [
    "dir(datetime.sys)"
   ]
  },
  {
   "cell_type": "code",
   "execution_count": 163,
   "metadata": {
    "scrolled": true
   },
   "outputs": [
    {
     "data": {
      "text/plain": [
       "['__add__',\n",
       " '__class__',\n",
       " '__delattr__',\n",
       " '__dir__',\n",
       " '__doc__',\n",
       " '__eq__',\n",
       " '__format__',\n",
       " '__ge__',\n",
       " '__getattribute__',\n",
       " '__gt__',\n",
       " '__hash__',\n",
       " '__init__',\n",
       " '__init_subclass__',\n",
       " '__le__',\n",
       " '__lt__',\n",
       " '__ne__',\n",
       " '__new__',\n",
       " '__radd__',\n",
       " '__reduce__',\n",
       " '__reduce_ex__',\n",
       " '__repr__',\n",
       " '__rsub__',\n",
       " '__setattr__',\n",
       " '__sizeof__',\n",
       " '__str__',\n",
       " '__sub__',\n",
       " '__subclasshook__',\n",
       " 'ctime',\n",
       " 'day',\n",
       " 'fromisoformat',\n",
       " 'fromordinal',\n",
       " 'fromtimestamp',\n",
       " 'isocalendar',\n",
       " 'isoformat',\n",
       " 'isoweekday',\n",
       " 'max',\n",
       " 'min',\n",
       " 'month',\n",
       " 'replace',\n",
       " 'resolution',\n",
       " 'strftime',\n",
       " 'timetuple',\n",
       " 'today',\n",
       " 'toordinal',\n",
       " 'weekday',\n",
       " 'year']"
      ]
     },
     "execution_count": 163,
     "metadata": {},
     "output_type": "execute_result"
    }
   ],
   "source": [
    "dir(datetime.date)"
   ]
  },
  {
   "cell_type": "code",
   "execution_count": 164,
   "metadata": {
    "scrolled": true
   },
   "outputs": [
    {
     "data": {
      "text/plain": [
       "['__class__',\n",
       " '__delattr__',\n",
       " '__dir__',\n",
       " '__doc__',\n",
       " '__eq__',\n",
       " '__format__',\n",
       " '__ge__',\n",
       " '__getattribute__',\n",
       " '__gt__',\n",
       " '__hash__',\n",
       " '__init__',\n",
       " '__init_subclass__',\n",
       " '__le__',\n",
       " '__lt__',\n",
       " '__ne__',\n",
       " '__new__',\n",
       " '__reduce__',\n",
       " '__reduce_ex__',\n",
       " '__repr__',\n",
       " '__setattr__',\n",
       " '__sizeof__',\n",
       " '__str__',\n",
       " '__subclasshook__',\n",
       " 'dst',\n",
       " 'fold',\n",
       " 'fromisoformat',\n",
       " 'hour',\n",
       " 'isoformat',\n",
       " 'max',\n",
       " 'microsecond',\n",
       " 'min',\n",
       " 'minute',\n",
       " 'replace',\n",
       " 'resolution',\n",
       " 'second',\n",
       " 'strftime',\n",
       " 'tzinfo',\n",
       " 'tzname',\n",
       " 'utcoffset']"
      ]
     },
     "execution_count": 164,
     "metadata": {},
     "output_type": "execute_result"
    }
   ],
   "source": [
    "dir(datetime.time)"
   ]
  },
  {
   "cell_type": "code",
   "execution_count": 165,
   "metadata": {
    "scrolled": true
   },
   "outputs": [
    {
     "data": {
      "text/plain": [
       "['__add__',\n",
       " '__class__',\n",
       " '__delattr__',\n",
       " '__dir__',\n",
       " '__doc__',\n",
       " '__eq__',\n",
       " '__format__',\n",
       " '__ge__',\n",
       " '__getattribute__',\n",
       " '__gt__',\n",
       " '__hash__',\n",
       " '__init__',\n",
       " '__init_subclass__',\n",
       " '__le__',\n",
       " '__lt__',\n",
       " '__ne__',\n",
       " '__new__',\n",
       " '__radd__',\n",
       " '__reduce__',\n",
       " '__reduce_ex__',\n",
       " '__repr__',\n",
       " '__rsub__',\n",
       " '__setattr__',\n",
       " '__sizeof__',\n",
       " '__str__',\n",
       " '__sub__',\n",
       " '__subclasshook__',\n",
       " 'astimezone',\n",
       " 'combine',\n",
       " 'ctime',\n",
       " 'date',\n",
       " 'day',\n",
       " 'dst',\n",
       " 'fold',\n",
       " 'fromisoformat',\n",
       " 'fromordinal',\n",
       " 'fromtimestamp',\n",
       " 'hour',\n",
       " 'isocalendar',\n",
       " 'isoformat',\n",
       " 'isoweekday',\n",
       " 'max',\n",
       " 'microsecond',\n",
       " 'min',\n",
       " 'minute',\n",
       " 'month',\n",
       " 'now',\n",
       " 'replace',\n",
       " 'resolution',\n",
       " 'second',\n",
       " 'strftime',\n",
       " 'strptime',\n",
       " 'time',\n",
       " 'timestamp',\n",
       " 'timetuple',\n",
       " 'timetz',\n",
       " 'today',\n",
       " 'toordinal',\n",
       " 'tzinfo',\n",
       " 'tzname',\n",
       " 'utcfromtimestamp',\n",
       " 'utcnow',\n",
       " 'utcoffset',\n",
       " 'utctimetuple',\n",
       " 'weekday',\n",
       " 'year']"
      ]
     },
     "execution_count": 165,
     "metadata": {},
     "output_type": "execute_result"
    }
   ],
   "source": [
    "dir(datetime.datetime)"
   ]
  },
  {
   "cell_type": "code",
   "execution_count": null,
   "metadata": {},
   "outputs": [],
   "source": []
  }
 ],
 "metadata": {
  "kernelspec": {
   "display_name": "Python 3",
   "language": "python",
   "name": "python3"
  },
  "language_info": {
   "codemirror_mode": {
    "name": "ipython",
    "version": 3
   },
   "file_extension": ".py",
   "mimetype": "text/x-python",
   "name": "python",
   "nbconvert_exporter": "python",
   "pygments_lexer": "ipython3",
   "version": "3.7.3"
  }
 },
 "nbformat": 4,
 "nbformat_minor": 2
}
