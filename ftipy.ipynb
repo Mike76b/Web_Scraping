{
 "cells": [
  {
   "cell_type": "code",
   "execution_count": 1,
   "metadata": {},
   "outputs": [],
   "source": [
    "import requests\n",
    "import pandas as pd\n",
    "from requests_html import HTML, HTMLSession\n",
    "from pandas.io.json import json_normalize\n",
    "import datetime\n",
    "import time"
   ]
  },
  {
   "cell_type": "code",
   "execution_count": 2,
   "metadata": {},
   "outputs": [
    {
     "name": "stdout",
     "output_type": "stream",
     "text": [
      "2019/5/13/\n"
     ]
    }
   ],
   "source": [
    "curr = datetime.datetime.today()#.strftime('%Y/%m/%d')\n",
    "diff = datetime.timedelta(days = 2)\n",
    "result = curr - diff\n",
    "year = str(int(result.strftime('%Y/%m/%d')[:4]))\n",
    "month = str(int(result.strftime('%Y/%m/%d')[5:7]))\n",
    "day = str(int(result.strftime('%Y/%m/%d')[8:10]))\n",
    "print(f'{year}/{month}/{day}/')"
   ]
  },
  {
   "cell_type": "code",
   "execution_count": 3,
   "metadata": {},
   "outputs": [],
   "source": [
    "# second https://www.flightstats.com/v2/flight-tracker/IB/6824?year=2019&month=5&date=7"
   ]
  },
  {
   "cell_type": "code",
   "execution_count": 4,
   "metadata": {},
   "outputs": [],
   "source": [
    "base_url = 'https://www.flightstats.com/v2/api-next/flight-tracker/arr/MAD/'#2019/5/7/6'"
   ]
  },
  {
   "cell_type": "code",
   "execution_count": 5,
   "metadata": {},
   "outputs": [
    {
     "name": "stdout",
     "output_type": "stream",
     "text": [
      "['https://www.flightstats.com/v2/api-next/flight-tracker/arr/MAD/2019/5/13/0', 'https://www.flightstats.com/v2/api-next/flight-tracker/arr/MAD/2019/5/13/6', 'https://www.flightstats.com/v2/api-next/flight-tracker/arr/MAD/2019/5/13/12', 'https://www.flightstats.com/v2/api-next/flight-tracker/arr/MAD/2019/5/13/18']\n"
     ]
    }
   ],
   "source": [
    "current_date = datetime.datetime.today()\n",
    "back_in_time = current_date - datetime.timedelta(days = 2) # the queries dates must be two days before the current day.\n",
    "\n",
    "year = str(int(result.strftime('%Y/%m/%d')[:4]))\n",
    "month = str(int(result.strftime('%Y/%m/%d')[5:7]))\n",
    "day = str(int(result.strftime('%Y/%m/%d')[8:10]))\n",
    "\n",
    "date_of_query = f'{year}/{month}/{day}/'\n",
    "session = HTMLSession()\n",
    "headers = {'User-Agent': 'Mozilla/5.0 (Windows NT 10.0; Win64; x64) AppleWebKit/537.36 (KHTML, like Gecko) Chrome/73.0.3683.103 Safari/537.36'}\n",
    "url_list = []\n",
    "hours = (0, 6, 12, 18) # <-- hours groups values to iterate over.\n",
    "for hour in hours:\n",
    "    url_list.append(f'{base_url}{date_of_query}{str(hour)}')\n",
    "print(url_list)"
   ]
  },
  {
   "cell_type": "code",
   "execution_count": 6,
   "metadata": {},
   "outputs": [
    {
     "name": "stdout",
     "output_type": "stream",
     "text": [
      "2019-05-15 15:18:37.008452\n",
      "2019-05-15 15:19:25.911536\n"
     ]
    }
   ],
   "source": [
    "print(datetime.datetime.today())\n",
    "\n",
    "jsonData = requests.get(url_list[0], headers=headers).json()\n",
    "h0_full_json_df = json_normalize(jsonData['data']['flights'])\n",
    "time.sleep(5)\n",
    "\n",
    "jsonData = requests.get(url_list[1], headers=headers).json()\n",
    "h6_full_json_df = json_normalize(jsonData['data']['flights'])\n",
    "time.sleep(8)\n",
    "\n",
    "jsonData = requests.get(url_list[2], headers=headers).json()\n",
    "h12_full_json_df = json_normalize(jsonData['data']['flights'])\n",
    "time.sleep(6)\n",
    "\n",
    "jsonData = requests.get(url_list[3], headers=headers).json()\n",
    "h18_full_json_df = json_normalize(jsonData['data']['flights'])\n",
    "\n",
    "print(datetime.datetime.today())"
   ]
  },
  {
   "cell_type": "code",
   "execution_count": 7,
   "metadata": {
    "scrolled": true
   },
   "outputs": [
    {
     "name": "stdout",
     "output_type": "stream",
     "text": [
      "(28, 13)\n"
     ]
    },
    {
     "data": {
      "text/html": [
       "<div>\n",
       "<style scoped>\n",
       "    .dataframe tbody tr th:only-of-type {\n",
       "        vertical-align: middle;\n",
       "    }\n",
       "\n",
       "    .dataframe tbody tr th {\n",
       "        vertical-align: top;\n",
       "    }\n",
       "\n",
       "    .dataframe thead th {\n",
       "        text-align: right;\n",
       "    }\n",
       "</style>\n",
       "<table border=\"1\" class=\"dataframe\">\n",
       "  <thead>\n",
       "    <tr style=\"text-align: right;\">\n",
       "      <th></th>\n",
       "      <th>airport.city</th>\n",
       "      <th>airport.fs</th>\n",
       "      <th>arrivalTime.time24</th>\n",
       "      <th>arrivalTime.timeAMPM</th>\n",
       "      <th>carrier.flightNumber</th>\n",
       "      <th>carrier.fs</th>\n",
       "      <th>carrier.name</th>\n",
       "      <th>departureTime.time24</th>\n",
       "      <th>departureTime.timeAMPM</th>\n",
       "      <th>isCodeshare</th>\n",
       "      <th>operatedBy</th>\n",
       "      <th>sortTime</th>\n",
       "      <th>url</th>\n",
       "    </tr>\n",
       "  </thead>\n",
       "  <tbody>\n",
       "    <tr>\n",
       "      <th>0</th>\n",
       "      <td>Kiev/Kyiv</td>\n",
       "      <td>KBP</td>\n",
       "      <td>00:10</td>\n",
       "      <td>12:10AM</td>\n",
       "      <td>945</td>\n",
       "      <td>PS</td>\n",
       "      <td>UIA</td>\n",
       "      <td>20:40</td>\n",
       "      <td>8:40PM</td>\n",
       "      <td>NaN</td>\n",
       "      <td>None</td>\n",
       "      <td>2019-05-12T22:10:00.000Z</td>\n",
       "      <td>/flight-tracker/PS/945?year=2019&amp;month=5&amp;date=...</td>\n",
       "    </tr>\n",
       "    <tr>\n",
       "      <th>1</th>\n",
       "      <td>Ibiza</td>\n",
       "      <td>IBZ</td>\n",
       "      <td>00:20</td>\n",
       "      <td>12:20AM</td>\n",
       "      <td>5313</td>\n",
       "      <td>IB</td>\n",
       "      <td>Iberia</td>\n",
       "      <td>23:00</td>\n",
       "      <td>11:00PM</td>\n",
       "      <td>True</td>\n",
       "      <td>Operated by Vueling 3418</td>\n",
       "      <td>2019-05-12T22:20:00.000Z</td>\n",
       "      <td>/flight-tracker/IB/5313?year=2019&amp;month=5&amp;date...</td>\n",
       "    </tr>\n",
       "    <tr>\n",
       "      <th>2</th>\n",
       "      <td>Ibiza</td>\n",
       "      <td>IBZ</td>\n",
       "      <td>00:20</td>\n",
       "      <td>12:20AM</td>\n",
       "      <td>3418</td>\n",
       "      <td>VY</td>\n",
       "      <td>Vueling</td>\n",
       "      <td>23:00</td>\n",
       "      <td>11:00PM</td>\n",
       "      <td>NaN</td>\n",
       "      <td>None</td>\n",
       "      <td>2019-05-12T22:20:00.000Z</td>\n",
       "      <td>/flight-tracker/VY/3418?year=2019&amp;month=5&amp;date...</td>\n",
       "    </tr>\n",
       "    <tr>\n",
       "      <th>3</th>\n",
       "      <td>Copenhagen</td>\n",
       "      <td>CPH</td>\n",
       "      <td>00:35</td>\n",
       "      <td>12:35AM</td>\n",
       "      <td>606</td>\n",
       "      <td>FR</td>\n",
       "      <td>Ryanair</td>\n",
       "      <td>21:10</td>\n",
       "      <td>9:10PM</td>\n",
       "      <td>NaN</td>\n",
       "      <td>None</td>\n",
       "      <td>2019-05-12T22:35:00.000Z</td>\n",
       "      <td>/flight-tracker/FR/606?year=2019&amp;month=5&amp;date=...</td>\n",
       "    </tr>\n",
       "    <tr>\n",
       "      <th>4</th>\n",
       "      <td>Lanzarote</td>\n",
       "      <td>ACE</td>\n",
       "      <td>00:40</td>\n",
       "      <td>12:40AM</td>\n",
       "      <td>4837</td>\n",
       "      <td>AF</td>\n",
       "      <td>Air France</td>\n",
       "      <td>21:10</td>\n",
       "      <td>9:10PM</td>\n",
       "      <td>True</td>\n",
       "      <td>Operated by Air Europa 9076</td>\n",
       "      <td>2019-05-12T22:40:00.000Z</td>\n",
       "      <td>/flight-tracker/AF/4837?year=2019&amp;month=5&amp;date...</td>\n",
       "    </tr>\n",
       "  </tbody>\n",
       "</table>\n",
       "</div>"
      ],
      "text/plain": [
       "  airport.city airport.fs arrivalTime.time24 arrivalTime.timeAMPM  \\\n",
       "0    Kiev/Kyiv        KBP              00:10              12:10AM   \n",
       "1        Ibiza        IBZ              00:20              12:20AM   \n",
       "2        Ibiza        IBZ              00:20              12:20AM   \n",
       "3   Copenhagen        CPH              00:35              12:35AM   \n",
       "4    Lanzarote        ACE              00:40              12:40AM   \n",
       "\n",
       "  carrier.flightNumber carrier.fs carrier.name departureTime.time24  \\\n",
       "0                  945         PS          UIA                20:40   \n",
       "1                 5313         IB       Iberia                23:00   \n",
       "2                 3418         VY      Vueling                23:00   \n",
       "3                  606         FR      Ryanair                21:10   \n",
       "4                 4837         AF   Air France                21:10   \n",
       "\n",
       "  departureTime.timeAMPM isCodeshare                   operatedBy  \\\n",
       "0                 8:40PM         NaN                         None   \n",
       "1                11:00PM        True     Operated by Vueling 3418   \n",
       "2                11:00PM         NaN                         None   \n",
       "3                 9:10PM         NaN                         None   \n",
       "4                 9:10PM        True  Operated by Air Europa 9076   \n",
       "\n",
       "                   sortTime                                                url  \n",
       "0  2019-05-12T22:10:00.000Z  /flight-tracker/PS/945?year=2019&month=5&date=...  \n",
       "1  2019-05-12T22:20:00.000Z  /flight-tracker/IB/5313?year=2019&month=5&date...  \n",
       "2  2019-05-12T22:20:00.000Z  /flight-tracker/VY/3418?year=2019&month=5&date...  \n",
       "3  2019-05-12T22:35:00.000Z  /flight-tracker/FR/606?year=2019&month=5&date=...  \n",
       "4  2019-05-12T22:40:00.000Z  /flight-tracker/AF/4837?year=2019&month=5&date...  "
      ]
     },
     "execution_count": 7,
     "metadata": {},
     "output_type": "execute_result"
    }
   ],
   "source": [
    "print(h0_full_json_df.shape)\n",
    "h0_full_json_df.head()"
   ]
  },
  {
   "cell_type": "code",
   "execution_count": 8,
   "metadata": {
    "scrolled": true
   },
   "outputs": [
    {
     "name": "stdout",
     "output_type": "stream",
     "text": [
      "(616, 13)\n"
     ]
    },
    {
     "data": {
      "text/html": [
       "<div>\n",
       "<style scoped>\n",
       "    .dataframe tbody tr th:only-of-type {\n",
       "        vertical-align: middle;\n",
       "    }\n",
       "\n",
       "    .dataframe tbody tr th {\n",
       "        vertical-align: top;\n",
       "    }\n",
       "\n",
       "    .dataframe thead th {\n",
       "        text-align: right;\n",
       "    }\n",
       "</style>\n",
       "<table border=\"1\" class=\"dataframe\">\n",
       "  <thead>\n",
       "    <tr style=\"text-align: right;\">\n",
       "      <th></th>\n",
       "      <th>airport.city</th>\n",
       "      <th>airport.fs</th>\n",
       "      <th>arrivalTime.time24</th>\n",
       "      <th>arrivalTime.timeAMPM</th>\n",
       "      <th>carrier.flightNumber</th>\n",
       "      <th>carrier.fs</th>\n",
       "      <th>carrier.name</th>\n",
       "      <th>departureTime.time24</th>\n",
       "      <th>departureTime.timeAMPM</th>\n",
       "      <th>isCodeshare</th>\n",
       "      <th>operatedBy</th>\n",
       "      <th>sortTime</th>\n",
       "      <th>url</th>\n",
       "    </tr>\n",
       "  </thead>\n",
       "  <tbody>\n",
       "    <tr>\n",
       "      <th>0</th>\n",
       "      <td>Sao Paulo</td>\n",
       "      <td>GRU</td>\n",
       "      <td>06:10</td>\n",
       "      <td>6:10AM</td>\n",
       "      <td>4246</td>\n",
       "      <td>BA</td>\n",
       "      <td>British Airways</td>\n",
       "      <td>15:00</td>\n",
       "      <td>3:00PM</td>\n",
       "      <td>True</td>\n",
       "      <td>Operated by Iberia 6824</td>\n",
       "      <td>2019-05-13T04:10:00.000Z</td>\n",
       "      <td>/flight-tracker/BA/4246?year=2019&amp;month=5&amp;date...</td>\n",
       "    </tr>\n",
       "    <tr>\n",
       "      <th>1</th>\n",
       "      <td>Sao Paulo</td>\n",
       "      <td>GRU</td>\n",
       "      <td>06:10</td>\n",
       "      <td>6:10AM</td>\n",
       "      <td>6824</td>\n",
       "      <td>IB</td>\n",
       "      <td>Iberia</td>\n",
       "      <td>15:00</td>\n",
       "      <td>3:00PM</td>\n",
       "      <td>NaN</td>\n",
       "      <td>None</td>\n",
       "      <td>2019-05-13T04:10:00.000Z</td>\n",
       "      <td>/flight-tracker/IB/6824?year=2019&amp;month=5&amp;date...</td>\n",
       "    </tr>\n",
       "    <tr>\n",
       "      <th>2</th>\n",
       "      <td>Sao Paulo</td>\n",
       "      <td>GRU</td>\n",
       "      <td>06:10</td>\n",
       "      <td>6:10AM</td>\n",
       "      <td>9200</td>\n",
       "      <td>LY</td>\n",
       "      <td>El Al</td>\n",
       "      <td>15:00</td>\n",
       "      <td>3:00PM</td>\n",
       "      <td>True</td>\n",
       "      <td>Operated by Iberia 6824</td>\n",
       "      <td>2019-05-13T04:10:00.000Z</td>\n",
       "      <td>/flight-tracker/LY/9200?year=2019&amp;month=5&amp;date...</td>\n",
       "    </tr>\n",
       "    <tr>\n",
       "      <th>3</th>\n",
       "      <td>Montevideo</td>\n",
       "      <td>MVD</td>\n",
       "      <td>06:15</td>\n",
       "      <td>6:15AM</td>\n",
       "      <td>5059</td>\n",
       "      <td>QR</td>\n",
       "      <td>Qatar Airways</td>\n",
       "      <td>13:20</td>\n",
       "      <td>1:20PM</td>\n",
       "      <td>True</td>\n",
       "      <td>Operated by Iberia 6012</td>\n",
       "      <td>2019-05-13T04:15:00.000Z</td>\n",
       "      <td>/flight-tracker/QR/5059?year=2019&amp;month=5&amp;date...</td>\n",
       "    </tr>\n",
       "    <tr>\n",
       "      <th>4</th>\n",
       "      <td>New York</td>\n",
       "      <td>JFK</td>\n",
       "      <td>06:15</td>\n",
       "      <td>6:15AM</td>\n",
       "      <td>6250</td>\n",
       "      <td>IB</td>\n",
       "      <td>Iberia</td>\n",
       "      <td>17:05</td>\n",
       "      <td>5:05PM</td>\n",
       "      <td>NaN</td>\n",
       "      <td>None</td>\n",
       "      <td>2019-05-13T04:15:00.000Z</td>\n",
       "      <td>/flight-tracker/IB/6250?year=2019&amp;month=5&amp;date...</td>\n",
       "    </tr>\n",
       "  </tbody>\n",
       "</table>\n",
       "</div>"
      ],
      "text/plain": [
       "  airport.city airport.fs arrivalTime.time24 arrivalTime.timeAMPM  \\\n",
       "0    Sao Paulo        GRU              06:10               6:10AM   \n",
       "1    Sao Paulo        GRU              06:10               6:10AM   \n",
       "2    Sao Paulo        GRU              06:10               6:10AM   \n",
       "3   Montevideo        MVD              06:15               6:15AM   \n",
       "4     New York        JFK              06:15               6:15AM   \n",
       "\n",
       "  carrier.flightNumber carrier.fs     carrier.name departureTime.time24  \\\n",
       "0                 4246         BA  British Airways                15:00   \n",
       "1                 6824         IB           Iberia                15:00   \n",
       "2                 9200         LY            El Al                15:00   \n",
       "3                 5059         QR    Qatar Airways                13:20   \n",
       "4                 6250         IB           Iberia                17:05   \n",
       "\n",
       "  departureTime.timeAMPM isCodeshare               operatedBy  \\\n",
       "0                 3:00PM        True  Operated by Iberia 6824   \n",
       "1                 3:00PM         NaN                     None   \n",
       "2                 3:00PM        True  Operated by Iberia 6824   \n",
       "3                 1:20PM        True  Operated by Iberia 6012   \n",
       "4                 5:05PM         NaN                     None   \n",
       "\n",
       "                   sortTime                                                url  \n",
       "0  2019-05-13T04:10:00.000Z  /flight-tracker/BA/4246?year=2019&month=5&date...  \n",
       "1  2019-05-13T04:10:00.000Z  /flight-tracker/IB/6824?year=2019&month=5&date...  \n",
       "2  2019-05-13T04:10:00.000Z  /flight-tracker/LY/9200?year=2019&month=5&date...  \n",
       "3  2019-05-13T04:15:00.000Z  /flight-tracker/QR/5059?year=2019&month=5&date...  \n",
       "4  2019-05-13T04:15:00.000Z  /flight-tracker/IB/6250?year=2019&month=5&date...  "
      ]
     },
     "execution_count": 8,
     "metadata": {},
     "output_type": "execute_result"
    }
   ],
   "source": [
    "print(h6_full_json_df.shape)\n",
    "h6_full_json_df.head()"
   ]
  },
  {
   "cell_type": "code",
   "execution_count": 9,
   "metadata": {
    "scrolled": true
   },
   "outputs": [
    {
     "name": "stdout",
     "output_type": "stream",
     "text": [
      "(604, 13)\n"
     ]
    },
    {
     "data": {
      "text/html": [
       "<div>\n",
       "<style scoped>\n",
       "    .dataframe tbody tr th:only-of-type {\n",
       "        vertical-align: middle;\n",
       "    }\n",
       "\n",
       "    .dataframe tbody tr th {\n",
       "        vertical-align: top;\n",
       "    }\n",
       "\n",
       "    .dataframe thead th {\n",
       "        text-align: right;\n",
       "    }\n",
       "</style>\n",
       "<table border=\"1\" class=\"dataframe\">\n",
       "  <thead>\n",
       "    <tr style=\"text-align: right;\">\n",
       "      <th></th>\n",
       "      <th>airport.city</th>\n",
       "      <th>airport.fs</th>\n",
       "      <th>arrivalTime.time24</th>\n",
       "      <th>arrivalTime.timeAMPM</th>\n",
       "      <th>carrier.flightNumber</th>\n",
       "      <th>carrier.fs</th>\n",
       "      <th>carrier.name</th>\n",
       "      <th>departureTime.time24</th>\n",
       "      <th>departureTime.timeAMPM</th>\n",
       "      <th>isCodeshare</th>\n",
       "      <th>operatedBy</th>\n",
       "      <th>sortTime</th>\n",
       "      <th>url</th>\n",
       "    </tr>\n",
       "  </thead>\n",
       "  <tbody>\n",
       "    <tr>\n",
       "      <th>0</th>\n",
       "      <td>Palma Mallorca</td>\n",
       "      <td>PMI</td>\n",
       "      <td>12:00</td>\n",
       "      <td>12:00PM</td>\n",
       "      <td>6811</td>\n",
       "      <td>AM</td>\n",
       "      <td>Aeromexico</td>\n",
       "      <td>10:35</td>\n",
       "      <td>10:35AM</td>\n",
       "      <td>True</td>\n",
       "      <td>Operated by Air Europa 6030</td>\n",
       "      <td>2019-05-13T10:00:00.000Z</td>\n",
       "      <td>/flight-tracker/AM/6811?year=2019&amp;month=5&amp;date...</td>\n",
       "    </tr>\n",
       "    <tr>\n",
       "      <th>1</th>\n",
       "      <td>Athens</td>\n",
       "      <td>ATH</td>\n",
       "      <td>12:00</td>\n",
       "      <td>12:00PM</td>\n",
       "      <td>7402</td>\n",
       "      <td>TP</td>\n",
       "      <td>TAP Portugal</td>\n",
       "      <td>09:10</td>\n",
       "      <td>9:10AM</td>\n",
       "      <td>True</td>\n",
       "      <td>Operated by Aegean Airlines 700</td>\n",
       "      <td>2019-05-13T10:00:00.000Z</td>\n",
       "      <td>/flight-tracker/TP/7402?year=2019&amp;month=5&amp;date...</td>\n",
       "    </tr>\n",
       "    <tr>\n",
       "      <th>2</th>\n",
       "      <td>Palma Mallorca</td>\n",
       "      <td>PMI</td>\n",
       "      <td>12:00</td>\n",
       "      <td>12:00PM</td>\n",
       "      <td>2030</td>\n",
       "      <td>ME</td>\n",
       "      <td>Middle East Airlines</td>\n",
       "      <td>10:35</td>\n",
       "      <td>10:35AM</td>\n",
       "      <td>True</td>\n",
       "      <td>Operated by Air Europa 6030</td>\n",
       "      <td>2019-05-13T10:00:00.000Z</td>\n",
       "      <td>/flight-tracker/ME/2030?year=2019&amp;month=5&amp;date...</td>\n",
       "    </tr>\n",
       "    <tr>\n",
       "      <th>3</th>\n",
       "      <td>Palma Mallorca</td>\n",
       "      <td>PMI</td>\n",
       "      <td>12:00</td>\n",
       "      <td>12:00PM</td>\n",
       "      <td>3346</td>\n",
       "      <td>KL</td>\n",
       "      <td>KLM</td>\n",
       "      <td>10:35</td>\n",
       "      <td>10:35AM</td>\n",
       "      <td>True</td>\n",
       "      <td>Operated by Air Europa 6030</td>\n",
       "      <td>2019-05-13T10:00:00.000Z</td>\n",
       "      <td>/flight-tracker/KL/3346?year=2019&amp;month=5&amp;date...</td>\n",
       "    </tr>\n",
       "    <tr>\n",
       "      <th>4</th>\n",
       "      <td>Palma Mallorca</td>\n",
       "      <td>PMI</td>\n",
       "      <td>12:00</td>\n",
       "      <td>12:00PM</td>\n",
       "      <td>2443</td>\n",
       "      <td>AZ</td>\n",
       "      <td>Alitalia</td>\n",
       "      <td>10:35</td>\n",
       "      <td>10:35AM</td>\n",
       "      <td>True</td>\n",
       "      <td>Operated by Air Europa 6030</td>\n",
       "      <td>2019-05-13T10:00:00.000Z</td>\n",
       "      <td>/flight-tracker/AZ/2443?year=2019&amp;month=5&amp;date...</td>\n",
       "    </tr>\n",
       "  </tbody>\n",
       "</table>\n",
       "</div>"
      ],
      "text/plain": [
       "     airport.city airport.fs arrivalTime.time24 arrivalTime.timeAMPM  \\\n",
       "0  Palma Mallorca        PMI              12:00              12:00PM   \n",
       "1          Athens        ATH              12:00              12:00PM   \n",
       "2  Palma Mallorca        PMI              12:00              12:00PM   \n",
       "3  Palma Mallorca        PMI              12:00              12:00PM   \n",
       "4  Palma Mallorca        PMI              12:00              12:00PM   \n",
       "\n",
       "  carrier.flightNumber carrier.fs          carrier.name departureTime.time24  \\\n",
       "0                 6811         AM            Aeromexico                10:35   \n",
       "1                 7402         TP          TAP Portugal                09:10   \n",
       "2                 2030         ME  Middle East Airlines                10:35   \n",
       "3                 3346         KL                   KLM                10:35   \n",
       "4                 2443         AZ              Alitalia                10:35   \n",
       "\n",
       "  departureTime.timeAMPM isCodeshare                       operatedBy  \\\n",
       "0                10:35AM        True      Operated by Air Europa 6030   \n",
       "1                 9:10AM        True  Operated by Aegean Airlines 700   \n",
       "2                10:35AM        True      Operated by Air Europa 6030   \n",
       "3                10:35AM        True      Operated by Air Europa 6030   \n",
       "4                10:35AM        True      Operated by Air Europa 6030   \n",
       "\n",
       "                   sortTime                                                url  \n",
       "0  2019-05-13T10:00:00.000Z  /flight-tracker/AM/6811?year=2019&month=5&date...  \n",
       "1  2019-05-13T10:00:00.000Z  /flight-tracker/TP/7402?year=2019&month=5&date...  \n",
       "2  2019-05-13T10:00:00.000Z  /flight-tracker/ME/2030?year=2019&month=5&date...  \n",
       "3  2019-05-13T10:00:00.000Z  /flight-tracker/KL/3346?year=2019&month=5&date...  \n",
       "4  2019-05-13T10:00:00.000Z  /flight-tracker/AZ/2443?year=2019&month=5&date...  "
      ]
     },
     "execution_count": 9,
     "metadata": {},
     "output_type": "execute_result"
    }
   ],
   "source": [
    "print(h12_full_json_df.shape)\n",
    "h12_full_json_df.head()"
   ]
  },
  {
   "cell_type": "code",
   "execution_count": 10,
   "metadata": {
    "scrolled": true
   },
   "outputs": [
    {
     "name": "stdout",
     "output_type": "stream",
     "text": [
      "(481, 13)\n"
     ]
    },
    {
     "data": {
      "text/html": [
       "<div>\n",
       "<style scoped>\n",
       "    .dataframe tbody tr th:only-of-type {\n",
       "        vertical-align: middle;\n",
       "    }\n",
       "\n",
       "    .dataframe tbody tr th {\n",
       "        vertical-align: top;\n",
       "    }\n",
       "\n",
       "    .dataframe thead th {\n",
       "        text-align: right;\n",
       "    }\n",
       "</style>\n",
       "<table border=\"1\" class=\"dataframe\">\n",
       "  <thead>\n",
       "    <tr style=\"text-align: right;\">\n",
       "      <th></th>\n",
       "      <th>airport.city</th>\n",
       "      <th>airport.fs</th>\n",
       "      <th>arrivalTime.time24</th>\n",
       "      <th>arrivalTime.timeAMPM</th>\n",
       "      <th>carrier.flightNumber</th>\n",
       "      <th>carrier.fs</th>\n",
       "      <th>carrier.name</th>\n",
       "      <th>departureTime.time24</th>\n",
       "      <th>departureTime.timeAMPM</th>\n",
       "      <th>isCodeshare</th>\n",
       "      <th>operatedBy</th>\n",
       "      <th>sortTime</th>\n",
       "      <th>url</th>\n",
       "    </tr>\n",
       "  </thead>\n",
       "  <tbody>\n",
       "    <tr>\n",
       "      <th>0</th>\n",
       "      <td>Porto</td>\n",
       "      <td>OPO</td>\n",
       "      <td>18:00</td>\n",
       "      <td>6:00PM</td>\n",
       "      <td>1140</td>\n",
       "      <td>UX</td>\n",
       "      <td>Air Europa</td>\n",
       "      <td>15:50</td>\n",
       "      <td>3:50PM</td>\n",
       "      <td>NaN</td>\n",
       "      <td>None</td>\n",
       "      <td>2019-05-13T16:00:00.000Z</td>\n",
       "      <td>/flight-tracker/UX/1140?year=2019&amp;month=5&amp;date...</td>\n",
       "    </tr>\n",
       "    <tr>\n",
       "      <th>1</th>\n",
       "      <td>Munich</td>\n",
       "      <td>MUC</td>\n",
       "      <td>18:00</td>\n",
       "      <td>6:00PM</td>\n",
       "      <td>7451</td>\n",
       "      <td>OS</td>\n",
       "      <td>Austrian</td>\n",
       "      <td>15:20</td>\n",
       "      <td>3:20PM</td>\n",
       "      <td>True</td>\n",
       "      <td>Operated by Lufthansa 1804</td>\n",
       "      <td>2019-05-13T16:00:00.000Z</td>\n",
       "      <td>/flight-tracker/OS/7451?year=2019&amp;month=5&amp;date...</td>\n",
       "    </tr>\n",
       "    <tr>\n",
       "      <th>2</th>\n",
       "      <td>Munich</td>\n",
       "      <td>MUC</td>\n",
       "      <td>18:00</td>\n",
       "      <td>6:00PM</td>\n",
       "      <td>9493</td>\n",
       "      <td>AC</td>\n",
       "      <td>Air Canada</td>\n",
       "      <td>15:20</td>\n",
       "      <td>3:20PM</td>\n",
       "      <td>True</td>\n",
       "      <td>Operated by Lufthansa 1804</td>\n",
       "      <td>2019-05-13T16:00:00.000Z</td>\n",
       "      <td>/flight-tracker/AC/9493?year=2019&amp;month=5&amp;date...</td>\n",
       "    </tr>\n",
       "    <tr>\n",
       "      <th>3</th>\n",
       "      <td>Munich</td>\n",
       "      <td>MUC</td>\n",
       "      <td>18:00</td>\n",
       "      <td>6:00PM</td>\n",
       "      <td>3344</td>\n",
       "      <td>SK</td>\n",
       "      <td>SAS</td>\n",
       "      <td>15:20</td>\n",
       "      <td>3:20PM</td>\n",
       "      <td>True</td>\n",
       "      <td>Operated by Lufthansa 1804</td>\n",
       "      <td>2019-05-13T16:00:00.000Z</td>\n",
       "      <td>/flight-tracker/SK/3344?year=2019&amp;month=5&amp;date...</td>\n",
       "    </tr>\n",
       "    <tr>\n",
       "      <th>4</th>\n",
       "      <td>Porto</td>\n",
       "      <td>OPO</td>\n",
       "      <td>18:00</td>\n",
       "      <td>6:00PM</td>\n",
       "      <td>7413</td>\n",
       "      <td>JU</td>\n",
       "      <td>Air Serbia</td>\n",
       "      <td>15:50</td>\n",
       "      <td>3:50PM</td>\n",
       "      <td>True</td>\n",
       "      <td>Operated by Air Europa 1140</td>\n",
       "      <td>2019-05-13T16:00:00.000Z</td>\n",
       "      <td>/flight-tracker/JU/7413?year=2019&amp;month=5&amp;date...</td>\n",
       "    </tr>\n",
       "  </tbody>\n",
       "</table>\n",
       "</div>"
      ],
      "text/plain": [
       "  airport.city airport.fs arrivalTime.time24 arrivalTime.timeAMPM  \\\n",
       "0        Porto        OPO              18:00               6:00PM   \n",
       "1       Munich        MUC              18:00               6:00PM   \n",
       "2       Munich        MUC              18:00               6:00PM   \n",
       "3       Munich        MUC              18:00               6:00PM   \n",
       "4        Porto        OPO              18:00               6:00PM   \n",
       "\n",
       "  carrier.flightNumber carrier.fs carrier.name departureTime.time24  \\\n",
       "0                 1140         UX   Air Europa                15:50   \n",
       "1                 7451         OS     Austrian                15:20   \n",
       "2                 9493         AC   Air Canada                15:20   \n",
       "3                 3344         SK          SAS                15:20   \n",
       "4                 7413         JU   Air Serbia                15:50   \n",
       "\n",
       "  departureTime.timeAMPM isCodeshare                   operatedBy  \\\n",
       "0                 3:50PM         NaN                         None   \n",
       "1                 3:20PM        True   Operated by Lufthansa 1804   \n",
       "2                 3:20PM        True   Operated by Lufthansa 1804   \n",
       "3                 3:20PM        True   Operated by Lufthansa 1804   \n",
       "4                 3:50PM        True  Operated by Air Europa 1140   \n",
       "\n",
       "                   sortTime                                                url  \n",
       "0  2019-05-13T16:00:00.000Z  /flight-tracker/UX/1140?year=2019&month=5&date...  \n",
       "1  2019-05-13T16:00:00.000Z  /flight-tracker/OS/7451?year=2019&month=5&date...  \n",
       "2  2019-05-13T16:00:00.000Z  /flight-tracker/AC/9493?year=2019&month=5&date...  \n",
       "3  2019-05-13T16:00:00.000Z  /flight-tracker/SK/3344?year=2019&month=5&date...  \n",
       "4  2019-05-13T16:00:00.000Z  /flight-tracker/JU/7413?year=2019&month=5&date...  "
      ]
     },
     "execution_count": 10,
     "metadata": {},
     "output_type": "execute_result"
    }
   ],
   "source": [
    "print(h18_full_json_df.shape)\n",
    "h18_full_json_df.head()"
   ]
  },
  {
   "cell_type": "markdown",
   "metadata": {},
   "source": [
    "### ^^ End of gross data info ^^"
   ]
  },
  {
   "cell_type": "markdown",
   "metadata": {},
   "source": [
    "---"
   ]
  },
  {
   "cell_type": "markdown",
   "metadata": {},
   "source": [
    "### Data cleaning \\\\/ \\\\/"
   ]
  },
  {
   "cell_type": "code",
   "execution_count": 11,
   "metadata": {
    "scrolled": true
   },
   "outputs": [
    {
     "name": "stdout",
     "output_type": "stream",
     "text": [
      "(15, 13)\n"
     ]
    },
    {
     "data": {
      "text/html": [
       "<div>\n",
       "<style scoped>\n",
       "    .dataframe tbody tr th:only-of-type {\n",
       "        vertical-align: middle;\n",
       "    }\n",
       "\n",
       "    .dataframe tbody tr th {\n",
       "        vertical-align: top;\n",
       "    }\n",
       "\n",
       "    .dataframe thead th {\n",
       "        text-align: right;\n",
       "    }\n",
       "</style>\n",
       "<table border=\"1\" class=\"dataframe\">\n",
       "  <thead>\n",
       "    <tr style=\"text-align: right;\">\n",
       "      <th></th>\n",
       "      <th>airport.city</th>\n",
       "      <th>airport.fs</th>\n",
       "      <th>arrivalTime.time24</th>\n",
       "      <th>arrivalTime.timeAMPM</th>\n",
       "      <th>carrier.flightNumber</th>\n",
       "      <th>carrier.fs</th>\n",
       "      <th>carrier.name</th>\n",
       "      <th>departureTime.time24</th>\n",
       "      <th>departureTime.timeAMPM</th>\n",
       "      <th>isCodeshare</th>\n",
       "      <th>operatedBy</th>\n",
       "      <th>sortTime</th>\n",
       "      <th>url</th>\n",
       "    </tr>\n",
       "  </thead>\n",
       "  <tbody>\n",
       "    <tr>\n",
       "      <th>0</th>\n",
       "      <td>Kiev/Kyiv</td>\n",
       "      <td>KBP</td>\n",
       "      <td>00:10</td>\n",
       "      <td>12:10AM</td>\n",
       "      <td>945</td>\n",
       "      <td>PS</td>\n",
       "      <td>UIA</td>\n",
       "      <td>20:40</td>\n",
       "      <td>8:40PM</td>\n",
       "      <td>NaN</td>\n",
       "      <td>None</td>\n",
       "      <td>2019-05-12T22:10:00.000Z</td>\n",
       "      <td>/flight-tracker/PS/945?year=2019&amp;month=5&amp;date=...</td>\n",
       "    </tr>\n",
       "    <tr>\n",
       "      <th>1</th>\n",
       "      <td>Ibiza</td>\n",
       "      <td>IBZ</td>\n",
       "      <td>00:20</td>\n",
       "      <td>12:20AM</td>\n",
       "      <td>3418</td>\n",
       "      <td>VY</td>\n",
       "      <td>Vueling</td>\n",
       "      <td>23:00</td>\n",
       "      <td>11:00PM</td>\n",
       "      <td>NaN</td>\n",
       "      <td>None</td>\n",
       "      <td>2019-05-12T22:20:00.000Z</td>\n",
       "      <td>/flight-tracker/VY/3418?year=2019&amp;month=5&amp;date...</td>\n",
       "    </tr>\n",
       "    <tr>\n",
       "      <th>2</th>\n",
       "      <td>Copenhagen</td>\n",
       "      <td>CPH</td>\n",
       "      <td>00:35</td>\n",
       "      <td>12:35AM</td>\n",
       "      <td>606</td>\n",
       "      <td>FR</td>\n",
       "      <td>Ryanair</td>\n",
       "      <td>21:10</td>\n",
       "      <td>9:10PM</td>\n",
       "      <td>NaN</td>\n",
       "      <td>None</td>\n",
       "      <td>2019-05-12T22:35:00.000Z</td>\n",
       "      <td>/flight-tracker/FR/606?year=2019&amp;month=5&amp;date=...</td>\n",
       "    </tr>\n",
       "    <tr>\n",
       "      <th>3</th>\n",
       "      <td>Lanzarote</td>\n",
       "      <td>ACE</td>\n",
       "      <td>00:40</td>\n",
       "      <td>12:40AM</td>\n",
       "      <td>9076</td>\n",
       "      <td>UX</td>\n",
       "      <td>Air Europa</td>\n",
       "      <td>21:10</td>\n",
       "      <td>9:10PM</td>\n",
       "      <td>NaN</td>\n",
       "      <td>None</td>\n",
       "      <td>2019-05-12T22:40:00.000Z</td>\n",
       "      <td>/flight-tracker/UX/9076?year=2019&amp;month=5&amp;date...</td>\n",
       "    </tr>\n",
       "    <tr>\n",
       "      <th>4</th>\n",
       "      <td>Palma Mallorca</td>\n",
       "      <td>PMI</td>\n",
       "      <td>00:55</td>\n",
       "      <td>12:55AM</td>\n",
       "      <td>5431</td>\n",
       "      <td>FR</td>\n",
       "      <td>Ryanair</td>\n",
       "      <td>23:25</td>\n",
       "      <td>11:25PM</td>\n",
       "      <td>NaN</td>\n",
       "      <td>None</td>\n",
       "      <td>2019-05-12T22:55:00.000Z</td>\n",
       "      <td>/flight-tracker/FR/5431?year=2019&amp;month=5&amp;date...</td>\n",
       "    </tr>\n",
       "  </tbody>\n",
       "</table>\n",
       "</div>"
      ],
      "text/plain": [
       "     airport.city airport.fs arrivalTime.time24 arrivalTime.timeAMPM  \\\n",
       "0       Kiev/Kyiv        KBP              00:10              12:10AM   \n",
       "1           Ibiza        IBZ              00:20              12:20AM   \n",
       "2      Copenhagen        CPH              00:35              12:35AM   \n",
       "3       Lanzarote        ACE              00:40              12:40AM   \n",
       "4  Palma Mallorca        PMI              00:55              12:55AM   \n",
       "\n",
       "  carrier.flightNumber carrier.fs carrier.name departureTime.time24  \\\n",
       "0                  945         PS          UIA                20:40   \n",
       "1                 3418         VY      Vueling                23:00   \n",
       "2                  606         FR      Ryanair                21:10   \n",
       "3                 9076         UX   Air Europa                21:10   \n",
       "4                 5431         FR      Ryanair                23:25   \n",
       "\n",
       "  departureTime.timeAMPM isCodeshare operatedBy                  sortTime  \\\n",
       "0                 8:40PM         NaN       None  2019-05-12T22:10:00.000Z   \n",
       "1                11:00PM         NaN       None  2019-05-12T22:20:00.000Z   \n",
       "2                 9:10PM         NaN       None  2019-05-12T22:35:00.000Z   \n",
       "3                 9:10PM         NaN       None  2019-05-12T22:40:00.000Z   \n",
       "4                11:25PM         NaN       None  2019-05-12T22:55:00.000Z   \n",
       "\n",
       "                                                 url  \n",
       "0  /flight-tracker/PS/945?year=2019&month=5&date=...  \n",
       "1  /flight-tracker/VY/3418?year=2019&month=5&date...  \n",
       "2  /flight-tracker/FR/606?year=2019&month=5&date=...  \n",
       "3  /flight-tracker/UX/9076?year=2019&month=5&date...  \n",
       "4  /flight-tracker/FR/5431?year=2019&month=5&date...  "
      ]
     },
     "execution_count": 11,
     "metadata": {},
     "output_type": "execute_result"
    }
   ],
   "source": [
    "code_shared_filter = h0_full_json_df['isCodeshare'] != True\n",
    "h0_main_flights_df = h0_full_json_df[code_shared_filter]\n",
    "h0_main_flights_df.reset_index(drop = True, inplace = True)\n",
    "print(h0_main_flights_df.shape)\n",
    "h0_main_flights_df.head()"
   ]
  },
  {
   "cell_type": "code",
   "execution_count": 12,
   "metadata": {
    "scrolled": true
   },
   "outputs": [
    {
     "name": "stdout",
     "output_type": "stream",
     "text": [
      "(168, 13)\n"
     ]
    },
    {
     "data": {
      "text/html": [
       "<div>\n",
       "<style scoped>\n",
       "    .dataframe tbody tr th:only-of-type {\n",
       "        vertical-align: middle;\n",
       "    }\n",
       "\n",
       "    .dataframe tbody tr th {\n",
       "        vertical-align: top;\n",
       "    }\n",
       "\n",
       "    .dataframe thead th {\n",
       "        text-align: right;\n",
       "    }\n",
       "</style>\n",
       "<table border=\"1\" class=\"dataframe\">\n",
       "  <thead>\n",
       "    <tr style=\"text-align: right;\">\n",
       "      <th></th>\n",
       "      <th>airport.city</th>\n",
       "      <th>airport.fs</th>\n",
       "      <th>arrivalTime.time24</th>\n",
       "      <th>arrivalTime.timeAMPM</th>\n",
       "      <th>carrier.flightNumber</th>\n",
       "      <th>carrier.fs</th>\n",
       "      <th>carrier.name</th>\n",
       "      <th>departureTime.time24</th>\n",
       "      <th>departureTime.timeAMPM</th>\n",
       "      <th>isCodeshare</th>\n",
       "      <th>operatedBy</th>\n",
       "      <th>sortTime</th>\n",
       "      <th>url</th>\n",
       "    </tr>\n",
       "  </thead>\n",
       "  <tbody>\n",
       "    <tr>\n",
       "      <th>0</th>\n",
       "      <td>Sao Paulo</td>\n",
       "      <td>GRU</td>\n",
       "      <td>06:10</td>\n",
       "      <td>6:10AM</td>\n",
       "      <td>6824</td>\n",
       "      <td>IB</td>\n",
       "      <td>Iberia</td>\n",
       "      <td>15:00</td>\n",
       "      <td>3:00PM</td>\n",
       "      <td>NaN</td>\n",
       "      <td>None</td>\n",
       "      <td>2019-05-13T04:10:00.000Z</td>\n",
       "      <td>/flight-tracker/IB/6824?year=2019&amp;month=5&amp;date...</td>\n",
       "    </tr>\n",
       "    <tr>\n",
       "      <th>1</th>\n",
       "      <td>New York</td>\n",
       "      <td>JFK</td>\n",
       "      <td>06:15</td>\n",
       "      <td>6:15AM</td>\n",
       "      <td>6250</td>\n",
       "      <td>IB</td>\n",
       "      <td>Iberia</td>\n",
       "      <td>17:05</td>\n",
       "      <td>5:05PM</td>\n",
       "      <td>NaN</td>\n",
       "      <td>None</td>\n",
       "      <td>2019-05-13T04:15:00.000Z</td>\n",
       "      <td>/flight-tracker/IB/6250?year=2019&amp;month=5&amp;date...</td>\n",
       "    </tr>\n",
       "    <tr>\n",
       "      <th>2</th>\n",
       "      <td>Montevideo</td>\n",
       "      <td>MVD</td>\n",
       "      <td>06:15</td>\n",
       "      <td>6:15AM</td>\n",
       "      <td>6012</td>\n",
       "      <td>IB</td>\n",
       "      <td>Iberia</td>\n",
       "      <td>13:20</td>\n",
       "      <td>1:20PM</td>\n",
       "      <td>NaN</td>\n",
       "      <td>None</td>\n",
       "      <td>2019-05-13T04:15:00.000Z</td>\n",
       "      <td>/flight-tracker/IB/6012?year=2019&amp;month=5&amp;date...</td>\n",
       "    </tr>\n",
       "    <tr>\n",
       "      <th>3</th>\n",
       "      <td>Santiago</td>\n",
       "      <td>SCL</td>\n",
       "      <td>06:20</td>\n",
       "      <td>6:20AM</td>\n",
       "      <td>6830</td>\n",
       "      <td>IB</td>\n",
       "      <td>Iberia</td>\n",
       "      <td>11:35</td>\n",
       "      <td>11:35AM</td>\n",
       "      <td>NaN</td>\n",
       "      <td>None</td>\n",
       "      <td>2019-05-13T04:20:00.000Z</td>\n",
       "      <td>/flight-tracker/IB/6830?year=2019&amp;month=5&amp;date...</td>\n",
       "    </tr>\n",
       "    <tr>\n",
       "      <th>4</th>\n",
       "      <td>Boston</td>\n",
       "      <td>BOS</td>\n",
       "      <td>06:20</td>\n",
       "      <td>6:20AM</td>\n",
       "      <td>6166</td>\n",
       "      <td>IB</td>\n",
       "      <td>Iberia</td>\n",
       "      <td>17:30</td>\n",
       "      <td>5:30PM</td>\n",
       "      <td>NaN</td>\n",
       "      <td>None</td>\n",
       "      <td>2019-05-13T04:20:00.000Z</td>\n",
       "      <td>/flight-tracker/IB/6166?year=2019&amp;month=5&amp;date...</td>\n",
       "    </tr>\n",
       "  </tbody>\n",
       "</table>\n",
       "</div>"
      ],
      "text/plain": [
       "  airport.city airport.fs arrivalTime.time24 arrivalTime.timeAMPM  \\\n",
       "0    Sao Paulo        GRU              06:10               6:10AM   \n",
       "1     New York        JFK              06:15               6:15AM   \n",
       "2   Montevideo        MVD              06:15               6:15AM   \n",
       "3     Santiago        SCL              06:20               6:20AM   \n",
       "4       Boston        BOS              06:20               6:20AM   \n",
       "\n",
       "  carrier.flightNumber carrier.fs carrier.name departureTime.time24  \\\n",
       "0                 6824         IB       Iberia                15:00   \n",
       "1                 6250         IB       Iberia                17:05   \n",
       "2                 6012         IB       Iberia                13:20   \n",
       "3                 6830         IB       Iberia                11:35   \n",
       "4                 6166         IB       Iberia                17:30   \n",
       "\n",
       "  departureTime.timeAMPM isCodeshare operatedBy                  sortTime  \\\n",
       "0                 3:00PM         NaN       None  2019-05-13T04:10:00.000Z   \n",
       "1                 5:05PM         NaN       None  2019-05-13T04:15:00.000Z   \n",
       "2                 1:20PM         NaN       None  2019-05-13T04:15:00.000Z   \n",
       "3                11:35AM         NaN       None  2019-05-13T04:20:00.000Z   \n",
       "4                 5:30PM         NaN       None  2019-05-13T04:20:00.000Z   \n",
       "\n",
       "                                                 url  \n",
       "0  /flight-tracker/IB/6824?year=2019&month=5&date...  \n",
       "1  /flight-tracker/IB/6250?year=2019&month=5&date...  \n",
       "2  /flight-tracker/IB/6012?year=2019&month=5&date...  \n",
       "3  /flight-tracker/IB/6830?year=2019&month=5&date...  \n",
       "4  /flight-tracker/IB/6166?year=2019&month=5&date...  "
      ]
     },
     "execution_count": 12,
     "metadata": {},
     "output_type": "execute_result"
    }
   ],
   "source": [
    "code_shared_filter = h6_full_json_df['isCodeshare'] != True\n",
    "h6_main_flights_df = h6_full_json_df[code_shared_filter]\n",
    "h6_main_flights_df.reset_index(drop = True, inplace = True)\n",
    "print(h6_main_flights_df.shape)\n",
    "h6_main_flights_df.head()"
   ]
  },
  {
   "cell_type": "code",
   "execution_count": 13,
   "metadata": {
    "scrolled": true
   },
   "outputs": [
    {
     "name": "stdout",
     "output_type": "stream",
     "text": [
      "(195, 13)\n"
     ]
    },
    {
     "data": {
      "text/html": [
       "<div>\n",
       "<style scoped>\n",
       "    .dataframe tbody tr th:only-of-type {\n",
       "        vertical-align: middle;\n",
       "    }\n",
       "\n",
       "    .dataframe tbody tr th {\n",
       "        vertical-align: top;\n",
       "    }\n",
       "\n",
       "    .dataframe thead th {\n",
       "        text-align: right;\n",
       "    }\n",
       "</style>\n",
       "<table border=\"1\" class=\"dataframe\">\n",
       "  <thead>\n",
       "    <tr style=\"text-align: right;\">\n",
       "      <th></th>\n",
       "      <th>airport.city</th>\n",
       "      <th>airport.fs</th>\n",
       "      <th>arrivalTime.time24</th>\n",
       "      <th>arrivalTime.timeAMPM</th>\n",
       "      <th>carrier.flightNumber</th>\n",
       "      <th>carrier.fs</th>\n",
       "      <th>carrier.name</th>\n",
       "      <th>departureTime.time24</th>\n",
       "      <th>departureTime.timeAMPM</th>\n",
       "      <th>isCodeshare</th>\n",
       "      <th>operatedBy</th>\n",
       "      <th>sortTime</th>\n",
       "      <th>url</th>\n",
       "    </tr>\n",
       "  </thead>\n",
       "  <tbody>\n",
       "    <tr>\n",
       "      <th>0</th>\n",
       "      <td>Palma Mallorca</td>\n",
       "      <td>PMI</td>\n",
       "      <td>12:00</td>\n",
       "      <td>12:00PM</td>\n",
       "      <td>6030</td>\n",
       "      <td>UX</td>\n",
       "      <td>Air Europa</td>\n",
       "      <td>10:35</td>\n",
       "      <td>10:35AM</td>\n",
       "      <td>NaN</td>\n",
       "      <td>None</td>\n",
       "      <td>2019-05-13T10:00:00.000Z</td>\n",
       "      <td>/flight-tracker/UX/6030?year=2019&amp;month=5&amp;date...</td>\n",
       "    </tr>\n",
       "    <tr>\n",
       "      <th>1</th>\n",
       "      <td>Paris</td>\n",
       "      <td>BVA</td>\n",
       "      <td>12:00</td>\n",
       "      <td>12:00PM</td>\n",
       "      <td>5445</td>\n",
       "      <td>FR</td>\n",
       "      <td>Ryanair</td>\n",
       "      <td>09:50</td>\n",
       "      <td>9:50AM</td>\n",
       "      <td>NaN</td>\n",
       "      <td>None</td>\n",
       "      <td>2019-05-13T10:00:00.000Z</td>\n",
       "      <td>/flight-tracker/FR/5445?year=2019&amp;month=5&amp;date...</td>\n",
       "    </tr>\n",
       "    <tr>\n",
       "      <th>2</th>\n",
       "      <td>Athens</td>\n",
       "      <td>ATH</td>\n",
       "      <td>12:00</td>\n",
       "      <td>12:00PM</td>\n",
       "      <td>700</td>\n",
       "      <td>A3</td>\n",
       "      <td>Aegean Airlines</td>\n",
       "      <td>09:10</td>\n",
       "      <td>9:10AM</td>\n",
       "      <td>NaN</td>\n",
       "      <td>None</td>\n",
       "      <td>2019-05-13T10:00:00.000Z</td>\n",
       "      <td>/flight-tracker/A3/700?year=2019&amp;month=5&amp;date=...</td>\n",
       "    </tr>\n",
       "    <tr>\n",
       "      <th>3</th>\n",
       "      <td>Miami</td>\n",
       "      <td>MIA</td>\n",
       "      <td>12:05</td>\n",
       "      <td>12:05PM</td>\n",
       "      <td>98</td>\n",
       "      <td>UX</td>\n",
       "      <td>Air Europa</td>\n",
       "      <td>21:30</td>\n",
       "      <td>9:30PM</td>\n",
       "      <td>NaN</td>\n",
       "      <td>None</td>\n",
       "      <td>2019-05-13T10:05:00.000Z</td>\n",
       "      <td>/flight-tracker/UX/98?year=2019&amp;month=5&amp;date=1...</td>\n",
       "    </tr>\n",
       "    <tr>\n",
       "      <th>4</th>\n",
       "      <td>Paris</td>\n",
       "      <td>ORY</td>\n",
       "      <td>12:05</td>\n",
       "      <td>12:05PM</td>\n",
       "      <td>1028</td>\n",
       "      <td>UX</td>\n",
       "      <td>Air Europa</td>\n",
       "      <td>10:05</td>\n",
       "      <td>10:05AM</td>\n",
       "      <td>NaN</td>\n",
       "      <td>None</td>\n",
       "      <td>2019-05-13T10:05:00.000Z</td>\n",
       "      <td>/flight-tracker/UX/1028?year=2019&amp;month=5&amp;date...</td>\n",
       "    </tr>\n",
       "  </tbody>\n",
       "</table>\n",
       "</div>"
      ],
      "text/plain": [
       "     airport.city airport.fs arrivalTime.time24 arrivalTime.timeAMPM  \\\n",
       "0  Palma Mallorca        PMI              12:00              12:00PM   \n",
       "1           Paris        BVA              12:00              12:00PM   \n",
       "2          Athens        ATH              12:00              12:00PM   \n",
       "3           Miami        MIA              12:05              12:05PM   \n",
       "4           Paris        ORY              12:05              12:05PM   \n",
       "\n",
       "  carrier.flightNumber carrier.fs     carrier.name departureTime.time24  \\\n",
       "0                 6030         UX       Air Europa                10:35   \n",
       "1                 5445         FR          Ryanair                09:50   \n",
       "2                  700         A3  Aegean Airlines                09:10   \n",
       "3                   98         UX       Air Europa                21:30   \n",
       "4                 1028         UX       Air Europa                10:05   \n",
       "\n",
       "  departureTime.timeAMPM isCodeshare operatedBy                  sortTime  \\\n",
       "0                10:35AM         NaN       None  2019-05-13T10:00:00.000Z   \n",
       "1                 9:50AM         NaN       None  2019-05-13T10:00:00.000Z   \n",
       "2                 9:10AM         NaN       None  2019-05-13T10:00:00.000Z   \n",
       "3                 9:30PM         NaN       None  2019-05-13T10:05:00.000Z   \n",
       "4                10:05AM         NaN       None  2019-05-13T10:05:00.000Z   \n",
       "\n",
       "                                                 url  \n",
       "0  /flight-tracker/UX/6030?year=2019&month=5&date...  \n",
       "1  /flight-tracker/FR/5445?year=2019&month=5&date...  \n",
       "2  /flight-tracker/A3/700?year=2019&month=5&date=...  \n",
       "3  /flight-tracker/UX/98?year=2019&month=5&date=1...  \n",
       "4  /flight-tracker/UX/1028?year=2019&month=5&date...  "
      ]
     },
     "execution_count": 13,
     "metadata": {},
     "output_type": "execute_result"
    }
   ],
   "source": [
    "code_shared_filter = h12_full_json_df['isCodeshare'] != True\n",
    "h12_main_flights_df = h12_full_json_df[code_shared_filter]\n",
    "h12_main_flights_df.reset_index(drop = True, inplace = True)\n",
    "print(h12_main_flights_df.shape)\n",
    "h12_main_flights_df.head()"
   ]
  },
  {
   "cell_type": "code",
   "execution_count": 14,
   "metadata": {},
   "outputs": [
    {
     "name": "stdout",
     "output_type": "stream",
     "text": [
      "(204, 13)\n"
     ]
    },
    {
     "data": {
      "text/html": [
       "<div>\n",
       "<style scoped>\n",
       "    .dataframe tbody tr th:only-of-type {\n",
       "        vertical-align: middle;\n",
       "    }\n",
       "\n",
       "    .dataframe tbody tr th {\n",
       "        vertical-align: top;\n",
       "    }\n",
       "\n",
       "    .dataframe thead th {\n",
       "        text-align: right;\n",
       "    }\n",
       "</style>\n",
       "<table border=\"1\" class=\"dataframe\">\n",
       "  <thead>\n",
       "    <tr style=\"text-align: right;\">\n",
       "      <th></th>\n",
       "      <th>airport.city</th>\n",
       "      <th>airport.fs</th>\n",
       "      <th>arrivalTime.time24</th>\n",
       "      <th>arrivalTime.timeAMPM</th>\n",
       "      <th>carrier.flightNumber</th>\n",
       "      <th>carrier.fs</th>\n",
       "      <th>carrier.name</th>\n",
       "      <th>departureTime.time24</th>\n",
       "      <th>departureTime.timeAMPM</th>\n",
       "      <th>isCodeshare</th>\n",
       "      <th>operatedBy</th>\n",
       "      <th>sortTime</th>\n",
       "      <th>url</th>\n",
       "    </tr>\n",
       "  </thead>\n",
       "  <tbody>\n",
       "    <tr>\n",
       "      <th>0</th>\n",
       "      <td>Porto</td>\n",
       "      <td>OPO</td>\n",
       "      <td>18:00</td>\n",
       "      <td>6:00PM</td>\n",
       "      <td>1140</td>\n",
       "      <td>UX</td>\n",
       "      <td>Air Europa</td>\n",
       "      <td>15:50</td>\n",
       "      <td>3:50PM</td>\n",
       "      <td>NaN</td>\n",
       "      <td>None</td>\n",
       "      <td>2019-05-13T16:00:00.000Z</td>\n",
       "      <td>/flight-tracker/UX/1140?year=2019&amp;month=5&amp;date...</td>\n",
       "    </tr>\n",
       "    <tr>\n",
       "      <th>1</th>\n",
       "      <td>Munich</td>\n",
       "      <td>MUC</td>\n",
       "      <td>18:00</td>\n",
       "      <td>6:00PM</td>\n",
       "      <td>1804</td>\n",
       "      <td>LH</td>\n",
       "      <td>Lufthansa</td>\n",
       "      <td>15:20</td>\n",
       "      <td>3:20PM</td>\n",
       "      <td>NaN</td>\n",
       "      <td>None</td>\n",
       "      <td>2019-05-13T16:00:00.000Z</td>\n",
       "      <td>/flight-tracker/LH/1804?year=2019&amp;month=5&amp;date...</td>\n",
       "    </tr>\n",
       "    <tr>\n",
       "      <th>2</th>\n",
       "      <td>Asturias</td>\n",
       "      <td>OVD</td>\n",
       "      <td>18:05</td>\n",
       "      <td>6:05PM</td>\n",
       "      <td>7406</td>\n",
       "      <td>UX</td>\n",
       "      <td>Air Europa</td>\n",
       "      <td>16:45</td>\n",
       "      <td>4:45PM</td>\n",
       "      <td>NaN</td>\n",
       "      <td>Operated by Wasaya Airways on behalf of Air Eu...</td>\n",
       "      <td>2019-05-13T16:05:00.000Z</td>\n",
       "      <td>/flight-tracker/UX/7406?year=2019&amp;month=5&amp;date...</td>\n",
       "    </tr>\n",
       "    <tr>\n",
       "      <th>3</th>\n",
       "      <td>Prague</td>\n",
       "      <td>PRG</td>\n",
       "      <td>18:05</td>\n",
       "      <td>6:05PM</td>\n",
       "      <td>3149</td>\n",
       "      <td>IB</td>\n",
       "      <td>Iberia</td>\n",
       "      <td>15:00</td>\n",
       "      <td>3:00PM</td>\n",
       "      <td>NaN</td>\n",
       "      <td>None</td>\n",
       "      <td>2019-05-13T16:05:00.000Z</td>\n",
       "      <td>/flight-tracker/IB/3149?year=2019&amp;month=5&amp;date...</td>\n",
       "    </tr>\n",
       "    <tr>\n",
       "      <th>4</th>\n",
       "      <td>Lisbon</td>\n",
       "      <td>LIS</td>\n",
       "      <td>18:05</td>\n",
       "      <td>6:05PM</td>\n",
       "      <td>1156</td>\n",
       "      <td>UX</td>\n",
       "      <td>Air Europa</td>\n",
       "      <td>15:45</td>\n",
       "      <td>3:45PM</td>\n",
       "      <td>NaN</td>\n",
       "      <td>None</td>\n",
       "      <td>2019-05-13T16:05:00.000Z</td>\n",
       "      <td>/flight-tracker/UX/1156?year=2019&amp;month=5&amp;date...</td>\n",
       "    </tr>\n",
       "  </tbody>\n",
       "</table>\n",
       "</div>"
      ],
      "text/plain": [
       "  airport.city airport.fs arrivalTime.time24 arrivalTime.timeAMPM  \\\n",
       "0        Porto        OPO              18:00               6:00PM   \n",
       "1       Munich        MUC              18:00               6:00PM   \n",
       "2     Asturias        OVD              18:05               6:05PM   \n",
       "3       Prague        PRG              18:05               6:05PM   \n",
       "4       Lisbon        LIS              18:05               6:05PM   \n",
       "\n",
       "  carrier.flightNumber carrier.fs carrier.name departureTime.time24  \\\n",
       "0                 1140         UX   Air Europa                15:50   \n",
       "1                 1804         LH    Lufthansa                15:20   \n",
       "2                 7406         UX   Air Europa                16:45   \n",
       "3                 3149         IB       Iberia                15:00   \n",
       "4                 1156         UX   Air Europa                15:45   \n",
       "\n",
       "  departureTime.timeAMPM isCodeshare  \\\n",
       "0                 3:50PM         NaN   \n",
       "1                 3:20PM         NaN   \n",
       "2                 4:45PM         NaN   \n",
       "3                 3:00PM         NaN   \n",
       "4                 3:45PM         NaN   \n",
       "\n",
       "                                          operatedBy  \\\n",
       "0                                               None   \n",
       "1                                               None   \n",
       "2  Operated by Wasaya Airways on behalf of Air Eu...   \n",
       "3                                               None   \n",
       "4                                               None   \n",
       "\n",
       "                   sortTime                                                url  \n",
       "0  2019-05-13T16:00:00.000Z  /flight-tracker/UX/1140?year=2019&month=5&date...  \n",
       "1  2019-05-13T16:00:00.000Z  /flight-tracker/LH/1804?year=2019&month=5&date...  \n",
       "2  2019-05-13T16:05:00.000Z  /flight-tracker/UX/7406?year=2019&month=5&date...  \n",
       "3  2019-05-13T16:05:00.000Z  /flight-tracker/IB/3149?year=2019&month=5&date...  \n",
       "4  2019-05-13T16:05:00.000Z  /flight-tracker/UX/1156?year=2019&month=5&date...  "
      ]
     },
     "execution_count": 14,
     "metadata": {},
     "output_type": "execute_result"
    }
   ],
   "source": [
    "code_shared_filter = h18_full_json_df['isCodeshare'] != True\n",
    "h18_main_flights_df = h18_full_json_df[code_shared_filter]\n",
    "h18_main_flights_df.reset_index(drop = True, inplace = True)\n",
    "print(h18_main_flights_df.shape)\n",
    "h18_main_flights_df.head()"
   ]
  },
  {
   "cell_type": "code",
   "execution_count": null,
   "metadata": {},
   "outputs": [],
   "source": []
  },
  {
   "cell_type": "markdown",
   "metadata": {},
   "source": [
    "`url_constructor = pd.Series(h6_main_flights_df.loc[:, 'url'])`"
   ]
  },
  {
   "cell_type": "code",
   "execution_count": 15,
   "metadata": {
    "scrolled": true
   },
   "outputs": [],
   "source": [
    "# h24_main_flights_df is the dataframe that holds all the main flights dataframes.\n",
    "h24_main_flights_df = pd.DataFrame().append(h0_main_flights_df, ignore_index = True).append(h6_main_flights_df, ignore_index = True).append(h12_main_flights_df, ignore_index = True).append(h18_main_flights_df, ignore_index = True)"
   ]
  },
  {
   "cell_type": "code",
   "execution_count": 16,
   "metadata": {
    "scrolled": true
   },
   "outputs": [
    {
     "data": {
      "text/html": [
       "<div>\n",
       "<style scoped>\n",
       "    .dataframe tbody tr th:only-of-type {\n",
       "        vertical-align: middle;\n",
       "    }\n",
       "\n",
       "    .dataframe tbody tr th {\n",
       "        vertical-align: top;\n",
       "    }\n",
       "\n",
       "    .dataframe thead th {\n",
       "        text-align: right;\n",
       "    }\n",
       "</style>\n",
       "<table border=\"1\" class=\"dataframe\">\n",
       "  <thead>\n",
       "    <tr style=\"text-align: right;\">\n",
       "      <th></th>\n",
       "      <th>airport.city</th>\n",
       "      <th>airport.fs</th>\n",
       "      <th>arrivalTime.time24</th>\n",
       "      <th>arrivalTime.timeAMPM</th>\n",
       "      <th>carrier.flightNumber</th>\n",
       "      <th>carrier.fs</th>\n",
       "      <th>carrier.name</th>\n",
       "      <th>departureTime.time24</th>\n",
       "      <th>departureTime.timeAMPM</th>\n",
       "      <th>isCodeshare</th>\n",
       "      <th>operatedBy</th>\n",
       "      <th>sortTime</th>\n",
       "      <th>url</th>\n",
       "    </tr>\n",
       "  </thead>\n",
       "  <tbody>\n",
       "    <tr>\n",
       "      <th>0</th>\n",
       "      <td>Kiev/Kyiv</td>\n",
       "      <td>KBP</td>\n",
       "      <td>00:10</td>\n",
       "      <td>12:10AM</td>\n",
       "      <td>945</td>\n",
       "      <td>PS</td>\n",
       "      <td>UIA</td>\n",
       "      <td>20:40</td>\n",
       "      <td>8:40PM</td>\n",
       "      <td>NaN</td>\n",
       "      <td>None</td>\n",
       "      <td>2019-05-12T22:10:00.000Z</td>\n",
       "      <td>/flight-tracker/PS/945?year=2019&amp;month=5&amp;date=...</td>\n",
       "    </tr>\n",
       "    <tr>\n",
       "      <th>1</th>\n",
       "      <td>Ibiza</td>\n",
       "      <td>IBZ</td>\n",
       "      <td>00:20</td>\n",
       "      <td>12:20AM</td>\n",
       "      <td>3418</td>\n",
       "      <td>VY</td>\n",
       "      <td>Vueling</td>\n",
       "      <td>23:00</td>\n",
       "      <td>11:00PM</td>\n",
       "      <td>NaN</td>\n",
       "      <td>None</td>\n",
       "      <td>2019-05-12T22:20:00.000Z</td>\n",
       "      <td>/flight-tracker/VY/3418?year=2019&amp;month=5&amp;date...</td>\n",
       "    </tr>\n",
       "    <tr>\n",
       "      <th>2</th>\n",
       "      <td>Copenhagen</td>\n",
       "      <td>CPH</td>\n",
       "      <td>00:35</td>\n",
       "      <td>12:35AM</td>\n",
       "      <td>606</td>\n",
       "      <td>FR</td>\n",
       "      <td>Ryanair</td>\n",
       "      <td>21:10</td>\n",
       "      <td>9:10PM</td>\n",
       "      <td>NaN</td>\n",
       "      <td>None</td>\n",
       "      <td>2019-05-12T22:35:00.000Z</td>\n",
       "      <td>/flight-tracker/FR/606?year=2019&amp;month=5&amp;date=...</td>\n",
       "    </tr>\n",
       "    <tr>\n",
       "      <th>3</th>\n",
       "      <td>Lanzarote</td>\n",
       "      <td>ACE</td>\n",
       "      <td>00:40</td>\n",
       "      <td>12:40AM</td>\n",
       "      <td>9076</td>\n",
       "      <td>UX</td>\n",
       "      <td>Air Europa</td>\n",
       "      <td>21:10</td>\n",
       "      <td>9:10PM</td>\n",
       "      <td>NaN</td>\n",
       "      <td>None</td>\n",
       "      <td>2019-05-12T22:40:00.000Z</td>\n",
       "      <td>/flight-tracker/UX/9076?year=2019&amp;month=5&amp;date...</td>\n",
       "    </tr>\n",
       "    <tr>\n",
       "      <th>4</th>\n",
       "      <td>Palma Mallorca</td>\n",
       "      <td>PMI</td>\n",
       "      <td>00:55</td>\n",
       "      <td>12:55AM</td>\n",
       "      <td>5431</td>\n",
       "      <td>FR</td>\n",
       "      <td>Ryanair</td>\n",
       "      <td>23:25</td>\n",
       "      <td>11:25PM</td>\n",
       "      <td>NaN</td>\n",
       "      <td>None</td>\n",
       "      <td>2019-05-12T22:55:00.000Z</td>\n",
       "      <td>/flight-tracker/FR/5431?year=2019&amp;month=5&amp;date...</td>\n",
       "    </tr>\n",
       "  </tbody>\n",
       "</table>\n",
       "</div>"
      ],
      "text/plain": [
       "     airport.city airport.fs arrivalTime.time24 arrivalTime.timeAMPM  \\\n",
       "0       Kiev/Kyiv        KBP              00:10              12:10AM   \n",
       "1           Ibiza        IBZ              00:20              12:20AM   \n",
       "2      Copenhagen        CPH              00:35              12:35AM   \n",
       "3       Lanzarote        ACE              00:40              12:40AM   \n",
       "4  Palma Mallorca        PMI              00:55              12:55AM   \n",
       "\n",
       "  carrier.flightNumber carrier.fs carrier.name departureTime.time24  \\\n",
       "0                  945         PS          UIA                20:40   \n",
       "1                 3418         VY      Vueling                23:00   \n",
       "2                  606         FR      Ryanair                21:10   \n",
       "3                 9076         UX   Air Europa                21:10   \n",
       "4                 5431         FR      Ryanair                23:25   \n",
       "\n",
       "  departureTime.timeAMPM isCodeshare operatedBy                  sortTime  \\\n",
       "0                 8:40PM         NaN       None  2019-05-12T22:10:00.000Z   \n",
       "1                11:00PM         NaN       None  2019-05-12T22:20:00.000Z   \n",
       "2                 9:10PM         NaN       None  2019-05-12T22:35:00.000Z   \n",
       "3                 9:10PM         NaN       None  2019-05-12T22:40:00.000Z   \n",
       "4                11:25PM         NaN       None  2019-05-12T22:55:00.000Z   \n",
       "\n",
       "                                                 url  \n",
       "0  /flight-tracker/PS/945?year=2019&month=5&date=...  \n",
       "1  /flight-tracker/VY/3418?year=2019&month=5&date...  \n",
       "2  /flight-tracker/FR/606?year=2019&month=5&date=...  \n",
       "3  /flight-tracker/UX/9076?year=2019&month=5&date...  \n",
       "4  /flight-tracker/FR/5431?year=2019&month=5&date...  "
      ]
     },
     "execution_count": 16,
     "metadata": {},
     "output_type": "execute_result"
    }
   ],
   "source": [
    "h24_main_flights_df.head()"
   ]
  },
  {
   "cell_type": "code",
   "execution_count": 17,
   "metadata": {},
   "outputs": [
    {
     "data": {
      "text/plain": [
       "(582, 13)"
      ]
     },
     "execution_count": 17,
     "metadata": {},
     "output_type": "execute_result"
    }
   ],
   "source": [
    "h24_main_flights_df.shape"
   ]
  },
  {
   "cell_type": "code",
   "execution_count": 18,
   "metadata": {},
   "outputs": [
    {
     "data": {
      "text/plain": [
       "Index(['airport.city', 'airport.fs', 'arrivalTime.time24',\n",
       "       'arrivalTime.timeAMPM', 'carrier.flightNumber', 'carrier.fs',\n",
       "       'carrier.name', 'departureTime.time24', 'departureTime.timeAMPM',\n",
       "       'isCodeshare', 'operatedBy', 'sortTime', 'url'],\n",
       "      dtype='object')"
      ]
     },
     "execution_count": 18,
     "metadata": {},
     "output_type": "execute_result"
    }
   ],
   "source": [
    "h24_main_flights_df.columns"
   ]
  },
  {
   "cell_type": "code",
   "execution_count": 19,
   "metadata": {
    "scrolled": true
   },
   "outputs": [],
   "source": [
    "h24_main_flights_df['full_url_path'] = \"https://www.flightstats.com/v2\" + h24_main_flights_df['url']"
   ]
  },
  {
   "cell_type": "code",
   "execution_count": 20,
   "metadata": {},
   "outputs": [
    {
     "data": {
      "text/plain": [
       "(582, 14)"
      ]
     },
     "execution_count": 20,
     "metadata": {},
     "output_type": "execute_result"
    }
   ],
   "source": [
    "h24_main_flights_df.shape"
   ]
  },
  {
   "cell_type": "code",
   "execution_count": 21,
   "metadata": {},
   "outputs": [],
   "source": [
    "individual_flights = tuple(h24_main_flights_df['full_url_path'])"
   ]
  },
  {
   "cell_type": "code",
   "execution_count": 22,
   "metadata": {},
   "outputs": [
    {
     "data": {
      "text/plain": [
       "'https://www.flightstats.com/v2/flight-tracker/PS/945?year=2019&month=5&date=12&flightId=999564363'"
      ]
     },
     "execution_count": 22,
     "metadata": {},
     "output_type": "execute_result"
    }
   ],
   "source": [
    "testing_url = individual_flights[0]\n",
    "testing_url"
   ]
  },
  {
   "cell_type": "markdown",
   "metadata": {},
   "source": [
    "### Scraping process to each flight."
   ]
  },
  {
   "cell_type": "code",
   "execution_count": 23,
   "metadata": {},
   "outputs": [],
   "source": [
    "flight_info = session.get(testing_url)"
   ]
  },
  {
   "cell_type": "code",
   "execution_count": 24,
   "metadata": {},
   "outputs": [
    {
     "data": {
      "text/plain": [
       "<Response [200]>"
      ]
     },
     "execution_count": 24,
     "metadata": {},
     "output_type": "execute_result"
    }
   ],
   "source": [
    "flight_info"
   ]
  },
  {
   "cell_type": "markdown",
   "metadata": {},
   "source": [
    "#### Actual departure time."
   ]
  },
  {
   "cell_type": "code",
   "execution_count": 25,
   "metadata": {
    "scrolled": true
   },
   "outputs": [
    {
     "data": {
      "text/plain": [
       "70417"
      ]
     },
     "execution_count": 25,
     "metadata": {},
     "output_type": "execute_result"
    }
   ],
   "source": [
    "flight_info.html.html.index(\"text-helper__TextHelper-s8bko4a-0 cCfBRT\")"
   ]
  },
  {
   "cell_type": "code",
   "execution_count": 26,
   "metadata": {},
   "outputs": [
    {
     "data": {
      "text/plain": [
       "'text-helper__TextHelper-s8bko4a-0 cCfBRT\">20:40<span class=\"ticket__TimeS'"
      ]
     },
     "execution_count": 26,
     "metadata": {},
     "output_type": "execute_result"
    }
   ],
   "source": [
    "flight_info.html.html[70417:70490]"
   ]
  },
  {
   "cell_type": "code",
   "execution_count": 27,
   "metadata": {},
   "outputs": [
    {
     "data": {
      "text/plain": [
       "['text-helper__TextHelper-s8bko4a-0 cCfBRT\"',\n",
       " '20:40<span class=\"ticket__TimeS']"
      ]
     },
     "execution_count": 27,
     "metadata": {},
     "output_type": "execute_result"
    }
   ],
   "source": [
    "flight_info.html.html[70417:70490].split(\">\")"
   ]
  },
  {
   "cell_type": "code",
   "execution_count": 28,
   "metadata": {},
   "outputs": [
    {
     "data": {
      "text/plain": [
       "'20:40'"
      ]
     },
     "execution_count": 28,
     "metadata": {},
     "output_type": "execute_result"
    }
   ],
   "source": [
    "# this should be stored in a list for future convertion to a pd.Series to join the table.\n",
    "flight_info.html.html[70417:70490].split(\">\")[1][:5]"
   ]
  },
  {
   "cell_type": "markdown",
   "metadata": {},
   "source": [
    "#### Actual arriving time."
   ]
  },
  {
   "cell_type": "code",
   "execution_count": null,
   "metadata": {},
   "outputs": [],
   "source": [
    "# <div class=\"text-helper__TextHelper-s8bko4a-0 cCfBRT\">23:52<span class=\"ticket__TimeSuffix-s1rrbl5o-12 koWibD\" color=\"#d6d6d6\"> CEST</span></div>"
   ]
  },
  {
   "cell_type": "code",
   "execution_count": 30,
   "metadata": {},
   "outputs": [
    {
     "data": {
      "text/plain": [
       "70417"
      ]
     },
     "execution_count": 30,
     "metadata": {},
     "output_type": "execute_result"
    }
   ],
   "source": [
    "flight_info.html.html.index(\"text-helper__TextHelper-s8bko4a-0 cCfBRT\")"
   ]
  },
  {
   "cell_type": "code",
   "execution_count": 43,
   "metadata": {},
   "outputs": [
    {
     "data": {
      "text/plain": [
       "'text-helper__TextHelper-s8bko4a-0 cCfBRT\">23:52<span class=\"ticket__TimeSuffix-s1rrbl'"
      ]
     },
     "execution_count": 43,
     "metadata": {},
     "output_type": "execute_result"
    }
   ],
   "source": [
    "flight_info.html.html[72675:72760]"
   ]
  },
  {
   "cell_type": "code",
   "execution_count": 44,
   "metadata": {},
   "outputs": [
    {
     "data": {
      "text/plain": [
       "['text-helper__TextHelper-s8bko4a-0 cCfBRT\"',\n",
       " '23:52<span class=\"ticket__TimeSuffix-s1rrbl']"
      ]
     },
     "execution_count": 44,
     "metadata": {},
     "output_type": "execute_result"
    }
   ],
   "source": [
    "flight_info.html.html[72675:72760].split('>')"
   ]
  },
  {
   "cell_type": "code",
   "execution_count": 45,
   "metadata": {},
   "outputs": [
    {
     "data": {
      "text/plain": [
       "'23:52'"
      ]
     },
     "execution_count": 45,
     "metadata": {},
     "output_type": "execute_result"
    }
   ],
   "source": [
    "flight_info.html.html[72675:72760].split('>')[1][:5]"
   ]
  },
  {
   "cell_type": "code",
   "execution_count": null,
   "metadata": {},
   "outputs": [],
   "source": []
  },
  {
   "cell_type": "code",
   "execution_count": 29,
   "metadata": {},
   "outputs": [
    {
     "data": {
      "text/plain": [
       "(582, tuple)"
      ]
     },
     "execution_count": 29,
     "metadata": {},
     "output_type": "execute_result"
    }
   ],
   "source": [
    "len(individual_flights), type(individual_flights)"
   ]
  },
  {
   "cell_type": "markdown",
   "metadata": {},
   "source": [
    "#### Second try (test)"
   ]
  },
  {
   "cell_type": "code",
   "execution_count": 51,
   "metadata": {},
   "outputs": [
    {
     "data": {
      "text/plain": [
       "('https://www.flightstats.com/v2/flight-tracker/UX/5052?year=2019&month=5&date=13&flightId=999700288',\n",
       " <Response [200]>)"
      ]
     },
     "execution_count": 51,
     "metadata": {},
     "output_type": "execute_result"
    }
   ],
   "source": [
    "testing_url_2 = individual_flights[100]\n",
    "flight_info = session.get(testing_url_2)\n",
    "testing_url_2, flight_info"
   ]
  },
  {
   "cell_type": "markdown",
   "metadata": {},
   "source": [
    "#### 2 Actual departure time."
   ]
  },
  {
   "cell_type": "code",
   "execution_count": 59,
   "metadata": {
    "scrolled": true
   },
   "outputs": [
    {
     "data": {
      "text/plain": [
       "70813"
      ]
     },
     "execution_count": 59,
     "metadata": {},
     "output_type": "execute_result"
    }
   ],
   "source": [
    "arr_time_searcher = flight_info.html.html.index(\"text-helper__TextHelper-s8bko4a-0 cCfBRT\")\n",
    "arr_time_searcher"
   ]
  },
  {
   "cell_type": "code",
   "execution_count": 56,
   "metadata": {},
   "outputs": [
    {
     "data": {
      "text/plain": [
       "'text-helper__TextHelper-s8bko4a-0 cCfBRT\">08:20<span class=\"'"
      ]
     },
     "execution_count": 56,
     "metadata": {},
     "output_type": "execute_result"
    }
   ],
   "source": [
    "flight_info.html.html[arr_time_searcher:(arr_time_searcher + 60)]"
   ]
  },
  {
   "cell_type": "code",
   "execution_count": 57,
   "metadata": {},
   "outputs": [
    {
     "data": {
      "text/plain": [
       "['text-helper__TextHelper-s8bko4a-0 cCfBRT\"', '08:20<span class=\"']"
      ]
     },
     "execution_count": 57,
     "metadata": {},
     "output_type": "execute_result"
    }
   ],
   "source": [
    "flight_info.html.html[arr_time_searcher:(arr_time_searcher + 60)].split(\">\")"
   ]
  },
  {
   "cell_type": "code",
   "execution_count": 58,
   "metadata": {},
   "outputs": [
    {
     "data": {
      "text/plain": [
       "'08:20'"
      ]
     },
     "execution_count": 58,
     "metadata": {},
     "output_type": "execute_result"
    }
   ],
   "source": [
    "# this should be stored in a list for future convertion to a pd.Series to join the table.\n",
    "flight_info.html.html[arr_time_searcher:(arr_time_searcher + 60)].split(\">\")[1][:5]"
   ]
  },
  {
   "cell_type": "markdown",
   "metadata": {},
   "source": [
    "#### 2 Actual arriving time."
   ]
  },
  {
   "cell_type": "code",
   "execution_count": 63,
   "metadata": {},
   "outputs": [
    {
     "data": {
      "text/plain": [
       "70813"
      ]
     },
     "execution_count": 63,
     "metadata": {},
     "output_type": "execute_result"
    }
   ],
   "source": [
    "time_searcher = flight_info.html.html.index(\"text-helper__TextHelper-s8bko4a-0 cCfBRT\")\n",
    "time_searcher"
   ]
  },
  {
   "cell_type": "code",
   "execution_count": 78,
   "metadata": {},
   "outputs": [
    {
     "data": {
      "text/plain": [
       "(0, 'text-helper__TextHelper-s8bko4a-0 cCfBRT\">09:43<span class=\"')"
      ]
     },
     "execution_count": 78,
     "metadata": {},
     "output_type": "execute_result"
    }
   ],
   "source": [
    "flight_info.html.html[73070:].index(\"text-helper__TextHelper-s8bko4a-0 cCfBRT\"), flight_info.html.html[73070: 73130]"
   ]
  },
  {
   "cell_type": "code",
   "execution_count": 79,
   "metadata": {},
   "outputs": [
    {
     "data": {
      "text/plain": [
       "['text-helper__TextHelper-s8bko4a-0 cCfBRT\"', '09:43<span class=\"']"
      ]
     },
     "execution_count": 79,
     "metadata": {},
     "output_type": "execute_result"
    }
   ],
   "source": [
    "flight_info.html.html[73070: 73130].split('>')"
   ]
  },
  {
   "cell_type": "code",
   "execution_count": 80,
   "metadata": {},
   "outputs": [
    {
     "data": {
      "text/plain": [
       "'09:43'"
      ]
     },
     "execution_count": 80,
     "metadata": {},
     "output_type": "execute_result"
    }
   ],
   "source": [
    "flight_info.html.html[73070: 73130].split('>')[1][:5]"
   ]
  },
  {
   "cell_type": "code",
   "execution_count": null,
   "metadata": {},
   "outputs": [],
   "source": []
  },
  {
   "cell_type": "code",
   "execution_count": null,
   "metadata": {},
   "outputs": [],
   "source": []
  },
  {
   "cell_type": "markdown",
   "metadata": {},
   "source": [
    "#### Testing area"
   ]
  },
  {
   "cell_type": "code",
   "execution_count": 33,
   "metadata": {},
   "outputs": [
    {
     "data": {
      "text/plain": [
       "'<!DOCTYPE html><html lang=\"en\"><head><meta charSet=\"utf-8\" class=\"next-head next-head\"/><title class=\"next-head\">PS945 - UIA PS 945 Flight Tracker</title><meta name=\"description\" content=\"PS945 Flight Tracker - Track the real-time flight status of UIA PS 945 live using the FlightStats Global Flight Tracker. See if your flight has been delayed or cancelled and track the live position on a map.\" class=\"next-head\"/><meta name=\"keywords\" content=\"UIA 945 flight tracker, UIA 945 flight status, PS 945 flight tracker, PS 945 flight status, UIA PS 945 map, PS 945, PS945, UIA 945\" class=\"next-head\"/><link rel=\"canonical\" href=\"https://www.flightstats.com/v2/flight-tracker/PS/945\" class=\"next-head\"/><link rel=\"preload\" href=\"https://assets.flightstats.com/_next/a8237653-42d3-405f-80f7-968fa097acbb/page/flight-tracker.js\" as=\"script\"/><link rel=\"preload\" href=\"https://assets.flightstats.com/_next/a8237653-42d3-405f-80f7-968fa097acbb/page/_app.js\" as=\"script\"/><link rel=\"preload\" href=\"https://assets.flightstats.com/_next/a8237653-42d3-405f-80f7-968fa097acbb/page/_error.js\" as=\"script\"/><link rel=\"preload\" href=\"https://assets.flightstats.com/_next/webpack/chunks/components_flight_tracker_desktop_flight_tracker_1004a16819e730dabd9dbbe1b808caab-65673ad82532745d56aa.js\" as=\"script\"/><link rel=\"preload\" href=\"https://assets.flightstats.com/_next/static/commons/main-4b169eb61d6e07b5f571.js\" as=\"script\"/><meta http-equiv=\"X-UA-Compatible\" content=\"IE=edge\"/><meta name=\"viewport\" content=\"width=device-width, initial-scale=1, maximum-scale=1.0, user-scalable=no\"/><meta http-equiv=\"author\" content=\"FlightStats\"/><meta http-equiv=\"content-language\" content=\"en\"/><meta name=\"google-site-verification\" content=\"sdx17GUIry1sOCFrE4QI7L_Tt3pZAsxcJPus7GMGy4o\"/><meta name=\"msvalidate.01\" content=\"A167FCB9E0FBD63D0AB1A009BD1DE94D\"/><meta name=\"yandex-verification\" content=\"7d539e4073f4a4f0\"/><meta name=\"apple-itunes-app\" content=\"app-id=572700574\"/><meta name=\"google-play-app\" content=\"app-id=com.conducivetech.android.traveler\"/><meta property=\"fb:admins\" content=\"655785594\"/><meta property=\"fb:app_id\" content=\"1077411515655230\"/><meta property=\"og:site_name\" content=\"FlightStats\"/><meta property=\"og:type\" content=\"website\"/><meta property=\"og:image\" content=\"https://assets.flightstats.com/common/fs-meta-social.jpg\"/><meta property=\"og:image:width\" content=\"1200\"/><meta property=\"og:image:height\" content=\"630\"/><meta name=\"twitter:site\" content=\"@flightstats\"/><meta name=\"twitter:card\" content=\"summary_large_image\"/><meta name=\"fragment\" content=\"!\"/><style>html{line-height:1.15;-webkit-text-size-adjust:100%;}body{margin:0;}h1{font-size:2em;margin:0.67em 0;}hr{box-sizing:content-box;height:0;overflow:visible;}pre{font-family:monospace,monospace;font-size:1em;}a{background-color:transparent;color:white;cursor:pointer;}a:visited{color:white;}a:active{color:#5F5F5F;}abbr[title]{border-bottom:none;text-decoration:underline;text-decoration:underline dotted;}b,strong{font-weight:bolder;}code,kbd,samp{font-family:monospace,monospace;font-size:1em;}small{font-size:80%;}sub,sup{font-size:75%;line-height:0;position:relative;vertical-align:baseline;}sub{bottom:-0.25em;}sup{top:-0.5em;}img{border-style:none;}button,input,optgroup,select,textarea{font-family:inherit;font-size:100%;line-height:1.15;margin:0;}button,input{overflow:visible;}button,select{text-transform:none;}button,[type=\"button\"],[type=\"reset\"],[type=\"submit\"]{-webkit-appearance:button;}button::-moz-focus-inner,[type=\"button\"]::-moz-focus-inner,[type=\"reset\"]::-moz-focus-inner,[type=\"submit\"]::-moz-focus-inner{border-style:none;padding:0;}button:-moz-focusring,[type=\"button\"]:-moz-focusring,[type=\"reset\"]:-moz-focusring,[type=\"submit\"]:-moz-focusring{outline:1px dotted ButtonText;}fieldset{padding:0.35em 0.75em 0.625em;}legend{box-sizing:border-box;color:inherit;display:table;max-width:100%;padding:0;white-space:normal;}progress{vertical-align:baseline;}textarea{overflow:auto;}[type=\"checkbox\"],[type=\"radio\"]{box-sizing:border-box;padding:0;}[type=\"number\"]::-webkit-inner-spin-button,[type=\"number\"]::-webkit-outer-spin-button{height:auto;}[type=\"search\"]{-webkit-appearance:textfield;outline-offset:-2px;}[type=\"search\"]::-webkit-search-decoration{-webkit-appearance:none;}::-webkit-file-upload-button{-webkit-appearance:button;font:inherit;}details{display:block;}summary{display:list-item;}template{display:none;}[hidden]{display:none;}@font-face{font-family:\"proxima-nova\";src:url(\"https://assets.flightstats.com/common/webfonts/proximanova-light/proximanova-light-webfont.woff2\") format(\"woff2\"),url(\"https://assets.flightstats.com/common/webfonts/proximanova-light/proximanova-light-webfont.woff\") format(\"woff\"),url(\"https://assets.flightstats.com/common/webfonts/proximanova-light/proximanova-light-webfont.ttf\") format(\"truetype\"),url(\"https://assets.flightstats.com/common/webfonts/proximanova-light/proximanova-light-webfont.svg#proxima_novalight\") format(\"svg\");font-weight:300;font-style:normal;font-display:fallback;}@font-face{font-family:\"proxima-nova\";src:url(\"https://assets.flightstats.com/common/webfonts/proximanova-lightitalic/proximanova-lightit-webfont.woff2\") format(\"woff2\"),url(\"https://assets.flightstats.com/common/webfonts/proximanova-lightitalic/proximanova-lightit-webfont.woff\") format(\"woff\"),url(\"https://assets.flightstats.com/common/webfonts/proximanova-lightitalic/proximanova-lightit-webfont.ttf\") format(\"truetype\"),url(\"https://assets.flightstats.com/common/webfonts/proximanova-lightitalic/proximanova-lightit-webfont.svg#proxima_novalight_italic\") format(\"svg\");font-weight:300;font-style:italic;font-display:fallback;}@font-face{font-family:\"proxima-nova\";src:url(\"https://assets.flightstats.com/common/webfonts/proximanova-regular/proximanova-regular-webfont.woff2\") format(\"woff2\"),url(\"https://assets.flightstats.com/common/webfonts/proximanova-regular/proximanova-regular-webfont.woff\") format(\"woff\"),url(\"https://assets.flightstats.com/common/webfonts/proximanova-regular/proximanova-regular-webfont.ttf\") format(\"truetype\"),url(\"https://assets.flightstats.com/common/webfonts/proximanova-regular/proximanova-regular-webfont.svg#proxima_novaregular\") format(\"svg\");font-weight:400;font-style:normal;font-display:fallback;}@font-face{font-family:\"proxima-nova\";src:url(\"https://assets.flightstats.com/common/webfonts/proximanova-italic/proximanova-regularit-webfont.woff2\") format(\"woff2\"),url(\"https://assets.flightstats.com/common/webfonts/proximanova-italic/proximanova-regularit-webfont.woff\") format(\"woff\"),url(\"https://assets.flightstats.com/common/webfonts/proximanova-italic/proximanova-regularit-webfont.ttf\") format(\"truetype\"),url(\"https://assets.flightstats.com/common/webfonts/proximanova-italic/proximanova-regularit-webfont.svg#proxima_novaitalic\") format(\"svg\");font-weight:400;font-style:italic;font-display:fallback;}@font-face{font-family:\"proxima-nova\";src:url(\"https://assets.flightstats.com/common/webfonts/proximanova-bold/proximanova-bold2-webfont.woff2\") format(\"woff2\"),url(\"https://assets.flightstats.com/common/webfonts/proximanova-bold/proximanova-bold2-webfont.woff\") format(\"woff\"),url(\"https://assets.flightstats.com/common/webfonts/proximanova-bold/proximanova-bold-webfont.ttf\") format(\"truetype\"),url(\"https://assets.flightstats.com/common/webfonts/proximanova-bold/proximanova-bold-webfont.svg#proxima_novabold\") format(\"svg\");font-weight:700;font-style:normal;font-display:fallback;}@font-face{font-family:\"proxima-nova\";src:url(\"https://assets.flightstats.com/common/webfonts/proximanova-bolditalic/proximanova-boldit-webfont.woff2\") format(\"woff2\"),url(\"https://assets.flightstats.com/common/webfonts/proximanova-bolditalic/proximanova-boldit-webfont.woff\") format(\"woff\"),url(\"https://assets.flightstats.com/common/webfonts/proximanova-bolditalic/proximanova-boldit-webfont.ttf\") format(\"truetype\"),url(\"https://assets.flightstats.com/common/webfonts/proximanova-bolditalic/proximanova-boldit-webfont.svg#proxima_novabold_italic\") format(\"svg\");font-weight:700;font-style:italic;font-display:fallback;}html{font-family:\\'proxima-nova\\',sans-serif;margin:0;padding:0;height:100%;}body{font-size:13px;line-height:20px;height:100%;width:100%;background-color:#414141;color:white;} #rbiCookiePolicy_pushDownBoxWrapper{ background-color:#8A8A8A; } #rbiCookiePolicy_pushDownBox{ background-color: #8A8A8A; z-index: 9999 !important; font-family: Arial, sans-serif, serif !important; font-size: 12px !important; font-weight: normal; color: white; text-align: left; line-height: 16px; height: 90px; width: 960px; margin-left: auto; margin-right: auto; } * html #rbiCookiePolicy_pushDownBox{ width: 980px; } #rbiCookiePolicy_pushDownBox p { margin: 0 0 10px 0; } #rbiCookiePolicy_pushDownBox #rbiCookiePolicy_siteTitle{ background-size: 150px; height: 100%; width: 176px; padding: 10px; box-sizing: border-box; } #rbiCookiePolicy_pushDownBox #rbiCookiePolicy_siteTitle h2{ font-size: 14px; border: 0 !important; margin: 0 !important; font-weight: 400 !important; } #rbiCookiePolicy_pushDownBox #rbiCookiePolicy_mainInformation{ height: 100%; border-left: 1px solid #ffffff; width: 783px; padding: 10px; box-sizing: border-box; } #rbiCookiePolicy_pushDownBox #rbiCookiePolicy_mainInformation #rbiCookiePolicy_closeBtn{ background-position: right; background-repeat: no-repeat; padding: 0 15px; } /* IE 7*/ *+html #rbiCookiePolicy_pushDownBox #rbiCookiePolicy_pushDownBoxInnerText{ margin-left: 15px; } @media only screen and (max-width : 960px) { #rbiCookiePolicy_pushDownBox { width: 100%; height: auto; } #rbiCookiePolicy_pushDownBox p { clear: both; padding-top: 8px; } #rbiCookiePolicy_pushDownBox #rbiCookiePolicy_mainInformation #rbiCookiePolicy_closeBtn{ position: absolute; right: 8px; } }</style><style data-styled-components=\"lfSdqG bcCCNc ghUnOC eOYkkH hymwpx itQmbZ kqCOwd frsWSl gvbdsK eEOdSW jcQzgs kkTCMH hVftIH gjEOgT ruvSm gNseZH kWzMNe bUQDqC iUTHxa cVLspB dNwHti hBFrnV ccgfO bBJPOb kjRvQR bYKNWi fIefzt fwYlLi gkQAgR kHTgKb eARUcx iLSNXF gFfJEP bfigzO bHovxc dUgaVX gEWhGM gbokA eoPeAM fsjJUA gstZUK bACtxm ggFNb dqBfAD irqUcv cjScFY cOvXuG bjCEsN efuJVZ igwKn cmnqBs pLdPK iMQXFJ dcdOHa iSGoko jFgNNO bRoHMJ byoaAa ceJxq hOLni bgrndo ipofwS hnGDgb lllMtP hgbvHg ekVwAR dNaxcH fDkXNq eFnGmW kWxgTv yeKfN iaZAuU blQyiG CPamx cOYJbf xAWXb bcmzUJ cCfBRT dfeqpK jUFavd geSBNm epBIjQ dvnPzZ gfzIST dBXRil fWLIvb ccpWcM dJloSk isGpsI igyRqP kvCFkA cuIkvt ckbilY koWibD ubbwc bcEbYB gOacyS gcbyEH icyRae kBcTIl cTVqNb dOavAN hbKFUI kJjIdo fVrVhY fKKnnY iUmJlv jPkVeb eoLzOB hPcTyb fkgZPZ fblRex cQaOrk ThPwX kmsVZS bkmjVx ekQiCH fDjOMe jJjsmI jRUOqj iahmts fMywIH kLpQef fzOBRA cDamQW evoxyJ eJOxfR bJFJTJ cpMYKi lhkoRP fRTrlz kbFwjf htEwxh cEzxMC hxawCE ceqiFt ieHvs dxmetu FuHQL gjMMna fsJzIl jPlelN fQmGYv jZTKLu ckGNPc cTqTlq hGlvDv ehqaCS cDAHvJ clShQb boqkYs eOUQmz golHFI dHFBYw iyoRaK iJCHoL hPxFPu hiZfCr dnaKQQ hclaTo dQHMCy fjoBOD haAodY chdSQy eFskjy KouPz kOcurG RqKHL bXGCrF bkHDHH hkZTPf dgygvu kmrOHE SOAmc kxgLkX jgHdgc ggUdJG iZjHLs swqrz ulGpt jADxAA bJmmdh dUrbMx kwBFKp iQTGmd jsDIex cLVken kUnrPj\">\\n/* sc-component-id: sc-keyframes-lfSdqG */\\n@-webkit-keyframes lfSdqG{0%,40%,100%{-webkit-transform:scaleY(0.4);-ms-transform:scaleY(0.4);transform:scaleY(0.4);-webkit-transform:scaleY(0.4);}20%{-webkit-transform:scaleY(1.0);-ms-transform:scaleY(1.0);transform:scaleY(1.0);-webkit-transform:scaleY(1.0);}} @keyframes lfSdqG{0%,40%,100%{-webkit-transform:scaleY(0.4);-ms-transform:scaleY(0.4);transform:scaleY(0.4);-webkit-transform:scaleY(0.4);}20%{-webkit-transform:scaleY(1.0);-ms-transform:scaleY(1.0);transform:scaleY(1.0);-webkit-transform:scaleY(1.0);}}\\n/* sc-component-id: enhanced-link__LinkWrapper-s1thych7-0 */\\n.swqrz{background-color:transparent;color:inherit;border:0;padding:0;font:inherit;cursor:pointer;outline:inherit;}\\n/* sc-component-id: layout-footer__LayoutFooterWrapper-s1i4j3cg-0 */\\n.SOAmc{padding:0 20px;background-color:#071C35;} @media print{.SOAmc{display:none !important;}} @media (max-width:768px){.SOAmc{padding:10px;}}\\n/* sc-component-id: layout-footer__FooterTop-s1i4j3cg-1 */\\n.kxgLkX{width:100%;margin:0;}\\n/* sc-component-id: layout-footer__FooterBottom-s1i4j3cg-2 */\\n.ggUdJG{display:-webkit-box;display:-webkit-flex;display:-ms-flexbox;display:flex;}\\n/* sc-component-id: layout-footer__FooterLeft-s1i4j3cg-3 */\\n.iZjHLs{display:-webkit-box;display:-webkit-flex;display:-ms-flexbox;display:flex;-webkit-flex-flow:column nowrap;-ms-flex-flow:column nowrap;flex-flow:column nowrap;-webkit-box-pack:start;-webkit-justify-content:flex-start;-ms-flex-pack:start;justify-content:flex-start;margin-bottom:5px;}\\n/* sc-component-id: layout-footer__FooterRight-s1i4j3cg-4 */\\n.kwBFKp{-webkit-flex:1;-ms-flex:1;flex:1;display:-webkit-box;display:-webkit-flex;display:-ms-flexbox;display:flex;-webkit-flex-flow:column nowrap;-ms-flex-flow:column nowrap;flex-flow:column nowrap;-webkit-align-items:flex-end;-webkit-box-align:flex-end;-ms-flex-align:flex-end;align-items:flex-end;text-align:right;}\\n/* sc-component-id: layout-footer__Image-s1i4j3cg-5 */\\n.kUnrPj{display:inline-block;width:auto height:auto;}\\n/* sc-component-id: layout-footer__RelxImage-s1i4j3cg-6 */\\n.cLVken{height:34px;}\\n/* sc-component-id: layout-footer__AdWrapper-s1i4j3cg-8 */\\n.jgHdgc{box-sizing:border-box;background:transparent;width:100%;padding:10px;display:-webkit-box;display:-webkit-flex;display:-ms-flexbox;display:flex;-webkit-box-pack:center;-webkit-justify-content:center;-ms-flex-pack:center;justify-content:center;}\\n/* sc-component-id: layout-footer__A-s1i4j3cg-9 */\\n.jADxAA{display:block;-webkit-text-decoration:none;text-decoration:none;}\\n/* sc-component-id: layout-footer__LinkAnchor-s1i4j3cg-10 */\\n.ulGpt{-webkit-flex:0 0 auto;-ms-flex:0 0 auto;flex:0 0 auto;color:white;font-size:10pt;padding:0;margin:0;font-weight:300;text-align:left;} .ulGpt:hover{-webkit-text-decoration:underline;text-decoration:underline;} .ulGpt:active{color:#5F5F5F;}\\n/* sc-component-id: layout-footer__Text1-s1i4j3cg-11 */\\n.dUrbMx{color:white;line-height:2.0rem;font-size:1.23rem;padding:0;margin:0;font-weight:300;} .layout-footer__A-s1i4j3cg-9 .dUrbMx:hover{-webkit-text-decoration:underline;text-decoration:underline;} .layout-footer__A-s1i4j3cg-9 .dUrbMx:active{color:#5F5F5F;}\\n/* sc-component-id: layout-footer__GrayText-s1i4j3cg-12 */\\n.bJmmdh{display:block;color:#B9B9B9;font-size:0.85rem;line-height:1.25rem;}\\n/* sc-component-id: layout-footer__WhiteText-s1i4j3cg-13 */\\n.jsDIex{display:block;color:#FFFFFF;font-size:0.85rem;line-height:1.25rem;}\\n/* sc-component-id: layout-footer__Address-s1i4j3cg-14 */\\n.iQTGmd{font-style:normal;}\\n/* sc-component-id: button-link__ButtonLink-wcss74-0 */\\n.bUQDqC{margin:10px;color:#FFFFFF !important;height:40px;max-width:254px;line-height:inherit;font-size:16px;-webkit-flex:1 0 254px;-ms-flex:1 0 254px;flex:1 0 254px;display:-webkit-box;display:-webkit-flex;display:-ms-flexbox;display:flex;-webkit-align-items:center;-webkit-box-align:center;-ms-flex-align:center;align-items:center;-webkit-box-pack:center;-webkit-justify-content:center;-ms-flex-pack:center;justify-content:center;text-transform:uppercase;-webkit-text-decoration:none !important;text-decoration:none !important;text-align:center;cursor:pointer;border-radius:2px;background-color:#81A2CA;white-space:nowrap;} @media (max-width:500px){.bUQDqC{margin:5px 10px;}} .bUQDqC:hover{background:#4A709D;}.iUTHxa{margin:10px;color:#FAA718 !important;height:40px;max-width:254px;line-height:inherit;font-size:16px;-webkit-flex:1 0 254px;-ms-flex:1 0 254px;flex:1 0 254px;display:-webkit-box;display:-webkit-flex;display:-ms-flexbox;display:flex;-webkit-align-items:center;-webkit-box-align:center;-ms-flex-align:center;align-items:center;-webkit-box-pack:center;-webkit-justify-content:center;-ms-flex-pack:center;justify-content:center;text-transform:uppercase;-webkit-text-decoration:none !important;text-decoration:none !important;text-align:center;cursor:pointer;border-radius:2px;background-color:rgba(0,0,0,0);white-space:nowrap;} @media (max-width:500px){.iUTHxa{margin:5px 10px;}} .iUTHxa:hover{background:#414141;}.cVLspB{margin:10px;color:#FFFFFF !important;height:40px;max-width:254px;line-height:inherit;font-size:16px;-webkit-flex:1 0 254px;-ms-flex:1 0 254px;flex:1 0 254px;display:-webkit-box;display:-webkit-flex;display:-ms-flexbox;display:flex;-webkit-align-items:center;-webkit-box-align:center;-ms-flex-align:center;align-items:center;-webkit-box-pack:center;-webkit-justify-content:center;-ms-flex-pack:center;justify-content:center;text-transform:uppercase;-webkit-text-decoration:none !important;text-decoration:none !important;text-align:center;cursor:pointer;border-radius:2px;background-color:#FAA718;white-space:nowrap;} @media (max-width:500px){.cVLspB{margin:5px 10px;}} .cVLspB:hover{background:#81A2CA;}\\n/* sc-component-id: layout-row__RowWrapper-s1uoco8s-0 */\\n.dcdOHa{margin:30px 0;}\\n/* sc-component-id: layout-row__RowInner-s1uoco8s-1 */\\n.byoaAa{padding:15px;display:-webkit-box;display:-webkit-flex;display:-ms-flexbox;display:flex;-webkit-flex-flow:row wrap;-ms-flex-flow:row wrap;flex-flow:row wrap;-webkit-box-pack:justify;-webkit-justify-content:space-between;-ms-flex-pack:justify;justify-content:space-between;} @media (max-width:360px){.byoaAa{padding:10px;}}.ceJxq{padding:15px;display:-webkit-box;display:-webkit-flex;display:-ms-flexbox;display:flex;-webkit-flex-flow:row wrap;-ms-flex-flow:row wrap;flex-flow:row wrap;-webkit-box-pack:center;-webkit-justify-content:center;-ms-flex-pack:center;justify-content:center;} @media (max-width:360px){.ceJxq{padding:10px;}}\\n/* sc-component-id: layout-row__SectionContainer-s1uoco8s-2 */\\n.iSGoko{border:1px solid white;-webkit-flex:1 100%;-ms-flex:1 100%;flex:1 100%;}\\n/* sc-component-id: layout-row__TitleWrapper-s1uoco8s-3 */\\n.jFgNNO{padding:10px;background-color:rgba(123,161,203,.5);} .jFgNNO:hover{cursor:auto;}\\n/* sc-component-id: layout-row__Title-s1uoco8s-4 */\\n.bRoHMJ{font-weight:400;font-size:1rem;margin:0;color:white;}\\n/* sc-component-id: page-background-image__PageBackgroundImage-vd397e-0 */\\n.hymwpx{position:fixed;margin-top:auto;margin-left:auto;min-width:100%;min-height:100%;width:auto;height:auto;z-index:-100;background-size:cover;}\\n/* sc-component-id: account-login__AccountLoginContainer-d7lweb-0 */\\n.gNseZH{display:-webkit-box;display:-webkit-flex;display:-ms-flexbox;display:flex;-webkit-flex-flow:row wrap;-ms-flex-flow:row wrap;flex-flow:row wrap;-webkit-box-pack:justify;-webkit-justify-content:space-between;-ms-flex-pack:justify;justify-content:space-between;width:215px;}\\n/* sc-component-id: account-login__LoginButton-d7lweb-1 */\\n.dNwHti{height:35px;width:60px;-webkit-flex:0 0 60px;-ms-flex:0 0 60px;flex:0 0 60px;text-transform:inherit;-webkit-letter-spacing:2px;-moz-letter-spacing:2px;-ms-letter-spacing:2px;letter-spacing:2px;font-weight:600;display:-webkit-box;display:-webkit-flex;display:-ms-flexbox;display:flex;-webkit-box-pack:end;-webkit-justify-content:flex-end;-ms-flex-pack:end;justify-content:flex-end;box-sizing:border-box;padding-right:2px;-webkit-flex:0 0 52px;-ms-flex:0 0 52px;flex:0 0 52px;font-size:14px;margin:0;}\\n/* sc-component-id: account-login__SignupButton-d7lweb-3 */\\n.kWzMNe{width:152px;max-width:152px;-webkit-flex:1 1 150px;-ms-flex:1 1 150px;flex:1 1 150px;font-weight:500;height:35px;font-size:14px;margin:0;}\\n/* sc-component-id: menu-item__MenuList-s1ht3jhe-0 */\\n.bHovxc{margin:0;padding:0;}\\n/* sc-component-id: menu-item__MenuListItem-s1ht3jhe-1 */\\n.dUgaVX{list-style-type:none;-webkit-flex:1 0 auto;-ms-flex:1 0 auto;flex:1 0 auto;}\\n/* sc-component-id: menu-item__Anchor-s1ht3jhe-2 */\\n.gEWhGM{-webkit-text-decoration:none;text-decoration:none;color:black;cursor:pointer;display:block;width:100%;padding:7px 4px 7px 18px;font-size:1.25em;box-sizing:border-box;} .gEWhGM:hover{background-color:#D7D7D7;} .gEWhGM:visited{color:black;} .gEWhGM:active{color:#5F5F5F;}.gbokA{-webkit-text-decoration:none;text-decoration:none;color:black;cursor:pointer;display:block;width:100%;padding:7px 4px 7px 18px;font-size:1.25em;box-sizing:border-box;background-image:url(\\'//assets.flightstats.com/v2/menu-icons/lock-black.svg\\');background-repeat:no-repeat;background-position:calc(100% - 18px) center;background-size:20px 20px;} .gbokA:hover{background-color:#D7D7D7;} .gbokA:visited{color:black;} .gbokA:active{color:#5F5F5F;}\\n/* sc-component-id: nav-submenu__SubmenuContainer-upp2xz-0 */\\n.gkQAgR{position:absolute;background:white;display:none;-webkit-flex-flow:column nowrap;-ms-flex-flow:column nowrap;flex-flow:column nowrap;z-index:1002;padding:8px 0px;box-shadow:rgba(0,0,0,0.118) 0px 3px 3px;width:267px;}.kHTgKb{position:absolute;background:white;display:none;-webkit-flex-flow:column nowrap;-ms-flex-flow:column nowrap;flex-flow:column nowrap;z-index:1002;padding:8px 0px;box-shadow:rgba(0,0,0,0.118) 0px 3px 3px;width:280px;}.eARUcx{position:absolute;background:white;display:none;-webkit-flex-flow:column nowrap;-ms-flex-flow:column nowrap;flex-flow:column nowrap;z-index:1002;padding:8px 0px;box-shadow:rgba(0,0,0,0.118) 0px 3px 3px;width:365px;}.iLSNXF{position:absolute;background:white;display:none;-webkit-flex-flow:column nowrap;-ms-flex-flow:column nowrap;flex-flow:column nowrap;z-index:1002;padding:8px 0px;box-shadow:rgba(0,0,0,0.118) 0px 3px 3px;width:135px;}.gFfJEP{position:absolute;background:white;display:none;-webkit-flex-flow:column nowrap;-ms-flex-flow:column nowrap;flex-flow:column nowrap;z-index:1002;padding:8px 0px;box-shadow:rgba(0,0,0,0.118) 0px 3px 3px;width:300px;}.bfigzO{position:absolute;background:white;display:none;-webkit-flex-flow:column nowrap;-ms-flex-flow:column nowrap;flex-flow:column nowrap;z-index:1002;padding:8px 0px;box-shadow:rgba(0,0,0,0.118) 0px 3px 3px;width:180px;}\\n/* sc-component-id: menu-heading__HeadingOuter-fepp0s-0 */\\n.kjRvQR{-webkit-box-pack:space-around;-webkit-justify-content:space-around;-ms-flex-pack:space-around;justify-content:space-around;margin:0 1px;}\\n/* sc-component-id: menu-heading__HeadingText-fepp0s-1 */\\n.bYKNWi{color:white;font-size:1.25em;-webkit-text-decoration:none;text-decoration:none;padding:4px 13px;} .bYKNWi:hover{background:#FAA718;}\\n/* sc-component-id: menu-heading__SubmenuOuter-fepp0s-2 */\\n.fIefzt{position:relative;top:-13px;left:0;}.fwYlLi{position:relative;top:-13px;right:54px;}\\n/* sc-component-id: hoverable-menu__NavSection-s166bj4y-0 */\\n.bBJPOb{display:-webkit-box;display:-webkit-flex;display:-ms-flexbox;display:flex;}\\n/* sc-component-id: header-social__SocialLinksContainer-tb15tb-0 */\\n.hVftIH{display:-webkit-box;display:-webkit-flex;display:-ms-flexbox;display:flex;width:100%;-webkit-box-pack:end;-webkit-justify-content:flex-end;-ms-flex-pack:end;justify-content:flex-end;-webkit-align-items:center;-webkit-box-align:center;-ms-flex-align:center;align-items:center;background-color:hsla(0,0%,100%,.15);border-bottom:1px solid hsla(0,0%,100%,.5);margin-bottom:6px;font-size:12pt;height:38px;width:215px;box-sizing:border-box;margin-top:2px;} @media (max-width:1200px){.hVftIH{margin-top:0;}}\\n/* sc-component-id: header-social__Text-tb15tb-1 */\\n.gjEOgT{margin:2px 10px 0 0;position:relative;left:-4px;}\\n/* sc-component-id: header-social__LinkWrapper-tb15tb-2 */\\n.ruvSm{height:20px width:27px;padding:6px 2px 0;}\\n/* sc-component-id: desktop-header__HeaderContainer-s1hnb9a6-0 */\\n.itQmbZ{box-sizing:border-box;background-color:#071C35;color:#FFFFFF;margin:0;padding:20px 24px 0;box-shadow:0 1px 6px rgba(0,0,0,0.12),0 1px 4px rgba(0,0,0,0.12);} @media (max-width:1200px){.itQmbZ{padding:0 10px;}}\\n/* sc-component-id: desktop-header__Row-s1hnb9a6-1 */\\n.frsWSl{display:-webkit-box;display:-webkit-flex;display:-ms-flexbox;display:flex;-webkit-flex-direction:row;-ms-flex-direction:row;flex-direction:row;-webkit-box-pack:justify;-webkit-justify-content:space-between;-ms-flex-pack:justify;justify-content:space-between;position:relative;}\\n/* sc-component-id: desktop-header__ContentRow-s1hnb9a6-2 */\\n@media (max-width:1200px){.kqCOwd{-webkit-flex-direction:column;-ms-flex-direction:column;flex-direction:column;-webkit-box-pack:start;-webkit-justify-content:flex-start;-ms-flex-pack:start;justify-content:flex-start;}}\\n/* sc-component-id: desktop-header__NavRow-s1hnb9a6-3 */\\n.hBFrnV{margin-top:0;padding:5px 0 1px 0;} @media (max-width:1200px){.hBFrnV{margin-top:10px;}}\\n/* sc-component-id: desktop-header__LeftColumn-s1hnb9a6-4 */\\n.gvbdsK{box-sizing:border-box;padding-top:12px;} @media (max-width:1200px){.gvbdsK{position:relative;top:-2px;}}\\n/* sc-component-id: desktop-header__RightColumn-s1hnb9a6-5 */\\n.kkTCMH{display:-webkit-box;display:-webkit-flex;display:-ms-flexbox;display:flex;-webkit-flex-direction:column;-ms-flex-direction:column;flex-direction:column;-webkit-align-items:flex-end;-webkit-box-align:flex-end;-ms-flex-align:flex-end;align-items:flex-end;} @media (max-width:1200px){.kkTCMH{position:absolute;right:0;top:0;}}\\n/* sc-component-id: desktop-header__AdContainer-s1hnb9a6-8 */\\n.jcQzgs{display:-webkit-box;display:-webkit-flex;display:-ms-flexbox;display:flex;-webkit-box-pack:center;-webkit-justify-content:center;-ms-flex-pack:center;justify-content:center;-webkit-align-items:center;-webkit-box-align:center;-ms-flex-align:center;align-items:center;height:90px;}\\n/* sc-component-id: desktop-header__Image-s1hnb9a6-9 */\\n.eEOdSW{margin:0px;height:75px;} .eEOdSW:hover{cursor:pointer;}\\n/* sc-component-id: desktop__LayoutWrapper-s43d6t8-0 */\\n.eOYkkH{position:relative;overflow:hidden;}\\n/* sc-component-id: desktop__Content-s43d6t8-1 */\\n.fsjJUA{background:none;color:black;margin:0 auto;width:1200px;min-height:160px;} @media (max-width:1200px){.fsjJUA{width:992px;}} @media (max-width:992px){.fsjJUA{width:768px;}} @media (max-width:768px){.fsjJUA{width:500px;}} @media (max-width:500px){.fsjJUA{width:100%;margin:10px;}}\\n/* sc-component-id: select-field__SelectContainer-s6imzgj-0 */\\n.jPlelN{width:100%;position:initial;cursor:pointer;background:#9B9B9B;border:1px solid white;border-radius:4px;border-bottom-left-radius:4px;border-bottom-right-radius:4px;box-sizing:border-box;padding:10px;display:-webkit-box;display:-webkit-flex;display:-ms-flexbox;display:flex;-webkit-box-pack:justify;-webkit-justify-content:space-between;-ms-flex-pack:justify;justify-content:space-between;}\\n/* sc-component-id: select-field__SelectElement-s6imzgj-1 */\\n.fQmGYv{width:100%;}\\n/* sc-component-id: select-field__Label-s6imzgj-5 */\\n.jZTKLu{display:-webkit-box;display:-webkit-flex;display:-ms-flexbox;display:flex;-webkit-box-pack:justify;-webkit-justify-content:space-between;-ms-flex-pack:justify;justify-content:space-between;color:white;}\\n/* sc-component-id: tabs-content__DescriptionDropdownWrapper-rymvp0-0 */\\n.fRTrlz{display:-webkit-box;display:-webkit-flex;display:-ms-flexbox;display:flex;width:100%;-webkit-box-pack:justify;-webkit-justify-content:space-between;-ms-flex-pack:justify;justify-content:space-between;} @media (max-width:500px){.fRTrlz{-webkit-flex-direction:column;-ms-flex-direction:column;flex-direction:column;}}\\n/* sc-component-id: tabs-content__MobileSelector-rymvp0-1 */\\n.fsJzIl{margin-bottom:10px;min-width:200px;display:none;} @media (max-width:768px){.fsJzIl{display:block;position:relative;}}\\n/* sc-component-id: tabs-content__TabBar-rymvp0-3 */\\n.ckGNPc{width:100%;display:-webkit-box;display:-webkit-flex;display:-ms-flexbox;display:flex;} @media (max-width:768px){.ckGNPc{display:none;}}\\n/* sc-component-id: tabs-content__Tab-rymvp0-4 */\\n.cTqTlq{background-color:#FAA718;font-size:1.25rem;font-weight:600;color:#FFFFFF;padding:10px;border-radius:5px 5px 0 0;text-align:center;cursor:pointer;width:100%;margin:0 1px;} .cTqTlq:hover{background-color:#FAA718;}.hGlvDv{background-color:#81A2CA;font-size:1.25rem;font-weight:300;color:#FFFFFF;padding:10px;border-radius:5px 5px 0 0;text-align:center;cursor:pointer;width:100%;margin:0 1px;} .hGlvDv:hover{background-color:#4A709D;}\\n/* sc-component-id: tabs-content__Panel-rymvp0-5 */\\n.golHFI{border:1px solid #FAA718;display:none;min-height:210px;padding:10px;margin:0 1px;-webkit-flex:1 1 100%;-ms-flex:1 1 100%;flex:1 1 100%;}\\n/* sc-component-id: sc-keyframes-bcCCNc */\\n@-webkit-keyframes bcCCNc{0%{opacity:0;}100%{opacity:1;}} @keyframes bcCCNc{0%{opacity:0;}100%{opacity:1;}}\\n/* sc-component-id: tabs-content__OneFlightPanel-rymvp0-6 */\\n.ehqaCS{border:1px solid #FAA718;display:-webkit-box;display:-webkit-flex;display:-ms-flexbox;display:flex;-webkit-flex-direction:column;-ms-flex-direction:column;flex-direction:column;min-height:210px;padding:10px;margin:0 1px;text-align:center;width:100%;color:white;}\\n/* sc-component-id: tabs-content__FadeInDiv-rymvp0-7 */\\n.clShQb{-webkit-animation-name:bcCCNc;animation-name:bcCCNc;-webkit-animation-duration:666ms;animation-duration:666ms;-webkit-animation-timing-function:ease;animation-timing-function:ease;}\\n/* sc-component-id: tabs-content__CenteredText-rymvp0-8 */\\n.eOUQmz{-webkit-align-self:center;-ms-flex-item-align:center;align-self:center;text-align:center;font-size:18px;}\\n/* sc-component-id: tabs-content__BoldCenteredText-rymvp0-9 */\\n.boqkYs{font-weight:700;font-size:20px;margin:10px 0;}\\n/* sc-component-id: tabs-content__DateWrapper-rymvp0-10 */\\n.cDAHvJ{-webkit-align-self:flex-start;-ms-flex-item-align:start;align-self:flex-start;}\\n/* sc-component-id: past-upcoming-flights__LinkTableRow-s1haoxfm-0 */\\n.hiZfCr{display:-webkit-box;display:-webkit-flex;display:-ms-flexbox;display:flex;-webkit-text-decoration:none;text-decoration:none;border-top:1px solid #9B9B9B;-webkit-box-pack:justify;-webkit-justify-content:space-between;-ms-flex-pack:justify;justify-content:space-between;} .hiZfCr:hover{background-color:rgba(250,167,24,0.25);cursor:pointer;-webkit-text-decoration:none;text-decoration:none;}\\n/* sc-component-id: past-upcoming-flights__Hyperlink-s1haoxfm-1 */\\n.gjMMna{color:#FAA718;-webkit-text-decoration:underline;text-decoration:underline;}\\n/* sc-component-id: past-upcoming-flights__TextHelper-s1haoxfm-2 */\\n.kbFwjf{font-size:1rem;font-weight:400;color:#FFFFFF;margin:0 5px 15px 2px;}.htEwxh{font-size:1rem;font-weight:400;color:#FFFFFF;margin:10px 0;}.cEzxMC{font-size:1rem;font-weight:400;color:#FFFFFF;margin:0;}.hxawCE{font-size:1.6rem;font-weight:600;color:#FFFFFF;margin:10px auto;}.ceqiFt{font-size:1.6rem;font-weight:600;color:#FFFFFF;margin:10px auto 1px;}.ieHvs{font-size:1rem;font-weight:300;color:#FFFFFF;margin:1px auto 10px;}.dxmetu{font-size:1.3rem;font-weight:600;color:#FFFFFF;margin:30px auto 0;}.FuHQL{font-size:1rem;font-weight:400;color:#FFFFFF;margin:10px auto 0;}\\n/* sc-component-id: past-upcoming-flights__StyledInfo-s1haoxfm-3 */\\n.hclaTo{display:-webkit-box;display:-webkit-flex;display:-ms-flexbox;display:flex;color:#FFFFFF;text-align:center;min-width:20%;}\\n/* sc-component-id: past-upcoming-flights__Airport-s1haoxfm-4 */\\n.fjoBOD{-webkit-flex-direction:column;-ms-flex-direction:column;flex-direction:column;-webkit-box-pack:space-around;-webkit-justify-content:space-around;-ms-flex-pack:space-around;justify-content:space-around;-webkit-flex:1;-ms-flex:1;flex:1;}\\n/* sc-component-id: past-upcoming-flights__TimeGroupContainer-s1haoxfm-5 */\\n@media (max-width:768px){.dnaKQQ{display:none;}}\\n/* sc-component-id: past-upcoming-flights__TimeSuffix-s1haoxfm-6 */\\n.dQHMCy{margin-left:5px;font-size:1rem;font-weight:300;color:#FFFFFF;}\\n/* sc-component-id: past-upcoming-flights__PlaneWrapper-s1haoxfm-7 */\\n.haAodY{height:100%;margin-top:10px;text-align:center;display:-webkit-box;display:-webkit-flex;display:-ms-flexbox;display:flex;-webkit-box-pack:space-around;-webkit-justify-content:space-around;-ms-flex-pack:space-around;justify-content:space-around;-webkit-flex:1 1 46px;-ms-flex:1 1 46px;flex:1 1 46px;padding:0 5px;}\\n/* sc-component-id: past-upcoming-flights__HeaderContainer-s1haoxfm-8 */\\n.dHFBYw{display:-webkit-box;display:-webkit-flex;display:-ms-flexbox;display:flex;-webkit-box-pack:justify;-webkit-justify-content:space-between;-ms-flex-pack:justify;justify-content:space-between;}\\n/* sc-component-id: past-upcoming-flights__HeaderText-s1haoxfm-9 */\\n.iyoRaK{min-width:20%;text-align:center;} @media (max-width:768px){.iyoRaK{-webkit-flex:1 1 auto;-ms-flex:1 1 auto;flex:1 1 auto;display:none;}}.iJCHoL{min-width:20%;text-align:center;} @media (max-width:768px){.iJCHoL{-webkit-flex:1 1 auto;-ms-flex:1 1 auto;flex:1 1 auto;}}\\n/* sc-component-id: past-upcoming-flights__HeaderSeparator-s1haoxfm-10 */\\n.hPxFPu{width:38px;min-width:20%;}\\n/* sc-component-id: past-upcoming-flights__NoFlightText-s1haoxfm-11 */\\n.chdSQy{text-align:center;}\\n/* sc-component-id: input-spinner__StyledSpinner-qqpqdz-0 */\\n.efuJVZ{display:none;-webkit-animation:rotate 2s linear infinite;animation:rotate 2s linear infinite;width:25px;height:25px;} .efuJVZ .path{stroke:rgba(255,255,255,0.7);stroke-linecap:round;-webkit-animation:dash 1.5s ease-in-out infinite;animation:dash 1.5s ease-in-out infinite;} @-webkit-keyframes rotate{100%{-webkit-transform:rotate(360deg);-ms-transform:rotate(360deg);transform:rotate(360deg);}} @keyframes rotate{100%{-webkit-transform:rotate(360deg);-ms-transform:rotate(360deg);transform:rotate(360deg);}} @-webkit-keyframes dash{0%{stroke-dasharray:1,150;stroke-dashoffset:0;}50%{stroke-dasharray:90,150;stroke-dashoffset:-35;}100%{stroke-dasharray:90,150;stroke-dashoffset:-124;}} @keyframes dash{0%{stroke-dasharray:1,150;stroke-dashoffset:0;}50%{stroke-dasharray:90,150;stroke-dashoffset:-35;}100%{stroke-dasharray:90,150;stroke-dashoffset:-124;}}\\n/* sc-component-id: tracker-ad__AdWrapper-s1g546b7-0 */\\n.jPkVeb{-webkit-flex:0 0 300px;-ms-flex:0 0 300px;flex:0 0 300px;margin-left:15px;height:600px;} @media (max-width:800px){.jPkVeb{display:none;}}\\n/* sc-component-id: header__HeaderWrapper-a7usbh-0 */\\n.iMQXFJ{font-size:1.61rem;font-weight:bold;border-bottom:3px solid #FAA718;margin:20px 0 0;padding-bottom:5px;color:white;line-height:1.35;-webkit-letter-spacing:-.02em;-moz-letter-spacing:-.02em;-ms-letter-spacing:-.02em;letter-spacing:-.02em;}\\n/* sc-component-id: client-only-flight-map__MapWrapper-yxmqy7-0 */\\n.iUmJlv{-webkit-flex:1 1 auto;-ms-flex:1 1 auto;flex:1 1 auto;border:1px solid white;height:600px;} @media (max-width:800px){.iUmJlv{height:512px;}} @media (max-width:565px){.iUmJlv{height:calc(100vw - 34px);}}\\n/* sc-component-id: alt-and-phase__Wrapper-jihjun-0 */\\n.kmsVZS{display:-webkit-box;display:-webkit-flex;display:-ms-flexbox;display:flex;height:26px;-webkit-align-items:center;-webkit-box-align:center;-ms-flex-align:center;align-items:center;background-color:#071c35;position:relative;z-index:4;}\\n/* sc-component-id: alt-and-phase__Altitude-jihjun-1 */\\n.bkmjVx{-webkit-flex:1 1 auto;-ms-flex:1 1 auto;flex:1 1 auto;padding:3px;min-width:150px;color:white;}\\n/* sc-component-id: sc-keyframes-ghUnOC */\\n@-webkit-keyframes ghUnOC{0%{background:rgba(255,150,0,0.33);}50%{background:rgba(250,150,0,0.05);}100%{background:rgba(255,150,0,0.33);}} @keyframes ghUnOC{0%{background:rgba(255,150,0,0.33);}50%{background:rgba(250,150,0,0.05);}100%{background:rgba(255,150,0,0.33);}}\\n/* sc-component-id: alt-and-phase__Phase-jihjun-2 */\\n.jJjsmI{padding:3px;-webkit-flex:1 1 auto;-ms-flex:1 1 auto;flex:1 1 auto;background:rgba(255,150,0,0.33);color:white;}\\n/* sc-component-id: alt-and-phase__ContentBox-jihjun-3 */\\n.fDjOMe{font-weight:bold;font-size:15px;padding:0 5px;} @media (max-width:768px){.fDjOMe{font-size:12px;padding:0 2px;}}\\n/* sc-component-id: alt-and-phase__ContentLabel-jihjun-4 */\\n.ekQiCH{font-size:14px;padding:0 5px;} @media (max-width:768px){.ekQiCH{font-size:12px;padding:0 2px;}}\\n/* sc-component-id: row__Row-s18xg2xa-0 */\\n.hbKFUI{display:-webkit-box;display:-webkit-flex;display:-ms-flexbox;display:flex;-webkit-flex-flow:row wrap;-ms-flex-flow:row wrap;flex-flow:row wrap;width:100%;-webkit-box-pack:justify;-webkit-justify-content:space-between;-ms-flex-pack:justify;justify-content:space-between;}\\n/* sc-component-id: labeled-columns__Label-j3eq63-0 */\\n.eJOxfR{display:inline-block;font-size:1.0rem;font-weight:normal;color:white;white-space:nowrap;margin:0;}\\n/* sc-component-id: labeled-columns__Value-j3eq63-1 */\\n.bJFJTJ{display:inline-block;font-size:1.0rem;color:#FAA718;font-weight:bolder;margin:0;}\\n/* sc-component-id: labeled-columns__Item-j3eq63-2 */\\n.evoxyJ{-webkit-align-items:center;-webkit-box-align:center;-ms-flex-align:center;align-items:center;display:-webkit-box;display:-webkit-flex;display:-ms-flexbox;display:flex;-webkit-flex-direction:column;-ms-flex-direction:column;flex-direction:column;} .evoxyJ width:{({columnCount}) => (100 / columnCount);}\\n/* sc-component-id: labeled-columns__ContentWrapper-j3eq63-3 */\\n.cDamQW{display:-webkit-box;display:-webkit-flex;display:-ms-flexbox;display:flex;-webkit-box-pack:space-around;-webkit-justify-content:space-around;-ms-flex-pack:space-around;justify-content:space-around;width:100%;padding:10px;}\\n/* sc-component-id: text-box__TextBoxContainer-r0lz9f-0 */\\n.iahmts{-webkit-flex:1 1 auto;-ms-flex:1 1 auto;flex:1 1 auto;margin-bottom:0;}.fMywIH{-webkit-flex:1 1 auto;-ms-flex:1 1 auto;flex:1 1 auto;margin-bottom:15px;}\\n/* sc-component-id: text-box__ItemWrapper-r0lz9f-1 */\\n.fzOBRA{display:-webkit-box;display:-webkit-flex;display:-ms-flexbox;display:flex;-webkit-align-items:center;-webkit-box-align:center;-ms-flex-align:center;align-items:center;-webkit-align-content:center;-ms-flex-line-pack:center;align-content:center;-webkit-box-pack:start;-webkit-justify-content:flex-start;-ms-flex-pack:start;justify-content:flex-start;-webkit-flex-wrap:nowrap;-ms-flex-wrap:nowrap;flex-wrap:nowrap;text-align:left;margin-top:2px;padding:0;background-color:rgba(0,0,0,0.15);border:solid 0.5px #ffffff;}\\n/* sc-component-id: text-box__Heading-r0lz9f-2 */\\n.kLpQef{font-size:1.2rem;font-weight:500;color:white;visibility:visible;margin:5px 0;}\\n/* sc-component-id: flight-time-and-distance__TextBoxWrapper-r1etkb-0 */\\n.jRUOqj{min-width:268px;width:49%;margin-top:10px;} @media (max-width:612px){.jRUOqj{width:100%;}}\\n/* sc-component-id: flight-mini-tracker__MiniTrackerWrapper-s25va3-0 */\\n.hPcTyb{position:relative;-webkit-flex:1 1 auto;-ms-flex:1 1 auto;flex:1 1 auto;display:-webkit-box;display:-webkit-flex;display:-ms-flexbox;display:flex;-webkit-flex-flow:row wrap;-ms-flex-flow:row wrap;flex-flow:row wrap;}\\n/* sc-component-id: flight-mini-tracker__GraphWrapper-s25va3-1 */\\n.fkgZPZ{-webkit-flex:1 1 auto;-ms-flex:1 1 auto;flex:1 1 auto;height:126px;min-width:256px;border:1px solid white;}\\n/* sc-component-id: flight-mini-tracker__SVGWrapper-s25va3-4 */\\n.ThPwX{height:100%;width:100%;position:relative;overflow:hidden;}\\n/* sc-component-id: flight-mini-tracker__GraphAndPhase-s25va3-6 */\\n.fblRex{-webkit-flex:1 1 auto;-ms-flex:1 1 auto;flex:1 1 auto;height:125px;background:rgba(0,0,0,.5);}\\n/* sc-component-id: flight-mini-tracker__GraphOuter-s25va3-7 */\\n.cQaOrk{position:relative;padding:0;height:98px;background-image:linear-gradient(0deg,transparent 3%,rgba(255,255,255,.2) 4%,rgba(255,255,255,.2) 5%,transparent 2%,transparent 3%,rgba(255,255,255,.2) 4%,rgba(255,255,255,.2) 5%,transparent 15%,transparent),linear-gradient(90deg,transparent 3%,rgba(255,255,255,.2) 4%,rgba(255,255,255,.2) 5%,transparent 2%,transparent 3%,rgba(255,255,255,.2) 4%,rgba(255,255,255,.2) 5%,transparent 15%,transparent);background-size:5px 5px;border-bottom:2px solid #FF9600;overflow:hidden;}\\n/* sc-component-id: notice__NoticeWrapper-s1s5ew8y-0 */\\n.kJjIdo{color:white;position:relative;-webkit-flex:1 1 auto;-ms-flex:1 1 auto;flex:1 1 auto;display:-webkit-box;display:-webkit-flex;display:-ms-flexbox;display:flex;-webkit-box-pack:space-around;-webkit-justify-content:space-around;-ms-flex-pack:space-around;justify-content:space-around;-webkit-align-items:center;-webkit-box-align:center;-ms-flex-align:center;align-items:center;-webkit-flex-wrap:wrap;-ms-flex-wrap:wrap;flex-wrap:wrap;min-height:54px;width:100%;margin-bottom:15px;border:1px solid #faa728;background-color:rgba(250,167,40,0.3);padding:5px;} @media (max-width:768px){.kJjIdo{-webkit-flex-direction:column;-ms-flex-direction:column;flex-direction:column;}}\\n/* sc-component-id: notice__Heading-s1s5ew8y-1 */\\n.fVrVhY{text-transform:uppercase;padding:0;margin:0;text-align:center;font-size:1.5rem;font-weight:400;line-height:1.35;} @media (max-width:768px){.fVrVhY{margin:8px 0 0;}}\\n/* sc-component-id: notice__Body-s1s5ew8y-2 */\\n.fKKnnY{margin:0;padding:6px 15px;font-size:1.0rem;color:rgba(255,255,255,0.85);} @media (max-width:500px){.fKKnnY{font-size:0.9rem;text-align:center;}}\\n/* sc-component-id: text-helper__TextHelper-s8bko4a-0 */\\n.ekVwAR{font-size:28px;line-height:28px;font-weight:600;color:white;margin:0 0 2px 0;} @media (max-width:768px){.ekVwAR{font-size:28px;}}.dNaxcH{font-size:18px;line-height:18px;font-weight:300;color:white;margin:0;} @media (max-width:768px){.dNaxcH{font-size:18px;}}.fDkXNq{font-size:24px;line-height:24px;font-weight:500;color:white;margin:0 0 2px 0;} @media (max-width:768px){.fDkXNq{font-size:24px;}}.eFnGmW{font-size:16px;line-height:16px;font-weight:300;color:white;margin:0;} @media (max-width:768px){.eFnGmW{font-size:16px;}}.kWxgTv{font-size:28px;line-height:28px;font-weight:600;color:#ffffff;margin:0 0 2px 0;} @media (max-width:768px){.kWxgTv{font-size:28px;}}.yeKfN{font-size:18px;line-height:18px;font-weight:300;color:#ffffff;margin:0 0 2px 0;} @media (max-width:768px){.yeKfN{font-size:18px;}}.iaZAuU{font-size:24px;line-height:24px;font-weight:600;color:white;margin:0 0 2px 0;} @media (max-width:768px){.iaZAuU{font-size:24px;}}.blQyiG{font-size:18px;line-height:18px;font-weight:300;color:white;margin:0 0 2px 0;} @media (max-width:768px){.blQyiG{font-size:16px;}}.CPamx{font-size:14px;line-height:14px;font-weight:200;color:white;margin:0 0 2px 0;} @media (max-width:768px){.CPamx{font-size:12px;}}.cOYJbf{font-size:16px;line-height:16px;font-weight:300;color:white;margin:0 0 2px 0;} @media (max-width:768px){.cOYJbf{font-size:16px;}}.xAWXb{font-size:18px;line-height:18px;font-weight:300;color:#d6d6d6;margin:0 0 2px 0;} @media (max-width:768px){.xAWXb{font-size:18px;}}.bcmzUJ{font-size:18px;line-height:18px;font-weight:300;color:white;margin:0 0 2px 0;} @media (max-width:768px){.bcmzUJ{font-size:18px;}}.cCfBRT{font-size:28px;line-height:28px;font-weight:600;color:white;margin:0 0 2px 0;} @media (max-width:768px){.cCfBRT{font-size:22px;}}.dfeqpK{font-size:16px;line-height:16px;font-weight:300;color:white;margin:0 0 6px 0;} @media (max-width:768px){.dfeqpK{font-size:14px;}}\\n/* sc-component-id: route-with-plane__RouteGroup-s154xj1h-0 */\\n.geSBNm{display:-webkit-box;display:-webkit-flex;display:-ms-flexbox;display:flex;-webkit-flex:1 1 auto;-ms-flex:1 1 auto;flex:1 1 auto;}\\n/* sc-component-id: route-with-plane__Route-s154xj1h-1 */\\n.epBIjQ{text-align:center;display:-webkit-box;display:-webkit-flex;display:-ms-flexbox;display:flex;-webkit-box-pack:space-around;-webkit-justify-content:space-around;-ms-flex-pack:space-around;justify-content:space-around;-webkit-flex:1;-ms-flex:1;flex:1;padding:0 5px;}.dvnPzZ{text-align:center;display:-webkit-box;display:-webkit-flex;display:-ms-flexbox;display:flex;-webkit-box-pack:space-around;-webkit-justify-content:space-around;-ms-flex-pack:space-around;justify-content:space-around;-webkit-flex:0 0 33%;-ms-flex:0 0 33%;flex:0 0 33%;padding:0 5px;}\\n/* sc-component-id: route-with-plane__AirportCodeLabel-s154xj1h-2 */\\n.gfzIST{-webkit-text-decoration:underline;text-decoration:underline;}\\n/* sc-component-id: route-with-plane__AirportLink-s154xj1h-3 */\\n.dBXRil{color:white;font-size:1.5rem;font-weight:500;cursor:pointer;}\\n/* sc-component-id: tracker__Wrapper-s1ixqjdu-0 */\\n.dOavAN{-webkit-flex:1 0 100%;-ms-flex:1 0 100%;flex:1 0 100%;}\\n/* sc-component-id: tracker__MiniTrackerRow-s1ixqjdu-1 */\\n.eoLzOB{margin-top:15px;}\\n/* sc-component-id: additional-details__FloatWrapper-hoxwfb-1 */\\n.cpMYKi{-webkit-flex:0 1 70%;-ms-flex:0 1 70%;flex:0 1 70%;display:-webkit-box;display:-webkit-flex;display:-ms-flexbox;display:flex;-webkit-flex-flow:row wrap;-ms-flex-flow:row wrap;flex-flow:row wrap;-webkit-box-pack:center;-webkit-justify-content:center;-ms-flex-pack:center;justify-content:center;} @media (max-width:768px){.cpMYKi{-webkit-flex:0 1 100%;-ms-flex:0 1 100%;flex:0 1 100%;}}\\n/* sc-component-id: additional-details__SubItemWrapper-hoxwfb-2 */\\n.lhkoRP{-webkit-flex:1 0 100%;-ms-flex:1 0 100%;flex:1 0 100%;}\\n/* sc-component-id: mobile-apps-ad__MobileLink-u4xl7b-0 */\\n.kmrOHE{text-align:center;min-width:150px;margin:6px 10px;}\\n/* sc-component-id: mobile-apps-ad__MobileAdContainer-u4xl7b-1 */\\n.eFskjy{display:-webkit-box;display:-webkit-flex;display:-ms-flexbox;display:flex;padding:30px;} @media (max-width:768px){.eFskjy{padding:0;}} @media (max-width:415px){.eFskjy{-webkit-flex-flow:wrap;-ms-flex-flow:wrap;flex-flow:wrap;}}\\n/* sc-component-id: mobile-apps-ad__LeftColumn-u4xl7b-2 */\\n.KouPz{-webkit-flex:1 auto;-ms-flex:1 auto;flex:1 auto;display:-webkit-box;display:-webkit-flex;display:-ms-flexbox;display:flex;width:250px;} @media (max-width:768px){.KouPz{display:none;}} @media (max-width:415px){.KouPz{-webkit-flex-flow:row wrap;-ms-flex-flow:row wrap;flex-flow:row wrap;padding:0;}}\\n/* sc-component-id: mobile-apps-ad__PhonesImage-u4xl7b-3 */\\n.kOcurG{background-image:url(\\'//assets.flightstats.com/v2/combined-phones.png\\');-webkit-flex:1 auto;-ms-flex:1 auto;flex:1 auto;background-size:contain;background-repeat:no-repeat;height:300px;} @media (max-width:991px){.kOcurG{height:auto;}}\\n/* sc-component-id: mobile-apps-ad__RightColumn-u4xl7b-4 */\\n.RqKHL{display:-webkit-box;display:-webkit-flex;display:-ms-flexbox;display:flex;-webkit-flex-direction:column;-ms-flex-direction:column;flex-direction:column;-webkit-align-items:center;-webkit-box-align:center;-ms-flex-align:center;align-items:center;-webkit-box-pack:center;-webkit-justify-content:center;-ms-flex-pack:center;justify-content:center;padding:30px;} @media (max-width:415px){.RqKHL{display:block;-webkit-flex-flow:row wrap;-ms-flex-flow:row wrap;flex-flow:row wrap;padding:10px;}.RqKHL h3{font-size:1.5em;}.RqKHL h4{font-size:2em;}}\\n/* sc-component-id: mobile-apps-ad__TextBlock-u4xl7b-5 */\\n.bXGCrF{margin-bottom:20px;color:white;}\\n/* sc-component-id: mobile-apps-ad__LargerHeading-u4xl7b-6 */\\n.bkHDHH{text-align:center;font-size:2em;font-weight:400;line-height:1.35;-webkit-letter-spacing:-.02em;-moz-letter-spacing:-.02em;-ms-letter-spacing:-.02em;letter-spacing:-.02em;margin:0;}\\n/* sc-component-id: mobile-apps-ad__SmallerHeading-u4xl7b-7 */\\n.hkZTPf{text-transform:uppercase;text-align:center;font-size:3em;font-weight:400;line-height:1.35;-webkit-letter-spacing:-.02em;-moz-letter-spacing:-.02em;-ms-letter-spacing:-.02em;letter-spacing:-.02em;margin:0;}\\n/* sc-component-id: mobile-apps-ad__Logos-u4xl7b-8 */\\n.dgygvu{display:-webkit-box;display:-webkit-flex;display:-ms-flexbox;display:flex;-webkit-box-pack:center;-webkit-justify-content:center;-ms-flex-pack:center;justify-content:center;} @media (max-width:768px){.dgygvu{-webkit-flex-direction:column;-ms-flex-direction:column;flex-direction:column;width:100%;}}\\n/* sc-component-id: ticket__TicketContainer-s1rrbl5o-0 */\\n.bgrndo{border:1px solid #7dd63b;}\\n/* sc-component-id: ticket__Header-s1rrbl5o-1 */\\n.ipofwS{display:-webkit-box;display:-webkit-flex;display:-ms-flexbox;display:flex;background-color:#4d893a;} @media (max-width:768px){.ipofwS{-webkit-flex-direction:column;-ms-flex-direction:column;flex-direction:column;}}\\n/* sc-component-id: ticket__FlightWithOperatedBy-s1rrbl5o-2 */\\n.hnGDgb{-webkit-flex:1 1 auto;-ms-flex:1 1 auto;flex:1 1 auto;} @media (max-width:768px){.hnGDgb{-webkit-order:1;-ms-flex-order:1;order:1;}}\\n/* sc-component-id: ticket__NumberAndRoute-s1rrbl5o-3 */\\n.lllMtP{display:-webkit-box;display:-webkit-flex;display:-ms-flexbox;display:flex;-webkit-flex-wrap:wrap;-ms-flex-wrap:wrap;flex-wrap:wrap;-webkit-flex:1 1 auto;-ms-flex:1 1 auto;flex:1 1 auto;padding:15px 2px 10px 15px;}\\n/* sc-component-id: ticket__FlightNumberContainer-s1rrbl5o-4 */\\n.hgbvHg{-webkit-flex:1 1 auto;-ms-flex:1 1 auto;flex:1 1 auto;}\\n/* sc-component-id: ticket__TicketContent-s1rrbl5o-6 */\\n.ccpWcM{display:-webkit-box;display:-webkit-flex;display:-ms-flexbox;display:flex;-webkit-flex-wrap:wrap;-ms-flex-wrap:wrap;flex-wrap:wrap;padding:15px 15px 0 0;background-color:#2d5536;} @media (max-width:600px){.ccpWcM{-webkit-flex-direction:column;-ms-flex-direction:column;flex-direction:column;}}\\n/* sc-component-id: ticket__TicketCard-s1rrbl5o-7 */\\n.dJloSk{text-align:center;-webkit-flex:1 1 auto;-ms-flex:1 1 auto;flex:1 1 auto;background-color:rgba(0,0,0,0.1);border-radius:15px;margin:0 0 15px 15px;padding:15px 0 0 0;}\\n/* sc-component-id: ticket__InfoSection-s1rrbl5o-8 */\\n.isGpsI{margin:0 0 15px 0;padding:0 4px;}.igyRqP{margin:0 0 15px 0;padding:0 4px;-webkit-flex:1 0 50%;-ms-flex:1 0 50%;flex:1 0 50%;}\\n/* sc-component-id: ticket__AirportCodeLabel-s1rrbl5o-9 */\\n.kvCFkA{display:none;-webkit-text-decoration:underline;text-decoration:underline;} @media (max-width:768px){.kvCFkA{display:block;}}\\n/* sc-component-id: ticket__AirportLink-s1rrbl5o-10 */\\n.cuIkvt{color:white;font-size:1.5rem;font-weight:500;}\\n/* sc-component-id: ticket__TimeGroupContainer-s1rrbl5o-11 */\\n.ckbilY{display:-webkit-box;display:-webkit-flex;display:-ms-flexbox;display:flex;}\\n/* sc-component-id: ticket__TimeSuffix-s1rrbl5o-12 */\\n.koWibD{font-size:16px;font-weight:300;color:#d6d6d6;} @media (max-width:500px){.koWibD{font-size:12px;}}\\n/* sc-component-id: ticket__TerminalGateBagContainer-s1rrbl5o-13 */\\n.ubbwc{display:-webkit-box;display:-webkit-flex;display:-ms-flexbox;display:flex;padding:0 15px;}\\n/* sc-component-id: ticket__TGBSection-s1rrbl5o-14 */\\n.bcEbYB{padding:10px 0 0;-webkit-flex:1 0 33%;-ms-flex:1 0 33%;flex:1 0 33%;border:1px solid white;border-width:2px 2px 0 0;}.gOacyS{padding:10px 0 0;-webkit-flex:1 0 33%;-ms-flex:1 0 33%;flex:1 0 33%;border:1px solid white;border-width:2px 0 0 0;}\\n/* sc-component-id: ticket__StatusContainer-s1rrbl5o-17 */\\n.fWLIvb{width:25%;padding:15px 10px 10px 20px;background-color:#7dd63b;color:#ffffff;} @media (max-width:768px){.fWLIvb{-webkit-order:0;-ms-flex-order:0;order:0;width:auto;}}\\n/* sc-component-id: ticket__RouteWithPlaneVisibilityWrapper-s1rrbl5o-18 */\\n.jUFavd{-webkit-flex:1 1 auto;-ms-flex:1 1 auto;flex:1 1 auto;} @media (max-width:768px){.jUFavd{display:none;}}\\n/* sc-component-id: desktop-action-button__ButtonWrapper-s1jep3p5-0 */\\n.kBcTIl{display:-webkit-box;display:-webkit-flex;display:-ms-flexbox;display:flex;-webkit-flex-flow:row wrap;-ms-flex-flow:row wrap;flex-flow:row wrap;-webkit-box-pack:center;-webkit-justify-content:center;-ms-flex-pack:center;justify-content:center;margin:7px;}\\n/* sc-component-id: ticket-ads__AdWrapper-s1r2hpb8-0 */\\n.cTVqNb{height:530px;-webkit-flex:0 0 300px;-ms-flex:0 0 300px;flex:0 0 300px;margin-left:15px;display:-webkit-box;display:-webkit-flex;display:-ms-flexbox;display:flex;-webkit-flex-flow:row wrap;-ms-flex-flow:row wrap;flex-flow:row wrap;-webkit-box-pack:space-evenly;-webkit-justify-content:space-evenly;-ms-flex-pack:space-evenly;justify-content:space-evenly;} @media (max-width:992px){.cTVqNb{-webkit-flex:1 0 100%;-ms-flex:1 0 100%;flex:1 0 100%;margin-left:0;height:265px;}}\\n/* sc-component-id: desktop-ticket-with-button__TicketWithButtons-s1620ulo-0 */\\n.hOLni{-webkit-flex:1 1 66%;-ms-flex:1 1 66%;flex:1 1 66%;-webkit-flex-direction:column;-ms-flex-direction:column;flex-direction:column;}\\n/* sc-component-id: select-filter-async__SpinnerWrapper-s6em86w-0 */\\n.bjCEsN{height:30px;width:20px;padding:5px;position:absolute;right:15px;top:2px;z-index:0;}\\n/* sc-component-id: select-filter-async__SelectWrapper-s6em86w-1 */\\n.irqUcv{width:100%;position:relative;}\\n/* sc-component-id: select-filter-async__InputWrapper-s6em86w-2 */\\n.cjScFY{background:hsla(0,0%,75%,.66);border:1px solid white;border-color:white;border-radius:4px;box-sizing:border-box;display:-webkit-box;display:-webkit-flex;display:-ms-flexbox;display:flex;height:40px;width:100%;outline-color:#FAA718;outline-width:3px;} .cjScFY::before{-webkit-flex:0 0 2.75em;-ms-flex:0 0 2.75em;flex:0 0 2.75em;display:-webkit-inline-box;display:-webkit-inline-flex;display:-ms-inline-flexbox;display:inline-flex;-webkit-align-items:center;-webkit-box-align:center;-ms-flex-align:center;align-items:center;-webkit-box-pack:center;-webkit-justify-content:center;-ms-flex-pack:center;justify-content:center;}\\n/* sc-component-id: select-filter-async__Input-s6em86w-3 */\\n.cOvXuG{-webkit-box-flex:1;-webkit-flex-grow:1;-ms-flex-positive:1;flex-grow:1;-webkit-flex-shrink:0;-ms-flex-negative:0;flex-shrink:0;-webkit-flex-basis:8em;-ms-flex-preferred-size:8em;flex-basis:8em;background-color:transparent;border-style:none;border-radius:4px;box-sizing:border-box;color:white;font-size:13px;height:40px;padding-left:10px;width:100%;} .cOvXuG::-webkit-input-placeholder{color:rgba(255,255,255,0.7);font-style:italic;} .cOvXuG::-moz-placeholder{color:rgba(255,255,255,0.7);font-style:italic;} .cOvXuG:-ms-input-placeholder{color:rgba(255,255,255,0.7);font-style:italic;} .cOvXuG::placeholder{color:rgba(255,255,255,0.7);font-style:italic;} .cOvXuG::-webkit-search-decoration,.cOvXuG::-webkit-search-cancel-button,.cOvXuG::-webkit-search-results-button,.cOvXuG::-webkit-search-results-decoration{display:none;} .cOvXuG:focus{outline:none;} .cOvXuG:disabled{-webkit-text-fill-color:white;-webkit-opacity:1;}\\n/* sc-component-id: unified-search__SearchCardWrapper-iq7jcx-0 */\\n.gstZUK{box-sizing:border-box;width:100%;display:-webkit-box;display:-webkit-flex;display:-ms-flexbox;display:flex;-webkit-flex-wrap:wrap;-ms-flex-wrap:wrap;flex-wrap:wrap;background-color:rgb(74,94,115);padding:5px 10px 15px;}\\n/* sc-component-id: unified-search__SearchTitle-iq7jcx-1 */\\n.bACtxm{color:#FFFFFF;margin-bottom:0;padding:0;font-size:1rem;font-weight:600;}\\n/* sc-component-id: unified-search__UniversalSearch-iq7jcx-2 */\\n.dqBfAD{width:54%;padding-right:12px;} @media (max-width:992px){.dqBfAD{width:50%;}}\\n/* sc-component-id: unified-search__SearchInputAndButton-iq7jcx-3 */\\n.ggFNb{width:100%;display:-webkit-box;display:-webkit-flex;display:-ms-flexbox;display:flex;-webkit-align-items:center;-webkit-box-align:center;-ms-flex-align:center;align-items:center;-webkit-box-pack:justify;-webkit-justify-content:space-between;-ms-flex-pack:justify;justify-content:space-between;padding-right:15px;} @media (max-width:768px){.ggFNb{padding-right:100px;}} @media (max-width:992px){.ggFNb{padding-right:0;}}\\n/* sc-component-id: unified-search__SearchButton-iq7jcx-4 */\\n.pLdPK{background-color:#FAA718;color:white;height:40px;margin:10px;border-radius:2px;display:-webkit-box;display:-webkit-flex;display:-ms-flexbox;display:flex;-webkit-box-pack:center;-webkit-justify-content:center;-ms-flex-pack:center;justify-content:center;-webkit-align-items:center;-webkit-box-align:center;-ms-flex-align:center;align-items:center;font-size:16px;} .pLdPK:hover{cursor:pointer;}\\n/* sc-component-id: unified-search__Anchor-iq7jcx-5 */\\n.cmnqBs{display:inline-block;width:100%;height:100%;}\\n/* sc-component-id: unified-search__ActionButtonWrapper-iq7jcx-6 */\\n.igwKn{width:22%;} @media (max-width:992px){.igwKn{width:25%;}}</style><script async=\"\" src=\"https://www.googletagmanager.com/gtag/js?id=UA-382334-26\"></script><link rel=\"shortcut icon\" href=\"//static.flightstats.com/v2/favicon.ico\" type=\"image/x-icon\"/><script type=\"text/javascript\">\\n    window.dataLayer = window.dataLayer || [];\\n    function gtag() {\\n      window.dataLayer.push(arguments);\\n    }\\n    gtag(\\'js\\', new Date());\\n\\n    gtag(\\'config\\', \"UA-382334-26\", {\\n      optimize_id: \"GTM-MFW3PHQ\",\\n      custom_map: {\\n        dimension1: \\'userId\\',\\n        dimension2: \\'domain\\',\\n        dimension3: \\'subscription\\',\\n        dimension4: \\'loggedIn\\',\\n        dimension5: \\'subscriptionLevel\\',\\n        dimension6: \\'PersonalizedAds\\',\\n      },\\n      send_page_view: false,\\n      anonymize_ip: true\\n    });\\n    gtag(\\'config\\', \"AW-1066161597\", { send_page_view: false });\\n    </script></head><body><div id=\"__next\"><div class=\"desktop__LayoutWrapper-s43d6t8-0 eOYkkH\"><img class=\"page-background-image__PageBackgroundImage-vd397e-0 hymwpx\" src=\"//assets.flightstats.com/v2/backgrounds/Clouds.jpg\"/><header class=\"desktop-header__HeaderContainer-s1hnb9a6-0 itQmbZ\"><section class=\"desktop-header__ContentRow-s1hnb9a6-2 kqCOwd desktop-header__Row-s1hnb9a6-1 frsWSl\"><section class=\"desktop-header__LeftColumn-s1hnb9a6-4 gvbdsK\"><a href=\"https://www.flightstats.com/v2\"><img class=\"desktop-header__Image-s1hnb9a6-9 eEOdSW\" src=\"//assets.flightstats.com/v2/FSbyCLogo.png\"/></a></section><section class=\"desktop-header__AdContainer-s1hnb9a6-8 jcQzgs\"></section><section class=\"desktop-header__RightColumn-s1hnb9a6-5 kkTCMH\"><section class=\"header-social__SocialLinksContainer-tb15tb-0 hVftIH\"><div class=\"header-social__Text-tb15tb-1 gjEOgT\">Follow us on</div><a class=\"header-social__LinkWrapper-tb15tb-2 ruvSm\" href=\"https://www.facebook.com/FlightGlobalIncorporatingFlightStats\" target=\"_blank\"><div style=\"display:inline-block;width:23px;height:23px\"></div></a><a class=\"header-social__LinkWrapper-tb15tb-2 ruvSm\" href=\"https://twitter.com/flightstats\" target=\"_blank\"><div style=\"display:inline-block;width:23px;height:23px\"></div></a><a class=\"header-social__LinkWrapper-tb15tb-2 ruvSm\" href=\"https://www.linkedin.com/company/flightstats\" target=\"_blank\"><div style=\"display:inline-block;width:23px;height:23px\"></div></a><a class=\"header-social__LinkWrapper-tb15tb-2 ruvSm\" href=\"https://www.youtube.com/channel/UC0lOB-YgtxGYiBFIo9f3hww\" target=\"_blank\"><div style=\"display:inline-block;width:23px;height:23px\"></div></a></section><div class=\"account-login__AccountLoginContainer-d7lweb-0 gNseZH\"><a class=\"account-login__SignupButton-d7lweb-3 kWzMNe button-link__ButtonLink-wcss74-0 bUQDqC\" href=\"https://www.flightstats.com/v2/register/plan\">Create Account</a><a class=\"account-login__LoginButton-d7lweb-1 dNwHti button-link__ButtonLink-wcss74-0 iUTHxa\" href=\"https://www.flightstats.com/v2/account/login\">Login</a></div></section></section><section class=\"desktop-header__NavRow-s1hnb9a6-3 hBFrnV desktop-header__Row-s1hnb9a6-1 frsWSl\"><section class=\"desktop-header__MainNavigation-s1hnb9a6-6 ccgfO\"><section class=\"hoverable-menu__NavSection-s166bj4y-0 bBJPOb\"><div class=\"menu-heading__HeadingOuter-fepp0s-0 kjRvQR\"><a class=\"menu-heading__HeadingText-fepp0s-1 bYKNWi\">Flights</a><div class=\"menu-heading__SubmenuOuter-fepp0s-2 fIefzt\"><ul class=\"nav-submenu__SubmenuContainer-upp2xz-0 gkQAgR\" hidden=\"\" width=\"267px\"><ul class=\"menu-item__MenuList-s1ht3jhe-0 bHovxc\"><li class=\"menu-item__MenuListItem-s1ht3jhe-1 dUgaVX\"><a class=\"menu-item__Anchor-s1ht3jhe-2 gEWhGM\" href=\"/v2/flight-tracker/search\">Flight Tracker</a></li></ul><ul class=\"menu-item__MenuList-s1ht3jhe-0 bHovxc\"><li class=\"menu-item__MenuListItem-s1ht3jhe-1 dUgaVX\"><a class=\"menu-item__Anchor-s1ht3jhe-2 gbokA\" href=\"https://www.flightstats.com/v2/historical-flight/search\">Historical Flight Status</a></li></ul><ul class=\"menu-item__MenuList-s1ht3jhe-0 bHovxc\"><li class=\"menu-item__MenuListItem-s1ht3jhe-1 dUgaVX\"><a class=\"menu-item__Anchor-s1ht3jhe-2 gbokA\" href=\"https://www.flightstats.com/v2/flight-alerts/home\">Alerts</a></li></ul><ul class=\"menu-item__MenuList-s1ht3jhe-0 bHovxc\"><li class=\"menu-item__MenuListItem-s1ht3jhe-1 dUgaVX\"><a class=\"menu-item__Anchor-s1ht3jhe-2 gEWhGM\" href=\"https://www.flightstats.com/v2/data-exports/home\">Data Exports</a></li></ul></ul></div></div><div class=\"menu-heading__HeadingOuter-fepp0s-0 kjRvQR\"><a class=\"menu-heading__HeadingText-fepp0s-1 bYKNWi\">Airports</a><div class=\"menu-heading__SubmenuOuter-fepp0s-2 fIefzt\"><ul class=\"nav-submenu__SubmenuContainer-upp2xz-0 kHTgKb\" hidden=\"\" width=\"280px\"><ul class=\"menu-item__MenuList-s1ht3jhe-0 bHovxc\"><li class=\"menu-item__MenuListItem-s1ht3jhe-1 dUgaVX\"><a class=\"menu-item__Anchor-s1ht3jhe-2 gEWhGM\" href=\"https://www.flightstats.com/v2/airport-conditions/search\">Current Conditions</a></li></ul><ul class=\"menu-item__MenuList-s1ht3jhe-0 bHovxc\"><li class=\"menu-item__MenuListItem-s1ht3jhe-1 dUgaVX\"><a class=\"menu-item__Anchor-s1ht3jhe-2 gbokA\" href=\"https://www.flightstats.com/v2/airports/departing-arriving/search\">Departures and Arrivals</a></li></ul><ul class=\"menu-item__MenuList-s1ht3jhe-0 bHovxc\"><li class=\"menu-item__MenuListItem-s1ht3jhe-1 dUgaVX\"><a class=\"menu-item__Anchor-s1ht3jhe-2 gEWhGM\" href=\"https://www.flightstats.com/v2/airport-delays\">Airport Delays</a></li></ul></ul></div></div><div class=\"menu-heading__HeadingOuter-fepp0s-0 kjRvQR\"><a class=\"menu-heading__HeadingText-fepp0s-1 bYKNWi\">Stats</a><div class=\"menu-heading__SubmenuOuter-fepp0s-2 fIefzt\"><ul class=\"nav-submenu__SubmenuContainer-upp2xz-0 eARUcx\" hidden=\"\" width=\"365px\"><ul class=\"menu-item__MenuList-s1ht3jhe-0 bHovxc\"><li class=\"menu-item__MenuListItem-s1ht3jhe-1 dUgaVX\"><a class=\"menu-item__Anchor-s1ht3jhe-2 gEWhGM\" href=\"https://www.flightstats.com/v2/monthly-performance-reports/airlines\">Airline On-time Performance Reports</a></li></ul><ul class=\"menu-item__MenuList-s1ht3jhe-0 bHovxc\"><li class=\"menu-item__MenuListItem-s1ht3jhe-1 dUgaVX\"><a class=\"menu-item__Anchor-s1ht3jhe-2 gEWhGM\" href=\"https://www.flightstats.com/v2/monthly-performance-reports/airports\">Airport On-time Performance Reports</a></li></ul><ul class=\"menu-item__MenuList-s1ht3jhe-0 bHovxc\"><li class=\"menu-item__MenuListItem-s1ht3jhe-1 dUgaVX\"><a class=\"menu-item__Anchor-s1ht3jhe-2 gEWhGM\" href=\"https://www.flightstats.com/v2/global-cancellations-and-delays\">Global Cancellations and Delays</a></li></ul></ul></div></div><div class=\"menu-heading__HeadingOuter-fepp0s-0 kjRvQR\"><a class=\"menu-heading__HeadingText-fepp0s-1 bYKNWi\">Company</a><div class=\"menu-heading__SubmenuOuter-fepp0s-2 fIefzt\"><ul class=\"nav-submenu__SubmenuContainer-upp2xz-0 iLSNXF\" hidden=\"\" width=\"135px\"><ul class=\"menu-item__MenuList-s1ht3jhe-0 bHovxc\"><li class=\"menu-item__MenuListItem-s1ht3jhe-1 dUgaVX\"><a class=\"menu-item__Anchor-s1ht3jhe-2 gEWhGM\" href=\"https://www.flightstats.com/company/corporate/about-us/\">About Us</a></li></ul><ul class=\"menu-item__MenuList-s1ht3jhe-0 bHovxc\"><li class=\"menu-item__MenuListItem-s1ht3jhe-1 dUgaVX\"><a class=\"menu-item__Anchor-s1ht3jhe-2 gEWhGM\" href=\"https://www.flightstats.com/company/products/\">Products</a></li></ul><ul class=\"menu-item__MenuList-s1ht3jhe-0 bHovxc\"><li class=\"menu-item__MenuListItem-s1ht3jhe-1 dUgaVX\"><a class=\"menu-item__Anchor-s1ht3jhe-2 gEWhGM\" href=\"https://www.flightstats.com/company/markets/\">Markets</a></li></ul><ul class=\"menu-item__MenuList-s1ht3jhe-0 bHovxc\"><li class=\"menu-item__MenuListItem-s1ht3jhe-1 dUgaVX\"><a class=\"menu-item__Anchor-s1ht3jhe-2 gEWhGM\" href=\"https://www.flightstats.com/company/corporate/data/\">Data</a></li></ul><ul class=\"menu-item__MenuList-s1ht3jhe-0 bHovxc\"><li class=\"menu-item__MenuListItem-s1ht3jhe-1 dUgaVX\"><a class=\"menu-item__Anchor-s1ht3jhe-2 gEWhGM\" href=\"https://www.flightstats.com/company/corporate/platform/\">Platform</a></li></ul><ul class=\"menu-item__MenuList-s1ht3jhe-0 bHovxc\"><li class=\"menu-item__MenuListItem-s1ht3jhe-1 dUgaVX\"><a class=\"menu-item__Anchor-s1ht3jhe-2 gEWhGM\" href=\"https://www.flightstats.com/company/corporate/customers/\">Customers</a></li></ul><ul class=\"menu-item__MenuList-s1ht3jhe-0 bHovxc\"><li class=\"menu-item__MenuListItem-s1ht3jhe-1 dUgaVX\"><a class=\"menu-item__Anchor-s1ht3jhe-2 gEWhGM\" href=\"https://www.flightstats.com/company/corporate/partners/\">Partners</a></li></ul></ul></div></div><div class=\"menu-heading__HeadingOuter-fepp0s-0 kjRvQR\"><a class=\"menu-heading__HeadingText-fepp0s-1 bYKNWi\">Resources</a><div class=\"menu-heading__SubmenuOuter-fepp0s-2 fIefzt\"><ul class=\"nav-submenu__SubmenuContainer-upp2xz-0 gFfJEP\" hidden=\"\" width=\"300px\"><ul class=\"menu-item__MenuList-s1ht3jhe-0 bHovxc\"><li class=\"menu-item__MenuListItem-s1ht3jhe-1 dUgaVX\"><a class=\"menu-item__Anchor-s1ht3jhe-2 gEWhGM\" href=\"https://helpdesk.cirium.com/hc/en-us\">FAQ</a></li></ul><ul class=\"menu-item__MenuList-s1ht3jhe-0 bHovxc\"><li class=\"menu-item__MenuListItem-s1ht3jhe-1 dUgaVX\"><a class=\"menu-item__Anchor-s1ht3jhe-2 gEWhGM\" href=\"https://www.flightstats.com/company/support/\">Support</a></li></ul><ul class=\"menu-item__MenuList-s1ht3jhe-0 bHovxc\"><li class=\"menu-item__MenuListItem-s1ht3jhe-1 dUgaVX\"><a class=\"menu-item__Anchor-s1ht3jhe-2 gEWhGM\" href=\"https://developer.flightstats.com/?utm_source=flightstats&amp;utm_medium=ResourcesMenuLink&amp;utm_campaign=DeveloperCenter\">Developer Center</a></li></ul><ul class=\"menu-item__MenuList-s1ht3jhe-0 bHovxc\"><li class=\"menu-item__MenuListItem-s1ht3jhe-1 dUgaVX\"><a class=\"menu-item__Anchor-s1ht3jhe-2 gEWhGM\" href=\"https://www.flightstats.com/company/corporate/careers/\">Careers</a></li></ul><ul class=\"menu-item__MenuList-s1ht3jhe-0 bHovxc\"><li class=\"menu-item__MenuListItem-s1ht3jhe-1 dUgaVX\"><a class=\"menu-item__Anchor-s1ht3jhe-2 gEWhGM\" href=\"https://www.flightstats.com/company/contact/\">Contact</a></li></ul><ul class=\"menu-item__MenuList-s1ht3jhe-0 bHovxc\"><li class=\"menu-item__MenuListItem-s1ht3jhe-1 dUgaVX\"><a class=\"menu-item__Anchor-s1ht3jhe-2 gEWhGM\" href=\"https://www.flightstats.com/company/media/on-time-performance-awards/\">On-Time Performance Awards</a></li></ul></ul></div></div></section></section><section class=\"desktop-header__SecondaryNavigation-s1hnb9a6-7 eoPeAM\"><section class=\"hoverable-menu__NavSection-s166bj4y-0 bBJPOb\"><div class=\"menu-heading__HeadingOuter-fepp0s-0 kjRvQR\"><a class=\"menu-heading__HeadingText-fepp0s-1 bYKNWi\">My FlightStats</a><div class=\"menu-heading__SubmenuOuter-fepp0s-2 fwYlLi\"><ul class=\"nav-submenu__SubmenuContainer-upp2xz-0 bfigzO\" hidden=\"\" width=\"180px\"><ul class=\"menu-item__MenuList-s1ht3jhe-0 bHovxc\"><li class=\"menu-item__MenuListItem-s1ht3jhe-1 dUgaVX\"><a class=\"menu-item__Anchor-s1ht3jhe-2 gbokA\" href=\"https://www.flightstats.com/v2/flight-alerts/home\">My Alerts</a></li></ul><ul class=\"menu-item__MenuList-s1ht3jhe-0 bHovxc\"><li class=\"menu-item__MenuListItem-s1ht3jhe-1 dUgaVX\"><a class=\"menu-item__Anchor-s1ht3jhe-2 gEWhGM\" href=\"https://www.flightstats.com/v2/my-account/profile\">My Account</a></li></ul></ul></div></div></section></section></section></header><section class=\"desktop__Content-s43d6t8-1 fsjJUA\"><section class=\"unified-search__SearchCardWrapper-iq7jcx-0 gstZUK\"><h2 class=\"unified-search__SearchTitle-iq7jcx-1 bACtxm\">Track a Flight</h2><div class=\"unified-search__SearchInputAndButton-iq7jcx-3 ggFNb\"><div class=\"unified-search__UniversalSearch-iq7jcx-2 dqBfAD\"><div><div class=\"select-filter-async__SelectWrapper-s6em86w-1 irqUcv\"><div><div><div class=\"select-filter-async__InputWrapper-s6em86w-2 cjScFY\" height=\"40px\" width=\"100%\"><input type=\"search\" class=\"select-filter-async__Input-s6em86w-3 cOvXuG\" height=\"40px\" placeholder=\"Try &quot;aa100&quot; or &quot;AA JFK LHR&quot; or &quot;London Chicago&quot;\" value=\"\"/><div class=\"select-filter-async__SpinnerWrapper-s6em86w-0 bjCEsN\"><svg class=\"input-spinner__StyledSpinner-qqpqdz-0 efuJVZ\" viewBox=\"0 0 50 50\"><circle class=\"path\" cx=\"25\" cy=\"25\" r=\"20\" fill=\"none\" stroke-width=\"4\"></circle></svg></div></div></div></div></div></div></div><div class=\"unified-search__ActionButtonWrapper-iq7jcx-6 igwKn\"><a class=\"unified-search__Anchor-iq7jcx-5 cmnqBs\"><div class=\"unified-search__SearchButton-iq7jcx-4 pLdPK\">SEARCH</div></a></div><div class=\"unified-search__ActionButtonWrapper-iq7jcx-6 igwKn\"><a class=\"button-link__ButtonLink-wcss74-0 cVLspB\" href=\"/v2/flight-tracker/search\">ADVANCED SEARCH</a></div></div></section><h1 class=\"header__HeaderWrapper-a7usbh-0 iMQXFJ\">(PS) UIA 945 Flight Tracker</h1><div class=\"layout-row__RowWrapper-s1uoco8s-0 dcdOHa\"><div class=\"layout-row__SectionContainer-s1uoco8s-2 iSGoko\"><div class=\"layout-row__TitleWrapper-s1uoco8s-3 jFgNNO\"><h2 class=\"layout-row__Title-s1uoco8s-4 bRoHMJ\">Flight Status</h2></div><div><div class=\"layout-row__RowInner-s1uoco8s-1 byoaAa\"><div class=\"desktop-ticket-with-button__TicketWithButtons-s1620ulo-0 hOLni\"><div class=\"ticket__TicketContainer-s1rrbl5o-0 bgrndo\"><div class=\"ticket__Header-s1rrbl5o-1 ipofwS\"><div class=\"ticket__FlightWithOperatedBy-s1rrbl5o-2 hnGDgb\"><div class=\"ticket__NumberAndRoute-s1rrbl5o-3 lllMtP\"><div class=\"ticket__FlightNumberContainer-s1rrbl5o-4 hgbvHg\"><div class=\"text-helper__TextHelper-s8bko4a-0 ekVwAR\">PS 945</div><div class=\"text-helper__TextHelper-s8bko4a-0 dNaxcH\">UIA</div></div><div class=\"ticket__RouteWithPlaneVisibilityWrapper-s1rrbl5o-18 jUFavd\"><div class=\"route-with-plane__RouteGroup-s154xj1h-0 geSBNm\"><div class=\"route-with-plane__Route-s154xj1h-1 epBIjQ\"><div><div class=\"route-with-plane__AirportCodeLabel-s154xj1h-2 gfzIST text-helper__TextHelper-s8bko4a-0 fDkXNq\"><a class=\"route-with-plane__AirportLink-s154xj1h-3 dBXRil\" href=\"https://www.flightstats.com/v2/airport-conditions/KBP\">KBP</a></div><div class=\"text-helper__TextHelper-s8bko4a-0 eFnGmW\">Kiev/Kyiv</div></div></div><div class=\"route-with-plane__Route-s154xj1h-1 dvnPzZ\"><div style=\"display:inline-block;width:35px;height:32px\"></div></div><div class=\"route-with-plane__Route-s154xj1h-1 epBIjQ\"><div><div class=\"route-with-plane__AirportCodeLabel-s154xj1h-2 gfzIST text-helper__TextHelper-s8bko4a-0 fDkXNq\"><a class=\"route-with-plane__AirportLink-s154xj1h-3 dBXRil\" href=\"https://www.flightstats.com/v2/airport-conditions/MAD\">MAD</a></div><div class=\"text-helper__TextHelper-s8bko4a-0 eFnGmW\">Madrid</div></div></div></div></div></div></div><div class=\"ticket__StatusContainer-s1rrbl5o-17 fWLIvb\" color=\"#ffffff\"><div class=\"text-helper__TextHelper-s8bko4a-0 kWxgTv\" color=\"#ffffff\">Arrived</div><div class=\"text-helper__TextHelper-s8bko4a-0 yeKfN\" color=\"#ffffff\">On time</div></div></div><div class=\"ticket__TicketContent-s1rrbl5o-6 ccpWcM\"><div class=\"ticket__TicketCard-s1rrbl5o-7 dJloSk\"><div class=\"ticket__InfoSection-s1rrbl5o-8 isGpsI\"><div class=\"ticket__AirportCodeLabel-s1rrbl5o-9 kvCFkA text-helper__TextHelper-s8bko4a-0 iaZAuU\"><a class=\"ticket__AirportLink-s1rrbl5o-10 cuIkvt\" href=\"https://www.flightstats.com/v2/airport-conditions/KBP\">KBP</a></div><div class=\"text-helper__TextHelper-s8bko4a-0 blQyiG\">Kiev/Kyiv, UA</div><div class=\"text-helper__TextHelper-s8bko4a-0 CPamx\">Boryspil International Airport</div></div><div class=\"ticket__InfoSection-s1rrbl5o-8 isGpsI\"><div class=\"text-helper__TextHelper-s8bko4a-0 cOYJbf\">Flight Departure Times</div><div class=\"text-helper__TextHelper-s8bko4a-0 xAWXb\" color=\"#d6d6d6\">12-May-2019</div></div><div class=\"ticket__TimeGroupContainer-s1rrbl5o-11 ckbilY\"><div class=\"ticket__InfoSection-s1rrbl5o-8 igyRqP\"><div class=\"text-helper__TextHelper-s8bko4a-0 bcmzUJ\">Scheduled</div><div class=\"text-helper__TextHelper-s8bko4a-0 cCfBRT\">20:40<span class=\"ticket__TimeSuffix-s1rrbl5o-12 koWibD\" color=\"#d6d6d6\"> EEST</span></div></div><div class=\"ticket__InfoSection-s1rrbl5o-8 igyRqP\"><div class=\"text-helper__TextHelper-s8bko4a-0 bcmzUJ\">Actual</div><div class=\"text-helper__TextHelper-s8bko4a-0 cCfBRT\">20:40<span class=\"ticket__TimeSuffix-s1rrbl5o-12 koWibD\" color=\"#d6d6d6\"> EEST</span></div></div></div><div class=\"ticket__TerminalGateBagContainer-s1rrbl5o-13 ubbwc\"><div class=\"ticket__TGBSection-s1rrbl5o-14 bcEbYB ticket__InfoSection-s1rrbl5o-8 isGpsI\"><div class=\"ticket__TGBLabel-s1rrbl5o-15 gcbyEH text-helper__TextHelper-s8bko4a-0 dfeqpK\">Terminal</div><div class=\"ticket__TGBValue-s1rrbl5o-16 icyRae text-helper__TextHelper-s8bko4a-0 cCfBRT\">D</div></div><div class=\"ticket__TGBSection-s1rrbl5o-14 gOacyS ticket__InfoSection-s1rrbl5o-8 isGpsI\"><div class=\"ticket__TGBLabel-s1rrbl5o-15 gcbyEH text-helper__TextHelper-s8bko4a-0 dfeqpK\">Gate</div><div class=\"ticket__TGBValue-s1rrbl5o-16 icyRae text-helper__TextHelper-s8bko4a-0 cCfBRT\">N/A</div></div></div></div><div class=\"ticket__TicketCard-s1rrbl5o-7 dJloSk\"><div class=\"ticket__InfoSection-s1rrbl5o-8 isGpsI\"><div class=\"ticket__AirportCodeLabel-s1rrbl5o-9 kvCFkA text-helper__TextHelper-s8bko4a-0 iaZAuU\"><a class=\"ticket__AirportLink-s1rrbl5o-10 cuIkvt\" href=\"https://www.flightstats.com/v2/airport-conditions/MAD\">MAD</a></div><div class=\"text-helper__TextHelper-s8bko4a-0 blQyiG\">Madrid, SP, ES</div><div class=\"text-helper__TextHelper-s8bko4a-0 CPamx\">Adolfo Suarez Madrid-Barajas Airport</div></div><div class=\"ticket__InfoSection-s1rrbl5o-8 isGpsI\"><div class=\"text-helper__TextHelper-s8bko4a-0 cOYJbf\">Flight Arrival Times</div><div class=\"text-helper__TextHelper-s8bko4a-0 xAWXb\" color=\"#d6d6d6\">13-May-2019</div></div><div class=\"ticket__TimeGroupContainer-s1rrbl5o-11 ckbilY\"><div class=\"ticket__InfoSection-s1rrbl5o-8 igyRqP\"><div class=\"text-helper__TextHelper-s8bko4a-0 bcmzUJ\">Scheduled</div><div class=\"text-helper__TextHelper-s8bko4a-0 cCfBRT\">00:10<span class=\"ticket__TimeSuffix-s1rrbl5o-12 koWibD\" color=\"#d6d6d6\"> CEST</span></div></div><div class=\"ticket__InfoSection-s1rrbl5o-8 igyRqP\"><div class=\"text-helper__TextHelper-s8bko4a-0 bcmzUJ\">Actual</div><div class=\"text-helper__TextHelper-s8bko4a-0 cCfBRT\">23:52<span class=\"ticket__TimeSuffix-s1rrbl5o-12 koWibD\" color=\"#d6d6d6\"> CEST</span></div></div></div><div class=\"ticket__TerminalGateBagContainer-s1rrbl5o-13 ubbwc\"><div class=\"ticket__TGBSection-s1rrbl5o-14 bcEbYB ticket__InfoSection-s1rrbl5o-8 isGpsI\"><div class=\"ticket__TGBLabel-s1rrbl5o-15 gcbyEH text-helper__TextHelper-s8bko4a-0 dfeqpK\">Terminal</div><div class=\"ticket__TGBValue-s1rrbl5o-16 icyRae text-helper__TextHelper-s8bko4a-0 cCfBRT\">4</div></div><div class=\"ticket__TGBSection-s1rrbl5o-14 bcEbYB ticket__InfoSection-s1rrbl5o-8 isGpsI\"><div class=\"ticket__TGBLabel-s1rrbl5o-15 gcbyEH text-helper__TextHelper-s8bko4a-0 dfeqpK\">Gate</div><div class=\"ticket__TGBValue-s1rrbl5o-16 icyRae text-helper__TextHelper-s8bko4a-0 cCfBRT\">N/A</div></div><div class=\"ticket__TGBSection-s1rrbl5o-14 gOacyS ticket__InfoSection-s1rrbl5o-8 isGpsI\"><div class=\"ticket__TGBLabel-s1rrbl5o-15 gcbyEH text-helper__TextHelper-s8bko4a-0 dfeqpK\">Baggage</div><div class=\"ticket__TGBValue-s1rrbl5o-16 icyRae text-helper__TextHelper-s8bko4a-0 cCfBRT\">05</div></div></div></div></div></div><div class=\"desktop-action-button__ButtonWrapper-s1jep3p5-0 kBcTIl\"><a class=\"button-link__ButtonLink-wcss74-0 cVLspB\" href=\"https://www.flightstats.com/v2/flight-details/PS/945?year=2019&amp;month=5&amp;date=12&amp;flightId=999564363\" id=\"extendedDetailsButton\">VIEW FLIGHT DETAILS</a><a class=\"button-link__ButtonLink-wcss74-0 cVLspB\" href=\"https://www.flightstats.com/v2/flight-ontime-performance-rating/PS/945/KBP\" id=\"onTimePerformanceButton\">ON-TIME PERFORMANCE</a><a class=\"button-link__ButtonLink-wcss74-0 cVLspB\" href=\"https://www.flightstats.com/v2/airport-delays/europe\">AIRPORT DELAYS</a><a class=\"button-link__ButtonLink-wcss74-0 cVLspB\" href=\"https://www.flightstats.com/v2/airport-conditions/KBP\">KBP AIRPORT CONDITIONS</a><a class=\"button-link__ButtonLink-wcss74-0 cVLspB\" href=\"https://www.flightstats.com/v2/airport-conditions/MAD\">MAD AIRPORT CONDITIONS</a><a class=\"button-link__ButtonLink-wcss74-0 cVLspB\" href=\"/v2/flight-tracker/PS/945?year=2019&amp;month=5&amp;date=12&amp;flightId=999564363\">REFRESH DATA</a></div></div><div class=\"ticket-ads__AdWrapper-s1r2hpb8-0 cTVqNb\"></div></div></div></div></div><div class=\"layout-row__RowWrapper-s1uoco8s-0 dcdOHa\"><div class=\"layout-row__SectionContainer-s1uoco8s-2 iSGoko\"><div class=\"layout-row__TitleWrapper-s1uoco8s-3 jFgNNO\"><h2 class=\"layout-row__Title-s1uoco8s-4 bRoHMJ\">Flight Tracker</h2></div><div><div class=\"layout-row__RowInner-s1uoco8s-1 byoaAa\"><div class=\"tracker__Wrapper-s1ixqjdu-0 dOavAN\"><div class=\"row__Row-s18xg2xa-0 hbKFUI\"><div class=\"notice__NoticeWrapper-s1s5ew8y-0 kJjIdo\"><h3 class=\"notice__Heading-s1s5ew8y-1 fVrVhY\">Positional Tracking Has Ended</h3><p class=\"notice__Body-s1s5ew8y-2 fKKnnY\">The flight has landed</p></div></div><div class=\"row__Row-s18xg2xa-0 hbKFUI\"><div class=\"client-only-flight-map__MapWrapper-yxmqy7-0 iUmJlv\"><div style=\"width:100%;height:100%\"></div></div><div class=\"tracker-ad__AdWrapper-s1g546b7-0 jPkVeb\"></div></div><div class=\"tracker__MiniTrackerRow-s1ixqjdu-1 eoLzOB row__Row-s18xg2xa-0 hbKFUI\"><div class=\"flight-mini-tracker__MiniTrackerWrapper-s25va3-0 hPcTyb\"><div class=\"row__Row-s18xg2xa-0 hbKFUI\"><div class=\"flight-mini-tracker__GraphWrapper-s25va3-1 fkgZPZ\"><div class=\"flight-mini-tracker__GraphAndPhase-s25va3-6 fblRex\"><div class=\"flight-mini-tracker__GraphOuter-s25va3-7 cQaOrk\" id=\"trackerGraph\"><svg class=\"flight-mini-tracker__SVGWrapper-s25va3-4 ThPwX\"><path id=\"vert-backfill\" stroke=\"rgba(250, 168, 23, 0.2)\"></path><path id=\"alt-current\" stroke-width=\"2\" stroke=\"rgba(255, 255, 255, 0.6)\"></path><path fill=\"none\" id=\"plane-path\" stroke-width=\"2\" stroke=\"#FF9600\"></path></svg></div><div class=\"alt-and-phase__Wrapper-jihjun-0 kmsVZS\"><div class=\"alt-and-phase__Altitude-jihjun-1 bkmjVx\"><span class=\"alt-and-phase__ContentLabel-jihjun-4 ekQiCH\">ALTITUDE</span><span class=\"alt-and-phase__ContentBox-jihjun-3 fDjOMe\">0 ft</span></div><div class=\"alt-and-phase__Phase-jihjun-2 jJjsmI\"><span class=\"alt-and-phase__ContentBox-jihjun-3 fDjOMe\">LANDED</span></div></div></div></div></div><div class=\"row__Row-s18xg2xa-0 hbKFUI\"><div class=\"flight-time-and-distance__TextBoxWrapper-r1etkb-0 jRUOqj\"><div class=\"text-box__TextBoxContainer-r0lz9f-0 iahmts\"><h3 class=\"text-box__Heading-r0lz9f-2 kLpQef\">Flight Time</h3><div class=\"text-box__ItemWrapper-r0lz9f-1 fzOBRA\"><div class=\"labeled-columns__ContentWrapper-j3eq63-3 cDamQW\"><div class=\"labeled-columns__Item-j3eq63-2 evoxyJ\"><h4 class=\"labeled-columns__Label-j3eq63-0 eJOxfR\">Total</h4><h5 class=\"labeled-columns__Value-j3eq63-1 bJFJTJ\">4h 12m</h5></div><div class=\"labeled-columns__Item-j3eq63-2 evoxyJ\"><h4 class=\"labeled-columns__Label-j3eq63-0 eJOxfR\">Elapsed</h4><h5 class=\"labeled-columns__Value-j3eq63-1 bJFJTJ\">4h 12m</h5></div><div class=\"labeled-columns__Item-j3eq63-2 evoxyJ\"><h4 class=\"labeled-columns__Label-j3eq63-0 eJOxfR\">Remaining</h4><h5 class=\"labeled-columns__Value-j3eq63-1 bJFJTJ\">0m</h5></div></div></div></div></div><div class=\"flight-time-and-distance__TextBoxWrapper-r1etkb-0 jRUOqj\"><div class=\"text-box__TextBoxContainer-r0lz9f-0 iahmts\"><h3 class=\"text-box__Heading-r0lz9f-2 kLpQef\">Flight Distance</h3><div class=\"text-box__ItemWrapper-r0lz9f-1 fzOBRA\"><div class=\"labeled-columns__ContentWrapper-j3eq63-3 cDamQW\"><div class=\"labeled-columns__Item-j3eq63-2 evoxyJ\"><h4 class=\"labeled-columns__Label-j3eq63-0 eJOxfR\">Total</h4><h5 class=\"labeled-columns__Value-j3eq63-1 bJFJTJ\">0 </h5></div><div class=\"labeled-columns__Item-j3eq63-2 evoxyJ\"><h4 class=\"labeled-columns__Label-j3eq63-0 eJOxfR\">Flown</h4><h5 class=\"labeled-columns__Value-j3eq63-1 bJFJTJ\">0 </h5></div><div class=\"labeled-columns__Item-j3eq63-2 evoxyJ\"><h4 class=\"labeled-columns__Label-j3eq63-0 eJOxfR\">Remaining</h4><h5 class=\"labeled-columns__Value-j3eq63-1 bJFJTJ\">0 </h5></div></div></div></div></div></div></div></div></div></div></div></div></div><div class=\"layout-row__RowWrapper-s1uoco8s-0 dcdOHa\"><div class=\"layout-row__SectionContainer-s1uoco8s-2 iSGoko\"><div class=\"layout-row__TitleWrapper-s1uoco8s-3 jFgNNO\"><h2 class=\"layout-row__Title-s1uoco8s-4 bRoHMJ\">Additional Details</h2></div><div><div class=\"layout-row__RowInner-s1uoco8s-1 ceJxq\"><div class=\"additional-details__FloatWrapper-hoxwfb-1 cpMYKi\"><div class=\"additional-details__SubItemWrapper-hoxwfb-2 lhkoRP\"><div class=\"text-box__TextBoxContainer-r0lz9f-0 fMywIH\"><h3 class=\"text-box__Heading-r0lz9f-2 kLpQef\">Aircraft Equipment</h3><div class=\"text-box__ItemWrapper-r0lz9f-1 fzOBRA\"><div class=\"labeled-columns__ContentWrapper-j3eq63-3 cDamQW\"><div class=\"labeled-columns__Item-j3eq63-2 evoxyJ\"><h4 class=\"labeled-columns__Label-j3eq63-0 eJOxfR\">Code</h4><h5 class=\"labeled-columns__Value-j3eq63-1 bJFJTJ\">73H</h5></div><div class=\"labeled-columns__Item-j3eq63-2 evoxyJ\"><h4 class=\"labeled-columns__Label-j3eq63-0 eJOxfR\">Description</h4><h5 class=\"labeled-columns__Value-j3eq63-1 bJFJTJ\">Boeing 737-800 (winglets) Passenger/BBJ2</h5></div></div></div></div></div></div></div></div></div></div><div class=\"layout-row__RowWrapper-s1uoco8s-0 dcdOHa\"><div class=\"layout-row__SectionContainer-s1uoco8s-2 iSGoko\"><div class=\"layout-row__TitleWrapper-s1uoco8s-3 jFgNNO\"><h2 class=\"layout-row__Title-s1uoco8s-4 bRoHMJ\">Past and Upcoming Flights</h2></div><div><div class=\"layout-row__RowInner-s1uoco8s-1 ceJxq\"><div class=\"tabs-content__DescriptionDropdownWrapper-rymvp0-0 fRTrlz\"><div class=\"past-upcoming-flights__TextHelper-s1haoxfm-2 kbFwjf\">For flights prior to the results below, please use our\\xa0<a class=\"past-upcoming-flights__Hyperlink-s1haoxfm-1 gjMMna\" href=\"/v2/historical-flight/search\">Historical Flight Status</a>\\xa0feature.</div><div class=\"tabs-content__MobileSelector-rymvp0-1 fsJzIl\"><div class=\"select-field__SelectContainer-s6imzgj-0 jPlelN\"><div class=\"select-field__SelectElement-s6imzgj-1 fQmGYv\" value=\"\"><div class=\"select-field__Label-s6imzgj-5 jZTKLu\">12-May<div style=\"display:inline-block;width:20px;height:20px\"></div></div></div></div></div></div><div class=\"tabs-content__TabBar-rymvp0-3 ckGNPc\"><div class=\"tabs-content__Tab-rymvp0-4 cTqTlq\" selected=\"\">12-May</div><div class=\"tabs-content__Tab-rymvp0-4 hGlvDv\">13-May</div><div class=\"tabs-content__Tab-rymvp0-4 hGlvDv\">14-May</div><div class=\"tabs-content__Tab-rymvp0-4 hGlvDv\">15-May</div><div class=\"tabs-content__Tab-rymvp0-4 hGlvDv\">16-May</div><div class=\"tabs-content__Tab-rymvp0-4 hGlvDv\">17-May</div><div class=\"tabs-content__Tab-rymvp0-4 hGlvDv\">18-May</div></div><div class=\"tabs-content__OneFlightPanel-rymvp0-6 ehqaCS\" selected=\"\"><div class=\"tabs-content__DateWrapper-rymvp0-10 cDAHvJ tabs-content__FadeInDiv-rymvp0-7 clShQb\"><div class=\"past-upcoming-flights__TextHelper-s1haoxfm-2 htEwxh\">Flights for Sunday, 12-May-2019</div></div><div class=\"tabs-content__BoldCenteredText-rymvp0-9 boqkYs tabs-content__CenteredText-rymvp0-8 eOUQmz tabs-content__FadeInDiv-rymvp0-7 clShQb\">One Flight This Day</div><div class=\"tabs-content__CenteredText-rymvp0-8 eOUQmz tabs-content__FadeInDiv-rymvp0-7 clShQb\">You are currently viewing the only flight for this day</div></div><div class=\"tabs-content__Panel-rymvp0-5 golHFI\"><div class=\"tabs-content__FadeInDiv-rymvp0-7 clShQb\"><div class=\"past-upcoming-flights__TextHelper-s1haoxfm-2 htEwxh\">Flights for Monday, 13-May-2019</div><div class=\"past-upcoming-flights__HeaderContainer-s1haoxfm-8 dHFBYw\"><div class=\"past-upcoming-flights__HeaderText-s1haoxfm-9 iyoRaK past-upcoming-flights__TextHelper-s1haoxfm-2 cEzxMC\">Departure Time</div><div class=\"past-upcoming-flights__HeaderText-s1haoxfm-9 iJCHoL past-upcoming-flights__TextHelper-s1haoxfm-2 cEzxMC\">Origin</div><span class=\"past-upcoming-flights__HeaderSeparator-s1haoxfm-10 hPxFPu\">\\xa0</span><div class=\"past-upcoming-flights__HeaderText-s1haoxfm-9 iJCHoL past-upcoming-flights__TextHelper-s1haoxfm-2 cEzxMC\">Destination</div><div class=\"past-upcoming-flights__HeaderText-s1haoxfm-9 iyoRaK past-upcoming-flights__TextHelper-s1haoxfm-2 cEzxMC\">Arrival Time</div></div><a class=\"past-upcoming-flights__LinkTableRow-s1haoxfm-0 hiZfCr\" href=\"/v2/flight-tracker/PS/945?year=2019&amp;month=05&amp;date=13&amp;flightId=999679606\"><div class=\"past-upcoming-flights__TimeGroupContainer-s1haoxfm-5 dnaKQQ past-upcoming-flights__StyledInfo-s1haoxfm-3 hclaTo\"><div class=\"past-upcoming-flights__TextHelper-s1haoxfm-2 hxawCE\">20:40<span class=\"past-upcoming-flights__TimeSuffix-s1haoxfm-6 dQHMCy\"> EEST</span></div></div><div class=\"past-upcoming-flights__Airport-s1haoxfm-4 fjoBOD past-upcoming-flights__StyledInfo-s1haoxfm-3 hclaTo\"><div class=\"past-upcoming-flights__TextHelper-s1haoxfm-2 ceqiFt\">KBP</div><div class=\"past-upcoming-flights__TextHelper-s1haoxfm-2 ieHvs\">Kiev/Kyiv</div></div><div class=\"past-upcoming-flights__PlaneWrapper-s1haoxfm-7 haAodY\"><div style=\"display:inline-block;width:35px;height:32px\"></div></div><div class=\"past-upcoming-flights__Airport-s1haoxfm-4 fjoBOD past-upcoming-flights__StyledInfo-s1haoxfm-3 hclaTo\"><div class=\"past-upcoming-flights__TextHelper-s1haoxfm-2 ceqiFt\">MAD</div><div class=\"past-upcoming-flights__TextHelper-s1haoxfm-2 ieHvs\">Madrid</div></div><div class=\"past-upcoming-flights__TimeGroupContainer-s1haoxfm-5 dnaKQQ past-upcoming-flights__StyledInfo-s1haoxfm-3 hclaTo\"><div class=\"past-upcoming-flights__TextHelper-s1haoxfm-2 hxawCE\">00:10<span class=\"past-upcoming-flights__TimeSuffix-s1haoxfm-6 dQHMCy\"> CEST</span></div></div></a></div></div><div class=\"tabs-content__Panel-rymvp0-5 golHFI\"><div class=\"tabs-content__FadeInDiv-rymvp0-7 clShQb\"><div class=\"past-upcoming-flights__TextHelper-s1haoxfm-2 htEwxh\">Flights for Tuesday, 14-May-2019</div><div class=\"past-upcoming-flights__HeaderContainer-s1haoxfm-8 dHFBYw\"><div class=\"past-upcoming-flights__HeaderText-s1haoxfm-9 iyoRaK past-upcoming-flights__TextHelper-s1haoxfm-2 cEzxMC\">Departure Time</div><div class=\"past-upcoming-flights__HeaderText-s1haoxfm-9 iJCHoL past-upcoming-flights__TextHelper-s1haoxfm-2 cEzxMC\">Origin</div><span class=\"past-upcoming-flights__HeaderSeparator-s1haoxfm-10 hPxFPu\">\\xa0</span><div class=\"past-upcoming-flights__HeaderText-s1haoxfm-9 iJCHoL past-upcoming-flights__TextHelper-s1haoxfm-2 cEzxMC\">Destination</div><div class=\"past-upcoming-flights__HeaderText-s1haoxfm-9 iyoRaK past-upcoming-flights__TextHelper-s1haoxfm-2 cEzxMC\">Arrival Time</div></div><a class=\"past-upcoming-flights__LinkTableRow-s1haoxfm-0 hiZfCr\" href=\"/v2/flight-tracker/PS/945?year=2019&amp;month=05&amp;date=14&amp;flightId=999791591\"><div class=\"past-upcoming-flights__TimeGroupContainer-s1haoxfm-5 dnaKQQ past-upcoming-flights__StyledInfo-s1haoxfm-3 hclaTo\"><div class=\"past-upcoming-flights__TextHelper-s1haoxfm-2 hxawCE\">20:40<span class=\"past-upcoming-flights__TimeSuffix-s1haoxfm-6 dQHMCy\"> EEST</span></div></div><div class=\"past-upcoming-flights__Airport-s1haoxfm-4 fjoBOD past-upcoming-flights__StyledInfo-s1haoxfm-3 hclaTo\"><div class=\"past-upcoming-flights__TextHelper-s1haoxfm-2 ceqiFt\">KBP</div><div class=\"past-upcoming-flights__TextHelper-s1haoxfm-2 ieHvs\">Kiev/Kyiv</div></div><div class=\"past-upcoming-flights__PlaneWrapper-s1haoxfm-7 haAodY\"><div style=\"display:inline-block;width:35px;height:32px\"></div></div><div class=\"past-upcoming-flights__Airport-s1haoxfm-4 fjoBOD past-upcoming-flights__StyledInfo-s1haoxfm-3 hclaTo\"><div class=\"past-upcoming-flights__TextHelper-s1haoxfm-2 ceqiFt\">MAD</div><div class=\"past-upcoming-flights__TextHelper-s1haoxfm-2 ieHvs\">Madrid</div></div><div class=\"past-upcoming-flights__TimeGroupContainer-s1haoxfm-5 dnaKQQ past-upcoming-flights__StyledInfo-s1haoxfm-3 hclaTo\"><div class=\"past-upcoming-flights__TextHelper-s1haoxfm-2 hxawCE\">00:10<span class=\"past-upcoming-flights__TimeSuffix-s1haoxfm-6 dQHMCy\"> CEST</span></div></div></a></div></div><div class=\"tabs-content__Panel-rymvp0-5 golHFI\"><div class=\"tabs-content__FadeInDiv-rymvp0-7 clShQb\"><div class=\"past-upcoming-flights__TextHelper-s1haoxfm-2 htEwxh\">Flights for Wednesday, 15-May-2019</div><div class=\"past-upcoming-flights__HeaderContainer-s1haoxfm-8 dHFBYw\"><div class=\"past-upcoming-flights__HeaderText-s1haoxfm-9 iyoRaK past-upcoming-flights__TextHelper-s1haoxfm-2 cEzxMC\">Departure Time</div><div class=\"past-upcoming-flights__HeaderText-s1haoxfm-9 iJCHoL past-upcoming-flights__TextHelper-s1haoxfm-2 cEzxMC\">Origin</div><span class=\"past-upcoming-flights__HeaderSeparator-s1haoxfm-10 hPxFPu\">\\xa0</span><div class=\"past-upcoming-flights__HeaderText-s1haoxfm-9 iJCHoL past-upcoming-flights__TextHelper-s1haoxfm-2 cEzxMC\">Destination</div><div class=\"past-upcoming-flights__HeaderText-s1haoxfm-9 iyoRaK past-upcoming-flights__TextHelper-s1haoxfm-2 cEzxMC\">Arrival Time</div></div><a class=\"past-upcoming-flights__LinkTableRow-s1haoxfm-0 hiZfCr\" href=\"/v2/flight-tracker/PS/945?year=2019&amp;month=05&amp;date=15&amp;flightId=999902948\"><div class=\"past-upcoming-flights__TimeGroupContainer-s1haoxfm-5 dnaKQQ past-upcoming-flights__StyledInfo-s1haoxfm-3 hclaTo\"><div class=\"past-upcoming-flights__TextHelper-s1haoxfm-2 hxawCE\">20:40<span class=\"past-upcoming-flights__TimeSuffix-s1haoxfm-6 dQHMCy\"> EEST</span></div></div><div class=\"past-upcoming-flights__Airport-s1haoxfm-4 fjoBOD past-upcoming-flights__StyledInfo-s1haoxfm-3 hclaTo\"><div class=\"past-upcoming-flights__TextHelper-s1haoxfm-2 ceqiFt\">KBP</div><div class=\"past-upcoming-flights__TextHelper-s1haoxfm-2 ieHvs\">Kiev/Kyiv</div></div><div class=\"past-upcoming-flights__PlaneWrapper-s1haoxfm-7 haAodY\"><div style=\"display:inline-block;width:35px;height:32px\"></div></div><div class=\"past-upcoming-flights__Airport-s1haoxfm-4 fjoBOD past-upcoming-flights__StyledInfo-s1haoxfm-3 hclaTo\"><div class=\"past-upcoming-flights__TextHelper-s1haoxfm-2 ceqiFt\">MAD</div><div class=\"past-upcoming-flights__TextHelper-s1haoxfm-2 ieHvs\">Madrid</div></div><div class=\"past-upcoming-flights__TimeGroupContainer-s1haoxfm-5 dnaKQQ past-upcoming-flights__StyledInfo-s1haoxfm-3 hclaTo\"><div class=\"past-upcoming-flights__TextHelper-s1haoxfm-2 hxawCE\">00:10<span class=\"past-upcoming-flights__TimeSuffix-s1haoxfm-6 dQHMCy\"> CEST</span></div></div></a></div></div><div class=\"tabs-content__Panel-rymvp0-5 golHFI\"><div class=\"tabs-content__FadeInDiv-rymvp0-7 clShQb\"><div class=\"past-upcoming-flights__TextHelper-s1haoxfm-2 htEwxh\">Flights for Thursday, 16-May-2019</div><div class=\"past-upcoming-flights__HeaderContainer-s1haoxfm-8 dHFBYw\"><div class=\"past-upcoming-flights__HeaderText-s1haoxfm-9 iyoRaK past-upcoming-flights__TextHelper-s1haoxfm-2 cEzxMC\">Departure Time</div><div class=\"past-upcoming-flights__HeaderText-s1haoxfm-9 iJCHoL past-upcoming-flights__TextHelper-s1haoxfm-2 cEzxMC\">Origin</div><span class=\"past-upcoming-flights__HeaderSeparator-s1haoxfm-10 hPxFPu\">\\xa0</span><div class=\"past-upcoming-flights__HeaderText-s1haoxfm-9 iJCHoL past-upcoming-flights__TextHelper-s1haoxfm-2 cEzxMC\">Destination</div><div class=\"past-upcoming-flights__HeaderText-s1haoxfm-9 iyoRaK past-upcoming-flights__TextHelper-s1haoxfm-2 cEzxMC\">Arrival Time</div></div><a class=\"past-upcoming-flights__LinkTableRow-s1haoxfm-0 hiZfCr\" href=\"/v2/flight-tracker/PS/945?year=2019&amp;month=05&amp;date=16&amp;flightId=1000017819\"><div class=\"past-upcoming-flights__TimeGroupContainer-s1haoxfm-5 dnaKQQ past-upcoming-flights__StyledInfo-s1haoxfm-3 hclaTo\"><div class=\"past-upcoming-flights__TextHelper-s1haoxfm-2 hxawCE\">20:40<span class=\"past-upcoming-flights__TimeSuffix-s1haoxfm-6 dQHMCy\"> EEST</span></div></div><div class=\"past-upcoming-flights__Airport-s1haoxfm-4 fjoBOD past-upcoming-flights__StyledInfo-s1haoxfm-3 hclaTo\"><div class=\"past-upcoming-flights__TextHelper-s1haoxfm-2 ceqiFt\">KBP</div><div class=\"past-upcoming-flights__TextHelper-s1haoxfm-2 ieHvs\">Kiev/Kyiv</div></div><div class=\"past-upcoming-flights__PlaneWrapper-s1haoxfm-7 haAodY\"><div style=\"display:inline-block;width:35px;height:32px\"></div></div><div class=\"past-upcoming-flights__Airport-s1haoxfm-4 fjoBOD past-upcoming-flights__StyledInfo-s1haoxfm-3 hclaTo\"><div class=\"past-upcoming-flights__TextHelper-s1haoxfm-2 ceqiFt\">MAD</div><div class=\"past-upcoming-flights__TextHelper-s1haoxfm-2 ieHvs\">Madrid</div></div><div class=\"past-upcoming-flights__TimeGroupContainer-s1haoxfm-5 dnaKQQ past-upcoming-flights__StyledInfo-s1haoxfm-3 hclaTo\"><div class=\"past-upcoming-flights__TextHelper-s1haoxfm-2 hxawCE\">00:10<span class=\"past-upcoming-flights__TimeSuffix-s1haoxfm-6 dQHMCy\"> CEST</span></div></div></a></div></div><div class=\"tabs-content__Panel-rymvp0-5 golHFI\"><div class=\"tabs-content__FadeInDiv-rymvp0-7 clShQb\"><div class=\"past-upcoming-flights__TextHelper-s1haoxfm-2 htEwxh\">Flights for Friday, 17-May-2019</div><div class=\"past-upcoming-flights__HeaderContainer-s1haoxfm-8 dHFBYw\"><div class=\"past-upcoming-flights__HeaderText-s1haoxfm-9 iyoRaK past-upcoming-flights__TextHelper-s1haoxfm-2 cEzxMC\">Departure Time</div><div class=\"past-upcoming-flights__HeaderText-s1haoxfm-9 iJCHoL past-upcoming-flights__TextHelper-s1haoxfm-2 cEzxMC\">Origin</div><span class=\"past-upcoming-flights__HeaderSeparator-s1haoxfm-10 hPxFPu\">\\xa0</span><div class=\"past-upcoming-flights__HeaderText-s1haoxfm-9 iJCHoL past-upcoming-flights__TextHelper-s1haoxfm-2 cEzxMC\">Destination</div><div class=\"past-upcoming-flights__HeaderText-s1haoxfm-9 iyoRaK past-upcoming-flights__TextHelper-s1haoxfm-2 cEzxMC\">Arrival Time</div></div><a class=\"past-upcoming-flights__LinkTableRow-s1haoxfm-0 hiZfCr\" href=\"/v2/flight-tracker/PS/945?year=2019&amp;month=05&amp;date=17&amp;flightId=1000135360\"><div class=\"past-upcoming-flights__TimeGroupContainer-s1haoxfm-5 dnaKQQ past-upcoming-flights__StyledInfo-s1haoxfm-3 hclaTo\"><div class=\"past-upcoming-flights__TextHelper-s1haoxfm-2 hxawCE\">20:40<span class=\"past-upcoming-flights__TimeSuffix-s1haoxfm-6 dQHMCy\"> EEST</span></div></div><div class=\"past-upcoming-flights__Airport-s1haoxfm-4 fjoBOD past-upcoming-flights__StyledInfo-s1haoxfm-3 hclaTo\"><div class=\"past-upcoming-flights__TextHelper-s1haoxfm-2 ceqiFt\">KBP</div><div class=\"past-upcoming-flights__TextHelper-s1haoxfm-2 ieHvs\">Kiev/Kyiv</div></div><div class=\"past-upcoming-flights__PlaneWrapper-s1haoxfm-7 haAodY\"><div style=\"display:inline-block;width:35px;height:32px\"></div></div><div class=\"past-upcoming-flights__Airport-s1haoxfm-4 fjoBOD past-upcoming-flights__StyledInfo-s1haoxfm-3 hclaTo\"><div class=\"past-upcoming-flights__TextHelper-s1haoxfm-2 ceqiFt\">MAD</div><div class=\"past-upcoming-flights__TextHelper-s1haoxfm-2 ieHvs\">Madrid</div></div><div class=\"past-upcoming-flights__TimeGroupContainer-s1haoxfm-5 dnaKQQ past-upcoming-flights__StyledInfo-s1haoxfm-3 hclaTo\"><div class=\"past-upcoming-flights__TextHelper-s1haoxfm-2 hxawCE\">00:10<span class=\"past-upcoming-flights__TimeSuffix-s1haoxfm-6 dQHMCy\"> CEST</span></div></div></a></div></div><div class=\"tabs-content__Panel-rymvp0-5 golHFI\"><div class=\"tabs-content__FadeInDiv-rymvp0-7 clShQb\"><div class=\"past-upcoming-flights__TextHelper-s1haoxfm-2 htEwxh\">Flights for Saturday, 18-May-2019</div><div class=\"past-upcoming-flights__NoFlightText-s1haoxfm-11 chdSQy past-upcoming-flights__TextHelper-s1haoxfm-2 dxmetu\">No Flight Information Available</div><div class=\"past-upcoming-flights__NoFlightText-s1haoxfm-11 chdSQy past-upcoming-flights__TextHelper-s1haoxfm-2 FuHQL\">According to our data, this flight  is not scheduled to fly on this date</div></div></div></div></div></div></div><div class=\"layout-row__RowWrapper-s1uoco8s-0 dcdOHa\"><div class=\"layout-row__SectionContainer-s1uoco8s-2 iSGoko\"><div class=\"layout-row__TitleWrapper-s1uoco8s-3 jFgNNO\"><h2 class=\"layout-row__Title-s1uoco8s-4 bRoHMJ\">Mobile Applications for the Active Traveler</h2></div><div><div class=\"layout-row__RowInner-s1uoco8s-1 byoaAa\"><div class=\"mobile-apps-ad__MobileAdContainer-u4xl7b-1 eFskjy\"><div class=\"mobile-apps-ad__LeftColumn-u4xl7b-2 KouPz\"><div class=\"mobile-apps-ad__PhonesImage-u4xl7b-3 kOcurG\"></div></div><div class=\"mobile-apps-ad__RightColumn-u4xl7b-4 RqKHL\"><div class=\"mobile-apps-ad__TextBlock-u4xl7b-5 bXGCrF\"><h3 class=\"mobile-apps-ad__LargerHeading-u4xl7b-6 bkHDHH\">Over 9 million people have downloaded our FlightStats mobile apps!</h3><h4 class=\"mobile-apps-ad__SmallerHeading-u4xl7b-7 hkZTPf\">try it out today!</h4></div><div class=\"mobile-apps-ad__Logos-u4xl7b-8 dgygvu\"><a class=\"mobile-apps-ad__MobileLink-u4xl7b-0 kmrOHE\" href=\"https://itunes.apple.com/app/apple-store/id572700574?pt=604413&amp;ct=flightstats.com&amp;mt=8\"><div style=\"display:inline-block;width:120px;height:40px\"></div></a><a class=\"mobile-apps-ad__MobileLink-u4xl7b-0 kmrOHE\" href=\"https://play.google.com/store/apps/details?id=com.conducivetech.android.traveler\"><div style=\"display:inline-block;width:140px;height:40px\"></div></a></div></div></div></div></div></div></div></section><footer class=\"layout-footer__LayoutFooterWrapper-s1i4j3cg-0 SOAmc\"><div class=\"layout-footer__FooterTop-s1i4j3cg-1 kxgLkX\"><div class=\"layout-footer__AdWrapper-s1i4j3cg-8 jgHdgc\"></div></div><div class=\"layout-footer__FooterBottom-s1i4j3cg-2 ggUdJG\"><div class=\"layout-footer__FooterLeft-s1i4j3cg-3 iZjHLs\"><button class=\"enhanced-link__LinkWrapper-s1thych7-0 swqrz\" role=\"link\" type=\"button\"><a class=\"layout-footer__LinkAnchor-s1i4j3cg-10 ulGpt layout-footer__A-s1i4j3cg-9 jADxAA\" target=\"_blank\" href=\"https://www.flightstats.com/company/legal/cookie-policy\">Cookie Policy</a></button><button class=\"enhanced-link__LinkWrapper-s1thych7-0 swqrz\" role=\"link\" type=\"button\"><a class=\"layout-footer__LinkAnchor-s1i4j3cg-10 ulGpt layout-footer__A-s1i4j3cg-9 jADxAA\" target=\"_blank\" href=\"https://www.flightstats.com/company/legal/privacy-policy/\">Privacy Policy</a></button><button class=\"enhanced-link__LinkWrapper-s1thych7-0 swqrz\" role=\"link\" type=\"button\"><a class=\"layout-footer__LinkAnchor-s1i4j3cg-10 ulGpt layout-footer__A-s1i4j3cg-9 jADxAA\" target=\"_blank\" href=\"https://www.flightstats.com/company/legal/terms-of-use/\">Terms of Use</a></button><button class=\"enhanced-link__LinkWrapper-s1thych7-0 swqrz\" role=\"link\" type=\"button\"><a class=\"layout-footer__LinkAnchor-s1i4j3cg-10 ulGpt layout-footer__A-s1i4j3cg-9 jADxAA\" target=\"_blank\" href=\"https://www.flightstats.com/v2/sitemap\">Sitemap</a></button><span class=\"layout-footer__GrayText-s1i4j3cg-12 bJmmdh layout-footer__Text1-s1i4j3cg-11 dUrbMx\">Copyright © 2019 RBI, Inc.</span></div><div class=\"layout-footer__FooterRight-s1i4j3cg-4 kwBFKp\"><address class=\"layout-footer__Address-s1i4j3cg-14 iQTGmd\"><span class=\"layout-footer__WhiteText-s1i4j3cg-13 jsDIex layout-footer__Text1-s1i4j3cg-11 dUrbMx\">522 SW 5th Ave. #200</span><span class=\"layout-footer__WhiteText-s1i4j3cg-13 jsDIex layout-footer__Text1-s1i4j3cg-11 dUrbMx\">Portland, OR 97204</span></address><span class=\"layout-footer__GrayText-s1i4j3cg-12 bJmmdh layout-footer__Text1-s1i4j3cg-11 dUrbMx\">Version <!-- -->c-1c3b41-382-nxt</span><a class=\"layout-footer__LinkAnchor-s1i4j3cg-10 ulGpt layout-footer__A-s1i4j3cg-9 jADxAA\" target=\"_blank\" rel=\"nofollow\" href=\"http://www.relx.com/\"><img class=\"layout-footer__RelxImage-s1i4j3cg-6 cLVken layout-footer__Image-s1i4j3cg-5 kUnrPj\" alt=\"RELX Group\" src=\"https://assets.flightstats.com/common/Relx-OrangeWhite@2x.png\"/></a></div></div></footer></div></div><div id=\"__next-error\"></div><div id=\"modal\"></div><script>\\n          __NEXT_DATA__ = {\"props\":{\"store\":{},\"isServer\":true,\"initialState\":{\"app\":{\"user\":{},\"appHost\":\"http://www.flightstats.com/v2\"},\"elasticSearch\":{},\"flick\":{},\"flightTracker\":{\"flight\":{\"flightId\":999564363,\"flightNote\":{\"final\":true,\"canceled\":false,\"hasDepartedGate\":true,\"hasDepartedRunway\":true,\"landed\":true,\"message\":\"The flight has landed\",\"messageCode\":\"L\",\"pastExpectedTakeOff\":true,\"tracking\":false,\"hasPositions\":true,\"trackingUnavailable\":false,\"phase\":\"Landed\",\"hasActualRunwayDepartureTime\":true,\"hasActualGateDepartureTime\":true},\"isTracking\":false,\"isLanded\":true,\"isScheduled\":false,\"sortTime\":\"2019-05-12T17:40:00.000Z\",\"schedule\":{\"scheduledDeparture\":\"2019-05-12T20:40:00.000\",\"scheduledDepartureUTC\":\"2019-05-12T17:40:00.000Z\",\"estimatedActualDepartureRunway\":false,\"estimatedActualDepartureTitle\":\"Actual\",\"estimatedActualDeparture\":\"2019-05-12T20:40:00.000\",\"estimatedActualDepartureUTC\":\"2019-05-12T17:40:00.000Z\",\"scheduledArrival\":\"2019-05-13T00:10:00.000\",\"scheduledArrivalUTC\":\"2019-05-12T22:10:00.000Z\",\"estimatedActualArrivalRunway\":false,\"estimatedActualArrivalTitle\":\"Actual\",\"estimatedActualArrival\":\"2019-05-12T23:52:00.000\",\"estimatedActualArrivalUTC\":\"2019-05-12T21:52:00.000Z\",\"graphXAxis\":{\"dep\":\"2019-05-12T20:40:00.000\",\"depUTC\":\"2019-05-12T17:40:00.000Z\",\"arr\":\"2019-05-12T23:52:00.000\",\"arrUTC\":\"2019-05-12T21:52:00.000Z\"},\"tookOff\":\"2019-05-12T20:40:00.000\",\"landing\":\"2019-05-12T23:52:00.000\",\"isLanded\":true},\"status\":{\"statusCode\":\"L\",\"status\":\"Arrived\",\"color\":\"green\",\"statusDescription\":\"On time\",\"delay\":{\"departure\":{\"minutes\":0},\"arrival\":{\"minutes\":0}},\"delayStatus\":{\"wording\":\"On time\",\"minutes\":0},\"lastUpdatedText\":\"Status Last Updated More Than 3 Hours Ago\",\"finalStatus\":\"On Time\",\"diverted\":false},\"resultHeader\":{\"statusDescription\":\"On time\",\"carrier\":{\"name\":\"UIA\",\"fs\":\"PS\"},\"flightNumber\":\"945\",\"status\":\"Arrived\",\"diverted\":false,\"color\":\"green\",\"departureAirportFS\":\"KBP\",\"arrivalAirportFS\":\"MAD\",\"divertedAirport\":null},\"ticketHeader\":{\"carrier\":{\"name\":\"UIA\",\"fs\":\"PS\"},\"flightNumber\":\"945\",\"iconURL\":\"https://d3brl4nqahsb3e.cloudfront.net/logos/png/150x50/ps-logo.png\"},\"operatedBy\":null,\"departureAirport\":{\"fs\":\"KBP\",\"iata\":\"KBP\",\"name\":\"Boryspil International Airport\",\"city\":\"Kiev/Kyiv\",\"country\":\"UA\",\"timeZoneRegionName\":\"Europe/Kiev\",\"regionName\":\"Europe\",\"gate\":null,\"terminal\":\"D\",\"times\":{\"scheduled\":{\"time\":\"8:40\",\"ampm\":\"PM\",\"time24\":\"20:40\",\"timezone\":\"EEST\"},\"estimatedActual\":{\"title\":\"Actual\",\"time\":\"8:40\",\"ampm\":\"PM\",\"time24\":\"20:40\",\"runway\":false,\"timezone\":\"EEST\"}},\"date\":\"2019-05-12T20:40:00.000\"},\"arrivalAirport\":{\"fs\":\"MAD\",\"iata\":\"MAD\",\"name\":\"Adolfo Suarez Madrid-Barajas Airport\",\"city\":\"Madrid\",\"state\":\"SP\",\"country\":\"ES\",\"timeZoneRegionName\":\"Europe/Madrid\",\"regionName\":\"Europe\",\"gate\":null,\"terminal\":\"4\",\"baggage\":\"05\",\"times\":{\"scheduled\":{\"time\":\"12:10\",\"ampm\":\"AM\",\"time24\":\"00:10\",\"timezone\":\"CEST\"},\"estimatedActual\":{\"title\":\"Actual\",\"time\":\"11:52\",\"ampm\":\"PM\",\"time24\":\"23:52\",\"runway\":false,\"timezone\":\"CEST\"}},\"date\":\"2019-05-13T00:10:00.000\"},\"divertedAirport\":null,\"additionalFlightInfo\":{\"equipment\":{\"iata\":\"73H\",\"name\":\"Boeing 737-800 (winglets) Passenger/BBJ2\",\"title\":\"Actual\"},\"flightDuration\":\"4h 12m\"},\"codeshares\":null,\"positional\":{\"departureAirportCode\":\"KBP\",\"arrivalAirportCode\":\"MAD\",\"divertedAirportCode\":null,\"flexFlightStatus\":\"L\",\"flexTrack\":{\"flightId\":999564363,\"carrierFsCode\":\"PS\",\"flightNumber\":\"945\",\"tailNumber\":\"UR-UID\",\"callsign\":\"AUI5CD\",\"departureAirportFsCode\":\"KBP\",\"arrivalAirportFsCode\":\"MAD\",\"departureDate\":{\"dateLocal\":\"2019-05-12T20:40:00.000\",\"dateUtc\":\"2019-05-12T17:40:00.000Z\"},\"equipment\":\"73H\",\"bearing\":231.00050537922442,\"heading\":286.3054724658127,\"positions\":[{\"lon\":-3.5555,\"lat\":40.4958,\"speedMph\":169,\"altitudeFt\":972,\"source\":\"derived\",\"date\":\"2019-05-12T21:47:16.000Z\",\"course\":-36,\"vrateMps\":-5,\"lastObserved\":\"2019-05-12T21:44:49.000Z\"},{\"lon\":-3.5024,\"lat\":40.484,\"speedMph\":212,\"altitudeFt\":2116,\"source\":\"derived\",\"date\":\"2019-05-12T21:46:16.000Z\",\"course\":-17,\"vrateMps\":-4,\"lastObserved\":\"2019-05-12T21:44:49.000Z\"},{\"lon\":-3.5217,\"lat\":40.458,\"speedMph\":175,\"altitudeFt\":1864,\"source\":\"derived\",\"date\":\"2019-05-12T21:46:12.000Z\",\"course\":-38,\"vrateMps\":-5,\"lastObserved\":\"2019-05-12T21:44:49.000Z\"},{\"lon\":-3.5217,\"lat\":40.458,\"speedMph\":175,\"altitudeFt\":1864,\"source\":\"derived\",\"date\":\"2019-05-12T21:46:12.000Z\",\"course\":-38,\"vrateMps\":-5,\"lastObserved\":\"2019-05-12T21:44:49.000Z\"},{\"lon\":-3.4717,\"lat\":40.4543,\"speedMph\":271,\"altitudeFt\":3020,\"source\":\"derived\",\"date\":\"2019-05-12T21:45:16.000Z\",\"course\":-12,\"vrateMps\":-4,\"lastObserved\":\"2019-05-12T21:44:49.000Z\"},{\"lon\":-3.4491,\"lat\":40.3961,\"speedMph\":251,\"altitudeFt\":3838,\"source\":\"derived\",\"date\":\"2019-05-12T21:44:16.000Z\",\"course\":-17,\"vrateMps\":-4,\"lastObserved\":\"2019-05-12T21:44:49.000Z\"},{\"lon\":-3.4491,\"lat\":40.3961,\"speedMph\":251,\"altitudeFt\":3838,\"source\":\"derived\",\"date\":\"2019-05-12T21:44:16.000Z\",\"course\":-17,\"vrateMps\":-4,\"lastObserved\":\"2019-05-12T21:44:49.000Z\"},{\"lon\":-3.4172,\"lat\":40.3493,\"speedMph\":261,\"altitudeFt\":4670,\"source\":\"derived\",\"date\":\"2019-05-12T21:43:16.000Z\",\"course\":-24,\"vrateMps\":-4,\"lastObserved\":\"2019-05-12T21:44:49.000Z\"},{\"lon\":-3.3792,\"lat\":40.308,\"speedMph\":256,\"altitudeFt\":5527,\"source\":\"derived\",\"date\":\"2019-05-12T21:42:16.000Z\",\"course\":-36,\"vrateMps\":-4,\"lastObserved\":\"2019-05-12T21:44:49.000Z\"},{\"lon\":-3.3344,\"lat\":40.268,\"speedMph\":227,\"altitudeFt\":6270,\"source\":\"derived\",\"date\":\"2019-05-12T21:41:16.000Z\",\"course\":-58,\"vrateMps\":-4,\"lastObserved\":\"2019-05-12T21:44:49.000Z\"},{\"lon\":-3.2788,\"lat\":40.2392,\"speedMph\":229,\"altitudeFt\":6856,\"source\":\"derived\",\"date\":\"2019-05-12T21:40:16.000Z\",\"course\":-90,\"vrateMps\":-4,\"lastObserved\":\"2019-05-12T21:44:07.000Z\"},{\"lon\":-3.2065,\"lat\":40.2372,\"speedMph\":250,\"altitudeFt\":7485,\"source\":\"derived\",\"date\":\"2019-05-12T21:39:16.000Z\",\"course\":-112,\"vrateMps\":-4,\"lastObserved\":\"2019-05-12T21:43:31.000Z\"},{\"lon\":-3.1296,\"lat\":40.26,\"speedMph\":268,\"altitudeFt\":8190,\"source\":\"derived\",\"date\":\"2019-05-12T21:38:16.000Z\",\"course\":-125,\"vrateMps\":-4,\"lastObserved\":\"2019-05-12T21:42:35.000Z\"},{\"lon\":-3.0541,\"lat\":40.2862,\"speedMph\":301,\"altitudeFt\":8929,\"source\":\"derived\",\"date\":\"2019-05-12T21:37:16.000Z\",\"course\":-134,\"vrateMps\":-4,\"lastObserved\":\"2019-05-12T21:41:28.000Z\"},{\"lon\":-2.9837,\"lat\":40.3331,\"speedMph\":305,\"altitudeFt\":9730,\"source\":\"derived\",\"date\":\"2019-05-12T21:36:16.000Z\",\"course\":-129,\"vrateMps\":-4,\"lastObserved\":\"2019-05-12T21:40:23.000Z\"},{\"lon\":-2.9837,\"lat\":40.3331,\"speedMph\":305,\"altitudeFt\":9730,\"source\":\"derived\",\"date\":\"2019-05-12T21:36:16.000Z\",\"course\":-129,\"vrateMps\":-4,\"lastObserved\":\"2019-05-12T21:40:23.000Z\"},{\"lon\":-2.9004,\"lat\":40.3789,\"speedMph\":365,\"altitudeFt\":10626,\"source\":\"derived\",\"date\":\"2019-05-12T21:35:16.000Z\",\"course\":-124,\"vrateMps\":-4,\"lastObserved\":\"2019-05-12T21:39:37.000Z\"},{\"lon\":-2.8153,\"lat\":40.4112,\"speedMph\":276,\"altitudeFt\":11431,\"source\":\"derived\",\"date\":\"2019-05-12T21:34:16.000Z\",\"course\":-107,\"vrateMps\":-4,\"lastObserved\":\"2019-05-12T21:38:28.000Z\"},{\"lon\":-2.7482,\"lat\":40.4062,\"speedMph\":291,\"altitudeFt\":12220,\"source\":\"derived\",\"date\":\"2019-05-12T21:33:16.000Z\",\"course\":-21,\"vrateMps\":-4,\"lastObserved\":\"2019-05-12T21:37:18.000Z\"},{\"lon\":-2.6933,\"lat\":40.373,\"speedMph\":308,\"altitudeFt\":12920,\"source\":\"derived\",\"date\":\"2019-05-12T21:32:16.000Z\",\"course\":-13,\"vrateMps\":-4,\"lastObserved\":\"2019-05-12T21:36:37.000Z\"},{\"lon\":-2.7193,\"lat\":40.2069,\"speedMph\":296,\"altitudeFt\":12902,\"source\":\"derived\",\"date\":\"2019-05-12T21:31:16.000Z\",\"course\":-121,\"vrateMps\":-5,\"lastObserved\":\"2019-05-12T21:35:32.000Z\"},{\"lon\":-2.6369,\"lat\":40.2445,\"speedMph\":306,\"altitudeFt\":13941,\"source\":\"derived\",\"date\":\"2019-05-12T21:30:16.000Z\",\"course\":-121,\"vrateMps\":-5,\"lastObserved\":\"2019-05-12T21:34:37.000Z\"},{\"lon\":-2.5523,\"lat\":40.2838,\"speedMph\":322,\"altitudeFt\":15075,\"source\":\"derived\",\"date\":\"2019-05-12T21:29:16.000Z\",\"course\":-122,\"vrateMps\":-5,\"lastObserved\":\"2019-05-12T21:33:36.000Z\"},{\"lon\":-2.4638,\"lat\":40.3248,\"speedMph\":339,\"altitudeFt\":16334,\"source\":\"derived\",\"date\":\"2019-05-12T21:28:16.000Z\",\"course\":-124,\"vrateMps\":-4,\"lastObserved\":\"2019-05-12T21:32:00.000Z\"},{\"lon\":-2.3733,\"lat\":40.3683,\"speedMph\":353,\"altitudeFt\":17459,\"source\":\"derived\",\"date\":\"2019-05-12T21:27:16.000Z\",\"course\":-124,\"vrateMps\":-4,\"lastObserved\":\"2019-05-12T21:31:07.000Z\"},{\"lon\":-2.3733,\"lat\":40.3683,\"speedMph\":353,\"altitudeFt\":17459,\"source\":\"derived\",\"date\":\"2019-05-12T21:27:16.000Z\",\"course\":-124,\"vrateMps\":-4,\"lastObserved\":\"2019-05-12T21:31:07.000Z\"},{\"lon\":-2.2786,\"lat\":40.4134,\"speedMph\":364,\"altitudeFt\":18449,\"source\":\"derived\",\"date\":\"2019-05-12T21:26:16.000Z\",\"course\":-122,\"vrateMps\":-3,\"lastObserved\":\"2019-05-12T21:30:31.000Z\"},{\"lon\":-2.1795,\"lat\":40.4588,\"speedMph\":369,\"altitudeFt\":19330,\"source\":\"derived\",\"date\":\"2019-05-12T21:25:16.000Z\",\"course\":-120,\"vrateMps\":-3,\"lastObserved\":\"2019-05-12T21:29:37.000Z\"},{\"lon\":-2.0764,\"lat\":40.5025,\"speedMph\":374,\"altitudeFt\":20051,\"source\":\"derived\",\"date\":\"2019-05-12T21:24:16.000Z\",\"course\":-114,\"vrateMps\":-3,\"lastObserved\":\"2019-05-12T21:28:40.000Z\"},{\"lon\":-1.968,\"lat\":40.5399,\"speedMph\":382,\"altitudeFt\":20561,\"source\":\"derived\",\"date\":\"2019-05-12T21:23:16.000Z\",\"course\":-111,\"vrateMps\":-3,\"lastObserved\":\"2019-05-12T21:27:39.000Z\"},{\"lon\":-1.8546,\"lat\":40.5727,\"speedMph\":386,\"altitudeFt\":20791,\"source\":\"derived\",\"date\":\"2019-05-12T21:22:16.000Z\",\"course\":-110,\"vrateMps\":-3,\"lastObserved\":\"2019-05-12T21:26:33.000Z\"},{\"lon\":-1.7398,\"lat\":40.6055,\"speedMph\":389,\"altitudeFt\":21136,\"source\":\"derived\",\"date\":\"2019-05-12T21:21:16.000Z\",\"course\":-110,\"vrateMps\":-4,\"lastObserved\":\"2019-05-12T21:25:32.000Z\"},{\"lon\":-1.7398,\"lat\":40.6055,\"speedMph\":389,\"altitudeFt\":21136,\"source\":\"derived\",\"date\":\"2019-05-12T21:21:16.000Z\",\"course\":-110,\"vrateMps\":-4,\"lastObserved\":\"2019-05-12T21:25:32.000Z\"},{\"lon\":-1.6242,\"lat\":40.6386,\"speedMph\":385,\"altitudeFt\":21853,\"source\":\"derived\",\"date\":\"2019-05-12T21:20:16.000Z\",\"course\":-110,\"vrateMps\":-5,\"lastObserved\":\"2019-05-12T21:24:27.000Z\"},{\"lon\":-1.5096,\"lat\":40.6712,\"speedMph\":392,\"altitudeFt\":22862,\"source\":\"derived\",\"date\":\"2019-05-12T21:19:16.000Z\",\"course\":-110,\"vrateMps\":-5,\"lastObserved\":\"2019-05-12T21:23:36.000Z\"},{\"lon\":-1.4107,\"lat\":40.6989,\"speedMph\":386,\"altitudeFt\":23622,\"source\":\"derived\",\"date\":\"2019-05-12T21:18:26.000Z\",\"course\":-110,\"vrateMps\":-6,\"lastObserved\":\"2019-05-12T21:22:40.000Z\"},{\"lon\":-1.4107,\"lat\":40.6989,\"speedMph\":386,\"altitudeFt\":23622,\"source\":\"derived\",\"date\":\"2019-05-12T21:18:26.000Z\",\"course\":-110,\"vrateMps\":-6,\"lastObserved\":\"2019-05-12T21:22:40.000Z\"},{\"lon\":-1.2934,\"lat\":40.7319,\"speedMph\":391,\"altitudeFt\":24628,\"source\":\"derived\",\"date\":\"2019-05-12T21:17:26.000Z\",\"course\":-110,\"vrateMps\":-6,\"lastObserved\":\"2019-05-12T21:21:38.000Z\"},{\"lon\":-1.2934,\"lat\":40.7319,\"speedMph\":391,\"altitudeFt\":24628,\"source\":\"derived\",\"date\":\"2019-05-12T21:17:26.000Z\",\"course\":-110,\"vrateMps\":-6,\"lastObserved\":\"2019-05-12T21:21:38.000Z\"},{\"lon\":-1.1725,\"lat\":40.7656,\"speedMph\":396,\"altitudeFt\":25463,\"source\":\"derived\",\"date\":\"2019-05-12T21:16:26.000Z\",\"course\":-110,\"vrateMps\":-7,\"lastObserved\":\"2019-05-12T21:20:44.000Z\"},{\"lon\":-1.0506,\"lat\":40.7998,\"speedMph\":415,\"altitudeFt\":26404,\"source\":\"derived\",\"date\":\"2019-05-12T21:15:26.000Z\",\"course\":-111,\"vrateMps\":-8,\"lastObserved\":\"2019-05-12T21:19:06.000Z\"},{\"lon\":-0.9242,\"lat\":40.8343,\"speedMph\":437,\"altitudeFt\":27403,\"source\":\"derived\",\"date\":\"2019-05-12T21:14:26.000Z\",\"course\":-112,\"vrateMps\":-9,\"lastObserved\":\"2019-05-12T21:18:46.000Z\"},{\"lon\":-0.9242,\"lat\":40.8343,\"speedMph\":437,\"altitudeFt\":27403,\"source\":\"derived\",\"date\":\"2019-05-12T21:14:26.000Z\",\"course\":-112,\"vrateMps\":-9,\"lastObserved\":\"2019-05-12T21:18:46.000Z\"},{\"lon\":-0.794,\"lat\":40.871,\"speedMph\":462,\"altitudeFt\":28823,\"source\":\"derived\",\"date\":\"2019-05-12T21:13:26.000Z\",\"course\":-112,\"vrateMps\":-10,\"lastObserved\":\"2019-05-12T21:17:48.000Z\"},{\"lon\":-0.657,\"lat\":40.9105,\"speedMph\":483,\"altitudeFt\":30608,\"source\":\"derived\",\"date\":\"2019-05-12T21:12:26.000Z\",\"course\":-111,\"vrateMps\":-9,\"lastObserved\":\"2019-05-12T21:16:49.000Z\"},{\"lon\":-0.5143,\"lat\":40.9488,\"speedMph\":494,\"altitudeFt\":32649,\"source\":\"derived\",\"date\":\"2019-05-12T21:11:26.000Z\",\"course\":-109,\"vrateMps\":-8,\"lastObserved\":\"2019-05-12T21:15:45.000Z\"},{\"lon\":-0.3655,\"lat\":40.9864,\"speedMph\":486,\"altitudeFt\":35211,\"source\":\"derived\",\"date\":\"2019-05-12T21:10:26.000Z\",\"course\":-104,\"vrateMps\":-5,\"lastObserved\":\"2019-05-12T21:14:45.000Z\"},{\"lon\":-0.2152,\"lat\":41.0166,\"speedMph\":478,\"altitudeFt\":37013,\"source\":\"derived\",\"date\":\"2019-05-12T21:09:26.000Z\",\"course\":-101,\"vrateMps\":-3,\"lastObserved\":\"2019-05-12T21:13:48.000Z\"},{\"lon\":-0.0652,\"lat\":41.0387,\"speedMph\":475,\"altitudeFt\":38417,\"source\":\"derived\",\"date\":\"2019-05-12T21:08:26.000Z\",\"course\":-100,\"vrateMps\":-1,\"lastObserved\":\"2019-05-12T21:12:43.000Z\"},{\"lon\":0.0841,\"lat\":41.0587,\"speedMph\":472,\"altitudeFt\":38994,\"source\":\"derived\",\"date\":\"2019-05-12T21:07:26.000Z\",\"course\":-99,\"vrateMps\":0,\"lastObserved\":\"2019-05-12T21:11:43.000Z\"},{\"lon\":0.2333,\"lat\":41.0783,\"speedMph\":469,\"altitudeFt\":39000,\"source\":\"derived\",\"date\":\"2019-05-12T21:06:26.000Z\",\"course\":-99,\"vrateMps\":0,\"lastObserved\":\"2019-05-12T21:10:40.000Z\"},{\"lon\":0.3819,\"lat\":41.0976,\"speedMph\":468,\"altitudeFt\":39000,\"source\":\"derived\",\"date\":\"2019-05-12T21:05:26.000Z\",\"course\":-99,\"vrateMps\":0,\"lastObserved\":\"2019-05-12T21:09:40.000Z\"},{\"lon\":0.5306,\"lat\":41.1167,\"speedMph\":470,\"altitudeFt\":39000,\"source\":\"derived\",\"date\":\"2019-05-12T21:04:26.000Z\",\"course\":-99,\"vrateMps\":0,\"lastObserved\":\"2019-05-12T21:08:46.000Z\"},{\"lon\":0.6793,\"lat\":41.1355,\"speedMph\":478,\"altitudeFt\":39000,\"source\":\"derived\",\"date\":\"2019-05-12T21:03:26.000Z\",\"course\":-99,\"vrateMps\":0,\"lastObserved\":\"2019-05-12T21:07:37.000Z\"},{\"lon\":0.8291,\"lat\":41.1544,\"speedMph\":483,\"altitudeFt\":38999,\"source\":\"derived\",\"date\":\"2019-05-12T21:02:26.000Z\",\"course\":-99,\"vrateMps\":0,\"lastObserved\":\"2019-05-12T21:06:37.000Z\"},{\"lon\":0.9807,\"lat\":41.1733,\"speedMph\":478,\"altitudeFt\":39000,\"source\":\"derived\",\"date\":\"2019-05-12T21:01:26.000Z\",\"course\":-99,\"vrateMps\":0,\"lastObserved\":\"2019-05-12T21:05:39.000Z\"},{\"lon\":1.1316,\"lat\":41.192,\"speedMph\":471,\"altitudeFt\":38999,\"source\":\"derived\",\"date\":\"2019-05-12T21:00:26.000Z\",\"course\":-99,\"vrateMps\":0,\"lastObserved\":\"2019-05-12T21:04:43.000Z\"},{\"lon\":1.2809,\"lat\":41.2098,\"speedMph\":467,\"altitudeFt\":39001,\"source\":\"derived\",\"date\":\"2019-05-12T20:59:26.000Z\",\"course\":-97,\"vrateMps\":0,\"lastObserved\":\"2019-05-12T21:03:15.000Z\"},{\"lon\":1.4284,\"lat\":41.2321,\"speedMph\":465,\"altitudeFt\":39002,\"source\":\"derived\",\"date\":\"2019-05-12T20:58:26.000Z\",\"course\":-92,\"vrateMps\":0,\"lastObserved\":\"2019-05-12T21:02:30.000Z\"},{\"lon\":1.4284,\"lat\":41.2321,\"speedMph\":465,\"altitudeFt\":39002,\"source\":\"derived\",\"date\":\"2019-05-12T20:58:26.000Z\",\"course\":-92,\"vrateMps\":0,\"lastObserved\":\"2019-05-12T21:02:30.000Z\"},{\"lon\":1.5759,\"lat\":41.2442,\"speedMph\":469,\"altitudeFt\":39003,\"source\":\"derived\",\"date\":\"2019-05-12T20:57:26.000Z\",\"course\":-89,\"vrateMps\":0,\"lastObserved\":\"2019-05-12T21:01:38.000Z\"},{\"lon\":1.7236,\"lat\":41.2558,\"speedMph\":462,\"altitudeFt\":39003,\"source\":\"derived\",\"date\":\"2019-05-12T20:56:26.000Z\",\"course\":-93,\"vrateMps\":0,\"lastObserved\":\"2019-05-12T21:00:36.000Z\"},{\"lon\":1.8699,\"lat\":41.2734,\"speedMph\":457,\"altitudeFt\":39002,\"source\":\"derived\",\"date\":\"2019-05-12T20:55:26.000Z\",\"course\":-101,\"vrateMps\":0,\"lastObserved\":\"2019-05-12T20:59:45.000Z\"},{\"lon\":2.016,\"lat\":41.2951,\"speedMph\":472,\"altitudeFt\":39002,\"source\":\"derived\",\"date\":\"2019-05-12T20:54:26.000Z\",\"course\":-115,\"vrateMps\":0,\"lastObserved\":\"2019-05-12T20:58:44.000Z\"},{\"lon\":2.1547,\"lat\":41.3424,\"speedMph\":508,\"altitudeFt\":38999,\"source\":\"derived\",\"date\":\"2019-05-12T20:53:26.000Z\",\"course\":-124,\"vrateMps\":0,\"lastObserved\":\"2019-05-12T20:57:44.000Z\"},{\"lon\":2.2914,\"lat\":41.4118,\"speedMph\":529,\"altitudeFt\":38997,\"source\":\"derived\",\"date\":\"2019-05-12T20:52:25.000Z\",\"course\":-126,\"vrateMps\":0,\"lastObserved\":\"2019-05-12T20:56:35.000Z\"},{\"lon\":2.4276,\"lat\":41.4887,\"speedMph\":543,\"altitudeFt\":39000,\"source\":\"derived\",\"date\":\"2019-05-12T20:51:25.000Z\",\"course\":-126,\"vrateMps\":0,\"lastObserved\":\"2019-05-12T20:55:02.000Z\"},{\"lon\":2.5672,\"lat\":41.567,\"speedMph\":552,\"altitudeFt\":39001,\"source\":\"derived\",\"date\":\"2019-05-12T20:50:25.000Z\",\"course\":-126,\"vrateMps\":0,\"lastObserved\":\"2019-05-12T20:54:47.000Z\"},{\"lon\":2.5672,\"lat\":41.567,\"speedMph\":552,\"altitudeFt\":39001,\"source\":\"derived\",\"date\":\"2019-05-12T20:50:25.000Z\",\"course\":-126,\"vrateMps\":0,\"lastObserved\":\"2019-05-12T20:54:47.000Z\"},{\"lon\":2.71,\"lat\":41.647,\"speedMph\":553,\"altitudeFt\":39002,\"source\":\"derived\",\"date\":\"2019-05-12T20:49:25.000Z\",\"course\":-126,\"vrateMps\":0,\"lastObserved\":\"2019-05-12T20:53:40.000Z\"},{\"lon\":2.8532,\"lat\":41.727,\"speedMph\":554,\"altitudeFt\":39004,\"source\":\"derived\",\"date\":\"2019-05-12T20:48:25.000Z\",\"course\":-126,\"vrateMps\":0,\"lastObserved\":\"2019-05-12T20:52:45.000Z\"},{\"lon\":2.9968,\"lat\":41.8067,\"speedMph\":558,\"altitudeFt\":39005,\"source\":\"derived\",\"date\":\"2019-05-12T20:47:25.000Z\",\"course\":-126,\"vrateMps\":0,\"lastObserved\":\"2019-05-12T20:51:43.000Z\"},{\"lon\":3.1411,\"lat\":41.8867,\"speedMph\":557,\"altitudeFt\":39010,\"source\":\"derived\",\"date\":\"2019-05-12T20:46:25.000Z\",\"course\":-126,\"vrateMps\":0,\"lastObserved\":\"2019-05-12T20:50:41.000Z\"},{\"lon\":3.2856,\"lat\":41.9661,\"speedMph\":553,\"altitudeFt\":39001,\"source\":\"derived\",\"date\":\"2019-05-12T20:45:25.000Z\",\"course\":-126,\"vrateMps\":0,\"lastObserved\":\"2019-05-12T20:49:43.000Z\"},{\"lon\":3.43,\"lat\":42.0451,\"speedMph\":545,\"altitudeFt\":39002,\"source\":\"derived\",\"date\":\"2019-05-12T20:44:25.000Z\",\"course\":-125,\"vrateMps\":0,\"lastObserved\":\"2019-05-12T20:48:40.000Z\"},{\"lon\":3.5734,\"lat\":42.1227,\"speedMph\":540,\"altitudeFt\":39002,\"source\":\"derived\",\"date\":\"2019-05-12T20:43:25.000Z\",\"course\":-125,\"vrateMps\":0,\"lastObserved\":\"2019-05-12T20:47:50.000Z\"},{\"lon\":3.5734,\"lat\":42.1227,\"speedMph\":540,\"altitudeFt\":39002,\"source\":\"derived\",\"date\":\"2019-05-12T20:43:25.000Z\",\"course\":-125,\"vrateMps\":0,\"lastObserved\":\"2019-05-12T20:47:50.000Z\"},{\"lon\":3.7161,\"lat\":42.1995,\"speedMph\":536,\"altitudeFt\":38999,\"source\":\"derived\",\"date\":\"2019-05-12T20:42:25.000Z\",\"course\":-126,\"vrateMps\":0,\"lastObserved\":\"2019-05-12T20:46:42.000Z\"},{\"lon\":3.8569,\"lat\":42.2768,\"speedMph\":535,\"altitudeFt\":38999,\"source\":\"derived\",\"date\":\"2019-05-12T20:41:25.000Z\",\"course\":-127,\"vrateMps\":0,\"lastObserved\":\"2019-05-12T20:45:42.000Z\"},{\"lon\":3.9967,\"lat\":42.3553,\"speedMph\":536,\"altitudeFt\":38998,\"source\":\"derived\",\"date\":\"2019-05-12T20:40:25.000Z\",\"course\":-127,\"vrateMps\":0,\"lastObserved\":\"2019-05-12T20:44:42.000Z\"},{\"lon\":4.1368,\"lat\":42.434,\"speedMph\":540,\"altitudeFt\":38997,\"source\":\"derived\",\"date\":\"2019-05-12T20:39:25.000Z\",\"course\":-127,\"vrateMps\":0,\"lastObserved\":\"2019-05-12T20:43:43.000Z\"},{\"lon\":4.2775,\"lat\":42.5127,\"speedMph\":544,\"altitudeFt\":38999,\"source\":\"derived\",\"date\":\"2019-05-12T20:38:25.000Z\",\"course\":-126,\"vrateMps\":0,\"lastObserved\":\"2019-05-12T20:42:39.000Z\"},{\"lon\":4.2775,\"lat\":42.5127,\"speedMph\":544,\"altitudeFt\":38999,\"source\":\"derived\",\"date\":\"2019-05-12T20:38:25.000Z\",\"course\":-126,\"vrateMps\":0,\"lastObserved\":\"2019-05-12T20:42:39.000Z\"},{\"lon\":4.4195,\"lat\":42.5916,\"speedMph\":546,\"altitudeFt\":39002,\"source\":\"derived\",\"date\":\"2019-05-12T20:37:25.000Z\",\"course\":-126,\"vrateMps\":0,\"lastObserved\":\"2019-05-12T20:41:33.000Z\"},{\"lon\":4.5628,\"lat\":42.6707,\"speedMph\":547,\"altitudeFt\":39000,\"source\":\"derived\",\"date\":\"2019-05-12T20:36:25.000Z\",\"course\":-126,\"vrateMps\":0,\"lastObserved\":\"2019-05-12T20:40:35.000Z\"},{\"lon\":4.7067,\"lat\":42.7498,\"speedMph\":546,\"altitudeFt\":39000,\"source\":\"derived\",\"date\":\"2019-05-12T20:35:25.000Z\",\"course\":-126,\"vrateMps\":0,\"lastObserved\":\"2019-05-12T20:39:38.000Z\"},{\"lon\":4.7067,\"lat\":42.7498,\"speedMph\":546,\"altitudeFt\":39000,\"source\":\"derived\",\"date\":\"2019-05-12T20:35:25.000Z\",\"course\":-126,\"vrateMps\":0,\"lastObserved\":\"2019-05-12T20:39:38.000Z\"},{\"lon\":4.8506,\"lat\":42.8286,\"speedMph\":544,\"altitudeFt\":39000,\"source\":\"derived\",\"date\":\"2019-05-12T20:34:25.000Z\",\"course\":-126,\"vrateMps\":0,\"lastObserved\":\"2019-05-12T20:38:46.000Z\"},{\"lon\":4.8506,\"lat\":42.8286,\"speedMph\":544,\"altitudeFt\":39000,\"source\":\"derived\",\"date\":\"2019-05-12T20:34:25.000Z\",\"course\":-126,\"vrateMps\":0,\"lastObserved\":\"2019-05-12T20:38:46.000Z\"},{\"lon\":4.9941,\"lat\":42.9071,\"speedMph\":542,\"altitudeFt\":39000,\"source\":\"derived\",\"date\":\"2019-05-12T20:33:25.000Z\",\"course\":-126,\"vrateMps\":0,\"lastObserved\":\"2019-05-12T20:37:32.000Z\"},{\"lon\":4.9941,\"lat\":42.9071,\"speedMph\":542,\"altitudeFt\":39000,\"source\":\"derived\",\"date\":\"2019-05-12T20:33:25.000Z\",\"course\":-126,\"vrateMps\":0,\"lastObserved\":\"2019-05-12T20:37:32.000Z\"},{\"lon\":5.1377,\"lat\":42.9851,\"speedMph\":541,\"altitudeFt\":39000,\"source\":\"derived\",\"date\":\"2019-05-12T20:32:25.000Z\",\"course\":-126,\"vrateMps\":0,\"lastObserved\":\"2019-05-12T20:36:43.000Z\"},{\"lon\":5.2803,\"lat\":43.0623,\"speedMph\":545,\"altitudeFt\":39000,\"source\":\"derived\",\"date\":\"2019-05-12T20:31:25.000Z\",\"course\":-126,\"vrateMps\":0,\"lastObserved\":\"2019-05-12T20:35:47.000Z\"},{\"lon\":5.3067,\"lat\":43.0767,\"speedMph\":545,\"altitudeFt\":39000,\"source\":\"derived\",\"date\":\"2019-05-12T20:31:13.000Z\",\"course\":-126,\"vrateMps\":0,\"lastObserved\":\"2019-05-12T20:35:31.000Z\"},{\"lon\":5.4519,\"lat\":43.1546,\"speedMph\":545,\"altitudeFt\":39000,\"source\":\"derived\",\"date\":\"2019-05-12T20:30:13.000Z\",\"course\":-126,\"vrateMps\":0,\"lastObserved\":\"2019-05-12T20:34:24.000Z\"},{\"lon\":5.4519,\"lat\":43.1546,\"speedMph\":545,\"altitudeFt\":39000,\"source\":\"derived\",\"date\":\"2019-05-12T20:30:13.000Z\",\"course\":-126,\"vrateMps\":0,\"lastObserved\":\"2019-05-12T20:34:24.000Z\"},{\"lon\":5.5971,\"lat\":43.2323,\"speedMph\":546,\"altitudeFt\":39000,\"source\":\"derived\",\"date\":\"2019-05-12T20:29:13.000Z\",\"course\":-126,\"vrateMps\":0,\"lastObserved\":\"2019-05-12T20:33:19.000Z\"},{\"lon\":5.5971,\"lat\":43.2323,\"speedMph\":546,\"altitudeFt\":39000,\"source\":\"derived\",\"date\":\"2019-05-12T20:29:13.000Z\",\"course\":-126,\"vrateMps\":0,\"lastObserved\":\"2019-05-12T20:33:19.000Z\"},{\"lon\":5.7437,\"lat\":43.3103,\"speedMph\":541,\"altitudeFt\":39000,\"source\":\"derived\",\"date\":\"2019-05-12T20:28:13.000Z\",\"course\":-126,\"vrateMps\":0,\"lastObserved\":\"2019-05-12T20:32:36.000Z\"},{\"lon\":5.8894,\"lat\":43.3873,\"speedMph\":545,\"altitudeFt\":39000,\"source\":\"derived\",\"date\":\"2019-05-12T20:27:13.000Z\",\"course\":-126,\"vrateMps\":0,\"lastObserved\":\"2019-05-12T20:31:11.000Z\"},{\"lon\":6.0356,\"lat\":43.4644,\"speedMph\":542,\"altitudeFt\":39000,\"source\":\"derived\",\"date\":\"2019-05-12T20:26:13.000Z\",\"course\":-126,\"vrateMps\":0,\"lastObserved\":\"2019-05-12T20:30:22.000Z\"},{\"lon\":6.1827,\"lat\":43.5417,\"speedMph\":549,\"altitudeFt\":39000,\"source\":\"derived\",\"date\":\"2019-05-12T20:25:13.000Z\",\"course\":-126,\"vrateMps\":0,\"lastObserved\":\"2019-05-12T20:29:27.000Z\"},{\"lon\":6.1701,\"lat\":43.5599,\"speedMph\":545,\"altitudeFt\":38997,\"source\":\"derived\",\"date\":\"2019-05-12T20:25:12.000Z\",\"course\":-119,\"vrateMps\":0,\"lastObserved\":\"2019-05-12T20:29:14.000Z\"},{\"lon\":6.3276,\"lat\":43.625,\"speedMph\":544,\"altitudeFt\":39001,\"source\":\"derived\",\"date\":\"2019-05-12T20:24:12.000Z\",\"course\":-118,\"vrateMps\":0,\"lastObserved\":\"2019-05-12T20:28:29.000Z\"},{\"lon\":6.3276,\"lat\":43.625,\"speedMph\":544,\"altitudeFt\":39001,\"source\":\"derived\",\"date\":\"2019-05-12T20:24:12.000Z\",\"course\":-118,\"vrateMps\":0,\"lastObserved\":\"2019-05-12T20:28:29.000Z\"},{\"lon\":6.4863,\"lat\":43.6886,\"speedMph\":541,\"altitudeFt\":39002,\"source\":\"derived\",\"date\":\"2019-05-12T20:23:12.000Z\",\"course\":-118,\"vrateMps\":0,\"lastObserved\":\"2019-05-12T20:27:18.000Z\"},{\"lon\":6.6444,\"lat\":43.7518,\"speedMph\":541,\"altitudeFt\":39002,\"source\":\"derived\",\"date\":\"2019-05-12T20:22:12.000Z\",\"course\":-117,\"vrateMps\":0,\"lastObserved\":\"2019-05-12T20:25:56.000Z\"},{\"lon\":6.6444,\"lat\":43.7518,\"speedMph\":541,\"altitudeFt\":39002,\"source\":\"derived\",\"date\":\"2019-05-12T20:22:12.000Z\",\"course\":-117,\"vrateMps\":0,\"lastObserved\":\"2019-05-12T20:25:56.000Z\"},{\"lon\":6.8038,\"lat\":43.8133,\"speedMph\":540,\"altitudeFt\":39002,\"source\":\"derived\",\"date\":\"2019-05-12T20:21:12.000Z\",\"course\":-117,\"vrateMps\":0,\"lastObserved\":\"2019-05-12T20:25:25.000Z\"},{\"lon\":6.964,\"lat\":43.8747,\"speedMph\":537,\"altitudeFt\":39001,\"source\":\"derived\",\"date\":\"2019-05-12T20:20:12.000Z\",\"course\":-117,\"vrateMps\":0,\"lastObserved\":\"2019-05-12T20:24:25.000Z\"},{\"lon\":7.1223,\"lat\":43.9353,\"speedMph\":539,\"altitudeFt\":39002,\"source\":\"derived\",\"date\":\"2019-05-12T20:19:12.000Z\",\"course\":-117,\"vrateMps\":0,\"lastObserved\":\"2019-05-12T20:23:26.000Z\"},{\"lon\":7.2824,\"lat\":43.9958,\"speedMph\":536,\"altitudeFt\":39002,\"source\":\"derived\",\"date\":\"2019-05-12T20:18:12.000Z\",\"course\":-118,\"vrateMps\":0,\"lastObserved\":\"2019-05-12T20:22:28.000Z\"},{\"lon\":7.2824,\"lat\":43.9958,\"speedMph\":536,\"altitudeFt\":39002,\"source\":\"derived\",\"date\":\"2019-05-12T20:18:12.000Z\",\"course\":-118,\"vrateMps\":0,\"lastObserved\":\"2019-05-12T20:22:28.000Z\"},{\"lon\":7.4414,\"lat\":44.0567,\"speedMph\":538,\"altitudeFt\":38999,\"source\":\"derived\",\"date\":\"2019-05-12T20:17:12.000Z\",\"course\":-118,\"vrateMps\":0,\"lastObserved\":\"2019-05-12T20:21:27.000Z\"},{\"lon\":7.601,\"lat\":44.1172,\"speedMph\":537,\"altitudeFt\":38998,\"source\":\"derived\",\"date\":\"2019-05-12T20:16:12.000Z\",\"course\":-117,\"vrateMps\":0,\"lastObserved\":\"2019-05-12T20:20:28.000Z\"},{\"lon\":7.7605,\"lat\":44.1764,\"speedMph\":536,\"altitudeFt\":39001,\"source\":\"derived\",\"date\":\"2019-05-12T20:15:12.000Z\",\"course\":-116,\"vrateMps\":0,\"lastObserved\":\"2019-05-12T20:19:27.000Z\"},{\"lon\":7.9211,\"lat\":44.2349,\"speedMph\":534,\"altitudeFt\":39001,\"source\":\"derived\",\"date\":\"2019-05-12T20:14:12.000Z\",\"course\":-115,\"vrateMps\":0,\"lastObserved\":\"2019-05-12T20:18:26.000Z\"},{\"lon\":7.9211,\"lat\":44.2349,\"speedMph\":534,\"altitudeFt\":39001,\"source\":\"derived\",\"date\":\"2019-05-12T20:14:12.000Z\",\"course\":-115,\"vrateMps\":0,\"lastObserved\":\"2019-05-12T20:18:26.000Z\"},{\"lon\":8.0836,\"lat\":44.2907,\"speedMph\":530,\"altitudeFt\":39000,\"source\":\"derived\",\"date\":\"2019-05-12T20:13:12.000Z\",\"course\":-113,\"vrateMps\":0,\"lastObserved\":\"2019-05-12T20:17:26.000Z\"},{\"lon\":8.2482,\"lat\":44.3424,\"speedMph\":528,\"altitudeFt\":38999,\"source\":\"derived\",\"date\":\"2019-05-12T20:12:12.000Z\",\"course\":-113,\"vrateMps\":0,\"lastObserved\":\"2019-05-12T20:16:27.000Z\"},{\"lon\":8.4115,\"lat\":44.3933,\"speedMph\":531,\"altitudeFt\":38998,\"source\":\"derived\",\"date\":\"2019-05-12T20:11:12.000Z\",\"course\":-113,\"vrateMps\":0,\"lastObserved\":\"2019-05-12T20:15:25.000Z\"},{\"lon\":8.5765,\"lat\":44.4444,\"speedMph\":534,\"altitudeFt\":38996,\"source\":\"derived\",\"date\":\"2019-05-12T20:10:12.000Z\",\"course\":-113,\"vrateMps\":0,\"lastObserved\":\"2019-05-12T20:14:22.000Z\"},{\"lon\":8.7421,\"lat\":44.4953,\"speedMph\":536,\"altitudeFt\":38996,\"source\":\"derived\",\"date\":\"2019-05-12T20:09:12.000Z\",\"course\":-113,\"vrateMps\":0,\"lastObserved\":\"2019-05-12T20:13:23.000Z\"},{\"lon\":8.9083,\"lat\":44.5462,\"speedMph\":534,\"altitudeFt\":38996,\"source\":\"derived\",\"date\":\"2019-05-12T20:08:12.000Z\",\"course\":-113,\"vrateMps\":0,\"lastObserved\":\"2019-05-12T20:12:23.000Z\"},{\"lon\":9.0753,\"lat\":44.5969,\"speedMph\":531,\"altitudeFt\":39000,\"source\":\"derived\",\"date\":\"2019-05-12T20:07:12.000Z\",\"course\":-112,\"vrateMps\":0,\"lastObserved\":\"2019-05-12T20:11:20.000Z\"},{\"lon\":9.2411,\"lat\":44.6469,\"speedMph\":531,\"altitudeFt\":39000,\"source\":\"derived\",\"date\":\"2019-05-12T20:06:12.000Z\",\"course\":-112,\"vrateMps\":0,\"lastObserved\":\"2019-05-12T20:10:20.000Z\"},{\"lon\":9.4077,\"lat\":44.6968,\"speedMph\":527,\"altitudeFt\":39000,\"source\":\"derived\",\"date\":\"2019-05-12T20:05:12.000Z\",\"course\":-112,\"vrateMps\":0,\"lastObserved\":\"2019-05-12T20:09:32.000Z\"},{\"lon\":9.5727,\"lat\":44.7458,\"speedMph\":526,\"altitudeFt\":39000,\"source\":\"derived\",\"date\":\"2019-05-12T20:04:12.000Z\",\"course\":-112,\"vrateMps\":0,\"lastObserved\":\"2019-05-12T20:08:28.000Z\"},{\"lon\":9.7385,\"lat\":44.7947,\"speedMph\":524,\"altitudeFt\":39000,\"source\":\"derived\",\"date\":\"2019-05-12T20:03:12.000Z\",\"course\":-112,\"vrateMps\":0,\"lastObserved\":\"2019-05-12T20:07:21.000Z\"},{\"lon\":9.9038,\"lat\":44.8432,\"speedMph\":525,\"altitudeFt\":39000,\"source\":\"derived\",\"date\":\"2019-05-12T20:02:12.000Z\",\"course\":-112,\"vrateMps\":0,\"lastObserved\":\"2019-05-12T20:06:21.000Z\"},{\"lon\":10.0696,\"lat\":44.8916,\"speedMph\":528,\"altitudeFt\":39000,\"source\":\"derived\",\"date\":\"2019-05-12T20:01:12.000Z\",\"course\":-112,\"vrateMps\":0,\"lastObserved\":\"2019-05-12T20:05:29.000Z\"},{\"lon\":10.2358,\"lat\":44.9397,\"speedMph\":531,\"altitudeFt\":39001,\"source\":\"derived\",\"date\":\"2019-05-12T20:00:12.000Z\",\"course\":-111,\"vrateMps\":0,\"lastObserved\":\"2019-05-12T20:04:20.000Z\"},{\"lon\":10.4035,\"lat\":44.988,\"speedMph\":532,\"altitudeFt\":39001,\"source\":\"derived\",\"date\":\"2019-05-12T19:59:12.000Z\",\"course\":-111,\"vrateMps\":0,\"lastObserved\":\"2019-05-12T20:03:28.000Z\"},{\"lon\":10.5724,\"lat\":45.0363,\"speedMph\":532,\"altitudeFt\":39001,\"source\":\"derived\",\"date\":\"2019-05-12T19:58:12.000Z\",\"course\":-111,\"vrateMps\":0,\"lastObserved\":\"2019-05-12T20:02:34.000Z\"},{\"lon\":10.7411,\"lat\":45.0843,\"speedMph\":533,\"altitudeFt\":39000,\"source\":\"derived\",\"date\":\"2019-05-12T19:57:12.000Z\",\"course\":-111,\"vrateMps\":0,\"lastObserved\":\"2019-05-12T20:01:26.000Z\"},{\"lon\":10.9105,\"lat\":45.1322,\"speedMph\":533,\"altitudeFt\":39000,\"source\":\"derived\",\"date\":\"2019-05-12T19:56:12.000Z\",\"course\":-111,\"vrateMps\":0,\"lastObserved\":\"2019-05-12T20:00:18.000Z\"},{\"lon\":11.0789,\"lat\":45.1797,\"speedMph\":536,\"altitudeFt\":38999,\"source\":\"derived\",\"date\":\"2019-05-12T19:55:12.000Z\",\"course\":-111,\"vrateMps\":0,\"lastObserved\":\"2019-05-12T19:59:32.000Z\"},{\"lon\":11.0789,\"lat\":45.1797,\"speedMph\":536,\"altitudeFt\":38999,\"source\":\"derived\",\"date\":\"2019-05-12T19:55:12.000Z\",\"course\":-111,\"vrateMps\":0,\"lastObserved\":\"2019-05-12T19:59:32.000Z\"},{\"lon\":11.2488,\"lat\":45.2282,\"speedMph\":529,\"altitudeFt\":39062,\"source\":\"derived\",\"date\":\"2019-05-12T19:54:11.000Z\",\"course\":-112,\"vrateMps\":0,\"lastObserved\":\"2019-05-12T19:58:32.000Z\"},{\"lon\":11.4169,\"lat\":45.2762,\"speedMph\":523,\"altitudeFt\":39137,\"source\":\"derived\",\"date\":\"2019-05-12T19:53:11.000Z\",\"course\":-111,\"vrateMps\":1,\"lastObserved\":\"2019-05-12T19:57:30.000Z\"},{\"lon\":11.5838,\"lat\":45.3237,\"speedMph\":522,\"altitudeFt\":39074,\"source\":\"derived\",\"date\":\"2019-05-12T19:52:11.000Z\",\"course\":-111,\"vrateMps\":1,\"lastObserved\":\"2019-05-12T19:56:23.000Z\"},{\"lon\":11.751,\"lat\":45.3709,\"speedMph\":521,\"altitudeFt\":38988,\"source\":\"derived\",\"date\":\"2019-05-12T19:51:11.000Z\",\"course\":-111,\"vrateMps\":1,\"lastObserved\":\"2019-05-12T19:55:28.000Z\"},{\"lon\":11.9169,\"lat\":45.4172,\"speedMph\":525,\"altitudeFt\":38772,\"source\":\"derived\",\"date\":\"2019-05-12T19:50:11.000Z\",\"course\":-111,\"vrateMps\":1,\"lastObserved\":\"2019-05-12T19:54:20.000Z\"},{\"lon\":12.0841,\"lat\":45.4637,\"speedMph\":527,\"altitudeFt\":38494,\"source\":\"derived\",\"date\":\"2019-05-12T19:49:11.000Z\",\"course\":-111,\"vrateMps\":1,\"lastObserved\":\"2019-05-12T19:53:19.000Z\"},{\"lon\":12.2532,\"lat\":45.5105,\"speedMph\":524,\"altitudeFt\":38119,\"source\":\"derived\",\"date\":\"2019-05-12T19:48:11.000Z\",\"course\":-111,\"vrateMps\":0,\"lastObserved\":\"2019-05-12T19:52:30.000Z\"},{\"lon\":12.2532,\"lat\":45.5105,\"speedMph\":524,\"altitudeFt\":38119,\"source\":\"derived\",\"date\":\"2019-05-12T19:48:11.000Z\",\"course\":-111,\"vrateMps\":0,\"lastObserved\":\"2019-05-12T19:52:30.000Z\"},{\"lon\":12.4209,\"lat\":45.5565,\"speedMph\":523,\"altitudeFt\":38000,\"source\":\"derived\",\"date\":\"2019-05-12T19:47:11.000Z\",\"course\":-111,\"vrateMps\":0,\"lastObserved\":\"2019-05-12T19:51:27.000Z\"},{\"lon\":12.589,\"lat\":45.6023,\"speedMph\":523,\"altitudeFt\":38000,\"source\":\"derived\",\"date\":\"2019-05-12T19:46:11.000Z\",\"course\":-111,\"vrateMps\":0,\"lastObserved\":\"2019-05-12T19:50:25.000Z\"},{\"lon\":12.7577,\"lat\":45.6479,\"speedMph\":521,\"altitudeFt\":38000,\"source\":\"derived\",\"date\":\"2019-05-12T19:45:11.000Z\",\"course\":-110,\"vrateMps\":0,\"lastObserved\":\"2019-05-12T19:49:25.000Z\"},{\"lon\":12.7577,\"lat\":45.6479,\"speedMph\":521,\"altitudeFt\":38000,\"source\":\"derived\",\"date\":\"2019-05-12T19:45:11.000Z\",\"course\":-110,\"vrateMps\":0,\"lastObserved\":\"2019-05-12T19:49:25.000Z\"},{\"lon\":12.9256,\"lat\":45.6929,\"speedMph\":520,\"altitudeFt\":38000,\"source\":\"derived\",\"date\":\"2019-05-12T19:44:11.000Z\",\"course\":-110,\"vrateMps\":0,\"lastObserved\":\"2019-05-12T19:48:29.000Z\"},{\"lon\":13.0942,\"lat\":45.738,\"speedMph\":520,\"altitudeFt\":38000,\"source\":\"derived\",\"date\":\"2019-05-12T19:43:11.000Z\",\"course\":-110,\"vrateMps\":0,\"lastObserved\":\"2019-05-12T19:47:23.000Z\"},{\"lon\":13.263,\"lat\":45.782,\"speedMph\":521,\"altitudeFt\":38000,\"source\":\"derived\",\"date\":\"2019-05-12T19:42:11.000Z\",\"course\":-109,\"vrateMps\":0,\"lastObserved\":\"2019-05-12T19:46:27.000Z\"},{\"lon\":13.4319,\"lat\":45.8266,\"speedMph\":522,\"altitudeFt\":38000,\"source\":\"derived\",\"date\":\"2019-05-12T19:41:11.000Z\",\"course\":-109,\"vrateMps\":0,\"lastObserved\":\"2019-05-12T19:45:25.000Z\"},{\"lon\":13.6013,\"lat\":45.871,\"speedMph\":526,\"altitudeFt\":38000,\"source\":\"derived\",\"date\":\"2019-05-12T19:40:11.000Z\",\"course\":-110,\"vrateMps\":0,\"lastObserved\":\"2019-05-12T19:44:31.000Z\"},{\"lon\":13.6013,\"lat\":45.871,\"speedMph\":526,\"altitudeFt\":38000,\"source\":\"derived\",\"date\":\"2019-05-12T19:40:11.000Z\",\"course\":-110,\"vrateMps\":0,\"lastObserved\":\"2019-05-12T19:44:31.000Z\"},{\"lon\":13.7712,\"lat\":45.9164,\"speedMph\":525,\"altitudeFt\":38000,\"source\":\"derived\",\"date\":\"2019-05-12T19:39:11.000Z\",\"course\":-112,\"vrateMps\":0,\"lastObserved\":\"2019-05-12T19:43:28.000Z\"},{\"lon\":13.94,\"lat\":45.9637,\"speedMph\":523,\"altitudeFt\":38000,\"source\":\"derived\",\"date\":\"2019-05-12T19:38:11.000Z\",\"course\":-113,\"vrateMps\":0,\"lastObserved\":\"2019-05-12T19:42:28.000Z\"},{\"lon\":13.94,\"lat\":45.9637,\"speedMph\":523,\"altitudeFt\":38000,\"source\":\"derived\",\"date\":\"2019-05-12T19:38:11.000Z\",\"course\":-113,\"vrateMps\":0,\"lastObserved\":\"2019-05-12T19:42:28.000Z\"},{\"lon\":14.1059,\"lat\":46.0143,\"speedMph\":519,\"altitudeFt\":38000,\"source\":\"derived\",\"date\":\"2019-05-12T19:37:11.000Z\",\"course\":-114,\"vrateMps\":0,\"lastObserved\":\"2019-05-12T19:41:24.000Z\"},{\"lon\":14.2706,\"lat\":46.0656,\"speedMph\":516,\"altitudeFt\":38000,\"source\":\"derived\",\"date\":\"2019-05-12T19:36:11.000Z\",\"course\":-113,\"vrateMps\":0,\"lastObserved\":\"2019-05-12T19:40:25.000Z\"},{\"lon\":14.2706,\"lat\":46.0656,\"speedMph\":516,\"altitudeFt\":38000,\"source\":\"derived\",\"date\":\"2019-05-12T19:36:11.000Z\",\"course\":-113,\"vrateMps\":0,\"lastObserved\":\"2019-05-12T19:40:25.000Z\"},{\"lon\":14.4352,\"lat\":46.1164,\"speedMph\":514,\"altitudeFt\":38000,\"source\":\"derived\",\"date\":\"2019-05-12T19:35:11.000Z\",\"course\":-113,\"vrateMps\":0,\"lastObserved\":\"2019-05-12T19:39:23.000Z\"},{\"lon\":14.5983,\"lat\":46.1666,\"speedMph\":519,\"altitudeFt\":38000,\"source\":\"derived\",\"date\":\"2019-05-12T19:34:11.000Z\",\"course\":-113,\"vrateMps\":0,\"lastObserved\":\"2019-05-12T19:37:37.000Z\"},{\"lon\":14.5983,\"lat\":46.1666,\"speedMph\":519,\"altitudeFt\":38000,\"source\":\"derived\",\"date\":\"2019-05-12T19:34:11.000Z\",\"course\":-113,\"vrateMps\":0,\"lastObserved\":\"2019-05-12T19:37:37.000Z\"},{\"lon\":14.7631,\"lat\":46.2171,\"speedMph\":518,\"altitudeFt\":38000,\"source\":\"derived\",\"date\":\"2019-05-12T19:33:11.000Z\",\"course\":-113,\"vrateMps\":0,\"lastObserved\":\"2019-05-12T19:37:26.000Z\"},{\"lon\":14.7631,\"lat\":46.2171,\"speedMph\":518,\"altitudeFt\":38000,\"source\":\"derived\",\"date\":\"2019-05-12T19:33:11.000Z\",\"course\":-113,\"vrateMps\":0,\"lastObserved\":\"2019-05-12T19:37:26.000Z\"},{\"lon\":14.9279,\"lat\":46.2674,\"speedMph\":518,\"altitudeFt\":38000,\"source\":\"derived\",\"date\":\"2019-05-12T19:32:11.000Z\",\"course\":-113,\"vrateMps\":0,\"lastObserved\":\"2019-05-12T19:36:29.000Z\"},{\"lon\":14.9279,\"lat\":46.2674,\"speedMph\":518,\"altitudeFt\":38000,\"source\":\"derived\",\"date\":\"2019-05-12T19:32:11.000Z\",\"course\":-113,\"vrateMps\":0,\"lastObserved\":\"2019-05-12T19:36:29.000Z\"},{\"lon\":15.0929,\"lat\":46.3173,\"speedMph\":518,\"altitudeFt\":38000,\"source\":\"derived\",\"date\":\"2019-05-12T19:31:11.000Z\",\"course\":-113,\"vrateMps\":0,\"lastObserved\":\"2019-05-12T19:35:03.000Z\"},{\"lon\":15.2578,\"lat\":46.3667,\"speedMph\":513,\"altitudeFt\":38000,\"source\":\"derived\",\"date\":\"2019-05-12T19:30:11.000Z\",\"course\":-113,\"vrateMps\":0,\"lastObserved\":\"2019-05-12T19:34:23.000Z\"},{\"lon\":15.2578,\"lat\":46.3667,\"speedMph\":513,\"altitudeFt\":38000,\"source\":\"derived\",\"date\":\"2019-05-12T19:30:11.000Z\",\"course\":-113,\"vrateMps\":0,\"lastObserved\":\"2019-05-12T19:34:23.000Z\"},{\"lon\":15.4227,\"lat\":46.4158,\"speedMph\":506,\"altitudeFt\":38000,\"source\":\"derived\",\"date\":\"2019-05-12T19:29:11.000Z\",\"course\":-112,\"vrateMps\":0,\"lastObserved\":\"2019-05-12T19:33:07.000Z\"},{\"lon\":15.5854,\"lat\":46.4637,\"speedMph\":501,\"altitudeFt\":38000,\"source\":\"derived\",\"date\":\"2019-05-12T19:28:11.000Z\",\"course\":-112,\"vrateMps\":0,\"lastObserved\":\"2019-05-12T19:32:19.000Z\"},{\"lon\":15.7472,\"lat\":46.5113,\"speedMph\":495,\"altitudeFt\":38000,\"source\":\"derived\",\"date\":\"2019-05-12T19:27:11.000Z\",\"course\":-112,\"vrateMps\":0,\"lastObserved\":\"2019-05-12T19:31:33.000Z\"},{\"lon\":15.7472,\"lat\":46.5113,\"speedMph\":495,\"altitudeFt\":38000,\"source\":\"derived\",\"date\":\"2019-05-12T19:27:11.000Z\",\"course\":-112,\"vrateMps\":0,\"lastObserved\":\"2019-05-12T19:31:33.000Z\"},{\"lon\":15.9067,\"lat\":46.5579,\"speedMph\":490,\"altitudeFt\":38000,\"source\":\"derived\",\"date\":\"2019-05-12T19:26:11.000Z\",\"course\":-112,\"vrateMps\":0,\"lastObserved\":\"2019-05-12T19:30:20.000Z\"},{\"lon\":15.9067,\"lat\":46.5579,\"speedMph\":490,\"altitudeFt\":38000,\"source\":\"derived\",\"date\":\"2019-05-12T19:26:11.000Z\",\"course\":-112,\"vrateMps\":0,\"lastObserved\":\"2019-05-12T19:30:20.000Z\"},{\"lon\":16.0652,\"lat\":46.604,\"speedMph\":487,\"altitudeFt\":38000,\"source\":\"derived\",\"date\":\"2019-05-12T19:25:10.000Z\",\"course\":-112,\"vrateMps\":0,\"lastObserved\":\"2019-05-12T19:29:28.000Z\"},{\"lon\":16.2235,\"lat\":46.6497,\"speedMph\":483,\"altitudeFt\":38000,\"source\":\"derived\",\"date\":\"2019-05-12T19:24:10.000Z\",\"course\":-112,\"vrateMps\":0,\"lastObserved\":\"2019-05-12T19:28:29.000Z\"},{\"lon\":16.3811,\"lat\":46.695,\"speedMph\":482,\"altitudeFt\":38000,\"source\":\"derived\",\"date\":\"2019-05-12T19:23:10.000Z\",\"course\":-112,\"vrateMps\":0,\"lastObserved\":\"2019-05-12T19:27:39.000Z\"},{\"lon\":16.5378,\"lat\":46.7394,\"speedMph\":486,\"altitudeFt\":38000,\"source\":\"derived\",\"date\":\"2019-05-12T19:22:10.000Z\",\"course\":-111,\"vrateMps\":0,\"lastObserved\":\"2019-05-12T19:25:49.000Z\"},{\"lon\":16.6965,\"lat\":46.784,\"speedMph\":487,\"altitudeFt\":38000,\"source\":\"derived\",\"date\":\"2019-05-12T19:21:10.000Z\",\"course\":-111,\"vrateMps\":0,\"lastObserved\":\"2019-05-12T19:25:14.000Z\"},{\"lon\":16.8559,\"lat\":46.8287,\"speedMph\":488,\"altitudeFt\":38000,\"source\":\"derived\",\"date\":\"2019-05-12T19:20:10.000Z\",\"course\":-112,\"vrateMps\":0,\"lastObserved\":\"2019-05-12T19:24:23.000Z\"},{\"lon\":17.0147,\"lat\":46.8726,\"speedMph\":489,\"altitudeFt\":38000,\"source\":\"derived\",\"date\":\"2019-05-12T19:19:10.000Z\",\"course\":-113,\"vrateMps\":0,\"lastObserved\":\"2019-05-12T19:23:24.000Z\"},{\"lon\":17.1738,\"lat\":46.9192,\"speedMph\":489,\"altitudeFt\":38000,\"source\":\"derived\",\"date\":\"2019-05-12T19:18:10.000Z\",\"course\":-113,\"vrateMps\":0,\"lastObserved\":\"2019-05-12T19:22:24.000Z\"},{\"lon\":17.3318,\"lat\":46.9672,\"speedMph\":489,\"altitudeFt\":38000,\"source\":\"derived\",\"date\":\"2019-05-12T19:17:10.000Z\",\"course\":-113,\"vrateMps\":0,\"lastObserved\":\"2019-05-12T19:21:24.000Z\"},{\"lon\":17.49,\"lat\":47.0155,\"speedMph\":488,\"altitudeFt\":38000,\"source\":\"derived\",\"date\":\"2019-05-12T19:16:10.000Z\",\"course\":-113,\"vrateMps\":0,\"lastObserved\":\"2019-05-12T19:20:25.000Z\"},{\"lon\":17.648,\"lat\":47.0633,\"speedMph\":489,\"altitudeFt\":38000,\"source\":\"derived\",\"date\":\"2019-05-12T19:15:10.000Z\",\"course\":-113,\"vrateMps\":0,\"lastObserved\":\"2019-05-12T19:19:19.000Z\"},{\"lon\":17.8061,\"lat\":47.111,\"speedMph\":489,\"altitudeFt\":38000,\"source\":\"derived\",\"date\":\"2019-05-12T19:14:10.000Z\",\"course\":-113,\"vrateMps\":0,\"lastObserved\":\"2019-05-12T19:18:28.000Z\"},{\"lon\":17.9651,\"lat\":47.1589,\"speedMph\":487,\"altitudeFt\":38000,\"source\":\"derived\",\"date\":\"2019-05-12T19:13:10.000Z\",\"course\":-113,\"vrateMps\":0,\"lastObserved\":\"2019-05-12T19:17:28.000Z\"},{\"lon\":18.1233,\"lat\":47.2062,\"speedMph\":487,\"altitudeFt\":38000,\"source\":\"derived\",\"date\":\"2019-05-12T19:12:10.000Z\",\"course\":-113,\"vrateMps\":0,\"lastObserved\":\"2019-05-12T19:16:28.000Z\"},{\"lon\":18.1233,\"lat\":47.2062,\"speedMph\":487,\"altitudeFt\":38000,\"source\":\"derived\",\"date\":\"2019-05-12T19:12:10.000Z\",\"course\":-113,\"vrateMps\":0,\"lastObserved\":\"2019-05-12T19:16:28.000Z\"},{\"lon\":18.2823,\"lat\":47.2531,\"speedMph\":488,\"altitudeFt\":38000,\"source\":\"derived\",\"date\":\"2019-05-12T19:11:10.000Z\",\"course\":-113,\"vrateMps\":0,\"lastObserved\":\"2019-05-12T19:15:30.000Z\"},{\"lon\":18.4421,\"lat\":47.2999,\"speedMph\":486,\"altitudeFt\":38000,\"source\":\"derived\",\"date\":\"2019-05-12T19:10:10.000Z\",\"course\":-113,\"vrateMps\":0,\"lastObserved\":\"2019-05-12T19:14:24.000Z\"},{\"lon\":18.6004,\"lat\":47.3462,\"speedMph\":489,\"altitudeFt\":38000,\"source\":\"derived\",\"date\":\"2019-05-12T19:09:10.000Z\",\"course\":-113,\"vrateMps\":0,\"lastObserved\":\"2019-05-12T19:13:30.000Z\"},{\"lon\":18.6004,\"lat\":47.3462,\"speedMph\":489,\"altitudeFt\":38000,\"source\":\"derived\",\"date\":\"2019-05-12T19:09:10.000Z\",\"course\":-113,\"vrateMps\":0,\"lastObserved\":\"2019-05-12T19:13:30.000Z\"},{\"lon\":18.7605,\"lat\":47.3928,\"speedMph\":489,\"altitudeFt\":38000,\"source\":\"derived\",\"date\":\"2019-05-12T19:08:10.000Z\",\"course\":-112,\"vrateMps\":0,\"lastObserved\":\"2019-05-12T19:12:20.000Z\"},{\"lon\":18.9207,\"lat\":47.439,\"speedMph\":488,\"altitudeFt\":38000,\"source\":\"derived\",\"date\":\"2019-05-12T19:07:10.000Z\",\"course\":-112,\"vrateMps\":0,\"lastObserved\":\"2019-05-12T19:11:28.000Z\"},{\"lon\":19.081,\"lat\":47.4849,\"speedMph\":487,\"altitudeFt\":38000,\"source\":\"derived\",\"date\":\"2019-05-12T19:06:10.000Z\",\"course\":-112,\"vrateMps\":0,\"lastObserved\":\"2019-05-12T19:10:28.000Z\"},{\"lon\":19.2412,\"lat\":47.5304,\"speedMph\":486,\"altitudeFt\":38000,\"source\":\"derived\",\"date\":\"2019-05-12T19:05:10.000Z\",\"course\":-112,\"vrateMps\":0,\"lastObserved\":\"2019-05-12T19:09:21.000Z\"},{\"lon\":19.4016,\"lat\":47.5757,\"speedMph\":485,\"altitudeFt\":38000,\"source\":\"derived\",\"date\":\"2019-05-12T19:04:10.000Z\",\"course\":-112,\"vrateMps\":0,\"lastObserved\":\"2019-05-12T19:08:25.000Z\"},{\"lon\":19.562,\"lat\":47.6207,\"speedMph\":482,\"altitudeFt\":38000,\"source\":\"derived\",\"date\":\"2019-05-12T19:03:10.000Z\",\"course\":-112,\"vrateMps\":0,\"lastObserved\":\"2019-05-12T19:07:24.000Z\"},{\"lon\":19.7215,\"lat\":47.6651,\"speedMph\":480,\"altitudeFt\":38000,\"source\":\"derived\",\"date\":\"2019-05-12T19:02:10.000Z\",\"course\":-112,\"vrateMps\":0,\"lastObserved\":\"2019-05-12T19:06:13.000Z\"},{\"lon\":19.7215,\"lat\":47.6651,\"speedMph\":480,\"altitudeFt\":38000,\"source\":\"derived\",\"date\":\"2019-05-12T19:02:10.000Z\",\"course\":-112,\"vrateMps\":0,\"lastObserved\":\"2019-05-12T19:06:13.000Z\"},{\"lon\":19.8815,\"lat\":47.7093,\"speedMph\":480,\"altitudeFt\":38000,\"source\":\"derived\",\"date\":\"2019-05-12T19:01:10.000Z\",\"course\":-112,\"vrateMps\":0,\"lastObserved\":\"2019-05-12T19:05:15.000Z\"},{\"lon\":20.0418,\"lat\":47.7535,\"speedMph\":484,\"altitudeFt\":38000,\"source\":\"derived\",\"date\":\"2019-05-12T19:00:10.000Z\",\"course\":-112,\"vrateMps\":0,\"lastObserved\":\"2019-05-12T19:04:24.000Z\"},{\"lon\":20.202,\"lat\":47.7978,\"speedMph\":489,\"altitudeFt\":38000,\"source\":\"derived\",\"date\":\"2019-05-12T18:59:10.000Z\",\"course\":-111,\"vrateMps\":0,\"lastObserved\":\"2019-05-12T19:03:26.000Z\"},{\"lon\":20.3647,\"lat\":47.8418,\"speedMph\":494,\"altitudeFt\":38000,\"source\":\"derived\",\"date\":\"2019-05-12T18:58:10.000Z\",\"course\":-111,\"vrateMps\":0,\"lastObserved\":\"2019-05-12T19:02:26.000Z\"},{\"lon\":20.53,\"lat\":47.8861,\"speedMph\":492,\"altitudeFt\":38000,\"source\":\"derived\",\"date\":\"2019-05-12T18:57:10.000Z\",\"course\":-111,\"vrateMps\":0,\"lastObserved\":\"2019-05-12T19:01:23.000Z\"},{\"lon\":20.6943,\"lat\":47.93,\"speedMph\":491,\"altitudeFt\":38000,\"source\":\"derived\",\"date\":\"2019-05-12T18:56:10.000Z\",\"course\":-111,\"vrateMps\":0,\"lastObserved\":\"2019-05-12T19:00:28.000Z\"},{\"lon\":20.8588,\"lat\":47.974,\"speedMph\":488,\"altitudeFt\":38000,\"source\":\"derived\",\"date\":\"2019-05-12T18:55:10.000Z\",\"course\":-111,\"vrateMps\":0,\"lastObserved\":\"2019-05-12T18:59:19.000Z\"},{\"lon\":20.8588,\"lat\":47.974,\"speedMph\":488,\"altitudeFt\":38000,\"source\":\"derived\",\"date\":\"2019-05-12T18:55:10.000Z\",\"course\":-111,\"vrateMps\":0,\"lastObserved\":\"2019-05-12T18:59:19.000Z\"},{\"lon\":21.0235,\"lat\":48.0173,\"speedMph\":486,\"altitudeFt\":38000,\"source\":\"derived\",\"date\":\"2019-05-12T18:54:10.000Z\",\"course\":-111,\"vrateMps\":0,\"lastObserved\":\"2019-05-12T18:58:19.000Z\"},{\"lon\":21.1882,\"lat\":48.0604,\"speedMph\":487,\"altitudeFt\":38000,\"source\":\"derived\",\"date\":\"2019-05-12T18:53:10.000Z\",\"course\":-111,\"vrateMps\":0,\"lastObserved\":\"2019-05-12T18:57:16.000Z\"},{\"lon\":21.1882,\"lat\":48.0604,\"speedMph\":487,\"altitudeFt\":38000,\"source\":\"derived\",\"date\":\"2019-05-12T18:53:10.000Z\",\"course\":-111,\"vrateMps\":0,\"lastObserved\":\"2019-05-12T18:57:16.000Z\"},{\"lon\":21.3523,\"lat\":48.1031,\"speedMph\":491,\"altitudeFt\":38000,\"source\":\"derived\",\"date\":\"2019-05-12T18:52:10.000Z\",\"course\":-110,\"vrateMps\":0,\"lastObserved\":\"2019-05-12T18:56:04.000Z\"},{\"lon\":21.5182,\"lat\":48.1459,\"speedMph\":496,\"altitudeFt\":38000,\"source\":\"derived\",\"date\":\"2019-05-12T18:51:10.000Z\",\"course\":-110,\"vrateMps\":0,\"lastObserved\":\"2019-05-12T18:54:39.000Z\"},{\"lon\":21.6855,\"lat\":48.1889,\"speedMph\":497,\"altitudeFt\":38000,\"source\":\"derived\",\"date\":\"2019-05-12T18:50:09.000Z\",\"course\":-110,\"vrateMps\":0,\"lastObserved\":\"2019-05-12T18:54:26.000Z\"},{\"lon\":21.8538,\"lat\":48.2316,\"speedMph\":499,\"altitudeFt\":38000,\"source\":\"derived\",\"date\":\"2019-05-12T18:49:09.000Z\",\"course\":-109,\"vrateMps\":0,\"lastObserved\":\"2019-05-12T18:53:27.000Z\"},{\"lon\":21.8538,\"lat\":48.2316,\"speedMph\":499,\"altitudeFt\":38000,\"source\":\"derived\",\"date\":\"2019-05-12T18:49:09.000Z\",\"course\":-109,\"vrateMps\":0,\"lastObserved\":\"2019-05-12T18:53:27.000Z\"},{\"lon\":22.0231,\"lat\":48.2737,\"speedMph\":498,\"altitudeFt\":38000,\"source\":\"derived\",\"date\":\"2019-05-12T18:48:09.000Z\",\"course\":-109,\"vrateMps\":0,\"lastObserved\":\"2019-05-12T18:52:24.000Z\"},{\"lon\":22.0231,\"lat\":48.2737,\"speedMph\":498,\"altitudeFt\":38000,\"source\":\"derived\",\"date\":\"2019-05-12T18:48:09.000Z\",\"course\":-109,\"vrateMps\":0,\"lastObserved\":\"2019-05-12T18:52:24.000Z\"},{\"lon\":22.1924,\"lat\":48.3162,\"speedMph\":500,\"altitudeFt\":38000,\"source\":\"derived\",\"date\":\"2019-05-12T18:47:09.000Z\",\"course\":-110,\"vrateMps\":0,\"lastObserved\":\"2019-05-12T18:51:33.000Z\"},{\"lon\":22.3623,\"lat\":48.3591,\"speedMph\":497,\"altitudeFt\":38000,\"source\":\"derived\",\"date\":\"2019-05-12T18:46:09.000Z\",\"course\":-111,\"vrateMps\":0,\"lastObserved\":\"2019-05-12T18:50:26.000Z\"},{\"lon\":22.5304,\"lat\":48.4017,\"speedMph\":499,\"altitudeFt\":38000,\"source\":\"derived\",\"date\":\"2019-05-12T18:45:09.000Z\",\"course\":-113,\"vrateMps\":0,\"lastObserved\":\"2019-05-12T18:49:26.000Z\"},{\"lon\":22.6974,\"lat\":48.4492,\"speedMph\":494,\"altitudeFt\":38000,\"source\":\"derived\",\"date\":\"2019-05-12T18:44:09.000Z\",\"course\":-113,\"vrateMps\":0,\"lastObserved\":\"2019-05-12T18:48:14.000Z\"},{\"lon\":22.863,\"lat\":48.4967,\"speedMph\":491,\"altitudeFt\":38000,\"source\":\"derived\",\"date\":\"2019-05-12T18:43:09.000Z\",\"course\":-113,\"vrateMps\":0,\"lastObserved\":\"2019-05-12T18:47:22.000Z\"},{\"lon\":23.0271,\"lat\":48.5434,\"speedMph\":492,\"altitudeFt\":38000,\"source\":\"derived\",\"date\":\"2019-05-12T18:42:09.000Z\",\"course\":-112,\"vrateMps\":0,\"lastObserved\":\"2019-05-12T18:46:22.000Z\"},{\"lon\":23.1923,\"lat\":48.59,\"speedMph\":490,\"altitudeFt\":38000,\"source\":\"derived\",\"date\":\"2019-05-12T18:41:09.000Z\",\"course\":-112,\"vrateMps\":0,\"lastObserved\":\"2019-05-12T18:45:24.000Z\"},{\"lon\":23.3577,\"lat\":48.6364,\"speedMph\":490,\"altitudeFt\":38000,\"source\":\"derived\",\"date\":\"2019-05-12T18:40:09.000Z\",\"course\":-112,\"vrateMps\":0,\"lastObserved\":\"2019-05-12T18:44:27.000Z\"},{\"lon\":23.523,\"lat\":48.6824,\"speedMph\":492,\"altitudeFt\":38000,\"source\":\"derived\",\"date\":\"2019-05-12T18:39:09.000Z\",\"course\":-112,\"vrateMps\":0,\"lastObserved\":\"2019-05-12T18:43:24.000Z\"},{\"lon\":23.6887,\"lat\":48.7281,\"speedMph\":494,\"altitudeFt\":38000,\"source\":\"derived\",\"date\":\"2019-05-12T18:38:09.000Z\",\"course\":-112,\"vrateMps\":0,\"lastObserved\":\"2019-05-12T18:42:18.000Z\"},{\"lon\":23.8557,\"lat\":48.7741,\"speedMph\":496,\"altitudeFt\":38000,\"source\":\"derived\",\"date\":\"2019-05-12T18:37:09.000Z\",\"course\":-112,\"vrateMps\":0,\"lastObserved\":\"2019-05-12T18:41:24.000Z\"},{\"lon\":24.0236,\"lat\":48.8199,\"speedMph\":496,\"altitudeFt\":38000,\"source\":\"derived\",\"date\":\"2019-05-12T18:36:09.000Z\",\"course\":-112,\"vrateMps\":0,\"lastObserved\":\"2019-05-12T18:40:24.000Z\"},{\"lon\":24.0236,\"lat\":48.8199,\"speedMph\":496,\"altitudeFt\":38000,\"source\":\"derived\",\"date\":\"2019-05-12T18:36:09.000Z\",\"course\":-112,\"vrateMps\":0,\"lastObserved\":\"2019-05-12T18:40:24.000Z\"},{\"lon\":24.1928,\"lat\":48.8656,\"speedMph\":495,\"altitudeFt\":38000,\"source\":\"derived\",\"date\":\"2019-05-12T18:35:09.000Z\",\"course\":-112,\"vrateMps\":0,\"lastObserved\":\"2019-05-12T18:39:25.000Z\"},{\"lon\":24.3611,\"lat\":48.9111,\"speedMph\":499,\"altitudeFt\":38000,\"source\":\"derived\",\"date\":\"2019-05-12T18:34:09.000Z\",\"course\":-111,\"vrateMps\":0,\"lastObserved\":\"2019-05-12T18:38:21.000Z\"},{\"lon\":24.5309,\"lat\":48.9564,\"speedMph\":503,\"altitudeFt\":38000,\"source\":\"derived\",\"date\":\"2019-05-12T18:33:09.000Z\",\"course\":-111,\"vrateMps\":0,\"lastObserved\":\"2019-05-12T18:37:22.000Z\"},{\"lon\":24.702,\"lat\":49.0016,\"speedMph\":502,\"altitudeFt\":38000,\"source\":\"derived\",\"date\":\"2019-05-12T18:32:09.000Z\",\"course\":-111,\"vrateMps\":0,\"lastObserved\":\"2019-05-12T18:36:17.000Z\"},{\"lon\":24.8729,\"lat\":49.0464,\"speedMph\":501,\"altitudeFt\":38000,\"source\":\"derived\",\"date\":\"2019-05-12T18:31:09.000Z\",\"course\":-111,\"vrateMps\":0,\"lastObserved\":\"2019-05-12T18:35:28.000Z\"},{\"lon\":24.8729,\"lat\":49.0464,\"speedMph\":501,\"altitudeFt\":38000,\"source\":\"derived\",\"date\":\"2019-05-12T18:31:09.000Z\",\"course\":-111,\"vrateMps\":0,\"lastObserved\":\"2019-05-12T18:35:28.000Z\"},{\"lon\":25.0448,\"lat\":49.0913,\"speedMph\":499,\"altitudeFt\":38000,\"source\":\"derived\",\"date\":\"2019-05-12T18:30:09.000Z\",\"course\":-111,\"vrateMps\":0,\"lastObserved\":\"2019-05-12T18:34:25.000Z\"},{\"lon\":25.216,\"lat\":49.1355,\"speedMph\":496,\"altitudeFt\":38000,\"source\":\"derived\",\"date\":\"2019-05-12T18:29:09.000Z\",\"course\":-111,\"vrateMps\":0,\"lastObserved\":\"2019-05-12T18:33:25.000Z\"},{\"lon\":25.3868,\"lat\":49.1794,\"speedMph\":495,\"altitudeFt\":38000,\"source\":\"derived\",\"date\":\"2019-05-12T18:28:09.000Z\",\"course\":-111,\"vrateMps\":0,\"lastObserved\":\"2019-05-12T18:32:11.000Z\"},{\"lon\":25.5564,\"lat\":49.2226,\"speedMph\":494,\"altitudeFt\":38000,\"source\":\"derived\",\"date\":\"2019-05-12T18:27:09.000Z\",\"course\":-111,\"vrateMps\":0,\"lastObserved\":\"2019-05-12T18:31:24.000Z\"},{\"lon\":25.7278,\"lat\":49.266,\"speedMph\":490,\"altitudeFt\":38000,\"source\":\"derived\",\"date\":\"2019-05-12T18:26:09.000Z\",\"course\":-110,\"vrateMps\":0,\"lastObserved\":\"2019-05-12T18:30:22.000Z\"},{\"lon\":25.7278,\"lat\":49.266,\"speedMph\":490,\"altitudeFt\":38000,\"source\":\"derived\",\"date\":\"2019-05-12T18:26:09.000Z\",\"course\":-110,\"vrateMps\":0,\"lastObserved\":\"2019-05-12T18:30:22.000Z\"},{\"lon\":25.8978,\"lat\":49.3087,\"speedMph\":487,\"altitudeFt\":38000,\"source\":\"derived\",\"date\":\"2019-05-12T18:25:09.000Z\",\"course\":-110,\"vrateMps\":0,\"lastObserved\":\"2019-05-12T18:29:24.000Z\"},{\"lon\":25.8978,\"lat\":49.3087,\"speedMph\":487,\"altitudeFt\":38000,\"source\":\"derived\",\"date\":\"2019-05-12T18:25:09.000Z\",\"course\":-110,\"vrateMps\":0,\"lastObserved\":\"2019-05-12T18:29:24.000Z\"},{\"lon\":26.067,\"lat\":49.3509,\"speedMph\":487,\"altitudeFt\":38000,\"source\":\"derived\",\"date\":\"2019-05-12T18:24:09.000Z\",\"course\":-110,\"vrateMps\":0,\"lastObserved\":\"2019-05-12T18:28:22.000Z\"},{\"lon\":26.2367,\"lat\":49.3931,\"speedMph\":490,\"altitudeFt\":38000,\"source\":\"derived\",\"date\":\"2019-05-12T18:23:08.000Z\",\"course\":-110,\"vrateMps\":0,\"lastObserved\":\"2019-05-12T18:27:10.000Z\"},{\"lon\":26.4076,\"lat\":49.4349,\"speedMph\":494,\"altitudeFt\":38000,\"source\":\"derived\",\"date\":\"2019-05-12T18:22:08.000Z\",\"course\":-110,\"vrateMps\":0,\"lastObserved\":\"2019-05-12T18:26:18.000Z\"},{\"lon\":26.5805,\"lat\":49.477,\"speedMph\":498,\"altitudeFt\":38000,\"source\":\"derived\",\"date\":\"2019-05-12T18:21:08.000Z\",\"course\":-110,\"vrateMps\":0,\"lastObserved\":\"2019-05-12T18:25:22.000Z\"},{\"lon\":26.7541,\"lat\":49.519,\"speedMph\":504,\"altitudeFt\":38000,\"source\":\"derived\",\"date\":\"2019-05-12T18:20:08.000Z\",\"course\":-110,\"vrateMps\":0,\"lastObserved\":\"2019-05-12T18:24:22.000Z\"},{\"lon\":26.7541,\"lat\":49.519,\"speedMph\":504,\"altitudeFt\":38000,\"source\":\"derived\",\"date\":\"2019-05-12T18:20:08.000Z\",\"course\":-110,\"vrateMps\":0,\"lastObserved\":\"2019-05-12T18:24:22.000Z\"},{\"lon\":26.9299,\"lat\":49.5612,\"speedMph\":509,\"altitudeFt\":38000,\"source\":\"derived\",\"date\":\"2019-05-12T18:19:08.000Z\",\"course\":-109,\"vrateMps\":0,\"lastObserved\":\"2019-05-12T18:23:22.000Z\"},{\"lon\":27.1077,\"lat\":49.6035,\"speedMph\":510,\"altitudeFt\":38016,\"source\":\"derived\",\"date\":\"2019-05-12T18:18:08.000Z\",\"course\":-109,\"vrateMps\":0,\"lastObserved\":\"2019-05-12T18:22:18.000Z\"},{\"lon\":27.2864,\"lat\":49.6456,\"speedMph\":513,\"altitudeFt\":38092,\"source\":\"derived\",\"date\":\"2019-05-12T18:17:08.000Z\",\"course\":-109,\"vrateMps\":1,\"lastObserved\":\"2019-05-12T18:21:21.000Z\"},{\"lon\":27.2864,\"lat\":49.6456,\"speedMph\":513,\"altitudeFt\":38092,\"source\":\"derived\",\"date\":\"2019-05-12T18:17:08.000Z\",\"course\":-109,\"vrateMps\":1,\"lastObserved\":\"2019-05-12T18:21:21.000Z\"},{\"lon\":27.4663,\"lat\":49.6876,\"speedMph\":514,\"altitudeFt\":38229,\"source\":\"derived\",\"date\":\"2019-05-12T18:16:08.000Z\",\"course\":-109,\"vrateMps\":1,\"lastObserved\":\"2019-05-12T18:20:27.000Z\"},{\"lon\":27.6462,\"lat\":49.7293,\"speedMph\":517,\"altitudeFt\":38379,\"source\":\"derived\",\"date\":\"2019-05-12T18:15:08.000Z\",\"course\":-109,\"vrateMps\":3,\"lastObserved\":\"2019-05-12T18:19:15.000Z\"},{\"lon\":27.8275,\"lat\":49.771,\"speedMph\":513,\"altitudeFt\":37985,\"source\":\"derived\",\"date\":\"2019-05-12T18:14:08.000Z\",\"course\":-109,\"vrateMps\":3,\"lastObserved\":\"2019-05-12T18:18:22.000Z\"},{\"lon\":27.8275,\"lat\":49.771,\"speedMph\":513,\"altitudeFt\":37985,\"source\":\"derived\",\"date\":\"2019-05-12T18:14:08.000Z\",\"course\":-109,\"vrateMps\":3,\"lastObserved\":\"2019-05-12T18:18:22.000Z\"},{\"lon\":28.0078,\"lat\":49.8121,\"speedMph\":512,\"altitudeFt\":37879,\"source\":\"derived\",\"date\":\"2019-05-12T18:13:08.000Z\",\"course\":-109,\"vrateMps\":4,\"lastObserved\":\"2019-05-12T18:17:17.000Z\"},{\"lon\":28.1877,\"lat\":49.8528,\"speedMph\":506,\"altitudeFt\":37350,\"source\":\"derived\",\"date\":\"2019-05-12T18:12:08.000Z\",\"course\":-109,\"vrateMps\":5,\"lastObserved\":\"2019-05-12T18:16:25.000Z\"},{\"lon\":28.3664,\"lat\":49.8929,\"speedMph\":505,\"altitudeFt\":36445,\"source\":\"derived\",\"date\":\"2019-05-12T18:11:08.000Z\",\"course\":-109,\"vrateMps\":5,\"lastObserved\":\"2019-05-12T18:15:10.000Z\"},{\"lon\":28.3664,\"lat\":49.8929,\"speedMph\":505,\"altitudeFt\":36445,\"source\":\"derived\",\"date\":\"2019-05-12T18:11:08.000Z\",\"course\":-109,\"vrateMps\":5,\"lastObserved\":\"2019-05-12T18:15:10.000Z\"},{\"lon\":28.5443,\"lat\":49.9324,\"speedMph\":495,\"altitudeFt\":35402,\"source\":\"derived\",\"date\":\"2019-05-12T18:10:08.000Z\",\"course\":-109,\"vrateMps\":5,\"lastObserved\":\"2019-05-12T18:14:24.000Z\"},{\"lon\":28.643,\"lat\":49.9541,\"speedMph\":514,\"altitudeFt\":35075,\"source\":\"derived\",\"date\":\"2019-05-12T18:09:34.000Z\",\"course\":-108,\"vrateMps\":9,\"lastObserved\":\"2019-05-12T18:13:39.000Z\"},{\"lon\":28.8245,\"lat\":49.9939,\"speedMph\":511,\"altitudeFt\":33417,\"source\":\"derived\",\"date\":\"2019-05-12T18:08:34.000Z\",\"course\":-108,\"vrateMps\":9,\"lastObserved\":\"2019-05-12T18:12:25.000Z\"},{\"lon\":28.8245,\"lat\":49.9939,\"speedMph\":511,\"altitudeFt\":33417,\"source\":\"derived\",\"date\":\"2019-05-12T18:08:34.000Z\",\"course\":-108,\"vrateMps\":9,\"lastObserved\":\"2019-05-12T18:12:25.000Z\"},{\"lon\":29.0049,\"lat\":50.0332,\"speedMph\":508,\"altitudeFt\":31743,\"source\":\"derived\",\"date\":\"2019-05-12T18:07:33.000Z\",\"course\":-108,\"vrateMps\":9,\"lastObserved\":\"2019-05-12T18:11:45.000Z\"},{\"lon\":29.1839,\"lat\":50.0718,\"speedMph\":503,\"altitudeFt\":30064,\"source\":\"derived\",\"date\":\"2019-05-12T18:06:33.000Z\",\"course\":-108,\"vrateMps\":9,\"lastObserved\":\"2019-05-12T18:10:45.000Z\"},{\"lon\":29.3615,\"lat\":50.1097,\"speedMph\":494,\"altitudeFt\":28477,\"source\":\"derived\",\"date\":\"2019-05-12T18:05:33.000Z\",\"course\":-108,\"vrateMps\":10,\"lastObserved\":\"2019-05-12T18:09:45.000Z\"},{\"lon\":29.5363,\"lat\":50.1466,\"speedMph\":484,\"altitudeFt\":26629,\"source\":\"derived\",\"date\":\"2019-05-12T18:04:33.000Z\",\"course\":-108,\"vrateMps\":11,\"lastObserved\":\"2019-05-12T18:08:41.000Z\"},{\"lon\":29.7075,\"lat\":50.1825,\"speedMph\":473,\"altitudeFt\":24590,\"source\":\"derived\",\"date\":\"2019-05-12T18:03:33.000Z\",\"course\":-108,\"vrateMps\":11,\"lastObserved\":\"2019-05-12T18:07:49.000Z\"},{\"lon\":29.8748,\"lat\":50.2174,\"speedMph\":456,\"altitudeFt\":22436,\"source\":\"derived\",\"date\":\"2019-05-12T18:02:33.000Z\",\"course\":-108,\"vrateMps\":12,\"lastObserved\":\"2019-05-12T18:06:49.000Z\"},{\"lon\":30.0266,\"lat\":50.2463,\"speedMph\":491,\"altitudeFt\":19638,\"source\":\"derived\",\"date\":\"2019-05-12T18:01:33.000Z\",\"course\":-108,\"vrateMps\":13,\"lastObserved\":\"2019-05-12T18:05:51.000Z\"},{\"lon\":30.0266,\"lat\":50.2463,\"speedMph\":491,\"altitudeFt\":19638,\"source\":\"derived\",\"date\":\"2019-05-12T18:01:33.000Z\",\"course\":-108,\"vrateMps\":13,\"lastObserved\":\"2019-05-12T18:05:51.000Z\"},{\"lon\":30.1965,\"lat\":50.2827,\"speedMph\":457,\"altitudeFt\":16991,\"source\":\"derived\",\"date\":\"2019-05-12T18:00:33.000Z\",\"course\":-108,\"vrateMps\":13,\"lastObserved\":\"2019-05-12T18:04:33.000Z\"},{\"lon\":30.1965,\"lat\":50.2827,\"speedMph\":457,\"altitudeFt\":16991,\"source\":\"derived\",\"date\":\"2019-05-12T18:00:33.000Z\",\"course\":-108,\"vrateMps\":13,\"lastObserved\":\"2019-05-12T18:04:33.000Z\"},{\"lon\":30.3512,\"lat\":50.3153,\"speedMph\":438,\"altitudeFt\":14081,\"source\":\"derived\",\"date\":\"2019-05-12T17:59:33.000Z\",\"course\":-110,\"vrateMps\":13,\"lastObserved\":\"2019-05-12T18:03:43.000Z\"},{\"lon\":30.3512,\"lat\":50.3153,\"speedMph\":438,\"altitudeFt\":14081,\"source\":\"derived\",\"date\":\"2019-05-12T17:59:33.000Z\",\"course\":-110,\"vrateMps\":13,\"lastObserved\":\"2019-05-12T18:03:43.000Z\"},{\"lon\":30.4976,\"lat\":50.3442,\"speedMph\":419,\"altitudeFt\":10939,\"source\":\"derived\",\"date\":\"2019-05-12T17:58:33.000Z\",\"course\":-114,\"vrateMps\":12,\"lastObserved\":\"2019-05-12T18:02:43.000Z\"},{\"lon\":30.4976,\"lat\":50.3442,\"speedMph\":419,\"altitudeFt\":10939,\"source\":\"derived\",\"date\":\"2019-05-12T17:58:33.000Z\",\"course\":-114,\"vrateMps\":12,\"lastObserved\":\"2019-05-12T18:02:43.000Z\"},{\"lon\":30.6333,\"lat\":50.3789,\"speedMph\":407,\"altitudeFt\":8445,\"source\":\"derived\",\"date\":\"2019-05-12T17:57:33.000Z\",\"course\":-120,\"vrateMps\":11,\"lastObserved\":\"2019-05-12T18:01:26.000Z\"},{\"lon\":30.7567,\"lat\":50.422,\"speedMph\":344,\"altitudeFt\":6212,\"source\":\"derived\",\"date\":\"2019-05-12T17:56:33.000Z\",\"course\":-119,\"vrateMps\":10,\"lastObserved\":\"2019-05-12T18:00:43.000Z\"},{\"lon\":30.8624,\"lat\":50.4474,\"speedMph\":243,\"altitudeFt\":4234,\"source\":\"derived\",\"date\":\"2019-05-12T17:55:33.000Z\",\"course\":-82,\"vrateMps\":10,\"lastObserved\":\"2019-05-12T17:59:48.000Z\"},{\"lon\":30.8934,\"lat\":50.4302,\"speedMph\":259,\"altitudeFt\":2273,\"source\":\"derived\",\"date\":\"2019-05-12T17:54:33.000Z\",\"course\":-1,\"vrateMps\":10,\"lastObserved\":\"2019-05-12T17:58:16.000Z\"},{\"lon\":30.8934,\"lat\":50.4302,\"speedMph\":259,\"altitudeFt\":2273,\"source\":\"derived\",\"date\":\"2019-05-12T17:54:33.000Z\",\"course\":-1,\"vrateMps\":10,\"lastObserved\":\"2019-05-12T17:58:16.000Z\"},{\"lon\":31.0029,\"lat\":50.3688,\"speedMph\":322,\"altitudeFt\":163,\"source\":\"derived\",\"date\":\"2019-05-12T17:53:33.000Z\",\"course\":-25,\"vrateMps\":10,\"lastObserved\":\"2019-05-12T17:57:46.000Z\"},{\"lon\":30.9964,\"lat\":50.0996,\"speedMph\":604,\"source\":\"derived\",\"date\":\"2019-05-12T17:52:33.000Z\",\"course\":0,\"vrateMps\":10,\"lastObserved\":\"2019-05-12T17:56:45.000Z\"},{\"lon\":30.6381,\"lat\":50.5172,\"speedMph\":252,\"source\":\"derived\",\"date\":\"2019-05-12T17:51:33.000Z\",\"course\":-1,\"vrateMps\":10,\"lastObserved\":\"2019-05-12T17:55:48.000Z\"},{\"lon\":30.8605,\"lat\":50.3377,\"speedMph\":172,\"altitudeFt\":755,\"source\":\"derived\",\"date\":\"2019-05-12T17:50:32.000Z\",\"course\":261,\"vrateMps\":3,\"lastObserved\":\"2019-05-12T17:54:49.000Z\"}]}},\"flightState\":\"historical\"},\"route\":{\"header\":{},\"flights\":[],\"showCodeshares\":null},\"flightLoading\":false,\"otherDays\":[{\"date1\":\"12-May\",\"date2\":\"May-12\",\"day\":\"Sunday\",\"year\":\"2019\",\"flights\":[{\"arrivalAirport\":{\"city\":\"Madrid\",\"fs\":\"MAD\",\"iata\":\"MAD\",\"name\":\"Adolfo Suarez Madrid-Barajas Airport\",\"state\":\"SP\",\"country\":\"ES\"},\"arrivalTime\":\"12:10\",\"arrivalTimeAmPm\":\"AM\",\"arrivalTime24\":\"00:10\",\"arrivalTimezone\":\"CEST\",\"departureAirport\":{\"city\":\"Kiev/Kyiv\",\"fs\":\"KBP\",\"iata\":\"KBP\",\"name\":\"Boryspil International Airport\",\"state\":\"\",\"country\":\"UA\"},\"departureTime\":\"8:40\",\"departureTimeAmPm\":\"PM\",\"departureTime24\":\"20:40\",\"departureTimezone\":\"EEST\",\"url\":\"/flight-tracker/PS/945?year=2019\\\\u0026month=05\\\\u0026date=12\\\\u0026flightId=999564363\",\"sortTime\":\"2019-05-12T17:40:00.000Z\"}]},{\"date1\":\"13-May\",\"date2\":\"May-13\",\"day\":\"Monday\",\"year\":\"2019\",\"flights\":[{\"arrivalAirport\":{\"city\":\"Madrid\",\"fs\":\"MAD\",\"iata\":\"MAD\",\"name\":\"Adolfo Suarez Madrid-Barajas Airport\",\"state\":\"SP\",\"country\":\"ES\"},\"arrivalTime\":\"12:10\",\"arrivalTimeAmPm\":\"AM\",\"arrivalTime24\":\"00:10\",\"arrivalTimezone\":\"CEST\",\"departureAirport\":{\"city\":\"Kiev/Kyiv\",\"fs\":\"KBP\",\"iata\":\"KBP\",\"name\":\"Boryspil International Airport\",\"state\":\"\",\"country\":\"UA\"},\"departureTime\":\"8:40\",\"departureTimeAmPm\":\"PM\",\"departureTime24\":\"20:40\",\"departureTimezone\":\"EEST\",\"url\":\"/flight-tracker/PS/945?year=2019\\\\u0026month=05\\\\u0026date=13\\\\u0026flightId=999679606\",\"sortTime\":\"2019-05-13T17:40:00.000Z\"}]},{\"date1\":\"14-May\",\"date2\":\"May-14\",\"day\":\"Tuesday\",\"year\":\"2019\",\"flights\":[{\"arrivalAirport\":{\"city\":\"Madrid\",\"fs\":\"MAD\",\"iata\":\"MAD\",\"name\":\"Adolfo Suarez Madrid-Barajas Airport\",\"state\":\"SP\",\"country\":\"ES\"},\"arrivalTime\":\"12:10\",\"arrivalTimeAmPm\":\"AM\",\"arrivalTime24\":\"00:10\",\"arrivalTimezone\":\"CEST\",\"departureAirport\":{\"city\":\"Kiev/Kyiv\",\"fs\":\"KBP\",\"iata\":\"KBP\",\"name\":\"Boryspil International Airport\",\"state\":\"\",\"country\":\"UA\"},\"departureTime\":\"8:40\",\"departureTimeAmPm\":\"PM\",\"departureTime24\":\"20:40\",\"departureTimezone\":\"EEST\",\"url\":\"/flight-tracker/PS/945?year=2019\\\\u0026month=05\\\\u0026date=14\\\\u0026flightId=999791591\",\"sortTime\":\"2019-05-14T17:40:00.000Z\"}]},{\"date1\":\"15-May\",\"date2\":\"May-15\",\"day\":\"Wednesday\",\"year\":\"2019\",\"flights\":[{\"arrivalAirport\":{\"city\":\"Madrid\",\"fs\":\"MAD\",\"iata\":\"MAD\",\"name\":\"Adolfo Suarez Madrid-Barajas Airport\",\"state\":\"SP\",\"country\":\"ES\"},\"arrivalTime\":\"12:10\",\"arrivalTimeAmPm\":\"AM\",\"arrivalTime24\":\"00:10\",\"arrivalTimezone\":\"CEST\",\"departureAirport\":{\"city\":\"Kiev/Kyiv\",\"fs\":\"KBP\",\"iata\":\"KBP\",\"name\":\"Boryspil International Airport\",\"state\":\"\",\"country\":\"UA\"},\"departureTime\":\"8:40\",\"departureTimeAmPm\":\"PM\",\"departureTime24\":\"20:40\",\"departureTimezone\":\"EEST\",\"url\":\"/flight-tracker/PS/945?year=2019\\\\u0026month=05\\\\u0026date=15\\\\u0026flightId=999902948\",\"sortTime\":\"2019-05-15T17:40:00.000Z\"}]},{\"date1\":\"16-May\",\"date2\":\"May-16\",\"day\":\"Thursday\",\"year\":\"2019\",\"flights\":[{\"arrivalAirport\":{\"city\":\"Madrid\",\"fs\":\"MAD\",\"iata\":\"MAD\",\"name\":\"Adolfo Suarez Madrid-Barajas Airport\",\"state\":\"SP\",\"country\":\"ES\"},\"arrivalTime\":\"12:10\",\"arrivalTimeAmPm\":\"AM\",\"arrivalTime24\":\"00:10\",\"arrivalTimezone\":\"CEST\",\"departureAirport\":{\"city\":\"Kiev/Kyiv\",\"fs\":\"KBP\",\"iata\":\"KBP\",\"name\":\"Boryspil International Airport\",\"state\":\"\",\"country\":\"UA\"},\"departureTime\":\"8:40\",\"departureTimeAmPm\":\"PM\",\"departureTime24\":\"20:40\",\"departureTimezone\":\"EEST\",\"url\":\"/flight-tracker/PS/945?year=2019\\\\u0026month=05\\\\u0026date=16\\\\u0026flightId=1000017819\",\"sortTime\":\"2019-05-16T17:40:00.000Z\"}]},{\"date1\":\"17-May\",\"date2\":\"May-17\",\"day\":\"Friday\",\"year\":\"2019\",\"flights\":[{\"arrivalAirport\":{\"city\":\"Madrid\",\"fs\":\"MAD\",\"iata\":\"MAD\",\"name\":\"Adolfo Suarez Madrid-Barajas Airport\",\"state\":\"SP\",\"country\":\"ES\"},\"arrivalTime\":\"12:10\",\"arrivalTimeAmPm\":\"AM\",\"arrivalTime24\":\"00:10\",\"arrivalTimezone\":\"CEST\",\"departureAirport\":{\"city\":\"Kiev/Kyiv\",\"fs\":\"KBP\",\"iata\":\"KBP\",\"name\":\"Boryspil International Airport\",\"state\":\"\",\"country\":\"UA\"},\"departureTime\":\"8:40\",\"departureTimeAmPm\":\"PM\",\"departureTime24\":\"20:40\",\"departureTimezone\":\"EEST\",\"url\":\"/flight-tracker/PS/945?year=2019\\\\u0026month=05\\\\u0026date=17\\\\u0026flightId=1000135360\",\"sortTime\":\"2019-05-17T17:40:00.000Z\"}]},{\"date1\":\"18-May\",\"date2\":\"May-18\",\"day\":\"Saturday\",\"year\":\"2019\",\"flights\":[]}]},\"loading\":{\"LOAD_FLIGHT_TRACKER_FLIGHT\":false,\"LOAD_FLIGHT_TRACKER_OTHER_DAYS\":false},\"error\":{\"LOAD_FLIGHT_TRACKER_FLIGHT\":\"\",\"LOAD_FLIGHT_TRACKER_OTHER_DAYS\":\"\"},\"euCompliance\":{\"country\":\"\",\"finishedCountryFetch\":false,\"hasDeterminedPersonalizedAds\":false,\"showEUOptInBanner\":false}},\"initialProps\":{\"user\":{},\"pageProps\":{\"params\":{\"carrierCode\":\"PS\",\"flightNumber\":\"945\",\"year\":\"2019\",\"month\":\"5\",\"date\":\"12\",\"flightId\":\"999564363\"},\"isHistoricalFlight\":false,\"isOutOfDateRange\":false,\"head\":{\"title\":\"PS945 - UIA PS 945 Flight Tracker\",\"description\":\"PS945 Flight Tracker - Track the real-time flight status of UIA PS 945 live using the FlightStats Global Flight Tracker. See if your flight has been delayed or cancelled and track the live position on a map.\",\"keywords\":\"UIA 945 flight tracker, UIA 945 flight status, PS 945 flight tracker, PS 945 flight status, UIA PS 945 map, PS 945, PS945, UIA 945\",\"canonical\":\"/flight-tracker/PS/945\",\"noIndex\":false},\"userAgent\":\"Mozilla/5.0 (Macintosh; Intel Mac OS X 10_12_6) AppleWebKit/603.3.8 (KHTML, like Gecko) Version/10.1.2 Safari/603.3.8\",\"hostname\":\"www.flightstats.com\"}}},\"page\":\"/flight-tracker\",\"pathname\":\"/flight-tracker\",\"query\":{\"carrierCode\":\"PS\",\"flightNumber\":\"945\",\"flightId\":\"999564363\",\"year\":\"2019\",\"month\":\"5\",\"date\":\"12\"},\"buildId\":\"a8237653-42d3-405f-80f7-968fa097acbb\",\"assetPrefix\":\"https://assets.flightstats.com\",\"nextExport\":false,\"err\":null,\"chunks\":[\"components_flight_tracker_desktop_flight_tracker_1004a16819e730dabd9dbbe1b808caab\"]}\\n          module={}\\n          __NEXT_LOADED_PAGES__ = []\\n          __NEXT_LOADED_CHUNKS__ = []\\n\\n          __NEXT_REGISTER_PAGE = function (route, fn) {\\n            __NEXT_LOADED_PAGES__.push({ route: route, fn: fn })\\n          }\\n\\n          __NEXT_REGISTER_CHUNK = function (chunkName, fn) {\\n            __NEXT_LOADED_CHUNKS__.push({ chunkName: chunkName, fn: fn })\\n          }\\n\\n          false\\n        </script><script async=\"\" id=\"__NEXT_PAGE__/flight-tracker\" src=\"https://assets.flightstats.com/_next/a8237653-42d3-405f-80f7-968fa097acbb/page/flight-tracker.js\"></script><script async=\"\" id=\"__NEXT_PAGE__/_app\" src=\"https://assets.flightstats.com/_next/a8237653-42d3-405f-80f7-968fa097acbb/page/_app.js\"></script><script async=\"\" id=\"__NEXT_PAGE__/_error\" src=\"https://assets.flightstats.com/_next/a8237653-42d3-405f-80f7-968fa097acbb/page/_error.js\"></script><script async=\"\" src=\"https://assets.flightstats.com/_next/webpack/chunks/components_flight_tracker_desktop_flight_tracker_1004a16819e730dabd9dbbe1b808caab-65673ad82532745d56aa.js\"></script><script src=\"https://assets.flightstats.com/_next/static/commons/main-4b169eb61d6e07b5f571.js\" async=\"\"></script></body></html>'"
      ]
     },
     "execution_count": 33,
     "metadata": {},
     "output_type": "execute_result"
    }
   ],
   "source": [
    "flight_info.html.html"
   ]
  },
  {
   "cell_type": "code",
   "execution_count": 17,
   "metadata": {},
   "outputs": [],
   "source": [
    "testing_series1 = pd.Series(\"https://www.flightstats.com/v2\" + h6_main_flights_df['url'])"
   ]
  },
  {
   "cell_type": "code",
   "execution_count": 20,
   "metadata": {},
   "outputs": [
    {
     "data": {
      "text/plain": [
       "'https://www.flightstats.com/v2/flight-tracker/IB/6824?year=2019&month=5&date=9&flightId=999202946'"
      ]
     },
     "execution_count": 20,
     "metadata": {},
     "output_type": "execute_result"
    }
   ],
   "source": [
    "testing_series1.loc[0]"
   ]
  },
  {
   "cell_type": "code",
   "execution_count": 21,
   "metadata": {},
   "outputs": [
    {
     "data": {
      "text/plain": [
       "Index(['airport.city', 'airport.fs', 'arrivalTime.time24',\n",
       "       'arrivalTime.timeAMPM', 'carrier.flightNumber', 'carrier.fs',\n",
       "       'carrier.name', 'departureTime.time24', 'departureTime.timeAMPM',\n",
       "       'isCodeshare', 'operatedBy', 'sortTime', 'url'],\n",
       "      dtype='object')"
      ]
     },
     "execution_count": 21,
     "metadata": {},
     "output_type": "execute_result"
    }
   ],
   "source": [
    "h0_main_flights_df.columns"
   ]
  },
  {
   "cell_type": "code",
   "execution_count": null,
   "metadata": {},
   "outputs": [],
   "source": []
  },
  {
   "cell_type": "code",
   "execution_count": null,
   "metadata": {},
   "outputs": [],
   "source": []
  },
  {
   "cell_type": "code",
   "execution_count": null,
   "metadata": {},
   "outputs": [],
   "source": []
  },
  {
   "cell_type": "markdown",
   "metadata": {},
   "source": [
    "web_response = session.get(url_address)"
   ]
  },
  {
   "cell_type": "markdown",
   "metadata": {},
   "source": [
    "flight_section = web_response.html.find(\"section\")"
   ]
  },
  {
   "cell_type": "markdown",
   "metadata": {},
   "source": [
    "table_of_flights = flights_section[-1].find(\"a\")"
   ]
  },
  {
   "cell_type": "markdown",
   "metadata": {},
   "source": [
    "print(flights_section[-1])"
   ]
  },
  {
   "cell_type": "markdown",
   "metadata": {},
   "source": [
    "fl_group = []\n",
    "for row in table_of_flights:\n",
    "    splitted_text = row.text.split(\"\\n\")\n",
    "    if len(splitted_text) == 6:\n",
    "        try:\n",
    "            fl_group[splitted_text[0]] = list(row.absolute_links)\n",
    "        except:\n",
    "            print(\"Unable to print this row.\")\n",
    "        "
   ]
  },
  {
   "cell_type": "markdown",
   "metadata": {},
   "source": [
    "print(\"Splitted text:\", splitted_text)"
   ]
  },
  {
   "cell_type": "markdown",
   "metadata": {},
   "source": [
    "print(\"Length of splitted text:\", len(splitted_text))"
   ]
  },
  {
   "cell_type": "markdown",
   "metadata": {},
   "source": [
    "print(\"Link 'row':\", row.absolute_links)"
   ]
  },
  {
   "cell_type": "markdown",
   "metadata": {},
   "source": [
    "print(len(table_of_flights))"
   ]
  },
  {
   "cell_type": "code",
   "execution_count": 161,
   "metadata": {},
   "outputs": [],
   "source": [
    "import datetime"
   ]
  },
  {
   "cell_type": "code",
   "execution_count": 162,
   "metadata": {},
   "outputs": [
    {
     "data": {
      "text/plain": [
       "['MAXYEAR',\n",
       " 'MINYEAR',\n",
       " '__builtins__',\n",
       " '__cached__',\n",
       " '__doc__',\n",
       " '__file__',\n",
       " '__loader__',\n",
       " '__name__',\n",
       " '__package__',\n",
       " '__spec__',\n",
       " 'date',\n",
       " 'datetime',\n",
       " 'datetime_CAPI',\n",
       " 'sys',\n",
       " 'time',\n",
       " 'timedelta',\n",
       " 'timezone',\n",
       " 'tzinfo']"
      ]
     },
     "execution_count": 162,
     "metadata": {},
     "output_type": "execute_result"
    }
   ],
   "source": [
    "dir(datetime)"
   ]
  },
  {
   "cell_type": "code",
   "execution_count": 167,
   "metadata": {},
   "outputs": [
    {
     "name": "stdout",
     "output_type": "stream",
     "text": [
      "Help on class timedelta in module datetime:\n",
      "\n",
      "class timedelta(builtins.object)\n",
      " |  Difference between two datetime values.\n",
      " |  \n",
      " |  Methods defined here:\n",
      " |  \n",
      " |  __abs__(self, /)\n",
      " |      abs(self)\n",
      " |  \n",
      " |  __add__(self, value, /)\n",
      " |      Return self+value.\n",
      " |  \n",
      " |  __bool__(self, /)\n",
      " |      self != 0\n",
      " |  \n",
      " |  __divmod__(self, value, /)\n",
      " |      Return divmod(self, value).\n",
      " |  \n",
      " |  __eq__(self, value, /)\n",
      " |      Return self==value.\n",
      " |  \n",
      " |  __floordiv__(self, value, /)\n",
      " |      Return self//value.\n",
      " |  \n",
      " |  __ge__(self, value, /)\n",
      " |      Return self>=value.\n",
      " |  \n",
      " |  __getattribute__(self, name, /)\n",
      " |      Return getattr(self, name).\n",
      " |  \n",
      " |  __gt__(self, value, /)\n",
      " |      Return self>value.\n",
      " |  \n",
      " |  __hash__(self, /)\n",
      " |      Return hash(self).\n",
      " |  \n",
      " |  __le__(self, value, /)\n",
      " |      Return self<=value.\n",
      " |  \n",
      " |  __lt__(self, value, /)\n",
      " |      Return self<value.\n",
      " |  \n",
      " |  __mod__(self, value, /)\n",
      " |      Return self%value.\n",
      " |  \n",
      " |  __mul__(self, value, /)\n",
      " |      Return self*value.\n",
      " |  \n",
      " |  __ne__(self, value, /)\n",
      " |      Return self!=value.\n",
      " |  \n",
      " |  __neg__(self, /)\n",
      " |      -self\n",
      " |  \n",
      " |  __pos__(self, /)\n",
      " |      +self\n",
      " |  \n",
      " |  __radd__(self, value, /)\n",
      " |      Return value+self.\n",
      " |  \n",
      " |  __rdivmod__(self, value, /)\n",
      " |      Return divmod(value, self).\n",
      " |  \n",
      " |  __reduce__(...)\n",
      " |      __reduce__() -> (cls, state)\n",
      " |  \n",
      " |  __repr__(self, /)\n",
      " |      Return repr(self).\n",
      " |  \n",
      " |  __rfloordiv__(self, value, /)\n",
      " |      Return value//self.\n",
      " |  \n",
      " |  __rmod__(self, value, /)\n",
      " |      Return value%self.\n",
      " |  \n",
      " |  __rmul__(self, value, /)\n",
      " |      Return value*self.\n",
      " |  \n",
      " |  __rsub__(self, value, /)\n",
      " |      Return value-self.\n",
      " |  \n",
      " |  __rtruediv__(self, value, /)\n",
      " |      Return value/self.\n",
      " |  \n",
      " |  __str__(self, /)\n",
      " |      Return str(self).\n",
      " |  \n",
      " |  __sub__(self, value, /)\n",
      " |      Return self-value.\n",
      " |  \n",
      " |  __truediv__(self, value, /)\n",
      " |      Return self/value.\n",
      " |  \n",
      " |  total_seconds(...)\n",
      " |      Total seconds in the duration.\n",
      " |  \n",
      " |  ----------------------------------------------------------------------\n",
      " |  Static methods defined here:\n",
      " |  \n",
      " |  __new__(*args, **kwargs) from builtins.type\n",
      " |      Create and return a new object.  See help(type) for accurate signature.\n",
      " |  \n",
      " |  ----------------------------------------------------------------------\n",
      " |  Data descriptors defined here:\n",
      " |  \n",
      " |  days\n",
      " |      Number of days.\n",
      " |  \n",
      " |  microseconds\n",
      " |      Number of microseconds (>= 0 and less than 1 second).\n",
      " |  \n",
      " |  seconds\n",
      " |      Number of seconds (>= 0 and less than 1 day).\n",
      " |  \n",
      " |  ----------------------------------------------------------------------\n",
      " |  Data and other attributes defined here:\n",
      " |  \n",
      " |  max = datetime.timedelta(days=999999999, seconds=86399, microseconds=9...\n",
      " |  \n",
      " |  min = datetime.timedelta(days=-999999999)\n",
      " |  \n",
      " |  resolution = datetime.timedelta(microseconds=1)\n",
      "\n"
     ]
    }
   ],
   "source": [
    "help(datetime.timedelta)"
   ]
  },
  {
   "cell_type": "code",
   "execution_count": 166,
   "metadata": {
    "scrolled": true
   },
   "outputs": [
    {
     "data": {
      "text/plain": [
       "['__breakpointhook__',\n",
       " '__displayhook__',\n",
       " '__doc__',\n",
       " '__excepthook__',\n",
       " '__interactivehook__',\n",
       " '__loader__',\n",
       " '__name__',\n",
       " '__package__',\n",
       " '__spec__',\n",
       " '__stderr__',\n",
       " '__stdin__',\n",
       " '__stdout__',\n",
       " '_clear_type_cache',\n",
       " '_current_frames',\n",
       " '_debugmallocstats',\n",
       " '_enablelegacywindowsfsencoding',\n",
       " '_framework',\n",
       " '_getframe',\n",
       " '_git',\n",
       " '_home',\n",
       " '_xoptions',\n",
       " 'api_version',\n",
       " 'argv',\n",
       " 'base_exec_prefix',\n",
       " 'base_prefix',\n",
       " 'breakpointhook',\n",
       " 'builtin_module_names',\n",
       " 'byteorder',\n",
       " 'call_tracing',\n",
       " 'callstats',\n",
       " 'copyright',\n",
       " 'displayhook',\n",
       " 'dllhandle',\n",
       " 'dont_write_bytecode',\n",
       " 'exc_info',\n",
       " 'excepthook',\n",
       " 'exec_prefix',\n",
       " 'executable',\n",
       " 'exit',\n",
       " 'flags',\n",
       " 'float_info',\n",
       " 'float_repr_style',\n",
       " 'get_asyncgen_hooks',\n",
       " 'get_coroutine_origin_tracking_depth',\n",
       " 'get_coroutine_wrapper',\n",
       " 'getallocatedblocks',\n",
       " 'getcheckinterval',\n",
       " 'getdefaultencoding',\n",
       " 'getfilesystemencodeerrors',\n",
       " 'getfilesystemencoding',\n",
       " 'getprofile',\n",
       " 'getrecursionlimit',\n",
       " 'getrefcount',\n",
       " 'getsizeof',\n",
       " 'getswitchinterval',\n",
       " 'gettrace',\n",
       " 'getwindowsversion',\n",
       " 'hash_info',\n",
       " 'hexversion',\n",
       " 'implementation',\n",
       " 'int_info',\n",
       " 'intern',\n",
       " 'is_finalizing',\n",
       " 'last_traceback',\n",
       " 'last_type',\n",
       " 'last_value',\n",
       " 'maxsize',\n",
       " 'maxunicode',\n",
       " 'meta_path',\n",
       " 'modules',\n",
       " 'path',\n",
       " 'path_hooks',\n",
       " 'path_importer_cache',\n",
       " 'platform',\n",
       " 'prefix',\n",
       " 'ps1',\n",
       " 'ps2',\n",
       " 'ps3',\n",
       " 'set_asyncgen_hooks',\n",
       " 'set_coroutine_origin_tracking_depth',\n",
       " 'set_coroutine_wrapper',\n",
       " 'setcheckinterval',\n",
       " 'setprofile',\n",
       " 'setrecursionlimit',\n",
       " 'setswitchinterval',\n",
       " 'settrace',\n",
       " 'stderr',\n",
       " 'stdin',\n",
       " 'stdout',\n",
       " 'thread_info',\n",
       " 'version',\n",
       " 'version_info',\n",
       " 'warnoptions',\n",
       " 'winver']"
      ]
     },
     "execution_count": 166,
     "metadata": {},
     "output_type": "execute_result"
    }
   ],
   "source": [
    "dir(datetime.sys)"
   ]
  },
  {
   "cell_type": "code",
   "execution_count": 163,
   "metadata": {
    "scrolled": true
   },
   "outputs": [
    {
     "data": {
      "text/plain": [
       "['__add__',\n",
       " '__class__',\n",
       " '__delattr__',\n",
       " '__dir__',\n",
       " '__doc__',\n",
       " '__eq__',\n",
       " '__format__',\n",
       " '__ge__',\n",
       " '__getattribute__',\n",
       " '__gt__',\n",
       " '__hash__',\n",
       " '__init__',\n",
       " '__init_subclass__',\n",
       " '__le__',\n",
       " '__lt__',\n",
       " '__ne__',\n",
       " '__new__',\n",
       " '__radd__',\n",
       " '__reduce__',\n",
       " '__reduce_ex__',\n",
       " '__repr__',\n",
       " '__rsub__',\n",
       " '__setattr__',\n",
       " '__sizeof__',\n",
       " '__str__',\n",
       " '__sub__',\n",
       " '__subclasshook__',\n",
       " 'ctime',\n",
       " 'day',\n",
       " 'fromisoformat',\n",
       " 'fromordinal',\n",
       " 'fromtimestamp',\n",
       " 'isocalendar',\n",
       " 'isoformat',\n",
       " 'isoweekday',\n",
       " 'max',\n",
       " 'min',\n",
       " 'month',\n",
       " 'replace',\n",
       " 'resolution',\n",
       " 'strftime',\n",
       " 'timetuple',\n",
       " 'today',\n",
       " 'toordinal',\n",
       " 'weekday',\n",
       " 'year']"
      ]
     },
     "execution_count": 163,
     "metadata": {},
     "output_type": "execute_result"
    }
   ],
   "source": [
    "dir(datetime.date)"
   ]
  },
  {
   "cell_type": "code",
   "execution_count": 164,
   "metadata": {
    "scrolled": true
   },
   "outputs": [
    {
     "data": {
      "text/plain": [
       "['__class__',\n",
       " '__delattr__',\n",
       " '__dir__',\n",
       " '__doc__',\n",
       " '__eq__',\n",
       " '__format__',\n",
       " '__ge__',\n",
       " '__getattribute__',\n",
       " '__gt__',\n",
       " '__hash__',\n",
       " '__init__',\n",
       " '__init_subclass__',\n",
       " '__le__',\n",
       " '__lt__',\n",
       " '__ne__',\n",
       " '__new__',\n",
       " '__reduce__',\n",
       " '__reduce_ex__',\n",
       " '__repr__',\n",
       " '__setattr__',\n",
       " '__sizeof__',\n",
       " '__str__',\n",
       " '__subclasshook__',\n",
       " 'dst',\n",
       " 'fold',\n",
       " 'fromisoformat',\n",
       " 'hour',\n",
       " 'isoformat',\n",
       " 'max',\n",
       " 'microsecond',\n",
       " 'min',\n",
       " 'minute',\n",
       " 'replace',\n",
       " 'resolution',\n",
       " 'second',\n",
       " 'strftime',\n",
       " 'tzinfo',\n",
       " 'tzname',\n",
       " 'utcoffset']"
      ]
     },
     "execution_count": 164,
     "metadata": {},
     "output_type": "execute_result"
    }
   ],
   "source": [
    "dir(datetime.time)"
   ]
  },
  {
   "cell_type": "code",
   "execution_count": 165,
   "metadata": {
    "scrolled": true
   },
   "outputs": [
    {
     "data": {
      "text/plain": [
       "['__add__',\n",
       " '__class__',\n",
       " '__delattr__',\n",
       " '__dir__',\n",
       " '__doc__',\n",
       " '__eq__',\n",
       " '__format__',\n",
       " '__ge__',\n",
       " '__getattribute__',\n",
       " '__gt__',\n",
       " '__hash__',\n",
       " '__init__',\n",
       " '__init_subclass__',\n",
       " '__le__',\n",
       " '__lt__',\n",
       " '__ne__',\n",
       " '__new__',\n",
       " '__radd__',\n",
       " '__reduce__',\n",
       " '__reduce_ex__',\n",
       " '__repr__',\n",
       " '__rsub__',\n",
       " '__setattr__',\n",
       " '__sizeof__',\n",
       " '__str__',\n",
       " '__sub__',\n",
       " '__subclasshook__',\n",
       " 'astimezone',\n",
       " 'combine',\n",
       " 'ctime',\n",
       " 'date',\n",
       " 'day',\n",
       " 'dst',\n",
       " 'fold',\n",
       " 'fromisoformat',\n",
       " 'fromordinal',\n",
       " 'fromtimestamp',\n",
       " 'hour',\n",
       " 'isocalendar',\n",
       " 'isoformat',\n",
       " 'isoweekday',\n",
       " 'max',\n",
       " 'microsecond',\n",
       " 'min',\n",
       " 'minute',\n",
       " 'month',\n",
       " 'now',\n",
       " 'replace',\n",
       " 'resolution',\n",
       " 'second',\n",
       " 'strftime',\n",
       " 'strptime',\n",
       " 'time',\n",
       " 'timestamp',\n",
       " 'timetuple',\n",
       " 'timetz',\n",
       " 'today',\n",
       " 'toordinal',\n",
       " 'tzinfo',\n",
       " 'tzname',\n",
       " 'utcfromtimestamp',\n",
       " 'utcnow',\n",
       " 'utcoffset',\n",
       " 'utctimetuple',\n",
       " 'weekday',\n",
       " 'year']"
      ]
     },
     "execution_count": 165,
     "metadata": {},
     "output_type": "execute_result"
    }
   ],
   "source": [
    "dir(datetime.datetime)"
   ]
  },
  {
   "cell_type": "code",
   "execution_count": null,
   "metadata": {},
   "outputs": [],
   "source": []
  }
 ],
 "metadata": {
  "kernelspec": {
   "display_name": "Python 3",
   "language": "python",
   "name": "python3"
  },
  "language_info": {
   "codemirror_mode": {
    "name": "ipython",
    "version": 3
   },
   "file_extension": ".py",
   "mimetype": "text/x-python",
   "name": "python",
   "nbconvert_exporter": "python",
   "pygments_lexer": "ipython3",
   "version": "3.7.3"
  }
 },
 "nbformat": 4,
 "nbformat_minor": 2
}
